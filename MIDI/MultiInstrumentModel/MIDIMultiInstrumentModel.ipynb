{
  "nbformat": 4,
  "nbformat_minor": 0,
  "metadata": {
    "colab": {
      "name": "MIDIMultiInstrumentModel.ipynb",
      "provenance": []
    },
    "kernelspec": {
      "display_name": "Python 3",
      "name": "python3"
    },
    "accelerator": "GPU"
  },
  "cells": [
    {
      "cell_type": "markdown",
      "metadata": {
        "id": "-YJCHgcz7cxh"
      },
      "source": [
        "# IMPORT SECTION"
      ]
    },
    {
      "cell_type": "code",
      "metadata": {
        "id": "PLllP-Xw0KWv",
        "colab": {
          "base_uri": "https://localhost:8080/"
        },
        "outputId": "6f2a77d9-ae28-4df4-b8b2-ff49ebff3d48"
      },
      "source": [
        "!pip install --upgrade music21\n",
        "from music21 import converter, instrument, note, chord\n",
        "import os\n",
        "from tqdm import tqdm\n",
        "import numpy as np\n",
        "from keras.utils import to_categorical\n",
        "from keras.models import Sequential\n",
        "from keras.layers import LSTM, Dense, Flatten, Dropout\n",
        "%load_ext tensorboard \n",
        "from tensorboard import notebook\n",
        "from keras.callbacks import TensorBoard\n",
        "from keras.callbacks import ReduceLROnPlateau\n",
        "from keras.callbacks import EarlyStopping"
      ],
      "execution_count": null,
      "outputs": [
        {
          "output_type": "stream",
          "text": [
            "Collecting music21\n",
            "\u001b[?25l  Downloading https://files.pythonhosted.org/packages/43/f3/da0ab10ffb5e58e2690b8dff310bb53f35af213a8853ec72c08df41ea080/music21-6.7.1.tar.gz (19.2MB)\n",
            "\u001b[K     |████████████████████████████████| 19.3MB 1.6MB/s \n",
            "\u001b[?25hRequirement already satisfied, skipping upgrade: chardet in /usr/local/lib/python3.7/dist-packages (from music21) (3.0.4)\n",
            "Requirement already satisfied, skipping upgrade: joblib in /usr/local/lib/python3.7/dist-packages (from music21) (1.0.1)\n",
            "Requirement already satisfied, skipping upgrade: more-itertools in /usr/local/lib/python3.7/dist-packages (from music21) (8.7.0)\n",
            "Collecting webcolors\n",
            "  Downloading https://files.pythonhosted.org/packages/12/05/3350559de9714b202e443a9e6312937341bd5f79f4e4f625744295e7dd17/webcolors-1.11.1-py3-none-any.whl\n",
            "Building wheels for collected packages: music21\n",
            "  Building wheel for music21 (setup.py) ... \u001b[?25l\u001b[?25hdone\n",
            "  Created wheel for music21: filename=music21-6.7.1-cp37-none-any.whl size=21941694 sha256=937dac716c34557fd31280d35fd83b88735feb8e7d3da287af0caaac0982bf84\n",
            "  Stored in directory: /root/.cache/pip/wheels/1a/0f/0e/f78ad56a2738f4ea5082dd4283d7b7cce18a8ba20c3e609b6c\n",
            "Successfully built music21\n",
            "Installing collected packages: webcolors, music21\n",
            "  Found existing installation: music21 5.5.0\n",
            "    Uninstalling music21-5.5.0:\n",
            "      Successfully uninstalled music21-5.5.0\n",
            "Successfully installed music21-6.7.1 webcolors-1.11.1\n"
          ],
          "name": "stdout"
        }
      ]
    },
    {
      "cell_type": "code",
      "metadata": {
        "id": "84R9ah2P0Uqc",
        "colab": {
          "base_uri": "https://localhost:8080/"
        },
        "outputId": "3e1a35b0-ef23-4e9f-b108-84ce66423bd7"
      },
      "source": [
        "from google.colab import drive\n",
        "\n",
        "drive.mount('/content/drive', force_remount=False)\n",
        "\n",
        "MIDI_PATH=\"/content/drive/My Drive/MLFolder/Onlab/MIDI_Iron_Maiden/\""
      ],
      "execution_count": null,
      "outputs": [
        {
          "output_type": "stream",
          "text": [
            "Mounted at /content/drive\n"
          ],
          "name": "stdout"
        }
      ]
    },
    {
      "cell_type": "code",
      "metadata": {
        "id": "FkVn4mWO7rde",
        "colab": {
          "base_uri": "https://localhost:8080/"
        },
        "outputId": "eb3c6f1d-8cda-445f-c56e-5cbf697a9f2d"
      },
      "source": [
        "!nvidia-smi"
      ],
      "execution_count": null,
      "outputs": [
        {
          "output_type": "stream",
          "text": [
            "Sun Mar 21 14:17:45 2021       \n",
            "+-----------------------------------------------------------------------------+\n",
            "| NVIDIA-SMI 460.56       Driver Version: 460.32.03    CUDA Version: 11.2     |\n",
            "|-------------------------------+----------------------+----------------------+\n",
            "| GPU  Name        Persistence-M| Bus-Id        Disp.A | Volatile Uncorr. ECC |\n",
            "| Fan  Temp  Perf  Pwr:Usage/Cap|         Memory-Usage | GPU-Util  Compute M. |\n",
            "|                               |                      |               MIG M. |\n",
            "|===============================+======================+======================|\n",
            "|   0  Tesla K80           Off  | 00000000:00:04.0 Off |                    0 |\n",
            "| N/A   73C    P8    34W / 149W |      0MiB / 11441MiB |      0%      Default |\n",
            "|                               |                      |                  N/A |\n",
            "+-------------------------------+----------------------+----------------------+\n",
            "                                                                               \n",
            "+-----------------------------------------------------------------------------+\n",
            "| Processes:                                                                  |\n",
            "|  GPU   GI   CI        PID   Type   Process name                  GPU Memory |\n",
            "|        ID   ID                                                   Usage      |\n",
            "|=============================================================================|\n",
            "|  No running processes found                                                 |\n",
            "+-----------------------------------------------------------------------------+\n"
          ],
          "name": "stdout"
        }
      ]
    },
    {
      "cell_type": "markdown",
      "metadata": {
        "id": "CM8sPao2nNIk"
      },
      "source": [
        "# UTILITY FUNCTIONS SECTION"
      ]
    },
    {
      "cell_type": "code",
      "metadata": {
        "id": "8diYXI5InMZZ"
      },
      "source": [
        "def most_frequent(paramlist): \n",
        "    #https://www.geeksforgeeks.org/python-find-most-frequent-element-in-a-list/\n",
        "    counter = 0\n",
        "    num = paramlist[0] \n",
        "      \n",
        "    for i in paramlist: \n",
        "        curr_frequency = paramlist.count(i) \n",
        "        if(curr_frequency> counter): \n",
        "            counter = curr_frequency \n",
        "            num = i \n",
        "  \n",
        "    return num \n",
        "\n",
        "def get_notes_from_chord(chord):\n",
        "    if chord.startswith(\"<music21.chord.Chord \"):\n",
        "        chord = chord[len(\"<music21.chord.Chord \"):]\n",
        "    if chord.endswith(\">\"):\n",
        "        chord = chord[:-1]\n",
        "    chord = chord.replace(\" \", \",\")\n",
        "    return chord\n",
        "\n",
        "def get_number_from_duration(duration):\n",
        "    if duration.startswith(\"<music21.duration.Duration \"):\n",
        "        duration = duration[len(\"<music21.duration.Duration \"):]\n",
        "    if duration.endswith(\">\"):\n",
        "        duration = duration[:-1]\n",
        "    duration = duration.replace(\" \", \",\")\n",
        "    return duration\n",
        "\n",
        "def create_mapper(chords):\n",
        "    pitchnames = sorted(set(str(item) for item in chords))\n",
        "    mapper = dict((note, number) for number, note in enumerate(pitchnames))\n",
        "\n",
        "    return mapper\n",
        "\n",
        "def encode_using_mapper(chords, mapper):\n",
        "    encodedsong=[]\n",
        "    for c in chords:\n",
        "        encodedsong.append(mapper[str(c)])\n",
        "\n",
        "    return encodedsong\n",
        "\n",
        "\n",
        "def decode_chords_using_mapper(numbers, mapper):\n",
        "    outputnotes = []\n",
        "    for number in numbers:\n",
        "        outputnotes.append(chord_from_string(get_notes_from_chord(get_key_from_value(number, mapper))))\n",
        "\n",
        "    return outputnotes\n",
        "\n",
        "def combine_chords_with_durations(chords, durations):\n",
        "    combined = []\n",
        "\n",
        "    for i, j in zip(chords, durations):\n",
        "        i = get_notes_from_chord(str(i))\n",
        "        j = get_number_from_duration(str(j))\n",
        "        combined.append(i + ';' + j)\n",
        "\n",
        "    return combined\n",
        "\n",
        "def make_slices(data, slice_length):\n",
        "    for song in tqdm(data):\n",
        "        if len(song) > slice_length:\n",
        "\n",
        "            input = []\n",
        "            output = []\n",
        "            slice = []\n",
        "\n",
        "            for idx, number in enumerate(song):\n",
        "                if idx < slice_length:\n",
        "                    slice.append(number)\n",
        "\n",
        "            input.append(slice.copy())\n",
        "            output.append(song[slice_length])\n",
        "\n",
        "            # Sliding window\n",
        "            for idx, number in enumerate(song):\n",
        "                if idx >= slice_length and (idx + 1) < len(song):\n",
        "                    slice.pop(0)\n",
        "                    slice.append(number)\n",
        "                    input.append(slice.copy())  # Copy is necessary, because of how pointers and lists work in Python\n",
        "                    output.append(song[idx + 1])\n",
        "\n",
        "    return input, output\n",
        "\n",
        "def parse_everything_together(data, slice_length):\n",
        "\n",
        "    notes=[]\n",
        "    input=[]\n",
        "    output=[]\n",
        "    slice = []\n",
        "\n",
        "    for song in tqdm(data):\n",
        "        for number in song:\n",
        "            notes.append(number)\n",
        "    \n",
        "    for idx, note in tqdm(enumerate(notes)):\n",
        "        if idx < slice_length:\n",
        "            slice.append(number)\n",
        "\n",
        "    input.append(slice.copy())\n",
        "    output.append(notes[slice_length])\n",
        "\n",
        "    # Sliding window\n",
        "    for idx, number in tqdm(enumerate(notes)):\n",
        "        if idx >= slice_length and (idx + 1) < len(notes):\n",
        "            slice.pop(0)\n",
        "            slice.append(number)\n",
        "            input.append(slice.copy())  # Copy is necessary, because of how pointers and lists work in Python\n",
        "            output.append(notes[idx + 1])\n",
        "        \n",
        "    return input, output\n",
        "\n",
        "def get_key_from_value(value, dict):\n",
        "    return list(dict.keys())[list(dict.values()).index(value)]\n",
        "\n",
        "def get_notes_from_chord(chord):\n",
        "    if chord.startswith(\"<music21.chord.Chord \"):\n",
        "        chord = chord[len(\"<music21.chord.Chord \"):]\n",
        "    if chord.endswith(\">\"):\n",
        "        chord = chord[:-1]\n",
        "    chord = chord.replace(\" \", \",\")\n",
        "    return chord\n",
        "\n",
        "def get_number_from_duration(duration):\n",
        "    if duration.startswith(\"<music21.duration.Duration \"):\n",
        "        duration = duration[len(\"<music21.duration.Duration \"):]\n",
        "    if duration.endswith(\">\"):\n",
        "        duration = duration[:-1]\n",
        "    duration = duration.replace(\" \", \",\")\n",
        "    return duration\n",
        "\n",
        "def chord_from_string(chordstring):\n",
        "    notes = chordstring.split(\";\")\n",
        "    return chord.Chord(notes)\n",
        "\n",
        "#From: https://stackoverflow.com/questions/1806278/convert-fraction-to-float\n",
        "def convert_to_float(frac_str):\n",
        "    try:\n",
        "        return float(frac_str)\n",
        "    except ValueError:\n",
        "        num, denom = frac_str.split('/')\n",
        "        try:\n",
        "            leading, num = num.split(' ')\n",
        "            whole = float(leading)\n",
        "        except ValueError:\n",
        "            whole = 0\n",
        "        frac = float(num) / float(denom)\n",
        "        return whole - frac if whole < 0 else whole + frac\n",
        "\n",
        "#Source: https://github.com/alexissa32/DataScienceMusic\n",
        "def create_midi_without_chords(prediction_output, target_instrument = instrument.Piano(), filename = 'test_output.mid'):\n",
        "    '''\n",
        "    First step:\n",
        "    Only notes, no chords\n",
        "    Static 4/4 beat\n",
        "    Rests\n",
        "    '''\n",
        "    offset = 0\n",
        "    output_notes = []\n",
        "\n",
        "    # create note and chord objects based on the values generated by the model\n",
        "    for pattern in prediction_output:\n",
        "        # pattern is a rest\n",
        "        if('rest' in pattern):\n",
        "            new_rest = note.Rest(pattern)\n",
        "            new_rest.offset = offset\n",
        "            new_rest.storedInstrument = target_instrument #???\n",
        "            output_notes.append(new_rest)\n",
        "        # pattern is a note\n",
        "        else:\n",
        "            new_note = note.Note(pattern)\n",
        "            new_note.offset = offset\n",
        "            new_note.storedInstrument = target_instrument\n",
        "            output_notes.append(new_note)\n",
        "        # increase offset each iteration so that notes do not stack\n",
        "        offset += 0.5\n",
        "\n",
        "    midi_stream = stream.Stream(output_notes)\n",
        "\n",
        "    midi_stream.write('midi', fp=filename)\n",
        "\n",
        "def create_midi_without_durations(prediction_output, target_instrument = instrument.Piano(), filename = 'test_output.mid'):\n",
        "    '''\n",
        "    Second step:\n",
        "    Chords and notes\n",
        "    Static 4/4 beat\n",
        "    Rests\n",
        "    '''\n",
        "    offset = 0\n",
        "    output_notes = []\n",
        "\n",
        "    # create note and chord objects based on the values generated by the model\n",
        "    for pattern in prediction_output:\n",
        "        # pattern is a chord\n",
        "        if ('chord' in pattern):\n",
        "            notes = []\n",
        "            pattern = get_notes_from_chord(pattern)\n",
        "            patternpitches = pattern.split(',')\n",
        "            for current_note in patternpitches:\n",
        "                new_note = note.Note(current_note)\n",
        "                new_note.storedInstrument = target_instrument\n",
        "                notes.append(new_note)\n",
        "            new_chord = chord.Chord(notes)\n",
        "            new_chord.offset = offset\n",
        "            output_notes.append(new_chord)\n",
        "        # pattern is a rest\n",
        "        elif('rest' in pattern):\n",
        "            new_rest = note.Rest(pattern)\n",
        "            new_rest.offset = offset\n",
        "            new_rest.storedInstrument = target_instrument #???\n",
        "            output_notes.append(new_rest)\n",
        "        # pattern is a note\n",
        "        else:\n",
        "            new_note = note.Note(pattern)\n",
        "            new_note.offset = offset\n",
        "            new_note.storedInstrument = target_instrument\n",
        "            output_notes.append(new_note)\n",
        "        # increase offset each iteration so that notes do not stack\n",
        "        offset += 0.5\n",
        "\n",
        "    midi_stream = stream.Stream(output_notes)\n",
        "\n",
        "    midi_stream.write('midi', fp=filename)\n",
        "\n",
        "def create_midi_with_durations(prediction_output, target_instrument = instrument.Piano(), filename = 'test_output.mid'):\n",
        "    offset = 0\n",
        "    output_notes = []\n",
        "\n",
        "    # create note and chord objects based on the values generated by the model\n",
        "    for i in range(len(prediction_output)):\n",
        "        pattern = prediction_output[i]\n",
        "        splitpattern = pattern.split(\";\")\n",
        "        pattern = splitpattern[0]\n",
        "\n",
        "        duration = get_number_from_duration(splitpattern[1])\n",
        "        # pattern is a chord\n",
        "        if ('chord' in pattern):\n",
        "            notes = []\n",
        "            pattern = get_notes_from_chord(pattern)\n",
        "            patternpitches = pattern.split(',')\n",
        "            for current_note in patternpitches:\n",
        "                new_note = note.Note(current_note)\n",
        "                new_note.storedInstrument = target_instrument\n",
        "                notes.append(new_note)\n",
        "            new_chord = chord.Chord(notes)\n",
        "            new_chord.offset = offset\n",
        "            output_notes.append(new_chord)\n",
        "        # pattern is a rest\n",
        "        elif('rest' in pattern):\n",
        "            new_rest = note.Rest(pattern)\n",
        "            new_rest.offset = offset\n",
        "            new_rest.storedInstrument = target_instrument #???\n",
        "            output_notes.append(new_rest)\n",
        "        # pattern is a note\n",
        "        else:\n",
        "            new_note = note.Note(pattern)\n",
        "            new_note.offset = offset\n",
        "            new_note.storedInstrument = target_instrument\n",
        "            output_notes.append(new_note)\n",
        "        # increase offset each iteration so that notes do not stack\n",
        "        offset += convert_to_float(duration)\n",
        "\n",
        "    midi_stream = stream.Stream(output_notes)\n",
        "\n",
        "    midi_stream.write('midi', fp=filename)\n",
        "\n",
        "def create_midi_with_embedded_durations(prediction_output, target_instrument = instrument.Piano(), filename = 'test_output.mid'):\n",
        "    offset = 0\n",
        "    output_notes = []\n",
        "\n",
        "    # create note and chord objects based on the values generated by the model\n",
        "    for i in range(len(prediction_output)):\n",
        "        pattern = prediction_output[i]\n",
        "        splitpattern = pattern.split(\";\")\n",
        "        pattern = splitpattern[0]\n",
        "\n",
        "        duration = get_number_from_duration(splitpattern[1])\n",
        "        # pattern is a rest\n",
        "        if('rest' in pattern):\n",
        "            new_rest = note.Rest(pattern)\n",
        "            new_rest.offset = offset\n",
        "            new_rest.storedInstrument = target_instrument #???\n",
        "            output_notes.append(new_rest)\n",
        "        # pattern is a chord\n",
        "        elif (',' in pattern):\n",
        "            notes = []\n",
        "            pattern = get_notes_from_chord(pattern)\n",
        "            patternpitches = pattern.split(',')\n",
        "            for current_note in patternpitches:\n",
        "                new_note = note.Note(current_note)\n",
        "                new_note.storedInstrument = target_instrument\n",
        "                notes.append(new_note)\n",
        "            new_chord = chord.Chord(notes)\n",
        "            new_chord.offset = offset\n",
        "            output_notes.append(new_chord)\n",
        "        # pattern is a note\n",
        "        else:\n",
        "            new_note = note.Note(pattern)\n",
        "            new_note.offset = offset\n",
        "            new_note.storedInstrument = target_instrument\n",
        "            output_notes.append(new_note)\n",
        "        # increase offset each iteration so that notes do not stack\n",
        "        offset += convert_to_float(duration)\n",
        "\n",
        "    midi_stream = stream.Stream(output_notes)\n",
        "\n",
        "    midi_stream.write('midi', fp=filename)\n",
        "\n",
        "def parse_midi_notes_and_durations():\n",
        "    midiparts = []\n",
        "\n",
        "    for file in tqdm(os.listdir(path)):\n",
        "        midi = converter.parse(os.path.join(path, file))\n",
        "\n",
        "        for part in midi.parts:\n",
        "            chords=[]\n",
        "            durations=[]\n",
        "            for element in part.notesAndRests:\n",
        "                if isinstance(element, note.Note):\n",
        "                    chords.append(chord.Chord([element]))\n",
        "                    durations.append(element.duration)\n",
        "                elif isinstance(element, chord.Chord):\n",
        "                    chords.append(element)\n",
        "                    durations.append(element.duration)\n",
        "                elif isinstance(element, note.Rest):\n",
        "                    chords.append(element)\n",
        "                    durations.append(element.duration)\n",
        "\n",
        "            if len(chords) > 0:\n",
        "                midiparts.append(MidiPart(file, part.partName, chords, durations))\n",
        "            else:\n",
        "                for voice in part.voices:\n",
        "                    chords=[]\n",
        "                    durations=[]\n",
        "                    for element in voice.notesAndRests:\n",
        "                        if isinstance(element, note.Note):\n",
        "                            chords.append(chord.Chord([element]))\n",
        "                            durations.append(element.duration)\n",
        "                        elif isinstance(element, chord.Chord):\n",
        "                            chords.append(element)\n",
        "                            durations.append(element.duration)\n",
        "                        elif isinstance(element, note.Rest):\n",
        "                            chords.append(element)\n",
        "                            durations.append(element.duration)\n",
        "\n",
        "                    midiparts.append(MidiPart(file, part.partName, chords, durations))\n",
        "        \n",
        "    return midiparts"
      ],
      "execution_count": null,
      "outputs": []
    },
    {
      "cell_type": "code",
      "metadata": {
        "id": "Gs_68k5hAFq0"
      },
      "source": [
        "from music21.stream import Part\n",
        "\n",
        "def create_midipart_with_durations(prediction_output, target_instrument = instrument.Piano(), filename = 'test_output.mid'):\n",
        "    offset = 0\n",
        "    output_notes = []\n",
        "\n",
        "    # create note and chord objects based on the values generated by the model\n",
        "    for i in range(len(prediction_output)):\n",
        "        pattern = prediction_output[i]\n",
        "        splitpattern = pattern.split(\";\")\n",
        "        pattern = splitpattern[0]\n",
        "\n",
        "        duration = get_number_from_duration(splitpattern[1])\n",
        "        # pattern is a chord\n",
        "        if ('chord' in pattern):\n",
        "            notes = []\n",
        "            pattern = get_notes_from_chord(pattern)\n",
        "            patternpitches = pattern.split(',')\n",
        "            for current_note in patternpitches:\n",
        "                new_note = note.Note(current_note)\n",
        "                new_note.storedInstrument = target_instrument\n",
        "                notes.append(new_note)\n",
        "            new_chord = chord.Chord(notes)\n",
        "            new_chord.offset = offset\n",
        "            output_notes.append(new_chord)\n",
        "        # pattern is a rest\n",
        "        elif('rest' in pattern):\n",
        "            new_rest = note.Rest(pattern)\n",
        "            new_rest.offset = offset\n",
        "            new_rest.storedInstrument = target_instrument #???\n",
        "            output_notes.append(new_rest)\n",
        "        # pattern is a note\n",
        "        else:\n",
        "            new_note = note.Note(pattern)\n",
        "            new_note.offset = offset\n",
        "            new_note.storedInstrument = target_instrument\n",
        "            output_notes.append(new_note)\n",
        "        # increase offset each iteration so that notes do not stack\n",
        "        offset += convert_to_float(duration)\n",
        "\n",
        "    midipart = stream.Part(output_notes)\n",
        "    \n",
        "    return midipart\n",
        "\n",
        "    #midi_stream.write('midi', fp=filename)"
      ],
      "execution_count": null,
      "outputs": []
    },
    {
      "cell_type": "markdown",
      "metadata": {
        "id": "JZmPvxwV7mW6"
      },
      "source": [
        "# PREPROCESSING SECTION"
      ]
    },
    {
      "cell_type": "code",
      "metadata": {
        "id": "zxQJTnIDF76s"
      },
      "source": [
        "class MidiPart:\n",
        "    def __init__(self, song, instrument, chords, durations):\n",
        "        self.song = song\n",
        "        self.instrument = instrument\n",
        "        self.chords = chords\n",
        "        self.durations = durations\n",
        "\n",
        "\n",
        "path = MIDI_PATH\n",
        "\n",
        "IRON_MAIDEN_INSTRUMENTS = ['Acoustic Guitar', 'Viola', 'Electric Bass', 'Brass', 'Sampler', 'Electric Guitar', 'Piano', 'StringInstrument']\n",
        "\n",
        "TARGET_INSTRUMENT = 'Electric Guitar'\n",
        "TARGET_INSTRUMENT_2 = 'Electric Bass' \n",
        "\n",
        "SLICE_LEN = 20\n",
        "\n",
        "\n"
      ],
      "execution_count": null,
      "outputs": []
    },
    {
      "cell_type": "code",
      "metadata": {
        "colab": {
          "base_uri": "https://localhost:8080/"
        },
        "id": "gKRjNr5kGLZs",
        "outputId": "33b692f5-ce27-4f97-821e-b0197da71c0d"
      },
      "source": [
        "midiparts = parse_midi_notes_and_durations()"
      ],
      "execution_count": null,
      "outputs": [
        {
          "output_type": "stream",
          "text": [
            "100%|██████████| 93/93 [17:14<00:00, 11.12s/it]\n"
          ],
          "name": "stderr"
        }
      ]
    },
    {
      "cell_type": "code",
      "metadata": {
        "id": "TCIW-4f0HDiv"
      },
      "source": [
        "allchords = []\n",
        "alldurations = []\n",
        "\n",
        "for i in midiparts:\n",
        "    if i.instrument == TARGET_INSTRUMENT:\n",
        "        if len(i.chords)>0 :\n",
        "            allchords.append(i.chords)\n",
        "            alldurations.append(i.durations)\n"
      ],
      "execution_count": null,
      "outputs": []
    },
    {
      "cell_type": "code",
      "metadata": {
        "id": "dgoibxz_nnE1"
      },
      "source": [
        "allbasschords = []\n",
        "allbassdurations = []\n",
        "\n",
        "for i in midiparts:\n",
        "    if i.instrument == TARGET_INSTRUMENT_2:\n",
        "        if len(i.chords)>0 :\n",
        "            allbasschords.append(i.chords)\n",
        "            allbassdurations.append(i.durations)"
      ],
      "execution_count": null,
      "outputs": []
    },
    {
      "cell_type": "code",
      "metadata": {
        "id": "y50ZyJAQWGbq"
      },
      "source": [
        "alldrumchords = []\n",
        "alldrumdurations = []\n",
        "\n",
        "for i in midiparts:\n",
        "    if i.instrument == 'Piano': #Drum track is shown as piano.\n",
        "        if len(i.chords)>0 :\n",
        "            alldrumchords.append(i.chords)\n",
        "            alldrumdurations.append(i.durations)"
      ],
      "execution_count": null,
      "outputs": []
    },
    {
      "cell_type": "code",
      "metadata": {
        "id": "CSSAGDrKIUqE"
      },
      "source": [
        "#I create the Note/Chord/Rest to Number mapper here.\n",
        "\n",
        "mapperdata = []\n",
        "durationmapperdata = []\n",
        "\n",
        "for i in allchords:\n",
        "    for j in i:\n",
        "        mapperdata.append(j)\n",
        "\n",
        "for i in alldurations:\n",
        "    for j in i:\n",
        "        durationmapperdata.append(j)\n",
        "\n",
        "mapper = create_mapper(mapperdata)\n",
        "durationmapper = create_mapper(durationmapperdata)\n",
        "\n",
        "#I encode the data here using the mapper.\n",
        "\n",
        "encoded_data = []\n",
        "encoded_durations = []\n",
        "\n",
        "\n",
        "for i in range(len(allchords)):\n",
        "    encoded = encode_using_mapper(allchords[i], mapper)\n",
        "    encoded_data.append(encoded)\n",
        "    encoded_dur = encode_using_mapper(alldurations[i], durationmapper)\n",
        "    encoded_durations.append(encoded_dur)\n",
        "    \n",
        "\n",
        "assert(len(encoded_data)==len(encoded_durations))\n",
        "\n",
        "#I filter out those chord sequences, which are majorly rests. I do this because I don't want the network to make a song, which contains nothing, but rests. Our dataset has about 100 guitar tracks, which contain rests for the majority of the track, and a guitar solo near the end.\n",
        "#An upgrade for this could be that I don't just delete those tracks from the dataset, but only filter out the rests, and leave the guitar solo in.\n",
        "\n",
        "\n",
        "restkeysvalues = []\n",
        "for j in mapper.keys():\n",
        "    if ( 'rest' in j):\n",
        "        restkeysvalues.append(mapper[j])\n",
        "\n",
        "cleared_encoded_data=[]\n",
        "cleared_encoded_durations=[]\n",
        "\n",
        "\n",
        "for i in range(len(encoded_data)):\n",
        "    if most_frequent(encoded_data[i]) not in restkeysvalues:\n",
        "        cleared_encoded_data.append(encoded_data[i])\n",
        "        cleared_encoded_durations.append(encoded_durations[i])\n",
        "    else:\n",
        "        pass"
      ],
      "execution_count": null,
      "outputs": []
    },
    {
      "cell_type": "code",
      "metadata": {
        "id": "2ND8CghonoSP"
      },
      "source": [
        "bass_mapperdata = []\n",
        "bass_durationmapperdata = []\n",
        "\n",
        "for i in allbasschords:\n",
        "    for j in i:\n",
        "        bass_mapperdata.append(j)\n",
        "\n",
        "for i in allbassdurations:\n",
        "    for j in i:\n",
        "        bass_durationmapperdata.append(j)\n",
        "\n",
        "bass_mapper = create_mapper(bass_mapperdata)\n",
        "bass_durationmapper = create_mapper(bass_durationmapperdata)\n",
        "\n",
        "\n",
        "encoded_bass = []\n",
        "encoded_bass_durations = []\n",
        "\n",
        "\n",
        "for i in range(len(allbasschords)):\n",
        "    encoded_b = encode_using_mapper(allbasschords[i], bass_mapper)\n",
        "    encoded_bass.append(encoded_b)\n",
        "    encoded_b_dur = encode_using_mapper(allbassdurations[i], bass_durationmapper)\n",
        "    encoded_bass_durations.append(encoded_b_dur)"
      ],
      "execution_count": null,
      "outputs": []
    },
    {
      "cell_type": "code",
      "metadata": {
        "id": "Bks91QdCWudd"
      },
      "source": [
        "drum_mapperdata = []\n",
        "drum_durationmapperdata = []\n",
        "\n",
        "for i in alldrumchords:\n",
        "    for j in i:\n",
        "        drum_mapperdata.append(j)\n",
        "\n",
        "for i in alldrumdurations:\n",
        "    for j in i:\n",
        "        drum_durationmapperdata.append(j)\n",
        "\n",
        "drum_mapper = create_mapper(drum_mapperdata)\n",
        "drum_durationmapper = create_mapper(drum_durationmapperdata)\n",
        "\n",
        "encoded_drum = []\n",
        "encoded_drum_durations = []\n",
        "\n",
        "\n",
        "for i in range(len(alldrumchords)):\n",
        "    encoded_d = encode_using_mapper(alldrumchords[i], drum_mapper)\n",
        "    encoded_drum.append(encoded_d)\n",
        "    encoded_d_dur = encode_using_mapper(alldrumdurations[i], drum_durationmapper)\n",
        "    encoded_drum_durations.append(encoded_d_dur)"
      ],
      "execution_count": null,
      "outputs": []
    },
    {
      "cell_type": "code",
      "metadata": {
        "colab": {
          "base_uri": "https://localhost:8080/"
        },
        "id": "nx68OCc8zJ4j",
        "outputId": "5a495bbf-8137-4cb1-fc38-8ca93eb08e8a"
      },
      "source": [
        "note_input, note_output = parse_everything_together(cleared_encoded_data, SLICE_LEN)\n",
        "dur_input, dur_output = parse_everything_together(cleared_encoded_durations, SLICE_LEN)\n",
        "bass_note_input, bass_note_output = parse_everything_together(encoded_bass, SLICE_LEN)\n",
        "bass_dur_input, bass_dur_output = parse_everything_together(encoded_bass_durations, SLICE_LEN)\n",
        "drum_note_input, drum_note_output = parse_everything_together(encoded_drum, SLICE_LEN)\n",
        "drum_dur_input, drum_dur_output = parse_everything_together(encoded_drum_durations, SLICE_LEN)"
      ],
      "execution_count": null,
      "outputs": [
        {
          "output_type": "stream",
          "text": [
            "100%|██████████| 348/348 [00:00<00:00, 21203.97it/s]\n",
            "225249it [00:00, 2272501.08it/s]\n",
            "225249it [00:00, 631570.67it/s]\n",
            "100%|██████████| 348/348 [00:00<00:00, 23634.86it/s]\n",
            "225249it [00:00, 2351653.74it/s]\n",
            "225249it [00:00, 774673.21it/s]\n",
            "100%|██████████| 107/107 [00:00<00:00, 8826.99it/s]\n",
            "163003it [00:00, 2592580.18it/s]\n",
            "163003it [00:00, 742697.38it/s]\n",
            "100%|██████████| 107/107 [00:00<00:00, 7594.78it/s]\n",
            "163003it [00:00, 2431179.47it/s]\n",
            "163003it [00:00, 725201.95it/s]\n",
            "100%|██████████| 127/127 [00:00<00:00, 11756.79it/s]\n",
            "146756it [00:00, 2456467.93it/s]\n",
            "146756it [00:00, 676475.52it/s]\n",
            "100%|██████████| 127/127 [00:00<00:00, 11564.34it/s]\n",
            "146756it [00:00, 2542584.13it/s]\n",
            "146756it [00:00, 749335.35it/s]\n"
          ],
          "name": "stderr"
        }
      ]
    },
    {
      "cell_type": "code",
      "metadata": {
        "colab": {
          "base_uri": "https://localhost:8080/",
          "height": 761
        },
        "id": "Kn6rNcUb9uGo",
        "outputId": "0e2984b8-9d36-47c1-943b-d8a0908d92f2"
      },
      "source": [
        "import matplotlib.pyplot as plt\n",
        "from collections import Counter\n",
        "\n",
        "note_outputcnt = Counter(note_output)\n",
        "plt.bar(note_outputcnt.keys(), note_outputcnt.values())\n",
        "plt.show()\n",
        "\n",
        "function_like_array=[]\n",
        "for val in note_outputcnt.values():\n",
        "    function_like_array.append(val)\n",
        "\n",
        "function_like_array.sort()\n",
        "plt.plot(function_like_array)\n",
        "plt.show()\n",
        "#Plot it on log scale as well\n",
        "plt.yscale('log')\n",
        "plt.plot(function_like_array)\n",
        "plt.show()"
      ],
      "execution_count": null,
      "outputs": [
        {
          "output_type": "display_data",
          "data": {
            "image/png": "[encoded data removed]",
            "text/plain": [
              "<Figure size 432x288 with 1 Axes>"
            ]
          },
          "metadata": {
            "tags": [],
            "image/png": {
              "width": 388,
              "height": 248
            },
            "needs_background": "light"
          }
        },
        {
          "output_type": "display_data",
          "data": {
            "image/png": "[encoded data removed]",
            "text/plain": [
              "<Figure size 432x288 with 1 Axes>"
            ]
          },
          "metadata": {
            "tags": [],
            "image/png": {
              "width": 388,
              "height": 248
            },
            "needs_background": "light"
          }
        },
        {
          "output_type": "display_data",
          "data": {
            "image/png": "[encoded data removed]",
            "text/plain": [
              "<Figure size 432x288 with 1 Axes>"
            ]
          },
          "metadata": {
            "tags": [],
            "image/png": {
              "width": 374,
              "height": 248
            },
            "needs_background": "light"
          }
        }
      ]
    },
    {
      "cell_type": "code",
      "metadata": {
        "colab": {
          "base_uri": "https://localhost:8080/",
          "height": 761
        },
        "id": "Qh1tbRVqjYNf",
        "outputId": "94c22494-6f36-4092-f5a6-90b4682d9ce2"
      },
      "source": [
        "import matplotlib.pyplot as plt\n",
        "from collections import Counter\n",
        "\n",
        "dur_outputcnt = Counter(dur_output)\n",
        "plt.bar(dur_outputcnt.keys(), dur_outputcnt.values())\n",
        "plt.show()\n",
        "\n",
        "function_like_array=[]\n",
        "for val in dur_outputcnt.values():\n",
        "    function_like_array.append(val)\n",
        "\n",
        "function_like_array.sort()\n",
        "plt.plot(function_like_array)\n",
        "plt.show()\n",
        "#Plot it on log scale as well\n",
        "plt.yscale('log')\n",
        "plt.plot(function_like_array)\n",
        "plt.show()"
      ],
      "execution_count": null,
      "outputs": [
        {
          "output_type": "display_data",
          "data": {
            "image/png": "[encoded data removed]",
            "text/plain": [
              "<Figure size 432x288 with 1 Axes>"
            ]
          },
          "metadata": {
            "tags": [],
            "image/png": {
              "width": 394,
              "height": 248
            },
            "needs_background": "light"
          }
        },
        {
          "output_type": "display_data",
          "data": {
            "image/png": "[encoded data removed]",
            "text/plain": [
              "<Figure size 432x288 with 1 Axes>"
            ]
          },
          "metadata": {
            "tags": [],
            "image/png": {
              "width": 394,
              "height": 248
            },
            "needs_background": "light"
          }
        },
        {
          "output_type": "display_data",
          "data": {
            "image/png": "[encoded data removed]",
            "text/plain": [
              "<Figure size 432x288 with 1 Axes>"
            ]
          },
          "metadata": {
            "tags": [],
            "image/png": {
              "width": 374,
              "height": 248
            },
            "needs_background": "light"
          }
        }
      ]
    },
    {
      "cell_type": "code",
      "metadata": {
        "colab": {
          "base_uri": "https://localhost:8080/"
        },
        "id": "i4ASW1QR_5Yu",
        "outputId": "f6f1b6e5-c546-4d1d-d420-d61b0d2ec6ae"
      },
      "source": [
        "note_outliers = []\n",
        "dur_outliers = []\n",
        "\n",
        "for i in note_outputcnt.keys():\n",
        "    if note_outputcnt[i] < 5:\n",
        "        note_outliers.append(i)\n",
        "\n",
        "for i in dur_outputcnt.keys():\n",
        "    if dur_outputcnt[i] < 5:\n",
        "        dur_outliers.append(i)\n",
        "\n",
        "print(len(note_outliers))\n",
        "print(len(dur_outliers))"
      ],
      "execution_count": null,
      "outputs": [
        {
          "output_type": "stream",
          "text": [
            "199\n",
            "236\n"
          ],
          "name": "stdout"
        }
      ]
    },
    {
      "cell_type": "code",
      "metadata": {
        "id": "xkujCJyFBAQw"
      },
      "source": [
        "#Because I don't want to mess up my inputs and outputs, I test their lengths before and after the outlier filtering.\n",
        "assert(len(note_input) == len(note_output) == len(dur_input) == len(dur_output))\n",
        "\n",
        "new_note_input = []\n",
        "new_note_output = []\n",
        "new_duration_input = []\n",
        "new_duration_output = []\n",
        "\n",
        "for i in range(len(note_output)):\n",
        "    if(note_output[i] not in note_outliers) and (dur_output[i] not in dur_outliers):\n",
        "        new_note_input.append(note_input[i])\n",
        "        new_note_output.append(note_output[i])\n",
        "        new_duration_input.append(dur_input[i])\n",
        "        new_duration_output.append(dur_output[i])\n",
        "\n",
        "note_input = new_note_input\n",
        "note_output = new_note_output\n",
        "dur_input = new_duration_input\n",
        "dur_output = new_duration_output\n",
        "\n",
        "assert(len(note_input) == len(note_output) == len(dur_input) == len(dur_output))"
      ],
      "execution_count": null,
      "outputs": []
    },
    {
      "cell_type": "code",
      "metadata": {
        "id": "nx64ocEIIVzY"
      },
      "source": [
        "#However, this outlier filtering made things complicated. Now I have to make a new mapper, so that i won't end up with output classes containing 0 elements.\n",
        "\n",
        "note_mapper_list = [] #Idx of the mapper list is the new value, the element is the old value.\n",
        "dur_mapper_list = []\n",
        "new_note_output_elements = set(note_output)\n",
        "new_dur_output_elements = set(dur_output)\n",
        "\n",
        "for i in new_note_output_elements:\n",
        "    note_mapper_list.append(i)\n",
        "\n",
        "for i in new_dur_output_elements:\n",
        "    dur_mapper_list.append(i)\n",
        "\n",
        "new_note_output = []\n",
        "new_dur_output = []\n",
        "\n",
        "for i in note_output:\n",
        "    new_note_output.append(note_mapper_list.index(i))\n",
        "\n",
        "for i in dur_output:\n",
        "    new_dur_output.append(dur_mapper_list.index(i))\n",
        "\n",
        "note_output = new_note_output\n",
        "dur_output = new_dur_output"
      ],
      "execution_count": null,
      "outputs": []
    },
    {
      "cell_type": "code",
      "metadata": {
        "id": "JastNnOpLOxB"
      },
      "source": [
        "#Reshaping the input data to be compatible with LSTMs and normalizing it in the hope of better learning.\n",
        "\n",
        "note_input = np.reshape(np.asarray(note_input), (len(note_input), SLICE_LEN, 1))\n",
        "note_output = to_categorical(note_output)\n",
        "\n",
        "note_input=np.asarray(note_input) / float(len(mapper))\n",
        "note_output=np.asarray(note_output)\n",
        "\n",
        "\n",
        "dur_input = np.reshape(np.asarray(dur_input), (len(dur_input), SLICE_LEN, 1))\n",
        "dur_output = to_categorical(dur_output)\n",
        "\n",
        "dur_input=np.asarray(dur_input) / float(len(durationmapper))\n",
        "dur_output=np.asarray(dur_output)\n"
      ],
      "execution_count": null,
      "outputs": []
    },
    {
      "cell_type": "code",
      "metadata": {
        "id": "eGZKRxQgUidf"
      },
      "source": [
        "bass_note_input = np.reshape(np.asarray(bass_note_input), (len(bass_note_input), SLICE_LEN, 1))\n",
        "bass_note_output = to_categorical(bass_note_output)\n",
        "\n",
        "bass_note_input=np.asarray(bass_note_input) / float(len(bass_mapper))\n",
        "bass_note_output=np.asarray(bass_note_output)\n",
        "\n",
        "#Im not using bass durations now.\n",
        "#bass_dur_input = np.reshape(np.asarray(bass_dur_input), (len(bass_dur_input), SLICE_LEN, 1))\n",
        "#bass_dur_output = to_categorical(bass_dur_output)\n",
        "\n",
        "#bass_dur_input=np.asarray(bass_dur_input) / float(len(bass_durationmapper))\n",
        "#bass_dur_output=np.asarray(bass_dur_output)"
      ],
      "execution_count": null,
      "outputs": []
    },
    {
      "cell_type": "code",
      "metadata": {
        "id": "gIh_YkvViVQ9"
      },
      "source": [
        "drum_note_input = np.reshape(np.asarray(drum_note_input), (len(drum_note_input), SLICE_LEN, 1))\n",
        "drum_note_output = to_categorical(drum_note_output)\n",
        "\n",
        "drum_note_input=np.asarray(drum_note_input) / float(len(drum_mapper))\n",
        "drum_note_output=np.asarray(drum_note_output)"
      ],
      "execution_count": null,
      "outputs": []
    },
    {
      "cell_type": "code",
      "metadata": {
        "id": "6SUgrSD6V6Bx"
      },
      "source": [
        "#TRAIN_VAL_TEST_SPLIT\n",
        "\n",
        "SEED = 54\n",
        "np.random.seed(SEED)\n",
        "\n",
        "from sklearn.model_selection import train_test_split\n",
        "\n",
        "note_X_train, note_X_test, note_Y_train, note_Y_test = train_test_split(note_input, note_output, test_size=0.01, random_state=SEED)\n",
        "note_X_train, note_X_val, note_Y_train, note_Y_val = train_test_split(note_X_train, note_Y_train, test_size=0.2, random_state=SEED)\n",
        "\n",
        "duration_X_train, duration_X_test, duration_Y_train, duration_Y_test = train_test_split(dur_input, dur_output, test_size=0.01, random_state=SEED)\n",
        "duration_X_train, duration_X_val, duration_Y_train, duration_Y_val = train_test_split(duration_X_train, duration_Y_train, test_size=0.2, random_state=SEED)\n",
        "\n",
        "bass_X_train, bass_X_test, bass_Y_train, bass_Y_test = train_test_split(bass_note_input, bass_note_output, test_size=0.01, random_state=SEED)\n",
        "bass_X_train, bass_X_val, bass_Y_train, bass_Y_val = train_test_split(bass_X_train, bass_Y_train, test_size=0.2, random_state=SEED)\n",
        "\n",
        "#drum_X_train, drum_X_test, drum_Y_train, drum_Y_test = train_test_split(drum_note_input, drum_note_output, test_size=0.01, random_state=SEED)\n",
        "drum_X_train, drum_X_val, drum_Y_train, drum_Y_val = train_test_split(drum_note_input, drum_note_output, test_size=0.2, random_state=SEED)\n",
        "\n",
        "#startidx = np.random.randint(0, len(note_X_test)-1)\n",
        "\n",
        "#starting_slice_notes = note_X_test[startidx]\n",
        "#starting_slice_durations = duration_X_test[startidx]\n",
        "\n",
        "print(note_X_train.shape, note_X_val.shape, note_X_test.shape, note_Y_train.shape, note_Y_val.shape, note_Y_test.shape)\n",
        "print(duration_X_train.shape, duration_X_val.shape, duration_X_test.shape, duration_Y_train.shape, duration_Y_val.shape, duration_Y_test.shape)\n",
        "print(bass_X_train.shape, bass_X_val.shape, bass_X_test.shape, bass_Y_train.shape, bass_Y_val.shape, bass_Y_test.shape)\n",
        "print(drum_X_train.shape, drum_X_val.shape, drum_Y_train.shape, drum_Y_val.shape)"
      ],
      "execution_count": null,
      "outputs": []
    },
    {
      "cell_type": "markdown",
      "metadata": {
        "id": "sGhhDcBu7w49"
      },
      "source": [
        "# MODEL TRAINING SECTION"
      ]
    },
    {
      "cell_type": "code",
      "metadata": {
        "id": "9RGwd0Y58k3R"
      },
      "source": [
        "MODEL_NAME = \"multiinstrumentmodel1\"\n",
        "\n",
        "MODEL_SAVE_PATH = \"/content/drive/MyDrive/MLFolder/Onlab/modelsaves\"\n",
        "\n",
        "TBPATH = \"/content/tblogs/\"+MODEL_NAME"
      ],
      "execution_count": null,
      "outputs": []
    },
    {
      "cell_type": "code",
      "metadata": {
        "id": "eLW2ZTUFpWrc"
      },
      "source": [
        "#Before creating the neural network, I define some important callbacks\n",
        "\n",
        "tb = TensorBoard(log_dir = TBPATH, write_images=True, histogram_freq=1)\n",
        "\n",
        "plateau = ReduceLROnPlateau(monitor='val_loss', factor=0.2, patience=2, min_lr=0.00005, verbose=1)\n",
        "\n",
        "es = EarlyStopping(monitor='val_loss', patience = 5, restore_best_weights = True, verbose=1)\n",
        "\n",
        "callbacks = [plateau, es, tb]"
      ],
      "execution_count": null,
      "outputs": []
    },
    {
      "cell_type": "code",
      "metadata": {
        "colab": {
          "base_uri": "https://localhost:8080/"
        },
        "id": "zqfKjzEX2OSL",
        "outputId": "4d4d4366-59b7-4382-be10-91fd4f509c20"
      },
      "source": [
        "#I create the neural network model here.\n",
        "from keras.layers import Input\n",
        "from keras import Model\n",
        "from keras.layers import Concatenate, Multiply, Add, Dot, MultiHeadAttention\n",
        "\n",
        "notes_input = Input(shape=(note_X_train.shape[1], note_X_train.shape[2]), name=\"notes_in\")\n",
        "durations_input = Input(shape=(duration_X_train.shape[1], duration_X_train.shape[2]), name=\"durations_in\")\n",
        "bass_input = Input(shape=(bass_X_train.shape[1], bass_X_train.shape[2]), name=\"bass_in\")\n",
        "drum_input = Input(shape=(drum_X_train.shape[1], drum_X_train.shape[2]), name=\"drum_in\")\n",
        "\n",
        "x=LSTM(512, return_sequences=True)(notes_input)\n",
        "x=LSTM(256, return_sequences=False)(x)\n",
        "\n",
        "y=LSTM(64, return_sequences=True)(durations_input)\n",
        "y=LSTM(32, return_sequences=False)(y)\n",
        "\n",
        "z=LSTM(256, return_sequences=True)(bass_input)\n",
        "z=LSTM(128, return_sequences=False)(z)\n",
        "\n",
        "w=LSTM(512, return_sequences=True)(drum_input)\n",
        "w=LSTM(256, return_sequences=False)(w)\n",
        "\n",
        "notes_predictor = Dense(note_Y_train.shape[1], activation='softmax', name='notes_out')(x)\n",
        "durations_predictor = Dense(duration_Y_train.shape[1], activation='softmax', name='durations_out')(y)\n",
        "bass_predictor = Dense(bass_Y_train.shape[1], activation='softmax', name='bass_out')(z)\n",
        "drum_predictor = Dense(drum_Y_train.shape[1], activation='softmax', name='drum_out')(w)\n",
        "\n",
        "model = Model(\n",
        "    inputs=[notes_input, durations_input, bass_input, drum_input],\n",
        "    outputs=[notes_predictor, durations_predictor, bass_predictor, drum_predictor]\n",
        ")\n",
        "\n",
        "model.compile(optimizer='Adam', loss='categorical_crossentropy', metrics=['accuracy'], loss_weights=[1.0, 1.0, 1.0, 1.0])\n",
        "\n",
        "model.fit({\"notes_in\" : note_X_train[:117388], \"durations_in\" : duration_X_train[:117388], \"bass_in\" : bass_X_train[:117388], \"drum_in\":drum_X_train}, \n",
        "          {\"notes_out\" : note_Y_train[:117388], \"durations_out\" : duration_Y_train[:117388], \"bass_out\" : bass_Y_train[:117388], \"drum_out\":drum_Y_train},\n",
        "          epochs=10000, batch_size=16,\n",
        "          validation_data=({\"notes_in\" : note_X_val[:29348], \"durations_in\" : duration_X_val[:29348], \"bass_in\" : bass_X_val[:29348], \"drum_in\" : drum_X_val},\n",
        "                           {\"notes_out\" : note_Y_val[:29348], \"durations_out\" : duration_Y_val[:29348], \"bass_out\" : bass_Y_val[:29348], \"drum_out\" : drum_Y_val}),\n",
        "           callbacks=callbacks)\n",
        "\n",
        "\n",
        "model.save(MODEL_SAVE_PATH + MODEL_NAME + \".h5\")"
      ],
      "execution_count": null,
      "outputs": [
        {
          "output_type": "stream",
          "text": [
            "Epoch 1/10000\n",
            "7337/7337 [==============================] - 200s 26ms/step - loss: 12.4185 - notes_out_loss: 4.0706 - durations_out_loss: 1.5968 - bass_out_loss: 2.7399 - drum_out_loss: 4.0113 - notes_out_accuracy: 0.0738 - durations_out_accuracy: 0.4809 - bass_out_accuracy: 0.2614 - drum_out_accuracy: 0.1047 - val_loss: 9.7820 - val_notes_out_loss: 3.5854 - val_durations_out_loss: 1.3747 - val_bass_out_loss: 1.7846 - val_drum_out_loss: 3.0373 - val_notes_out_accuracy: 0.1764 - val_durations_out_accuracy: 0.4914 - val_bass_out_accuracy: 0.5484 - val_drum_out_accuracy: 0.3059\n",
            "Epoch 2/10000\n",
            "7337/7337 [==============================] - 190s 26ms/step - loss: 8.9216 - notes_out_loss: 3.2785 - durations_out_loss: 1.2913 - bass_out_loss: 1.6819 - drum_out_loss: 2.6699 - notes_out_accuracy: 0.2349 - durations_out_accuracy: 0.5666 - bass_out_accuracy: 0.5660 - drum_out_accuracy: 0.3678 - val_loss: 7.3054 - val_notes_out_loss: 2.5623 - val_durations_out_loss: 1.2036 - val_bass_out_loss: 1.4903 - val_drum_out_loss: 2.0491 - val_notes_out_accuracy: 0.3801 - val_durations_out_accuracy: 0.6144 - val_bass_out_accuracy: 0.6229 - val_drum_out_accuracy: 0.4946\n",
            "Epoch 3/10000\n",
            "7337/7337 [==============================] - 187s 25ms/step - loss: 6.8211 - notes_out_loss: 2.3392 - durations_out_loss: 1.1750 - bass_out_loss: 1.4089 - drum_out_loss: 1.8980 - notes_out_accuracy: 0.4205 - durations_out_accuracy: 0.6333 - bass_out_accuracy: 0.6361 - drum_out_accuracy: 0.5230 - val_loss: 6.3151 - val_notes_out_loss: 2.0827 - val_durations_out_loss: 1.1465 - val_bass_out_loss: 1.3907 - val_drum_out_loss: 1.6951 - val_notes_out_accuracy: 0.4817 - val_durations_out_accuracy: 0.6565 - val_bass_out_accuracy: 0.6400 - val_drum_out_accuracy: 0.5807\n",
            "Epoch 4/10000\n",
            "7337/7337 [==============================] - 188s 26ms/step - loss: 5.7546 - notes_out_loss: 1.8324 - durations_out_loss: 1.1149 - bass_out_loss: 1.2427 - drum_out_loss: 1.5646 - notes_out_accuracy: 0.5343 - durations_out_accuracy: 0.6585 - bass_out_accuracy: 0.6756 - drum_out_accuracy: 0.5952 - val_loss: 5.6456 - val_notes_out_loss: 1.7899 - val_durations_out_loss: 1.0841 - val_bass_out_loss: 1.2108 - val_drum_out_loss: 1.5608 - val_notes_out_accuracy: 0.5603 - val_durations_out_accuracy: 0.6755 - val_bass_out_accuracy: 0.6863 - val_drum_out_accuracy: 0.6099\n",
            "Epoch 5/10000\n",
            "7337/7337 [==============================] - 186s 25ms/step - loss: 5.1086 - notes_out_loss: 1.5176 - durations_out_loss: 1.0751 - bass_out_loss: 1.1532 - drum_out_loss: 1.3626 - notes_out_accuracy: 0.6110 - durations_out_accuracy: 0.6758 - bass_out_accuracy: 0.6959 - drum_out_accuracy: 0.6400 - val_loss: 5.2142 - val_notes_out_loss: 1.6328 - val_durations_out_loss: 1.0528 - val_bass_out_loss: 1.1158 - val_drum_out_loss: 1.4127 - val_notes_out_accuracy: 0.6043 - val_durations_out_accuracy: 0.6859 - val_bass_out_accuracy: 0.7122 - val_drum_out_accuracy: 0.6506\n",
            "Epoch 6/10000\n",
            "7337/7337 [==============================] - 188s 26ms/step - loss: 4.5307 - notes_out_loss: 1.2827 - durations_out_loss: 1.0448 - bass_out_loss: 1.0011 - drum_out_loss: 1.2021 - notes_out_accuracy: 0.6692 - durations_out_accuracy: 0.6830 - bass_out_accuracy: 0.7358 - drum_out_accuracy: 0.6773 - val_loss: 4.9010 - val_notes_out_loss: 1.4780 - val_durations_out_loss: 1.0739 - val_bass_out_loss: 1.0387 - val_drum_out_loss: 1.3105 - val_notes_out_accuracy: 0.6483 - val_durations_out_accuracy: 0.6942 - val_bass_out_accuracy: 0.7325 - val_drum_out_accuracy: 0.6845\n",
            "Epoch 7/10000\n",
            "7337/7337 [==============================] - 185s 25ms/step - loss: 4.0722 - notes_out_loss: 1.0896 - durations_out_loss: 1.0037 - bass_out_loss: 0.8990 - drum_out_loss: 1.0799 - notes_out_accuracy: 0.7172 - durations_out_accuracy: 0.6947 - bass_out_accuracy: 0.7620 - drum_out_accuracy: 0.7095 - val_loss: 4.7050 - val_notes_out_loss: 1.4046 - val_durations_out_loss: 1.0025 - val_bass_out_loss: 1.0312 - val_drum_out_loss: 1.2667 - val_notes_out_accuracy: 0.6701 - val_durations_out_accuracy: 0.6995 - val_bass_out_accuracy: 0.7299 - val_drum_out_accuracy: 0.6945\n",
            "Epoch 8/10000\n",
            "7337/7337 [==============================] - 183s 25ms/step - loss: 3.7473 - notes_out_loss: 0.9569 - durations_out_loss: 0.9779 - bass_out_loss: 0.8219 - drum_out_loss: 0.9906 - notes_out_accuracy: 0.7509 - durations_out_accuracy: 0.7029 - bass_out_accuracy: 0.7820 - drum_out_accuracy: 0.7325 - val_loss: 4.4391 - val_notes_out_loss: 1.3400 - val_durations_out_loss: 0.9585 - val_bass_out_loss: 0.9161 - val_drum_out_loss: 1.2246 - val_notes_out_accuracy: 0.6849 - val_durations_out_accuracy: 0.7097 - val_bass_out_accuracy: 0.7693 - val_drum_out_accuracy: 0.7068\n",
            "Epoch 9/10000\n",
            "7337/7337 [==============================] - 184s 25ms/step - loss: 3.4427 - notes_out_loss: 0.8353 - durations_out_loss: 0.9454 - bass_out_loss: 0.7508 - drum_out_loss: 0.9112 - notes_out_accuracy: 0.7804 - durations_out_accuracy: 0.7142 - bass_out_accuracy: 0.8020 - drum_out_accuracy: 0.7528 - val_loss: 4.3139 - val_notes_out_loss: 1.3062 - val_durations_out_loss: 0.9317 - val_bass_out_loss: 0.8737 - val_drum_out_loss: 1.2024 - val_notes_out_accuracy: 0.7004 - val_durations_out_accuracy: 0.7256 - val_bass_out_accuracy: 0.7801 - val_drum_out_accuracy: 0.7163\n",
            "Epoch 10/10000\n",
            "7337/7337 [==============================] - 186s 25ms/step - loss: 3.1683 - notes_out_loss: 0.7483 - durations_out_loss: 0.9040 - bass_out_loss: 0.6876 - drum_out_loss: 0.8284 - notes_out_accuracy: 0.7996 - durations_out_accuracy: 0.7269 - bass_out_accuracy: 0.8178 - drum_out_accuracy: 0.7707 - val_loss: 4.1773 - val_notes_out_loss: 1.2796 - val_durations_out_loss: 0.9099 - val_bass_out_loss: 0.8460 - val_drum_out_loss: 1.1418 - val_notes_out_accuracy: 0.7089 - val_durations_out_accuracy: 0.7316 - val_bass_out_accuracy: 0.7872 - val_drum_out_accuracy: 0.7367\n",
            "Epoch 11/10000\n",
            "7337/7337 [==============================] - 186s 25ms/step - loss: 2.9518 - notes_out_loss: 0.6689 - durations_out_loss: 0.8768 - bass_out_loss: 0.6355 - drum_out_loss: 0.7706 - notes_out_accuracy: 0.8193 - durations_out_accuracy: 0.7378 - bass_out_accuracy: 0.8317 - drum_out_accuracy: 0.7865 - val_loss: 4.1649 - val_notes_out_loss: 1.2565 - val_durations_out_loss: 0.8823 - val_bass_out_loss: 0.8728 - val_drum_out_loss: 1.1533 - val_notes_out_accuracy: 0.7210 - val_durations_out_accuracy: 0.7415 - val_bass_out_accuracy: 0.7854 - val_drum_out_accuracy: 0.7354\n",
            "Epoch 12/10000\n",
            "7337/7337 [==============================] - 183s 25ms/step - loss: 2.7613 - notes_out_loss: 0.6046 - durations_out_loss: 0.8442 - bass_out_loss: 0.5924 - drum_out_loss: 0.7201 - notes_out_accuracy: 0.8339 - durations_out_accuracy: 0.7479 - bass_out_accuracy: 0.8431 - drum_out_accuracy: 0.8013 - val_loss: 4.0660 - val_notes_out_loss: 1.2694 - val_durations_out_loss: 0.8500 - val_bass_out_loss: 0.8271 - val_drum_out_loss: 1.1194 - val_notes_out_accuracy: 0.7232 - val_durations_out_accuracy: 0.7531 - val_bass_out_accuracy: 0.7963 - val_drum_out_accuracy: 0.7464\n",
            "Epoch 13/10000\n",
            "7337/7337 [==============================] - 184s 25ms/step - loss: 2.5782 - notes_out_loss: 0.5474 - durations_out_loss: 0.8129 - bass_out_loss: 0.5479 - drum_out_loss: 0.6700 - notes_out_accuracy: 0.8508 - durations_out_accuracy: 0.7616 - bass_out_accuracy: 0.8541 - drum_out_accuracy: 0.8145 - val_loss: 3.9583 - val_notes_out_loss: 1.2424 - val_durations_out_loss: 0.8347 - val_bass_out_loss: 0.7810 - val_drum_out_loss: 1.1001 - val_notes_out_accuracy: 0.7340 - val_durations_out_accuracy: 0.7589 - val_bass_out_accuracy: 0.8109 - val_drum_out_accuracy: 0.7590\n",
            "Epoch 14/10000\n",
            "7337/7337 [==============================] - 185s 25ms/step - loss: 2.4539 - notes_out_loss: 0.5105 - durations_out_loss: 0.7914 - bass_out_loss: 0.5180 - drum_out_loss: 0.6339 - notes_out_accuracy: 0.8600 - durations_out_accuracy: 0.7663 - bass_out_accuracy: 0.8612 - drum_out_accuracy: 0.8247 - val_loss: 3.9950 - val_notes_out_loss: 1.2542 - val_durations_out_loss: 0.8081 - val_bass_out_loss: 0.7717 - val_drum_out_loss: 1.1610 - val_notes_out_accuracy: 0.7359 - val_durations_out_accuracy: 0.7697 - val_bass_out_accuracy: 0.8112 - val_drum_out_accuracy: 0.7400\n",
            "Epoch 15/10000\n",
            "7337/7337 [==============================] - 183s 25ms/step - loss: 2.3010 - notes_out_loss: 0.4575 - durations_out_loss: 0.7648 - bass_out_loss: 0.4937 - drum_out_loss: 0.5850 - notes_out_accuracy: 0.8711 - durations_out_accuracy: 0.7770 - bass_out_accuracy: 0.8683 - drum_out_accuracy: 0.8345 - val_loss: 3.9614 - val_notes_out_loss: 1.2422 - val_durations_out_loss: 0.7906 - val_bass_out_loss: 0.7875 - val_drum_out_loss: 1.1410 - val_notes_out_accuracy: 0.7417 - val_durations_out_accuracy: 0.7757 - val_bass_out_accuracy: 0.8100 - val_drum_out_accuracy: 0.7529\n",
            "\n",
            "Epoch 00015: ReduceLROnPlateau reducing learning rate to 0.00020000000949949026.\n",
            "Epoch 16/10000\n",
            "7337/7337 [==============================] - 181s 25ms/step - loss: 1.8691 - notes_out_loss: 0.3079 - durations_out_loss: 0.7182 - bass_out_loss: 0.3820 - drum_out_loss: 0.4610 - notes_out_accuracy: 0.9173 - durations_out_accuracy: 0.7934 - bass_out_accuracy: 0.9019 - drum_out_accuracy: 0.8728 - val_loss: 3.5502 - val_notes_out_loss: 1.1296 - val_durations_out_loss: 0.7616 - val_bass_out_loss: 0.6502 - val_drum_out_loss: 1.0088 - val_notes_out_accuracy: 0.7769 - val_durations_out_accuracy: 0.7874 - val_bass_out_accuracy: 0.8503 - val_drum_out_accuracy: 0.7924\n",
            "Epoch 17/10000\n",
            "7337/7337 [==============================] - 183s 25ms/step - loss: 1.6305 - notes_out_loss: 0.2156 - durations_out_loss: 0.6930 - bass_out_loss: 0.3226 - drum_out_loss: 0.3993 - notes_out_accuracy: 0.9457 - durations_out_accuracy: 0.8003 - bass_out_accuracy: 0.9196 - drum_out_accuracy: 0.8932 - val_loss: 3.5364 - val_notes_out_loss: 1.1372 - val_durations_out_loss: 0.7556 - val_bass_out_loss: 0.6387 - val_drum_out_loss: 1.0049 - val_notes_out_accuracy: 0.7798 - val_durations_out_accuracy: 0.7900 - val_bass_out_accuracy: 0.8548 - val_drum_out_accuracy: 0.7964\n",
            "Epoch 18/10000\n",
            "7337/7337 [==============================] - 186s 25ms/step - loss: 1.5460 - notes_out_loss: 0.1828 - durations_out_loss: 0.6871 - bass_out_loss: 0.3050 - drum_out_loss: 0.3711 - notes_out_accuracy: 0.9553 - durations_out_accuracy: 0.8026 - bass_out_accuracy: 0.9251 - drum_out_accuracy: 0.9016 - val_loss: 3.5268 - val_notes_out_loss: 1.1393 - val_durations_out_loss: 0.7492 - val_bass_out_loss: 0.6347 - val_drum_out_loss: 1.0036 - val_notes_out_accuracy: 0.7814 - val_durations_out_accuracy: 0.7926 - val_bass_out_accuracy: 0.8556 - val_drum_out_accuracy: 0.7961\n",
            "Epoch 19/10000\n",
            "7337/7337 [==============================] - 186s 25ms/step - loss: 1.4800 - notes_out_loss: 0.1634 - durations_out_loss: 0.6803 - bass_out_loss: 0.2845 - drum_out_loss: 0.3518 - notes_out_accuracy: 0.9608 - durations_out_accuracy: 0.8048 - bass_out_accuracy: 0.9292 - drum_out_accuracy: 0.9077 - val_loss: 3.5249 - val_notes_out_loss: 1.1493 - val_durations_out_loss: 0.7439 - val_bass_out_loss: 0.6301 - val_drum_out_loss: 1.0016 - val_notes_out_accuracy: 0.7837 - val_durations_out_accuracy: 0.7937 - val_bass_out_accuracy: 0.8602 - val_drum_out_accuracy: 0.7991\n",
            "Epoch 20/10000\n",
            "7337/7337 [==============================] - 187s 25ms/step - loss: 1.4324 - notes_out_loss: 0.1490 - durations_out_loss: 0.6732 - bass_out_loss: 0.2728 - drum_out_loss: 0.3373 - notes_out_accuracy: 0.9638 - durations_out_accuracy: 0.8085 - bass_out_accuracy: 0.9326 - drum_out_accuracy: 0.9108 - val_loss: 3.5214 - val_notes_out_loss: 1.1540 - val_durations_out_loss: 0.7408 - val_bass_out_loss: 0.6225 - val_drum_out_loss: 1.0041 - val_notes_out_accuracy: 0.7846 - val_durations_out_accuracy: 0.7953 - val_bass_out_accuracy: 0.8625 - val_drum_out_accuracy: 0.7998\n",
            "Epoch 21/10000\n",
            "7337/7337 [==============================] - 186s 25ms/step - loss: 1.3816 - notes_out_loss: 0.1354 - durations_out_loss: 0.6726 - bass_out_loss: 0.2580 - drum_out_loss: 0.3156 - notes_out_accuracy: 0.9665 - durations_out_accuracy: 0.8073 - bass_out_accuracy: 0.9372 - drum_out_accuracy: 0.9179 - val_loss: 3.5378 - val_notes_out_loss: 1.1750 - val_durations_out_loss: 0.7355 - val_bass_out_loss: 0.6235 - val_drum_out_loss: 1.0038 - val_notes_out_accuracy: 0.7845 - val_durations_out_accuracy: 0.7963 - val_bass_out_accuracy: 0.8624 - val_drum_out_accuracy: 0.8007\n",
            "Epoch 22/10000\n",
            "7337/7337 [==============================] - 187s 25ms/step - loss: 1.3456 - notes_out_loss: 0.1269 - durations_out_loss: 0.6662 - bass_out_loss: 0.2486 - drum_out_loss: 0.3039 - notes_out_accuracy: 0.9684 - durations_out_accuracy: 0.8113 - bass_out_accuracy: 0.9390 - drum_out_accuracy: 0.9200 - val_loss: 3.5555 - val_notes_out_loss: 1.1828 - val_durations_out_loss: 0.7371 - val_bass_out_loss: 0.6243 - val_drum_out_loss: 1.0113 - val_notes_out_accuracy: 0.7807 - val_durations_out_accuracy: 0.7987 - val_bass_out_accuracy: 0.8648 - val_drum_out_accuracy: 0.8008\n",
            "\n",
            "Epoch 00022: ReduceLROnPlateau reducing learning rate to 5e-05.\n",
            "Epoch 23/10000\n",
            "7337/7337 [==============================] - 183s 25ms/step - loss: 1.2514 - notes_out_loss: 0.1032 - durations_out_loss: 0.6435 - bass_out_loss: 0.2256 - drum_out_loss: 0.2792 - notes_out_accuracy: 0.9747 - durations_out_accuracy: 0.8181 - bass_out_accuracy: 0.9461 - drum_out_accuracy: 0.9298 - val_loss: 3.5188 - val_notes_out_loss: 1.1810 - val_durations_out_loss: 0.7280 - val_bass_out_loss: 0.6105 - val_drum_out_loss: 0.9993 - val_notes_out_accuracy: 0.7858 - val_durations_out_accuracy: 0.8000 - val_bass_out_accuracy: 0.8675 - val_drum_out_accuracy: 0.8047\n",
            "Epoch 24/10000\n",
            "7337/7337 [==============================] - 180s 24ms/step - loss: 1.2190 - notes_out_loss: 0.0941 - durations_out_loss: 0.6432 - bass_out_loss: 0.2196 - drum_out_loss: 0.2621 - notes_out_accuracy: 0.9763 - durations_out_accuracy: 0.8180 - bass_out_accuracy: 0.9483 - drum_out_accuracy: 0.9343 - val_loss: 3.5201 - val_notes_out_loss: 1.1839 - val_durations_out_loss: 0.7264 - val_bass_out_loss: 0.6086 - val_drum_out_loss: 1.0011 - val_notes_out_accuracy: 0.7856 - val_durations_out_accuracy: 0.8016 - val_bass_out_accuracy: 0.8683 - val_drum_out_accuracy: 0.8054\n",
            "Epoch 25/10000\n",
            "7337/7337 [==============================] - 179s 24ms/step - loss: 1.2002 - notes_out_loss: 0.0899 - durations_out_loss: 0.6367 - bass_out_loss: 0.2147 - drum_out_loss: 0.2589 - notes_out_accuracy: 0.9770 - durations_out_accuracy: 0.8220 - bass_out_accuracy: 0.9480 - drum_out_accuracy: 0.9351 - val_loss: 3.5260 - val_notes_out_loss: 1.1894 - val_durations_out_loss: 0.7261 - val_bass_out_loss: 0.6092 - val_drum_out_loss: 1.0013 - val_notes_out_accuracy: 0.7859 - val_durations_out_accuracy: 0.8030 - val_bass_out_accuracy: 0.8688 - val_drum_out_accuracy: 0.8060\n",
            "Epoch 26/10000\n",
            "7337/7337 [==============================] - 179s 24ms/step - loss: 1.1961 - notes_out_loss: 0.0870 - durations_out_loss: 0.6411 - bass_out_loss: 0.2125 - drum_out_loss: 0.2555 - notes_out_accuracy: 0.9774 - durations_out_accuracy: 0.8195 - bass_out_accuracy: 0.9486 - drum_out_accuracy: 0.9369 - val_loss: 3.5313 - val_notes_out_loss: 1.1948 - val_durations_out_loss: 0.7249 - val_bass_out_loss: 0.6094 - val_drum_out_loss: 1.0022 - val_notes_out_accuracy: 0.7863 - val_durations_out_accuracy: 0.8027 - val_bass_out_accuracy: 0.8692 - val_drum_out_accuracy: 0.8076\n",
            "Epoch 27/10000\n",
            "7337/7337 [==============================] - 179s 24ms/step - loss: 1.1810 - notes_out_loss: 0.0861 - durations_out_loss: 0.6333 - bass_out_loss: 0.2094 - drum_out_loss: 0.2522 - notes_out_accuracy: 0.9776 - durations_out_accuracy: 0.8226 - bass_out_accuracy: 0.9486 - drum_out_accuracy: 0.9377 - val_loss: 3.5343 - val_notes_out_loss: 1.1964 - val_durations_out_loss: 0.7240 - val_bass_out_loss: 0.6096 - val_drum_out_loss: 1.0044 - val_notes_out_accuracy: 0.7867 - val_durations_out_accuracy: 0.8018 - val_bass_out_accuracy: 0.8692 - val_drum_out_accuracy: 0.8073\n",
            "Epoch 28/10000\n",
            "7337/7337 [==============================] - 179s 24ms/step - loss: 1.1705 - notes_out_loss: 0.0831 - durations_out_loss: 0.6332 - bass_out_loss: 0.2058 - drum_out_loss: 0.2484 - notes_out_accuracy: 0.9775 - durations_out_accuracy: 0.8205 - bass_out_accuracy: 0.9507 - drum_out_accuracy: 0.9389 - val_loss: 3.5399 - val_notes_out_loss: 1.2005 - val_durations_out_loss: 0.7235 - val_bass_out_loss: 0.6092 - val_drum_out_loss: 1.0067 - val_notes_out_accuracy: 0.7860 - val_durations_out_accuracy: 0.8031 - val_bass_out_accuracy: 0.8700 - val_drum_out_accuracy: 0.8064\n",
            "Restoring model weights from the end of the best epoch.\n",
            "Epoch 00028: early stopping\n"
          ],
          "name": "stdout"
        }
      ]
    },
    {
      "cell_type": "code",
      "metadata": {
        "colab": {
          "base_uri": "https://localhost:8080/",
          "height": 422
        },
        "id": "3DsACHUYHveF",
        "outputId": "5c418ac2-1bca-4c7b-da8f-b163c8709789"
      },
      "source": [
        "from keras.utils import plot_model\n",
        "plot_model(model, show_shapes=True)"
      ],
      "execution_count": null,
      "outputs": [
        {
          "output_type": "execute_result",
          "data": {
            "image/png": "[encoded data removed]",
            "text/plain": [
              "<IPython.core.display.Image object>"
            ]
          },
          "metadata": {
            "tags": []
          },
          "execution_count": 51
        }
      ]
    },
    {
      "cell_type": "code",
      "metadata": {
        "colab": {
          "base_uri": "https://localhost:8080/"
        },
        "id": "4u21H4O-6lB-",
        "outputId": "57c68d7b-d362-42f3-8c06-f05bdf2d0823"
      },
      "source": [
        "model.summary()"
      ],
      "execution_count": null,
      "outputs": [
        {
          "output_type": "stream",
          "text": [
            "Model: \"model_3\"\n",
            "__________________________________________________________________________________________________\n",
            "Layer (type)                    Output Shape         Param #     Connected to                     \n",
            "==================================================================================================\n",
            "notes_in (InputLayer)           [(None, 20, 1)]      0                                            \n",
            "__________________________________________________________________________________________________\n",
            "durations_in (InputLayer)       [(None, 20, 1)]      0                                            \n",
            "__________________________________________________________________________________________________\n",
            "bass_in (InputLayer)            [(None, 20, 1)]      0                                            \n",
            "__________________________________________________________________________________________________\n",
            "drum_in (InputLayer)            [(None, 20, 1)]      0                                            \n",
            "__________________________________________________________________________________________________\n",
            "lstm_40 (LSTM)                  (None, 20, 512)      1052672     notes_in[0][0]                   \n",
            "__________________________________________________________________________________________________\n",
            "lstm_42 (LSTM)                  (None, 20, 64)       16896       durations_in[0][0]               \n",
            "__________________________________________________________________________________________________\n",
            "lstm_44 (LSTM)                  (None, 20, 256)      264192      bass_in[0][0]                    \n",
            "__________________________________________________________________________________________________\n",
            "lstm_46 (LSTM)                  (None, 20, 512)      1052672     drum_in[0][0]                    \n",
            "__________________________________________________________________________________________________\n",
            "lstm_41 (LSTM)                  (None, 256)          787456      lstm_40[0][0]                    \n",
            "__________________________________________________________________________________________________\n",
            "lstm_43 (LSTM)                  (None, 32)           12416       lstm_42[0][0]                    \n",
            "__________________________________________________________________________________________________\n",
            "lstm_45 (LSTM)                  (None, 128)          197120      lstm_44[0][0]                    \n",
            "__________________________________________________________________________________________________\n",
            "lstm_47 (LSTM)                  (None, 256)          787456      lstm_46[0][0]                    \n",
            "__________________________________________________________________________________________________\n",
            "notes_out (Dense)               (None, 369)          94833       lstm_41[0][0]                    \n",
            "__________________________________________________________________________________________________\n",
            "durations_out (Dense)           (None, 76)           2508        lstm_43[0][0]                    \n",
            "__________________________________________________________________________________________________\n",
            "bass_out (Dense)                (None, 134)          17286       lstm_45[0][0]                    \n",
            "__________________________________________________________________________________________________\n",
            "drum_out (Dense)                (None, 659)          169363      lstm_47[0][0]                    \n",
            "==================================================================================================\n",
            "Total params: 4,454,870\n",
            "Trainable params: 4,454,870\n",
            "Non-trainable params: 0\n",
            "__________________________________________________________________________________________________\n"
          ],
          "name": "stdout"
        }
      ]
    },
    {
      "cell_type": "code",
      "metadata": {
        "id": "pV-sNW2slnHp"
      },
      "source": [
        "#model.evaluate(X_test, Y_test)\n",
        "\n",
        "model.save(MODEL_SAVE_PATH + MODEL_NAME + \".h5\")"
      ],
      "execution_count": null,
      "outputs": []
    },
    {
      "cell_type": "code",
      "metadata": {
        "id": "tEDmsNdvr1CP"
      },
      "source": [
        "#I use the TensorBoard here\n",
        "\n",
        "%tensorboard --logdir=\"/content/tblogs/multiinstrumentmodel1\" #TODO FIX THIS TO BE A VARIABLE"
      ],
      "execution_count": null,
      "outputs": []
    },
    {
      "cell_type": "markdown",
      "metadata": {
        "id": "I5udvodq8Bw8"
      },
      "source": [
        "# INFERENCE AND POSTPROCESSING SECTION"
      ]
    },
    {
      "cell_type": "code",
      "metadata": {
        "id": "lqA3epxQEX0C"
      },
      "source": [
        "def sample(preds, temperature=1.0):\n",
        "    # helper function to sample an index from a probability array\n",
        "    preds = np.asarray(preds).astype(\"float64\")\n",
        "    preds = np.log(preds) / temperature\n",
        "    exp_preds = np.exp(preds)\n",
        "    preds = exp_preds / np.sum(exp_preds)\n",
        "    preds = np.squeeze(preds)\n",
        "    probas = np.random.multinomial(1, preds, 1)\n",
        "    return np.argmax(probas)"
      ],
      "execution_count": null,
      "outputs": []
    },
    {
      "cell_type": "code",
      "metadata": {
        "id": "oWpOHOeMLzMk"
      },
      "source": [
        "def generate_notes(model, starting_slice, starting_duration, starting_bass_slice, starting_drum_slice, mapper, mapperlist = None, duration_mapper_list=None, temp=1.0, duration_temp=0.8, bass_temp=0.8, drum_temp = 0.8):\n",
        "    \"\"\" Generate notes from the neural network based on a sequence of notes \"\"\"\n",
        "    pattern = starting_slice\n",
        "    duration_pattern = starting_duration\n",
        "    bass_pattern = starting_bass_slice\n",
        "    drum_pattern = starting_drum_slice\n",
        "    prediction_output_notes = []\n",
        "    prediction_output_durations = []\n",
        "    prediction_output = []\n",
        "    prediction_output_bass = []\n",
        "    prediction_output_bass_ret = []\n",
        "    prediction_output_drum = []\n",
        "    prediction_output_drum_ret = []\n",
        "\n",
        "    # generate 500 notes\n",
        "    for note_index in range(500):\n",
        "        prediction_input = np.reshape(pattern, (1, len(pattern), 1))\n",
        "        prediction_duration_input = np.reshape(duration_pattern, (1, len(duration_pattern), 1))\n",
        "        prediction_bass_input = np.reshape(bass_pattern, (1, len(bass_pattern), 1))\n",
        "        prediction_drum_input = np.reshape(drum_pattern, (1, len(drum_pattern), 1))\n",
        "\n",
        "        note_prediction, duration_prediction, bass_prediction, drum_prediction = model.predict(\n",
        "            {\"notes_in\" : prediction_input, \"durations_in\" : prediction_duration_input, \"bass_in\": prediction_bass_input, \"drum_in\" : prediction_drum_input}\n",
        "            )\n",
        "\n",
        "        #prediction = sample(prediction, temp)\n",
        "        index = sample(note_prediction, temp)\n",
        "        duration_index = sample(duration_prediction, duration_temp)\n",
        "        bass_index = sample(bass_prediction, bass_temp)\n",
        "        drum_index = sample(drum_prediction, drum_temp)\n",
        "\n",
        "        #index = np.argmax(prediction)\n",
        "        if mapperlist is not None: #Idx of the mapper list is the new value, the element is the old value. This is used when I filter for outliers.\n",
        "            index=mapperlist[index]\n",
        "        \n",
        "        if duration_mapper_list is not None:\n",
        "            duration_index = duration_mapper_list[duration_index]\n",
        "\n",
        "        result = get_key_from_value(index, mapper)\n",
        "        prediction_output_notes.append(result)\n",
        "\n",
        "        duration_result = get_key_from_value(duration_index, durationmapper)\n",
        "        prediction_output_durations.append(duration_result)\n",
        "\n",
        "        bass_result = get_key_from_value(bass_index, bass_mapper)\n",
        "        prediction_output_bass.append(bass_result)\n",
        "\n",
        "        drum_result = get_key_from_value(drum_index, drum_mapper)\n",
        "        prediction_output_drum.append(drum_result)\n",
        "\n",
        "        pattern = np.append(pattern, index/float(len(mapper)))\n",
        "        duration_pattern = np.append(duration_pattern, duration_index/float(len(durationmapper)))\n",
        "        bass_pattern = np.append(bass_pattern, bass_index/float(len(bass_mapper)))\n",
        "        drum_pattern = np.append(drum_pattern, drum_index/float(len(drum_mapper)))\n",
        "\n",
        "        pattern = pattern[1:len(pattern)]\n",
        "        duration_pattern = duration_pattern[1:len(duration_pattern)]\n",
        "        bass_pattern = bass_pattern[1:len(bass_pattern)]\n",
        "        drum_pattern = drum_pattern[1:len(drum_pattern)]\n",
        "\n",
        "    for i in range(500):\n",
        "        prediction_output.append(str(prediction_output_notes[i]) + ';' + str(prediction_output_durations[i]))\n",
        "        prediction_output_bass_ret.append(str(prediction_output_bass[i]) + ';' + str(prediction_output_durations[i]))\n",
        "        prediction_output_drum_ret.append(str(prediction_output_drum[i]) + ';' + str(prediction_output_durations[i]))\n",
        "\n",
        "    return prediction_output, prediction_output_bass_ret, prediction_output_drum_ret"
      ],
      "execution_count": null,
      "outputs": []
    },
    {
      "cell_type": "code",
      "metadata": {
        "id": "d_SJ6JTJFIQ-"
      },
      "source": [
        "starting_slice_notes=(np.asarray(encode_using_mapper(allchords[0], mapper))/len(mapper))[:20]\n",
        "starting_slice_durations=(np.asarray(encode_using_mapper(alldurations[0], durationmapper))/len(durationmapper))[:20]\n",
        "starting_slice_bass=(np.asarray(encode_using_mapper(allbasschords[0], bass_mapper))/len(bass_mapper))[:20]\n",
        "starting_slice_drum=(np.asarray(encode_using_mapper(alldrumchords[0], drum_mapper))/len(drum_mapper))[:20]"
      ],
      "execution_count": null,
      "outputs": []
    },
    {
      "cell_type": "code",
      "metadata": {
        "colab": {
          "base_uri": "https://localhost:8080/"
        },
        "id": "PJYdVGHiQeR-",
        "outputId": "9f26b656-437d-4f75-8546-f480680caa86"
      },
      "source": [
        "generated_outputs=[]\n",
        "\n",
        "temperatures = [0.7, 0.8, 0.9, 1.0]\n",
        "\n",
        "# DO NOT FORGET, IMPORTANT: When using outlier filtering, DO NOT FORGET to use the mapperlist parameter!!\n",
        "\n",
        "for temp in tqdm(temperatures):\n",
        "    for temp3 in temperatures:\n",
        "        generated_outputs.append(generate_notes(\n",
        "            model, \n",
        "            starting_slice_notes, starting_slice_durations, starting_slice_bass, starting_slice_drum, \n",
        "            mapper, note_mapper_list, dur_mapper_list, \n",
        "            temp = temp, duration_temp=0.8, bass_temp=temp3, drum_temp=0.8\n",
        "            ))"
      ],
      "execution_count": null,
      "outputs": [
        {
          "output_type": "stream",
          "text": [
            "\r  0%|          | 0/4 [00:00<?, ?it/s]/usr/local/lib/python3.7/dist-packages/ipykernel_launcher.py:4: RuntimeWarning: divide by zero encountered in log\n",
            "  after removing the cwd from sys.path.\n",
            "100%|██████████| 4/4 [09:29<00:00, 142.43s/it]\n"
          ],
          "name": "stderr"
        }
      ]
    },
    {
      "cell_type": "code",
      "metadata": {
        "id": "9Lo0vDc_SqNv"
      },
      "source": [
        "from music21 import stream\n",
        "from music21.stream import Score\n",
        "\n",
        "STARTING_OFFSET = 0\n",
        "\n",
        "OUTPUT_PATH = \"/content/drive/MyDrive/MLFolder/Onlab/Outputs/\"\n",
        "\n",
        "for i, values in enumerate(generated_outputs):\n",
        "    out = values[0]\n",
        "    bassout = values[1]\n",
        "    drumout = values[2]\n",
        "    fullmidi = stream.Score()\n",
        "    guitarpart = create_midipart_with_durations(out, target_instrument = instrument.ElectricGuitar(), filename = OUTPUT_PATH + MODEL_NAME + f'{i+STARTING_OFFSET}guitar.mid')\n",
        "    basspart = create_midipart_with_durations(bassout, target_instrument = instrument.ElectricBass(), filename = OUTPUT_PATH + MODEL_NAME + f'{i+STARTING_OFFSET}bass.mid')\n",
        "    drumpart = create_midipart_with_durations(drumout, target_instrument = instrument.Percussion(), filename = OUTPUT_PATH + MODEL_NAME + f'{i+STARTING_OFFSET}drum.mid')\n",
        "    fullmidi.insert(0, guitarpart)\n",
        "    fullmidi.insert(0, basspart)\n",
        "    fullmidi.insert(0, drumpart)\n",
        "\n",
        "    fullmidi.write('midi', fp = OUTPUT_PATH + MODEL_NAME + f'{i+STARTING_OFFSET}.mid')"
      ],
      "execution_count": null,
      "outputs": []
    },
    {
      "cell_type": "markdown",
      "metadata": {
        "id": "xNKr2yri8M6v"
      },
      "source": [
        "# DEBUG SECTION"
      ]
    },
    {
      "cell_type": "code",
      "metadata": {
        "colab": {
          "base_uri": "https://localhost:8080/"
        },
        "id": "iyhlB6grlkEI",
        "outputId": "7bf332cb-5d17-4abf-dc55-0f0735fedd48"
      },
      "source": [
        "import gc\n",
        "gc.collect()"
      ],
      "execution_count": null,
      "outputs": [
        {
          "output_type": "execute_result",
          "data": {
            "text/plain": [
              "1170461"
            ]
          },
          "metadata": {
            "tags": []
          },
          "execution_count": 49
        }
      ]
    },
    {
      "cell_type": "code",
      "metadata": {
        "id": "ckNS6QW6W8Bt"
      },
      "source": [
        "print(midiparts[2].song)\n",
        "print(midiparts[2].instrument)\n",
        "print(midiparts[2].chords)\n",
        "print(midiparts[2].durations)\n",
        "\n",
        "print(allchords[0])\n",
        "print(alldurations[0])\n",
        "\n",
        "print(midiparts[6].song)\n",
        "print(midiparts[6].instrument)\n",
        "print(midiparts[6].chords)\n",
        "print(midiparts[6].durations)\n",
        "\n",
        "print(allbasschords[0])\n",
        "\n",
        "print(midiparts[7].song)\n",
        "print(midiparts[7].instrument)\n",
        "print(midiparts[7].chords)\n",
        "print(midiparts[7].durations)\n",
        "\n",
        "print(alldrumchords[0])"
      ],
      "execution_count": null,
      "outputs": []
    },
    {
      "cell_type": "code",
      "metadata": {
        "colab": {
          "base_uri": "https://localhost:8080/",
          "height": 387
        },
        "id": "G58iw9ULn4AA",
        "outputId": "d5715595-3801-47a4-d4c3-f5820c3d6641"
      },
      "source": [
        "#This is a debug cell, with a lot of prints:\n",
        "\n",
        "print(mapper)\n",
        "print(len(mapper))\n",
        "\n",
        "print(durationmapper)\n",
        "print(len(durationmapper))\n",
        "\n",
        "print(note_input.shape)\n",
        "print(note_output.shape)\n",
        "print(dur_input.shape)\n",
        "print(dur_output.shape)\n",
        "\n",
        "print(X_train[0])\n",
        "\n",
        "print(X_train.shape, X_val.shape, X_test.shape, Y_train.shape, Y_val.shape, Y_test.shape)\n"
      ],
      "execution_count": null,
      "outputs": [
        {
          "output_type": "stream",
          "text": [
            "{'<music21.chord.Chord A1 D2 A2>': 0, '<music21.chord.Chord A1 E2 A2>': 1, '<music21.chord.Chord A1 E2>': 2, '<music21.chord.Chord A1>': 3, '<music21.chord.Chord A2 A1>': 4, '<music21.chord.Chord A2 A2>': 5, '<music21.chord.Chord A2 A3>': 6, '<music21.chord.Chord A2 B2>': 7, '<music21.chord.Chord A2 C#2>': 8, '<music21.chord.Chord A2 D2>': 9, '<music21.chord.Chord A2 E2 A1>': 10, '<music21.chord.Chord A2 E2>': 11, '<music21.chord.Chord A2>': 12, '<music21.chord.Chord A3 D3>': 13, '<music21.chord.Chord A3>': 14, '<music21.chord.Chord A4>': 15, '<music21.chord.Chord B-1 F2>': 16, '<music21.chord.Chord B-1>': 17, '<music21.chord.Chord B-2 B-1>': 18, '<music21.chord.Chord B-2 E-2>': 19, '<music21.chord.Chord B-2 F2 B-1>': 20, '<music21.chord.Chord B-2 F2>': 21, '<music21.chord.Chord B-2>': 22, '<music21.chord.Chord B-3>': 23, '<music21.chord.Chord B1 B2>': 24, '<music21.chord.Chord B1 F#2 B2>': 25, '<music21.chord.Chord B1 F#2>': 26, '<music21.chord.Chord B1>': 27, '<music21.chord.Chord B2 C3>': 28, '<music21.chord.Chord B2 E2 E1>': 29, '<music21.chord.Chord B2 E2>': 30, '<music21.chord.Chord B2 F#2 B1>': 31, '<music21.chord.Chord B2 F#3>': 32, '<music21.chord.Chord B2>': 33, '<music21.chord.Chord B3>': 34, '<music21.chord.Chord C#2>': 35, '<music21.chord.Chord C#3 F#2>': 36, '<music21.chord.Chord C#3 G#2 C#2>': 37, '<music21.chord.Chord C#3>': 38, '<music21.chord.Chord C2 B-2 A3>': 39, '<music21.chord.Chord C2 B-2>': 40, '<music21.chord.Chord C2 D2 B-2 A3>': 41, '<music21.chord.Chord C2 F1>': 42, '<music21.chord.Chord C2 G#2>': 43, '<music21.chord.Chord C2 G2 C3>': 44, '<music21.chord.Chord C2 G2>': 45, '<music21.chord.Chord C2>': 46, '<music21.chord.Chord C3 C2>': 47, '<music21.chord.Chord C3 D3>': 48, '<music21.chord.Chord C3 F2>': 49, '<music21.chord.Chord C3 G#2>': 50, '<music21.chord.Chord C3 G2 C2>': 51, '<music21.chord.Chord C3 G2>': 52, '<music21.chord.Chord C3 G3>': 53, '<music21.chord.Chord C3>': 54, '<music21.chord.Chord C4 G3 C3>': 55, '<music21.chord.Chord C4>': 56, '<music21.chord.Chord D1>': 57, '<music21.chord.Chord D2 A2 D3>': 58, '<music21.chord.Chord D2 A2>': 59, '<music21.chord.Chord D2 B-2 A3>': 60, '<music21.chord.Chord D2 B-2>': 61, '<music21.chord.Chord D2 D3>': 62, '<music21.chord.Chord D2 F#2>': 63, '<music21.chord.Chord D2 G#2>': 64, '<music21.chord.Chord D2 G1>': 65, '<music21.chord.Chord D2>': 66, '<music21.chord.Chord D3 A2 D2>': 67, '<music21.chord.Chord D3 A2>': 68, '<music21.chord.Chord D3 B2>': 69, '<music21.chord.Chord D3 D2>': 70, '<music21.chord.Chord D3 D4>': 71, '<music21.chord.Chord D3 F#2>': 72, '<music21.chord.Chord D3 G2>': 73, '<music21.chord.Chord D3>': 74, '<music21.chord.Chord D4>': 75, '<music21.chord.Chord E-2 G#1>': 76, '<music21.chord.Chord E-2>': 77, '<music21.chord.Chord E-3 B-2 E-2>': 78, '<music21.chord.Chord E-3 G#2>': 79, '<music21.chord.Chord E-3>': 80, '<music21.chord.Chord E1 E2 B2 E3>': 81, '<music21.chord.Chord E1 E2 B2>': 82, '<music21.chord.Chord E1>': 83, '<music21.chord.Chord E2 A1>': 84, '<music21.chord.Chord E2 B2 E3>': 85, '<music21.chord.Chord E2 B2>': 86, '<music21.chord.Chord E2 E1>': 87, '<music21.chord.Chord E2 E3>': 88, '<music21.chord.Chord E2>': 89, '<music21.chord.Chord E3 A2>': 90, '<music21.chord.Chord E3 B2 E2 E1>': 91, '<music21.chord.Chord E3 B2 E2>': 92, '<music21.chord.Chord E3>': 93, '<music21.chord.Chord E4>': 94, '<music21.chord.Chord F#1>': 95, '<music21.chord.Chord F#2 B1>': 96, '<music21.chord.Chord F#2 C#2 F#1>': 97, '<music21.chord.Chord F#2>': 98, '<music21.chord.Chord F#3 B2>': 99, '<music21.chord.Chord F#3 C#3 F#2>': 100, '<music21.chord.Chord F#3>': 101, '<music21.chord.Chord F1>': 102, '<music21.chord.Chord F2 B-1>': 103, '<music21.chord.Chord F2 B2>': 104, '<music21.chord.Chord F2 C2 F1>': 105, '<music21.chord.Chord F2 C3>': 106, '<music21.chord.Chord F2 F1>': 107, '<music21.chord.Chord F2 F2>': 108, '<music21.chord.Chord F2>': 109, '<music21.chord.Chord F3 C3 F2>': 110, '<music21.chord.Chord F3 C3>': 111, '<music21.chord.Chord F3>': 112, '<music21.chord.Chord F4>': 113, '<music21.chord.Chord G#1>': 114, '<music21.chord.Chord G#2 C#2>': 115, '<music21.chord.Chord G#2>': 116, '<music21.chord.Chord G#3 C#3 G#2>': 117, '<music21.chord.Chord G#3>': 118, '<music21.chord.Chord G1>': 119, '<music21.chord.Chord G2 A2>': 120, '<music21.chord.Chord G2 C2>': 121, '<music21.chord.Chord G2 D2 G1>': 122, '<music21.chord.Chord G2 D2>': 123, '<music21.chord.Chord G2 G1>': 124, '<music21.chord.Chord G2 G3>': 125, '<music21.chord.Chord G2>': 126, '<music21.chord.Chord G3 C3>': 127, '<music21.chord.Chord G3 D3 G2>': 128, '<music21.chord.Chord G3 D3>': 129, '<music21.chord.Chord G3 G4>': 130, '<music21.chord.Chord G3>': 131, '<music21.chord.Chord G4>': 132, '<music21.note.Rest rest>': 133}\n",
            "134\n",
            "{'<music21.duration.Duration 0.25>': 0, '<music21.duration.Duration 0.5>': 1, '<music21.duration.Duration 0.75>': 2, '<music21.duration.Duration 1.0>': 3, '<music21.duration.Duration 1.25>': 4, '<music21.duration.Duration 1.5>': 5, '<music21.duration.Duration 1.75>': 6, '<music21.duration.Duration 1/12>': 7, '<music21.duration.Duration 1/3>': 8, '<music21.duration.Duration 1/6>': 9, '<music21.duration.Duration 10.0>': 10, '<music21.duration.Duration 10.5>': 11, '<music21.duration.Duration 101.0>': 12, '<music21.duration.Duration 101.5>': 13, '<music21.duration.Duration 1025.0>': 14, '<music21.duration.Duration 11.0>': 15, '<music21.duration.Duration 11.25>': 16, '<music21.duration.Duration 11.75>': 17, '<music21.duration.Duration 11/12>': 18, '<music21.duration.Duration 11/3>': 19, '<music21.duration.Duration 12.0>': 20, '<music21.duration.Duration 12.25>': 21, '<music21.duration.Duration 12.5>': 22, '<music21.duration.Duration 13.0>': 23, '<music21.duration.Duration 13.5>': 24, '<music21.duration.Duration 13.75>': 25, '<music21.duration.Duration 13/12>': 26, '<music21.duration.Duration 13/3>': 27, '<music21.duration.Duration 130.5>': 28, '<music21.duration.Duration 14.0>': 29, '<music21.duration.Duration 14.25>': 30, '<music21.duration.Duration 14/3>': 31, '<music21.duration.Duration 148.0>': 32, '<music21.duration.Duration 15.0>': 33, '<music21.duration.Duration 15.25>': 34, '<music21.duration.Duration 15.5>': 35, '<music21.duration.Duration 15.75>': 36, '<music21.duration.Duration 16.0>': 37, '<music21.duration.Duration 16.25>': 38, '<music21.duration.Duration 16.5>': 39, '<music21.duration.Duration 1608.25>': 40, '<music21.duration.Duration 17.5>': 41, '<music21.duration.Duration 18.0>': 42, '<music21.duration.Duration 184.0>': 43, '<music21.duration.Duration 191.5>': 44, '<music21.duration.Duration 2.0>': 45, '<music21.duration.Duration 2.25>': 46, '<music21.duration.Duration 2.5>': 47, '<music21.duration.Duration 2.75>': 48, '<music21.duration.Duration 2/3>': 49, '<music21.duration.Duration 20.0>': 50, '<music21.duration.Duration 21.0>': 51, '<music21.duration.Duration 21.25>': 52, '<music21.duration.Duration 22.0>': 53, '<music21.duration.Duration 22/3>': 54, '<music21.duration.Duration 24.0>': 55, '<music21.duration.Duration 25.5>': 56, '<music21.duration.Duration 27.0>': 57, '<music21.duration.Duration 28.0>': 58, '<music21.duration.Duration 29.0>': 59, '<music21.duration.Duration 29/12>': 60, '<music21.duration.Duration 3.0>': 61, '<music21.duration.Duration 3.25>': 62, '<music21.duration.Duration 3.5>': 63, '<music21.duration.Duration 3.75>': 64, '<music21.duration.Duration 30.0>': 65, '<music21.duration.Duration 30.5>': 66, '<music21.duration.Duration 32.0>': 67, '<music21.duration.Duration 35/12>': 68, '<music21.duration.Duration 38.0>': 69, '<music21.duration.Duration 4.0>': 70, '<music21.duration.Duration 4.25>': 71, '<music21.duration.Duration 4.5>': 72, '<music21.duration.Duration 4.75>': 73, '<music21.duration.Duration 4/3>': 74, '<music21.duration.Duration 41/3>': 75, '<music21.duration.Duration 42.25>': 76, '<music21.duration.Duration 48.25>': 77, '<music21.duration.Duration 49.0>': 78, '<music21.duration.Duration 49/12>': 79, '<music21.duration.Duration 5.0>': 80, '<music21.duration.Duration 5.25>': 81, '<music21.duration.Duration 5.5>': 82, '<music21.duration.Duration 5.75>': 83, '<music21.duration.Duration 5/12>': 84, '<music21.duration.Duration 5/3>': 85, '<music21.duration.Duration 5/6>': 86, '<music21.duration.Duration 52.0>': 87, '<music21.duration.Duration 53.0>': 88, '<music21.duration.Duration 559/12>': 89, '<music21.duration.Duration 59.0>': 90, '<music21.duration.Duration 6.0>': 91, '<music21.duration.Duration 6.5>': 92, '<music21.duration.Duration 612.25>': 93, '<music21.duration.Duration 64.0>': 94, '<music21.duration.Duration 67.0>': 95, '<music21.duration.Duration 7.0>': 96, '<music21.duration.Duration 7.5>': 97, '<music21.duration.Duration 7.75>': 98, '<music21.duration.Duration 7/12>': 99, '<music21.duration.Duration 7/6>': 100, '<music21.duration.Duration 72.5>': 101, '<music21.duration.Duration 74.0>': 102, '<music21.duration.Duration 8.0>': 103, '<music21.duration.Duration 8.25>': 104, '<music21.duration.Duration 8.5>': 105, '<music21.duration.Duration 8/3>': 106, '<music21.duration.Duration 9.0>': 107, '<music21.duration.Duration 9.25>': 108, '<music21.duration.Duration 9.5>': 109, '<music21.duration.Duration 96.0>': 110}\n",
            "111\n",
            "(162983, 20, 1)\n",
            "(162983, 134)\n",
            "(162983, 20, 1)\n",
            "(162983, 111)\n"
          ],
          "name": "stdout"
        },
        {
          "output_type": "error",
          "ename": "NameError",
          "evalue": "ignored",
          "traceback": [
            "\u001b[0;31m---------------------------------------------------------------------------\u001b[0m",
            "\u001b[0;31mNameError\u001b[0m                                 Traceback (most recent call last)",
            "\u001b[0;32m<ipython-input-22-2df39ea9b50f>\u001b[0m in \u001b[0;36m<module>\u001b[0;34m()\u001b[0m\n\u001b[1;32m     12\u001b[0m \u001b[0mprint\u001b[0m\u001b[0;34m(\u001b[0m\u001b[0mdur_output\u001b[0m\u001b[0;34m.\u001b[0m\u001b[0mshape\u001b[0m\u001b[0;34m)\u001b[0m\u001b[0;34m\u001b[0m\u001b[0;34m\u001b[0m\u001b[0m\n\u001b[1;32m     13\u001b[0m \u001b[0;34m\u001b[0m\u001b[0m\n\u001b[0;32m---> 14\u001b[0;31m \u001b[0mprint\u001b[0m\u001b[0;34m(\u001b[0m\u001b[0mX_train\u001b[0m\u001b[0;34m[\u001b[0m\u001b[0;36m0\u001b[0m\u001b[0;34m]\u001b[0m\u001b[0;34m)\u001b[0m\u001b[0;34m\u001b[0m\u001b[0;34m\u001b[0m\u001b[0m\n\u001b[0m\u001b[1;32m     15\u001b[0m \u001b[0;34m\u001b[0m\u001b[0m\n\u001b[1;32m     16\u001b[0m \u001b[0mprint\u001b[0m\u001b[0;34m(\u001b[0m\u001b[0mX_train\u001b[0m\u001b[0;34m.\u001b[0m\u001b[0mshape\u001b[0m\u001b[0;34m,\u001b[0m \u001b[0mX_val\u001b[0m\u001b[0;34m.\u001b[0m\u001b[0mshape\u001b[0m\u001b[0;34m,\u001b[0m \u001b[0mX_test\u001b[0m\u001b[0;34m.\u001b[0m\u001b[0mshape\u001b[0m\u001b[0;34m,\u001b[0m \u001b[0mY_train\u001b[0m\u001b[0;34m.\u001b[0m\u001b[0mshape\u001b[0m\u001b[0;34m,\u001b[0m \u001b[0mY_val\u001b[0m\u001b[0;34m.\u001b[0m\u001b[0mshape\u001b[0m\u001b[0;34m,\u001b[0m \u001b[0mY_test\u001b[0m\u001b[0;34m.\u001b[0m\u001b[0mshape\u001b[0m\u001b[0;34m)\u001b[0m\u001b[0;34m\u001b[0m\u001b[0;34m\u001b[0m\u001b[0m\n",
            "\u001b[0;31mNameError\u001b[0m: name 'X_train' is not defined"
          ]
        }
      ]
    },
    {
      "cell_type": "code",
      "metadata": {
        "id": "mdtQ0Cjd8Nlf",
        "colab": {
          "base_uri": "https://localhost:8080/"
        },
        "outputId": "906e1317-bec5-4cca-a667-ff66b4f38932"
      },
      "source": [
        "debugarray = []\n",
        "for i in midiparts:\n",
        "    debugarray.append(i.instrument)\n",
        "\n",
        "print(set(debugarray))"
      ],
      "execution_count": null,
      "outputs": [
        {
          "output_type": "stream",
          "text": [
            "{'10 to 12 Schubert', '1 to 3 Schubert'}\n"
          ],
          "name": "stdout"
        }
      ]
    }
  ]
}