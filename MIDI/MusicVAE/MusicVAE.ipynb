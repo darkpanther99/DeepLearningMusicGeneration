{
  "nbformat": 4,
  "nbformat_minor": 0,
  "metadata": {
    "colab": {
      "name": "MusicVAE.ipynb",
      "provenance": [],
      "collapsed_sections": [
        "PLgy3bnv6t-H"
      ],
      "toc_visible": true
    },
    "kernelspec": {
      "name": "python3",
      "display_name": "Python 3"
    },
    "language_info": {
      "name": "python"
    },
    "accelerator": "GPU"
  },
  "cells": [
    {
      "cell_type": "markdown",
      "metadata": {
        "id": "zQOaBFxx5hlU"
      },
      "source": [
        "# IMPORT SECTION"
      ]
    },
    {
      "cell_type": "code",
      "metadata": {
        "id": "9kiBaA-La0N-",
        "colab": {
          "base_uri": "https://localhost:8080/"
        },
        "outputId": "b03c7902-ec83-46cb-9865-c59ce4a5d56b"
      },
      "source": [
        "!pip install --upgrade music21\n",
        "from music21 import converter, instrument, note, chord\n",
        "import os\n",
        "from tqdm import tqdm\n",
        "import numpy as np\n",
        "from keras.utils import to_categorical\n",
        "from keras.models import Sequential\n",
        "from keras.layers import LSTM, Dense, Flatten, Dropout\n",
        "%load_ext tensorboard \n",
        "from tensorboard import notebook\n",
        "from keras.callbacks import TensorBoard\n",
        "from keras.callbacks import ReduceLROnPlateau\n",
        "from keras.callbacks import EarlyStopping\n",
        "from keras.layers import LSTM, Bidirectional, Input, Layer, Dense, Reshape, concatenate\n",
        "from keras.models import Model\n",
        "import numpy as np\n",
        "import tensorflow as tf\n",
        "import matplotlib.pyplot as plt"
      ],
      "execution_count": null,
      "outputs": [
        {
          "output_type": "stream",
          "text": [
            "Collecting music21\n",
            "\u001b[?25l  Downloading https://files.pythonhosted.org/packages/43/f3/da0ab10ffb5e58e2690b8dff310bb53f35af213a8853ec72c08df41ea080/music21-6.7.1.tar.gz (19.2MB)\n",
            "\u001b[K     |████████████████████████████████| 19.3MB 1.2MB/s \n",
            "\u001b[?25hRequirement already satisfied, skipping upgrade: chardet in /usr/local/lib/python3.7/dist-packages (from music21) (3.0.4)\n",
            "Requirement already satisfied, skipping upgrade: joblib in /usr/local/lib/python3.7/dist-packages (from music21) (1.0.1)\n",
            "Requirement already satisfied, skipping upgrade: more-itertools in /usr/local/lib/python3.7/dist-packages (from music21) (8.7.0)\n",
            "Collecting webcolors\n",
            "  Downloading https://files.pythonhosted.org/packages/12/05/3350559de9714b202e443a9e6312937341bd5f79f4e4f625744295e7dd17/webcolors-1.11.1-py3-none-any.whl\n",
            "Building wheels for collected packages: music21\n",
            "  Building wheel for music21 (setup.py) ... \u001b[?25l\u001b[?25hdone\n",
            "  Created wheel for music21: filename=music21-6.7.1-cp37-none-any.whl size=21941694 sha256=0984aeec291b7160c2a185485f2b55df0483e8ea051b45b461803246be33a98c\n",
            "  Stored in directory: /root/.cache/pip/wheels/1a/0f/0e/f78ad56a2738f4ea5082dd4283d7b7cce18a8ba20c3e609b6c\n",
            "Successfully built music21\n",
            "Installing collected packages: webcolors, music21\n",
            "  Found existing installation: music21 5.5.0\n",
            "    Uninstalling music21-5.5.0:\n",
            "      Successfully uninstalled music21-5.5.0\n",
            "Successfully installed music21-6.7.1 webcolors-1.11.1\n"
          ],
          "name": "stdout"
        }
      ]
    },
    {
      "cell_type": "code",
      "metadata": {
        "colab": {
          "base_uri": "https://localhost:8080/"
        },
        "id": "bVkTmvvj56_U",
        "outputId": "78409e05-0fcd-4e27-ab6b-7112b47fd557"
      },
      "source": [
        "from google.colab import drive\n",
        "\n",
        "drive.mount('/content/drive', force_remount=False)\n",
        "\n",
        "MIDI_PATH=\"/content/drive/My Drive/MLFolder/Onlab/MIDI_Iron_Maiden/\""
      ],
      "execution_count": null,
      "outputs": [
        {
          "output_type": "stream",
          "text": [
            "Mounted at /content/drive\n"
          ],
          "name": "stdout"
        }
      ]
    },
    {
      "cell_type": "code",
      "metadata": {
        "id": "a2h-ZppntKlt",
        "colab": {
          "base_uri": "https://localhost:8080/"
        },
        "outputId": "a8cafda4-07d4-4625-ac0e-8f7f9173d6d9"
      },
      "source": [
        "!nvidia-smi"
      ],
      "execution_count": null,
      "outputs": [
        {
          "output_type": "stream",
          "text": [
            "Sun Apr 11 10:08:16 2021       \n",
            "+-----------------------------------------------------------------------------+\n",
            "| NVIDIA-SMI 460.67       Driver Version: 460.32.03    CUDA Version: 11.2     |\n",
            "|-------------------------------+----------------------+----------------------+\n",
            "| GPU  Name        Persistence-M| Bus-Id        Disp.A | Volatile Uncorr. ECC |\n",
            "| Fan  Temp  Perf  Pwr:Usage/Cap|         Memory-Usage | GPU-Util  Compute M. |\n",
            "|                               |                      |               MIG M. |\n",
            "|===============================+======================+======================|\n",
            "|   0  Tesla T4            Off  | 00000000:00:04.0 Off |                    0 |\n",
            "| N/A   59C    P8    11W /  70W |      0MiB / 15109MiB |      0%      Default |\n",
            "|                               |                      |                  N/A |\n",
            "+-------------------------------+----------------------+----------------------+\n",
            "                                                                               \n",
            "+-----------------------------------------------------------------------------+\n",
            "| Processes:                                                                  |\n",
            "|  GPU   GI   CI        PID   Type   Process name                  GPU Memory |\n",
            "|        ID   ID                                                   Usage      |\n",
            "|=============================================================================|\n",
            "|  No running processes found                                                 |\n",
            "+-----------------------------------------------------------------------------+\n"
          ],
          "name": "stdout"
        }
      ]
    },
    {
      "cell_type": "markdown",
      "metadata": {
        "id": "5hwflc--6m7S"
      },
      "source": [
        "# UTILITY FUNCTIONS SECTION"
      ]
    },
    {
      "cell_type": "code",
      "metadata": {
        "id": "O9ixCmCG6rqq"
      },
      "source": [
        "#https://www.geeksforgeeks.org/python-find-most-frequent-element-in-a-list/\n",
        "\n",
        "def most_frequent(paramlist): \n",
        "    counter = 0\n",
        "    num = paramlist[0] \n",
        "      \n",
        "    for i in paramlist: \n",
        "        curr_frequency = paramlist.count(i) \n",
        "        if(curr_frequency> counter): \n",
        "            counter = curr_frequency \n",
        "            num = i \n",
        "  \n",
        "    return num \n",
        "\n",
        "#Utility functions\n",
        "\n",
        "def get_notes_from_chord(chord):\n",
        "    if chord.startswith(\"<music21.chord.Chord \"):\n",
        "        chord = chord[len(\"<music21.chord.Chord \"):]\n",
        "    if chord.endswith(\">\"):\n",
        "        chord = chord[:-1]\n",
        "    chord = chord.replace(\" \", \",\")\n",
        "    return chord\n",
        "\n",
        "def get_number_from_duration(duration):\n",
        "    if duration.startswith(\"<music21.duration.Duration \"):\n",
        "        duration = duration[len(\"<music21.duration.Duration \"):]\n",
        "    if duration.endswith(\">\"):\n",
        "        duration = duration[:-1]\n",
        "    duration = duration.replace(\" \", \",\")\n",
        "    return duration\n",
        "\n",
        "def create_mapper(chords):\n",
        "    pitchnames = sorted(set(str(item) for item in chords))\n",
        "    mapper = dict((note, number) for number, note in enumerate(pitchnames))\n",
        "\n",
        "    return mapper\n",
        "\n",
        "def encode_using_mapper(chords, mapper):\n",
        "    encodedsong=[]\n",
        "    for c in chords:\n",
        "        encodedsong.append(mapper[str(c)])\n",
        "\n",
        "    return encodedsong\n",
        "\n",
        "\n",
        "def decode_chords_using_mapper(numbers, mapper):\n",
        "    outputnotes = []\n",
        "    for number in numbers:\n",
        "        outputnotes.append(chord_from_string(get_notes_from_chord(get_key_from_value(number, mapper))))\n",
        "\n",
        "    return outputnotes\n",
        "\n",
        "def combine_chords_with_durations(chords, durations):\n",
        "    combined = []\n",
        "\n",
        "    for i, j in zip(chords, durations):\n",
        "        i = get_notes_from_chord(str(i))\n",
        "        j = get_number_from_duration(str(j))\n",
        "        combined.append(i + ';' + j)\n",
        "\n",
        "    return combined\n",
        "\n",
        "def make_slices(data, slice_length):\n",
        "    for song in tqdm(data):\n",
        "        if len(song) > slice_length:\n",
        "\n",
        "            input = []\n",
        "            output = []\n",
        "            slice = []\n",
        "\n",
        "            for idx, number in enumerate(song):\n",
        "                if idx < slice_length:\n",
        "                    slice.append(number)\n",
        "\n",
        "            input.append(slice.copy())\n",
        "            output.append(song[slice_length])\n",
        "\n",
        "            # Sliding window\n",
        "            for idx, number in enumerate(song):\n",
        "                if idx >= slice_length and (idx + 1) < len(song):\n",
        "                    slice.pop(0)\n",
        "                    slice.append(number)\n",
        "                    input.append(slice.copy())  # Copy is necessary, because of how pointers and lists work in Python\n",
        "                    output.append(song[idx + 1])\n",
        "\n",
        "    return input, output\n",
        "\n",
        "def parse_everything_together(data, slice_length):\n",
        "\n",
        "    notes=[]\n",
        "    input=[]\n",
        "    output=[]\n",
        "    slice = []\n",
        "\n",
        "    for song in tqdm(data):\n",
        "        for number in song:\n",
        "            notes.append(number)\n",
        "    \n",
        "    for idx, note in tqdm(enumerate(notes)):\n",
        "        if idx < slice_length:\n",
        "            slice.append(number)\n",
        "\n",
        "    input.append(slice.copy())\n",
        "    output.append(notes[slice_length])\n",
        "\n",
        "    # Sliding window\n",
        "    for idx, number in tqdm(enumerate(notes)):\n",
        "        if idx >= slice_length and (idx + 1) < len(notes):\n",
        "            slice.pop(0)\n",
        "            slice.append(number)\n",
        "            input.append(slice.copy())  # Copy is necessary, because of how pointers and lists work in Python\n",
        "            output.append(notes[idx + 1])\n",
        "        \n",
        "    return input, output\n",
        "\n",
        "def get_key_from_value(value, dict):\n",
        "    return list(dict.keys())[list(dict.values()).index(value)]\n",
        "\n",
        "def get_notes_from_chord(chord):\n",
        "    if chord.startswith(\"<music21.chord.Chord \"):\n",
        "        chord = chord[len(\"<music21.chord.Chord \"):]\n",
        "    if chord.endswith(\">\"):\n",
        "        chord = chord[:-1]\n",
        "    chord = chord.replace(\" \", \",\")\n",
        "    return chord\n",
        "\n",
        "def get_number_from_duration(duration):\n",
        "    if duration.startswith(\"<music21.duration.Duration \"):\n",
        "        duration = duration[len(\"<music21.duration.Duration \"):]\n",
        "    if duration.endswith(\">\"):\n",
        "        duration = duration[:-1]\n",
        "    duration = duration.replace(\" \", \",\")\n",
        "    return duration\n",
        "\n",
        "def chord_from_string(chordstring):\n",
        "    notes = chordstring.split(\";\")\n",
        "    return chord.Chord(notes)\n",
        "\n",
        "#From: https://stackoverflow.com/questions/1806278/convert-fraction-to-float\n",
        "def convert_to_float(frac_str):\n",
        "    try:\n",
        "        return float(frac_str)\n",
        "    except ValueError:\n",
        "        num, denom = frac_str.split('/')\n",
        "        try:\n",
        "            leading, num = num.split(' ')\n",
        "            whole = float(leading)\n",
        "        except ValueError:\n",
        "            whole = 0\n",
        "        frac = float(num) / float(denom)\n",
        "        return whole - frac if whole < 0 else whole + frac\n",
        "\n",
        "#Source: https://github.com/alexissa32/DataScienceMusic\n",
        "def create_midi_without_chords(prediction_output, target_instrument = instrument.Piano(), filename = 'test_output.mid'):\n",
        "    '''\n",
        "    First step:\n",
        "    Only notes, no chords\n",
        "    Static 4/4 beat\n",
        "    Rests\n",
        "    '''\n",
        "    offset = 0\n",
        "    output_notes = []\n",
        "\n",
        "    # create note and chord objects based on the values generated by the model\n",
        "    for pattern in prediction_output:\n",
        "        # pattern is a rest\n",
        "        if('rest' in pattern):\n",
        "            new_rest = note.Rest(pattern)\n",
        "            new_rest.offset = offset\n",
        "            new_rest.storedInstrument = target_instrument #???\n",
        "            output_notes.append(new_rest)\n",
        "        # pattern is a note\n",
        "        else:\n",
        "            new_note = note.Note(pattern)\n",
        "            new_note.offset = offset\n",
        "            new_note.storedInstrument = target_instrument\n",
        "            output_notes.append(new_note)\n",
        "        # increase offset each iteration so that notes do not stack\n",
        "        offset += 0.5\n",
        "\n",
        "    midi_stream = stream.Stream(output_notes)\n",
        "\n",
        "    midi_stream.write('midi', fp=filename)\n",
        "\n",
        "def create_midi_without_durations(prediction_output, target_instrument = instrument.Piano(), filename = 'test_output.mid'):\n",
        "    '''\n",
        "    Second step:\n",
        "    Chords and notes\n",
        "    Static 4/4 beat\n",
        "    Rests\n",
        "    '''\n",
        "    offset = 0\n",
        "    output_notes = []\n",
        "\n",
        "    # create note and chord objects based on the values generated by the model\n",
        "    for pattern in prediction_output:\n",
        "        # pattern is a chord\n",
        "        if ('chord' in pattern):\n",
        "            notes = []\n",
        "            pattern = get_notes_from_chord(pattern)\n",
        "            patternpitches = pattern.split(',')\n",
        "            for current_note in patternpitches:\n",
        "                new_note = note.Note(current_note)\n",
        "                new_note.storedInstrument = target_instrument\n",
        "                notes.append(new_note)\n",
        "            new_chord = chord.Chord(notes)\n",
        "            new_chord.offset = offset\n",
        "            output_notes.append(new_chord)\n",
        "        # pattern is a rest\n",
        "        elif('rest' in pattern):\n",
        "            new_rest = note.Rest(pattern)\n",
        "            new_rest.offset = offset\n",
        "            new_rest.storedInstrument = target_instrument #???\n",
        "            output_notes.append(new_rest)\n",
        "        # pattern is a note\n",
        "        else:\n",
        "            new_note = note.Note(pattern)\n",
        "            new_note.offset = offset\n",
        "            new_note.storedInstrument = target_instrument\n",
        "            output_notes.append(new_note)\n",
        "        # increase offset each iteration so that notes do not stack\n",
        "        offset += 0.5\n",
        "\n",
        "    midi_stream = stream.Stream(output_notes)\n",
        "\n",
        "    midi_stream.write('midi', fp=filename)\n",
        "\n",
        "def create_midi_with_durations(prediction_output, output_durations, target_instrument = instrument.Piano(), filename = 'test_output.mid'):\n",
        "    offset = 0\n",
        "    output_notes = []\n",
        "\n",
        "    # create note and chord objects based on the values generated by the model\n",
        "    for i in range(len(prediction_output)):\n",
        "        pattern = prediction_output[i]\n",
        "        duration = get_number_from_duration(output_durations[i])\n",
        "        # pattern is a chord\n",
        "        if ('chord' in pattern):\n",
        "            notes = []\n",
        "            pattern = get_notes_from_chord(pattern)\n",
        "            patternpitches = pattern.split(',')\n",
        "            for current_note in patternpitches:\n",
        "                new_note = note.Note(current_note)\n",
        "                new_note.storedInstrument = target_instrument\n",
        "                notes.append(new_note)\n",
        "            new_chord = chord.Chord(notes)\n",
        "            new_chord.offset = offset\n",
        "            output_notes.append(new_chord)\n",
        "        # pattern is a rest\n",
        "        elif('rest' in pattern):\n",
        "            new_rest = note.Rest(pattern)\n",
        "            new_rest.offset = offset\n",
        "            new_rest.storedInstrument = target_instrument #???\n",
        "            output_notes.append(new_rest)\n",
        "        # pattern is a note\n",
        "        else:\n",
        "            new_note = note.Note(pattern)\n",
        "            new_note.offset = offset\n",
        "            new_note.storedInstrument = target_instrument\n",
        "            output_notes.append(new_note)\n",
        "        # increase offset each iteration so that notes do not stack\n",
        "        offset += convert_to_float(duration)\n",
        "\n",
        "    midi_stream = stream.Stream(output_notes)\n",
        "\n",
        "    midi_stream.write('midi', fp=filename)\n",
        "\n",
        "def create_midi_with_embedded_durations(prediction_output, target_instrument = instrument.Piano(), filename = 'test_output.mid'):\n",
        "    offset = 0\n",
        "    output_notes = []\n",
        "\n",
        "    # create note and chord objects based on the values generated by the model\n",
        "    for i in range(len(prediction_output)):\n",
        "        pattern = prediction_output[i]\n",
        "        splitpattern = pattern.split(\";\")\n",
        "        pattern = splitpattern[0]\n",
        "\n",
        "        duration = get_number_from_duration(splitpattern[1])\n",
        "        # pattern is a rest\n",
        "        if('rest' in pattern):\n",
        "            new_rest = note.Rest(pattern)\n",
        "            new_rest.offset = offset\n",
        "            new_rest.storedInstrument = target_instrument #???\n",
        "            output_notes.append(new_rest)\n",
        "        # pattern is a chord\n",
        "        elif (',' in pattern):\n",
        "            notes = []\n",
        "            pattern = get_notes_from_chord(pattern)\n",
        "            patternpitches = pattern.split(',')\n",
        "            for current_note in patternpitches:\n",
        "                new_note = note.Note(current_note)\n",
        "                new_note.storedInstrument = target_instrument\n",
        "                notes.append(new_note)\n",
        "            new_chord = chord.Chord(notes)\n",
        "            new_chord.offset = offset\n",
        "            output_notes.append(new_chord)\n",
        "        # pattern is a note\n",
        "        else:\n",
        "            new_note = note.Note(pattern)\n",
        "            new_note.offset = offset\n",
        "            new_note.storedInstrument = target_instrument\n",
        "            output_notes.append(new_note)\n",
        "        # increase offset each iteration so that notes do not stack\n",
        "        offset += convert_to_float(duration)\n",
        "\n",
        "    midi_stream = stream.Stream(output_notes)\n",
        "\n",
        "    midi_stream.write('midi', fp=filename)\n",
        "\n",
        "def parse_midi_notes_and_durations():\n",
        "    midiparts = []\n",
        "\n",
        "    for file in tqdm(os.listdir(path)):\n",
        "        midi = converter.parse(os.path.join(path, file))\n",
        "\n",
        "        for part in midi.parts:\n",
        "            chords=[]\n",
        "            durations=[]\n",
        "            for element in part.notesAndRests:\n",
        "                if isinstance(element, note.Note):\n",
        "                    chords.append(chord.Chord([element]))\n",
        "                    durations.append(element.duration)\n",
        "                elif isinstance(element, chord.Chord):\n",
        "                    chords.append(element)\n",
        "                    durations.append(element.duration)\n",
        "                elif isinstance(element, note.Rest):\n",
        "                    chords.append(element)\n",
        "                    durations.append(element.duration)\n",
        "\n",
        "            if len(chords) > 0:\n",
        "                midiparts.append(MidiPart(file, part.partName, chords, durations))\n",
        "            else:\n",
        "                for voice in part.voices:\n",
        "                    chords=[]\n",
        "                    durations=[]\n",
        "                    for element in voice.notesAndRests:\n",
        "                        if isinstance(element, note.Note):\n",
        "                            chords.append(chord.Chord([element]))\n",
        "                            durations.append(element.duration)\n",
        "                        elif isinstance(element, chord.Chord):\n",
        "                            chords.append(element)\n",
        "                            durations.append(element.duration)\n",
        "                        elif isinstance(element, note.Rest):\n",
        "                            chords.append(element)\n",
        "                            durations.append(element.duration)\n",
        "\n",
        "                    midiparts.append(MidiPart(file, part.partName, chords, durations))\n",
        "\n",
        "    return midiparts"
      ],
      "execution_count": null,
      "outputs": []
    },
    {
      "cell_type": "markdown",
      "metadata": {
        "id": "BkRpraNv7DIA"
      },
      "source": [
        "# PREPROCESSING SECTION"
      ]
    },
    {
      "cell_type": "code",
      "metadata": {
        "id": "oq5bHQ7t7Ir2"
      },
      "source": [
        "class MidiPart:\n",
        "    def __init__(self, song, instrument, chords, durations):\n",
        "        self.song = song\n",
        "        self.instrument = instrument\n",
        "        self.chords = chords\n",
        "        self.durations = durations\n",
        "\n",
        "\n",
        "path = MIDI_PATH\n",
        "\n",
        "IRON_MAIDEN_INSTRUMENTS = ['Acoustic Guitar', 'Viola', 'Electric Bass', 'Brass', 'Sampler', 'Electric Guitar', 'Piano', 'StringInstrument']\n",
        "\n",
        "#TARGET_INSTRUMENT = 'Electric Bass'\n",
        "\n",
        "SLICE_LEN = 16"
      ],
      "execution_count": null,
      "outputs": []
    },
    {
      "cell_type": "code",
      "metadata": {
        "colab": {
          "base_uri": "https://localhost:8080/"
        },
        "id": "sJToT2o48i3F",
        "outputId": "fdcd2dc7-42b7-4e43-d5ea-f6a88369b02a"
      },
      "source": [
        "midiparts = parse_midi_notes_and_durations()"
      ],
      "execution_count": null,
      "outputs": [
        {
          "output_type": "stream",
          "text": [
            "100%|██████████| 93/93 [14:55<00:00,  9.63s/it]\n"
          ],
          "name": "stderr"
        }
      ]
    },
    {
      "cell_type": "code",
      "metadata": {
        "id": "vJnjce5D9DX4"
      },
      "source": [
        "allchords = []\n",
        "alldurations = []\n",
        "\n",
        "TARGET_INSTRUMENT = 'Electric Guitar'\n",
        "for i in midiparts:\n",
        "    if i.instrument == TARGET_INSTRUMENT:\n",
        "        if len(i.chords)>0 :\n",
        "            allchords.append(i.chords)\n",
        "            alldurations.append(i.durations)"
      ],
      "execution_count": null,
      "outputs": []
    },
    {
      "cell_type": "code",
      "metadata": {
        "id": "JAV96jV5wanW"
      },
      "source": [
        "mapperdata = []\n",
        "\n",
        "for i in allchords:\n",
        "    for j in i:\n",
        "        mapperdata.append(j)\n",
        "\n",
        "mapper = create_mapper(mapperdata)\n",
        "\n",
        "\n",
        "encoded_data = []\n",
        "\n",
        "for c in allchords:\n",
        "    encoded = encode_using_mapper(c, mapper)\n",
        "    encoded_data.append(encoded)\n",
        "\n",
        "\n",
        "restnumber = mapper['<music21.note.Rest rest>']\n",
        "\n",
        "cleared_encoded_data=[]\n",
        "\n",
        "for i in encoded_data:\n",
        "    if most_frequent(i) != restnumber:\n",
        "        cleared_encoded_data.append(i)\n",
        "    else:\n",
        "        pass\n",
        "\n",
        "\n"
      ],
      "execution_count": null,
      "outputs": []
    },
    {
      "cell_type": "code",
      "metadata": {
        "id": "pVqd1OAZ9GyH"
      },
      "source": [
        "assert(len(allchords) == len(alldurations))\n",
        "\n",
        "combined = []\n",
        "for i in range(len(allchords)):\n",
        "    combined.append(combine_chords_with_durations(allchords[i], alldurations[i]))\n",
        "\n",
        "mapperdata = []\n",
        "\n",
        "for i in combined:\n",
        "    for j in i:\n",
        "        mapperdata.append(j)\n",
        "\n",
        "mapper = create_mapper(mapperdata)\n",
        "\n",
        "\n",
        "encoded_data = []\n",
        "\n",
        "for c in combined:\n",
        "    encoded = encode_using_mapper(c, mapper)\n",
        "    encoded_data.append(encoded)\n",
        "\n",
        "\n",
        "restkeysvalues = []\n",
        "for j in mapper.keys():\n",
        "    if ( 'rest' in j):\n",
        "        restkeysvalues.append(mapper[j])\n",
        "\n",
        "cleared_encoded_data=[]\n",
        "\n",
        "for i in range(len(encoded_data)):\n",
        "    if most_frequent(encoded_data[i]) not in restkeysvalues:\n",
        "        cleared_encoded_data.append(encoded_data[i])\n",
        "    else:\n",
        "        pass"
      ],
      "execution_count": null,
      "outputs": []
    },
    {
      "cell_type": "code",
      "metadata": {
        "colab": {
          "base_uri": "https://localhost:8080/"
        },
        "id": "4j-QB_Qh-Rax",
        "outputId": "3773270a-353a-45c0-9ab2-5beb11ffba54"
      },
      "source": [
        "#input, output = parse_everything_together(cleared_encoded_data, SLICE_LEN)"
      ],
      "execution_count": null,
      "outputs": [
        {
          "output_type": "stream",
          "text": [
            "100%|██████████| 103/103 [00:00<00:00, 8300.13it/s]\n",
            "159664it [00:00, 2508209.34it/s]\n",
            "159664it [00:00, 504779.12it/s]\n"
          ],
          "name": "stderr"
        }
      ]
    },
    {
      "cell_type": "code",
      "metadata": {
        "id": "HG4UM1dNV1F5"
      },
      "source": [
        "cleared_encoded_data_full = []\n",
        "\n",
        "for i in cleared_encoded_data:\n",
        "    for j in i:\n",
        "        cleared_encoded_data_full.append(j)\n",
        "\n",
        "cleared_encoded_data_full = np.asarray(cleared_encoded_data_full)"
      ],
      "execution_count": null,
      "outputs": []
    },
    {
      "cell_type": "code",
      "metadata": {
        "id": "dfNJN-3dpDo8"
      },
      "source": [
        "input = cleared_encoded_data_full\n",
        "output = cleared_encoded_data_full"
      ],
      "execution_count": null,
      "outputs": []
    },
    {
      "cell_type": "code",
      "metadata": {
        "colab": {
          "base_uri": "https://localhost:8080/",
          "height": 319
        },
        "id": "iv4pnOr_B33Y",
        "outputId": "21b35dc3-52fd-4a16-8c52-aed753e2009e"
      },
      "source": [
        "import matplotlib.pyplot as plt\n",
        "from collections import Counter\n",
        "\n",
        "outputcnt = Counter(cleared_encoded_data_full)\n",
        "#plt.bar(outputcnt.keys(), outputcnt.values())\n",
        "#plt.show()\n",
        "\n",
        "function_like_array=[]\n",
        "for val in outputcnt.values():\n",
        "    function_like_array.append(val)\n",
        "\n",
        "function_like_array.sort()\n",
        "plt.plot(function_like_array)\n",
        "plt.show()\n",
        "\n",
        "outliers = []\n",
        "\n",
        "for i in outputcnt.keys():\n",
        "    if outputcnt[i] < 80:\n",
        "        outliers.append(i)\n",
        "\n",
        "print(outliers)\n",
        "print(len(outliers))"
      ],
      "execution_count": null,
      "outputs": [
        {
          "output_type": "display_data",
          "data": {
            "image/png": "[encoded data removed]",
            "text/plain": [
              "<Figure size 432x288 with 1 Axes>"
            ]
          },
          "metadata": {
            "tags": [],
            "image/png": {
              "width": 381,
              "height": 248
            },
            "needs_background": "light"
          }
        },
        {
          "output_type": "stream",
          "text": [
            "[3745, 3284, 2767, 961, 2553, 1963, 1966, 2490, 1626, 1238, 1235, 2952, 1248, 2285, 3271, 3709, 902, 2607, 1041, 1033, 1752, 2289, 804, 2821, 927, 1949, 1292, 236, 2889, 956, 1835, 1419, 3809, 1239, 2636, 3670, 2948, 2424, 1293, 1303, 812, 821, 2787, 199, 3591, 256, 99, 302, 40, 95, 518, 162, 574, 2900, 97, 430, 167, 2831, 2850, 2164, 2177, 1352, 520, 369, 1769, 594, 600, 406, 2816, 545, 549, 50, 3777, 251, 1814, 2823, 1398, 2221, 3130, 3121, 2235, 2238, 929, 2829, 2833, 2847, 2812, 1381, 3700, 3701, 3037, 3038, 2038, 873, 874, 3702, 2458, 1873, 623, 1579, 1878, 1120, 94, 3386, 2231, 67, 1032, 3218, 1807, 1746, 1654, 3528, 1337, 1782, 253, 1131, 3290, 3282, 3277, 3732, 1612, 3507, 2523, 349, 593, 404, 146, 932, 378, 111, 417, 228, 537, 13, 6, 519, 39, 1747, 225, 536, 171, 415, 148, 2535, 1278, 361, 247, 1121, 2922, 2361, 2813, 1391, 1508, 1308, 3380, 3769, 2897, 1823, 959, 2898, 2646, 867, 3680, 2007, 909, 925, 1809, 1815, 2226, 1078, 3800, 3123, 1065, 3310, 968, 1524, 3082, 561, 2905, 795, 2522, 3430, 921, 1401, 2827, 1385, 1387, 2895, 1388, 1206, 1189, 2570, 2121, 3469, 724, 307, 2394, 110, 125, 3245, 3681, 2010, 1023, 3540, 693, 779, 767, 1656, 1497, 1493, 1739, 793, 2064, 1957, 3759, 2293, 3183, 1175, 700, 477, 515, 2401, 2390, 1926, 2405, 1930, 2404, 3811, 3798, 646, 2278, 2025, 2022, 1729, 3529, 3551, 1756, 2538, 2265, 1615, 3581, 427, 1003, 3170, 3468, 997, 995, 3191, 1563, 1559, 1922, 1557, 719, 1005, 1681, 706, 3293, 2290, 2311, 3307, 3524, 3197, 3196, 1002, 2260, 2315, 1063, 3306, 1076, 3799, 1072, 1083, 181, 1994, 1016, 1702, 2630, 297, 2445, 776, 2429, 3569, 3570, 1168, 1167, 2931, 1923, 2441, 2362, 2366, 3522, 3689, 1367, 1368, 2856, 3752, 2376, 3444, 670, 1620, 2544, 943, 2870, 2873, 3717, 908, 2203, 836, 367, 2842, 2841, 3585, 377, 2171, 651, 657, 468, 1289, 363, 2557, 2556, 673, 2807, 556, 1886, 1549, 3406, 3617, 3616, 3034, 3033, 3032, 3407, 1722, 3647, 290, 3517, 3036, 2422, 3344, 3519, 3511, 753, 1020, 1015, 3513, 2128, 3532, 1028, 30, 3435, 1954, 3351, 3443, 1133, 531, 2236, 3805, 3815, 801, 2233, 1528, 1066, 1021, 3693, 69, 31, 2369, 429, 655, 52, 118, 3437, 1713, 1705, 1709, 758, 761, 2643, 1242, 1614, 1714, 3021, 871, 2605, 2436, 2610, 1804, 1817, 923, 2208, 954, 3795, 2890, 3125, 3762, 3131, 3562, 645, 2560, 2981, 1616, 3764, 3289, 2792, 2157, 990, 1031, 2519, 2230, 2904, 3314, 3810, 3808, 1780, 3256, 1781, 3807, 1843, 1081, 2220, 1783, 1340, 845, 3084, 3598, 1394, 1433, 1429, 964, 958, 2244, 1741, 1377, 2977, 3393, 1246, 3691, 855, 3611, 3003, 2569, 2572, 884, 3026, 3687, 2442, 3657, 620, 1618, 1610, 660, 3583, 2641, 3025, 2689, 1492, 3723, 138, 79, 471, 2719, 2718, 3095, 3040, 2750, 3060, 1195, 1296, 2826, 2187, 80, 383, 435, 2521, 77, 482, 1271, 1965, 3586, 2528, 2529, 3039, 55, 45, 329, 2159, 143, 1645, 1767, 3596, 3590, 479, 1730, 278, 12, 1961, 204, 295, 2381, 2363, 1851, 1856, 614, 2433, 1853, 1550, 1915, 2331, 1548, 2716, 653, 631, 2839, 2321, 1854, 1449, 1099, 328, 3490, 1222, 1672, 1671, 1754, 2329, 1172, 269, 333, 36, 433, 2845, 548, 169, 2797, 2814, 3491, 3079, 1314, 3575, 3496, 735, 1606, 24, 490, 2377, 2365, 465, 332, 200, 275, 23, 3778, 3767, 1728, 2819, 1407, 2809, 352, 1280, 1286, 1123, 1964, 411, 401, 299, 514, 2524, 189, 201, 126, 507, 3462, 512, 2836, 3494, 2367, 3433, 777, 2648, 2047, 2754, 3721, 3062, 2751, 2048, 1328, 1778, 831, 1326, 3719, 2757, 3066, 2758, 3286, 2176, 1834, 3796, 3720, 2052, 829, 828, 1325, 3724, 3064, 2054, 2455, 1142, 1623, 499, 506, 277, 128, 605, 589, 505, 1247, 1603, 1119, 644, 3429, 1701, 1708, 2973, 2748, 817, 3699, 3623, 875, 3704, 1757, 1396, 936, 2182, 250, 1064, 2887, 3803, 3308, 3305, 1019, 751, 370, 3268, 3206, 2087, 3267, 1641, 2036, 3269, 296, 2068, 243, 2078, 2337, 2650, 2336, 2651, 2661, 3053, 3052, 2072, 2071, 2037, 2604, 2692, 2335, 1198, 2079, 2120, 714, 1153, 1157, 1393, 2891, 1392, 3018, 3016, 1998, 1697, 2364, 258, 2368, 2502, 38, 11, 1223, 387, 2980, 260, 530, 3584, 2832, 2474, 2967, 1884, 1580, 2478, 2408, 3043, 3044, 2710, 1295, 1458, 1460, 2803, 2834, 2794, 1585, 2438, 1913, 1928, 1976, 336, 1430, 2738, 2763, 2774, 2782, 1837, 2953, 2956, 1507, 1510, 2990, 2434, 1975, 1973, 1300, 3578, 2540, 173, 213, 224, 2687, 2691, 2966, 3042, 3035, 2409, 1882, 2968, 183, 29, 1034, 462, 1283, 174, 222, 1462, 1463, 1693, 2804, 2820, 2818, 3086, 2077, 2378, 1478, 1480, 2992, 522, 2979, 351, 3568, 523, 3565, 2805, 2796, 3750, 3763, 3367, 3696, 3695, 3270, 3369, 3697, 3329, 2307, 3294, 3243, 2270, 2268, 3242, 2271, 1484, 3387, 3383, 3385, 2277, 3368, 3318, 3236, 2407, 2411, 1547, 1898, 2406, 1635, 2412, 621, 3287, 2292, 2295, 3239, 2269, 3288, 1740, 3365, 3694, 3366, 3210, 1062, 346, 2286, 2306, 1104, 2166, 1841, 3439, 2395, 2939, 2943, 1839, 1844, 1840, 3312, 246, 1912, 3184, 48, 773, 806, 3194, 1716, 241, 495, 641, 1649, 2844, 3165, 3211, 3212, 1958, 2169, 2178, 3164, 3214, 1312, 1770, 3577, 668, 2800, 1299, 1743, 3564, 648, 2699, 1732, 671, 3765, 2141, 3450, 662, 663, 3160, 1955, 3582, 595, 3448, 3446, 3449, 463, 3441, 649, 2146, 572, 2237, 1819, 2056, 2174, 1653, 2229, 1938, 172, 3438, 498, 563, 1748, 578, 464, 3772, 394, 221, 179, 340, 1932, 2469, 2472, 3202, 3204, 3205, 3203, 203, 1221, 741, 2023, 1217, 2685, 853, 2027, 3538, 1669, 3489, 737, 2464, 2462, 730, 3634, 2461, 2465, 2463, 2680, 3143, 3142, 1883, 91, 2508, 1904, 1544, 1542, 2783, 1220, 3144, 2483, 1584, 2457, 1872, 1574, 2359, 740, 2693, 682, 1324, 1155, 2471, 3705, 624, 3405, 2092, 2323, 3459, 2324, 3148, 2470, 1880, 1224, 1219, 2686, 1218, 731, 1575, 632, 876, 3419, 3620, 2325, 2678, 3145, 3147, 2467, 2510, 3146, 2507, 3706, 1252, 3002, 3221, 2083, 3046, 2450, 1591, 3421, 3426, 3425, 2328, 2327, 3409, 3408, 608, 607, 1086, 1085, 1581, 1879, 626, 3412, 2498, 1690, 2499, 2480, 628, 636, 1881, 2339, 2340, 2341, 3410, 3411, 3413, 2317, 2318, 2319, 617, 3150, 3149, 3155, 3201, 3200, 681, 837, 3761, 2682, 1420, 1427, 619, 2475, 1885, 1588, 3179, 1887, 1587, 3178, 176, 3599, 2322, 622, 2779, 2486, 1597, 1891, 1338, 428, 2878, 2476, 483, 3548, 2509, 3550, 3176, 1562, 727, 3486, 3230, 3658, 985, 664, 1956, 811, 2000, 955, 1501, 1426, 3501, 1258, 1911, 3199, 661, 988, 400, 366, 100, 350, 96, 931, 197, 1941, 805, 576, 2149, 2147, 419, 480, 559, 304, 223, 2162, 2142, 2153, 813, 935, 1795, 3253, 2188, 906, 3295, 2959, 2955, 1568, 496, 357, 226, 254, 312, 422, 566, 144, 2402, 3331, 1201, 1004, 2937, 1914, 3217, 3090, 3382, 1525, 2908, 1499, 697, 998, 3463, 3167, 2695, 2974, 3352, 3391, 399, 808, 3357, 1833, 3388, 105, 2918, 2256, 1467, 2447, 1468, 1466, 1441, 1440, 2670, 2512, 2513, 2701, 2388, 3027, 1506, 1514, 2281, 2280, 1459, 2927, 1421, 521, 1517, 2303, 1529, 2915, 2958, 963, 2511, 326, 3436, 3442, 1561, 1924, 2391, 2494, 2399, 715, 3580, 1297, 3080, 1935, 2934, 1820, 2614, 274, 2481, 965, 3119, 585, 1895, 1896, 1900, 3639, 1052, 1792, 2030, 2709, 639, 1552, 1115, 1112, 1724, 1721, 1723, 1457, 1455, 1456, 1771, 1818, 2060, 967, 2145, 2824, 896, 895, 1012, 3225, 3224, 3630, 3629, 897, 898, 3258, 1971, 2028, 2707, 1970, 680, 1154, 1148, 692, 691, 699, 3257, 2090, 3177, 1628, 1652, 1850, 1014, 2923, 616, 1094, 2049, 3274, 2752, 1650, 1855, 2088, 930, 1599, 1660, 3768, 981, 993, 3292, 980, 992, 3291, 3226, 3631, 2029, 2708, 2117, 2115, 1711, 1942, 557, 3609, 852, 1889, 3045, 3048, 3049, 979, 978, 1593, 3182, 3187, 3504, 3508, 3512, 2228, 2227, 816, 3186, 1990, 177, 1806, 3784, 914, 3050, 2139, 2152, 738, 3260, 3488, 3248, 3492, 2717, 1686, 858, 859, 1793, 860, 2214, 3781, 2215, 2211, 2210, 3298, 1786, 1785, 2863, 1789, 1788, 3296, 1790, 3780, 3779, 3128, 3734, 1156, 3120, 2249, 2291, 1074, 371, 398, 1831, 310, 591, 2769, 474, 164, 84, 41, 385, 149, 2963, 792, 1939, 1948, 1731, 1596, 339, 1262, 2167, 2822, 2242, 380, 1520, 2859, 1425, 544, 497, 2374, 881, 3688, 2384, 3690, 2855, 2185, 3718, 3059, 2749, 3061, 3235, 2058, 3733, 3739, 3679, 3692, 1476, 750, 1346, 2609, 3627, 3626, 903, 2385, 3500, 3520, 3545, 2987, 1431, 3395, 953, 3394, 1536, 1868, 145, 1540, 2258, 2255, 356, 2234, 1822, 3311, 3309, 1727, 1901, 717, 3479, 1683, 1684, 2697, 1797, 3771, 1828, 3215, 1077, 1838, 1268, 1695, 3506, 1985, 2741, 3711, 905, 3712, 3710, 2740, 2739, 2867, 2868, 3787, 3790, 2397, 949, 1920, 754, 749, 2107, 2043, 2565, 2736, 2392, 3738, 3313, 3241, 3262, 3259, 2721, 3675, 2033, 2032, 2035, 2715, 3315, 1842, 3816, 1070, 2232, 517, 2575, 3613, 2576, 2577, 583, 1826, 933, 2857, 1379, 3091, 2772, 1160, 1345, 3070, 941, 2835, 2853, 944, 2848, 3180, 721, 2400, 2183, 865, 1829, 2240, 2316, 1067, 1812, 1810, 2275, 1018, 1699, 3322, 2926, 1763, 841, 3376, 1800, 1799, 3384, 3316, 2297, 2314, 1830, 2994, 1071, 3757, 3754, 1989, 3193, 1680, 359, 2504, 2403, 1106, 1863, 1663, 1665, 774, 1664, 712, 794, 2536, 3455, 2453, 3174, 2357, 3102, 472, 916, 2154, 2254, 2251, 1319, 1057, 2694, 2248, 2005, 3319, 939, 2245, 37, 3330, 2449, 2430, 2451, 3132, 2431, 345, 2382, 2373, 1298, 1309, 1402, 132, 43, 393, 424, 2945, 2780, 2998, 3601, 2999, 3625, 3637, 3041, 3118, 191, 1534, 1526, 3549, 2276, 3024, 1053, 1519, 2858, 974, 270, 590, 2170, 438, 140, 2907, 3731, 2206, 3770, 1589, 2130, 1110, 1225, 2119, 2488, 1399, 1755, 2144, 989, 1038, 1505, 3381, 2296, 1531, 2924, 3324, 1450, 3213, 3392, 2985, 3354, 2294, 3403, 3401, 1435, 1489, 2954, 1452, 3360, 3402, 3396, 1532, 3139, 849, 1055, 1056, 1322, 1266, 2189, 2021, 3797, 1360, 1361, 2380, 1625, 977, 1687, 2274, 1390, 510, 1174, 2110, 3534, 2597, 2606, 1400, 1404, 3579, 2548, 2714, 2193, 1350, 1349, 2137, 3737, 2016, 2015, 2825, 151, 2454, 3456, 1733, 1269, 3527, 2962, 2024, 2546, 2437, 2626, 3610, 2443, 2333, 1101, 3672, 2006, 1103, 1451, 2983, 928, 2309, 957, 1134, 2116, 2617, 2190, 2916, 3103, 1194, 2118, 2573, 3612, 3004, 2191, 1551, 2334, 3156, 3423, 2561, 1176, 353, 1276, 2849, 381, 56, 3283, 68, 441, 1718, 1132, 1315, 1102, 2261, 101, 2929, 2398, 1448, 1207, 686, 2026, 1109, 1098, 3323, 1127, 2446, 2067, 98, 2545, 725, 2946, 83, 338, 666, 509, 170, 3161, 588, 209, 2753, 1777, 3374, 3375, 3273, 526, 667, 2562, 21, 2756, 3350, 2551, 344, 354, 1509, 1496, 2894, 2912, 966, 1320, 2541, 1504, 1359, 885, 2906, 3461, 3460, 3493, 1267, 696, 695, 1640, 739, 2491, 2046, 131, 2640, 2002, 2896, 960, 414, 3088, 255, 230, 558, 3317, 93, 975, 2770, 516, 1334, 2568, 2113, 1372, 891, 3707, 3047, 890, 1374, 2207, 2745, 3744, 2854, 2379, 1095, 2505, 89, 1128, 142, 90, 2549, 305, 1335, 2550, 2698, 1290, 1473, 1533, 1824, 1832, 1813, 1475, 987, 1997, 1027, 1026, 1025, 1666, 3232, 899, 904, 920, 3263, 3621, 3192, 1794, 1801, 2224, 2720, 3766, 3804, 1073, 1079, 1075, 3129, 2175, 1867, 155, 3264, 25, 1825, 554, 114, 560, 206, 455, 1761, 3487, 1024, 1674, 1662, 1661, 1646, 1648, 1647, 1045, 926, 1870, 976, 1572, 1865, 1869, 1573, 2725, 1717, 314, 185, 32, 934, 1373, 892, 1535, 3484, 2679, 3377, 1333, 2881, 3728, 843, 3112, 3113, 3110, 1331, 2879, 1343, 3743, 2041, 3708, 3729, 3111, 3791, 683, 3051, 3474, 798, 268, 2902, 1791, 2495, 1988, 3431, 1560, 3597, 3592, 2705, 475, 3566, 2393, 444, 1188, 3559, 2008, 3022, 872, 2645, 638, 3355, 1042, 2160, 2298, 807, 2299, 2989, 756, 3189, 744, 2901, 2649, 610, 1903, 3543, 611, 2353, 1092, 2420, 1621, 3567, 3588, 1765, 2526, 809, 665, 815, 764, 3516, 1444, 1502, 244, 1749, 2300, 1511, 2066, 3741, 470, 800, 2222, 3715, 3716, 3574, 481, 2627, 139, 235, 473, 150, 368, 190, 262, 525, 2091, 161, 104, 3454, 442, 416, 2644, 3017, 2637, 2631, 2621, 283, 1703, 1698, 1996, 1987, 1237, 870, 1710, 2003, 2871, 2874, 3106, 3108, 410, 1199, 3481, 720, 3372, 3373, 1058, 1059, 2642, 3677, 3683, 825, 1254, 1270, 786, 787, 785, 3535, 1255, 1899, 1251, 1257, 1470, 1491, 1171, 3339, 3332, 1164, 3325, 1485, 2283, 2282, 3326, 861, 862, 814, 122, 458, 3255, 1130, 1471, 3137, 1249, 2312, 1386, 2310, 3127, 2690, 3358, 1488, 3340, 1432, 1423, 826, 2662, 757, 3390, 1428, 3774, 1503, 3400, 1487, 3097, 1481, 3023, 1177, 1738, 2500, 478, 1347, 847, 10, 3740, 846, 1784, 489, 3195, 1624, 3333, 3730, 2861, 1364, 1527, 2984, 2771, 1500, 1454, 1453, 3363, 1512, 1515, 2173, 3099, 2862, 2199, 1518, 3109, 459, 449, 1909, 3552, 1162, 1907, 3547, 1161, 1753, 2899, 2351, 1906, 3553, 1158, 685, 2062, 3071, 1905, 3546, 2065, 3735, 1342, 3655, 2489, 2777, 1405, 2688, 883, 2020, 3638, 3482, 1356, 1203, 1250, 1357, 1197, 3595, 2986, 1139, 2371, 2533, 1035, 2530, 1945, 3356, 1944, 3096, 1908, 1344, 2883, 1852, 1972, 2563, 1712, 763, 1979, 752, 3229, 3228, 1140, 2558, 76, 684, 3736, 3666, 1590, 1595, 2473, 1586, 1417, 1114, 634, 2479, 117, 315, 341, 2843, 3087, 267, 348, 1409, 922, 321, 1084, 2225, 2194, 971, 570, 182, 584, 1341, 2768, 3544, 2911, 2909, 2346, 2350, 609, 1902, 3542, 2348, 2786, 1403, 1137, 2988, 2808, 2330, 234, 238, 2086, 2085, 147, 402, 1305, 2830, 2798, 2416, 2415, 396, 108, 392, 2799, 2817, 66, 2806, 157, 390, 839, 842, 3526, 469, 2239, 1370, 1845, 3019, 1007, 3347, 3345, 1008, 1009, 1049, 1048, 869, 1355, 3361, 3398, 2308, 2313, 1080, 1082, 863, 3190, 2712, 784, 2735, 1634, 2734, 778, 1636, 924, 1836, 1633, 2706, 1637, 1993, 2017, 2413, 1642, 1143, 1260, 3249, 878, 877, 1639, 762, 1498, 3237, 3473, 3272, 746, 1630, 1631, 3252, 2045, 2722, 2723, 78, 555, 1643, 1565, 187, 503, 452, 35, 3219, 1644, 461, 259, 1397, 2081, 2925, 1383, 3432, 1196, 2435, 942, 3445, 1766, 1313, 1178, 2158, 996, 3478, 1422, 3353, 3122, 1436, 3399, 1424, 432, 3335, 3334, 3166, 3175, 2184, 1937, 1044, 2172, 1040, 2031, 2192, 1796, 1054, 1798, 1069, 3300, 2865, 948, 3786, 308, 2304, 2195, 3785, 3297, 564, 467, 502, 3589, 3220, 1969, 3660, 918, 1760, 1742, 2246, 2893, 676, 674, 1943, 1953, 1951, 659, 1960, 1611, 1967, 1952, 334, 265, 355, 1946, 1968, 1629, 14, 121, 1959, 677, 456, 678, 395, 34, 212, 44, 63, 493, 3054, 1999, 2042, 3028, 3029, 2660, 1980, 1706, 3669, 3397, 2619, 2724, 2587, 1256, 2666, 2665, 759, 2588, 2667, 2586, 1240, 2241, 257, 679, 3783, 2884, 946, 969, 2764, 2775, 2766, 2765, 2840, 261, 141, 74, 451, 22, 16, 3607, 3604, 2713, 1632, 1751, 1866, 3608, 2658, 2656, 3618, 775, 1215, 2603, 1688, 2372, 1213, 546, 127, 159, 423, 2559, 597, 2683, 293, 282, 129, 599, 281, 208, 168, 65, 3476, 2198, 1773, 1371, 894, 3101, 3020, 3266, 3265, 2729, 2731, 2732, 2733, 723, 3276, 3726, 833, 1047, 1779, 2204, 1667, 2995, 2730, 1205, 3483, 1567, 3773, 2801, 3094, 919, 2267, 3285, 1068, 3756, 1821, 940, 3775, 1477, 1479, 2287, 3364, 1774, 2200, 2864, 3299, 3789, 1146, 2250, 1261, 986, 1758, 2965, 2960, 2964, 2148, 1285, 3162, 2810, 2165, 1304, 658, 2527, 819, 3727, 1330, 690, 2352, 1226, 1230, 1600, 1759, 1894, 640, 937, 1241, 2949, 2004, 2266, 2623, 71, 1410, 1149, 2876, 2917, 1414, 947, 835, 834, 375, 1192, 1442, 2875, 484, 1096, 487, 1265, 615, 1566, 1564, 1929, 2396, 309, 266, 2602, 2669, 2668, 2930, 2664, 2284, 1234, 1486, 1482, 1236, 2624, 2629, 2762, 3056, 1358, 1307, 2860, 1516, 889, 1685, 1668, 418, 2583, 1569, 1546, 1775, 3814, 2202, 3301, 3788, 1776, 263, 61, 327, 322, 331, 158, 81, 3336, 2053, 991, 3275, 2755, 1651, 1037, 984, 716, 1673, 1675, 2106, 2108, 2109, 3776, 3093, 2555, 3665, 2089, 3244, 3173, 1977, 3231, 1689, 3659, 3663, 3662, 1010, 650, 652, 3661, 445, 1893, 672, 669, 165, 541, 446, 2150, 51, 249, 320, 454, 2838, 233, 2851, 195, 492, 2163, 824, 840, 810, 1310, 285, 1469, 1416, 2596, 2589, 384, 2301, 2302, 1539, 408, 2957, 1244, 2590, 2671, 1897, 2593, 2594, 2595, 2673, 2675, 2672, 2674, 1144, 2703, 893, 3136, 1530, 3134, 434, 2501, 726, 1202, 2942, 3470, 708, 1200, 3812, 1182, 1848, 362, 3140, 3509, 3417, 3418, 3530, 3531, 2761, 2055, 2264, 781, 782, 1111, 1113, 3422, 1116, 2728, 1180, 710, 606, 403, 18, 2872, 1437, 2525, 317, 2647, 3685, 766, 1348, 1787, 2213, 1363, 850, 3606, 3000, 2564, 3605, 851, 1301, 533, 2448, 3521, 2492, 2259, 2951, 1991, 2272, 1166, 1657, 2928, 3451, 3138, 2993, 2742, 3058, 3714, 907, 1321, 2503, 1136, 2425, 3554, 124, 598, 347, 3537, 1163, 1100, 2773, 2866, 3107, 3105, 950, 1412, 1411, 1413, 2635, 2554, 1316, 1317, 2852, 2633, 2069, 2080, 2599, 2711, 2598, 2961, 2600, 2601, 3416, 3415, 3650, 3649, 630, 3644, 3643, 2785, 2582, 2580, 2727, 2257, 1847, 2243, 2428, 2700, 2252, 2009, 3645, 1613, 1607, 654, 1619, 748, 2123, 252, 2975, 2982, 2543, 53, 2944, 237, 19, 298, 3587, 271, 54, 292, 323, 2375, 73, 391, 330, 163, 88, 1617, 2903, 1627, 2537, 547, 160, 2744, 453, 3536, 318, 58, 335, 2076, 407, 2837, 376, 358, 2423, 72, 1362, 2354, 1105, 1108, 3648, 3633, 880, 2659, 2652, 1655, 701, 3533, 2696, 1229, 437, 64, 289, 119, 109, 379, 513, 1808, 3055, 2320, 3126, 2057, 3742, 2383, 2747, 1263, 1190, 2168, 2681, 3652, 879, 2655, 2657, 3628, 3632, 3651, 2654, 2653, 466, 3434, 476, 1287, 571, 412, 324, 397, 280, 372, 2941, 2938, 1927, 1204, 2370, 722, 3722, 3725, 3063, 3065, 2050, 1327, 1329, 830, 832, 970, 3085, 1209, 3682, 3673, 2634, 3674, 3678, 2625, 3077, 3092, 2156, 1443, 2186, 2921, 2743, 3057, 3713, 1323, 3222, 3223, 2040, 1264, 769, 3341, 1719, 3453, 3676, 3806, 3813, 2093, 3615, 2578, 3684, 765, 112, 770, 1165, 3227, 3642, 2212, 3593, 2197, 3792, 3115, 2882, 2209, 1521, 2070, 534, 2444, 1179, 3541, 3561, 2869, 2784, 1995, 962, 1816, 3124, 2622, 1181, 2608]\n",
            "2955\n"
          ],
          "name": "stdout"
        }
      ]
    },
    {
      "cell_type": "code",
      "metadata": {
        "id": "1Pc6AjSdB704"
      },
      "source": [
        "#Because I don't want to mess up my inputs and outputs, I test their lengths before and after the outlier filtering.\n",
        "#assert(len(input) == len(output))\n",
        "\n",
        "newinput=[]\n",
        "\n",
        "for i in range(len(cleared_encoded_data_full)):\n",
        "    if(cleared_encoded_data_full[i] not in outliers):\n",
        "        newinput.append(cleared_encoded_data_full[i])\n",
        "\n",
        "input = newinput\n",
        "#output = newinput\n",
        "\n",
        "#assert(len(input) == len(output))"
      ],
      "execution_count": null,
      "outputs": []
    },
    {
      "cell_type": "code",
      "metadata": {
        "id": "3XDdtaswCKpl"
      },
      "source": [
        "#However, this outlier filtering made things complicated. Now I have to make a new mapper, so that i won't end up with output classes containing 0 elements.\n",
        "\n",
        "mapper_list = [] #Idx of the mapper list is the new value, the element is the old value.\n",
        "new_input_elements = set(input)\n",
        "\n",
        "for i in new_input_elements:\n",
        "    mapper_list.append(i)\n",
        "\n",
        "newinput = []\n",
        "\n",
        "for i in input:\n",
        "    newinput.append(mapper_list.index(i))\n",
        "\n",
        "input = newinput\n",
        "output = newinput"
      ],
      "execution_count": null,
      "outputs": []
    },
    {
      "cell_type": "code",
      "metadata": {
        "id": "Wo2e4tVCMQbr"
      },
      "source": [
        "for i in input:\n",
        "    for j in i:\n",
        "        try:\n",
        "            j = mapper_list.index(j)\n",
        "        except ValueError:\n",
        "            j = 0"
      ],
      "execution_count": null,
      "outputs": []
    },
    {
      "cell_type": "code",
      "metadata": {
        "id": "8xBAcQPDCO6z"
      },
      "source": [
        "#Reshaping the input data to be compatible with LSTMs and normalizing it in the hope of better learning.\n",
        "\n",
        "#input = np.reshape(np.asarray(input), (len(input), SLICE_LEN, 1))\n",
        "#output = to_categorical(output)\n",
        "\n",
        "#input=np.asarray(input) / float(len(mapper))\n",
        "input = np.asarray(input)\n",
        "output = np.asarray(output)"
      ],
      "execution_count": null,
      "outputs": []
    },
    {
      "cell_type": "code",
      "metadata": {
        "colab": {
          "base_uri": "https://localhost:8080/"
        },
        "id": "M3D-7pyVCUBc",
        "outputId": "a0552414-c032-436e-c82c-46c63984446f"
      },
      "source": [
        "SEED = 54\n",
        "#np.random.seed(SEED)\n",
        "\n",
        "from sklearn.model_selection import train_test_split\n",
        "\n",
        "X_train, X_test, Y_train, Y_test = train_test_split(input, output, test_size=0.01, random_state=SEED)\n",
        "X_train, X_val, Y_train, Y_val = train_test_split(X_train, Y_train, test_size=0.2, random_state=SEED)\n",
        "\n",
        "#startidx = np.random.randint(0, len(X_test)-1)\n",
        "#starting_slice = X_test[startidx]\n",
        "\n",
        "print(X_train.shape, X_val.shape, X_test.shape, Y_train.shape, Y_val.shape, Y_test.shape)\n",
        "#print(startidx)\n",
        "#print(starting_slice)"
      ],
      "execution_count": null,
      "outputs": [
        {
          "output_type": "stream",
          "text": [
            "(169832,) (42459,) (2145,) (169832,) (42459,) (2145,)\n"
          ],
          "name": "stdout"
        }
      ]
    },
    {
      "cell_type": "code",
      "metadata": {
        "id": "709tWnNrQae1",
        "colab": {
          "base_uri": "https://localhost:8080/"
        },
        "outputId": "6a195987-5416-4ed7-c4bb-6c9fa3591986"
      },
      "source": [
        "NUM_CLASSES = np.max(input)+1\n",
        "print(NUM_CLASSES)"
      ],
      "execution_count": null,
      "outputs": [
        {
          "output_type": "stream",
          "text": [
            "305\n"
          ],
          "name": "stdout"
        }
      ]
    },
    {
      "cell_type": "markdown",
      "metadata": {
        "id": "Qe4R8zAc6Zmx"
      },
      "source": [
        "# MODEL UTILS SECTION"
      ]
    },
    {
      "cell_type": "code",
      "metadata": {
        "id": "b5NSMZFUHQwE"
      },
      "source": [
        "from keras.utils import Sequence\n",
        "\n",
        "# DATA GENERATOR\n",
        "\n",
        "SLICE_SIZE = SLICE_LEN\n",
        "\n",
        "class MyDatagen(Sequence):\n",
        "  def __init__(self, list_IDs, batch_size=16, dim=(SLICE_SIZE), shuffle=True, validation=False):\n",
        "    'Initialization'\n",
        "    self.dim = dim\n",
        "    self.batch_size = batch_size\n",
        "    self.list_IDs = list_IDs\n",
        "    self.shuffle = shuffle\n",
        "    self.validation=validation\n",
        "    self.on_epoch_end()\n",
        "\n",
        "  def __len__(self):\n",
        "    return int(np.floor(len(self.list_IDs) / self.batch_size))\n",
        "\n",
        "  def __getitem__(self, index):\n",
        "    # Generate indexes of the batch\n",
        "    indexes = self.indexes[index*self.batch_size:(index+1)*self.batch_size]\n",
        "\n",
        "    # Find list of IDs\n",
        "    list_IDs_temp = [self.list_IDs[k] for k in indexes]\n",
        "\n",
        "    # Generate data\n",
        "    X, y = self.__data_generation(list_IDs_temp)\n",
        "\n",
        "    return X, y\n",
        "\n",
        "  def on_epoch_end(self):\n",
        "      #Updates indexes after each epoch\n",
        "    self.indexes = np.arange(len(self.list_IDs))\n",
        "    if self.shuffle == True:\n",
        "      np.random.shuffle(self.indexes)\n",
        "\n",
        "  def __data_generation(self, list_IDs_temp):\n",
        "    #Generates data containing batch_size samples\n",
        "    if self.validation:\n",
        "      X = np.empty((self.batch_size, self.dim, 1))\n",
        "      y = np.empty((self.batch_size, self.dim, NUM_CLASSES))\n",
        "\n",
        "      # Generate data\n",
        "      for i, ID in enumerate(list_IDs_temp):\n",
        "        X[i] = np.expand_dims(X_val[ID:ID+self.dim]/(NUM_CLASSES-1), axis=1)\n",
        "\n",
        "        y[i] = to_categorical(X_val[ID:ID+self.dim], num_classes=NUM_CLASSES)\n",
        "\n",
        "      return X, y\n",
        "    else:\n",
        "      X = np.empty((self.batch_size, self.dim, 1))\n",
        "      y = np.empty((self.batch_size, self.dim, NUM_CLASSES))\n",
        "\n",
        "      # Generate data\n",
        "      for i, ID in enumerate(list_IDs_temp):\n",
        "        X[i] = np.expand_dims(X_train[ID:ID+self.dim]/(NUM_CLASSES-1), axis=1)\n",
        "\n",
        "        y[i] = to_categorical(X_train[ID:ID+self.dim], num_classes=NUM_CLASSES)\n",
        "\n",
        "      return X, y"
      ],
      "execution_count": null,
      "outputs": []
    },
    {
      "cell_type": "code",
      "metadata": {
        "id": "hGg09dpdD49l"
      },
      "source": [
        "MODEL_NAME = \"VAE3\"\n",
        "\n",
        "MODEL_SAVE_PATH = \"/content/drive/MyDrive/MLFolder/Onlab/modelsaves/\"\n",
        "\n",
        "TBPATH = \"/content/tblogs/\"+MODEL_NAME"
      ],
      "execution_count": null,
      "outputs": []
    },
    {
      "cell_type": "code",
      "metadata": {
        "id": "pw6yaY2OD_O-"
      },
      "source": [
        "#Before creating the neural network, I define some important callbacks\n",
        "\n",
        "tb = TensorBoard(log_dir = TBPATH, write_images=True, histogram_freq=1)\n",
        "\n",
        "plateau = ReduceLROnPlateau(monitor='val_loss', factor=0.2, patience=3, min_lr=0.00005, verbose=1)\n",
        "\n",
        "es = EarlyStopping(monitor='val_loss', patience = 10, restore_best_weights = True, verbose=1)\n",
        "\n",
        "callbacks = [plateau, es, tb]"
      ],
      "execution_count": null,
      "outputs": []
    },
    {
      "cell_type": "code",
      "metadata": {
        "id": "dkGGbNcsceDe"
      },
      "source": [
        "class Sampling(Layer):\n",
        "    \"\"\"Uses (z_mean, z_log_var) to sample z.\"\"\"\n",
        "\n",
        "    def call(self, inputs):\n",
        "        z_mean, z_log_var = inputs\n",
        "        batch = tf.shape(z_mean)[0]\n",
        "        dim = tf.shape(z_mean)[1]\n",
        "        epsilon = tf.keras.backend.random_normal(shape=(batch, dim))\n",
        "        return z_mean + tf.exp(0.5 * z_log_var) * epsilon"
      ],
      "execution_count": null,
      "outputs": []
    },
    {
      "cell_type": "code",
      "metadata": {
        "id": "uYR5HnW977dn"
      },
      "source": [
        "def make_decoder_block(initial_decoder, LSTM_cells, block_size):\n",
        "    first_layer = []\n",
        "    first_layer.append(initial_decoder)\n",
        "\n",
        "    for i in range(1, block_size):\n",
        "        first_layer.append(LSTM(LSTM_cells, return_sequences=True)(first_layer[i-1]))\n",
        "\n",
        "    second_layer = []\n",
        "\n",
        "    for i in first_layer:\n",
        "        second_layer.append(LSTM(LSTM_cells)(i))\n",
        "\n",
        "    outputs = []\n",
        "    \n",
        "    for i in second_layer:\n",
        "        outputs.append(Dense(NUM_CLASSES, activation=\"softmax\")(i))\n",
        "\n",
        "    return outputs"
      ],
      "execution_count": null,
      "outputs": []
    },
    {
      "cell_type": "markdown",
      "metadata": {
        "id": "Suh7xY4F6kNx"
      },
      "source": [
        "# MODEL BUILDING AND TRAINING SECTION"
      ]
    },
    {
      "cell_type": "code",
      "metadata": {
        "id": "oDc6CTd_a7eR"
      },
      "source": [
        "from keras.models import Sequential\n",
        "from keras.layers import Concatenate\n",
        "\n",
        "LSTM_STATES = 2048\n",
        "ENCODER_LSTM_CELLS = 128\n",
        "latent_dim = 256\n",
        "LSTM_cells = 64\n",
        "\n",
        "notes_input = Input(shape=(SLICE_LEN, 1), name=\"notes_in\")\n",
        "x1 = Bidirectional(LSTM(ENCODER_LSTM_CELLS))(notes_input)\n",
        "x2 = Bidirectional(LSTM(ENCODER_LSTM_CELLS))(notes_input)\n",
        "x = Concatenate()([x1, x2])\n",
        "z_mean = Dense(latent_dim, name=\"z_mean\")(x)\n",
        "z_log_var = Dense(latent_dim, name=\"z_log_var\", activation='softplus')(x)\n",
        "z = Sampling()([z_mean, z_log_var])\n",
        "encoder = Model(notes_input, z, name=\"encoder\")\n",
        "\n",
        "#encoder.summary()\n",
        "\n",
        "decoder_input = Input(shape=(latent_dim), name=\"decoder_in\")\n",
        "y = Dense(LSTM_cells, activation='tanh')(decoder_input)\n",
        "y = Reshape((LSTM_cells, 1))(y)\n",
        "\n",
        "conductor = LSTM(LSTM_cells, return_sequences=True)(y)\n",
        "conductors = []\n",
        "conductors.append(conductor)\n",
        "\n",
        "for i in range(1, 4):\n",
        "    conductors.append(LSTM(LSTM_cells, return_sequences=True)(conductors[i-1]))\n",
        "\n",
        "initial_decoders = []\n",
        "\n",
        "for i in conductors:\n",
        "    initial_decoders.append(LSTM(LSTM_cells, return_sequences=True)(i))\n",
        "\n",
        "final_outputs = []\n",
        "\n",
        "for i in initial_decoders:\n",
        "    for j in make_decoder_block(i, 64, 4):\n",
        "        final_outputs.append(j)\n",
        "\n",
        "#print(final_outputs[0])\n",
        "\n",
        "out = concatenate(final_outputs, axis=1)\n",
        "out = Reshape((SLICE_LEN, NUM_CLASSES))(out)\n",
        "\n",
        "decoder = Model(decoder_input, out, name=\"decoder\")\n",
        "\n",
        "VAE = Sequential()\n",
        "VAE.add(encoder)\n",
        "VAE.add(decoder)\n",
        "\n",
        "#VAE = Model(notes_input, out)\n",
        "\n",
        "#VAE.summary()\n"
      ],
      "execution_count": null,
      "outputs": []
    },
    {
      "cell_type": "code",
      "metadata": {
        "id": "WC7R8PQwt-ni"
      },
      "source": [
        "VAE.compile(optimizer='Adam', loss='categorical_crossentropy', metrics='accuracy')"
      ],
      "execution_count": null,
      "outputs": []
    },
    {
      "cell_type": "code",
      "metadata": {
        "colab": {
          "base_uri": "https://localhost:8080/",
          "height": 544
        },
        "id": "DEhFftb2uI_p",
        "outputId": "486e0401-8c0e-49aa-ae1c-519e8e2d4f93"
      },
      "source": [
        "training_gen=MyDatagen(range(X_train.shape[0]-SLICE_LEN), batch_size=16)\n",
        "val_gen=MyDatagen(range(X_val.shape[0]-SLICE_LEN), batch_size=16, validation=True)\n",
        "#val_gen=MyDatagen(range(TRAIN_SAMPLES, TRAIN_SAMPLES+VAL_SAMPLES), validation=True)\n",
        "\n",
        "VAE.fit(x=training_gen, validation_data=val_gen, callbacks=callbacks, epochs=100)"
      ],
      "execution_count": null,
      "outputs": [
        {
          "output_type": "stream",
          "text": [
            "Epoch 1/100\n",
            "10613/10613 [==============================] - 1397s 128ms/step - loss: 4.9049 - accuracy: 0.0425 - val_loss: 4.8832 - val_accuracy: 0.0424\n",
            "Epoch 2/100\n",
            "10613/10613 [==============================] - 1340s 126ms/step - loss: 4.8719 - accuracy: 0.0433 - val_loss: 4.8801 - val_accuracy: 0.0426\n",
            "Epoch 3/100\n",
            "10613/10613 [==============================] - 1317s 124ms/step - loss: 4.8689 - accuracy: 0.0430 - val_loss: 4.8789 - val_accuracy: 0.0425\n",
            "Epoch 4/100\n",
            "10613/10613 [==============================] - 1344s 127ms/step - loss: 4.8672 - accuracy: 0.0433 - val_loss: 4.8779 - val_accuracy: 0.0427\n",
            "Epoch 5/100\n",
            "10613/10613 [==============================] - 1348s 127ms/step - loss: 4.8681 - accuracy: 0.0431 - val_loss: 4.8770 - val_accuracy: 0.0428\n",
            "Epoch 6/100\n",
            "10613/10613 [==============================] - ETA: 0s - loss: 4.8666 - accuracy: 0.0434"
          ],
          "name": "stdout"
        },
        {
          "output_type": "error",
          "ename": "KeyboardInterrupt",
          "evalue": "ignored",
          "traceback": [
            "\u001b[0;31m---------------------------------------------------------------------------\u001b[0m",
            "\u001b[0;31mKeyboardInterrupt\u001b[0m                         Traceback (most recent call last)",
            "\u001b[0;32m<ipython-input-40-6c64a04c9328>\u001b[0m in \u001b[0;36m<module>\u001b[0;34m()\u001b[0m\n\u001b[1;32m      3\u001b[0m \u001b[0;31m#val_gen=MyDatagen(range(TRAIN_SAMPLES, TRAIN_SAMPLES+VAL_SAMPLES), validation=True)\u001b[0m\u001b[0;34m\u001b[0m\u001b[0;34m\u001b[0m\u001b[0;34m\u001b[0m\u001b[0m\n\u001b[1;32m      4\u001b[0m \u001b[0;34m\u001b[0m\u001b[0m\n\u001b[0;32m----> 5\u001b[0;31m \u001b[0mVAE\u001b[0m\u001b[0;34m.\u001b[0m\u001b[0mfit\u001b[0m\u001b[0;34m(\u001b[0m\u001b[0mx\u001b[0m\u001b[0;34m=\u001b[0m\u001b[0mtraining_gen\u001b[0m\u001b[0;34m,\u001b[0m \u001b[0mvalidation_data\u001b[0m\u001b[0;34m=\u001b[0m\u001b[0mval_gen\u001b[0m\u001b[0;34m,\u001b[0m \u001b[0mcallbacks\u001b[0m\u001b[0;34m=\u001b[0m\u001b[0mcallbacks\u001b[0m\u001b[0;34m,\u001b[0m \u001b[0mepochs\u001b[0m\u001b[0;34m=\u001b[0m\u001b[0;36m100\u001b[0m\u001b[0;34m)\u001b[0m\u001b[0;34m\u001b[0m\u001b[0;34m\u001b[0m\u001b[0m\n\u001b[0m",
            "\u001b[0;32m/usr/local/lib/python3.7/dist-packages/tensorflow/python/keras/engine/training.py\u001b[0m in \u001b[0;36mfit\u001b[0;34m(self, x, y, batch_size, epochs, verbose, callbacks, validation_split, validation_data, shuffle, class_weight, sample_weight, initial_epoch, steps_per_epoch, validation_steps, validation_batch_size, validation_freq, max_queue_size, workers, use_multiprocessing)\u001b[0m\n\u001b[1;32m   1139\u001b[0m               \u001b[0mworkers\u001b[0m\u001b[0;34m=\u001b[0m\u001b[0mworkers\u001b[0m\u001b[0;34m,\u001b[0m\u001b[0;34m\u001b[0m\u001b[0;34m\u001b[0m\u001b[0m\n\u001b[1;32m   1140\u001b[0m               \u001b[0muse_multiprocessing\u001b[0m\u001b[0;34m=\u001b[0m\u001b[0muse_multiprocessing\u001b[0m\u001b[0;34m,\u001b[0m\u001b[0;34m\u001b[0m\u001b[0;34m\u001b[0m\u001b[0m\n\u001b[0;32m-> 1141\u001b[0;31m               return_dict=True)\n\u001b[0m\u001b[1;32m   1142\u001b[0m           \u001b[0mval_logs\u001b[0m \u001b[0;34m=\u001b[0m \u001b[0;34m{\u001b[0m\u001b[0;34m'val_'\u001b[0m \u001b[0;34m+\u001b[0m \u001b[0mname\u001b[0m\u001b[0;34m:\u001b[0m \u001b[0mval\u001b[0m \u001b[0;32mfor\u001b[0m \u001b[0mname\u001b[0m\u001b[0;34m,\u001b[0m \u001b[0mval\u001b[0m \u001b[0;32min\u001b[0m \u001b[0mval_logs\u001b[0m\u001b[0;34m.\u001b[0m\u001b[0mitems\u001b[0m\u001b[0;34m(\u001b[0m\u001b[0;34m)\u001b[0m\u001b[0;34m}\u001b[0m\u001b[0;34m\u001b[0m\u001b[0;34m\u001b[0m\u001b[0m\n\u001b[1;32m   1143\u001b[0m           \u001b[0mepoch_logs\u001b[0m\u001b[0;34m.\u001b[0m\u001b[0mupdate\u001b[0m\u001b[0;34m(\u001b[0m\u001b[0mval_logs\u001b[0m\u001b[0;34m)\u001b[0m\u001b[0;34m\u001b[0m\u001b[0;34m\u001b[0m\u001b[0m\n",
            "\u001b[0;32m/usr/local/lib/python3.7/dist-packages/tensorflow/python/keras/engine/training.py\u001b[0m in \u001b[0;36mevaluate\u001b[0;34m(self, x, y, batch_size, verbose, sample_weight, steps, callbacks, max_queue_size, workers, use_multiprocessing, return_dict)\u001b[0m\n\u001b[1;32m   1387\u001b[0m             \u001b[0;32mwith\u001b[0m \u001b[0mtrace\u001b[0m\u001b[0;34m.\u001b[0m\u001b[0mTrace\u001b[0m\u001b[0;34m(\u001b[0m\u001b[0;34m'test'\u001b[0m\u001b[0;34m,\u001b[0m \u001b[0mstep_num\u001b[0m\u001b[0;34m=\u001b[0m\u001b[0mstep\u001b[0m\u001b[0;34m,\u001b[0m \u001b[0m_r\u001b[0m\u001b[0;34m=\u001b[0m\u001b[0;36m1\u001b[0m\u001b[0;34m)\u001b[0m\u001b[0;34m:\u001b[0m\u001b[0;34m\u001b[0m\u001b[0;34m\u001b[0m\u001b[0m\n\u001b[1;32m   1388\u001b[0m               \u001b[0mcallbacks\u001b[0m\u001b[0;34m.\u001b[0m\u001b[0mon_test_batch_begin\u001b[0m\u001b[0;34m(\u001b[0m\u001b[0mstep\u001b[0m\u001b[0;34m)\u001b[0m\u001b[0;34m\u001b[0m\u001b[0;34m\u001b[0m\u001b[0m\n\u001b[0;32m-> 1389\u001b[0;31m               \u001b[0mtmp_logs\u001b[0m \u001b[0;34m=\u001b[0m \u001b[0mself\u001b[0m\u001b[0;34m.\u001b[0m\u001b[0mtest_function\u001b[0m\u001b[0;34m(\u001b[0m\u001b[0miterator\u001b[0m\u001b[0;34m)\u001b[0m\u001b[0;34m\u001b[0m\u001b[0;34m\u001b[0m\u001b[0m\n\u001b[0m\u001b[1;32m   1390\u001b[0m               \u001b[0;32mif\u001b[0m \u001b[0mdata_handler\u001b[0m\u001b[0;34m.\u001b[0m\u001b[0mshould_sync\u001b[0m\u001b[0;34m:\u001b[0m\u001b[0;34m\u001b[0m\u001b[0;34m\u001b[0m\u001b[0m\n\u001b[1;32m   1391\u001b[0m                 \u001b[0mcontext\u001b[0m\u001b[0;34m.\u001b[0m\u001b[0masync_wait\u001b[0m\u001b[0;34m(\u001b[0m\u001b[0;34m)\u001b[0m\u001b[0;34m\u001b[0m\u001b[0;34m\u001b[0m\u001b[0m\n",
            "\u001b[0;32m/usr/local/lib/python3.7/dist-packages/tensorflow/python/eager/def_function.py\u001b[0m in \u001b[0;36m__call__\u001b[0;34m(self, *args, **kwds)\u001b[0m\n\u001b[1;32m    826\u001b[0m     \u001b[0mtracing_count\u001b[0m \u001b[0;34m=\u001b[0m \u001b[0mself\u001b[0m\u001b[0;34m.\u001b[0m\u001b[0mexperimental_get_tracing_count\u001b[0m\u001b[0;34m(\u001b[0m\u001b[0;34m)\u001b[0m\u001b[0;34m\u001b[0m\u001b[0;34m\u001b[0m\u001b[0m\n\u001b[1;32m    827\u001b[0m     \u001b[0;32mwith\u001b[0m \u001b[0mtrace\u001b[0m\u001b[0;34m.\u001b[0m\u001b[0mTrace\u001b[0m\u001b[0;34m(\u001b[0m\u001b[0mself\u001b[0m\u001b[0;34m.\u001b[0m\u001b[0m_name\u001b[0m\u001b[0;34m)\u001b[0m \u001b[0;32mas\u001b[0m \u001b[0mtm\u001b[0m\u001b[0;34m:\u001b[0m\u001b[0;34m\u001b[0m\u001b[0;34m\u001b[0m\u001b[0m\n\u001b[0;32m--> 828\u001b[0;31m       \u001b[0mresult\u001b[0m \u001b[0;34m=\u001b[0m \u001b[0mself\u001b[0m\u001b[0;34m.\u001b[0m\u001b[0m_call\u001b[0m\u001b[0;34m(\u001b[0m\u001b[0;34m*\u001b[0m\u001b[0margs\u001b[0m\u001b[0;34m,\u001b[0m \u001b[0;34m**\u001b[0m\u001b[0mkwds\u001b[0m\u001b[0;34m)\u001b[0m\u001b[0;34m\u001b[0m\u001b[0;34m\u001b[0m\u001b[0m\n\u001b[0m\u001b[1;32m    829\u001b[0m       \u001b[0mcompiler\u001b[0m \u001b[0;34m=\u001b[0m \u001b[0;34m\"xla\"\u001b[0m \u001b[0;32mif\u001b[0m \u001b[0mself\u001b[0m\u001b[0;34m.\u001b[0m\u001b[0m_experimental_compile\u001b[0m \u001b[0;32melse\u001b[0m \u001b[0;34m\"nonXla\"\u001b[0m\u001b[0;34m\u001b[0m\u001b[0;34m\u001b[0m\u001b[0m\n\u001b[1;32m    830\u001b[0m       \u001b[0mnew_tracing_count\u001b[0m \u001b[0;34m=\u001b[0m \u001b[0mself\u001b[0m\u001b[0;34m.\u001b[0m\u001b[0mexperimental_get_tracing_count\u001b[0m\u001b[0;34m(\u001b[0m\u001b[0;34m)\u001b[0m\u001b[0;34m\u001b[0m\u001b[0;34m\u001b[0m\u001b[0m\n",
            "\u001b[0;32m/usr/local/lib/python3.7/dist-packages/tensorflow/python/eager/def_function.py\u001b[0m in \u001b[0;36m_call\u001b[0;34m(self, *args, **kwds)\u001b[0m\n\u001b[1;32m    860\u001b[0m       \u001b[0;31m# In this case we have not created variables on the first call. So we can\u001b[0m\u001b[0;34m\u001b[0m\u001b[0;34m\u001b[0m\u001b[0;34m\u001b[0m\u001b[0m\n\u001b[1;32m    861\u001b[0m       \u001b[0;31m# run the first trace but we should fail if variables are created.\u001b[0m\u001b[0;34m\u001b[0m\u001b[0;34m\u001b[0m\u001b[0;34m\u001b[0m\u001b[0m\n\u001b[0;32m--> 862\u001b[0;31m       \u001b[0mresults\u001b[0m \u001b[0;34m=\u001b[0m \u001b[0mself\u001b[0m\u001b[0;34m.\u001b[0m\u001b[0m_stateful_fn\u001b[0m\u001b[0;34m(\u001b[0m\u001b[0;34m*\u001b[0m\u001b[0margs\u001b[0m\u001b[0;34m,\u001b[0m \u001b[0;34m**\u001b[0m\u001b[0mkwds\u001b[0m\u001b[0;34m)\u001b[0m\u001b[0;34m\u001b[0m\u001b[0;34m\u001b[0m\u001b[0m\n\u001b[0m\u001b[1;32m    863\u001b[0m       \u001b[0;32mif\u001b[0m \u001b[0mself\u001b[0m\u001b[0;34m.\u001b[0m\u001b[0m_created_variables\u001b[0m\u001b[0;34m:\u001b[0m\u001b[0;34m\u001b[0m\u001b[0;34m\u001b[0m\u001b[0m\n\u001b[1;32m    864\u001b[0m         raise ValueError(\"Creating variables on a non-first call to a function\"\n",
            "\u001b[0;32m/usr/local/lib/python3.7/dist-packages/tensorflow/python/eager/function.py\u001b[0m in \u001b[0;36m__call__\u001b[0;34m(self, *args, **kwargs)\u001b[0m\n\u001b[1;32m   2941\u001b[0m        filtered_flat_args) = self._maybe_define_function(args, kwargs)\n\u001b[1;32m   2942\u001b[0m     return graph_function._call_flat(\n\u001b[0;32m-> 2943\u001b[0;31m         filtered_flat_args, captured_inputs=graph_function.captured_inputs)  # pylint: disable=protected-access\n\u001b[0m\u001b[1;32m   2944\u001b[0m \u001b[0;34m\u001b[0m\u001b[0m\n\u001b[1;32m   2945\u001b[0m   \u001b[0;34m@\u001b[0m\u001b[0mproperty\u001b[0m\u001b[0;34m\u001b[0m\u001b[0;34m\u001b[0m\u001b[0m\n",
            "\u001b[0;32m/usr/local/lib/python3.7/dist-packages/tensorflow/python/eager/function.py\u001b[0m in \u001b[0;36m_call_flat\u001b[0;34m(self, args, captured_inputs, cancellation_manager)\u001b[0m\n\u001b[1;32m   1917\u001b[0m       \u001b[0;31m# No tape is watching; skip to running the function.\u001b[0m\u001b[0;34m\u001b[0m\u001b[0;34m\u001b[0m\u001b[0;34m\u001b[0m\u001b[0m\n\u001b[1;32m   1918\u001b[0m       return self._build_call_outputs(self._inference_function.call(\n\u001b[0;32m-> 1919\u001b[0;31m           ctx, args, cancellation_manager=cancellation_manager))\n\u001b[0m\u001b[1;32m   1920\u001b[0m     forward_backward = self._select_forward_and_backward_functions(\n\u001b[1;32m   1921\u001b[0m         \u001b[0margs\u001b[0m\u001b[0;34m,\u001b[0m\u001b[0;34m\u001b[0m\u001b[0;34m\u001b[0m\u001b[0m\n",
            "\u001b[0;32m/usr/local/lib/python3.7/dist-packages/tensorflow/python/eager/function.py\u001b[0m in \u001b[0;36mcall\u001b[0;34m(self, ctx, args, cancellation_manager)\u001b[0m\n\u001b[1;32m    558\u001b[0m               \u001b[0minputs\u001b[0m\u001b[0;34m=\u001b[0m\u001b[0margs\u001b[0m\u001b[0;34m,\u001b[0m\u001b[0;34m\u001b[0m\u001b[0;34m\u001b[0m\u001b[0m\n\u001b[1;32m    559\u001b[0m               \u001b[0mattrs\u001b[0m\u001b[0;34m=\u001b[0m\u001b[0mattrs\u001b[0m\u001b[0;34m,\u001b[0m\u001b[0;34m\u001b[0m\u001b[0;34m\u001b[0m\u001b[0m\n\u001b[0;32m--> 560\u001b[0;31m               ctx=ctx)\n\u001b[0m\u001b[1;32m    561\u001b[0m         \u001b[0;32melse\u001b[0m\u001b[0;34m:\u001b[0m\u001b[0;34m\u001b[0m\u001b[0;34m\u001b[0m\u001b[0m\n\u001b[1;32m    562\u001b[0m           outputs = execute.execute_with_cancellation(\n",
            "\u001b[0;32m/usr/local/lib/python3.7/dist-packages/tensorflow/python/eager/execute.py\u001b[0m in \u001b[0;36mquick_execute\u001b[0;34m(op_name, num_outputs, inputs, attrs, ctx, name)\u001b[0m\n\u001b[1;32m     58\u001b[0m     \u001b[0mctx\u001b[0m\u001b[0;34m.\u001b[0m\u001b[0mensure_initialized\u001b[0m\u001b[0;34m(\u001b[0m\u001b[0;34m)\u001b[0m\u001b[0;34m\u001b[0m\u001b[0;34m\u001b[0m\u001b[0m\n\u001b[1;32m     59\u001b[0m     tensors = pywrap_tfe.TFE_Py_Execute(ctx._handle, device_name, op_name,\n\u001b[0;32m---> 60\u001b[0;31m                                         inputs, attrs, num_outputs)\n\u001b[0m\u001b[1;32m     61\u001b[0m   \u001b[0;32mexcept\u001b[0m \u001b[0mcore\u001b[0m\u001b[0;34m.\u001b[0m\u001b[0m_NotOkStatusException\u001b[0m \u001b[0;32mas\u001b[0m \u001b[0me\u001b[0m\u001b[0;34m:\u001b[0m\u001b[0;34m\u001b[0m\u001b[0;34m\u001b[0m\u001b[0m\n\u001b[1;32m     62\u001b[0m     \u001b[0;32mif\u001b[0m \u001b[0mname\u001b[0m \u001b[0;32mis\u001b[0m \u001b[0;32mnot\u001b[0m \u001b[0;32mNone\u001b[0m\u001b[0;34m:\u001b[0m\u001b[0;34m\u001b[0m\u001b[0;34m\u001b[0m\u001b[0m\n",
            "\u001b[0;31mKeyboardInterrupt\u001b[0m: "
          ]
        }
      ]
    },
    {
      "cell_type": "code",
      "metadata": {
        "id": "5zLzZC2Z8Gzh"
      },
      "source": [
        "VAE.save(MODEL_SAVE_PATH+MODEL_NAME)"
      ],
      "execution_count": null,
      "outputs": []
    },
    {
      "cell_type": "markdown",
      "metadata": {
        "id": "hcSC9-Ub6omP"
      },
      "source": [
        "# INFERENCE SECTION"
      ]
    },
    {
      "cell_type": "code",
      "metadata": {
        "id": "zYme07J4xv1g"
      },
      "source": [
        "def sample(preds, temperature=1.0):\n",
        "    # helper function to sample an index from a probability array\n",
        "    preds = np.asarray(preds).astype(\"float64\")\n",
        "    preds = np.log(preds) / temperature\n",
        "    exp_preds = np.exp(preds)\n",
        "    preds = exp_preds / np.sum(exp_preds)\n",
        "    preds = np.squeeze(preds)\n",
        "    probas = np.random.multinomial(1, preds, 1)\n",
        "    return np.argmax(probas)"
      ],
      "execution_count": null,
      "outputs": []
    },
    {
      "cell_type": "code",
      "metadata": {
        "id": "pGLMiVyZe1k8"
      },
      "source": [
        "from music21 import stream\n",
        "from music21.stream import Score\n",
        "\n",
        "STARTING_OFFSET = 0\n",
        "OUTPUT_PATH = \"/content/drive/MyDrive/MLFolder/Onlab/Outputs/\"\n",
        "\n",
        "def prediction_function(mapperlist = None, resample = True):\n",
        "\n",
        "    plot_noise = False\n",
        "    GENERATED_SLICES = 10\n",
        "    temperatures = [0.5, 0.7, 0.8, 1.0]\n",
        "\n",
        "    for temp in temperatures:\n",
        "        for i in range(GENERATED_SLICES):\n",
        "            noise = np.random.normal(size=latent_dim)\n",
        "            if plot_noise:\n",
        "                plt.plot(noise)\n",
        "                plt.show()\n",
        "            noise = np.expand_dims(noise, 0)\n",
        "            pred = decoder.predict(noise)\n",
        "            predicted = []\n",
        "            for j in pred:\n",
        "                for k in j:\n",
        "                    if resample:\n",
        "                        index = sample(k, temp)\n",
        "                        if mapperlist is not None: #Idx of the mapper list is the new value, the element is the old value. This is used when I filter for outliers.\n",
        "                            index=mapperlist[index]\n",
        "                        pred_note = get_key_from_value(index, mapper)\n",
        "                        predicted.append(pred_note)\n",
        "                    else:\n",
        "                        index = np.argmax(k)\n",
        "                        if mapperlist is not None:\n",
        "                            index=mapperlist[index]\n",
        "                        pred_note = get_key_from_value(index, mapper)\n",
        "                        predicted.append(pred_note)\n",
        "            create_midi_with_embedded_durations(predicted, target_instrument = instrument.ElectricGuitar(), filename = OUTPUT_PATH + MODEL_NAME + f'{i+STARTING_OFFSET}guitartemp={temp}.mid')\n",
        "            print(predicted)\n",
        "    "
      ],
      "execution_count": null,
      "outputs": []
    },
    {
      "cell_type": "code",
      "metadata": {
        "id": "rg2sDWdQvBnh",
        "colab": {
          "base_uri": "https://localhost:8080/"
        },
        "outputId": "59878c80-e043-402d-813e-977fc0a5df24"
      },
      "source": [
        "prediction_function(mapper_list, resample=True)"
      ],
      "execution_count": null,
      "outputs": [
        {
          "output_type": "stream",
          "text": [
            "['E3;0.5', 'D3;0.25', 'B2;0.25', 'E2;0.25', 'C3;0.25', '<music21.note.Rest,rest;0.25', 'D3;0.25', 'E3;0.25', 'E3;0.25', 'B4;0.25', 'E2;0.25', 'A3;0.25', 'E2;0.25', '<music21.note.Rest,rest;0.25', 'B3;0.25', '<music21.note.Rest,rest;0.25']\n",
            "['A3;0.5', 'A2;0.25', 'E2;0.25', 'D3;0.25', '<music21.note.Rest,rest;0.25', 'E3;0.25', 'E3;0.25', '<music21.note.Rest,rest;0.25', 'D3;0.25', '<music21.note.Rest,rest;0.5', 'D3;0.5', 'C3;0.25', '<music21.note.Rest,rest;0.25', 'D3;0.25', 'E3;0.25', '<music21.note.Rest,rest;0.25']\n",
            "['B3,E3;0.5', 'G3;0.25', 'D3;0.25', '<music21.note.Rest,rest;0.25', '<music21.note.Rest,rest;0.25', '<music21.note.Rest,rest;0.25', 'G3;0.25', 'B2;0.25', 'D3;0.25', 'F4;1.0', 'E3;0.25', 'E3;0.25', '<music21.note.Rest,rest;0.25', 'B3,F#3,B2;0.5', 'A3;0.25', 'E3;0.25']\n",
            "['G3;0.25', 'D3;0.5', 'E2;0.25', 'A3,D3;0.25', 'E3,A2;0.5', 'G2;0.25', 'B4;0.25', 'C3;0.5', 'E2;0.25', 'A2;0.5', '<music21.note.Rest,rest;0.25', 'D3;0.25', 'G3,C3;0.25', 'B2;0.25', 'E3;0.25', 'D3;0.5']\n",
            "['<music21.note.Rest,rest;0.5', '<music21.note.Rest,rest;0.25', 'G4;0.5', '<music21.note.Rest,rest;0.25', 'A2;0.25', 'A2;0.5', 'D3;0.25', 'E4,B3,E3;0.5', 'E3;0.25', 'D3;0.25', 'E4;0.5', 'A4;0.25', 'C5;0.25', 'D3;0.25', 'B4;0.5', 'A2;0.25']\n",
            "['E3;0.25', '<music21.note.Rest,rest;0.25', 'B3,E3;0.5', '<music21.note.Rest,rest;0.25', 'F3;0.5', 'C4;0.25', 'A3,D3;0.5', 'E4;0.5', 'D3,G2;0.25', 'B2;0.25', 'D3;0.25', '<music21.note.Rest,rest;0.25', 'E3;0.25', 'B2,E2;0.25', '<music21.note.Rest,rest;0.25', 'E4;0.25']\n",
            "['G3;0.5', 'G3,D3,G2;0.5', 'D3;0.25', 'G3;0.5', 'D3;0.25', '<music21.note.Rest,rest;0.25', 'E3;0.25', '<music21.note.Rest,rest;0.25', 'D4;0.25', 'G3;0.25', 'E2;0.25', 'F#3;0.5', 'E3;0.25', 'B3,E3;0.5', 'E3;0.25', 'D3;0.25']\n",
            "['<music21.note.Rest,rest;0.25', 'E3,A2;0.5', 'E4;0.25', 'E2;0.25', 'D3;0.5', 'D3;0.25', 'E2;0.25', '<music21.note.Rest,rest;0.25', 'E3;0.25', 'B3,E3;0.25', 'A2;0.25', 'E3;0.25', 'E2;0.25', 'G3;0.25', 'D3;0.5', 'E3;0.25']\n",
            "['A3;0.25', 'D3;0.5', 'E3;0.25', 'D3;0.25', 'F#3;0.25', '<music21.note.Rest,rest;0.25', 'D3;0.25', 'E2;0.25', '<music21.note.Rest,rest;0.25', 'E3;0.25', 'F#4;0.25', 'E3;0.25', 'G3;0.25', '<music21.note.Rest,rest;0.25', 'E3;0.25', 'D3;0.5']\n",
            "['A3;0.25', '<music21.note.Rest,rest;0.25', 'E3;0.25', 'E3;0.25', 'A2;0.5', 'E3;0.25', 'C#5;0.25', 'E4;0.25', 'G3;0.25', 'E3;0.25', 'E3;0.25', 'E2;0.25', 'D3;0.25', 'E3;0.25', 'F3;0.5', '<music21.note.Rest,rest;0.25']\n",
            "['<music21.note.Rest,rest;0.25', 'E3;0.25', 'D3;0.25', 'F3;0.5', 'E2;0.25', 'E3;0.25', 'D3;0.5', 'D3;0.5', 'D2;0.25', 'E3;0.25', 'C4,G3,C3;1.0', 'G4;1.5', 'A3,D3;0.5', 'B3,E3;1/3', 'B3,E3;0.25', 'E3;0.25']\n",
            "['F3;0.5', 'A3,D3;0.5', 'E-4;0.25', 'E3;0.25', 'E4;0.25', 'G#4;0.25', 'C#3;0.25', 'B2,E2;0.5', 'D4;0.5', 'D3;0.25', '<music21.note.Rest,rest;0.25', 'C3;0.25', 'C4,G3,C3;0.25', 'F3,B-2;0.5', '<music21.note.Rest,rest;0.25', 'G3;2/3']\n",
            "['E2;0.25', 'A4;0.5', 'C#3,F#2;0.25', 'A3;0.5', 'A2;0.25', 'C3;0.25', 'C3;0.25', 'B3,E3;0.25', 'C3;0.25', 'E3,A2;0.25', 'A2;0.25', 'A3,D3;0.5', 'D3;0.25', 'E4,B3,E3;0.5', 'A2;0.5', '<music21.note.Rest,rest;0.25']\n",
            "['E4;0.25', 'C4,G3,C3;4.0', 'C4;0.5', '<music21.note.Rest,rest;0.5', 'E3;0.5', 'E3;0.25', 'E3;0.25', 'D3;0.5', 'E3;0.5', 'A2;0.25', 'G2;0.25', 'E2;0.25', 'D4,A3,D3;0.5', 'E3;0.25', 'D3;0.5', 'E3;0.5']\n",
            "['B2;0.25', 'G4;0.25', 'G4;0.25', '<music21.note.Rest,rest;0.25', '<music21.note.Rest,rest;0.25', 'C#5;0.25', 'D3;0.25', 'A2;0.5', 'B2;0.25', '<music21.note.Rest,rest;0.25', 'B3,E3;0.25', 'B2;0.5', 'G3;0.25', 'A2;0.25', 'A3;0.5', 'B3,E3;0.25']\n",
            "['F3,B-2;0.5', 'A3,D3;0.5', 'G2;0.25', 'A2;0.25', 'B4;0.25', 'A3;0.25', 'D3;0.25', 'B4;0.5', 'C3;0.5', 'A2;0.25', 'E2;0.25', 'B3,E3;0.5', 'B3,E3;0.25', 'E2;0.5', 'B3,E3;0.25', 'C3;0.25']\n",
            "['D3;1.0', 'G3,C3;0.25', 'D4,A3,D3;0.5', 'E-3;0.25', 'E3;0.25', 'E-4;0.25', 'B3;0.75', 'B3;0.5', '<music21.note.Rest,rest;0.25', 'G4;0.5', 'A2;0.25', '<music21.note.Rest,rest;1/12', '<music21.note.Rest,rest;0.25', '<music21.note.Rest,rest;1.0', 'D3;0.25', 'G3,D3,A2;0.25']\n",
            "['B3,E3;0.25', 'D3;0.5', 'E3;0.25', 'A3,D3;0.5', 'A2;0.25', 'B3;0.25', '<music21.note.Rest,rest;1.0', 'E5;0.25', 'E2;0.25', 'E4,B3,E3;0.25', 'B2;0.25', 'D3,G2;0.25', 'D4;0.5', 'D3;0.25', 'B3;0.25', 'E4,B3,E3;0.25']\n",
            "['B-2;0.25', 'D4;0.5', 'D3;0.25', 'F#3;0.25', 'C4,G3,C3;0.25', 'G3;0.25', 'C3;0.25', 'F#3;0.25', 'D4;1.0', 'A2;0.25', 'G3;0.5', 'E4;0.25', 'E2;0.25', 'G3;0.5', 'E3;0.25', 'D4;0.25']\n",
            "['E2;0.25', '<music21.note.Rest,rest;1/12', '<music21.note.Rest,rest;0.25', 'D3;0.25', 'F#3,B2;0.5', 'B3;0.25', 'B3;0.5', 'F#3;0.25', 'B3,E3;0.25', '<music21.note.Rest,rest;1/12', 'G#3;0.25', 'B3;0.25', '<music21.note.Rest,rest;0.5', 'D3,G2;0.25', 'E3;0.25', 'C#3;0.5']\n",
            "['B3,F#3,B2;0.5', 'B2;0.25', 'B-3;0.5', 'A3,E3,A2;0.25', 'F3;0.5', 'B3,F#3,B2;0.5', 'G4;0.75', 'E3;0.25', 'D3;0.5', 'B3,E3;0.25', 'F3;0.25', 'G4;1/3', 'D3;0.25', 'G3;0.25', 'E3;0.25', 'F3;0.25']\n",
            "['B3,E3;0.25', 'D3;0.25', 'D3;0.25', 'E5;0.25', 'D4;0.25', 'E2;0.25', 'E3;0.25', 'G3;0.5', 'G4;0.25', 'B4;0.5', 'D3;0.25', 'E3;0.25', 'C3;0.25', 'D4;0.25', '<music21.note.Rest,rest;0.25', 'D3,A3;0.25']\n",
            "['A3;0.25', 'B2;0.5', 'F#4;1.5', 'E3;1.0', 'E3;0.25', 'A2;0.25', 'B-2;0.25', 'B3,E3;0.25', 'C3;0.5', 'D4;0.5', 'G3;0.5', 'A2;0.5', 'G3;0.5', 'A3;0.5', '<music21.note.Rest,rest;0.25', 'C4;0.25']\n",
            "['A3,D3;0.5', 'D3,G2;1.0', 'G3,D3,G2;0.25', 'B3;0.25', 'A3,D3;1.0', 'B3,E3;0.25', 'D3;0.5', '<music21.note.Rest,rest;0.25', '<music21.note.Rest,rest;0.25', 'G3;0.25', 'D4,A3,D3;0.5', 'E4;0.25', 'E4;0.25', 'B2;0.5', 'F4;0.25', 'D3;0.25']\n",
            "['E2;0.25', 'E4;0.5', '<music21.note.Rest,rest;0.25', 'D3;0.25', 'F#3;0.25', 'C3;0.25', 'A3;0.25', 'G3;0.25', 'E4;0.5', 'B3,E3;0.25', 'E4;0.25', 'B2;0.5', 'A4;0.25', 'F#4;0.25', 'B3;0.25', 'D3;0.25']\n",
            "['E4;0.5', 'D3;0.5', 'F#3,B2;0.5', 'A3;0.25', 'D3;0.25', 'G3,C3;0.25', 'E5;0.5', 'G3;1.0', 'F#3;0.5', 'D4;1.0', 'E3;0.25', 'B3,E3;0.25', 'E4,A3;0.25', 'E4,B3,E3;0.5', 'B2;0.25', 'E4;0.5']\n",
            "['F#3,B2;0.25', 'E4;0.5', 'A3,D3;0.5', 'B3,E3;0.5', 'D3;0.25', 'E2;0.25', 'F2;0.25', 'D4;0.5', 'A2;0.25', 'F3,B-2;1.0', 'G3;0.25', 'B3;0.25', 'E3;0.25', 'G4;0.25', 'D3;0.5', 'D3;0.25']\n",
            "['A3,D3;0.25', 'G3;0.25', 'G4;0.5', 'E5;0.5', 'C3;0.25', 'B2,E2;0.25', '<music21.note.Rest,rest;0.25', 'F#3;0.5', 'E3;0.25', 'E3;0.25', 'G3;0.25', 'F#3;0.5', 'G3,C3;0.5', 'E3;0.25', 'F3;0.25', 'E3;0.5']\n",
            "['A4;1/3', 'B3,E3;0.5', 'D3;0.25', '<music21.note.Rest,rest;3.75', 'E2;0.25', 'G3;0.5', 'E2;0.25', 'E3;0.25', '<music21.note.Rest,rest;4.0', 'E2;0.25', 'F#3,B2;0.5', 'B3,E3;0.25', 'B-3;0.5', 'D3;0.25', 'G4;0.25', 'A2;0.25']\n",
            "['C3;0.25', '<music21.note.Rest,rest;0.25', 'C4;0.25', 'A3,D3;0.25', 'B2;0.25', 'E4;0.25', 'A3,D3;0.5', 'B3,E3;0.5', 'C3;0.25', 'A3,D3;0.5', 'E2;0.25', 'C3;1.0', 'B-2;0.25', '<music21.note.Rest,rest;0.5', 'G3,C3;0.5', 'B-2;0.25']\n",
            "['B4;0.25', 'B2;0.25', 'A3;0.25', 'D3;0.25', 'A2,D2;0.25', 'B3,E3;0.25', 'B3;0.5', 'E4;0.75', 'G3;0.5', 'E4,B3,E3;0.5', '<music21.note.Rest,rest;5/12', 'E3;0.25', 'D3;0.25', 'E3,A2;0.5', 'B-2;0.25', 'B2,E2;0.25']\n",
            "['E3,A2;0.25', 'D3;0.5', 'B3;0.5', 'B4;0.25', '<music21.note.Rest,rest;0.5', 'C3,F2;0.5', 'D5;0.25', 'C4,G3,C3;2.0', 'A4;0.25', 'G#4,E4;0.5', 'G3,C3;1.0', 'B3;0.25', '<music21.note.Rest,rest;0.25', 'E4;0.25', 'F#3;0.5', 'D3;0.25']\n",
            "['G2;0.5', 'C4;0.25', 'B-3;0.5', 'D3;0.25', 'B-2;0.25', 'D3;0.25', 'D3;0.25', 'D4,A3,D3;0.25', 'E5;0.5', 'A3;0.5', '<music21.note.Rest,rest;0.25', 'D3,G2;0.5', 'E3;0.25', 'G3,C3;0.5', 'B3;0.25', 'F#3,B2;0.5']\n",
            "['B3;0.5', 'E2;0.25', 'A3;0.25', 'G3,C3;0.25', 'E2;0.5', 'A2;0.5', 'D3;0.5', 'B3,E3,E2;0.25', 'B3;0.25', 'G4;0.25', 'D4,A3,D3;0.5', 'F3;0.25', 'A3;0.5', 'A3,D3;0.25', 'D4;1.0', 'B-2;0.25']\n",
            "['A3;0.5', 'B4;1.0', 'A2,D2;0.25', 'F#3,B2;0.5', 'B2,E2;0.25', '<music21.note.Rest,rest;1/12', 'B-3;0.5', 'G#3;0.25', 'G3;0.5', 'F#3;0.5', 'B2;0.25', 'E2;0.5', 'G3,C3;0.25', 'F#4;0.5', 'E4;0.75', 'D3;0.5']\n",
            "['B2;0.25', 'D4,A3,D3;1.0', 'E4;2/3', 'F#3;0.5', 'D3;0.25', 'B3,E3,E2;0.25', 'A3;0.25', 'D3;1.0', 'F3;0.25', 'E4;0.25', 'C4,G3,C3;1.0', 'D5;1/3', '<music21.note.Rest,rest;1/12', 'C3;0.5', 'B2;0.25', 'A2;0.25']\n",
            "['D3;0.25', 'E-3;0.5', 'G5;0.5', 'A3;0.5', 'E2;0.25', 'G3;0.25', 'E4,B3,E3;0.5', 'C4;0.25', 'B3,E3;1/3', 'F4;0.25', '<music21.note.Rest,rest;0.25', 'B-3;0.5', 'E3,A2;0.25', 'G2;0.5', 'G4;0.5', 'E4,B3,E3;0.5']\n",
            "['<music21.note.Rest,rest;0.25', 'D3;0.5', 'C3;1/3', 'D3;0.5', 'F4;0.25', 'G2;0.25', '<music21.note.Rest,rest;0.25', 'D3;0.5', 'G3;0.25', 'F#3;0.5', 'D3;0.25', 'C4;0.5', 'E3,B2,E2;0.5', 'G3,C3;0.25', 'D4,G3;0.5', 'D3,A2;0.25']\n",
            "['D5;0.25', 'E4,B3,E3;2.0', 'B3;0.25', 'G4;0.5', 'E3;0.5', 'C#3,F#2;0.25', 'G3;0.25', 'E3,A2;0.5', 'G4,D4,G3;0.25', 'A4;0.25', 'E4;0.25', 'B2,E2;0.25', 'E4;0.5', 'C3;0.25', 'B2;0.25', 'D5;0.25']\n",
            "['E4;0.5', 'D3;0.25', 'E3;0.5', 'B3,E3;1/3', 'G4;0.75', 'A3;0.25', 'F3;0.25', 'D3;0.5', 'E2;0.25', 'E5;0.25', 'B4;0.5', 'D4,A3,D3;2.0', 'E2;0.25', 'D3;0.5', 'B4;1.0', 'E2;0.25']\n"
          ],
          "name": "stdout"
        }
      ]
    },
    {
      "cell_type": "markdown",
      "metadata": {
        "id": "PLgy3bnv6t-H"
      },
      "source": [
        "# DEBUG SECTION"
      ]
    },
    {
      "cell_type": "code",
      "metadata": {
        "id": "qodoFEUk3E59"
      },
      "source": [
        "SLICE_LEN = 64"
      ],
      "execution_count": null,
      "outputs": []
    },
    {
      "cell_type": "code",
      "metadata": {
        "id": "kqJ_E36K2wdU"
      },
      "source": [
        "VAE.summary()"
      ],
      "execution_count": null,
      "outputs": []
    },
    {
      "cell_type": "code",
      "metadata": {
        "colab": {
          "base_uri": "https://localhost:8080/"
        },
        "id": "-VGz4mX7UWJZ",
        "outputId": "6889d6c4-adb3-4fca-8226-3d514d15d39a"
      },
      "source": [
        "print(cleared_encoded_data_full.shape)\n",
        "print(np.max(cleared_encoded_data_full))"
      ],
      "execution_count": null,
      "outputs": [
        {
          "output_type": "stream",
          "text": [
            "(159664,)\n",
            "133\n"
          ],
          "name": "stdout"
        }
      ]
    },
    {
      "cell_type": "code",
      "metadata": {
        "id": "hC4EQolIQxk2"
      },
      "source": [
        "import tensorflow as tf\n",
        "from keras.losses import categorical_crossentropy\n",
        "\n",
        "class MyModel(Model):\n",
        "\n",
        "    def __init__(self, encoder, decoder, **kwargs):\n",
        "        super(MyModel, self).__init__(**kwargs)\n",
        "        self.encoder = encoder\n",
        "        self.decoder = decoder\n",
        "\n",
        "    def __call__(self, input):\n",
        "        return self.call(input, training=False)\n",
        "\n",
        "    def train_step(self, data):\n",
        "        #x, y = data\n",
        "\n",
        "        with tf.GradientTape() as tape:\n",
        "            z = self.encoder(data[0])\n",
        "\n",
        "            reconstruction = self.decoder(z)\n",
        "\n",
        "            loss = tf.reduce_mean(\n",
        "                tf.reduce_sum(\n",
        "                    categorical_crossentropy(data[0], reconstruction)\n",
        "                )\n",
        "            )\n",
        "\n",
        "            #print(f'Shape of x:{x.shape}')\n",
        "\n",
        "            #print(f'Shape of y:{y.shape}')\n",
        "\n",
        "            #y_pred = self(x, training=True)\n",
        "\n",
        "            #print(f'Shape of  y_pred:{y_pred.shape}')\n",
        "\n",
        "            #print(f'Shape of  y_pred[0]:{y_pred[0].shape}')\n",
        "\n",
        "            #tf.print(y_pred)\n",
        "\n",
        "            #loss = self.compiled_loss(y, y_pred, regularization_losses=self.losses)\n",
        "            \n",
        "            trainable_vars = self.trainable_variables\n",
        "            gradients = tape.gradient(loss, trainable_vars)\n",
        "\n",
        "            self.optimizer.apply_gradients(zip(gradients, trainable_vars))\n",
        "\n",
        "            self.compiled_metrics.update_state(loss)\n",
        "\n",
        "        return {m.name: m.result() for m in self.metrics}"
      ],
      "execution_count": null,
      "outputs": []
    },
    {
      "cell_type": "code",
      "metadata": {
        "colab": {
          "base_uri": "https://localhost:8080/"
        },
        "id": "_ISF3ukm6vVb",
        "outputId": "8dcd9be9-9cec-4646-d077-15e1696f496a"
      },
      "source": [
        "import gc\n",
        "gc.collect()"
      ],
      "execution_count": null,
      "outputs": [
        {
          "output_type": "execute_result",
          "data": {
            "text/plain": [
              "3065790"
            ]
          },
          "metadata": {
            "tags": []
          },
          "execution_count": 48
        }
      ]
    }
  ]
}