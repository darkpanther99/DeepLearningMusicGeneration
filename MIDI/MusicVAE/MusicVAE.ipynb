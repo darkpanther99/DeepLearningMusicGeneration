{
  "nbformat": 4,
  "nbformat_minor": 0,
  "metadata": {
    "colab": {
      "name": "MusicVAE.ipynb",
      "provenance": []
    },
    "kernelspec": {
      "name": "python3",
      "display_name": "Python 3"
    },
    "language_info": {
      "name": "python"
    },
    "accelerator": "GPU"
  },
  "cells": [
    {
      "cell_type": "code",
      "metadata": {
        "id": "9kiBaA-La0N-",
        "colab": {
          "base_uri": "https://localhost:8080/"
        },
        "outputId": "0ff6ecff-a294-430f-87d4-fdc3c8d7b2c1"
      },
      "source": [
        "!pip install --upgrade music21\n",
        "from music21 import converter, instrument, note, chord\n",
        "import os\n",
        "from tqdm import tqdm\n",
        "import numpy as np\n",
        "from keras.utils import to_categorical\n",
        "from keras.models import Sequential\n",
        "from keras.layers import LSTM, Dense, Flatten, Dropout\n",
        "%load_ext tensorboard \n",
        "from tensorboard import notebook\n",
        "from keras.callbacks import TensorBoard\n",
        "from keras.callbacks import ReduceLROnPlateau\n",
        "from keras.callbacks import EarlyStopping\n",
        "from keras.layers import LSTM, Bidirectional, Input, Layer, Dense, Reshape, concatenate\n",
        "from keras.models import Model\n",
        "import numpy as np\n",
        "import tensorflow as tf\n",
        "import matplotlib.pyplot as plt"
      ],
      "execution_count": null,
      "outputs": [
        {
          "output_type": "stream",
          "text": [
            "Collecting music21\n",
            "\u001b[?25l  Downloading https://files.pythonhosted.org/packages/43/f3/da0ab10ffb5e58e2690b8dff310bb53f35af213a8853ec72c08df41ea080/music21-6.7.1.tar.gz (19.2MB)\n",
            "\u001b[K     |████████████████████████████████| 19.3MB 1.3MB/s \n",
            "\u001b[?25hRequirement already satisfied, skipping upgrade: chardet in /usr/local/lib/python3.7/dist-packages (from music21) (3.0.4)\n",
            "Requirement already satisfied, skipping upgrade: joblib in /usr/local/lib/python3.7/dist-packages (from music21) (1.0.1)\n",
            "Requirement already satisfied, skipping upgrade: more-itertools in /usr/local/lib/python3.7/dist-packages (from music21) (8.7.0)\n",
            "Collecting webcolors\n",
            "  Downloading https://files.pythonhosted.org/packages/12/05/3350559de9714b202e443a9e6312937341bd5f79f4e4f625744295e7dd17/webcolors-1.11.1-py3-none-any.whl\n",
            "Building wheels for collected packages: music21\n",
            "  Building wheel for music21 (setup.py) ... \u001b[?25l\u001b[?25hdone\n",
            "  Created wheel for music21: filename=music21-6.7.1-cp37-none-any.whl size=21941694 sha256=ba4d5ee3fbab353b9f8beb8209c7efcc62b46f22b26c320506f4d837a3ec8315\n",
            "  Stored in directory: /root/.cache/pip/wheels/1a/0f/0e/f78ad56a2738f4ea5082dd4283d7b7cce18a8ba20c3e609b6c\n",
            "Successfully built music21\n",
            "Installing collected packages: webcolors, music21\n",
            "  Found existing installation: music21 5.5.0\n",
            "    Uninstalling music21-5.5.0:\n",
            "      Successfully uninstalled music21-5.5.0\n",
            "Successfully installed music21-6.7.1 webcolors-1.11.1\n"
          ],
          "name": "stdout"
        }
      ]
    },
    {
      "cell_type": "code",
      "metadata": {
        "colab": {
          "base_uri": "https://localhost:8080/"
        },
        "id": "bVkTmvvj56_U",
        "outputId": "6dc32973-4e1b-45b7-c29a-2df1c41bd948"
      },
      "source": [
        "from google.colab import drive\n",
        "\n",
        "drive.mount('/content/drive', force_remount=False)\n",
        "\n",
        "MIDI_PATH=\"/content/drive/My Drive/MLFolder/Onlab/MIDI_Iron_Maiden/\""
      ],
      "execution_count": null,
      "outputs": [
        {
          "output_type": "stream",
          "text": [
            "Mounted at /content/drive\n"
          ],
          "name": "stdout"
        }
      ]
    },
    {
      "cell_type": "code",
      "metadata": {
        "colab": {
          "base_uri": "https://localhost:8080/"
        },
        "id": "a2h-ZppntKlt",
        "outputId": "fef7410d-c56a-4e34-ada9-3a4aa1204769"
      },
      "source": [
        "!nvidia-smi"
      ],
      "execution_count": null,
      "outputs": [
        {
          "output_type": "stream",
          "text": [
            "Sun Apr  4 15:57:22 2021       \n",
            "+-----------------------------------------------------------------------------+\n",
            "| NVIDIA-SMI 460.67       Driver Version: 460.32.03    CUDA Version: 11.2     |\n",
            "|-------------------------------+----------------------+----------------------+\n",
            "| GPU  Name        Persistence-M| Bus-Id        Disp.A | Volatile Uncorr. ECC |\n",
            "| Fan  Temp  Perf  Pwr:Usage/Cap|         Memory-Usage | GPU-Util  Compute M. |\n",
            "|                               |                      |               MIG M. |\n",
            "|===============================+======================+======================|\n",
            "|   0  Tesla P100-PCIE...  Off  | 00000000:00:04.0 Off |                    0 |\n",
            "| N/A   42C    P0    33W / 250W |   4681MiB / 16280MiB |      0%      Default |\n",
            "|                               |                      |                  N/A |\n",
            "+-------------------------------+----------------------+----------------------+\n",
            "                                                                               \n",
            "+-----------------------------------------------------------------------------+\n",
            "| Processes:                                                                  |\n",
            "|  GPU   GI   CI        PID   Type   Process name                  GPU Memory |\n",
            "|        ID   ID                                                   Usage      |\n",
            "|=============================================================================|\n",
            "+-----------------------------------------------------------------------------+\n"
          ],
          "name": "stdout"
        }
      ]
    },
    {
      "cell_type": "markdown",
      "metadata": {
        "id": "5hwflc--6m7S"
      },
      "source": [
        "# UTILITY FUNCTIONS SECTION"
      ]
    },
    {
      "cell_type": "code",
      "metadata": {
        "id": "O9ixCmCG6rqq"
      },
      "source": [
        "#https://www.geeksforgeeks.org/python-find-most-frequent-element-in-a-list/\n",
        "\n",
        "def most_frequent(paramlist): \n",
        "    counter = 0\n",
        "    num = paramlist[0] \n",
        "      \n",
        "    for i in paramlist: \n",
        "        curr_frequency = paramlist.count(i) \n",
        "        if(curr_frequency> counter): \n",
        "            counter = curr_frequency \n",
        "            num = i \n",
        "  \n",
        "    return num \n",
        "\n",
        "#Utility functions\n",
        "\n",
        "def get_notes_from_chord(chord):\n",
        "    if chord.startswith(\"<music21.chord.Chord \"):\n",
        "        chord = chord[len(\"<music21.chord.Chord \"):]\n",
        "    if chord.endswith(\">\"):\n",
        "        chord = chord[:-1]\n",
        "    chord = chord.replace(\" \", \",\")\n",
        "    return chord\n",
        "\n",
        "def get_number_from_duration(duration):\n",
        "    if duration.startswith(\"<music21.duration.Duration \"):\n",
        "        duration = duration[len(\"<music21.duration.Duration \"):]\n",
        "    if duration.endswith(\">\"):\n",
        "        duration = duration[:-1]\n",
        "    duration = duration.replace(\" \", \",\")\n",
        "    return duration\n",
        "\n",
        "def create_mapper(chords):\n",
        "    pitchnames = sorted(set(str(item) for item in chords))\n",
        "    mapper = dict((note, number) for number, note in enumerate(pitchnames))\n",
        "\n",
        "    return mapper\n",
        "\n",
        "def encode_using_mapper(chords, mapper):\n",
        "    encodedsong=[]\n",
        "    for c in chords:\n",
        "        encodedsong.append(mapper[str(c)])\n",
        "\n",
        "    return encodedsong\n",
        "\n",
        "\n",
        "def decode_chords_using_mapper(numbers, mapper):\n",
        "    outputnotes = []\n",
        "    for number in numbers:\n",
        "        outputnotes.append(chord_from_string(get_notes_from_chord(get_key_from_value(number, mapper))))\n",
        "\n",
        "    return outputnotes\n",
        "\n",
        "def combine_chords_with_durations(chords, durations):\n",
        "    combined = []\n",
        "\n",
        "    for i, j in zip(chords, durations):\n",
        "        i = get_notes_from_chord(str(i))\n",
        "        j = get_number_from_duration(str(j))\n",
        "        combined.append(i + ';' + j)\n",
        "\n",
        "    return combined\n",
        "\n",
        "def make_slices(data, slice_length):\n",
        "    for song in tqdm(data):\n",
        "        if len(song) > slice_length:\n",
        "\n",
        "            input = []\n",
        "            output = []\n",
        "            slice = []\n",
        "\n",
        "            for idx, number in enumerate(song):\n",
        "                if idx < slice_length:\n",
        "                    slice.append(number)\n",
        "\n",
        "            input.append(slice.copy())\n",
        "            output.append(song[slice_length])\n",
        "\n",
        "            # Sliding window\n",
        "            for idx, number in enumerate(song):\n",
        "                if idx >= slice_length and (idx + 1) < len(song):\n",
        "                    slice.pop(0)\n",
        "                    slice.append(number)\n",
        "                    input.append(slice.copy())  # Copy is necessary, because of how pointers and lists work in Python\n",
        "                    output.append(song[idx + 1])\n",
        "\n",
        "    return input, output\n",
        "\n",
        "def parse_everything_together(data, slice_length):\n",
        "\n",
        "    notes=[]\n",
        "    input=[]\n",
        "    output=[]\n",
        "    slice = []\n",
        "\n",
        "    for song in tqdm(data):\n",
        "        for number in song:\n",
        "            notes.append(number)\n",
        "    \n",
        "    for idx, note in tqdm(enumerate(notes)):\n",
        "        if idx < slice_length:\n",
        "            slice.append(number)\n",
        "\n",
        "    input.append(slice.copy())\n",
        "    output.append(notes[slice_length])\n",
        "\n",
        "    # Sliding window\n",
        "    for idx, number in tqdm(enumerate(notes)):\n",
        "        if idx >= slice_length and (idx + 1) < len(notes):\n",
        "            slice.pop(0)\n",
        "            slice.append(number)\n",
        "            input.append(slice.copy())  # Copy is necessary, because of how pointers and lists work in Python\n",
        "            output.append(notes[idx + 1])\n",
        "        \n",
        "    return input, output\n",
        "\n",
        "def get_key_from_value(value, dict):\n",
        "    return list(dict.keys())[list(dict.values()).index(value)]\n",
        "\n",
        "def get_notes_from_chord(chord):\n",
        "    if chord.startswith(\"<music21.chord.Chord \"):\n",
        "        chord = chord[len(\"<music21.chord.Chord \"):]\n",
        "    if chord.endswith(\">\"):\n",
        "        chord = chord[:-1]\n",
        "    chord = chord.replace(\" \", \",\")\n",
        "    return chord\n",
        "\n",
        "def get_number_from_duration(duration):\n",
        "    if duration.startswith(\"<music21.duration.Duration \"):\n",
        "        duration = duration[len(\"<music21.duration.Duration \"):]\n",
        "    if duration.endswith(\">\"):\n",
        "        duration = duration[:-1]\n",
        "    duration = duration.replace(\" \", \",\")\n",
        "    return duration\n",
        "\n",
        "def chord_from_string(chordstring):\n",
        "    notes = chordstring.split(\";\")\n",
        "    return chord.Chord(notes)\n",
        "\n",
        "#From: https://stackoverflow.com/questions/1806278/convert-fraction-to-float\n",
        "def convert_to_float(frac_str):\n",
        "    try:\n",
        "        return float(frac_str)\n",
        "    except ValueError:\n",
        "        num, denom = frac_str.split('/')\n",
        "        try:\n",
        "            leading, num = num.split(' ')\n",
        "            whole = float(leading)\n",
        "        except ValueError:\n",
        "            whole = 0\n",
        "        frac = float(num) / float(denom)\n",
        "        return whole - frac if whole < 0 else whole + frac\n",
        "\n",
        "#Source: https://github.com/alexissa32/DataScienceMusic\n",
        "def create_midi_without_chords(prediction_output, target_instrument = instrument.Piano(), filename = 'test_output.mid'):\n",
        "    '''\n",
        "    First step:\n",
        "    Only notes, no chords\n",
        "    Static 4/4 beat\n",
        "    Rests\n",
        "    '''\n",
        "    offset = 0\n",
        "    output_notes = []\n",
        "\n",
        "    # create note and chord objects based on the values generated by the model\n",
        "    for pattern in prediction_output:\n",
        "        # pattern is a rest\n",
        "        if('rest' in pattern):\n",
        "            new_rest = note.Rest(pattern)\n",
        "            new_rest.offset = offset\n",
        "            new_rest.storedInstrument = target_instrument #???\n",
        "            output_notes.append(new_rest)\n",
        "        # pattern is a note\n",
        "        else:\n",
        "            new_note = note.Note(pattern)\n",
        "            new_note.offset = offset\n",
        "            new_note.storedInstrument = target_instrument\n",
        "            output_notes.append(new_note)\n",
        "        # increase offset each iteration so that notes do not stack\n",
        "        offset += 0.5\n",
        "\n",
        "    midi_stream = stream.Stream(output_notes)\n",
        "\n",
        "    midi_stream.write('midi', fp=filename)\n",
        "\n",
        "def create_midi_without_durations(prediction_output, target_instrument = instrument.Piano(), filename = 'test_output.mid'):\n",
        "    '''\n",
        "    Second step:\n",
        "    Chords and notes\n",
        "    Static 4/4 beat\n",
        "    Rests\n",
        "    '''\n",
        "    offset = 0\n",
        "    output_notes = []\n",
        "\n",
        "    # create note and chord objects based on the values generated by the model\n",
        "    for pattern in prediction_output:\n",
        "        # pattern is a chord\n",
        "        if ('chord' in pattern):\n",
        "            notes = []\n",
        "            pattern = get_notes_from_chord(pattern)\n",
        "            patternpitches = pattern.split(',')\n",
        "            for current_note in patternpitches:\n",
        "                new_note = note.Note(current_note)\n",
        "                new_note.storedInstrument = target_instrument\n",
        "                notes.append(new_note)\n",
        "            new_chord = chord.Chord(notes)\n",
        "            new_chord.offset = offset\n",
        "            output_notes.append(new_chord)\n",
        "        # pattern is a rest\n",
        "        elif('rest' in pattern):\n",
        "            new_rest = note.Rest(pattern)\n",
        "            new_rest.offset = offset\n",
        "            new_rest.storedInstrument = target_instrument #???\n",
        "            output_notes.append(new_rest)\n",
        "        # pattern is a note\n",
        "        else:\n",
        "            new_note = note.Note(pattern)\n",
        "            new_note.offset = offset\n",
        "            new_note.storedInstrument = target_instrument\n",
        "            output_notes.append(new_note)\n",
        "        # increase offset each iteration so that notes do not stack\n",
        "        offset += 0.5\n",
        "\n",
        "    midi_stream = stream.Stream(output_notes)\n",
        "\n",
        "    midi_stream.write('midi', fp=filename)\n",
        "\n",
        "def create_midi_with_durations(prediction_output, output_durations, target_instrument = instrument.Piano(), filename = 'test_output.mid'):\n",
        "    offset = 0\n",
        "    output_notes = []\n",
        "\n",
        "    # create note and chord objects based on the values generated by the model\n",
        "    for i in range(len(prediction_output)):\n",
        "        pattern = prediction_output[i]\n",
        "        duration = get_number_from_duration(output_durations[i])\n",
        "        # pattern is a chord\n",
        "        if ('chord' in pattern):\n",
        "            notes = []\n",
        "            pattern = get_notes_from_chord(pattern)\n",
        "            patternpitches = pattern.split(',')\n",
        "            for current_note in patternpitches:\n",
        "                new_note = note.Note(current_note)\n",
        "                new_note.storedInstrument = target_instrument\n",
        "                notes.append(new_note)\n",
        "            new_chord = chord.Chord(notes)\n",
        "            new_chord.offset = offset\n",
        "            output_notes.append(new_chord)\n",
        "        # pattern is a rest\n",
        "        elif('rest' in pattern):\n",
        "            new_rest = note.Rest(pattern)\n",
        "            new_rest.offset = offset\n",
        "            new_rest.storedInstrument = target_instrument #???\n",
        "            output_notes.append(new_rest)\n",
        "        # pattern is a note\n",
        "        else:\n",
        "            new_note = note.Note(pattern)\n",
        "            new_note.offset = offset\n",
        "            new_note.storedInstrument = target_instrument\n",
        "            output_notes.append(new_note)\n",
        "        # increase offset each iteration so that notes do not stack\n",
        "        offset += convert_to_float(duration)\n",
        "\n",
        "    midi_stream = stream.Stream(output_notes)\n",
        "\n",
        "    midi_stream.write('midi', fp=filename)\n",
        "\n",
        "def create_midi_with_embedded_durations(prediction_output, target_instrument = instrument.Piano(), filename = 'test_output.mid'):\n",
        "    offset = 0\n",
        "    output_notes = []\n",
        "\n",
        "    # create note and chord objects based on the values generated by the model\n",
        "    for i in range(len(prediction_output)):\n",
        "        pattern = prediction_output[i]\n",
        "        splitpattern = pattern.split(\";\")\n",
        "        pattern = splitpattern[0]\n",
        "\n",
        "        duration = get_number_from_duration(splitpattern[1])\n",
        "        # pattern is a rest\n",
        "        if('rest' in pattern):\n",
        "            new_rest = note.Rest(pattern)\n",
        "            new_rest.offset = offset\n",
        "            new_rest.storedInstrument = target_instrument #???\n",
        "            output_notes.append(new_rest)\n",
        "        # pattern is a chord\n",
        "        elif (',' in pattern):\n",
        "            notes = []\n",
        "            pattern = get_notes_from_chord(pattern)\n",
        "            patternpitches = pattern.split(',')\n",
        "            for current_note in patternpitches:\n",
        "                new_note = note.Note(current_note)\n",
        "                new_note.storedInstrument = target_instrument\n",
        "                notes.append(new_note)\n",
        "            new_chord = chord.Chord(notes)\n",
        "            new_chord.offset = offset\n",
        "            output_notes.append(new_chord)\n",
        "        # pattern is a note\n",
        "        else:\n",
        "            new_note = note.Note(pattern)\n",
        "            new_note.offset = offset\n",
        "            new_note.storedInstrument = target_instrument\n",
        "            output_notes.append(new_note)\n",
        "        # increase offset each iteration so that notes do not stack\n",
        "        offset += convert_to_float(duration)\n",
        "\n",
        "    midi_stream = stream.Stream(output_notes)\n",
        "\n",
        "    midi_stream.write('midi', fp=filename)\n",
        "\n",
        "def parse_midi_notes_and_durations():\n",
        "    midiparts = []\n",
        "\n",
        "    for file in tqdm(os.listdir(path)):\n",
        "        midi = converter.parse(os.path.join(path, file))\n",
        "\n",
        "        for part in midi.parts:\n",
        "            chords=[]\n",
        "            durations=[]\n",
        "            for element in part.notesAndRests:\n",
        "                if isinstance(element, note.Note):\n",
        "                    chords.append(chord.Chord([element]))\n",
        "                    durations.append(element.duration)\n",
        "                elif isinstance(element, chord.Chord):\n",
        "                    chords.append(element)\n",
        "                    durations.append(element.duration)\n",
        "                elif isinstance(element, note.Rest):\n",
        "                    chords.append(element)\n",
        "                    durations.append(element.duration)\n",
        "\n",
        "            if len(chords) > 0:\n",
        "                midiparts.append(MidiPart(file, part.partName, chords, durations))\n",
        "            else:\n",
        "                for voice in part.voices:\n",
        "                    chords=[]\n",
        "                    durations=[]\n",
        "                    for element in voice.notesAndRests:\n",
        "                        if isinstance(element, note.Note):\n",
        "                            chords.append(chord.Chord([element]))\n",
        "                            durations.append(element.duration)\n",
        "                        elif isinstance(element, chord.Chord):\n",
        "                            chords.append(element)\n",
        "                            durations.append(element.duration)\n",
        "                        elif isinstance(element, note.Rest):\n",
        "                            chords.append(element)\n",
        "                            durations.append(element.duration)\n",
        "\n",
        "                    midiparts.append(MidiPart(file, part.partName, chords, durations))\n",
        "\n",
        "    return midiparts"
      ],
      "execution_count": null,
      "outputs": []
    },
    {
      "cell_type": "markdown",
      "metadata": {
        "id": "BkRpraNv7DIA"
      },
      "source": [
        "# REST"
      ]
    },
    {
      "cell_type": "code",
      "metadata": {
        "id": "oq5bHQ7t7Ir2"
      },
      "source": [
        "class MidiPart:\n",
        "    def __init__(self, song, instrument, chords, durations):\n",
        "        self.song = song\n",
        "        self.instrument = instrument\n",
        "        self.chords = chords\n",
        "        self.durations = durations\n",
        "\n",
        "\n",
        "path = MIDI_PATH\n",
        "\n",
        "IRON_MAIDEN_INSTRUMENTS = ['Acoustic Guitar', 'Viola', 'Electric Bass', 'Brass', 'Sampler', 'Electric Guitar', 'Piano', 'StringInstrument']\n",
        "\n",
        "TARGET_INSTRUMENT = 'Electric Bass'\n",
        "\n",
        "SLICE_LEN = 16"
      ],
      "execution_count": null,
      "outputs": []
    },
    {
      "cell_type": "code",
      "metadata": {
        "colab": {
          "base_uri": "https://localhost:8080/"
        },
        "id": "sJToT2o48i3F",
        "outputId": "f0653329-6581-469d-c047-6bc9d49a836c"
      },
      "source": [
        "midiparts = parse_midi_notes_and_durations()"
      ],
      "execution_count": null,
      "outputs": [
        {
          "output_type": "stream",
          "text": [
            "100%|██████████| 93/93 [14:06<00:00,  9.10s/it]\n"
          ],
          "name": "stderr"
        }
      ]
    },
    {
      "cell_type": "code",
      "metadata": {
        "id": "vJnjce5D9DX4"
      },
      "source": [
        "allchords = []\n",
        "alldurations = []\n",
        "\n",
        "TARGET_INSTRUMENT = 'Electric Bass'\n",
        "for i in midiparts:\n",
        "    if i.instrument == TARGET_INSTRUMENT:\n",
        "        if len(i.chords)>0 :\n",
        "            allchords.append(i.chords)\n",
        "            alldurations.append(i.durations)"
      ],
      "execution_count": null,
      "outputs": []
    },
    {
      "cell_type": "code",
      "metadata": {
        "id": "JAV96jV5wanW"
      },
      "source": [
        "mapperdata = []\n",
        "\n",
        "for i in allchords:\n",
        "    for j in i:\n",
        "        mapperdata.append(j)\n",
        "\n",
        "mapper = create_mapper(mapperdata)\n",
        "\n",
        "\n",
        "encoded_data = []\n",
        "\n",
        "for c in allchords:\n",
        "    encoded = encode_using_mapper(c, mapper)\n",
        "    encoded_data.append(encoded)\n",
        "\n",
        "\n",
        "restnumber = mapper['<music21.note.Rest rest>']\n",
        "\n",
        "cleared_encoded_data=[]\n",
        "\n",
        "for i in encoded_data:\n",
        "    if most_frequent(i) != restnumber:\n",
        "        cleared_encoded_data.append(i)\n",
        "    else:\n",
        "        pass\n",
        "\n",
        "\n"
      ],
      "execution_count": null,
      "outputs": []
    },
    {
      "cell_type": "code",
      "metadata": {
        "id": "pVqd1OAZ9GyH"
      },
      "source": [
        "assert(len(allchords) == len(alldurations))\n",
        "\n",
        "combined = []\n",
        "for i in range(len(allchords)):\n",
        "    combined.append(combine_chords_with_durations(allchords[i], alldurations[i]))\n",
        "\n",
        "mapperdata = []\n",
        "\n",
        "for i in combined:\n",
        "    for j in i:\n",
        "        mapperdata.append(j)\n",
        "\n",
        "mapper = create_mapper(mapperdata)"
      ],
      "execution_count": null,
      "outputs": []
    },
    {
      "cell_type": "code",
      "metadata": {
        "id": "bL7IkQ7p9KX8"
      },
      "source": [
        "encoded_data = []\n",
        "\n",
        "for c in combined:\n",
        "    encoded = encode_using_mapper(c, mapper)\n",
        "    encoded_data.append(encoded)"
      ],
      "execution_count": null,
      "outputs": []
    },
    {
      "cell_type": "code",
      "metadata": {
        "id": "2Q4C3AhE9Mkg"
      },
      "source": [
        "restkeysvalues = []\n",
        "for j in mapper.keys():\n",
        "    if ( 'rest' in j):\n",
        "        restkeysvalues.append(mapper[j])\n",
        "\n",
        "cleared_encoded_data=[]\n",
        "\n",
        "for i in range(len(encoded_data)):\n",
        "    if most_frequent(encoded_data[i]) not in restkeysvalues:\n",
        "        cleared_encoded_data.append(encoded_data[i])\n",
        "    else:\n",
        "        pass"
      ],
      "execution_count": null,
      "outputs": []
    },
    {
      "cell_type": "code",
      "metadata": {
        "colab": {
          "base_uri": "https://localhost:8080/"
        },
        "id": "4j-QB_Qh-Rax",
        "outputId": "3f2ef0fb-c7d2-48c2-bf3a-0a1772325fe3"
      },
      "source": [
        "input, output = parse_everything_together(cleared_encoded_data, SLICE_LEN)"
      ],
      "execution_count": null,
      "outputs": [
        {
          "output_type": "stream",
          "text": [
            "100%|██████████| 103/103 [00:00<00:00, 8622.16it/s]\n",
            "159664it [00:00, 2838815.24it/s]\n",
            "159664it [00:00, 844096.75it/s]\n"
          ],
          "name": "stderr"
        }
      ]
    },
    {
      "cell_type": "code",
      "metadata": {
        "colab": {
          "base_uri": "https://localhost:8080/",
          "height": 567
        },
        "id": "iv4pnOr_B33Y",
        "outputId": "fe093f3d-c0be-4c01-e4e0-ccda66ccceed"
      },
      "source": [
        "import matplotlib.pyplot as plt\n",
        "from collections import Counter\n",
        "\n",
        "outputcnt = Counter(output)\n",
        "plt.bar(outputcnt.keys(), outputcnt.values())\n",
        "plt.show()\n",
        "\n",
        "function_like_array=[]\n",
        "for val in outputcnt.values():\n",
        "    function_like_array.append(val)\n",
        "\n",
        "function_like_array.sort()\n",
        "plt.plot(function_like_array)\n",
        "\n",
        "\n",
        "\n",
        "outliers = []\n",
        "\n",
        "for i in outputcnt.keys():\n",
        "    if outputcnt[i] < 160:\n",
        "        outliers.append(i)\n",
        "\n",
        "print(outliers)\n",
        "print(len(outliers))\n"
      ],
      "execution_count": null,
      "outputs": [
        {
          "output_type": "display_data",
          "data": {
            "image/png": "[encoded data removed]",
            "text/plain": [
              "<Figure size 432x288 with 1 Axes>"
            ]
          },
          "metadata": {
            "tags": [],
            "image/png": {
              "width": 388,
              "height": 248
            },
            "needs_background": "light"
          }
        },
        {
          "output_type": "stream",
          "text": [
            "[134, 50, 281, 681, 682, 590, 709, 151, 717, 799, 9, 154, 142, 252, 255, 465, 492, 301, 571, 222, 220, 647, 490, 214, 491, 299, 375, 202, 644, 502, 728, 676, 426, 425, 607, 244, 283, 428, 342, 245, 340, 597, 333, 457, 429, 611, 598, 343, 430, 614, 53, 156, 23, 26, 711, 254, 359, 276, 737, 288, 74, 79, 205, 285, 49, 64, 56, 5, 68, 688, 749, 310, 399, 194, 195, 695, 478, 335, 766, 697, 481, 814, 171, 406, 468, 175, 169, 817, 586, 37, 508, 589, 35, 448, 192, 331, 408, 187, 318, 182, 313, 414, 580, 568, 763, 422, 66, 605, 600, 86, 101, 368, 783, 58, 546, 305, 304, 94, 379, 215, 302, 376, 795, 662, 552, 558, 556, 52, 291, 386, 392, 384, 391, 338, 332, 230, 122, 764, 390, 383, 289, 292, 177, 172, 173, 683, 157, 625, 578, 790, 316, 587, 170, 7, 511, 621, 362, 585, 500, 557, 604, 99, 218, 229, 403, 317, 325, 115, 713, 190, 324, 106, 186, 705, 204, 357, 45, 452, 532, 233, 673, 672, 447, 446, 235, 236, 451, 453, 454, 124, 126, 127, 531, 533, 534, 765, 767, 768, 545, 18, 237, 460, 128, 459, 655, 280, 279, 278, 729, 583, 507, 576, 256, 632, 158, 360, 261, 732, 193, 141, 4, 117, 782, 704, 781, 105, 690, 13, 619, 320, 703, 716, 419, 804, 592, 330, 96, 306, 547, 307, 550, 549, 548, 93, 303, 581, 39, 95, 377, 700, 381, 133, 699, 34, 572, 314, 436, 348, 145, 777, 701, 144, 445, 201, 352, 197, 344, 337, 461, 336, 200, 779, 196, 442, 351, 780, 147, 148, 444, 443, 411, 36, 44, 294, 395, 46, 84, 85, 78, 161, 59, 38, 22, 55, 77, 483, 112, 482, 80, 643, 731, 287, 730, 743, 286, 736, 162, 499, 751, 497, 415, 522, 691, 615, 247, 775, 658, 606, 380, 179, 696, 238, 770, 123, 536, 656, 326, 130, 698, 131, 794, 423, 40, 570, 253, 312, 329, 591, 802, 416, 227, 421, 116, 441, 596, 350, 456, 721, 805, 809, 166, 146, 778, 433, 382, 474, 413, 118, 593, 671, 269, 487, 208, 663, 164, 555, 51, 114, 185, 712, 206, 31, 788, 33, 2, 108, 82, 69, 438, 199, 439, 610, 719, 808, 163, 10, 466, 73, 529, 525, 651, 551, 341, 434, 136, 389, 785, 388, 119, 784, 387, 213, 469, 472, 28, 528, 510, 530, 370, 369, 111, 653, 654, 241, 319, 410, 796, 270, 366, 367, 475, 624, 677, 678, 679, 509, 762, 527, 103, 759, 107, 512, 223, 755, 754, 521, 226, 661, 224, 594, 464, 740, 191, 262, 271, 744, 263, 264, 258, 257, 228, 561, 110, 758, 322, 630, 564, 554, 87, 584, 321, 562, 30, 669, 412, 81, 135, 371, 184, 372, 293, 793, 626, 628, 405, 109, 714, 801, 692, 104, 609, 742, 664, 57, 120, 449, 810, 450, 121, 565, 328, 800, 798, 797, 792, 113, 706, 493, 297, 92, 488, 296, 541, 373, 599, 489, 339, 298, 517, 374, 494, 300, 542, 634, 70, 515, 378, 393, 266, 636, 272, 212, 211, 176, 174, 746, 745, 818, 458, 334, 265, 694, 29, 803, 640, 178, 727, 819, 365, 363, 364, 725, 476, 89, 526, 17, 67, 160, 273, 815, 361, 470, 813, 685, 251, 248, 353, 354, 665, 231, 455, 645, 243, 774, 540, 138, 232, 646, 771, 239, 582, 132, 537, 769, 535, 242, 153, 670, 666, 401, 323, 741, 739, 772, 189, 726, 327, 24, 75, 553, 575, 667, 724, 631, 629, 633, 638, 420, 623, 635, 668, 738, 165, 538, 773, 657, 240, 539, 503, 424, 8, 477, 210, 209, 139, 602, 90, 523, 544, 718, 427, 543, 720, 612, 431, 345, 246, 140, 21, 347, 807, 159, 259, 756, 349, 613, 63, 637, 43, 143, 83, 25, 19, 71, 11, 12, 60, 437, 505, 407, 91, 650, 652, 88, 129, 394, 432, 417, 674, 485, 616, 440, 680, 484, 675, 65, 627, 601, 639, 76, 61, 579, 595, 504, 506, 684, 603, 519, 518, 560, 346, 137, 6, 473, 588, 513, 418, 563, 760, 761, 514, 753, 757, 649, 277, 486, 15, 20, 14, 409, 559, 816, 167, 806]\n",
            "704\n"
          ],
          "name": "stdout"
        },
        {
          "output_type": "display_data",
          "data": {
            "image/png": "[encoded data removed]",
            "text/plain": [
              "<Figure size 432x288 with 1 Axes>"
            ]
          },
          "metadata": {
            "tags": [],
            "image/png": {
              "width": 388,
              "height": 248
            },
            "needs_background": "light"
          }
        }
      ]
    },
    {
      "cell_type": "code",
      "metadata": {
        "id": "1Pc6AjSdB704"
      },
      "source": [
        "#Because I don't want to mess up my inputs and outputs, I test their lengths before and after the outlier filtering.\n",
        "assert(len(input) == len(output))\n",
        "\n",
        "newinput=[]\n",
        "newoutput=[]\n",
        "\n",
        "for i in range(len(output)):\n",
        "    if(output[i] not in outliers):\n",
        "        newinput.append(input[i])\n",
        "        newoutput.append(output[i])\n",
        "\n",
        "input = newinput\n",
        "output = newoutput\n",
        "\n",
        "assert(len(input) == len(output))"
      ],
      "execution_count": null,
      "outputs": []
    },
    {
      "cell_type": "code",
      "metadata": {
        "id": "3XDdtaswCKpl"
      },
      "source": [
        "#However, this outlier filtering made things complicated. Now I have to make a new mapper, so that i won't end up with output classes containing 0 elements.\n",
        "\n",
        "mapper_list = [] #Idx of the mapper list is the new value, the element is the old value.\n",
        "new_output_elements = set(output)\n",
        "\n",
        "for i in new_output_elements:\n",
        "    mapper_list.append(i)\n",
        "\n",
        "newoutput = []\n",
        "\n",
        "for i in output:\n",
        "    newoutput.append(mapper_list.index(i))\n",
        "\n",
        "output = newoutput"
      ],
      "execution_count": null,
      "outputs": []
    },
    {
      "cell_type": "code",
      "metadata": {
        "id": "Wo2e4tVCMQbr"
      },
      "source": [
        "for i in input:\n",
        "    for j in i:\n",
        "        try:\n",
        "            j = mapper_list.index(j)\n",
        "        except ValueError:\n",
        "            j = 0"
      ],
      "execution_count": null,
      "outputs": []
    },
    {
      "cell_type": "code",
      "metadata": {
        "id": "8xBAcQPDCO6z"
      },
      "source": [
        "#Reshaping the input data to be compatible with LSTMs and normalizing it in the hope of better learning.\n",
        "\n",
        "input = np.reshape(np.asarray(input), (len(input), SLICE_LEN, 1))\n",
        "#output = to_categorical(output)\n",
        "\n",
        "#input=np.asarray(input) / float(len(mapper))\n",
        "output=np.asarray(output)"
      ],
      "execution_count": null,
      "outputs": []
    },
    {
      "cell_type": "code",
      "metadata": {
        "colab": {
          "base_uri": "https://localhost:8080/"
        },
        "id": "M3D-7pyVCUBc",
        "outputId": "e95e17b9-d395-4c9a-fcd5-760503d24434"
      },
      "source": [
        "SEED = 54\n",
        "#np.random.seed(SEED)\n",
        "\n",
        "from sklearn.model_selection import train_test_split\n",
        "\n",
        "X_train, X_test, Y_train, Y_test = train_test_split(input, output, test_size=0.01, random_state=SEED)\n",
        "X_train, X_val, Y_train, Y_val = train_test_split(X_train, Y_train, test_size=0.2, random_state=SEED)\n",
        "\n",
        "startidx = np.random.randint(0, len(X_test)-1)\n",
        "starting_slice = X_test[startidx]\n",
        "\n",
        "print(X_train.shape, X_val.shape, X_test.shape, Y_train.shape, Y_val.shape, Y_test.shape)\n",
        "print(startidx)\n",
        "print(starting_slice)"
      ],
      "execution_count": null,
      "outputs": [
        {
          "output_type": "stream",
          "text": [
            "(126440, 16, 1) (31611, 16, 1) (1597, 16, 1) (126440,) (31611,) (1597,)\n",
            "1317\n",
            "[[ 89]\n",
            " [ 89]\n",
            " [ 89]\n",
            " [ 89]\n",
            " [ 89]\n",
            " [ 89]\n",
            " [ 89]\n",
            " [ 98]\n",
            " [ 98]\n",
            " [ 98]\n",
            " [ 98]\n",
            " [ 98]\n",
            " [ 98]\n",
            " [ 98]\n",
            " [126]\n",
            " [ 98]]\n"
          ],
          "name": "stdout"
        }
      ]
    },
    {
      "cell_type": "code",
      "metadata": {
        "id": "709tWnNrQae1",
        "colab": {
          "base_uri": "https://localhost:8080/"
        },
        "outputId": "cd4fdc80-04d5-4ebd-947a-74d45498a6ce"
      },
      "source": [
        "NUM_CLASSES = np.max(Y_train)+1\n",
        "print(NUM_CLASSES)\n"
      ],
      "execution_count": null,
      "outputs": [
        {
          "output_type": "stream",
          "text": [
            "134\n"
          ],
          "name": "stdout"
        }
      ]
    },
    {
      "cell_type": "code",
      "metadata": {
        "id": "b5NSMZFUHQwE"
      },
      "source": [
        "from keras.utils import Sequence\n",
        "\n",
        "SLICE_SIZE = 16\n",
        "\n",
        "class MyDatagen(Sequence):\n",
        "  def __init__(self, list_IDs, batch_size=16, dim=(SLICE_SIZE), shuffle=True, validation=False):\n",
        "    'Initialization'\n",
        "    self.dim = dim\n",
        "    self.batch_size = batch_size\n",
        "    self.list_IDs = list_IDs\n",
        "    self.shuffle = shuffle\n",
        "    self.validation=validation\n",
        "    self.on_epoch_end()\n",
        "\n",
        "  def __len__(self):\n",
        "    return int(np.floor(len(self.list_IDs) / self.batch_size))\n",
        "\n",
        "  def __getitem__(self, index):\n",
        "    # Generate indexes of the batch\n",
        "    indexes = self.indexes[index*self.batch_size:(index+1)*self.batch_size]\n",
        "\n",
        "    # Find list of IDs\n",
        "    list_IDs_temp = [self.list_IDs[k] for k in indexes]\n",
        "\n",
        "    # Generate data\n",
        "    X, y = self.__data_generation(list_IDs_temp)\n",
        "\n",
        "    return X, y\n",
        "\n",
        "  def on_epoch_end(self):\n",
        "      #Updates indexes after each epoch\n",
        "    self.indexes = np.arange(len(self.list_IDs))\n",
        "    if self.shuffle == True:\n",
        "      np.random.shuffle(self.indexes)\n",
        "\n",
        "  def __data_generation(self, list_IDs_temp):\n",
        "    #Generates data containing batch_size samples\n",
        "    if self.validation:\n",
        "      X = np.empty((self.batch_size, self.dim, 1))\n",
        "      y = np.empty((self.batch_size, self.dim, NUM_CLASSES))\n",
        "\n",
        "      # Generate data\n",
        "      for i, ID in enumerate(list_IDs_temp):\n",
        "        X[i] = X_val[ID]/(NUM_CLASSES-1)\n",
        "\n",
        "        y[i] = to_categorical(X_val[ID], num_classes=NUM_CLASSES)\n",
        "\n",
        "      return X, y\n",
        "    else:\n",
        "      X = np.empty((self.batch_size, self.dim, 1))\n",
        "      y = np.empty((self.batch_size, self.dim, NUM_CLASSES))\n",
        "\n",
        "      # Generate data\n",
        "      for i, ID in enumerate(list_IDs_temp):\n",
        "        X[i] = X_train[ID]/(NUM_CLASSES-1)\n",
        "\n",
        "        y[i] = to_categorical(X_train[ID], num_classes=NUM_CLASSES)\n",
        "\n",
        "      return X, y"
      ],
      "execution_count": null,
      "outputs": []
    },
    {
      "cell_type": "code",
      "metadata": {
        "id": "hGg09dpdD49l"
      },
      "source": [
        "MODEL_NAME = \"VAE1\"\n",
        "\n",
        "MODEL_SAVE_PATH = \"/content/drive/MyDrive/MLFolder/Onlab/modelsaves/\"\n",
        "\n",
        "TBPATH = \"/content/tblogs/\"+MODEL_NAME"
      ],
      "execution_count": null,
      "outputs": []
    },
    {
      "cell_type": "code",
      "metadata": {
        "id": "pw6yaY2OD_O-"
      },
      "source": [
        "#Before creating the neural network, I define some important callbacks\n",
        "\n",
        "tb = TensorBoard(log_dir = TBPATH, write_images=True, histogram_freq=1)\n",
        "\n",
        "plateau = ReduceLROnPlateau(monitor='val_loss', factor=0.2, patience=3, min_lr=0.00005, verbose=1)\n",
        "\n",
        "es = EarlyStopping(monitor='val_loss', patience = 10, restore_best_weights = True, verbose=1)\n",
        "\n",
        "callbacks = [plateau, es, tb]"
      ],
      "execution_count": null,
      "outputs": []
    },
    {
      "cell_type": "code",
      "metadata": {
        "id": "HbNjhWfQcqdx"
      },
      "source": [
        "note_X_train = X_train\n",
        "NUM_NOTES = Y_train.shape[1]"
      ],
      "execution_count": null,
      "outputs": []
    },
    {
      "cell_type": "code",
      "metadata": {
        "id": "dkGGbNcsceDe"
      },
      "source": [
        "class Sampling(Layer):\n",
        "    \"\"\"Uses (z_mean, z_log_var) to sample z, the vector encoding a digit.\"\"\"\n",
        "\n",
        "    def call(self, inputs):\n",
        "        z_mean, z_log_var = inputs\n",
        "        batch = tf.shape(z_mean)[0]\n",
        "        dim = tf.shape(z_mean)[1]\n",
        "        epsilon = tf.keras.backend.random_normal(shape=(batch, dim))\n",
        "        return z_mean + tf.exp(0.5 * z_log_var) * epsilon"
      ],
      "execution_count": null,
      "outputs": []
    },
    {
      "cell_type": "code",
      "metadata": {
        "id": "uYR5HnW977dn"
      },
      "source": [
        "def make_decoder_block(initial_decoder, LSTM_cells, block_size):\n",
        "    first_layer = []\n",
        "    first_layer.append(initial_decoder)\n",
        "\n",
        "    for i in range(1, block_size):\n",
        "        first_layer.append(LSTM(LSTM_cells, return_sequences=True)(first_layer[i-1]))\n",
        "\n",
        "    second_layer = []\n",
        "\n",
        "    for i in first_layer:\n",
        "        second_layer.append(LSTM(LSTM_cells)(i))\n",
        "\n",
        "    outputs = []\n",
        "    \n",
        "    for i in second_layer:\n",
        "        outputs.append(Dense(NUM_CLASSES, activation=\"softmax\")(i))\n",
        "\n",
        "    return outputs"
      ],
      "execution_count": null,
      "outputs": []
    },
    {
      "cell_type": "code",
      "metadata": {
        "id": "aLNUHvN-oxfd"
      },
      "source": [
        "import tensorflow as tf\n",
        "from keras.losses import categorical_crossentropy\n",
        "\n",
        "class MyModel(Model):\n",
        "\n",
        "    def __init__(self, encoder, decoder, **kwargs):\n",
        "        super(MyModel, self).__init__(**kwargs)\n",
        "        self.encoder = encoder\n",
        "        self.decoder = decoder\n",
        "\n",
        "    def __call__(self, input):\n",
        "        return self.call(input, training=False)\n",
        "\n",
        "    def train_step(self, data):\n",
        "        #x, y = data\n",
        "\n",
        "        with tf.GradientTape() as tape:\n",
        "            z = self.encoder(data[0])\n",
        "\n",
        "            reconstruction = self.decoder(z)\n",
        "\n",
        "            loss = tf.reduce_mean(\n",
        "                tf.reduce_sum(\n",
        "                    categorical_crossentropy(data[0], reconstruction)\n",
        "                )\n",
        "            )\n",
        "\n",
        "            #print(f'Shape of x:{x.shape}')\n",
        "\n",
        "            #print(f'Shape of y:{y.shape}')\n",
        "\n",
        "            #y_pred = self(x, training=True)\n",
        "\n",
        "            #print(f'Shape of  y_pred:{y_pred.shape}')\n",
        "\n",
        "            #print(f'Shape of  y_pred[0]:{y_pred[0].shape}')\n",
        "\n",
        "            #tf.print(y_pred)\n",
        "\n",
        "            #loss = self.compiled_loss(y, y_pred, regularization_losses=self.losses)\n",
        "            \n",
        "            trainable_vars = self.trainable_variables\n",
        "            gradients = tape.gradient(loss, trainable_vars)\n",
        "\n",
        "            self.optimizer.apply_gradients(zip(gradients, trainable_vars))\n",
        "\n",
        "            self.compiled_metrics.update_state(loss)\n",
        "\n",
        "        return {m.name: m.result() for m in self.metrics}"
      ],
      "execution_count": null,
      "outputs": []
    },
    {
      "cell_type": "code",
      "metadata": {
        "id": "oDc6CTd_a7eR"
      },
      "source": [
        "from keras.models import Sequential\n",
        "\n",
        "LSTM_STATES = 2048\n",
        "ENCODER_LSTM_CELLS = 256\n",
        "latent_dim = 512\n",
        "LSTM_cells = 256\n",
        "\n",
        "notes_input = Input(shape=(X_train.shape[1], X_train.shape[2]), name=\"notes_in\")\n",
        "x = Bidirectional(LSTM(ENCODER_LSTM_CELLS, return_sequences=True))(notes_input)\n",
        "x = Bidirectional(LSTM(ENCODER_LSTM_CELLS))(x)\n",
        "z_mean = Dense(latent_dim, name=\"z_mean\")(x)\n",
        "z_log_var = Dense(latent_dim, name=\"z_log_var\")(x)\n",
        "z = Sampling()([z_mean, z_log_var])\n",
        "encoder = Model(notes_input, z, name=\"encoder\")\n",
        "\n",
        "#encoder.summary()\n",
        "\n",
        "decoder_input = Input(shape=(latent_dim), name=\"decoder_in\")\n",
        "y = Dense(LSTM_cells, activation='tanh')(decoder_input)\n",
        "y = Reshape((LSTM_cells, 1))(y)\n",
        "\n",
        "conductor = LSTM(LSTM_cells, return_sequences=True)(y)\n",
        "conductors = []\n",
        "conductors.append(conductor)\n",
        "\n",
        "for i in range(1, 4):\n",
        "    conductors.append(LSTM(LSTM_cells, return_sequences=True)(conductors[i-1]))\n",
        "\n",
        "initial_decoders = []\n",
        "\n",
        "for i in conductors:\n",
        "    initial_decoders.append(LSTM(LSTM_cells, return_sequences=True)(i))\n",
        "\n",
        "final_outputs = []\n",
        "\n",
        "for i in initial_decoders:\n",
        "    for j in make_decoder_block(i, 128, 4):\n",
        "        final_outputs.append(j)\n",
        "\n",
        "#print(final_outputs[0])\n",
        "\n",
        "out = concatenate(final_outputs, axis=1)\n",
        "out = Reshape((SLICE_LEN, NUM_CLASSES))(out)\n",
        "\n",
        "decoder = Model(decoder_input, out, name=\"decoder\")\n",
        "\n",
        "VAE = Sequential()\n",
        "VAE.add(encoder)\n",
        "VAE.add(decoder)\n",
        "\n",
        "#VAE = Model(notes_input, out)\n",
        "\n",
        "#VAE.summary()\n"
      ],
      "execution_count": null,
      "outputs": []
    },
    {
      "cell_type": "code",
      "metadata": {
        "id": "WC7R8PQwt-ni"
      },
      "source": [
        "VAE.compile(optimizer='Adam', loss='categorical_crossentropy', metrics='accuracy')"
      ],
      "execution_count": null,
      "outputs": []
    },
    {
      "cell_type": "code",
      "metadata": {
        "id": "b1BxN7jGvxBM",
        "colab": {
          "base_uri": "https://localhost:8080/"
        },
        "outputId": "761adeea-4c13-4b4b-bbcb-c9ab774c7b6e"
      },
      "source": [
        "import gc\n",
        "gc.collect()"
      ],
      "execution_count": null,
      "outputs": [
        {
          "output_type": "execute_result",
          "data": {
            "text/plain": [
              "2522474"
            ]
          },
          "metadata": {
            "tags": []
          },
          "execution_count": 28
        }
      ]
    },
    {
      "cell_type": "code",
      "metadata": {
        "colab": {
          "base_uri": "https://localhost:8080/"
        },
        "id": "DEhFftb2uI_p",
        "outputId": "ea63d142-1459-4bca-c5c4-a1159c797e47"
      },
      "source": [
        "training_gen=MyDatagen(range(X_train.shape[0]), batch_size=16)\n",
        "val_gen=MyDatagen(range(X_val.shape[0]), batch_size=16, validation=True)\n",
        "#val_gen=MyDatagen(range(TRAIN_SAMPLES, TRAIN_SAMPLES+VAL_SAMPLES), validation=True)\n",
        "\n",
        "VAE.fit(x=training_gen, validation_data=val_gen, callbacks=callbacks, epochs=100)"
      ],
      "execution_count": null,
      "outputs": [
        {
          "output_type": "stream",
          "text": [
            "Epoch 1/100\n",
            "6694/7902 [========================>.....] - ETA: 11:04 - loss: 2.9926 - accuracy: 0.1667"
          ],
          "name": "stdout"
        }
      ]
    },
    {
      "cell_type": "code",
      "metadata": {
        "colab": {
          "base_uri": "https://localhost:8080/"
        },
        "id": "pGLMiVyZe1k8",
        "outputId": "91a575f4-3ae5-4137-e9ba-e419296f0430"
      },
      "source": [
        "PLOT = False\n",
        "\n",
        "for i in range(1000):\n",
        "    noise = np.random.normal(size=512)\n",
        "    if PLOT:\n",
        "        plt.plot(noise)\n",
        "        plt.show()\n",
        "    noise = np.expand_dims(noise, 0)\n",
        "    pred = decoder.predict(noise)\n",
        "    predicted = []\n",
        "    for j in np.argmax(pred, axis=2)[0]:\n",
        "        if (j!=89): #E2 hang konstansa\n",
        "            predicted.append(get_key_from_value(j, mapper))\n",
        "    if len(predicted) > 0:\n",
        "        print(predicted)"
      ],
      "execution_count": null,
      "outputs": [
        {
          "output_type": "stream",
          "text": [
            "['<music21.chord.Chord E-2 G#1>', '<music21.chord.Chord A1 D2 A2>', '<music21.chord.Chord D3 D4>', '<music21.chord.Chord B2 C3>', '<music21.chord.Chord B2 C3>', '<music21.chord.Chord D2 F#2>', '<music21.chord.Chord A1 D2 A2>', '<music21.chord.Chord B1 F#2>', '<music21.chord.Chord E2 E3>', '<music21.chord.Chord G#3 C#3 G#2>', '<music21.chord.Chord F3 C3>', '<music21.chord.Chord E1 E2 B2>', '<music21.chord.Chord E-3 G#2>', '<music21.chord.Chord F2 C2 F1>', '<music21.chord.Chord E-3 B-2 E-2>', '<music21.chord.Chord B1 B2>']\n",
            "['<music21.chord.Chord E-2 G#1>', '<music21.chord.Chord A1 D2 A2>', '<music21.chord.Chord D3 D4>', '<music21.chord.Chord B2 C3>', '<music21.chord.Chord B2 C3>', '<music21.chord.Chord D2 F#2>', '<music21.chord.Chord A1 D2 A2>', '<music21.chord.Chord B1 F#2>', '<music21.chord.Chord E2 E3>', '<music21.chord.Chord G#3 C#3 G#2>', '<music21.chord.Chord F3 C3>', '<music21.chord.Chord E1 E2 B2>', '<music21.chord.Chord E-3 G#2>', '<music21.chord.Chord F2 C2 F1>', '<music21.chord.Chord E-3 B-2 E-2>', '<music21.chord.Chord B1 B2>']\n",
            "['<music21.chord.Chord E-2 G#1>', '<music21.chord.Chord A1 D2 A2>', '<music21.chord.Chord D3 D4>', '<music21.chord.Chord B2 C3>', '<music21.chord.Chord B2 C3>', '<music21.chord.Chord D2 F#2>', '<music21.chord.Chord A1 D2 A2>', '<music21.chord.Chord B1 F#2>', '<music21.chord.Chord E2 E3>', '<music21.chord.Chord G#3 C#3 G#2>', '<music21.chord.Chord F3 C3>', '<music21.chord.Chord E1 E2 B2>', '<music21.chord.Chord E-3 G#2>', '<music21.chord.Chord F2 C2 F1>', '<music21.chord.Chord E-3 B-2 E-2>', '<music21.chord.Chord B1 B2>']\n",
            "['<music21.chord.Chord E-2 G#1>', '<music21.chord.Chord A1 D2 A2>', '<music21.chord.Chord D3 D4>', '<music21.chord.Chord B2 C3>', '<music21.chord.Chord B2 C3>', '<music21.chord.Chord D2 F#2>', '<music21.chord.Chord A1 D2 A2>', '<music21.chord.Chord B1 F#2>', '<music21.chord.Chord E2 E3>', '<music21.chord.Chord G#3 C#3 G#2>', '<music21.chord.Chord F3 C3>', '<music21.chord.Chord E1 E2 B2>', '<music21.chord.Chord E-3 G#2>', '<music21.chord.Chord F2 C2 F1>', '<music21.chord.Chord E-3 B-2 E-2>', '<music21.chord.Chord B1 B2>']\n",
            "['<music21.chord.Chord E-2 G#1>', '<music21.chord.Chord A1 D2 A2>', '<music21.chord.Chord D3 D4>', '<music21.chord.Chord B2 C3>', '<music21.chord.Chord B2 C3>', '<music21.chord.Chord D2 F#2>', '<music21.chord.Chord A1 D2 A2>', '<music21.chord.Chord B1 F#2>', '<music21.chord.Chord E2 E3>', '<music21.chord.Chord G#3 C#3 G#2>', '<music21.chord.Chord F3 C3>', '<music21.chord.Chord E1 E2 B2>', '<music21.chord.Chord E-3 G#2>', '<music21.chord.Chord F2 C2 F1>', '<music21.chord.Chord E-3 B-2 E-2>', '<music21.chord.Chord B1 B2>']\n",
            "['<music21.chord.Chord E-2 G#1>', '<music21.chord.Chord A1 D2 A2>', '<music21.chord.Chord D3 D4>', '<music21.chord.Chord B2 C3>', '<music21.chord.Chord B2 C3>', '<music21.chord.Chord D2 F#2>', '<music21.chord.Chord A1 D2 A2>', '<music21.chord.Chord B1 F#2>', '<music21.chord.Chord E2 E3>', '<music21.chord.Chord G#3 C#3 G#2>', '<music21.chord.Chord F3 C3>', '<music21.chord.Chord E1 E2 B2>', '<music21.chord.Chord E-3 G#2>', '<music21.chord.Chord F2 C2 F1>', '<music21.chord.Chord E-3 B-2 E-2>', '<music21.chord.Chord B1 B2>']\n",
            "['<music21.chord.Chord E-2 G#1>', '<music21.chord.Chord A1 D2 A2>', '<music21.chord.Chord D3 D4>', '<music21.chord.Chord B2 C3>', '<music21.chord.Chord B2 C3>', '<music21.chord.Chord D2 F#2>', '<music21.chord.Chord A1 D2 A2>', '<music21.chord.Chord B1 F#2>', '<music21.chord.Chord E2 E3>', '<music21.chord.Chord G#3 C#3 G#2>', '<music21.chord.Chord F3 C3>', '<music21.chord.Chord E1 E2 B2>', '<music21.chord.Chord E-3 G#2>', '<music21.chord.Chord F2 C2 F1>', '<music21.chord.Chord E-3 B-2 E-2>', '<music21.chord.Chord B1 B2>']\n",
            "['<music21.chord.Chord E-2 G#1>', '<music21.chord.Chord A1 D2 A2>', '<music21.chord.Chord D3 D4>', '<music21.chord.Chord B2 C3>', '<music21.chord.Chord B2 C3>', '<music21.chord.Chord D2 F#2>', '<music21.chord.Chord A1 D2 A2>', '<music21.chord.Chord B1 F#2>', '<music21.chord.Chord E2 E3>', '<music21.chord.Chord G#3 C#3 G#2>', '<music21.chord.Chord F3 C3>', '<music21.chord.Chord E1 E2 B2>', '<music21.chord.Chord E-3 G#2>', '<music21.chord.Chord F2 C2 F1>', '<music21.chord.Chord E-3 B-2 E-2>', '<music21.chord.Chord B1 B2>']\n",
            "['<music21.chord.Chord E-2 G#1>', '<music21.chord.Chord A1 D2 A2>', '<music21.chord.Chord D3 D4>', '<music21.chord.Chord B2 C3>', '<music21.chord.Chord B2 C3>', '<music21.chord.Chord D2 F#2>', '<music21.chord.Chord A1 D2 A2>', '<music21.chord.Chord B1 F#2>', '<music21.chord.Chord E2 E3>', '<music21.chord.Chord G#3 C#3 G#2>', '<music21.chord.Chord F3 C3>', '<music21.chord.Chord E1 E2 B2>', '<music21.chord.Chord E-3 G#2>', '<music21.chord.Chord F2 C2 F1>', '<music21.chord.Chord E-3 B-2 E-2>', '<music21.chord.Chord B1 B2>']\n",
            "['<music21.chord.Chord E-2 G#1>', '<music21.chord.Chord A1 D2 A2>', '<music21.chord.Chord D3 D4>', '<music21.chord.Chord B2 C3>', '<music21.chord.Chord B2 C3>', '<music21.chord.Chord D2 F#2>', '<music21.chord.Chord A1 D2 A2>', '<music21.chord.Chord B1 F#2>', '<music21.chord.Chord E2 E3>', '<music21.chord.Chord G#3 C#3 G#2>', '<music21.chord.Chord F3 C3>', '<music21.chord.Chord E1 E2 B2>', '<music21.chord.Chord E-3 G#2>', '<music21.chord.Chord F2 C2 F1>', '<music21.chord.Chord E-3 B-2 E-2>', '<music21.chord.Chord B1 B2>']\n",
            "['<music21.chord.Chord E-2 G#1>', '<music21.chord.Chord A1 D2 A2>', '<music21.chord.Chord D3 D4>', '<music21.chord.Chord B2 C3>', '<music21.chord.Chord B2 C3>', '<music21.chord.Chord D2 F#2>', '<music21.chord.Chord A1 D2 A2>', '<music21.chord.Chord B1 F#2>', '<music21.chord.Chord E2 E3>', '<music21.chord.Chord G#3 C#3 G#2>', '<music21.chord.Chord F3 C3>', '<music21.chord.Chord E1 E2 B2>', '<music21.chord.Chord E-3 G#2>', '<music21.chord.Chord F2 C2 F1>', '<music21.chord.Chord E-3 B-2 E-2>', '<music21.chord.Chord B1 B2>']\n",
            "['<music21.chord.Chord E-2 G#1>', '<music21.chord.Chord A1 D2 A2>', '<music21.chord.Chord D3 D4>', '<music21.chord.Chord B2 C3>', '<music21.chord.Chord B2 C3>', '<music21.chord.Chord D2 F#2>', '<music21.chord.Chord A1 D2 A2>', '<music21.chord.Chord B1 F#2>', '<music21.chord.Chord E2 E3>', '<music21.chord.Chord G#3 C#3 G#2>', '<music21.chord.Chord F3 C3>', '<music21.chord.Chord E1 E2 B2>', '<music21.chord.Chord E-3 G#2>', '<music21.chord.Chord F2 C2 F1>', '<music21.chord.Chord E-3 B-2 E-2>', '<music21.chord.Chord B1 B2>']\n",
            "['<music21.chord.Chord E-2 G#1>', '<music21.chord.Chord A1 D2 A2>', '<music21.chord.Chord D3 D4>', '<music21.chord.Chord B2 C3>', '<music21.chord.Chord B2 C3>', '<music21.chord.Chord D2 F#2>', '<music21.chord.Chord A1 D2 A2>', '<music21.chord.Chord B1 F#2>', '<music21.chord.Chord E2 E3>', '<music21.chord.Chord G#3 C#3 G#2>', '<music21.chord.Chord F3 C3>', '<music21.chord.Chord E1 E2 B2>', '<music21.chord.Chord E-3 G#2>', '<music21.chord.Chord F2 C2 F1>', '<music21.chord.Chord E-3 B-2 E-2>', '<music21.chord.Chord B1 B2>']\n",
            "['<music21.chord.Chord E-2 G#1>', '<music21.chord.Chord A1 D2 A2>', '<music21.chord.Chord D3 D4>', '<music21.chord.Chord B2 C3>', '<music21.chord.Chord B2 C3>', '<music21.chord.Chord D2 F#2>', '<music21.chord.Chord A1 D2 A2>', '<music21.chord.Chord B1 F#2>', '<music21.chord.Chord E2 E3>', '<music21.chord.Chord G#3 C#3 G#2>', '<music21.chord.Chord F3 C3>', '<music21.chord.Chord E1 E2 B2>', '<music21.chord.Chord E-3 G#2>', '<music21.chord.Chord F2 C2 F1>', '<music21.chord.Chord E-3 B-2 E-2>', '<music21.chord.Chord B1 B2>']\n",
            "['<music21.chord.Chord E-2 G#1>', '<music21.chord.Chord A1 D2 A2>', '<music21.chord.Chord D3 D4>', '<music21.chord.Chord B2 C3>', '<music21.chord.Chord B2 C3>', '<music21.chord.Chord D2 F#2>', '<music21.chord.Chord A1 D2 A2>', '<music21.chord.Chord B1 F#2>', '<music21.chord.Chord E2 E3>', '<music21.chord.Chord G#3 C#3 G#2>', '<music21.chord.Chord F3 C3>', '<music21.chord.Chord E1 E2 B2>', '<music21.chord.Chord E-3 G#2>', '<music21.chord.Chord F2 C2 F1>', '<music21.chord.Chord E-3 B-2 E-2>', '<music21.chord.Chord B1 B2>']\n"
          ],
          "name": "stdout"
        }
      ]
    },
    {
      "cell_type": "code",
      "metadata": {
        "colab": {
          "base_uri": "https://localhost:8080/"
        },
        "id": "9gm8G3DHgWVW",
        "outputId": "3cba7701-ed97-4684-9778-67b92fcc8340"
      },
      "source": [
        "print(pred.shape)\n",
        "print(pred)\n",
        "\n"
      ],
      "execution_count": null,
      "outputs": [
        {
          "output_type": "stream",
          "text": [
            "(1, 16, 134)\n",
            "[[[4.04486354e-06 1.20049635e-05 2.67812193e-05 ... 4.65139234e-03\n",
            "   1.39672411e-04 3.18176597e-02]\n",
            "  [5.81615076e-08 4.60803312e-06 5.09726960e-05 ... 3.60132847e-03\n",
            "   1.26709914e-04 3.79230306e-02]\n",
            "  [4.47331558e-06 1.00024511e-06 6.40938524e-05 ... 4.03104443e-03\n",
            "   1.70278290e-04 3.53804417e-02]\n",
            "  ...\n",
            "  [6.50238826e-06 2.38026860e-06 6.36392142e-05 ... 4.57334472e-03\n",
            "   1.03141203e-04 3.86161469e-02]\n",
            "  [4.87724446e-06 3.87218279e-07 3.89045017e-05 ... 4.19295812e-03\n",
            "   6.82816753e-05 3.34177278e-02]\n",
            "  [2.21004211e-06 7.48976345e-06 4.49367835e-05 ... 3.85767268e-03\n",
            "   1.10283443e-04 3.33267786e-02]]]\n",
            "['<music21.chord.Chord E2>', '<music21.chord.Chord E2>', '<music21.chord.Chord E2>', '<music21.chord.Chord E2>', '<music21.chord.Chord E2>', '<music21.chord.Chord E2>', '<music21.chord.Chord E2>', '<music21.chord.Chord E2>', '<music21.chord.Chord E2>', '<music21.chord.Chord E2>', '<music21.chord.Chord E2>', '<music21.chord.Chord E2>', '<music21.chord.Chord E2>', '<music21.chord.Chord E2>', '<music21.chord.Chord E2>', '<music21.chord.Chord E2>']\n"
          ],
          "name": "stdout"
        }
      ]
    },
    {
      "cell_type": "code",
      "metadata": {
        "colab": {
          "base_uri": "https://localhost:8080/"
        },
        "id": "W5Y_6C-Zgpgq",
        "outputId": "b6c251b5-2217-40ef-a050-412b7e90ae58"
      },
      "source": [
        "print(pred.shape)"
      ],
      "execution_count": null,
      "outputs": [
        {
          "output_type": "stream",
          "text": [
            "(1, 16, 134)\n"
          ],
          "name": "stdout"
        }
      ]
    },
    {
      "cell_type": "code",
      "metadata": {
        "id": "jOXerlom_Cmk"
      },
      "source": [
        "VAE.save(MODEL_SAVE_PATH+MODEL_NAME+\".h5\")"
      ],
      "execution_count": null,
      "outputs": []
    }
  ]
}