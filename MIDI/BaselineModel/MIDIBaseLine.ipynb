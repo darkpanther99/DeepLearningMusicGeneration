{
  "nbformat": 4,
  "nbformat_minor": 0,
  "metadata": {
    "accelerator": "GPU",
    "colab": {
      "name": "MIDIBaseLine.ipynb",
      "provenance": []
    },
    "kernelspec": {
      "display_name": "Python 3",
      "name": "python3"
    }
  },
  "cells": [
    {
      "cell_type": "markdown",
      "metadata": {
        "id": "-YJCHgcz7cxh"
      },
      "source": [
        "# IMPORT SECTION"
      ]
    },
    {
      "cell_type": "code",
      "metadata": {
        "colab": {
          "base_uri": "https://localhost:8080/"
        },
        "id": "PLllP-Xw0KWv",
        "outputId": "ffbd0347-64e0-47a6-8389-4cda13b247f1"
      },
      "source": [
        "!pip install --upgrade music21\n",
        "from music21 import converter, instrument, note, chord, stream\n",
        "import os\n",
        "from tqdm import tqdm\n",
        "import numpy as np\n",
        "from keras.utils import to_categorical\n",
        "from keras.models import Sequential\n",
        "from keras.layers import LSTM, Dense, Flatten, Dropout\n",
        "%load_ext tensorboard \n",
        "from tensorboard import notebook\n",
        "from keras.callbacks import TensorBoard\n",
        "from keras.callbacks import ReduceLROnPlateau\n",
        "from keras.callbacks import EarlyStopping"
      ],
      "execution_count": null,
      "outputs": [
        {
          "output_type": "stream",
          "text": [
            "Requirement already up-to-date: music21 in /usr/local/lib/python3.7/dist-packages (6.7.1)\n",
            "Requirement already satisfied, skipping upgrade: webcolors in /usr/local/lib/python3.7/dist-packages (from music21) (1.11.1)\n",
            "Requirement already satisfied, skipping upgrade: chardet in /usr/local/lib/python3.7/dist-packages (from music21) (3.0.4)\n",
            "Requirement already satisfied, skipping upgrade: joblib in /usr/local/lib/python3.7/dist-packages (from music21) (1.0.1)\n",
            "Requirement already satisfied, skipping upgrade: more-itertools in /usr/local/lib/python3.7/dist-packages (from music21) (8.7.0)\n",
            "The tensorboard extension is already loaded. To reload it, use:\n",
            "  %reload_ext tensorboard\n"
          ],
          "name": "stdout"
        }
      ]
    },
    {
      "cell_type": "code",
      "metadata": {
        "colab": {
          "base_uri": "https://localhost:8080/"
        },
        "id": "84R9ah2P0Uqc",
        "outputId": "df733568-0b3b-43ee-a8ec-70e6b1c59bdf"
      },
      "source": [
        "from google.colab import drive\n",
        "\n",
        "drive.mount('/content/drive', force_remount=False)\n",
        "\n",
        "MIDI_PATH=\"/content/drive/My Drive/MLFolder/Onlab/MIDI_Iron_Maiden/\""
      ],
      "execution_count": null,
      "outputs": [
        {
          "output_type": "stream",
          "text": [
            "Mounted at /content/drive\n"
          ],
          "name": "stdout"
        }
      ]
    },
    {
      "cell_type": "code",
      "metadata": {
        "colab": {
          "base_uri": "https://localhost:8080/"
        },
        "id": "FkVn4mWO7rde",
        "outputId": "fed7f987-1d6e-4920-920e-3069f043aa63"
      },
      "source": [
        "!nvidia-smi"
      ],
      "execution_count": null,
      "outputs": [
        {
          "output_type": "stream",
          "text": [
            "Sat Mar 20 12:55:44 2021       \n",
            "+-----------------------------------------------------------------------------+\n",
            "| NVIDIA-SMI 460.56       Driver Version: 460.32.03    CUDA Version: 11.2     |\n",
            "|-------------------------------+----------------------+----------------------+\n",
            "| GPU  Name        Persistence-M| Bus-Id        Disp.A | Volatile Uncorr. ECC |\n",
            "| Fan  Temp  Perf  Pwr:Usage/Cap|         Memory-Usage | GPU-Util  Compute M. |\n",
            "|                               |                      |               MIG M. |\n",
            "|===============================+======================+======================|\n",
            "|   0  Tesla T4            Off  | 00000000:00:04.0 Off |                    0 |\n",
            "| N/A   61C    P8    10W /  70W |      0MiB / 15109MiB |      0%      Default |\n",
            "|                               |                      |                  N/A |\n",
            "+-------------------------------+----------------------+----------------------+\n",
            "                                                                               \n",
            "+-----------------------------------------------------------------------------+\n",
            "| Processes:                                                                  |\n",
            "|  GPU   GI   CI        PID   Type   Process name                  GPU Memory |\n",
            "|        ID   ID                                                   Usage      |\n",
            "|=============================================================================|\n",
            "|  No running processes found                                                 |\n",
            "+-----------------------------------------------------------------------------+\n"
          ],
          "name": "stdout"
        }
      ]
    },
    {
      "cell_type": "markdown",
      "metadata": {
        "id": "CM8sPao2nNIk"
      },
      "source": [
        "# UTILITY FUNCTIONS SECTION"
      ]
    },
    {
      "cell_type": "code",
      "metadata": {
        "id": "8diYXI5InMZZ"
      },
      "source": [
        "def most_frequent(paramlist): \n",
        "    #https://www.geeksforgeeks.org/python-find-most-frequent-element-in-a-list/\n",
        "    counter = 0\n",
        "    num = paramlist[0] \n",
        "      \n",
        "    for i in paramlist: \n",
        "        curr_frequency = paramlist.count(i) \n",
        "        if(curr_frequency> counter): \n",
        "            counter = curr_frequency \n",
        "            num = i \n",
        "  \n",
        "    return num \n",
        "\n",
        "def get_notes_from_chord(chord):\n",
        "    if chord.startswith(\"<music21.chord.Chord \"):\n",
        "        chord = chord[len(\"<music21.chord.Chord \"):]\n",
        "    if chord.endswith(\">\"):\n",
        "        chord = chord[:-1]\n",
        "    chord = chord.replace(\" \", \",\")\n",
        "    return chord\n",
        "\n",
        "def get_number_from_duration(duration):\n",
        "    if duration.startswith(\"<music21.duration.Duration \"):\n",
        "        duration = duration[len(\"<music21.duration.Duration \"):]\n",
        "    if duration.endswith(\">\"):\n",
        "        duration = duration[:-1]\n",
        "    duration = duration.replace(\" \", \",\")\n",
        "    return duration\n",
        "\n",
        "def create_mapper(chords):\n",
        "    pitchnames = sorted(set(str(item) for item in chords))\n",
        "    mapper = dict((note, number) for number, note in enumerate(pitchnames))\n",
        "\n",
        "    return mapper\n",
        "\n",
        "def encode_using_mapper(chords, mapper):\n",
        "    encodedsong=[]\n",
        "    for c in chords:\n",
        "        encodedsong.append(mapper[str(c)])\n",
        "\n",
        "    return encodedsong\n",
        "\n",
        "\n",
        "def decode_chords_using_mapper(numbers, mapper):\n",
        "    outputnotes = []\n",
        "    for number in numbers:\n",
        "        outputnotes.append(chord_from_string(get_notes_from_chord(get_key_from_value(number, mapper))))\n",
        "\n",
        "    return outputnotes\n",
        "\n",
        "def combine_chords_with_durations(chords, durations):\n",
        "    combined = []\n",
        "\n",
        "    for i, j in zip(chords, durations):\n",
        "        i = get_notes_from_chord(str(i))\n",
        "        j = get_number_from_duration(str(j))\n",
        "        combined.append(i + ';' + j)\n",
        "\n",
        "    return combined\n",
        "\n",
        "def make_slices(data, slice_length):\n",
        "    for song in tqdm(data):\n",
        "        if len(song) > slice_length:\n",
        "\n",
        "            input = []\n",
        "            output = []\n",
        "            slice = []\n",
        "\n",
        "            for idx, number in enumerate(song):\n",
        "                if idx < slice_length:\n",
        "                    slice.append(number)\n",
        "\n",
        "            input.append(slice.copy())\n",
        "            output.append(song[slice_length])\n",
        "\n",
        "            # Sliding window\n",
        "            for idx, number in enumerate(song):\n",
        "                if idx >= slice_length and (idx + 1) < len(song):\n",
        "                    slice.pop(0)\n",
        "                    slice.append(number)\n",
        "                    input.append(slice.copy())  # Copy is necessary, because of how pointers and lists work in Python\n",
        "                    output.append(song[idx + 1])\n",
        "\n",
        "    return input, output\n",
        "\n",
        "def parse_everything_together(data, slice_length):\n",
        "\n",
        "    notes=[]\n",
        "    input=[]\n",
        "    output=[]\n",
        "    slice = []\n",
        "\n",
        "    for song in tqdm(data):\n",
        "        for number in song:\n",
        "            notes.append(number)\n",
        "    \n",
        "    for idx, note in tqdm(enumerate(notes)):\n",
        "        if idx < slice_length:\n",
        "            slice.append(number)\n",
        "\n",
        "    input.append(slice.copy())\n",
        "    output.append(notes[slice_length])\n",
        "\n",
        "    # Sliding window\n",
        "    for idx, number in tqdm(enumerate(notes)):\n",
        "        if idx >= slice_length and (idx + 1) < len(notes):\n",
        "            slice.pop(0)\n",
        "            slice.append(number)\n",
        "            input.append(slice.copy())  # Copy is necessary, because of how pointers and lists work in Python\n",
        "            output.append(notes[idx + 1])\n",
        "        \n",
        "    return input, output\n",
        "\n",
        "def get_key_from_value(value, dict):\n",
        "    return list(dict.keys())[list(dict.values()).index(value)]\n",
        "\n",
        "def get_notes_from_chord(chord):\n",
        "    if chord.startswith(\"<music21.chord.Chord \"):\n",
        "        chord = chord[len(\"<music21.chord.Chord \"):]\n",
        "    if chord.endswith(\">\"):\n",
        "        chord = chord[:-1]\n",
        "    chord = chord.replace(\" \", \",\")\n",
        "    return chord\n",
        "\n",
        "def get_number_from_duration(duration):\n",
        "    if duration.startswith(\"<music21.duration.Duration \"):\n",
        "        duration = duration[len(\"<music21.duration.Duration \"):]\n",
        "    if duration.endswith(\">\"):\n",
        "        duration = duration[:-1]\n",
        "    duration = duration.replace(\" \", \",\")\n",
        "    return duration\n",
        "\n",
        "def chord_from_string(chordstring):\n",
        "    notes = chordstring.split(\";\")\n",
        "    return chord.Chord(notes)\n",
        "\n",
        "\n",
        "def convert_to_float(frac_str):\n",
        "    #From: https://stackoverflow.com/questions/1806278/convert-fraction-to-float\n",
        "    try:\n",
        "        return float(frac_str)\n",
        "    except ValueError:\n",
        "        num, denom = frac_str.split('/')\n",
        "        try:\n",
        "            leading, num = num.split(' ')\n",
        "            whole = float(leading)\n",
        "        except ValueError:\n",
        "            whole = 0\n",
        "        frac = float(num) / float(denom)\n",
        "        return whole - frac if whole < 0 else whole + frac\n",
        "\n",
        "#Source: https://github.com/alexissa32/DataScienceMusic\n",
        "def create_midi_without_chords(prediction_output, target_instrument = instrument.Piano(), filename = 'test_output.mid'):\n",
        "    '''\n",
        "    First step:\n",
        "    Only notes, no chords\n",
        "    Static 4/4 beat\n",
        "    Rests\n",
        "    '''\n",
        "    offset = 0\n",
        "    output_notes = []\n",
        "\n",
        "    # create note and chord objects based on the values generated by the model\n",
        "    for pattern in prediction_output:\n",
        "        # pattern is a rest\n",
        "        if('rest' in pattern):\n",
        "            new_rest = note.Rest(pattern)\n",
        "            new_rest.offset = offset\n",
        "            new_rest.storedInstrument = target_instrument #???\n",
        "            output_notes.append(new_rest)\n",
        "        # pattern is a note\n",
        "        else:\n",
        "            new_note = note.Note(pattern)\n",
        "            new_note.offset = offset\n",
        "            new_note.storedInstrument = target_instrument\n",
        "            output_notes.append(new_note)\n",
        "        # increase offset each iteration so that notes do not stack\n",
        "        offset += 0.5\n",
        "\n",
        "    midi_stream = stream.Stream(output_notes)\n",
        "\n",
        "    midi_stream.write('midi', fp=filename)\n",
        "\n",
        "def create_midi_without_durations(prediction_output, target_instrument = instrument.Piano(), filename = 'test_output.mid'):\n",
        "    '''\n",
        "    Second step:\n",
        "    Chords and notes\n",
        "    Static 4/4 beat\n",
        "    Rests\n",
        "    '''\n",
        "    offset = 0\n",
        "    output_notes = []\n",
        "\n",
        "    # create note and chord objects based on the values generated by the model\n",
        "    for pattern in prediction_output:\n",
        "        # pattern is a chord\n",
        "        if ('chord' in pattern):\n",
        "            notes = []\n",
        "            pattern = get_notes_from_chord(pattern)\n",
        "            patternpitches = pattern.split(',')\n",
        "            for current_note in patternpitches:\n",
        "                new_note = note.Note(current_note)\n",
        "                new_note.storedInstrument = target_instrument\n",
        "                notes.append(new_note)\n",
        "            new_chord = chord.Chord(notes)\n",
        "            new_chord.offset = offset\n",
        "            output_notes.append(new_chord)\n",
        "        # pattern is a rest\n",
        "        elif('rest' in pattern):\n",
        "            new_rest = note.Rest(pattern)\n",
        "            new_rest.offset = offset\n",
        "            new_rest.storedInstrument = target_instrument #???\n",
        "            output_notes.append(new_rest)\n",
        "        # pattern is a note\n",
        "        else:\n",
        "            new_note = note.Note(pattern)\n",
        "            new_note.offset = offset\n",
        "            new_note.storedInstrument = target_instrument\n",
        "            output_notes.append(new_note)\n",
        "        # increase offset each iteration so that notes do not stack\n",
        "        offset += 0.5\n",
        "\n",
        "    midi_stream = stream.Stream(output_notes)\n",
        "\n",
        "    midi_stream.write('midi', fp=filename)\n",
        "\n",
        "def create_midi_with_durations(prediction_output, output_durations, target_instrument = instrument.Piano(), filename = 'test_output.mid'):\n",
        "    offset = 0\n",
        "    output_notes = []\n",
        "\n",
        "    # create note and chord objects based on the values generated by the model\n",
        "    for i in range(len(prediction_output)):\n",
        "        pattern = prediction_output[i]\n",
        "        duration = get_number_from_duration(output_durations[i])\n",
        "        # pattern is a chord\n",
        "        if ('chord' in pattern):\n",
        "            notes = []\n",
        "            pattern = get_notes_from_chord(pattern)\n",
        "            patternpitches = pattern.split(',')\n",
        "            for current_note in patternpitches:\n",
        "                new_note = note.Note(current_note)\n",
        "                new_note.storedInstrument = target_instrument\n",
        "                notes.append(new_note)\n",
        "            new_chord = chord.Chord(notes)\n",
        "            new_chord.offset = offset\n",
        "            output_notes.append(new_chord)\n",
        "        # pattern is a rest\n",
        "        elif('rest' in pattern):\n",
        "            new_rest = note.Rest(pattern)\n",
        "            new_rest.offset = offset\n",
        "            new_rest.storedInstrument = target_instrument #???\n",
        "            output_notes.append(new_rest)\n",
        "        # pattern is a note\n",
        "        else:\n",
        "            new_note = note.Note(pattern)\n",
        "            new_note.offset = offset\n",
        "            new_note.storedInstrument = target_instrument\n",
        "            output_notes.append(new_note)\n",
        "        # increase offset each iteration so that notes do not stack\n",
        "        offset += convert_to_float(duration)\n",
        "\n",
        "    midi_stream = stream.Stream(output_notes)\n",
        "\n",
        "    midi_stream.write('midi', fp=filename)\n",
        "\n",
        "def create_midi_with_embedded_durations(prediction_output, target_instrument = instrument.Piano(), filename = 'test_output.mid'):\n",
        "    offset = 0\n",
        "    output_notes = []\n",
        "\n",
        "    # create note and chord objects based on the values generated by the model\n",
        "    for i in range(len(prediction_output)):\n",
        "        pattern = prediction_output[i]\n",
        "        splitpattern = pattern.split(\";\")\n",
        "        pattern = splitpattern[0]\n",
        "\n",
        "        duration = get_number_from_duration(splitpattern[1])\n",
        "        # pattern is a rest\n",
        "        if('rest' in pattern):\n",
        "            new_rest = note.Rest(pattern)\n",
        "            new_rest.offset = offset\n",
        "            new_rest.storedInstrument = target_instrument #???\n",
        "            output_notes.append(new_rest)\n",
        "        # pattern is a chord\n",
        "        elif (',' in pattern):\n",
        "            notes = []\n",
        "            pattern = get_notes_from_chord(pattern)\n",
        "            patternpitches = pattern.split(',')\n",
        "            for current_note in patternpitches:\n",
        "                new_note = note.Note(current_note)\n",
        "                new_note.storedInstrument = target_instrument\n",
        "                notes.append(new_note)\n",
        "            new_chord = chord.Chord(notes)\n",
        "            new_chord.offset = offset\n",
        "            output_notes.append(new_chord)\n",
        "        # pattern is a note\n",
        "        else:\n",
        "            new_note = note.Note(pattern)\n",
        "            new_note.offset = offset\n",
        "            new_note.storedInstrument = target_instrument\n",
        "            output_notes.append(new_note)\n",
        "        # increase offset each iteration so that notes do not stack\n",
        "        offset += convert_to_float(duration)\n",
        "\n",
        "    midi_stream = stream.Stream(output_notes)\n",
        "\n",
        "    midi_stream.write('midi', fp=filename)\n",
        "\n",
        "def parse_midi_notes_and_durations():\n",
        "    midiparts = []\n",
        "\n",
        "    for file in tqdm(os.listdir(path)):\n",
        "        midi = converter.parse(os.path.join(path, file))\n",
        "\n",
        "        for part in midi.parts:\n",
        "            chords=[]\n",
        "            durations=[]\n",
        "            for element in part.notesAndRests:\n",
        "                if isinstance(element, note.Note):\n",
        "                    chords.append(chord.Chord([element]))\n",
        "                    durations.append(element.duration)\n",
        "                elif isinstance(element, chord.Chord):\n",
        "                    chords.append(element)\n",
        "                    durations.append(element.duration)\n",
        "                elif isinstance(element, note.Rest):\n",
        "                    chords.append(element)\n",
        "                    durations.append(element.duration)\n",
        "\n",
        "            if len(chords) > 0:\n",
        "                midiparts.append(MidiPart(file, part.partName, chords, durations))\n",
        "            else:\n",
        "                for voice in part.voices:\n",
        "                    chords=[]\n",
        "                    durations=[]\n",
        "                    for element in voice.notesAndRests:\n",
        "                        if isinstance(element, note.Note):\n",
        "                            chords.append(chord.Chord([element]))\n",
        "                            durations.append(element.duration)\n",
        "                        elif isinstance(element, chord.Chord):\n",
        "                            chords.append(element)\n",
        "                            durations.append(element.duration)\n",
        "                        elif isinstance(element, note.Rest):\n",
        "                            chords.append(element)\n",
        "                            durations.append(element.duration)\n",
        "\n",
        "                    midiparts.append(MidiPart(file, part.partName, chords, durations))\n",
        "\n",
        "    return midiparts"
      ],
      "execution_count": null,
      "outputs": []
    },
    {
      "cell_type": "markdown",
      "metadata": {
        "id": "JZmPvxwV7mW6"
      },
      "source": [
        "# PREPROCESSING SECTION"
      ]
    },
    {
      "cell_type": "code",
      "metadata": {
        "id": "zxQJTnIDF76s"
      },
      "source": [
        "class MidiPart:\n",
        "    def __init__(self, song, instrument, chords, durations):\n",
        "        self.song = song\n",
        "        self.instrument = instrument\n",
        "        self.chords = chords\n",
        "        self.durations = durations\n",
        "\n",
        "\n",
        "path = MIDI_PATH\n",
        "\n",
        "IRON_MAIDEN_INSTRUMENTS = ['Acoustic Guitar', 'Viola', 'Electric Bass', 'Brass', 'Sampler', 'Electric Guitar', 'Piano', 'StringInstrument']\n",
        "\n",
        "SLICE_LEN = 10"
      ],
      "execution_count": null,
      "outputs": []
    },
    {
      "cell_type": "code",
      "metadata": {
        "colab": {
          "base_uri": "https://localhost:8080/"
        },
        "id": "gKRjNr5kGLZs",
        "outputId": "0caf517e-e140-41e9-9dab-2830a2cc948f"
      },
      "source": [
        "midiparts = parse_midi_notes_and_durations()"
      ],
      "execution_count": null,
      "outputs": [
        {
          "output_type": "stream",
          "text": [
            "100%|██████████| 12/12 [1:40:26<00:00, 502.22s/it]\n"
          ],
          "name": "stderr"
        }
      ]
    },
    {
      "cell_type": "code",
      "metadata": {
        "id": "TCIW-4f0HDiv"
      },
      "source": [
        "allchords = []\n",
        "alldurations = []\n",
        "\n",
        "TARGET_INSTRUMENT = 'Electric Guitar'\n",
        "for i in midiparts:\n",
        "    if i.instrument == TARGET_INSTRUMENT:\n",
        "        if len(i.chords)>0 :\n",
        "            allchords.append(i.chords)\n",
        "            alldurations.append(i.durations)"
      ],
      "execution_count": null,
      "outputs": []
    },
    {
      "cell_type": "code",
      "metadata": {
        "id": "KVe9bq-QlgkL"
      },
      "source": [
        "#RUN THIS CELL IF YOU WANT NOTES TO HAVE DURATIONS\n",
        "\n",
        "assert(len(allchords) == len(alldurations))\n",
        "\n",
        "combined = []\n",
        "for i in range(len(allchords)):\n",
        "    combined.append(combine_chords_with_durations(allchords[i], alldurations[i]))\n",
        "\n",
        "mapperdata = []\n",
        "\n",
        "for i in combined:\n",
        "    for j in i:\n",
        "        mapperdata.append(j)\n",
        "\n",
        "mapper = create_mapper(mapperdata)\n",
        "\n",
        "encoded_data = []\n",
        "\n",
        "for c in combined:\n",
        "    encoded = encode_using_mapper(c, mapper)\n",
        "    encoded_data.append(encoded)\n",
        "\n",
        "restkeysvalues = []\n",
        "for j in mapper.keys():\n",
        "    if ( 'rest' in j):\n",
        "        restkeysvalues.append(mapper[j])\n",
        "\n",
        "cleared_encoded_data=[]\n",
        "\n",
        "for i in range(len(encoded_data)):\n",
        "    if most_frequent(encoded_data[i]) not in restkeysvalues:\n",
        "        cleared_encoded_data.append(encoded_data[i])\n",
        "    else:\n",
        "        pass"
      ],
      "execution_count": null,
      "outputs": []
    },
    {
      "cell_type": "code",
      "metadata": {
        "id": "CSSAGDrKIUqE"
      },
      "source": [
        "#RUN THIS CELL IF YOU WANT A CONSTANT TEMPO\n",
        "\n",
        "mapperdata = []\n",
        "\n",
        "for i in allchords:\n",
        "    for j in i:\n",
        "        mapperdata.append(j)\n",
        "\n",
        "mapper = create_mapper(mapperdata)\n",
        "\n",
        "#I encode the data here using the mapper.\n",
        "\n",
        "encoded_data = []\n",
        "\n",
        "for c in allchords:\n",
        "    encoded = encode_using_mapper(c, mapper)\n",
        "    encoded_data.append(encoded)\n",
        "\n",
        "#I filter out those chord sequences, which are majorly rests. I do this because I don't want the network to make a song, which contains nothing, but rests. Our dataset has about 100 guitar tracks, which contain rests for the majority of the track, and a guitar solo near the end.\n",
        "#An upgrade for this could be that I don't just delete those tracks from the dataset, but only filter out the rests, and leave the guitar solo in.\n",
        "\n",
        "restnumber = mapper['<music21.note.Rest rest>']\n",
        "\n",
        "cleared_encoded_data=[]\n",
        "\n",
        "for i in encoded_data:\n",
        "    if most_frequent(i) != restnumber:\n",
        "        cleared_encoded_data.append(i)\n",
        "    else:\n",
        "        pass"
      ],
      "execution_count": null,
      "outputs": []
    },
    {
      "cell_type": "code",
      "metadata": {
        "colab": {
          "base_uri": "https://localhost:8080/"
        },
        "id": "cIycPa9oNYDe",
        "outputId": "11458535-a55f-4546-ccb2-fa1e335779bb"
      },
      "source": [
        "#Creating the input data\n",
        "\n",
        "input, output = parse_everything_together(cleared_encoded_data, SLICE_LEN)"
      ],
      "execution_count": null,
      "outputs": [
        {
          "output_type": "stream",
          "text": [
            "100%|██████████| 91/91 [00:00<00:00, 3763.71it/s]\n",
            "283615it [00:00, 3069344.75it/s]\n",
            "283615it [00:00, 953989.39it/s]\n"
          ],
          "name": "stderr"
        }
      ]
    },
    {
      "cell_type": "code",
      "metadata": {
        "colab": {
          "base_uri": "https://localhost:8080/",
          "height": 567
        },
        "id": "Kn6rNcUb9uGo",
        "outputId": "3e5e0187-a55c-400f-9d67-71d18a8965a8"
      },
      "source": [
        "import matplotlib.pyplot as plt\n",
        "from collections import Counter\n",
        "\n",
        "outputcnt = Counter(output)\n",
        "plt.bar(outputcnt.keys(), outputcnt.values())\n",
        "plt.show()\n",
        "\n",
        "function_like_array=[]\n",
        "for val in outputcnt.values():\n",
        "    function_like_array.append(val)\n",
        "\n",
        "function_like_array.sort()\n",
        "plt.plot(function_like_array)\n",
        "\n",
        "\n",
        "\n",
        "outliers = []\n",
        "OUTLIER_CONSTANT = 40\n",
        "\n",
        "for i in outputcnt.keys():\n",
        "    if outputcnt[i] < OUTLIER_CONSTANT:\n",
        "        outliers.append(i)\n",
        "\n",
        "print(outliers)\n",
        "print(len(outliers))\n"
      ],
      "execution_count": null,
      "outputs": [
        {
          "output_type": "display_data",
          "data": {
            "image/png": "[encoded data removed]",
            "text/plain": [
              "<Figure size 432x288 with 1 Axes>"
            ]
          },
          "metadata": {
            "tags": [],
            "image/png": {
              "height": 248,
              "width": 391
            }
          }
        },
        {
          "output_type": "stream",
          "text": [
            "[12656, 12493, 2097, 17424, 10366, 10372, 13417, 2598, 17738, 15977, 12478, 12480, 12452, 12374, 4611, 12868, 12912, 13745, 13750, 15736, 2422, 3885, 2729, 2730, 10688, 2244, 2423, 10115, 15564, 12333, 8609, 12927, 12942, 1806, 16904, 1083, 12358, 7395, 4605, 1808, 12190, 4694, 7411, 9947, 7986, 9936, 9927, 12798, 9949, 12807, 13014, 14441, 18846, 18337, 9860, 9514, 17211, 19029, 18853, 4334, 19018, 17213, 17345, 18849, 15746, 1825, 9890, 9565, 11541, 18148, 13464, 12934, 18068, 4972, 19398, 19512, 13020, 5195, 18617, 13022, 19785, 17861, 2769, 1715, 2251, 1865, 18771, 4085, 18185, 18476, 16227, 12649, 13317, 8210, 2413, 8394, 16096, 15789, 4390, 2724, 16156, 2037, 8903, 10678, 4873, 13958, 8478, 9900, 10245, 18616, 19730, 11876, 19752, 18873, 11864, 19241, 16502, 11509, 9663, 19303, 11463, 16008, 14615, 19299, 19301, 7869, 9922, 7479, 9921, 18345, 13002, 9925, 7636, 9923, 7627, 9926, 9844, 7896, 1364, 4464, 9933, 7810, 7508, 1367, 7816, 13086, 9662, 9670, 13483, 12908, 9114, 7509, 3150, 7504, 3452, 9735, 6279, 15698, 6889, 8267, 5887, 12704, 10395, 17292, 7032, 16060, 1683, 6261, 2307, 18784, 6557, 3819, 4131, 7972, 17771, 17772, 6707, 13998, 14733, 5609, 11002, 2358, 13096, 8432, 8245, 8434, 18733, 11652, 9870, 10285, 9347, 18259, 2869, 3146, 3147, 2907, 3860, 6616, 2107, 2762, 2412, 3996, 4082, 2568, 1877, 3945, 2728, 8482, 13735, 13732, 13741, 17033, 1608, 12356, 4599, 1166, 4695, 7622, 18471, 13016, 9929, 12803, 18110, 6957, 18414, 7228, 4319, 18845, 4379, 4385, 4386, 17457, 18851, 4238, 17465, 17209, 2042, 16047, 4962, 8143, 6515, 6509, 6528, 2284, 2016, 12555, 17249, 5153, 1248, 12757, 6120, 6113, 1942, 13654, 16600, 15165, 9803, 14669, 10335, 4176, 15136, 15288, 9910, 17617, 9835, 6345, 6344, 1953, 14774, 4818, 9726, 12766, 12767, 4322, 14566, 14412, 10442, 19733, 12486, 17701, 2511, 1428, 12454, 13536, 12597, 9732, 8144, 8438, 8042, 12907, 17416, 10633, 4200, 1793, 7883, 12801, 16129, 15988, 1979, 18948, 15717, 16014, 4202, 7129, 12292, 16142, 18816, 15855, 18947, 12914, 12975, 6943, 1033, 9075, 4178, 7109, 9071, 6945, 8799, 15341, 15570, 12474, 17193, 7127, 1369, 4463, 9661, 12499, 2322, 19127, 6955, 6919, 2005, 15219, 15217, 13093, 12650, 17160, 7503, 9667, 4460, 7130, 2004, 3568, 13864, 6539, 13856, 13857, 16202, 16200, 2407, 2420, 8600, 8477, 13790, 13763, 2773, 17913, 8483, 12377, 12442, 12518, 2719, 2746, 12379, 2747, 12515, 8728, 12514, 8729, 5550, 12298, 12901, 12823, 12941, 1339, 1807, 4836, 1374, 16816, 1811, 1075, 1810, 17122, 1831, 4204, 1341, 1058, 13463, 2406, 851, 19033, 15640, 7633, 16130, 13054, 8983, 14522, 19012, 16499, 10612, 19472, 13616, 19724, 19415, 19741, 14871, 19395, 2357, 13644, 2332, 18278, 13442, 2095, 10471, 19186, 16522, 13601, 13307, 4957, 12809, 18728, 2333, 13481, 1559, 18977, 2237, 1925, 16327, 10608, 8376, 8396, 7669, 16548, 13649, 15525, 6612, 19677, 19740, 8176, 7239, 7435, 4761, 10500, 15845, 8174, 10283, 13297, 10232, 19394, 9569, 2265, 10234, 15526, 7145, 4255, 7914, 10577, 18876, 12655, 2270, 13294, 4393, 13630, 2677, 4064, 16542, 10513, 18856, 13482, 8198, 2286, 7368, 19238, 10614, 10582, 19034, 2433, 2675, 4052, 7434, 10531, 18073, 2263, 8008, 10588, 16093, 15729, 10221, 8192, 19673, 7852, 8501, 10824, 8634, 5447, 10732, 8598, 19578, 18717, 12089, 9722, 12135, 19802, 19676, 2388, 3182, 10525, 16094, 8196, 18574, 18975, 16095, 10759, 12130, 19273, 3879, 16375, 19819, 18492, 8597, 13574, 7607, 7609, 10870, 16514, 19749, 9138, 4253, 18613, 6606, 12654, 16056, 19583, 7630, 7144, 19202, 11493, 18570, 17968, 16024, 18585, 2001, 19280, 16098, 15808, 16597, 15954, 15925, 8596, 7143, 9624, 7482, 9627, 17969, 12042, 16521, 12008, 19742, 5278, 15567, 17305, 15893, 19644, 9068, 15960, 18812, 18837, 3829, 18007, 19035, 19756, 12024, 17831, 10165, 17174, 5257, 17458, 8329, 8285, 19645, 9054, 16104, 3822, 3667, 16203, 11743, 11149, 19487, 19400, 17469, 17332, 17480, 9599, 10835, 19092, 16275, 8679, 8107, 11983, 10467, 8416, 17083, 15614, 15326, 18515, 18054, 11503, 9683, 7132, 4203, 10329, 15130, 19761, 12009, 4796, 17173, 6698, 17470, 4356, 16479, 12140, 6843, 16669, 17966, 19071, 17702, 10869, 8125, 10447, 8431, 8045, 5509, 18126, 11502, 9097, 7112, 4469, 10269, 15108, 19417, 7882, 16118, 19750, 14617, 6703, 7017, 17933, 4795, 7759, 8326, 6210, 7618, 17309, 5744, 3956, 17872, 7543, 6049, 3167, 6048, 17140, 11164, 4240, 3631, 6235, 11955, 17295, 6225, 11121, 17880, 11486, 9285, 4337, 18836, 4086, 11679, 13516, 10900, 15994, 3495, 10282, 16391, 17791, 7541, 6018, 3443, 6800, 10996, 6997, 13721, 2853, 12132, 5983, 7617, 17015, 7979, 5972, 11528, 11874, 4483, 8694, 19291, 15068, 2431, 5349, 18557, 7671, 10590, 10586, 10603, 13305, 7533, 12437, 13303, 19584, 16428, 19722, 18297, 18370, 10754, 13780, 9721, 18486, 13734, 10753, 8523, 12835, 14692, 19839, 19784, 10769, 8063, 4742, 19109, 10592, 10527, 8139, 8374, 11477, 16426, 19546, 11476, 8392, 18368, 8537, 10853, 16601, 10773, 10758, 10385, 10781, 16445, 8539, 8053, 13748, 14564, 9717, 5476, 2524, 18864, 18222, 4677, 18183, 1065, 4168, 19178, 9345, 8984, 11281, 19064, 7605, 10152, 11858, 10102, 8135, 8325, 17124, 10326, 9103, 18226, 18217, 4128, 1922, 5912, 4170, 9252, 2121, 15392, 17128, 4963, 8191, 8091, 8169, 19047, 18955, 13588, 12806, 7908, 9623, 9707, 10605, 10607, 9944, 9876, 12965, 13372, 8022, 8172, 12433, 11939, 6636, 6610, 6637, 11820, 17077, 16030, 17809, 17663, 19392, 13700, 16571, 19806, 2725, 2764, 19805, 12923, 8059, 12432, 13801, 10895, 8710, 5540, 2731, 19270, 16590, 13486, 1126, 18223, 18219, 1295, 4196, 7333, 9069, 19061, 8270, 11786, 3426, 16980, 17381, 9672, 9098, 19465, 2849, 9509, 5700, 9052, 15393, 8368, 15514, 8389, 7139, 4330, 10511, 13439, 7236, 13296, 7916, 8129, 1471, 10340, 13445, 9972, 10363, 16282, 7518, 8390, 6648, 17096, 6643, 16068, 16424, 16110, 4766, 4576, 13724, 16591, 13051, 19833, 12825, 8591, 8507, 8742, 13797, 8718, 13726, 10418, 8200, 8182, 7969, 8185, 3588, 13195, 7388, 2281, 16163, 5238, 16503, 18731, 13332, 8215, 7450, 7626, 9845, 12792, 15715, 1722, 19175, 18261, 18972, 18423, 18556, 12573, 6980, 13444, 13729, 16614, 13335, 6985, 13353, 8545, 13599, 7430, 8707, 199, 5048, 8180, 12371, 1638, 12844, 4680, 4572, 3237, 15951, 19261, 7646, 1347, 15558, 15588, 10881, 19848, 8517, 15735, 4783, 19462, 19334, 13572, 8004, 13067, 2248, 16111, 7926, 10163, 15399, 5482, 5037, 7938, 5040, 7924, 10535, 10512, 13591, 10530, 7664, 7511, 1392, 15589, 16176, 10676, 19461, 2425, 17658, 19764, 19520, 16297, 13512, 12999, 12850, 8337, 17278, 5977, 3424, 12572, 18548, 16893, 11852, 11523, 11519, 19368, 11778, 6378, 18179, 11670, 3657, 6382, 3576, 3578, 8263, 11814, 16258, 16257, 19705, 17815, 17820, 17714, 17302, 11373, 6045, 17777, 5262, 4700, 4594, 19691, 11624, 5307, 3228, 13781, 11532, 3421, 11759, 1407, 5309, 4743, 1666, 2446, 12364, 4612, 4746, 5082, 1894, 4760, 5161, 2101, 5051, 9729, 1497, 4614, 11032, 11033, 4704, 4133, 4701, 4136, 5162, 5039, 7911, 2149, 12871, 14200, 6514, 9563, 1461, 13433, 1350, 1386, 14536, 9636, 17161, 1648, 6732, 14397, 9678, 16166, 17197, 5935, 12416, 1102, 13250, 6135, 6339, 16918, 14056, 9218, 9761, 2457, 1068, 10422, 17436, 10184, 10425, 13151, 1071, 17621, 2470, 5413, 6760, 5419, 12047, 5692, 12483, 1056, 8130, 18914, 18976, 6023, 11512, 18533, 11498, 17954, 11620, 5673, 8265, 16469, 19689, 17525, 11391, 6179, 16594, 4703, 4702, 19253, 3529, 5310, 3214, 3414, 11760, 13208, 19720, 2605, 5320, 18344, 2447, 5281, 12363, 4610, 5083, 7417, 12453, 7574, 4134, 5053, 7939, 7930, 12787, 13494, 4958, 12919, 14267, 9637, 5520, 12646, 13501, 10403, 6513, 5784, 12559, 9759, 2182, 13373, 5140, 2372, 10185, 17361, 1072, 2452, 5420, 17745, 2599, 12375, 16525, 2712, 8631, 19850, 15472, 2650, 19849, 2736, 10821, 2647, 13737, 13699, 13723, 7419, 16430, 18516, 10361, 2038, 3820, 1944, 8041, 15656, 15313, 7360, 8178, 7907, 8195, 15802, 19158, 8024, 12824, 15378, 4777, 19581, 13736, 17710, 4784, 7857, 19509, 12802, 19625, 7668, 17731, 6260, 17462, 7847, 18376, 11514, 11853, 11515, 19430, 2945, 3658, 2910, 3548, 8282, 16471, 16462, 19690, 17715, 11658, 17814, 17524, 11396, 8150, 11734, 16910, 17025, 12139, 17022, 11757, 19710, 2602, 5421, 4731, 12577, 4809, 4154, 4750, 1519, 12355, 7405, 12551, 7587, 4608, 4132, 12365, 4135, 5169, 7917, 7910, 14192, 6523, 4959, 1351, 9183, 5522, 13422, 10156, 16168, 1449, 13213, 1813, 16249, 5956, 17434, 17625, 5175, 13222, 17744, 2455, 965, 1581, 8328, 4937, 13703, 12629, 1845, 12529, 13418, 8913, 2484, 5283, 13404, 13738, 16017, 1875, 8065, 1826, 10818, 18475, 9476, 8873, 1613, 1698, 1502, 9916, 2742, 2428, 1883, 2426, 1882, 16169, 1344, 2272, 2662, 19459, 13331, 16413, 16411, 16034, 15949, 10544, 13126, 16159, 13259, 8540, 8051, 8052, 8473, 8518, 7955, 13708, 10722, 13400, 4303, 8599, 5403, 7131, 12617, 7927, 8998, 7142, 12845, 13300, 4137, 13491, 16774, 19264, 2503, 13395, 13416, 12512, 4842, 8013, 4841, 12481, 13671, 4183, 12498, 14274, 14500, 14775, 12029, 7899, 1123, 17203, 12277, 12258, 4282, 13236, 14966, 4940, 18235, 4210, 17147, 5176, 5128, 2449, 13558, 17613, 14820, 17437, 15982, 4633, 13529, 13383, 4301, 12278, 12613, 1649, 13308, 6302, 1948, 17043, 13414, 17886, 14970, 14832, 5327, 8840, 2370, 6911, 13794, 2373, 6898, 1781, 15572, 2122, 7080, 8492, 7169, 12197, 8521, 7168, 17201, 1281, 12980, 8162, 12049, 13915, 2569, 17905, 9551, 17686, 7654, 12935, 2494, 7624, 1508, 13136, 2754, 12940, 1111, 10665, 5441, 9537, 7437, 2291, 16157, 1885, 19386, 13302, 8300, 7520, 16432, 16373, 15946, 16342, 15563, 13613, 1356, 1466, 16313, 12640, 2034, 13149, 16160, 9124, 15909, 1329, 18149, 9349, 9373, 15553, 7271, 2977, 18071, 12225, 8759, 6917, 14313, 10388, 2997, 1403, 1109, 13452, 17556, 1113, 12931, 2638, 16936, 6183, 15665, 10408, 12607, 17405, 5460, 18581, 7839, 8205, 6131, 13485, 13694, 10743, 2479, 13221, 1312, 1712, 13141, 1535, 3930, 18445, 1533, 9646, 4302, 1249, 1115, 8737, 10906, 7065, 8499, 2480, 7906, 7096, 1107, 7989, 1974, 990, 1970, 1061, 13413, 2408, 2350, 12502, 12525, 12487, 9153, 7659, 12737, 2336, 11935, 12606, 12234, 5036, 12896, 12894, 12895, 17737, 13490, 2012, 8587, 15235, 3892, 13731, 1618, 1354, 7499, 18397, 19174, 17337, 10589, 18623, 2847, 9401, 4092, 4911, 4872, 5449, 8152, 19046, 18961, 10568, 1921, 11715, 4069, 10367, 11641, 7506, 18741, 15691, 11450, 9392, 18249, 15438, 17960, 18603, 17972, 12623, 17979, 18272, 17032, 16039, 16738, 1780, 1092, 17334, 15677, 4050, 18725, 7373, 8327, 5898, 7033, 15848, 5613, 5884, 16128, 11582, 12596, 15350, 12180, 16836, 17854, 17546, 10890, 17092, 14736, 4060, 11959, 6022, 13412, 13488, 10520, 2770, 15559, 3053, 12285, 13367, 17245, 13204, 6098, 9782, 15146, 17521, 17758, 14040, 17574, 6521, 12972, 12970, 12639, 16772, 1906, 7655, 7625, 13114, 7645, 13085, 15673, 15617, 1604, 17183, 1486, 6921, 18946, 7258, 12503, 7053, 12187, 4181, 7106, 9078, 1786, 4797, 18668, 15254, 19147, 2331, 7744, 8020, 11686, 13075, 13860, 7868, 14645, 5273, 10426, 13185, 15215, 7961, 8203, 13555, 8613, 17890, 5547, 12441, 12376, 17889, 1116, 17782, 17131, 17483, 1342, 17126, 1809, 12169, 12833, 7854, 19203, 10005, 13053, 4424, 8892, 4725, 9548, 18618, 16544, 18734, 8050, 18694, 1556, 19310, 7658, 19184, 19242, 15931, 7656, 13055, 18479, 13024, 16500, 13602, 14776, 18747, 13603, 19725, 14772, 18726, 8217, 19414, 13513, 4391, 7915, 11910, 19751, 16532, 12439, 13515, 4973, 18440, 19711, 19111, 12088, 2389, 3732, 9374, 5115, 19350, 16523, 7342, 2264, 15797, 6684, 19351, 19636, 15732, 16092, 18636, 11669, 8455, 17311, 10995, 18661, 17927, 18819, 3808, 19333, 11147, 15336, 17604, 18664, 19381, 18807, 2883, 9065, 18847, 19529, 19065, 11559, 7483, 7478, 4992, 17850, 11568, 6706, 7016, 15221, 17938, 9286, 10860, 7335, 18628, 16784, 7513, 18262, 17181, 4357, 17967, 11310, 11672, 3285, 7582, 10961, 4088, 11865, 16211, 3888, 15325, 4075, 12097, 16956, 15283, 6251, 11957, 16025, 5152, 3534, 2848, 12098, 11323, 11334, 12161, 18716, 11533, 11202, 3994, 5608, 10762, 7967, 3193, 3207, 17478, 3803, 11960, 3847, 15066, 13028, 16131, 9957, 19129, 16498, 10587, 13575, 13702, 9886, 8594, 15173, 5321, 2410, 4381, 18692, 19229, 9865, 17001, 11636, 19807, 19835, 9826, 1023, 16090, 16087, 18167, 15798, 8828, 10150, 11792, 11618, 10456, 19030, 18916, 1093, 9568, 18572, 16106, 9056, 10148, 15786, 1213, 9064, 16326, 7756, 17505, 17282, 6195, 7647, 10387, 7505, 18997, 1000, 4757, 18863, 4679, 11279, 18210, 10159, 10131, 11790, 10090, 9212, 3090, 1805, 13030, 18652, 18422, 12495, 18949, 11341, 1214, 8837, 9952, 9613, 17098, 8241, 7741, 13443, 2763, 15739, 5541, 19838, 9955, 2315, 16229, 5234, 18250, 7026, 6922, 3230, 17975, 18696, 7018, 13306, 13343, 7666, 13320, 8471, 16298, 13635, 277, 5055, 16773, 4568, 1718, 19163, 7851, 19600, 2687, 17721, 12821, 16112, 12996, 1238, 4155, 8165, 7789, 11867, 3494, 3867, 6752, 17659, 4791, 3311, 16880, 3880, 6052, 12149, 3420, 4624, 14376, 1614, 1672, 7631, 1087, 5050, 12985, 16701, 9811, 1382, 9714, 6750, 17432, 16075, 6650, 5860, 880, 6116, 17021, 11345, 12321, 1858, 7623, 1665, 7410, 18555, 12360, 5047, 5936, 18385, 9450, 6527, 16798, 10639, 4485, 13239, 1928, 1057, 3857, 19172, 7718, 1516, 15383, 15520, 1711, 3377, 19714, 8397, 19716, 15382, 9432, 13730, 15876, 3372, 3525, 18322, 11869, 9480, 9812, 9962, 9976, 1302, 1150, 9930, 19319, 19618, 19171, 1629, 10609, 2234, 16170, 15731, 7802, 19219, 8508, 16971, 15624, 11871, 18524, 11168, 3549, 17934, 8339, 11958, 11644, 7596, 12070, 4527, 6040, 11404, 14375, 1504, 1503, 1086, 11112, 18293, 11589, 14711, 1772, 1046, 2476, 5376, 2727, 12964, 12880, 11588, 10750, 5465, 8306, 16416, 2515, 12482, 1357, 13393, 1422, 12614, 15102, 1018, 13199, 4877, 14697, 5061, 14823, 11678, 15026, 2104, 12983, 11462, 11460, 1122, 4149, 17415, 14612, 11412, 13870, 19570, 18707, 19416, 18655, 5469, 13218, 12242, 4299, 6875, 14207, 5549, 2510, 4402, 2365, 5457, 14408, 4578, 15286, 12213, 12198, 14249, 15069, 17532, 2434, 17822, 4634, 9746, 12561, 12511, 12240, 17063, 1402, 15518, 9853, 13669, 2488, 7663, 17865, 2282, 1725, 19449, 2644, 9051, 15263, 13125, 1378, 1139, 5636, 4816, 7978, 15226, 17392, 8747, 2514, 16418, 1413, 12899, 6220, 6221, 17081, 12448, 6347, 17406, 14402, 7662, 8604, 8663, 13358, 13405, 2471, 12314, 16486, 1852, 1708, 3446, 7347, 2639, 1728, 8190, 5337, 13295, 13677, 5415, 8606, 8611, 13720, 13712, 13783, 1010, 13115, 1016, 1064, 17175, 12913, 12728, 14329, 2341, 12457, 2500, 450, 17971, 19503, 17868, 1528, 12808, 11725, 19292, 11688, 3137, 14294, 18738, 18269, 7019, 18055, 7024, 12167, 9112, 1319, 3466, 51, 6294, 6164, 2102, 10011, 7043, 8964, 16868, 15269, 11059, 17454, 6163, 17143, 369, 6518, 13202, 4620, 12951, 12165, 13962, 4242, 315, 13098, 7044, 15327, 15276, 12189, 15352, 17061, 938, 12295, 15218, 11721, 21, 1787, 2880, 13984, 12286, 2453, 1318, 13657, 1313, 2518, 1070, 995, 1427, 16674, 298, 19139, 8451, 12677, 5955, 15800, 7535, 18575, 18754, 7853, 19237, 4740, 7128, 18730, 5323, 18871, 9977, 13997, 16533, 1724, 16680, 8005, 1332, 9873, 17557, 5448, 16037, 758, 16684, 15209, 7385, 9552, 14960, 19412, 969, 16671, 7119, 17489, 18790, 18188, 18190, 18626, 16827, 11886, 6213, 16828, 8661, 11677, 6227, 17199, 11319, 73, 16446, 38, 9912, 6275, 11311, 17488, 17294, 15381, 17386, 8533, 3584, 6725, 9958, 18697, 18194, 4678, 11383, 8359, 12456, 8001, 15832, 6961, 17982, 15810, 6962, 18091, 17473, 17514, 6200, 15883, 8861, 7035, 7029, 7025, 15929, 7855, 7432, 7953, 19289, 309, 2665, 2704, 16324, 5248, 7643, 16809, 997, 4117, 1898, 19471, 11526, 12122, 16603, 13247, 4432, 12326, 7635, 1591, 13127, 14462, 10397, 10736, 334, 11747, 6079, 12060, 12323, 354, 9805, 7726, 17545, 1710, 15420, 18988, 9872, 15763, 18319, 9086, 5923, 15664, 19170, 15343, 3239, 15675, 4116, 10891, 5256, 16981, 17261, 196, 5154, 16806, 8294, 737, 4933, 12616, 7670, 16383, 12477, 7807, 7803, 7799, 12730, 4148, 9298, 16804, 6874, 13755, 3145, 12226, 8006, 1050, 19481, 7469, 12353, 13706, 17867, 5551, 963, 935, 14007, 15359, 674, 553, 543, 18151, 175, 110, 13809, 75, 7884, 17195, 7591, 4747, 4668, 7023, 142, 404, 946, 931, 50, 530, 8862, 4786, 15122, 139, 8588, 542, 12673, 17262, 49, 88, 490, 12600, 4780, 161, 198, 4142, 12612, 185, 119, 12717, 8425, 386, 7888, 970, 12290, 4074, 12, 917, 620, 655, 18093, 10023, 18265, 940, 18743, 23, 9384, 5116, 654, 713, 336, 141, 484, 11467, 67, 89, 7184, 5261, 427, 18191, 4108, 17976, 15214, 7369, 16857, 112, 143, 604, 48, 351, 123, 12043, 92, 15986, 90, 44, 17102, 12620, 8310, 7039, 362, 7900, 219, 2253, 17315, 712, 372, 11987, 9391, 251, 14228, 390, 15898, 13554, 775, 349, 17164, 446, 4487, 15118, 13623, 939, 1797, 3238, 1709, 3388, 15873, 6070, 16146, 17182, 13, 12522, 5247, 15132, 866, 971, 245, 703, 11623, 269, 4934, 262, 1465, 271, 134, 238, 421, 13695, 7977, 7083, 216, 8690, 211, 597, 18266, 10015, 486, 18162, 722, 149, 717, 188, 213, 1779, 16864, 45, 871, 804, 15363, 100, 310, 18, 814, 566, 10019, 9850, 455, 5904, 563, 533, 376, 263, 626, 15523, 906, 406, 546, 549, 91, 847, 852, 751, 11, 311, 16855, 7887, 731, 531, 109, 348, 17509, 3837, 815, 625, 752, 462, 504, 589, 676, 382, 482, 374, 739, 8450, 350, 414, 599, 881, 383, 17185, 799, 15117, 788, 11227, 111, 724, 289, 4866, 22, 340, 389, 2716, 302, 697, 290, 460, 181, 740, 877, 425, 748, 197, 981, 11182, 381, 68, 520, 909, 17, 343, 7378, 154, 4423, 567, 642, 12603, 715, 797, 259, 668, 29, 742, 402, 918, 10660, 273, 17978, 638, 11006, 927, 823, 944, 691, 171, 268, 551, 926, 237, 509, 306, 258, 16867, 783, 15362, 483, 57, 150, 607, 498, 863, 7820, 7104, 9895, 16288, 1726, 8155, 15085, 17074, 8160, 19255, 11856, 15517, 7679, 19515, 19685, 19721, 8571, 8526, 10581, 17953, 18489, 8570, 17920, 16848, 18173, 16761, 16624, 18552, 17042, 3395, 18635, 16665, 16823, 2801, 10955, 2921, 9136, 17149, 7542, 8670, 7831, 19532, 4582, 15463, 1482, 17072, 7182, 11108, 18329, 4027, 3009, 7200, 1603, 14163, 11037, 7060, 1597, 3485, 3501, 16064, 17589, 11328, 11395, 9498, 11640, 16049, 3851, 11849, 11977, 17579, 17101, 14219, 15749, 17453, 15744, 17223, 17595, 16314, 11271, 19540, 7966, 12027, 5595, 16347, 19558, 17212, 14426, 16048, 14075, 16996, 9772, 3375, 17240, 11051, 14705, 15903, 16879, 14216, 16050, 3209, 15817, 17243, 15793, 3347, 16940, 14098, 14132, 17451, 16780, 4675, 14065, 5970, 6075, 11405, 4589, 6073, 11413, 12095, 17717, 12125, 3123, 3303, 15794, 14602, 12107, 11923, 13739, 3970, 16291, 16366, 15700, 15959, 16009, 14614, 11700, 3957, 3963, 11252, 12141, 4272, 4044, 3934, 17697, 3774, 11754, 10923, 3110, 19098, 19096, 8706, 17699, 3290, 19074, 4515, 7361, 11124, 8021, 6500, 11366, 17955, 16629, 7123, 11908, 8461, 6745, 11788, 16184, 7203, 3640, 16345, 7204, 9272, 9269, 6840, 8211, 13447, 17108, 19708, 4718, 3739, 3366, 19648, 12194, 13894, 18039, 18038, 1563, 1231, 11013, 5619, 15211, 15220, 16756, 3962, 5554, 6790, 17749, 17189, 7359, 13848, 17951, 16733, 9231, 8869, 9232, 15490, 15499, 6107, 7103, 7584, 9898, 9588, 18395, 3080, 15856, 16293, 8243, 14889, 14896, 6624, 10571, 16018, 11144, 7196, 9694, 7521, 17957, 18708, 11832, 16863, 18137, 16801, 3063, 12532, 3314, 3128, 8803, 2917, 11177, 17150, 3184, 8513, 6182, 1500, 7676, 19652, 8963, 16493, 7250, 7688, 19192, 16099, 16134, 13019, 18966, 4519, 15648, 7501, 9849, 13105, 7996, 12804, 16119, 16875, 8942, 3632, 9932, 18140, 13003, 13123, 10147, 4520, 8433, 13403, 13334, 13351, 11710, 10160, 8122, 15809, 11478, 17763, 10162, 7532, 19683, 17355, 19104, 3763, 17382, 19641, 9878, 11934, 3670, 18828, 18420, 7715, 18413, 8637, 8531, 8060, 11967, 19348, 7837, 19477, 8057, 8149, 8525, 13829, 10235, 10053, 9598, 9597, 9606, 12207, 7281, 18042, 19169, 17449, 16088, 12836, 2714, 16670, 11253, 6958, 12267, 17681, 11000, 10816, 17536, 6967, 6928, 7835, 15924, 11465, 7825, 7834, 18983, 8386, 8007, 8141, 17567, 17554, 8147, 3605, 6615, 17330, 17558, 10007, 19102, 10640, 10655, 17549, 3846, 17575, 3603, 8343, 8244, 6653, 6719, 8544, 8491, 8692, 6881, 6886, 8341, 17176, 16837, 13652, 13094, 5621, 5624, 14730, 10648, 17274, 13097, 12565, 14739, 7217, 14684, 12349, 12306, 14726, 14744, 1208, 4366, 18017, 11539, 11339, 11340, 13111, 14663, 14507, 7249, 7247, 14512, 1134, 5635, 15583, 4332, 4333, 16012, 19211, 19008, 19000, 18795, 8917, 8927, 10330, 10084, 14281, 15021, 18711, 19672, 9943, 3488, 3491, 3615, 18800, 19006, 19069, 8113, 11844, 11862, 11173, 15024, 14285, 15027, 19669, 7197, 11857, 8110, 19060, 11231, 8018, 11785, 7302, 17657, 13520, 16933, 6516, 6457, 17238, 17373, 17490, 4843, 5670, 17239, 18793, 19076, 3845, 7976, 8443, 3840, 8439, 16136, 3098, 12031, 17835, 17817, 4062, 17851, 3969, 8691, 8489, 8542, 6860, 6884, 5944, 9956, 10016, 6722, 5030, 5416, 6877, 6836, 6876, 10872, 10889, 10884, 1098, 1951, 1800, 6472, 14335, 15353, 15063, 14328, 9383, 15344, 11003, 12204, 15206, 19608, 8547, 16599, 10945, 19473, 16536, 19302, 16714, 12905, 12690, 13001, 14471, 14656, 14473, 14472, 19266, 2965, 18796, 14355, 14661, 14358, 19727, 19011, 17370, 17496, 17371, 17375, 17498, 4828, 5004, 4833, 11171, 11176, 18709, 18712, 19670, 17794, 17812, 4279, 17236, 17501, 6441, 5770, 13238, 13227, 18714, 18713, 19709, 17148, 13229, 12982, 6456, 6442, 17269, 17493, 17272, 6462, 13461, 13230, 17789, 2371, 2369, 5657, 16315, 15375, 15376, 9133, 1872, 7221, 1981, 1978, 9042, 5105, 1973, 17492, 18911, 17569, 6282, 13484, 17832, 8441, 18842, 18578, 15933, 4045, 4059, 17559, 17576, 4819, 8399, 8444, 8655, 6883, 9924, 8146, 3566, 17484, 17285, 17551, 12034, 17568, 17592, 331, 19539, 17684, 5724, 3012, 3796, 17683, 12069, 12054, 16731, 18152, 11840, 7446, 11494, 19083, 17607, 17230, 3436, 16507, 19700, 11631, 5975, 11214, 8378, 15500, 7316, 4374, 18601, 8884, 15493, 15633, 18421, 16284, 18174, 7489, 19063, 17218, 19053, 16511, 18683, 18527, 6249, 16751, 15545, 18136, 11483, 15470, 13015, 7758, 7761, 11209, 11026, 7118, 12424, 5745, 18952, 3033, 5834, 15815, 14431, 11093, 18806, 10489, 17511, 18903, 7296, 11058, 15791, 14429, 19062, 18051, 11134, 11027, 3661, 18900, 7297, 7279, 3013, 8645, 10488, 11379, 11263, 10991, 17608, 17231, 11280, 19638, 18490, 7190, 5976, 11298, 9236, 18568, 7755, 17152, 660, 4257, 18542, 11801, 7806, 5340, 18543, 18243, 19799, 17618, 5442, 15154, 4404, 10820, 14928, 5836, 16456, 3564, 16191, 16730, 15631, 15858, 7290, 15240, 1176, 13917, 5574, 16625, 16734, 2829, 3027, 3020, 17151, 17067, 6854, 5865, 17901, 17113, 16950, 15098, 7354, 18599, 4399, 18597, 18178, 17078, 18595, 17075, 18175, 15657, 2645, 8622, 14907, 16356, 7862, 13802, 7468, 18606, 17705, 7442, 18449, 17891, 8664, 6638, 6001, 9776, 11455, 15985, 14518, 17308, 3777, 8034, 11797, 16279, 15084, 17662, 15618, 1659, 6215, 14302, 14303, 14519, 17503, 3778, 16977, 14301, 17026, 16379, 17069, 7788, 15620, 7685, 14158, 7753, 14283, 17785, 7540, 16949, 15619, 6008, 17871, 17653, 6000, 6205, 6003, 5598, 17036, 5768, 12389, 5597, 14118, 1656, 14745, 17265, 5852, 5848, 12548, 14028, 5644, 16905, 14445, 5007, 11081, 16811, 16742, 14307, 17629, 17283, 12785, 17411, 6234, 1933, 6161, 5862, 12992, 17279, 12991, 8649, 11616, 17664, 17631, 12761, 6158, 5286, 3986, 6805, 6109, 17066, 12348, 12814, 17060, 7638, 1265, 2060, 9544, 7845, 2135, 5233, 19180, 18986, 8391, 4300, 15725, 12177, 10064, 3814, 16286, 13154, 10670, 5121, 16489, 19627, 13312, 7940, 10710, 4821, 18620, 19078, 7005, 11646, 18968, 17379, 8083, 3664, 3694, 3950, 3786, 11741, 10989, 11979, 11275, 8334, 16195, 17665, 11989, 8560, 8652, 17687, 4020, 16574, 17675, 10101, 3035, 11392, 10952, 14114, 11131, 5749, 16069, 5591, 6841, 3738, 13913, 3575, 5022, 11771, 2931, 17716, 16368, 17639, 17770, 3965, 14807, 15073, 6006, 3297, 3987, 15074, 16267, 15412, 4590, 5100, 5814, 3132, 14064, 4685, 5160, 5173, 11756, 16810, 11765, 11175, 4107, 5455, 2868, 10943, 1178, 12057, 12100, 4081, 2760, 13885, 11138, 16691, 11190, 15703, 3055, 14062, 3044, 3248, 2850, 14748, 4163, 14446, 5738, 11953, 4499, 4893, 3543, 14967, 14628, 6824, 5986, 6822, 14438, 14629, 14700, 15236, 15081, 3541, 11191, 14292, 6239, 2443, 14224, 14764, 5461, 4489, 6269, 4114, 4209, 5299, 4785, 8929, 15615, 18075, 11254, 3195, 16621, 16604, 3472, 11577, 16241, 16381, 12932, 16727, 8320, 7536, 6400, 18237, 18046, 12106, 8567, 17900, 7147, 12608, 11972, 19828, 16783, 15524, 19183, 10499, 17894, 8568, 7859, 7242, 14906, 16491, 7470, 18621, 12587, 8512, 16572, 19786, 14309, 14308, 11551, 15877, 14713, 3598, 16976, 6632, 11948, 7750, 14878, 16386, 6009, 1661, 3335, 5802, 14194, 15984, 14520, 17440, 16963, 17070, 16968, 17753, 15612, 15379, 2092, 3747, 1702, 10391, 16384, 1757, 2640, 16559, 16692, 3954, 3127, 3946, 5969, 15761, 15586, 15822, 2938, 3756, 3208, 8543, 7724, 15773, 11560, 17145, 16937, 7696, 7805, 6191, 15970, 3051, 19363, 3350, 2937, 4001, 7436, 14758, 3061, 6188, 14419, 17601, 19611, 3910, 14427, 6189, 14125, 14029, 5841, 5992, 1660, 1652, 1457, 6142, 9771, 13944, 14422, 12724, 7412, 12648, 12694, 9527, 12754, 6108, 12666, 5705, 6111, 16709, 9564, 4880, 18883, 1954, 5464, 14954, 13549, 6585, 12211, 1167, 17962, 19130, 8183, 13036, 7339, 15981, 12245, 14395, 12716, 3644, 5151, 1523, 8201, 4997, 10709, 5192, 18133, 11236, 7191, 2972, 9858, 2806, 11561, 15777, 2916, 10919, 3673, 19495, 17477, 2274, 6416, 16230, 10537, 11791, 19551, 18201, 18452, 3075, 9322, 2901, 9586, 17324, 17798, 8058, 10935, 18504, 11043, 16072, 17520, 17447, 6940, 16654, 17756, 15205, 5235, 13974, 18211, 2795, 8689, 16429, 18115, 4398, 10997, 19055, 10993, 12185, 2481, 16274, 18134, 13909, 9301, 12575, 17510, 14679, 16016, 10971, 16636, 16633, 8314, 10981, 11242, 17932, 12536, 14296, 18985, 19105, 18218, 19107, 10243, 10600, 15184, 16946, 15635, 17634, 16795, 7763, 7717, 15203, 16719, 13919, 7231, 1277, 13758, 10843, 7150, 19455, 7193, 4230, 18642, 4365, 5496, 11827, 7262, 3425, 7400, 7496, 17804, 17963, 8064, 5357, 5296, 12073, 12142, 16663, 16859, 16632, 11211, 17902, 8717, 18405, 9324, 4368, 18406, 7325, 11654, 2802, 16878, 11300, 15625, 11268, 3067, 3781, 3805, 6276, 16061, 11642, 16874, 11368, 9471, 17819, 19674, 16530, 11001, 11226, 15282, 11630, 12121, 11964, 12109, 1598, 15532, 11583, 5131, 11084, 3470, 2893, 16746, 17803, 18120, 3607, 17347, 3106, 18611, 5919, 11491, 3800, 8035, 8145, 16256, 19259, 16468, 19457, 18448, 6623, 18583, 6784, 8206, 16266, 12126, 3991, 14810, 19845, 5093, 10409, 10484, 6095, 1741, 18374, 1743, 13844, 4094, 12065, 3454, 6419, 13859, 13847, 8748, 15498, 9240, 15496, 1274, 15366, 4804, 8810, 17360, 19553, 11997, 4995, 16807, 16865, 16743, 17127, 17896, 15825, 11479, 19194, 18164, 1290, 15365, 4523, 12423, 4389, 18409, 19298, 15481, 4671, 18025, 18067, 18023, 18161, 18483, 12425, 14154, 12428, 10196, 15767, 19379, 3887, 7842, 7798, 7280, 6504, 7690, 7950, 7691, 9172, 9170, 14016, 18220, 7207, 7295, 15252, 9018, 15465, 18854, 7998, 18058, 7208, 15248, 16485, 15651, 5610, 15637, 17513, 15312, 17906, 17655, 4724, 7586, 19099, 19077, 7390, 419, 16841, 6295, 7371, 11217, 7814, 11698, 15998, 3121, 11683, 11673, 18924, 7764, 17769, 17755, 17833, 6891, 16482, 19312, 3560, 7901, 5622, 2340, 14350, 18558, 4411, 16673, 16672, 1051, 14000, 13949, 18141, 12533, 16767, 4291, 11074, 13866, 4376, 4339, 1131, 8933, 14277, 2968, 18672, 3078, 2957, 11448, 7252, 14509, 11265, 7490, 18400, 11219, 7338, 11257, 18685, 17136, 16952, 5763, 10925, 16888, 11070, 5681, 17009, 4266, 11511, 3001, 17570, 17581, 6724, 19293, 3120, 19283, 11954, 11692, 11608, 17707, 16535, 14344, 1670, 3406, 1790, 9915, 2168, 16254, 2694, 2630, 2710, 17352, 17396, 1320, 16138, 3154, 15674, 14010, 17531, 17800, 18992, 6778, 8705, 19859, 19594, 16299, 4011, 2432, 16539, 8548, 12145, 16786, 2935, 2876, 18307, 16953, 17010, 11065, 4267, 11078, 11072, 4349, 18677, 16929, 17133, 17057, 5782, 6015, 5849, 12391, 12385, 12330, 9239, 12228, 7215, 1605, 9242, 7205, 12174, 16886, 8955, 9149, 15473, 11308, 11695, 16304, 11877, 3842, 11872, 3668, 11685, 17450, 17651, 14047, 3474, 17407, 18925, 16856, 15687, 7871, 6284, 19297, 7377, 803, 15653, 2094, 15321, 4043, 15268, 17205, 18514, 3537, 11385, 17708, 11384, 11447, 3289, 19772, 18732, 7183, 17706, 18063, 18902, 16747, 11029, 15247, 10964, 13945, 5803, 11322, 18503, 14594, 16650, 11165, 7216, 17229, 18638, 11127, 18559, 3791, 15469, 7306, 667, 7560, 16740, 19639, 19388, 7238, 7544, 16358, 9888, 17441, 6577, 6139, 5616, 7681, 7778, 14304, 16924, 6212, 17640, 6474, 5808, 5818, 7287, 7178, 5287, 5948, 14483, 3929, 2194, 5954, 13685, 7637, 15863, 7007, 1531, 2450, 3695, 17460, 9363, 8295, 6620, 16221, 19464, 8561, 6349, 6641, 14803, 14852, 17622, 14987, 12116, 2898, 3988, 14996, 15444, 3199, 14113, 11882, 5023, 5459, 17116, 5139, 5021, 5024, 2927, 8948, 15227, 15962, 3528, 16787, 2851, 5010, 12718, 12788, 15189, 11762, 14084, 15005, 14060, 14287, 4427, 12310, 15502, 18103, 18737, 17194, 7332, 5870, 5890, 15682, 11613, 13248, 12863, 3021, 4647, 18431, 4669, 16659, 4175, 4129, 5605, 4013, 16760, 11239, 15030, 18122, 8967, 9004, 16782, 8727, 7352, 7084, 13906, 6002, 3776, 17068, 7779, 18770, 11706, 1485, 15527, 11378, 16005, 3900, 15590, 15772, 3299, 5993, 6137, 9426, 9580, 12735, 5114, 14956, 10407, 2195, 1007, 15704, 1899, 10059, 18361, 6971, 14433, 5209, 10596, 6727, 8116, 8158, 18637, 16260, 15480, 17326, 16656, 16302, 17952, 19693, 8817, 10927, 18111, 8048, 1032, 18750, 16640, 11944, 17943, 17946, 10974, 16634, 12534, 15616, 16777, 10244, 18887, 14718, 8630, 4214, 9290, 18048, 7151, 18453, 18463, 10257, 18396, 19037, 11833, 16688, 19861, 17129, 15422, 18314, 6447, 16877, 3288, 3397, 7070, 17696, 14225, 3074, 2838, 17214, 3107, 3117, 13354, 16261, 16401, 2229, 19148, 8839, 11018, 11299, 8960, 11921, 16340, 16689, 6915, 18609, 15433, 7382, 15650, 3461, 7968, 19307, 13563, 10193, 7947, 492, 10100, 8118, 18280, 16237, 11098, 7904, 7028, 506, 11701, 18130, 15342, 10949, 17187, 18311, 10947, 7794, 6283, 7885, 5893, 14727, 16137, 729, 18990, 16472, 17571, 16842, 5614, 11689, 11110, 12609, 4141, 10013, 14325, 13637, 18018, 17018, 7890, 6293, 15331, 11304, 18739, 3112, 19300, 3467, 17553, 11639, 12037, 16431, 16246, 17650, 8863, 14322, 12627, 10646, 14004, 3099, 13710, 5577, 3848, 15129, 16121, 18729, 193, 261, 1704, 3105, 3863, 13641, 17179, 15404, 6299, 16531, 1669, 14323, 9998, 16661, 11307, 11332, 11216, 6314, 11215, 17200, 11287, 3767, 11615, 7589, 12576, 15246, 15560, 11023, 6660, 11010, 15292, 15990, 16748, 8650, 678, 18500, 14306, 12071, 19433, 6797, 2830, 5088, 3581, 16556, 14836, 5813, 17623, 2821, 3171, 2905, 16831, 5385, 2861, 11580, 11309, 15666, 16844, 14319, 8070, 5843, 18095, 15676, 15535, 3387, 2438, 14502, 7267, 5232, 3579, 10794, 18419, 6976, 13872, 10933, 8823, 13853, 10982, 19826, 7086, 5197, 218, 241, 2752, 220, 3843, 15965, 14613, 3453, 17130, 17287, 774, 370, 247, 19522, 8739, 347, 8532, 11718, 7903, 423, 11315, 3114, 10, 17192, 3097, 3473, 5892, 11330, 14698, 6700, 6307, 1038, 15360, 428, 710, 3113, 7801, 11436, 8853, 1324, 937, 6542, 252, 12016, 772, 12023, 7364, 8855, 6718, 202, 11008, 16858, 11055, 7905, 476, 948, 590, 11325, 884, 706, 898, 4277, 611, 17084, 14320, 12429, 882, 19822, 471, 94, 628, 15580, 848, 12133, 4025, 10916, 673, 686, 466, 93, 808, 368, 670, 719, 132, 540, 227, 478, 657, 518, 203, 441, 777, 6156, 16124, 11329, 138, 7367, 13904, 399, 15112, 962, 3122, 97, 11024, 384, 255, 144, 687, 332, 16871, 16850, 16840, 239, 571, 637, 618, 579, 974, 4776, 901, 357, 11170, 707, 854, 764, 835, 661, 16677, 451, 656, 233, 7391, 274, 6301, 865, 195, 640, 14738, 61, 328, 16079, 167, 338, 146, 614, 422, 356, 12652, 776, 367, 879, 9999, 363, 246, 28, 1838, 2046, 1874, 1857, 2188, 1837, 1912, 1891, 1097, 1892, 1869, 1873, 10405, 10496, 10061, 10240, 10578, 4224, 12542, 1423, 4219, 4929, 4835, 2400, 6450, 10649, 13130, 13534, 2415, 5408, 2715, 12902, 12661, 19665, 7494, 7712, 9030, 11118, 17649, 17605, 17626, 13544, 13163, 18072, 15273, 8769, 9287, 4111, 4177, 4418, 4444, 13863, 14213, 14829, 14795, 14828, 15003, 4479, 5143, 5015, 14616, 5396, 5390, 5324, 5510, 2695, 9350, 10047, 11904, 6596, 4414, 4636, 1124, 13891, 4613, 4583, 11079, 4606, 11077, 18020, 7628, 11653, 17328, 11090, 14155, 14152, 8615, 18580, 13519, 11351, 16775, 4289, 12369, 5027, 11415, 5220, 4914, 6959, 19635, 4765, 13666, 19605, 13200, 13673, 8914, 12053, 5303, 13753, 13564, 18236, 1244, 5295, 4400, 5294, 4112, 4824, 1907, 4862, 5011, 11567, 6734, 5398, 5417, 12738, 7653, 12830, 19041, 2702, 13041, 10201, 18974, 7740, 13339, 2138, 7649, 4908, 12958, 14804, 14605, 11562, 17840, 13206, 6495, 3585, 4653, 14452, 12726, 11772, 4438, 14388, 4437, 19026, 10733, 15866, 10822, 2492, 8495, 7652, 12993, 7639, 1993, 12816, 12828, 7648, 7694, 15164, 4588, 12989, 4713, 11407, 6533, 12062, 4648, 19814, 19823, 15927, 19812, 19591, 8407, 19468, 17691, 16233, 13897, 5362, 5499, 19425, 14944, 14821, 10183, 7925, 7523, 19399, 2567, 2499, 2591, 2502, 8657, 17700, 11461, 16070, 7739, 8577, 8642, 17097, 15468, 16007, 15879, 15337, 17767, 19555, 16348, 18427, 18477, 3916, 7826, 9945, 18615, 17340, 5150, 9909, 9566, 11356, 2099, 2140, 17258, 17410, 13384, 12838, 13387, 12734, 9899, 4907, 1571, 15377, 4037, 1565, 12430, 2119, 2116, 12320, 1586, 11031, 13410, 16907, 1637, 4215, 16690, 13462, 4545, 5338, 7593, 12545, 17053, 1505, 12537, 16921, 17034, 12160, 13800, 5548, 14464, 17040, 4697, 10553, 1927, 17615, 17338, 3362, 5967, 4598, 4540, 17246, 14791, 14415, 13203, 4618, 4711, 14793, 3205, 13368, 4597, 17685, 4544, 12723, 10400, 12354, 5033, 8975, 17237, 16885, 12719, 12444, 14443, 13929, 19167, 15262, 4353, 16988, 1034, 2043, 1390, 1846, 1916, 1893, 1441, 4530, 1870, 2183, 12293, 10559, 10324, 18118, 9847, 10032, 9461, 4223, 1138, 5639, 8952, 12394, 3679, 10647, 13749, 10788, 7640, 3935, 11364, 4058, 2424, 8274, 8401, 16161, 15212, 1720, 15764, 3899, 17633, 15443, 6145, 1450, 13243, 2541, 19353, 13263, 2076, 6865, 12485, 1315, 12968, 15388, 4144, 5466, 5393, 5411, 4874, 5289, 13547, 13147, 13531, 13533, 13532, 5279, 13764, 13676, 13663, 16616, 10879, 19687, 19396, 17624, 9881, 12974, 12973, 12855, 12642, 17052, 15712, 5957, 9221, 13132, 13524, 1247, 13196, 15316, 2516, 11484, 2751, 2607, 8480, 2574, 15528, 15486, 14212, 5378, 7146, 9264, 13718, 13717, 13396, 13382, 13437, 13552, 13541, 13371, 5164, 13746, 10667, 15190, 2087, 10410, 13665, 9728, 13546, 2166, 13631, 2709, 2688, 15127, 6710, 2326, 1946, 2329, 6290, 1606, 2351, 499, 2349, 6704, 17566, 6287, 17548, 5274, 2338, 6004, 6713, 13653, 15135, 6614, 6651, 6449, 17475, 2713, 6890, 17846, 2701, 5329, 2705, 2703, 6880, 13787, 15199, 16475, 17774, 18744, 18749, 9366, 19189, 17539, 17826, 4031, 17736, 17643, 17879, 17881, 17893, 12188, 12740, 5342, 10712, 8638, 8654, 8682, 8732, 17680, 8734, 8711, 8488, 19483, 6821, 6910, 6894, 1163, 16712, 6728, 4212, 6899, 6893, 2456, 15086, 15557, 12540, 5344, 16664, 12966, 6647, 17652, 16666, 19188, 16648, 1006, 8811, 12742, 10211, 5583, 5588, 5594, 5592, 5603, 5564, 5569, 5333, 5581, 10729, 5584, 12064, 5589, 5604, 13679, 17869, 5600, 12260, 10979, 13992, 16825, 7303, 5864, 6907, 13095, 6900, 14740, 10898, 14731, 16705, 17588, 2334, 17586, 16148, 6300, 6296, 6304, 15109, 6715, 5263, 6611, 15120, 15116, 2355, 13080, 14743, 1337, 13858, 14337, 14326, 14338, 468, 4622, 1854, 5380, 13212, 4475, 6820, 2464, 4554, 14202, 5379, 7725, 1947, 1839, 5377, 9546, 19513, 16158, 13523, 15857, 19001, 8093, 13756, 8562, 19233, 5842, 17301, 11781, 6218, 13527, 11952, 6014, 6086, 9725, 1633, 1836, 2586, 9965, 9825, 18904, 2667, 13701, 10823, 19634, 4767, 13379, 9758, 19344, 13273, 13012, 13795, 6896, 13674, 10699, 6118, 1226, 1186, 9781, 13659, 6735, 10401, 12633, 15306, 15853, 9326, 18358, 6087, 1255, 1377, 13376, 19022, 15155, 15707, 6555, 9083, 13716, 10795, 13010, 12300, 1180, 1612, 10398, 14734, 14571, 2211, 15935, 12773, 1971, 3601, 18979, 3638, 7932, 2266, 3646, 2157, 14575, 14940, 12659, 15865, 1969, 7933, 2003, 2158, 13159, 2629, 14778, 14822, 13388, 4849, 13264, 19021, 4555, 19516, 15706, 15869, 9343, 18362, 5885, 17380, 6214, 12407, 13772, 15705, 15166, 1545, 13796, 6895, 10700, 18777, 12762, 13658, 1453, 12316, 12635, 472, 17250, 6522, 10129, 15064, 6540, 4817, 4410, 13518, 1827, 12409, 1325, 10414, 5939, 2739, 10437, 17878, 6313, 16906, 5402, 8979, 1963, 17732, 9278, 13357, 13402, 4286, 5304, 3914, 6818, 4834, 5009, 6813, 3979, 12259, 5141, 17614, 6166, 5929, 9744, 9424, 12753, 9748, 9755, 2616, 2561, 2732, 6729, 5456, 2367, 14999, 4580, 15152, 10749, 18624, 4405, 15659, 17884, 12335, 1416, 4072, 12347, 12549, 4446, 17253, 14595, 12720, 12359, 12315, 17045, 1610, 5400, 12368, 4811, 5391, 5293, 5468, 12241, 9167, 6324, 9005, 5517, 7107, 2233, 2555, 13719, 18665, 13292, 4194, 14533, 13656, 17119, 12800, 11042, 3232, 4823, 11803, 13562, 14977, 19597, 3891, 16398, 13440, 13465, 3718, 12266, 9209, 18147, 13934, 13899, 6913, 6483, 2600, 5297, 4113, 2454, 17628, 5599, 9072, 16957, 17807, 13223, 5587, 13819, 2171, 13517, 16643, 12909, 17280, 13993, 17444, 6644, 17037, 6217, 8720, 6902, 8719, 14017, 6060, 14831, 14859, 14884, 6305, 11773, 3582, 14805, 14882, 13284, 6810, 2085, 13782, 15200, 5940, 10809, 12449, 13751, 5284, 6767, 10485, 6334, 13133, 1742, 11702, 15142, 12048, 13129, 13399, 9220, 13682, 15181, 6806, 10806, 14080, 5308, 14463, 14549, 18778, 2202, 2537, 9960, 17006, 6811, 9222, 13680, 10789, 5404, 2153, 12550, 1278, 6912, 2646, 8268, 3974, 18591, 3242, 6730, 6526, 5132, 13138, 13421, 9738, 1635, 12513, 10802, 10847, 13692, 13727, 12768, 9549, 17818, 2593, 10368, 8704, 5094, 6664, 4577, 16582, 4501, 15267, 2872, 2881, 9828, 2797, 10524, 6956, 13285, 15291, 15245, 12977, 17055, 10412, 15796, 11408, 11406, 16998, 2603, 15156, 12418, 13722, 4854, 4946, 10555, 1223, 2397, 1054, 2399, 2398, 1878, 4820, 1452, 1343, 1774, 1617, 4449, 4293, 8923, 5630, 5774, 3678, 17515, 12322, 1732, 2430, 4551, 6397, 1216, 19696, 18033, 11409, 12179, 2090, 14434, 7022, 7374, 11066, 4274, 13851, 13852, 14435, 11342, 11354, 13092, 11346, 11545, 12729, 14092, 5086, 14389, 2019, 14771, 10287, 4419, 4139, 4800, 1524, 11183, 11028, 16763, 12253, 1121, 11075, 15471, 7418, 1520, 5642, 5008, 5029, 11359, 19637, 19601, 7237, 2590, 10481, 11924, 5418, 13220, 299, 1634, 4152, 2577, 17423, 17049, 1627, 13026, 7727, 2256, 12829, 7849, 8188, 4623, 12725, 17247, 4621, 4753, 13035, 18862, 11758, 1896, 9968, 15723, 1999, 19176, 4909, 17412, 13711, 5339, 4715, 13187, 12709, 5406, 4754, 12061, 13034, 12058, 12831, 7956, 2525, 4160, 5364, 5335, 5436, 10207, 12202, 10726, 5099, 10476, 14947, 10074, 5495, 8680, 17248, 18965, 7737, 6878, 16388, 7604, 8167, 18614, 16214, 11632, 18529, 11825, 11470, 5155, 12672, 2146, 16343, 12664, 12990, 1640, 18563, 8878, 8886, 12319, 2017, 5034, 12727, 10663, 5133, 16213, 12976, 16913, 1454, 16732, 19117, 1923, 4425, 9275, 4290, 13480, 10378, 9174, 5937, 2210, 17508, 7398, 1902, 4682, 16189, 7721, 15896, 14873, 6340, 10761, 1204, 13537, 4316, 17343, 17350, 2056, 5057, 13322, 5489, 8420, 12296, 4231, 1446, 7218, 15768, 9917, 6126, 5535, 2570, 13543, 18004, 8490, 8595, 10737, 12378, 7064, 13664, 2595, 244, 4558, 2136, 6148, 10482, 17698, 1960, 5942, 1464, 9439, 1964, 2081, 15921, 8830, 3590, 1802, 12626, 209, 15823, 1778, 17472, 5715, 15330, 5804, 2337, 17847, 17845, 16537, 17848, 17836, 15128, 15124, 17773, 16244, 16264, 5102, 15111, 2707, 17642, 17645, 6448, 10880, 4559, 14311, 18276, 18274, 18256, 16085, 4912, 3931, 8738, 16711, 6755, 1160, 2741, 13805, 12163, 17874, 13038, 16626, 16627, 18937, 13274, 13777, 13798, 15814, 14469, 18899, 5566, 5580, 19782, 13766, 13765, 17888, 16826, 17887, 12262, 13762, 635, 13077, 10009, 10814, 17591, 17583, 17555, 17578, 3844, 5618, 15696, 2862, 5615, 5612, 15238, 5628, 4140, 1045, 16681, 4899, 5454, 2348, 19285, 14341, 4670, 5906, 4422, 5907, 4421, 13862, 13964, 14003, 4663, 12949, 19797, 12759, 16569, 4518, 12431, 17051, 5932, 5807, 1133, 16703, 13865, 12199, 1221, 10801, 13683, 15716, 12827, 10698, 5407, 10399, 4604, 5755, 1218, 8981, 12569, 8559, 17487, 12760, 14033, 5633, 12173, 13660, 13018, 10854, 6132, 2720, 10673, 9742, 1439, 14372, 15718, 8043, 19296, 10815, 10715, 6146, 17035, 12553, 14021, 12531, 1189, 10332, 15138, 13768, 12406, 4543, 10402, 9526, 1219, 489, 12971, 17420, 4815, 2216, 12465, 9407, 1785, 5352, 4521, 15683, 12988, 4691, 8987, 12400, 9279, 12539, 5821, 16917, 13508, 12520, 12521, 3555, 14227, 12523, 6384, 5043, 13914, 12861, 12770, 5930, 1566, 6110, 6327, 4627, 7210, 7206, 16212, 13409, 7243, 12350, 4309, 5291, 5292, 4156, 5328, 11097, 14059, 12373, 11660, 4524, 2717, 12235, 13667, 1091, 8496, 13890, 19726, 17085, 18041, 6780, 14985, 10929, 11606, 8175, 11802, 13999, 5557, 6903, 6794, 8498, 6423, 2474, 13179, 12771, 10784, 5386, 10796, 6124, 1460, 1632, 13006, 1568, 6733, 18291, 12763, 9823, 13131, 14044, 14468, 13760, 13678, 4637, 11030, 9001, 9792, 2064, 9449, 2069, 18779, 2055, 19015, 1279, 5280, 10902, 15396, 1621, 12312, 12860, 13715, 7431, 16192, 16167, 2699, 5656, 18383, 2721, 15290, 17882, 2637, 17883, 15461, 11430, 6757, 9528, 9533, 8909, 1096, 5918, 1943, 325, 12284, 10371, 6475, 1620, 9736, 12328, 12668, 2584, 12282, 11189, 17050, 5058, 10166, 9517, 16071, 12544, 12254, 17048, 12681, 17047, 18275, 12815, 4858, 12817, 15145, 3542, 5427, 5579, 14837, 2543, 5453, 3440, 13559, 12670, 6535, 1570, 12317, 13355, 17005, 86, 613, 1462, 12769, 9116, 313, 14171, 10000, 7420, 3854, 1904, 15357, 842, 5943, 4616, 2594, 17923, 5056, 3769, 4019, 17593, 12447, 17704, 17363, 314, 2212, 9442, 10071, 2082, 2339, 13626, 1424, 15888, 13079, 13744, 781, 12747, 947, 14741, 5271, 14013, 16262, 5805, 16263, 15695, 15693, 11321, 18740, 4505, 8730, 4096, 2832, 16236, 17903, 11241, 574, 410, 12552, 907, 14348, 16265, 17290, 4901, 5806, 16481, 17694, 6720, 4491, 1043, 14349, 9389, 14331, 14334, 1331, 13854, 9785, 12238, 2292, 9270, 12287, 1624, 3268, 1622, 1574, 5941, 10069, 19320, 9443, 2084, 5255, 12236, 580, 12774, 6121, 9216, 9750, 12998, 1472, 5811, 14819, 13509, 4273, 13139, 17046, 13788, 282, 15216, 16713, 16941, 16954, 14076, 4592, 1137, 11082, 4813, 4585, 5410, 2560, 1429, 14930, 2313, 18327, 15685, 1243, 15987, 1154, 6485, 12451, 1662, 916, 586, 2294, 217, 242, 5958, 817, 8993, 358, 12395, 9743, 398, 208, 296, 7892, 15414, 341, 2018, 18441, 18885, 46, 463, 10650, 3853, 9752, 1775, 1791, 9156, 1371, 544, 505, 14014, 564, 69, 5524, 13849, 444, 7034, 2495, 121, 14788, 14789, 235, 507, 260, 5258, 13855, 1041, 834, 105, 16235, 824, 16706, 496, 578, 9440, 757, 1783, 12660, 330, 1801, 665, 172, 418, 598, 569, 689, 515, 400, 178, 397, 11111, 155, 135, 588, 601, 2218, 8219, 13385, 12033, 136, 671, 698, 895, 10284, 732, 180, 951, 746, 14683, 15697, 693, 734, 609, 120, 339, 728, 3650, 6104, 595, 469, 177, 858, 547, 250, 8846, 16675, 14015, 979, 79, 137, 844, 826, 716, 957, 629, 416, 156, 301, 908, 550, 436, 501, 651, 346, 14678, 317, 723, 316, 34, 14330, 4143, 324, 412, 24, 307, 133, 14008, 14019, 18086, 5178, 8899, 18090, 9622, 13349, 11774, 6970, 13324, 16218, 6992, 4887, 8757, 5227, 7553, 9296, 10272, 5002, 1995, 2214, 17344, 2115, 4906, 1968, 5054, 4947, 2139, 19003, 4868, 13959, 13963, 13813, 13823, 3706, 6411, 13957, 16376, 15013, 15015, 5016, 13826, 13835, 13833, 13836, 6571, 13861, 13811, 13956, 13895, 5124, 13986, 13842, 13841, 14802, 15059, 8819, 14895, 14894, 14910, 15042, 14915, 9594, 9512, 1199, 18034, 8076, 8072, 5224, 13348, 8222, 13286, 16276, 10173, 5573, 9376, 9031, 4788, 8010, 10316, 4998, 1990, 10930, 1003, 1011, 10450, 10191, 10195, 14913, 1019, 1127, 14914, 1012, 1027, 13604, 1334, 4807, 5631, 13432, 5325, 5795, 1426, 18593, 18546, 2772, 13742, 12517, 13733, 10776, 9716, 14210, 14211, 13068, 1910, 14404, 10668, 1433, 15158, 2738, 5546, 19793, 2777, 14720, 17039, 17168, 16866, 1052, 17984, 1363, 17038, 4676, 15920, 14240, 9203, 9188, 4412, 12464, 5405, 10717, 17866, 10893, 1044, 16678, 8841, 5250, 10033, 13281, 10441, 12889, 12893, 12775, 16495, 16433, 17346, 4416, 16341, 16496, 8142, 2796, 14796, 3674, 7732, 15897, 11938, 11824, 6405, 8271, 2922, 11936, 15837, 15078, 16147, 15297, 15355, 11836, 1411, 6701, 17602, 6418, 16296, 16466, 17481, 8336, 3839, 17764, 17603, 5435, 4109, 5414, 19466, 8406, 8574, 16660, 14625, 11907, 8250, 18189, 10187, 9356, 19405, 4875, 4876, 8698, 10215, 6934, 19563, 17864, 19735, 16598, 19448, 8709, 4504, 16515, 18341, 8487, 19729, 12279, 10873, 991, 13478, 11004, 3476, 15550, 15531, 15410, 3298, 11377, 14082, 3977, 2185, 3802, 9395, 7155, 9629, 5229, 1987, 5214, 8365, 10250, 13350, 13342, 7090, 16219, 12847, 7166, 7985, 5226, 18065, 5267, 5181, 7931, 4999, 2002, 13347, 7375, 15852, 16409, 19713, 16647, 10194, 13344, 8794, 19485, 19524, 19592, 2513, 8781, 8762, 9303, 13361, 9130, 8465, 8881, 5545, 8724, 9007, 4744, 8743, 9739, 2744, 9604, 7445, 10751, 9715, 15180, 19841, 2756, 19732, 14535, 1690, 14926, 9762, 6129, 19501, 1474, 14364, 5290, 8494, 18858, 5698, 5945, 2302, 8847, 5927, 1929, 18324, 18317, 4445, 18342, 9973, 1143, 13013, 18758, 19588, 13661, 19810, 10198, 13625, 14921, 19498, 2419, 1401, 7811, 19747, 18081, 19759, 18100, 8077, 5503, 5519, 8463, 8627, 8662, 9292, 8617, 8659, 18157, 5529, 789, 9626, 8891, 2041, 2221, 2071, 4936, 12615, 4615, 6478, 19230, 12751, 10204, 4476, 5356, 19442, 4900, 19585, 13822, 13827, 14952, 5127, 15080, 14635, 13496, 6380, 4106, 8788, 6590, 4110, 6652, 14685, 14643, 15162, 16947, 5669, 5854, 16931, 6393, 19684, 3886, 10203, 4852, 9643, 19401, 18196, 5965, 13062, 9178, 4546, 9532, 12501, 6579, 5312, 4840, 15198, 15143, 4635, 16922, 17733, 14848, 11422, 11574, 14816, 1871, 10375, 9712, 9436, 14275, 14058, 9121, 2461, 2429, 10790, 15201, 1642, 9789, 10804, 18367, 15192, 10774, 10871, 1373, 16353, 10503, 9655, 3980, 13186, 12865, 10574, 4032, 3917, 1157, 2659, 16174, 16210, 19335, 19429, 5602, 15621, 2583, 16188, 1404, 10817, 13128, 13253, 18640, 3561, 15941, 13489, 2668, 2278, 3947, 2991, 6112, 5971, 3975, 9441, 9448, 9095, 10539, 4070, 2726, 2551, 2379, 12682, 15087, 1316, 4304, 10752, 2393, 19328, 14381, 9788, 6665, 6685, 13087, 502, 4235, 10308, 4455, 4312, 14198, 4549, 14110, 4920, 12780, 12955, 14258, 3348, 4845, 4306, 8958, 18641, 10359, 19133, 19161, 3015, 1304, 18351, 13066, 14380, 15052, 10135, 9676, 4234, 4251, 9557, 14108, 9180, 12782, 14497, 6394, 3352, 14230, 8994, 4162, 14106, 4472, 18330, 18474, 10140, 13394, 13595, 19322, 14937, 9199, 9129, 9126, 10325, 10261, 7161, 8790, 10241, 10107, 2062, 19042, 15943, 12872, 10290, 2790, 2974, 2981, 13155, 12979, 16873, 12744, 18690, 13568, 10465, 14054, 12496, 14677, 19247, 19377, 19572, 15065, 14396, 5237, 19159, 4250, 9777, 10433, 18857, 4921, 4927, 14658, 14659, 14074, 3342, 4847, 3505, 8976, 4480, 9011, 9703, 9705, 19153, 2933, 13468, 15031, 6563, 8804, 9063, 8792, 8102, 9610, 7153, 10323, 3626, 2063, 19043, 10294, 2870, 2786, 1240, 16055, 12685, 3016, 9832, 13573, 18834, 18584, 3798, 13364, 14256, 18880, 14278, 2190, 19682, 19246, 3418, 19657, 15025, 14762, 19150, 10307, 10138, 14269, 19025, 4956, 4512, 4919, 6532, 6592, 3223, 14634, 14124, 4942, 9702, 10310, 10137, 13458, 18832, 13232, 15035, 15076, 3985, 14588, 19164, 6167, 5905, 15092, 13881, 10342, 4247, 14558, 14203, 14259, 14093, 4639, 9797, 14632, 14263, 3219, 4917, 3188, 14104, 4474, 9332, 18334, 10133, 13472, 12926, 5873, 19324, 14936, 14185, 9644, 9060, 10238, 9017, 10220, 10239, 3627, 2061, 10353, 17341, 10080, 2980, 13419, 9257, 12339, 16872, 12662, 12703, 13193, 13567, 13190, 3704, 8906, 2192, 5203, 19132, 19671, 19718, 19263, 19668, 15028, 14686, 18281, 10144, 4308, 19214, 5080, 4926, 6569, 14424, 14653, 14499, 14496, 4925, 3503, 4848, 4221, 9706, 18015, 12504, 13188, 13470, 10777, 3229, 10487, 6550, 5353, 9107, 9658, 9451, 19409, 19251, 8038, 15097, 18301, 12468, 1431, 8037, 7830, 18699, 14872, 10180, 13327, 10479, 8209, 8812, 2529, 8069, 9175, 9357, 8771, 8371, 7440, 13709, 10179, 8208, 14925, 9024, 9039, 7644, 9562, 8469, 6410, 8875, 9012, 8982, 9028, 16989, 7551, 4965, 5236, 19256, 4971, 1992, 10277, 14530, 10454, 14517, 8900, 2142, 12854, 9023, 8880, 1679, 10045, 10446, 19769, 7415, 9937, 18416, 16152, 16317, 2509, 5368, 4397, 8676, 16318, 8354, 17668, 8673, 4263, 8605, 8137, 3949, 17688, 11063, 17606, 3812, 13293, 4217, 3031, 16725, 18176, 17746, 15242, 11166, 6656, 8614, 18117, 18234, 19649, 8647, 11179, 19778, 17030, 8714, 1282, 9523, 18435, 19619, 1572, 1513, 13042, 16103, 7346, 16172, 19590, 7140, 8309, 7149, 4262, 19480, 7137, 3967, 16504, 16234, 8189, 4571, 4395, 7138, 4396, 1174, 10025, 9935, 9940, 9554, 14899, 18718, 19408, 9967, 19249, 13345, 8025, 18425, 7832, 18412, 18488, 18705, 4980, 14238, 10477, 8233, 8912, 12857, 19666, 14784, 9182, 8770, 9002, 17221, 11394, 4976, 8470, 9581, 6492, 13363, 4751, 9206, 10315, 4964, 2533, 13366, 9456, 9455, 9986, 19195, 8896, 2141, 12671, 10254, 10040, 2137, 8898, 8879, 9120, 19744, 3782, 15581, 3164, 9612, 3762, 3441, 7747, 8405, 15604, 10681, 19616, 16506, 19633, 16339, 15546, 11659, 18813, 18804, 17228, 17215, 16641, 11237, 11810, 11917, 11220, 12110, 3284, 11906, 17013, 12113, 15334, 11267, 19478, 8586, 19788, 9044, 17154, 11510, 9665, 9635, 8735, 6024, 16565, 5709, 7510, 3153, 15576, 4465, 16355, 4195, 10833, 4665, 10834, 16478, 19421, 4350, 4254, 4462, 19527, 17082, 19549, 13511, 4910, 7507, 15163, 1370, 8484, 12489, 3149, 10863, 19476, 18670, 16900, 4457, 16512, 16357, 12000, 10616, 4699, 4327, 15645, 8648, 4021, 3386, 11976, 3523, 3493, 15595, 9614, 15607, 16367, 8404, 10682, 3771, 19632, 16508, 17693, 11996, 8409, 17225, 17227, 11234, 16800, 17012, 11922, 12111, 18523, 14991, 12077, 11991, 11970, 12124, 19663, 19787, 8566, 2745, 10735, 1541, 8104, 8096, 7937, 2008, 8904, 7549, 9021, 7548, 8936, 6061, 18037, 9089, 8372, 7706, 14869, 19010, 13329, 14955, 19589, 2623, 10259, 14948, 7439, 8783, 9181, 8834, 10725, 19598, 16487, 9619, 18896, 9344, 16920, 7424, 4575, 9931, 9520, 9541, 4552, 2867, 10104, 10390, 15452, 15516, 4211, 4382, 19200, 11358, 11355, 11153, 2614, 1994, 11505, 11036, 10197, 4522, 9318, 18155, 18753, 18860, 19019, 18861, 18865, 19317, 4728, 10317, 7697, 9355, 7030, 11444, 13341, 9572, 5601, 5266, 8360, 14450, 4789, 7088, 5684, 14556, 8859, 9810, 9763, 13961, 13824, 3567, 13955, 16224, 13979, 13817, 13818, 13845, 17263, 16470, 3707, 5097, 18252, 5270, 8999, 9621, 14528, 8778, 18101, 6947, 7987, 15851, 8186, 8011, 5221, 5225, 8996, 11117, 18761, 13587, 19155, 10036, 10190, 18756, 13122, 10037, 1020, 4218, 15032, 1230, 10666, 12412, 1185, 19325, 19856, 5544, 13786, 5556, 13374, 17911, 10901, 1905, 18782, 2766, 15812, 10669, 17885, 19165, 2749, 1089, 4222, 9396, 14591, 4340, 18186, 18644, 14255, 14359, 9908, 9152, 5168, 12739, 2864, 17977, 6263, 1155, 6329, 16741, 3477, 18003, 11016, 19146, 5894, 10504, 10063, 13156, 15948, 10528, 14735, 11901, 11744, 12026, 6375, 4091, 4090, 6310, 18843, 4426, 8625, 8154, 14890, 19754, 19650, 16577, 19853, 12146, 4103, 5373, 9884, 8607, 8740, 8731, 5330, 2735, 14069, 16607, 12118, 3222, 11793, 3338, 3081, 9390, 11324, 18267, 5254, 15849, 4903, 5567, 10942, 7268, 9079, 10202, 4913, 19474, 8067, 8074, 7958, 2505, 8251, 12581, 4935, 4769, 9330, 18456, 5559, 13799, 10897, 5539, 10904, 8723, 9983, 5533, 5555, 19248, 13804, 19790, 18349, 1546, 18458, 4745, 18550, 4625, 12984, 9783, 14818, 19508, 5306, 10704, 12046, 2679, 13976, 7038, 18776, 3155, 13134, 1647, 10014, 8242, 14526, 9111, 18765, 9213, 7556, 7936, 18087, 2628, 8364, 8454, 14923, 8530, 17986, 9219, 5268, 5532, 778, 14020, 18282, 14336, 9197, 1234, 6473, 12305, 18772, 14187, 16036, 5423, 17759, 6598, 2552, 9799, 18564, 6268, 3536, 15191, 10882, 5085, 6584, 18389, 4878, 1330, 5511, 10389, 12705, 8911, 9053, 3923, 6546, 4707, 17000, 9861, 13740, 8546, 6063, 6102, 9822, 12401, 4439, 12455, 3639, 16354, 9989, 9434, 2538, 6770, 16608, 10468, 5491, 1579, 1414, 13576, 1292, 2186, 4313, 9196, 1261, 12492, 10027, 1751, 9137, 4556, 1641, 14568, 14046, 2151, 13969, 3354, 14233, 14087, 10134, 4237, 12469, 12383, 13450, 2164, 14409, 4453, 12946, 18464, 12479, 5757, 5659, 8919, 12749, 3816, 1682, 3323, 14031, 14180, 14455, 13878, 5819, 4857, 18016, 8962, 4228, 12510, 18833, 12303, 15182, 8791, 2970, 5637, 14205, 14377, 14651, 14170, 9807, 4314, 8978, 3329, 4315, 12229, 1182, 10808, 3318, 15178, 15012, 17409, 18536, 14980, 16982, 4191, 14109, 3341, 14430, 13426, 5872, 12212, 10514, 2839, 1817, 9843, 13233, 10436, 14042, 18571, 14385, 8977, 3324, 5989, 18654, 18331, 3014, 14393, 10373, 13611, 4990, 10724, 14160, 8229, 9040, 5492, 18895, 8090, 8940, 3612, 19028, 18763, 7745, 8675, 5370, 11998, 17388, 19593, 8639, 17641, 6842, 17020, 18987, 5372, 18045, 8726, 2290, 9524, 12939, 13526, 8302, 7148, 5493, 16464, 16509, 8330, 4264, 15950, 10622, 12839, 15947, 10623, 17318, 10645, 19699, 5383, 14237, 19488, 2522, 11909, 3586, 13713, 9280, 8938, 14577, 12669, 16292, 16031, 16290, 3772, 15771, 16961, 14981, 8684, 5452, 8683, 16838, 2758, 17091, 16908, 11259, 17677, 15642, 12080, 8131, 9080, 17703, 10209, 4329, 4371, 4672, 17713, 4034, 4023, 11225, 7525, 15972, 2014, 9885, 16065, 14982, 8576, 18505, 14908, 8373, 12083, 1494, 2553, 14527, 1542, 9010, 9009, 10374, 13570, 4991, 5381, 13362, 16488, 10855, 13707, 9617, 5350, 6062, 5182, 2979, 17989, 4763, 11500, 8985, 18094, 5199, 4730, 19311, 12237, 9263, 6965, 8785, 8768, 7700, 9115, 9815, 13815, 17439, 11566, 14750, 19308, 18104, 4801, 1258, 15193, 2444, 12590, 5096, 11569, 12789, 15140, 6051, 4794, 2858, 14681, 17062, 4146, 1053, 18874, 18912, 6259, 14572, 18296, 9117, 14543, 4428, 1152, 1327, 19282, 11980, 11985, 11742, 3735, 11739, 3108, 2856, 2854, 11490, 3864, 15373, 8697, 10888, 17329, 3500, 3850, 8344, 19642, 16458, 19403, 11887, 7113, 12068, 5451, 2578, 15655, 5518, 8845, 3257, 19361, 2852, 16448, 3901, 1701, 15413, 14232, 3825, 18083, 9351, 11416, 16808, 9077, 13359, 2776, 19393, 18598, 8801, 17985, 12601, 4373, 6816, 18253, 8440, 9377, 9405, 18044, 1803, 19767, 1795, 4864, 4808, 10049, 1812, 1254, 5775, 18384, 12164, 15792, 5014, 11552, 6155, 18295, 1643, 2632, 19316, 13791, 17438, 16592, 2126, 13162, 13160, 6753, 13177, 1961, 10048, 5895, 10377, 12571, 1229, 18940, 3356, 9198, 8854, 541, 3606, 19378, 14206, 12959, 19678, 14993, 11011, 11009, 14830, 15900, 1762, 1187, 4748, 2066, 18872, 2656, 15906, 9887, 8449, 5530, 1689, 10486, 14538, 14945, 5382, 14637, 8168, 19443, 12114, 11831, 12112, 8584, 19804, 12131, 15891, 14531, 1488, 10376, 7667, 18299, 3224, 9768, 10010, 13078, 9393, 10020, 13936, 13989, 13951, 13946, 6288, 4790, 7114, 1073, 1074, 19190, 2232, 9737, 9525, 9787, 1036, 8852, 1746, 3823, 9874, 8453, 11481, 9834, 3852, 8400, 11925, 12001, 8696, 10944, 9950, 11094, 6068, 11095, 4793, 18268, 7363, 6948, 7031, 4904, 2506, 5239, 12618, 19305, 18098, 4799, 9386, 5259, 18264, 19762, 9402, 709, 18294, 10006, 1794, 4486, 1667, 10641, 15626, 14476, 649, 10417, 793, 7222, 84, 14347, 2435, 14989, 16983, 6506, 528, 14095, 517, 9713, 5874, 19840, 10617, 2330, 902, 15975, 19187, 8402, 16107, 3265, 4526, 442, 10886, 9406, 491, 13837, 13850, 6138, 333, 403, 954, 14250, 3115, 14012, 291, 7370, 221, 16595, 1684, 140, 15133, 9607, 19758, 18277, 725, 14346, 2310, 836, 663, 838, 787, 896, 810, 5527, 633, 5896, 81, 623, 4642, 11911, 603, 11782, 12025, 666, 485, 867, 438, 10861, 950, 919, 165, 641, 474, 17222, 556, 201, 327, 96, 862, 176, 647, 694, 511, 1573, 443, 675, 19304, 972, 411, 7376, 956, 9399, 153, 62, 953, 868, 745, 166, 64, 845, 319, 744, 659, 636, 500, 17184, 973, 577, 214, 11017, 522, 573, 19309, 226, 408, 19284, 796, 493, 249, 15684, 5265, 5206, 18084, 8805, 8073, 8080, 5222, 13646, 16273, 10217, 5210, 10260, 17244, 1856, 16549, 7049, 14548, 5070, 5090, 5089, 13830, 13966, 6568, 13807, 13808, 11775, 13828, 13832, 5065, 6496, 16231, 15016, 15019, 14799, 14801, 8246, 8247, 14885, 14887, 14902, 5253, 14537, 8780, 13643, 13288, 6939, 13313, 10214, 7934, 1996, 4931, 1997, 6315, 10030, 1201, 8752, 987, 1202, 10188, 10167, 13258, 12302, 10252, 12299, 15062, 1668, 1114, 6771, 13681, 12505, 15168, 4643, 19831, 4737, 1611, 1615, 9193, 13687, 9690, 9718, 10756, 19138, 2086, 6908, 5288, 4879, 1764, 1760, 19816, 15094, 4080, 10466, 5714, 4619, 13102, 13632, 2859, 12937, 12445, 15582, 14668, 17394, 10177, 17728, 5467, 10844, 8895, 2030, 5084, 18926, 6469, 6470, 6320, 10463, 13436, 10274, 2022, 12304, 12944, 18562, 1301, 9784, 3841, 16437, 8387, 11740, 11746, 15875, 8279, 8134, 11812, 11821, 6711, 2860, 14753, 2885, 1062, 3715, 3591, 10495, 2557, 3951, 16581, 7974, 6607, 14253, 17637, 17638, 3898, 8418, 19469, 19643, 17669, 16199, 17775, 11146, 3733, 5395, 13217, 19404, 5502, 11818, 8578, 16805, 14892, 14891, 19475, 18360, 19626, 19617, 19492, 5319, 16513, 7348, 10838, 17863, 19860, 4102, 12079, 8826, 10842, 9757, 9883, 19499, 2649, 5445, 5490, 10661, 18436, 3327, 16605, 12143, 6054, 8506, 3997, 5667, 11397, 16019, 8079, 3513, 7585, 10012, 9398, 2031, 8068, 9319, 6993, 13315, 10216, 13627, 10551, 8818, 19484, 19514, 19607, 2497, 8796, 2631, 9300, 2504, 2526, 18092, 14920, 9142, 1408, 1493, 7559, 9775, 9988, 5537, 19832, 19776, 19271, 1681, 18298, 18300, 4440, 7538, 9143, 7421, 1514, 9048, 15096, 9045, 5973, 9979, 18894, 8493, 6758, 4902, 12645, 2347, 12665, 2343, 3236, 3315, 18472, 6241, 1241, 6322, 6691, 13696, 19811, 8858, 18496, 18114, 13346, 8252, 15045, 14898, 14763, 19410, 2532, 19660, 4436, 7423, 2200, 9215, 9295, 19760, 19763, 19748, 5528, 8626, 1784, 8467, 8624, 1736, 5513, 516, 6476, 1796, 4863, 18554, 18687, 13605, 6544, 1399, 10638, 15123, 18688, 1832, 19207, 12891, 19113, 12890, 2044, 1296, 1326, 2184, 6519, 1136, 10654, 9710, 18671, 1239, 5136, 9444, 5300, 5092, 5437, 6782, 13994, 13882, 13953, 14827, 16781, 14943, 3029, 13497, 2942, 6551, 4993, 14761, 14699, 16422, 15018, 14646, 1162, 16583, 3882, 17760, 15838, 5851, 6395, 6635, 6409, 6597, 14251, 5311, 4853, 10321, 19521, 5475, 12755, 19122, 4579, 9774, 14551, 4484, 3883, 5355, 4869, 14883, 3363, 13769, 4659, 13000, 14969, 14131, 14825, 11419, 6169, 11421, 12291, 16769, 1400, 2627, 5960, 3897, 15195, 6791, 9786, 9902, 5212, 10469, 10827, 10067, 18150, 13386, 10576, 1059, 3865, 1303, 2441, 4159, 5877, 19332, 13609, 9360, 13277, 4698, 9535, 1625, 17734, 2496, 12516, 5959, 17435, 6127, 9911, 13161, 13266, 12710, 10819, 10510, 4009, 10828, 16606, 12756, 12708, 15911, 2260, 9709, 15304, 6819, 10831, 4071, 9453, 18897, 10073, 6363, 2534, 17064, 1293, 1798, 6253, 4859, 1860, 14596, 19120, 13121, 2368, 18283, 9720, 5446, 18822, 6667, 2191, 1557, 10336, 10155, 4188, 10428, 4955, 4850, 4954, 3336, 12957, 6587, 3334, 14105, 3330, 4481, 4839, 14091, 10584, 10309, 13453, 12930, 12497, 10384, 9185, 14934, 10313, 4539, 10429, 10143, 4922, 4944, 5091, 3217, 6594, 4943, 4161, 5073, 14127, 10327, 10256, 13455, 13408, 12384, 5653, 9819, 19582, 9682, 9096, 8097, 8098, 8918, 3479, 2052, 3071, 17208, 3070, 17336, 13124, 2963, 3024, 12687, 9465, 13194, 13467, 18567, 3688, 2174, 2207, 18566, 19655, 3444, 14779, 1246, 10273, 4246, 4252, 10460, 14582, 18675, 4928, 9560, 6396, 6530, 12950, 9773, 3518, 14107, 9177, 6455, 10358, 10312, 18454, 13407, 13471, 13415, 13487, 13691, 10711, 9574, 10270, 9099, 9684, 10328, 8100, 8089, 9037, 3621, 8760, 17206, 3069, 2840, 10086, 15745, 12900, 12981, 2976, 13189, 13192, 3702, 13582, 10341, 1859, 1654, 5194, 19231, 14671, 1387, 19574, 19580, 19573, 13063, 19331, 9817, 15034, 1245, 10275, 10130, 9795, 14580, 14579, 14447, 8969, 9559, 6391, 6574, 12784, 14139, 12945, 4846, 10357, 10585, 13460, 13454, 2771, 12952, 4662, 4660, 17841, 13550, 11527, 6422, 5617, 11414, 10338, 4651, 4640, 4649, 10139, 5087, 4949, 6531, 14231, 4945, 3163, 4471, 4856, 6143, 9699, 9701, 13459, 12928, 13182, 5654, 10276, 9681, 8087, 7992, 2966, 17207, 17204, 2877, 10291, 8925, 3065, 12688, 9893, 15506, 3416, 13466, 13191, 13008, 19575, 19576, 13060, 13578, 4245, 10427, 10154, 10452, 18340, 5079, 6588, 3218, 6392, 12779, 12698, 14063, 4205, 4470, 18457, 10331, 10355, 13429, 13469, 13406, 5185, 9638, 9641, 19505, 19502, 9639, 8894, 9195, 11767, 4916, 7935, 5480, 4924, 2176, 19397, 3572, 9283, 8078, 6390, 19198, 2029, 9027, 9125, 10224, 7565, 7693, 2025, 9020, 10262, 10225, 10227, 18426, 7818, 15926, 7650, 9540, 18168, 19134, 10825, 9595, 18569, 18446, 8385, 18973, 19269, 10862, 8669, 7141, 9879, 16979, 11806, 7226, 11617, 7135, 4336, 15323, 17766, 15244, 13925, 19080, 11981, 10721, 8585, 18242, 1511, 7531, 16408, 9942, 15882, 18960, 13725, 16316, 9416, 7848, 19631, 8003, 17768, 1432, 18171, 7997, 3960, 3961, 8602, 19519, 4387, 19518, 13328, 9657, 9521, 18346, 8623, 9971, 9982, 9090, 18768, 1430, 18417, 7829, 8872, 19595, 7438, 14051, 18369, 9161, 7819, 4981, 8228, 5498, 11926, 1526, 4514, 8071, 1988, 5984, 18040, 9454, 9756, 13173, 19004, 10226, 7564, 10230, 10457, 3310, 11661, 8333, 3428, 14428, 7748, 9880, 12074, 11823, 11733, 10554, 18443, 16803, 8166, 7773, 11829, 9479, 8240, 11916, 12137, 7823, 4734, 5450, 12136, 9664, 12085, 8504, 6204, 3148, 4692, 10153, 19560, 4689, 4461, 10846, 14218, 4988, 7661, 1365, 3270, 1366, 18666, 3955, 16903, 10208, 4688, 4326, 4738, 11748, 9868, 18825, 15424, 3787, 7526, 19629, 19517, 19547, 7334, 14905, 9894, 14598, 2750, 10677, 10671, 10237, 2498, 2072, 10054, 7546, 2011, 8887, 7402, 7401, 7555, 7550, 7547, 6032, 6031, 5190, 9108, 8972, 8992, 11794, 8204, 12858, 14880, 8213, 2624, 5481, 3936, 9561, 8997, 8995, 6401, 3559, 10379, 5187, 9325, 8971, 9522, 15690, 10099, 10094, 6459, 11932, 10497, 1582, 6466, 6458, 6430, 1262, 2093, 11243, 17992, 11250, 14407, 9307, 9306, 18024, 9820, 8767, 17974, 9346, 19024, 9963, 9539, 18233, 9211, 10176, 19014, 2035, 8897, 2089, 12731, 16902, 8184, 2049, 8856, 9385, 14567, 13831, 13880, 6642, 16225, 13825, 13980, 6591, 6438, 16460, 13839, 13840, 19005, 10579, 7081, 7552, 1026, 2187, 1001, 989, 13257, 6323, 1066, 13255, 1205, 13120, 8870, 18285, 17090, 10694, 9192, 1289, 19827, 1616, 2734, 18551, 9779, 1763, 1765, 13046, 14503, 19144, 17892, 12352, 12351, 15916, 9411, 12458, 5035, 10797, 10799, 1005, 4764, 18866, 1144, 1227, 14186, 9889, 11318, 19145, 10502, 10062, 19045, 11912, 15894, 2798, 3049, 2946, 2951, 6708, 2884, 11501, 3258, 17331, 15575, 5025, 5062, 10787, 11913, 16312, 7199, 19447, 19857, 2579, 13773, 12294, 9474, 9918, 3345, 6211, 15608, 6033, 7711, 15467, 16613, 8503, 1548, 6067, 11305, 11327, 18156, 18035, 8236, 13645, 9308, 11119, 11120, 7100, 6991, 16700, 8800, 8848, 9066, 8793, 2521, 9038, 9165, 19413, 9163, 9151, 1538, 4733, 19852, 9337, 5305, 5978, 13803, 5560, 19834, 4759, 18869, 2293, 7515, 14927, 1688, 13714, 1626, 1744, 3595, 4180, 18333, 12638, 13606, 9034, 7380, 12960, 9309, 9297, 9043, 19757, 1554, 1552, 1551, 1735, 5501, 9408, 14541, 1259, 8797, 10022, 14540, 10642, 18544, 13181, 18380, 18273, 10443, 14593, 10003, 1085, 1287, 4531, 12192, 3826, 4923, 3729, 17616, 6864, 3189, 3364, 5826, 17076, 3357, 4658, 6420, 6425, 19382, 10625, 14888, 14398, 18491, 14975, 15457, 15456, 2125, 5042, 13475, 12446, 5409, 13784, 14546, 6055, 15813, 2658, 4335, 2165, 10545, 10540, 1397, 13670, 15177, 17859, 6882, 9582, 13398, 2159, 6558, 10122, 16551, 19830, 13037, 6369, 2774, 16619, 14374, 10079, 16457, 5903, 12311, 10651, 5354, 9201, 12392, 10885, 1228, 13754, 9445, 19160, 3083, 4232, 2150, 4225, 18470, 3545, 13581, 1159, 2610, 14444, 4641, 4645, 9531, 3344, 3346, 14090, 9939, 13234, 19604, 2615, 1336, 9057, 9589, 18076, 9225, 10248, 19577, 18781, 14932, 14039, 1819, 14361, 15159, 8086, 8773, 9127, 9226, 9128, 9673, 3068, 12631, 12714, 9113, 4732, 4452, 3156, 9511, 6289, 3583, 4283, 3463, 3464, 4548, 4650, 4535, 3351, 3809, 18826, 9808, 2418, 9813, 8789, 8099, 1188, 12632, 1861, 19215, 12715, 15050, 14175, 18332, 4046, 1539, 13316, 2490, 7569, 8557, 12822, 14554, 10702, 11474, 3557, 17317, 8603, 8563, 2954, 8319, 18006, 11817, 8672, 6870, 8725, 5552, 19212, 7846, 8308, 7350, 10624, 4403, 19596, 10606, 4574, 8871, 10172, 14787, 10728, 12181, 12195, 10279, 18352, 15547, 8304, 9857, 8284, 7195, 16985, 8572, 14904, 16505, 19491, 8541, 16561, 18612, 19562, 15434, 18338, 19528, 15629, 17319, 10780, 15596, 8323, 12076, 11819, 8685, 8565, 2027, 13356, 18467, 14879, 9132, 2491, 7941, 8939, 3152, 3212, 18142, 9615, 2613, 12567, 11251, 9616, 19267, 10791, 18022, 9394, 14523, 8991, 7224, 4779, 10926, 12675, 9625, 2324, 9801, 19142, 14561, 14494, 13947, 14006, 14437, 9934, 9293, 9317, 7234, 4802, 1029, 17750, 6053, 15492, 14188, 1286, 13057, 16434, 3765, 1380, 9695, 4077, 18840, 14994, 18200, 5473, 19446, 9558, 8084, 12922, 8741, 17862, 2863, 11897, 3201, 7524, 3728, 3821, 18484, 8988, 19002, 7225, 12794, 7273, 4729, 13289, 12736, 1035, 7951, 4994, 8822, 19844, 13101, 9545, 14917, 9314, 9315, 19206, 19745, 8367, 18279, 8366, 5277, 377, 12396, 1745, 5646, 1830, 14340, 1747, 12954, 5251, 10419, 14209, 13143, 6257, 18494, 15819, 14289, 19244, 2217, 10875, 13668, 9423, 12867, 6604, 17079, 12398, 7894, 9200, 12624, 4454, 1130, 18787, 9187, 9135, 9147, 1962, 14049, 18884, 9186, 6746, 18077, 10515, 5788, 1818, 14360, 11012, 17857, 14990, 8765, 10265, 10249, 10411, 4547, 1828, 8908, 4490, 2024, 18701, 2548, 17747, 13050, 15923, 4510, 5348, 9311, 2271, 14597, 8156, 14714, 8582, 19557, 15571, 15649, 13059, 16108, 19143, 18610, 8653, 19654, 10536, 3811, 8288, 9484, 14712, 10246, 9379, 16439, 14057, 5041, 2098, 18364, 14456, 9668, 4415, 4617, 9608, 13960, 17419, 7021, 18898, 14382, 4657, 10965, 1267, 18918, 4781, 18232, 9380, 18823, 11025, 8851, 3486, 15356, 15418, 14011, 12002, 12147, 12148, 12159, 19821, 14208, 16596, 12811, 4792, 12795, 9003, 7675, 6298, 18619, 1755, 9310, 5264, 8708, 19746, 9381, 1686, 6520, 3326, 548, 4488, 15119, 3462, 278, 2309, 8522, 10306, 12752, 15091, 1183, 4051, 380, 15095, 401, 4084, 9074, 18270, 514, 627, 95, 17191, 18271, 417, 236, 39, 7111, 272, 345, 572, 529, 8437, 18254, 1644, 632, 321, 243, 705, 820, 600, 878, 14400, 163, 535, 904, 622, 18255, 77, 639, 932, 821, 512, 10018, 4684, 8956, 959, 3855, 205, 228, 933, 976, 5876, 5901, 874, 924, 15134, 487, 391, 267, 545, 320, 82, 453, 276, 856, 36, 300, 429, 318, 19, 433, 125, 747, 158, 16861, 14924, 9101, 13927, 9419, 9438, 14515, 14024, 14648, 14356, 14557, 9266, 9106, 9422, 9653, 12887, 9189, 1256, 1191, 14665, 18802, 17138, 4347, 16894, 4348, 1697, 9593, 7162, 15225, 1338, 17463, 18929, 2685, 13607, 13171, 10739, 9171, 9766, 2903, 2133, 2300, 1855, 2296, 2303, 9092, 6398, 6406, 6386, 6460, 6421, 11975, 2944, 2788, 2794, 2785, 6371, 19535, 6377, 6403, 2792, 6373, 12879, 5578, 2402, 8153, 11809, 2403, 11704, 11905, 8774, 1119, 5142, 4534, 18577, 10128, 4138, 4542, 6333, 12370, 4562, 12538, 2451, 13535, 7117, 1348, 1077, 10205, 15601, 15551, 12476, 12357, 9141, 8876, 9631, 9205, 9802, 14169, 14664, 14539, 9267, 9827, 9633, 12904, 14265, 14191, 14023, 14151, 19209, 16891, 16892, 4343, 16895, 1483, 18002, 15826, 16051, 13150, 1110, 19340, 19346, 2587, 10738, 9082, 1867, 2132, 1376, 2299, 2305, 4467, 6673, 6387, 12342, 3203, 3213, 6537, 2873, 2815, 2784, 2814, 19536, 3277, 6379, 6372, 2810, 6374, 9515, 1602, 11899, 14620, 13278, 1108, 11898, 5570, 12527, 8216, 13553, 10421, 12881, 6082, 10078, 6364, 12246, 5732, 18600, 2825, 8937, 8934, 3245, 3508, 8941, 8031, 10300, 7730, 7713, 8030, 16323, 11851, 11529, 9473, 19366, 19367, 10618, 3795, 3830, 19352, 10088, 10264, 15299, 5718, 5690, 5704, 10301, 1491, 2827, 3250, 9483, 7539, 7719, 11353, 3263, 18010, 2986, 7943, 8505, 15728, 13064, 18391, 11634, 16754, 5430, 6690, 14562, 5991, 13937, 12200, 2930, 1266, 15329, 4915, 10932, 11783, 1021, 8534, 16630, 13560, 6857, 12560, 17646, 14702, 17413, 12994, 17137, 17502, 11427, 16986, 6815, 16702, 16308, 4127, 2822, 16181, 10845, 2808, 10960, 13977, 12193, 6929, 6924, 8677, 15207, 16463, 10072, 18021, 4122, 14998, 12182, 16646, 12170, 1220, 1463, 9122, 14022, 1190, 14254, 14667, 14935, 10674, 9647, 9425, 1920, 5647, 5640, 5651, 6672, 6454, 3200, 6468, 6407, 6536, 19123, 2811, 6402, 3391, 6376, 2812, 2803, 6404, 10081, 2395, 11804, 14624, 13135, 5825, 2362, 11705, 13261, 13476, 13254, 13049, 19341, 8806, 13029, 17779, 13776, 15141, 19526, 14949, 9459, 9102, 7466, 14459, 12331, 6868, 5658, 19808, 19181, 14183, 9457, 10760, 9579, 9578, 9689, 14586, 12651, 13425, 15049, 12915, 2161, 1646, 12916, 14406, 18915, 19252, 10692, 4120, 14814, 4244, 5431, 9062, 14280, 15592, 15565, 15593, 16010, 2381, 10474, 14691, 1459, 9420, 15606, 2606, 14545, 6114, 9649, 2824, 2789, 16555, 2878, 2634, 15160, 9790, 1631, 9100, 4147, 14492, 1055, 9421, 9632, 9105, 14032, 35, 14563, 12898, 6019, 13540, 14670, 14682, 6020, 13268, 7800, 17024, 3680, 6666, 13023, 4814, 16393, 8636, 3498, 15859, 9901, 2039, 14657, 16011, 13650, 9978, 2070, 14379, 12644, 14958, 14959, 19602, 19603, 6134, 10161, 6361, 10288, 5793, 1549, 10289, 2536, 10212, 4450, 5497, 5366, 5471, 2528, 5359, 18088, 8554, 5346, 5472, 14241, 5401, 12196, 12272, 1607, 10810, 9139, 10041, 5028, 19048, 2080, 13336, 2472, 10158, 4974, 7665, 8885, 2642, 10085, 10521, 10506, 10493, 10092, 10505, 1359, 10850, 18651, 10689, 18180, 16552, 15317, 16162, 16278, 14777, 11709, 10472, 10459, 10280, 10458, 10470, 11903, 12055, 12092, 1156, 6853, 4975, 2473, 12777, 5046, 14365, 9903, 2778, 14607, 17023, 6125, 13168, 2544, 2563, 2597, 6892, 13633, 13283, 13752, 6861, 17876, 13211, 4035, 6749, 10727, 18106, 4930, 16226, 18108, 4239, 7227, 18170, 13298, 5345, 13655, 8460, 5347, 16490, 17741, 12911, 16022, 10149, 13299, 8678, 10703, 13698, 13771, 13311, 10583, 13309, 16328, 18112, 5167, 6355, 6543, 5387, 8239, 5531, 14957, 14766, 5049, 13498, 5144, 6358, 6356, 16915, 2105, 17417, 2130, 16914, 12634, 10070, 13146, 13148, 14754, 14918, 13428, 2230, 14909, 19323, 5650, 15053, 14812, 10690, 4261, 6658, 2404, 1063, 2113, 5789, 2366, 14968, 13551, 16919, 2175, 17408, 4966, 2145, 12307, 13598, 19653, 15397, 2655, 2636, 3927, 2507, 2508, 19439, 2523, 2527, 2375, 5478, 5369, 18096, 8462, 5360, 5365, 2565, 5412, 12440, 8592, 8458, 8457, 1532, 13175, 10719, 18495, 10852, 18499, 10857, 10865, 9335, 13705, 7241, 13704, 13697, 13592, 7314, 10170, 4951, 12772, 12987, 13375, 1918, 13117, 6726, 6738, 6812, 984, 13205, 13528, 17898, 16658, 17875, 17899, 13522, 11950, 11610, 6814, 6764, 6774, 6852, 5137, 12897, 2462, 13871, 6408, 10136, 4364, 10691, 10714, 10066, 10043, 4260, 10713, 4256, 10132, 10851, 10060, 10222, 4362, 10849, 10696, 5298, 19387, 10189, 4827, 19017, 15785, 1814, 9904, 1804, 3429, 994, 1048, 1049, 1789, 5909, 985, 4167, 12746, 5641, 4881, 5045, 4100, 10174, 17359, 12257, 13411, 10478, 17402, 2361, 19851, 3992, 5429, 17620, 4004, 4010, 14800, 14798, 1738, 1740, 1739, 18381, 9530, 2298, 2304, 18780, 10449, 17354, 10089, 13178, 14953, 17793, 2391, 6208, 15088, 17692, 14950, 6248, 10348, 16033, 16335, 16410, 13242, 9863, 10299, 9472, 6451, 3255, 3427, 1834, 3810, 19084, 19402, 19456, 16338, 2643, 3940, 3645, 16350, 11943, 11813, 7567, 11940, 7945, 8266, 2015, 16363, 16204, 16330, 16196, 19525, 19380, 19510, 3643, 2440, 16346, 16197, 10541, 11731, 16165, 11713, 8280, 15477, 15776, 11937, 11136, 10110, 3759, 11811, 3641, 9642, 8802, 15311, 6035, 13397, 13380, 9164, 4360, 2394, 2359, 1146, 5913, 13009, 4318, 12691, 1833, 6432, 5778, 4885, 5643, 8970, 14560, 4603, 4894, 2054, 13219, 19489, 13216, 1934, 10065, 14939, 9796, 6538, 6681, 5146, 13910, 3737, 6381, 4281, 11752, 16449, 16397, 15816, 16239, 16026, 16240, 16793, 15020, 6332, 6343, 13241, 14933, 9804, 13207, 4550, 6541, 3699, 13184, 14129, 6413, 4891, 5995, 1145, 13043, 5740, 5215, 14850, 2466, 10453, 2377, 1412, 18662, 6484, 10745, 9652, 9650, 18286, 6083, 10296, 10509, 16336, 13245, 9882, 9492, 6335, 3271, 3799, 3522, 3817, 18684, 16035, 2421, 3942, 10121, 10117, 3750, 1952, 10546, 11822, 16287, 17256, 10120, 19523, 19371, 16198, 8157, 10508, 12232, 15552, 6038, 13451, 13378, 13360, 4171, 2364, 5917, 1140, 12743, 4321, 2973, 2123, 2134, 6439, 5649, 12778, 14574, 9800, 4890, 6682, 13586, 3711, 6586, 16450, 15806, 5108, 5111, 6338, 6670, 19154, 6342, 3698, 13183, 6147, 6525, 4889, 5996, 1128, 1815, 1298, 13044, 5672, 19586, 14768, 5439, 12334, 2681, 1361, 2680, 2674, 12415, 9050, 10742, 12641, 13896, 2053, 18202, 5180, 14769, 14770, 14838, 14846, 14845, 6170, 10258, 4532, 4185, 9081, 1543, 4482, 9567, 2203, 14919, 14922, 9429, 14840, 14839, 5703, 10050, 13593, 13318, 13304, 19543, 19373, 19372, 19534, 19360, 19357, 3981, 3982, 3890, 3919, 3921, 14855, 5458, 14145, 10695, 10701, 10767, 10775, 4566, 19777, 19779, 19795, 13314, 7954, 2068, 2058, 1976, 9452, 2067, 2048, 1980, 10604, 5179, 10598, 10362, 8395, 5488, 5367, 5397, 5388, 5422, 5424, 19662, 9131, 13325, 13590, 13319, 13330, 8214, 7498, 19374, 19359, 19358, 19365, 18532, 11657, 3889, 3920, 3918, 3926, 2874, 3983, 14144, 10812, 10768, 10693, 10805, 10779, 19780, 19837, 19781, 10718, 13287, 13326, 5205, 2047, 2196, 4208, 10364, 5191, 5189, 10599, 5477, 5428, 2575, 2308, 2311, 5216, 5910, 5908, 9413, 5779, 14547, 4101, 10175, 10560, 13545, 15000, 12556, 2390, 2114, 5336, 5998, 17765, 3907, 15038, 1360, 1340, 5701, 9518, 9184, 1911, 2301, 2297, 4886, 7092, 17353, 2987, 3028, 14942, 17517, 2363, 16250, 14847, 4569, 14951, 2414, 6247, 6093, 1835, 10095, 16320, 16337, 10297, 3512, 6030, 3253, 3166, 14027, 3521, 19086, 19411, 19445, 16412, 2564, 3869, 3492, 15425, 3215, 16301, 15479, 17300, 2439, 15544, 7455, 15944, 8117, 10111, 2915, 12218, 4825, 13457, 13420, 13392, 4355, 1095, 2392, 9508, 1447, 9414, 14384, 9204, 18852, 14442, 9468, 6100, 4882, 2129, 5645, 5720, 10151, 9104, 17401, 4895, 5741, 14773, 14449, 17255, 4320, 2943, 16451, 16222, 5112, 5833, 16183, 16420, 1750, 10052, 9818, 17358, 3719, 13492, 10108, 5201, 4805, 1924, 1148, 19131, 13584, 14856, 2620, 2376, 1470, 14116, 6804, 10772, 10783, 14759, 13176, 13166, 19347, 13169, 13165, 2550, 2625, 2384, 5375, 5433, 6798, 2626, 2385, 19337, 13158, 15002, 10068, 19338, 19339, 19336, 14757, 10659, 1752, 10462, 1578, 14583, 13005, 2169, 13215, 2549, 17742, 17254, 10046, 9458, 1409, 14590, 12643, 14025, 10423, 2604, 5443, 11603, 14584, 2109, 15157, 17537, 3976, 12066, 17264, 6174, 15149, 6368, 6906, 2753, 12874, 3399, 3317, 17217, 12864, 3066, 16322, 1352, 5317, 8257, 19470, 2275, 13424, 10516, 8238, 5060, 9491, 7422, 7909, 1345, 8173, 7078, 14077, 14164, 9503, 18783, 6583, 11711, 15945, 16319, 9645, 15549, 12842, 12873, 12129, 11472, 8054, 7619, 16771, 12244, 16699, 3030, 3025, 6043, 17233, 12105, 13728, 15148, 6897, 10798, 13793, 12790, 6128, 11362, 1919, 14559, 10413, 9793, 2608, 6671, 12653, 18377, 12414, 2167, 14962, 13262, 17252, 6869, 2652, 19622, 3260, 17224, 13770, 15051, 4969, 14199, 6331, 2279, 5148, 10056, 13504, 2208, 1989, 12781, 1677, 18969, 10987, 17118, 4456, 9217, 14448, 18908, 14423, 3320, 4851, 9059, 3084, 18970, 4174, 9055, 2386, 9852, 9433, 5951, 5946, 10266, 7340, 18954, 5674, 8901, 7942, 15475, 8384, 3594, 16015, 8262, 1706, 7223, 12820, 14555, 8754, 8777, 8776, 10223, 10320, 10228, 1506, 18980, 14182, 17071, 6258, 12700, 4533, 3089, 19093, 18000, 1112, 1562, 9412, 12962, 1353, 15093, 6736, 1932, 14482, 10558, 4655, 6433, 4896, 14858, 14578, 10455, 10242, 2083, 6417, 13157, 13502, 2199, 10051, 16396, 13473, 14052, 18231, 10231, 8085, 2179, 1900, 1106, 1820, 1930, 1291, 13140, 13369, 4892, 10595, 13579, 5486, 5479, 5351, 5282, 14466, 14465, 10664, 3353, 16186, 2678, 5869, 9255, 1821, 6028, 9897, 9727, 14760, 4632, 6130, 14851, 4630, 2585, 2540, 13267, 17277, 17339, 19126, 4810, 12786, 19151, 14553, 5426, 13370, 15969, 11599, 9856, 15914, 17364, 19771, 2723, 14394, 9760, 2411, 13240, 6255, 1674, 4755, 18932, 19166, 18788, 2748, 9987, 18941, 14550, 18906, 13249, 14453, 5052, 18909, 4631, 5871, 15186, 5796, 18379, 18375, 15137, 2718, 10892, 13928, 10343, 10636, 10771, 10744, 3604, 6226, 17094, 13585, 6688, 6739, 13930, 2920, 1069, 6341, 17429, 12361, 18159, 4383, 8808, 17466, 15833, 1958, 13116, 13931, 1866, 12410, 2919, 2416, 4145, 5926, 16901, 5038, 2983, 8032, 4026, 8273, 15992, 2985, 19384, 3533, 3647, 15727, 15250, 11614, 6493, 17720, 18534, 11080, 5313, 5432, 13210, 9529, 14439, 8651, 6786, 6779, 16824, 6655, 5739, 2562, 2460, 6657, 6080, 6507, 12271, 14622, 13198, 8610, 6986, 16223, 16461, 12621, 12186, 1015, 1222, 12172, 14532, 7558, 14026, 10483, 18917, 2793, 18789, 6559, 15394, 19121, 9791, 1455, 14963, 8864, 7246, 15185, 1645, 2227, 1824, 1388, 16576, 13662, 2755, 4502, 14246, 6353, 8813, 1567, 10778, 1263, 5922, 6336, 14611, 6123, 1090, 6101, 9891, 1260, 5921, 5677, 4394, 18032, 9571, 16997, 12978, 6013, 9749, 9191, 12281, 1283, 15750, 7259, 2918, 10490, 18005, 1173, 16193, 10369, 1998, 15401, 3047, 1695, 9693, 14034, 14592, 6477, 10171, 1560, 19201, 6360, 4586, 2152, 1333, 13251, 4150, 14467, 1576, 18646, 9327, 2170, 18359, 10253, 4986, 4832, 4458, 5211, 2601, 5399, 6687, 9119, 1203, 6918, 5219, 12268, 6337, 10569, 1169, 4503, 2280, 19118, 2405, 7948, 9067, 15747, 8286, 10119, 3269, 7240, 16553, 15249, 14604, 4151, 11403, 4276, 14974, 11727, 3036, 3039, 18382, 12637, 17107, 1507, 15936, 4541, 14573, 4706, 1788, 1966, 6862, 13556, 8593, 18197, 5059, 9753, 6103, 18604, 18962, 19452, 13338, 18356, 18398, 18430, 2131, 15734, 6517, 12936, 17858, 12663, 13209, 16698, 2023, 1829, 1192, 2033, 14534, 4173, 4258, 4288, 996, 4259, 11360, 1653, 12362, 12841, 9543, 7497, 18959, 12438, 8375, 16382, 15305, 2246, 5371, 4932, 17724, 12372, 4844, 7495, 13201, 1081, 2573, 2572, 8475, 18240, 18493, 5374, 7310, 13775, 18154, 7001, 7230, 7136, 13017, 18415, 8276, 5044, 2124, 9814, 12870, 14053, 13174, 6318, 6316, 6005, 1673, 13693, 13761, 17443, 5721, 5696, 12243, 17644, 14245, 13973, 12748, 18078, 10619, 5302, 9428, 14662, 18012, 5494, 9415, 9447, 14386, 10740, 19420, 9516, 9513, 17421, 6122, 1940, 1936, 1863, 2189, 17456, 5928, 18805, 18913, 14383, 15937, 16057, 12288, 5889, 5911, 9435, 8786, 2127, 1436, 10182, 3925, 6599, 5122, 5997, 9651, 4307, 14178, 5689, 6966, 9510, 6325, 16247, 6232, 12336, 2787, 3141, 3801, 18998, 3046, 10494, 6399, 11933, 7795, 3273, 7731, 2911, 13152, 1099, 8882, 1078, 4712, 12313, 18886, 3734, 13978, 5835, 16791, 13905, 14849, 2684, 2387, 2683, 6573, 9140, 10473, 5868, 8751, 6246, 2791, 3140, 10303, 19497, 3378, 9577, 11942, 10538, 8297, 15474, 16220, 16331, 11712, 15478, 11132, 3642, 12230, 17395, 17266, 1094, 9507, 17398, 4626, 13908, 15803, 16421, 15017, 14642, 10435, 9634, 1384, 19422, 1135, 8814, 9299, 4508, 8968, 4506, 8953, 9767, 18195, 9430, 19116, 1569, 9630, 5661, 14552, 4187, 9780, 14197, 14172, 8889, 9061, 12215, 9648, 1257, 1391, 5663, 5968, 6007, 1848, 1237, 18773, 8877, 7660, 13040, 7319, 7320, 19082, 11155, 11276, 16201, 5727, 5725, 5722, 3710, 6412, 17795, 2875, 3740, 3359, 10164, 4561, 16510, 19824, 13612, 6981, 12791, 10178, 14513, 9585, 14505, 6989, 4275, 1120, 4186, 4220, 4384, 9769, 8095, 1198, 13971, 18089, 9538, 19013, 7393, 4507, 5012, 14260, 14610, 5208, 4970, 18984, 7229, 19095, 11506, 11163, 19085, 3301, 3724, 5671, 3573, 3221, 10146, 4638, 16484, 19796, 10723, 19825, 8674, 7233, 8179, 9590, 7097, 9583, 9584, 9798, 8867, 14247, 18030, 4536, 9928, 9088, 9087, 19040, 11768, 11895, 14626, 11769, 11564, 10593, 8105, 8094, 18355, 10186, 5920, 1151, 8865, 2128, 1435, 13939, 10561, 6328, 1224, 6799, 6203, 18288, 9176, 4172, 14674, 1437, 10451, 1232, 6236, 10302, 2892, 13246, 3259, 16300, 3254, 19511, 16387, 3634, 12227, 10562, 17357, 6508, 6319, 12684, 1853, 1355, 1084, 10448, 3712, 14641, 1630, 14229, 2468, 19568, 14786, 8902, 1383, 14370, 2051, 9404, 12459, 13530, 13142, 13279, 4752, 17365, 1862, 4553, 18289, 4716, 13153, 18481, 11587, 9477, 9964, 18353, 4762, 3792, 16916, 5138, 12967, 1639, 7500, 1729, 16562, 3280, 14589, 9920, 18682, 10370, 13377, 2582, 13282, 18888, 1847, 1300, 10199, 18950, 18228, 7337, 7003, 18113, 14270, 18105, 16045, 2276, 12866, 12346, 12585, 10910, 8756, 9602, 9085, 9840, 17289, 12403, 9094, 7612, 1405, 14854, 1955, 9855, 12997, 1103, 1385, 10057, 13596, 10611, 19177, 7344, 1895, 18284, 14601, 10859, 17751, 14636, 15701, 14036, 5032, 5363, 13280, 14460, 15033, 13759, 2057, 13689, 1395, 14363, 5487, 2676, 14405, 15139, 5687, 10903, 14729, 6201, 2147, 13610, 6050, 10420, 12219, 4477, 4118, 4119, 1346, 16208, 9674, 15504, 19370, 8348, 8331, 4982, 13272, 1909, 9400, 16151, 18146, 2664, 2463, 19330, 2757, 10475, 8753, 5916, 15830, 12628, 17141, 1171, 15599, 14752, 9892, 2118, 5853, 6099, 14045, 4346, 12910, 14262, 15602, 10087, 11480, 1636, 14961, 14587, 18775, 9816, 9751, 13047, 4198, 12470, 4153, 18287, 18939, 4233, 7397, 11457, 17928, 2000, 18839, 7561, 1599, 11196, 4602, 4557, 9734, 18971, 9336, 13565, 13310, 1908, 6365, 10657, 6723, 11763, 12366, 17251, 1442, 8866, 9208, 17397, 1368, 14234, 14312, 18363, 9006, 10748, 13614, 8393, 12657, 15011, 4248, 14716, 16799, 5754, 6351, 18080, 2178, 4401, 9157, 14100, 9754, 2295, 12647, 16911, 1328, 9207, 14166, 5693, 1623, 5682, 4179, 1129, 5204, 7164, 4628, 16164, 12472, 12557, 14843, 4192, 5676, 10430, 3628, 12678, 15755, 19110, 11838, 1153, 16232, 14478, 14140, 10034, 14167, 4723, 13968, 12233, 9073, 14371, 9173, 5823, 18027, 4511, 13926, 9150, 3194, 12805, 7651, 12264, 18306, 14123, 8181, 9640, 13869, 19032, 12329, 12564, 11627, 3716, 5820, 3741, 12796, 7232, 12812, 14514, 19023, 18759, 8784, 5688, 5562, 1060, 12674, 15756, 18964, 10118, 14841, 14767, 1575, 17362, 15538, 1965, 10567, 2245, 5953, 19221, 17273, 6348, 14570, 18889, 4756, 15566, 17448, 14525, 18893, 7562, 19141, 13058, 10566, 10894, 10026, 30, 18631, 1253, 12224, 19566, 19564, 19565, 2228, 1270, 16770, 7695, 17044, 18607, 4996, 1042, 9353, 19356, 608, 13792, 12837, 6029, 2353, 2163, 1685, 18587, 2596, 9869, 4661, 5596, 2231, 4115, 7158, 2213, 4287, 12324, 12602, 288, 5780, 12667, 395, 16707, 859, 18343, 14490, 6944, 18485, 18350, 11516, 101, 240, 2356, 5938, 257, 312, 766, 779, 920, 634, 890, 430, 8843, 234, 864, 615, 256, 537, 735, 800, 792, 9669, 1233, 6196, 2904, 13867, 510, 409, 13938, 893, 337, 8766, 557, 12399, 5117, 371, 4292, 18079, 7160, 7163, 12283, 968, 805, 770, 473, 7328, 461, 14751, 849, 587, 405, 465, 63, 819, 519, 415, 359, 329, 9403, 855, 790, 33, 124, 160, 798, 303, 17915, 17929, 230, 375, 174, 1445, 1799, 192, 85, 699, 74, 860, 1040, 130, 361, 129, 40, 536, 248, 295, 373, 1323, 5625, 7576, 18511, 15512, 9842, 16277, 16406, 14874, 7783, 14690, 19695, 19694, 17805, 6936, 9829, 13921, 18212, 19686, 18213, 8573, 5314, 18116, 11879, 18209, 17921, 12251, 12249, 7283, 18625, 3313, 7793, 17535, 8681, 19089, 9333, 14569, 3484, 3502, 16063, 11367, 11161, 9259, 19227, 15973, 18538, 16930, 17093, 15818, 19094, 3092, 2899, 17276, 3556, 6464, 14130, 11048, 16909, 3295, 17031, 11205, 14421, 14226, 14976, 16153, 16155, 1719, 15702, 15874, 1215, 10988, 17597, 3794, 11240, 17596, 17348, 4721, 7772, 16652, 6494, 11154, 5964, 7291, 14755, 6383, 11207, 16344, 19698, 16586, 4361, 13323, 17106, 13446, 13321, 18703, 18238, 12270, 5067, 5101, 10548, 2148, 6245, 15210, 11553, 15228, 8644, 6762, 5751, 9246, 15497, 9243, 8868, 3478, 19354, 7822, 7821, 9838, 13566, 16001, 16295, 16407, 15057, 15044, 16362, 2900, 17528, 15597, 11517, 15295, 14161, 18660, 19651, 12252, 12263, 7282, 12570, 12344, 7791, 17114, 3539, 6904, 8746, 17964, 19235, 15999, 7815, 7493, 12840, 7456, 8916, 3045, 15801, 8234, 13954, 8230, 13924, 15714, 4567, 7844, 10565, 17226, 4029, 13589, 3431, 8171, 15485, 16967, 9603, 11534, 11808, 11807, 9437, 11543, 18031, 19613, 18691, 7255, 7760, 18166, 16718, 8825, 7272, 18203, 19531, 7009, 6974, 15275, 11927, 8260, 14701, 11581, 6926, 7824, 7836, 8362, 8138, 8363, 11628, 8448, 7975, 16078, 8350, 6717, 3653, 17306, 8658, 6792, 6888, 6262, 16870, 5611, 7037, 1047, 10637, 13099, 14732, 12721, 11540, 11497, 11542, 14357, 14647, 14353, 15787, 16044, 16046, 1132, 18848, 18999, 4388, 18799, 3608, 2984, 10293, 18951, 8014, 11172, 19538, 11847, 11129, 8111, 8112, 7995, 19541, 17783, 17656, 17041, 5850, 5765, 6446, 6634, 17235, 17369, 17491, 17497, 18792, 18910, 7386, 8428, 17476, 3569, 17852, 18321, 11826, 6887, 6150, 10024, 1816, 6743, 6855, 10864, 10876, 6357, 3788, 14005, 8335, 17877, 19728, 2483, 19239, 12886, 12885, 12686, 18145, 14511, 14506, 7292, 17610, 11753, 4207, 17399, 6443, 13226, 16928, 12506, 13231, 6512, 12390, 5771, 5655, 5792, 12507, 2378, 10281, 7214, 1225, 2111, 8264, 9041, 2110, 7058, 18921, 17391, 8132, 3824, 13340, 17385, 3807, 5170, 4938, 8342, 7381, 6829, 6151, 10021, 6346, 6237, 12036, 17552, 7278, 10957, 2817, 11041, 11488, 19081, 4024, 3180, 19630, 19504, 6106, 18700, 1544, 3662, 19066, 9980, 11445, 11835, 11449, 7491, 5746, 5742, 1168, 18901, 17296, 16991, 14413, 18810, 8316, 11061, 17299, 5683, 18808, 18132, 19050, 7298, 3870, 11487, 3179, 19628, 18482, 6952, 5228, 11931, 11107, 18124, 19667, 1534, 15887, 7588, 11291, 19775, 3933, 11193, 7674, 2865, 5730, 5737, 14719, 12436, 2761, 8716, 10858, 15442, 7304, 6010, 5733, 11424, 3775, 8322, 6631, 11947, 6769, 1456, 1658, 17267, 16882, 16960, 11951, 16585, 7797, 5845, 16925, 17104, 15083, 8510, 6796, 6909, 17873, 5691, 6209, 6839, 1440, 4607, 16815, 6801, 11398, 2671, 17059, 14390, 12420, 13686, 16999, 9896, 7408, 15862, 4213, 11133, 19128, 13144, 2077, 10055, 2589, 2653, 1759, 13167, 16171, 16492, 11645, 7796, 2952, 4018, 14222, 3815, 17321, 16251, 7613, 17670, 3181, 17690, 10125, 3652, 11473, 15841, 11978, 6436, 6601, 1420, 8352, 11962, 6553, 4006, 10572, 10922, 4005, 11918, 14984, 10921, 14995, 3878, 14842, 5318, 5019, 4323, 14864, 13970, 4714, 11961, 16757, 5392, 17120, 11963, 4190, 5130, 11839, 10938, 11750, 4105, 16657, 5343, 3939, 2800, 3005, 13886, 15230, 3011, 18052, 5474, 3874, 2669, 14965, 3060, 8951, 3422, 15536, 18127, 15489, 4595, 7981, 3984, 6431, 16883, 14489, 11576, 12943, 11625, 11423, 14117, 17366, 4683, 14291, 12059, 14083, 4165, 2967, 12308, 11109, 15628, 16566, 12758, 16053, 11841, 3160, 4690, 14101, 4666, 8036, 18667, 17781, 18177, 13923, 12119, 11248, 4226, 4166, 8713, 13922, 9008, 12443, 18622, 9575, 5824, 7454, 7980, 11796, 16453, 1657, 6016, 14475, 17271, 6633, 17111, 6011, 15380, 7046, 1580, 11928, 16385, 19451, 2641, 3186, 16190, 2783, 3390, 2886, 3876, 3130, 12526, 16452, 11946, 14521, 14710, 7263, 13500, 13137, 2939, 6159, 14416, 5931, 5702, 5994, 6115, 7059, 10480, 10406, 2226, 15089, 7392, 17991, 6678, 6119, 11135, 13391, 17257, 16352, 18706, 2588, 6972, 11232, 8082, 13033, 14223, 18830, 11994, 18656, 18082, 17996, 17797, 17322, 16723, 8055, 11735, 15622, 17323, 17799, 15301, 8317, 17123, 15302, 7984, 6931, 17320, 8305, 15208, 19321, 11181, 5440, 8660, 7813, 3973, 16372, 13932, 5776, 7211, 16639, 10984, 17944, 10985, 17942, 16779, 8388, 19038, 18882, 7301, 9289, 16584, 7012, 6979, 6973, 9015, 17958, 17930, 17959, 10206, 8151, 18519, 18579, 7723, 7115, 7159, 8318, 16687, 16638, 19537, 18199, 16062, 3168, 11054, 6066, 18818, 14138, 15448, 11637, 16987, 17089, 17220, 9250, 4496, 4495, 4587, 4591, 17723, 15967, 11883, 12051, 10920, 14900, 11584, 11585, 15368, 11085, 4581, 10103, 17378, 3286, 19067, 16679, 6240, 8961, 14986, 16359, 7913, 10305, 17105, 6613, 17479, 3535, 5188, 2075, 13920, 4089, 12103, 16849, 16737, 1197, 1193, 15501, 8924, 4372, 8959, 2950, 15043, 19707, 8580, 10972, 16006, 11549, 7327, 4758, 7324, 3240, 18407, 9499, 15778, 10112, 11649, 3813, 17495, 16969, 16972, 10219, 11638, 11130, 6781, 8081, 9609, 13918, 7632, 17142, 12203, 14147, 12834, 7641, 15213, 17907, 15639, 15253, 7530, 11469, 83, 15293, 18309, 17170, 14401, 16140, 6264, 16305, 16077, 2475, 16541, 6266, 17314, 2342, 12340, 7188, 7040, 4338, 4325, 14173, 14266, 9321, 9320, 2964, 14271, 18958, 11277, 11106, 11101, 11258, 7323, 18508, 11489, 6064, 18008, 5728, 19097, 13337, 17673, 17754, 6626, 6737, 6659, 17980, 9914, 6835, 19435, 10811, 15131, 17778, 8551, 16306, 8641, 4048, 16526, 16527, 8695, 5660, 7042, 1165, 1164, 4270, 4345, 4344, 5875, 18676, 5767, 5762, 2576, 1703, 9281, 12214, 3675, 7970, 13027, 15934, 4057, 5017, 19185, 8398, 1777, 1321, 18923, 15679, 7766, 8126, 16845, 13767, 16467, 15782, 7572, 6951, 18403, 4079, 6941, 10940, 16423, 10936, 7583, 18410, 18135, 15435, 7171, 7000, 15462, 14644, 9258, 18639, 19054, 10928, 4513, 18053, 12086, 8226, 15369, 7752, 6181, 14876, 3599, 17784, 3909, 12072, 18627, 16764, 4696, 2273, 2401, 12543, 4719, 18221, 8194, 12434, 10114, 1975, 14606, 16269, 5675, 6415, 17748, 15441, 3042, 12056, 11546, 12063, 5174, 17609, 17824, 14794, 17029, 14638, 5389, 7186, 5902, 12925, 18547, 9237, 7125, 11116, 9047, 18047, 10848, 9294, 7087, 6057, 16970, 11799, 2960, 1717, 16067, 15055, 6772, 5947, 6630, 5590, 1888, 15090, 17445, 12509, 7008, 16216, 19407, 7120, 2804, 3948, 12090, 10615, 8017, 6978, 11884, 18497, 7787, 11247, 8315, 19798, 15287, 19614, 12574, 17945, 16637, 12535, 18669, 18719, 6058, 7011, 6988, 18461, 7330, 16846, 18647, 5716, 16876, 14808, 11850, 2949, 19427, 8340, 16847, 7056, 4741, 18605, 18165, 7634, 18408, 15647, 15554, 13448, 17993, 11466, 7110, 6946, 7036, 5961, 12500, 3544, 11696, 19101, 7895, 17384, 18922, 18982, 17752, 16476, 17849, 11306, 4417, 14342, 14174, 11187, 16896, 17572, 11687, 7757, 16483, 9486, 8860, 19140, 3953, 2711, 15289, 8220, 8311, 17241, 12152, 11223, 4584, 12382, 18520, 16086, 11682, 3469, 17580, 17973, 17565, 11326, 11316, 3291, 7897, 9288, 18207, 3281, 11971, 11662, 7812, 11053, 18695, 11052, 10937, 15932, 18561, 16813, 11273, 11626, 16564, 15451, 5735, 16964, 12380, 6088, 16814, 17011, 3866, 17372, 2805, 18981, 13874, 8932, 16717, 9228, 18019, 12818, 17931, 16749, 6445, 7474, 12419, 16959, 1481, 1595, 13810, 1082, 7269, 4296, 9284, 16778, 6968, 6960, 18393, 229, 3859, 7964, 503, 108, 644, 524, 7251, 7365, 10946, 3103, 14134, 3104, 7873, 18576, 15600, 5900, 9809, 592, 2994, 12011, 12012, 12044, 14345, 12462, 11007, 16752, 6072, 17169, 11246, 18402, 18549, 7264, 352, 16454, 4216, 539, 559, 182, 645, 187, 18308, 16974, 116, 388, 669, 857, 19286, 784, 440, 7366, 17186, 326, 3468, 11676, 14327, 12622, 106, 12038, 104, 3861, 481, 8844, 322, 7383, 718, 173, 894, 159, 883, 78, 688, 308, 480, 701, 225, 87, 392, 18257, 958, 3458, 148, 6716, 448, 279, 70, 454, 899, 759, 8123, 3618, 8421, 15769, 8261, 3744, 9274, 10345, 6712, 16395, 14142, 11896, 16380, 3124, 13981, 1887, 12948, 3693, 3682, 3717, 3722, 12711, 3723, 3550, 13879, 5799, 3552, 13875, 5781, 13898, 3681, 13876, 5798, 3685, 13883, 8945, 8944, 3764, 3766, 10552, 10498, 8047, 15349, 10564, 5593, 5123, 15014, 1671, 6437, 4898, 17635, 2380, 6603, 4897, 6547, 6622, 2459, 1956, 17259, 17842, 6554, 6639, 3731, 12713, 6414, 6044, 6578, 14633, 13569, 18935, 13270, 19818, 19836, 16550, 19813, 1510, 7600, 15508, 9495, 1699, 1393, 10097, 7990, 2198, 1842, 2914, 2242, 8296, 15258, 2618, 4008, 16206, 3677, 2913, 18305, 3079, 17486, 19090, 6627, 7072, 2239, 2257, 2894, 1536, 18450, 3783, 5159, 8515, 10763, 16615, 15386, 10764, 16529, 2238, 1986, 2409, 10956, 3129, 1280, 15308, 15223, 10501, 3743, 8419, 3616, 3760, 4097, 6388, 3241, 3708, 3690, 3689, 3692, 13884, 3506, 14119, 3546, 3553, 12706, 3515, 3514, 3684, 3516, 3683, 12712, 3709, 9224, 9223, 8128, 8287, 3761, 10533, 8127, 7537, 3757, 15346, 5149, 5109, 5568, 2382, 6609, 17619, 6149, 6434, 6600, 13271, 5095, 6465, 6556, 13538, 19507, 3394, 19791, 15374, 7427, 15509, 2240, 10096, 7920, 7069, 7999, 2197, 2909, 15260, 7462, 2487, 16185, 3019, 18797, 11622, 16821, 10091, 15719, 18905, 1843, 2249, 3234, 1540, 3413, 3784, 3666, 5145, 8514, 16611, 15391, 1985, 10381, 16543, 1864, 17286, 13642, 2283, 17284, 1691, 14988, 4201, 11386, 14706, 16135, 4126, 17298, 4295, 15979, 7270, 4331, 9851, 14516, 18066, 15335, 12265, 8829, 6925, 6490, 16975, 18434, 5750, 11770, 17234, 11892, 13265, 17103, 14282, 12524, 15009, 3700, 15101, 19431, 6548, 19436, 8761, 2660, 19342, 17636, 10675, 19440, 6741, 19441, 15724, 6186, 15721, 7746, 16321, 3602, 15912, 15952, 15939, 1394, 2262, 1957, 7918, 18439, 12528, 16311, 3978, 2059, 12247, 9854, 1935, 7428, 1749, 8758, 12176, 15775, 6923, 15915, 1022, 2252, 15710, 15964, 11451, 11592, 11595, 11458, 14608, 14367, 11556, 14599, 15872, 15968, 3609, 7963, 3746, 3499, 3056, 8442, 9262, 16736, 15774, 6133, 1200, 10035, 16374, 14165, 8497, 7982, 6026, 6330, 18928, 6254, 6027, 1079, 6025, 6321, 1142, 6317, 1469, 18931, 6467, 6677, 6676, 6668, 6675, 18934, 12408, 9134, 3379, 10098, 3617, 8278, 8259, 10286, 11137, 7893, 5113, 4978, 13911, 11894, 14813, 14941, 15008, 14835, 15007, 15010, 14785, 7441, 2539, 11578, 4593, 5018, 2106, 14688, 4468, 2225, 2489, 6171, 2223, 19774, 12162, 15428, 4030, 19548, 15913, 17219, 11380, 18803, 3256, 19615, 9534, 10169, 10168, 11737, 11738, 10109, 7512, 10829, 16579, 16575, 16587, 10716, 15953, 11531, 10684, 8476, 11703, 1587, 11113, 17464, 17333, 2006, 3633, 10526, 10298, 10534, 11586, 9656, 9948, 7577, 13521, 4065, 2959, 9463, 15938, 19706, 4063, 10304, 16364, 11357, 1592, 3619, 3754, 8426, 3371, 3459, 912, 14746, 5252, 17471, 2219, 17582, 11816, 17743, 17712, 13639, 17422, 1949, 1945, 6362, 6359, 5163, 5515, 6502, 11433, 13106, 11431, 11555, 11425, 6285, 14297, 16993, 4709, 5772, 18139, 4601, 19031, 14544, 12764, 16100, 4708, 4434, 16898, 1484, 7055, 7840, 7838, 12986, 6081, 13365, 17577, 17418, 12032, 11815, 17666, 17839, 19765, 8671, 13091, 10002, 16141, 14618, 17735, 14979, 15125, 13112, 14491, 6303, 11432, 6076, 17196, 15835, 6077, 11426, 6280, 3456, 11096, 15453, 16682, 15692, 612, 11372, 15783, 3252, 16154, 16361, 11579, 11382, 11656, 11452, 7566, 11714, 2108, 18326, 3398, 11283, 11650, 4002, 18629, 11554, 7476, 6499, 14893, 14844, 17442, 15828, 3361, 6761, 5827, 3206, 15983, 5829, 11779, 17281, 1448, 15039, 2619, 6740, 14495, 9013, 15001, 6809, 6463, 10705, 10349, 11350, 1593, 11347, 2559, 4073, 8556, 9504, 19623, 11837, 3402, 17600, 7616, 15737, 15542, 17995, 3006, 2926, 2982, 8466, 11722, 3178, 3943, 11724, 19103, 3482, 3944, 3637, 3964, 4498, 17027, 8370, 3924, 14717, 16083, 3198, 6747, 14862, 13990, 3780, 17387, 17762, 2611, 2621, 14860, 1458, 10755, 9864, 11361, 11601, 16109, 7856, 2566, 7165, 3307, 18786, 10683, 11596, 15868, 17504, 17099, 15864, 17095, 15827, 11459, 17303, 3563, 7729, 6223, 1498, 11456, 6175, 17216, 3558, 3300, 15844, 3382, 11453, 11544, 6176, 3125, 11363, 4078, 8555, 3480, 15541, 10557, 17210, 15899, 3401, 15543, 15004, 16480, 6233, 16080, 6831, 16245, 6078, 17761, 2622, 6826, 14493, 14480, 6491, 15918, 10757, 2437, 18469, 18994, 3276, 17689, 11800, 10731, 11930, 3272, 17994, 3873, 11730, 10680, 10766, 10686, 5200, 8092, 3624, 18372, 1590, 9036, 18312, 1585, 19226, 18681, 9190, 19225, 11285, 19191, 1601, 16978, 18698, 17786, 9600, 5485, 7599, 2818, 1008, 8358, 1242, 3231, 8193, 1175, 7971, 18838, 3243, 14055, 5638, 10492, 17482, 17452, 15634, 16794, 8281, 15993, 16073, 7762, 7101, 14432, 2813, 14806, 3703, 19375, 19383, 6938, 17678, 15243, 6621, 4068, 15167, 13987, 13757, 8553, 16945, 17530, 6389, 8524, 5981, 8015, 1730, 7621, 16042, 11663, 17909, 17538, 19391, 9611, 5483, 9618, 13935, 14177, 10908, 19068, 19223, 3409, 17961, 9659, 1217, 11728, 3932, 10914, 2682, 2519, 1473, 10747, 8500, 8635, 6802, 4184, 6756, 4448, 15151, 16812, 6744, 14865, 6777, 12115, 988, 15175, 3010, 2799, 1251, 10832, 16655, 10839, 18119, 12081, 11880, 18187, 5470, 2988, 18313, 17144, 12127, 9677, 12851, 8303, 16310, 7274, 2277, 9265, 16271, 2663, 4905, 14938, 2896, 2948, 5723, 3768, 16194, 3577, 5695, 19817, 14096, 14451, 14978, 8474, 8579, 15400, 6793, 3185, 15070, 2992, 18594, 3881, 1876, 5838, 6751, 15613, 16444, 15955, 16622, 3187, 17895, 18633, 18632, 14747, 11611, 1600, 17002, 11352, 17004, 16187, 7928, 9877, 14673, 8062, 9502, 19545, 15713, 1721, 3002, 9686, 18648, 3157, 8935, 10909, 11040, 10934, 9365, 10966, 15298, 10687, 2834, 2809, 15285, 2844, 15271, 15284, 3623, 3629, 15309, 19073, 1417, 2828, 2781, 2842, 2831, 2823, 2782, 12052, 16560, 3279, 15908, 8928, 15753, 15907, 3749, 2268, 16000, 19205, 3041, 15995, 13892, 12045, 12745, 12707, 3340, 3367, 15265, 18956, 15348, 4960, 4977, 6152, 9730, 9733, 13260, 10181, 13539, 10685, 1700, 1490, 7050, 7244, 15408, 2657, 7843, 7425, 7426, 7692, 3520, 11609, 11045, 11442, 18061, 1206, 6069, 11208, 2581, 10887, 4093, 2698, 8445, 1024, 16371, 15904, 15280, 2325, 11203, 15233, 11123, 7308, 19204, 9261, 15957, 5800, 5665, 3333, 9227, 15991, 15996, 8227, 3040, 2269, 16217, 6567, 14136, 6350, 12460, 5156, 13381, 14133, 6552, 14498, 19156, 6646, 12099, 16177, 16568, 9475, 1489, 14030, 1675, 7051, 15372, 7949, 16369, 16332, 2512, 3600, 8468, 14392, 14881, 7728, 19463, 3026, 11224, 9482, 1271, 1584, 1181, 2580, 2651, 10123, 16617, 12813, 6089, 14715, 12325, 1609, 16750, 4123, 13889, 15402, 16853, 7983, 5686, 11893, 12588, 19612, 6561, 2545, 12201, 19343, 2661, 16178, 15821, 5949, 2486, 19460, 3687, 2255, 6608, 7944, 8272, 7076, 2258, 15726, 3439, 3432, 9961, 3438, 2259, 3630, 3665, 3730, 3635, 2819, 9496, 16102, 19016, 3322, 16547, 12157, 12155, 15884, 15521, 3058, 2267, 15762, 15961, 10017, 18059, 15956, 2236, 12301, 10517, 3059, 16792, 8124, 15361, 3989, 18774, 14458, 14824, 19587, 9821, 18844, 15430, 8668, 16173, 9478, 11381, 9841, 7601, 15436, 3282, 4036, 15922, 15805, 5110, 3663, 1844, 5710, 6046, 11591, 3376, 16175, 11982, 8293, 7898, 15251, 3118, 9229, 7257, 3054, 2103, 1694, 15765, 2346, 9378, 13083, 6560, 17674, 11675, 14834, 12020, 13648, 11680, 6154, 17190, 1196, 5668, 3225, 18945, 9382, 1039, 12427, 16494, 13982, 16685, 13104, 11690, 17428, 16144, 13090, 14971, 14972, 8452, 16546, 10658, 4782, 11684, 11777, 5394, 5514, 13651, 17584, 6168, 6198, 11699, 16943, 17188, 11438, 14135, 15834, 11429, 15686, 6153, 14324, 6281, 14621, 3072, 15843, 9685, 5172, 16425, 6823, 6228, 16399, 5933, 7595, 19458, 15971, 10662, 18539, 5974, 15781, 19542, 2765, 11929, 11900, 3998, 6489, 16392, 16474, 14687, 2612, 6768, 11992, 4984, 11988, 7079, 15940, 10635, 8666, 18386, 10314, 3267, 7121, 15668, 14410, 18841, 16447, 6850, 17790, 8061, 16588, 7461, 4770, 8715, 19792, 17825, 10247, 5103, 3305, 15757, 3490, 6837, 3365, 11749, 6370, 2836, 8312, 10840, 17940, 8665, 3073, 3457, 15389, 6619, 5982, 5990, 4644, 5001, 15574, 3037, 10383, 10380, 3308, 7751, 16252, 3913, 5987, 15172, 15072, 4067, 11575, 16442, 14627, 8712, 16620, 18630, 14343, 15671, 5106, 3941, 15740, 11365, 15231, 4083, 7068, 3251, 2998, 9260, 7874, 11128, 10001, 7307, 19070, 13942, 15264, 15314, 3111, 7256, 7710, 5158, 13542, 15405, 1451, 10396, 15279, 16122, 15522, 13943, 15358, 15910, 15315, 16180, 19609, 15759, 7722, 15464, 15669, 1628, 3048, 4157, 2465, 2592, 2546, 19349, 6352, 15790, 9862, 15942, 3587, 7611, 11558, 9249, 11198, 7891, 10532, 6714, 13638, 12417, 2173, 15232, 15885, 6562, 15100, 11400, 16020, 11590, 18892, 7708, 16125, 15670, 11719, 12014, 5275, 12030, 15115, 17166, 12604, 13821, 5586, 5773, 12168, 17970, 8345, 12021, 8436, 7902, 17561, 11776, 2354, 6231, 16973, 17163, 17167, 3636, 9981, 3403, 11441, 16081, 3877, 15770, 1537, 17924, 9410, 2820, 7220, 17533, 1880, 2947, 4012, 3971, 6982, 14863, 11302, 3875, 6056, 4039, 2780, 2955, 2759, 16762, 11125, 12461, 10126, 7403, 7073, 7074, 10905, 11805, 494, 17474, 7861, 7451, 3856, 15966, 733, 11044, 3101, 18418, 11336, 753, 2666, 15364, 9277, 15694, 3119, 961, 14742, 646, 8429, 1792, 13113, 12015, 16127, 15688, 695, 741, 1884, 6844, 426, 6486, 15556, 11015, 15534, 977, 872, 396, 9500, 7872, 696, 297, 420, 12471, 565, 900, 335, 16139, 929, 702, 19326, 2857, 215, 839, 98, 170, 818, 13110, 495, 169, 934, 714, 767, 794, 366, 561, 812, 131, 72, 658, 7453, 434, 983, 16649, 911, 184, 967, 66, 5891, 690, 923, 936, 59, 394, 568, 795, 7879, 891, 928, 765, 8950, 1983, 8423, 8253, 11289, 11866, 18123, 3126, 3727, 14079, 14242, 3721, 14243, 12697, 3162, 3551, 3686, 3192, 3191, 3691, 3510, 9251, 3384, 11508, 10350, 18366, 8012, 8109, 5999, 9919, 2458, 3804, 3725, 14239, 12117, 2482, 16272, 19855, 7315, 1525, 15370, 8667, 8472, 3175, 19114, 7929, 2247, 2250, 16002, 11060, 1014, 10837, 16610, 16538, 15722, 7952, 16540, 2020, 2009, 8481, 11495, 16150, 16417, 15224, 8930, 1982, 8016, 8115, 8369, 11966, 15638, 11249, 5069, 4822, 14073, 3331, 3697, 3509, 8947, 8119, 8255, 11968, 15748, 2235, 15351, 16789, 6435, 14288, 17110, 5924, 17065, 14143, 12956, 12921, 9985, 12104, 8632, 19815, 19846, 1518, 9485, 9493, 1492, 7921, 3748, 15390, 8269, 15319, 15261, 8511, 8509, 15738, 3018, 19136, 12583, 11235, 16822, 11443, 1170, 1530, 15861, 15255, 15395, 3408, 3659, 16558, 2241, 2156, 16934, 17414, 5786, 5107, 12562, 5063, 5794, 16755, 13888, 14857, 4317, 11194, 15421, 15419, 18011, 16729, 14018, 4294, 9409, 12217, 12853, 4351, 3008, 6136, 4717, 16329, 8763, 19437, 8750, 2648, 8703, 2079, 15454, 1468, 15603, 7235, 12220, 2261, 15720, 1897, 19364, 12216, 3758, 6964, 15886, 11598, 7414, 11557, 14600, 11597, 15708, 11349, 15895, 2989, 15751, 7578, 8114, 1269, 1733, 1080, 1467, 5925, 18927, 18933, 6047, 6683, 6243, 6680, 6244, 6250, 10292, 10346, 10347, 8120, 11655, 19106, 15259, 8254, 5166, 16790, 14639, 13197, 18943, 6808, 13506, 18942, 11761, 4441, 1889, 19390, 1879, 7707, 3183, 3404, 16557, 8569, 15930, 15658, 16580, 16563, 3671, 17134, 3527, 5098, 5861, 15426, 10507, 18404, 10116, 3274, 5785, 1250, 19556, 4056, 2971, 4049, 10106, 10656, 16349, 5272, 3496, 3614, 3745, 7062, 11602, 9489, 9235, 17426, 11572, 15811, 13548, 17718, 17821, 17427, 11570, 6817, 11437, 1184, 9154, 6326, 4124, 13816, 11020, 18944, 15432, 7480, 4646, 19675, 11571, 17667, 8427, 1009, 13081, 9553, 14619, 14470, 12776, 11435, 11674, 17180, 6229, 5620, 570, 2558, 11604, 1692, 19820, 3159, 2243, 2206, 17499, 3373, 6059, 16255, 14487, 6763, 14484, 16400, 14485, 6827, 2477, 9719, 1727, 15974, 4570, 2672, 6428, 14623, 16248, 6832, 14414, 14486, 15824, 14783, 14479, 9741, 19049, 1596, 2767, 10570, 11723, 18302, 10127, 15831, 7602, 6197, 16059, 17139, 6199, 7742, 7790, 17383, 16938, 11343, 14417, 13991, 15733, 16944, 6184, 19773, 14220, 3672, 10992, 7465, 7858, 11732, 14703, 14488, 5828, 16028, 6828, 14781, 14867, 4573, 8486, 1693, 19800, 9723, 3275, 10785, 15919, 3158, 1501, 18323, 2088, 8831, 1849, 11266, 6996, 15539, 18388, 3656, 7527, 19656, 5863, 9487, 15540, 7962, 8764, 3085, 7219, 7293, 10962, 17080, 2936, 2941, 14790, 3871, 19369, 13672, 15324, 16443, 17527, 15318, 8552, 16796, 16710, 1731, 8745, 5196, 18371, 15415, 3165, 13940, 18069, 10912, 6920, 18995, 6994, 9109, 7276, 1209, 18643, 11062, 8832, 5565, 9145, 3304, 3392, 4681, 4500, 3138, 6830, 3173, 4015, 4014, 17007, 17115, 14221, 4182, 2940, 1177, 8456, 16440, 12075, 18181, 18365, 7407, 3410, 7771, 11969, 1594, 9859, 2254, 16360, 11206, 9824, 7202, 2990, 2040, 15387, 6385, 3915, 6618, 6440, 11417, 8629, 15398, 8583, 2929, 4066, 6479, 3038, 4871, 4164, 3903, 5839, 5679, 16593, 9506, 16623, 18347, 19287, 8377, 14672, 18680, 3532, 11162, 3292, 14195, 18198, 3610, 3246, 11035, 19208, 9348, 11140, 9364, 15161, 5878, 16182, 2866, 18769, 11941, 2845, 10793, 3057, 8277, 3249, 15958, 8258, 3714, 12693, 14072, 5810, 5664, 3190, 3742, 15905, 8292, 11195, 18128, 11986, 15256, 8046, 15807, 5118, 14391, 9731, 14236, 14115, 1650, 18392, 15609, 3328, 7720, 15577, 1477, 1984, 14366, 2887, 15578, 7444, 1881, 12692, 11222, 11745, 15466, 2096, 9302, 18502, 18920, 8170, 15711, 16149, 15780, 9253, 3753, 3526, 11199, 2172, 8946, 1841, 6702, 6452, 3519, 5666, 14120, 3332, 14122, 3370, 15278, 15779, 7057, 8949, 8049, 5119, 5171, 10424, 16253, 17288, 13269, 18586, 13048, 16207, 8502, 3374, 7988, 3751, 14870, 4003, 12568, 16820, 11158, 11370, 8163, 7485, 1512, 17999, 4284, 3649, 1707, 8321, 12327, 17132, 13887, 12963, 6505, 10077, 2547, 8772, 6689, 19345, 6871, 10672, 16281, 15836, 18815, 3262, 18766, 13600, 3938, 8824, 11600, 11594, 16618, 1499, 3755, 15730, 15917, 2328, 7061, 11870, 13640, 18767, 6669, 6092, 5934, 18387, 18936, 6242, 6663, 6662, 6679, 18292, 7448, 15963, 4961, 6367, 1903, 8479, 11388, 3266, 15511, 11504, 3293, 15476, 3278, 10836, 16589, 10547, 3669, 5856, 16942, 3261, 1487, 19755, 9846, 16145, 7265, 10519, 2923, 7429, 3247, 3116, 853, 8349, 17837, 5276, 4629, 17853, 11720, 11694, 12611, 1443, 5629, 4125, 4705, 1125, 1619, 2220, 5120, 13636, 16303, 7880, 6990, 5438, 5516, 17856, 14749, 6230, 6308, 6312, 14339, 6297, 11573, 3302, 3176, 2180, 15867, 7776, 7464, 9724, 10083, 10093, 2021, 6765, 6206, 14861, 14866, 6162, 9519, 11482, 7467, 7475, 17467, 3210, 17275, 11468, 1418, 15870, 6194, 8235, 14481, 2436, 4016, 3538, 3651, 12128, 14159, 3161, 11143, 17135, 2013, 13004, 8779, 15202, 7253, 8332, 14061, 18814, 6999, 7010, 17823, 17291, 15427, 15075, 1117, 18590, 17679, 6482, 11260, 11855, 3003, 12475, 8820, 1583, 6851, 15150, 6629, 6847, 3360, 16694, 7067, 3968, 3908, 6833, 1013, 14997, 12050, 16578, 998, 13812, 19571, 7689, 3369, 6605, 3142, 10213, 17506, 10941, 14964, 6754, 3972, 11201, 6427, 6773, 6748, 3904, 16419, 15784, 10706, 11401, 1358, 10915, 18715, 4076, 3022, 3625, 1716, 11387, 2843, 12184, 3868, 2826, 17860, 2835, 15752, 15277, 15510, 9501, 2327, 15758, 11197, 7673, 8943, 13950, 13902, 8275, 15641, 11204, 6649, 13276, 2654, 19789, 15384, 3648, 12466, 15257, 15892, 12082, 11875, 9230, 10550, 11039, 13214, 5147, 3082, 11619, 14504, 11213, 19494, 1285, 13170, 2469, 16351, 15889, 2112, 9620, 9446, 16545, 12156, 738, 15281, 11114, 3511, 17202, 18545, 6097, 9470, 14797, 7443, 11764, 7960, 10896, 10826, 17377, 6071, 3385, 18026, 18649, 10105, 15406, 3471, 11188, 3530, 7063, 8430, 2855, 736, 17425, 13107, 14707, 8422, 13629, 13628, 14157, 17172, 6306, 16992, 9974, 8888, 12166, 16683, 13103, 11716, 12017, 9628, 13647, 13109, 16133, 6309, 6157, 15681, 11314, 15680, 525, 12961, 6238, 10679, 3309, 15483, 7406, 12584, 15654, 15630, 7284, 13988, 15458, 17904, 10707, 11344, 5832, 4298, 12793, 16285, 6180, 15742, 4473, 3312, 4442, 15171, 6207, 9505, 1714, 9367, 18531, 10082, 15610, 7876, 8019, 2999, 16126, 5165, 15839, 16948, 16209, 7860, 17739, 2517, 527, 2908, 16143, 2007, 18451, 11086, 17740, 13352, 7452, 5623, 1890, 4121, 15077, 19444, 107, 10877, 2700, 843, 2906, 8424, 9339, 3102, 6549, 6366, 6742, 60, 12013, 15114, 13089, 13108, 17178, 14081, 8347, 19766, 12018, 17171, 6311, 14333, 6278, 17165, 186, 10734, 2554, 19768, 12153, 2807, 17594, 7433, 617, 650, 7277, 8699, 58, 897, 7875, 14436, 975, 12154, 754, 7877, 11038, 771, 2467, 708, 10841, 16843, 17087, 15234, 16123, 164, 17573, 270, 431, 17838, 15113, 841, 3460, 55, 652, 452, 801, 825, 631, 782, 809, 816, 596, 978, 439, 593, 2345, 943, 432, 13082, 914, 152, 127, 749, 11046, 41, 960, 870, 254, 323, 103, 873, 26, 42, 47, 743, 151, 16, 126, 526, 162, 575, 921, 102, 449, 393, 253, 364, 232, 190, 210, 619, 892, 18399, 11115, 16955, 7286, 3412, 3411, 7484, 8033, 1509, 7770, 16966, 16965, 11787, 18428, 7095, 15561, 19717, 18206, 16676, 18138, 16645, 12546, 16693, 11221, 7134, 7156, 8066, 18967, 7322, 1529, 15507, 9494, 18535, 5985, 3437, 18513, 11178, 16932, 3447, 18521, 16238, 16054, 16003, 11056, 3283, 3202, 11513, 6074, 4359, 10978, 12094, 4435, 15795, 14420, 3993, 12108, 11593, 15530, 1275, 1276, 2928, 9144, 11076, 2837, 10573, 9907, 19087, 10973, 18325, 8957, 3004, 16405, 18438, 12508, 18541, 3990, 18225, 12269, 13985, 15555, 13843, 15229, 1179, 17936, 1194, 9234, 7488, 7098, 7099, 7313, 15587, 15460, 8307, 11920, 10542, 17522, 19260, 11286, 6937, 15562, 19036, 17922, 12250, 3064, 17121, 11228, 6192, 6193, 18224, 4243, 8980, 8990, 7629, 18444, 3430, 1723, 18437, 15513, 7519, 9839, 9469, 18143, 12566, 13025, 3062, 10318, 17988, 18172, 16497, 11399, 9497, 3596, 7449, 7827, 7817, 15484, 7608, 18241, 10229, 7568, 7157, 18029, 7353, 7300, 7341, 17242, 12205, 13820, 13952, 15799, 9313, 15239, 18009, 15322, 18996, 16270, 8827, 9830, 11270, 11651, 8361, 11475, 18062, 18229, 11313, 8177, 15332, 18227, 3806, 8608, 6859, 6846, 3655, 17307, 12256, 12297, 11338, 11496, 1212, 1207, 4370, 7041, 1264, 16695, 16785, 16004, 16788, 4229, 18674, 19007, 19220, 19009, 8931, 18794, 3244, 3131, 2958, 8920, 3032, 18465, 8922, 10267, 8915, 9342, 18678, 19059, 11099, 7514, 11521, 11102, 11186, 14273, 11185, 18507, 19704, 11157, 11846, 11522, 11278, 18957, 17297, 11100, 19533, 19702, 17811, 17523, 5766, 6036, 11069, 17367, 5031, 2993, 3088, 2995, 16860, 5726, 6686, 7792, 8520, 8550, 6856, 14782, 13868, 1926, 13477, 5462, 6731, 10792, 9970, 1158, 17351, 15573, 16819, 16516, 12150, 15632, 3076, 12689, 14257, 14261, 14655, 2934, 3087, 14264, 14510, 7248, 7179, 17374, 11104, 11233, 11230, 5003, 4478, 11861, 11520, 11068, 4377, 11290, 11073, 11071, 17014, 11067, 4268, 11499, 11064, 5006, 12404, 6037, 12405, 12386, 13430, 18553, 12586, 12558, 16927, 12547, 5791, 5764, 6461, 6041, 16926, 17404, 12397, 5756, 1913, 5719, 13456, 12929, 17529, 5648, 12332, 9268, 15488, 15605, 15487, 15515, 1475, 1977, 7212, 9025, 7213, 18153, 4888, 16884, 4055, 7889, 18537, 5218, 8187, 15310, 7384, 6858, 2478, 13907, 8816, 9913, 3654, 17587, 17312, 16720, 17198, 9271, 17801, 10953, 10950, 11375, 11282, 4022, 17459, 18518, 11274, 9984, 9951, 7094, 6084, 15495, 11264, 8355, 3790, 7716, 7738, 6950, 18659, 17468, 17232, 3531, 18480, 7093, 6096, 7581, 8148, 18509, 11261, 15440, 12819, 15881, 11126, 11605, 5743, 7299, 14704, 5748, 18907, 15274, 11440, 18050, 12582, 3660, 19115, 7201, 11139, 2925, 15266, 18522, 3894, 17461, 19052, 16105, 9953, 7189, 6105, 7580, 8136, 18335, 18510, 18460, 8357, 11122, 15636, 15529, 5867, 8459, 8621, 14310, 6795, 6487, 7677, 11454, 7736, 7522, 7687, 7615, 14290, 7702, 5576, 13900, 13967, 7777, 7775, 7734, 7782, 17304, 5734, 7754, 7804, 15611, 14162, 11949, 7705, 17787, 7463, 8646, 7678, 15450, 6219, 6224, 6216, 12388, 12541, 16704, 5760, 5761, 5571, 11103, 5005, 7245, 14148, 7288, 17630, 5783, 17632, 6202, 16935, 5706, 6766, 2670, 6117, 17054, 5334, 3912, 12938, 14362, 17949, 7336, 13045, 7919, 1381, 5341, 7116, 18829, 11842, 8558, 16573, 18930, 15022, 14809, 3368, 2895, 3547, 6178, 12087, 11919, 17627, 3134, 3562, 11050, 11547, 5316, 13873, 14425, 4693, 17518, 16697, 5129, 4278, 5000, 11141, 4104, 4098, 16653, 16642, 3872, 17153, 3713, 6863, 12578, 11420, 6172, 4596, 3995, 15082, 14817, 6866, 13389, 17730, 14214, 18560, 15494, 12309, 9247, 16567, 16021, 15056, 13423, 12695, 7714, 1517, 6453, 5135, 14099, 4516, 4674, 17810, 4169, 19168, 8775, 18182, 7133, 11089, 7305, 19770, 11293, 4265, 14149, 7781, 3597, 8232, 14141, 14305, 7682, 14153, 11548, 7735, 7459, 6488, 16455, 7703, 17660, 16939, 11200, 7261, 7075, 1479, 15371, 1478, 1696, 7045, 7173, 5662, 15417, 3389, 3174, 3380, 2897, 16084, 16759, 17073, 6222, 11348, 15537, 3383, 3050, 13180, 10394, 2485, 7733, 16280, 15760, 15579, 3197, 14792, 19544, 6775, 4497, 15447, 1663, 5966, 17433, 1931, 7085, 1141, 5582, 14352, 12765, 11284, 15980, 10708, 5126, 6953, 19125, 10959, 3726, 11995, 18193, 5817, 2891, 11105, 17722, 11993, 18192, 3077, 3136, 11218, 8056, 11245, 11635, 11262, 15623, 16724, 17117, 6932, 16802, 8353, 15204, 18184, 15153, 5384, 12248, 10931, 17941, 16635, 10970, 10602, 18216, 4987, 9938, 6963, 18634, 9291, 7089, 19450, 11238, 19250, 16728, 8527, 10770, 8581, 8589, 10967, 19561, 18455, 3169, 11167, 9490, 17028, 15820, 18310, 18824, 11292, 16830, 16038, 16415, 2956, 4492, 12123, 11881, 10958, 16365, 11192, 4269, 10913, 1025, 15644, 16716, 1149, 10975, 18049, 9361, 18447, 6845, 13561, 19734, 12732, 5536, 1195, 1273, 15491, 2961, 9323, 11272, 17003, 18394, 8283, 16402, 16403, 15842, 17802, 19265, 16662, 10976, 7413, 15423, 2912, 18260, 12563, 18163, 15646, 11708, 11648, 10597, 11647, 3785, 8301, 7167, 8538, 18239, 14150, 2010, 13916, 7185, 7275, 18215, 13571, 4673, 9654, 17916, 8809, 18978, 17100, 11269, 10990, 18963, 8140, 6935, 231, 11303, 3797, 2978, 3497, 8290, 6572, 6617, 3676, 18989, 17327, 6265, 12519, 12722, 13941, 16696, 7180, 7317, 16817, 16889, 5759, 17368, 16887, 16984, 16243, 9427, 16259, 14399, 17534, 8643, 8640, 4054, 2953, 4378, 17611, 12554, 5769, 19688, 6511, 17727, 12421, 1850, 2120, 17393, 4342, 4285, 11873, 8164, 8289, 7878, 17776, 6267, 17313, 7765, 15672, 7881, 6286, 19318, 16753, 7122, 11789, 18208, 18131, 19182, 10994, 19801, 19057, 18057, 3294, 19624, 18820, 19056, 18060, 7254, 13903, 11337, 6501, 10954, 16074, 11848, 18056, 11087, 17947, 10856, 7460, 7686, 14128, 7620, 5847, 5134, 19432, 6042, 6534, 5707, 8616, 2045, 4983, 1210, 6954, 15890, 14078, 17325, 14609, 16268, 13912, 3481, 16477, 16441, 5708, 4280, 5812, 2889, 17260, 17780, 10803, 15505, 9273, 11034, 9747, 7743, 12341, 5962, 18158, 17908, 11888, 7309, 4227, 16052, 15459, 16962, 8028, 11795, 7052, 1421, 2924, 3752, 15416, 6187, 14418, 5680, 16776, 14035, 9794, 5013, 5157, 19020, 11169, 18070, 19552, 18487, 11244, 16715, 15320, 7351, 8590, 12859, 14189, 8966, 10969, 17950, 3405, 5866, 17939, 4985, 10980, 19257, 5358, 9334, 19108, 13557, 3007, 13507, 14903, 7603, 12733, 12676, 9244, 9331, 8249, 5240, 11889, 6916, 8722, 15385, 7850, 9555, 16721, 6503, 4736, 720, 17562, 5888, 8926, 19051, 7379, 8044, 17855, 2617, 12619, 8313, 18991, 16528, 17455, 19240, 7175, 12040, 11530, 18588, 17390, 12599, 11148, 6292, 17550, 11389, 10522, 11390, 11374, 6582, 8029, 7614, 7780, 7458, 7684, 14298, 17806, 17058, 17056, 2833, 10917, 18169, 11376, 15407, 19173, 11256, 18144, 2969, 1438, 12178, 16333, 19550, 9019, 12209, 7209, 10986, 6969, 18432, 464, 12101, 7592, 14694, 19288, 17987, 786, 16851, 6721, 7657, 13975, 19606, 8197, 3858, 8446, 11022, 16862, 3475, 630, 3773, 11439, 18433, 643, 14603, 15652, 4367, 16708, 15294, 721, 508, 964, 726, 194, 768, 861, 11021, 846, 20, 11335, 755, 605, 11014, 275, 281, 25, 521, 621, 413, 876, 930, 955, 982, 117, 470, 378, 497, 379, 437, 558, 207, 16854, 206, 6987, 10319, 4883, 2204, 13441, 6933, 4952, 10613, 13834, 3565, 6566, 5066, 3736, 3705, 6565, 16377, 15037, 14695, 15060, 14916, 14886, 14897, 14911, 8237, 8075, 13449, 9680, 4860, 2193, 2205, 18881, 10601, 19157, 10594, 10444, 10031, 4870, 1664, 12387, 4431, 11184, 19829, 13675, 12589, 18589, 5444, 14050, 13690, 14196, 15179, 13688, 1761, 6914, 1915, 5950, 1941, 12343, 4447, 4918, 4967, 6091, 5915, 14765, 10580, 11151, 16501, 13514, 10529, 11902, 6424, 10951, 19620, 6426, 17648, 8403, 16473, 16459, 10948, 11834, 14983, 19406, 19496, 19419, 19424, 8161, 5361, 17897, 12679, 13789, 3911, 15197, 12102, 6838, 8633, 14068, 12947, 1522, 3620, 13438, 15847, 16334, 10523, 14931, 7957, 19486, 19490, 19467, 2520, 19500, 8833, 9359, 9166, 18354, 9169, 1655, 5538, 7399, 18373, 4563, 2722, 19268, 19272, 15099, 9049, 5952, 1938, 8821, 1937, 1939, 7486, 18827, 3589, 4950, 4941, 5914, 19434, 19809, 10200, 15047, 2531, 10575, 1914, 2201, 2032, 4939, 2287, 18891, 5523, 15126, 8516, 8536, 8529, 5504, 5331, 5198, 14048, 18760, 10416, 2215, 9354, 9210, 1104, 1297, 10439, 1822, 1299, 12750, 18762, 1147, 4099, 5301, 12473, 6674, 19376, 3827, 19610, 14826, 15079, 13499, 6593, 3574, 16027, 14675, 19389, 1161, 14756, 5731, 14146, 15846, 5855, 6589, 12488, 3952, 19418, 14946, 6094, 19362, 5425, 4564, 6602, 18592, 13390, 14235, 14276, 1434, 2633, 2686, 10813, 19712, 2697, 5285, 1076, 10741, 9831, 17956, 18565, 986, 1118, 2442, 2542, 2314, 13608, 19493, 8974, 15519, 9536, 8702, 13252, 13244, 2160, 17431, 3696, 6480, 15296, 15569, 16041, 16370, 10765, 9431, 16325, 13172, 2779, 1753, 2383, 1756, 18751, 10652, 5326, 19119, 14929, 1306, 13237, 10786, 6807, 2396, 1305, 2374, 19329, 1754, 10029, 14581, 10432, 9692, 9691, 4948, 3343, 14137, 3216, 14630, 5071, 14102, 6034, 9698, 10354, 13225, 13427, 12875, 19599, 14585, 10334, 9778, 10333, 9556, 9179, 4509, 14660, 6524, 6595, 3319, 14631, 14086, 4837, 6144, 10311, 18205, 13431, 5790, 12239, 5652, 2609, 10268, 8101, 7154, 8921, 19039, 9254, 10351, 9462, 9696, 13434, 15902, 12884, 3017, 9833, 13235, 13007, 13597, 13594, 13583, 13164, 1389, 19681, 3415, 18573, 19210, 3818, 19232, 14094, 10337, 14268, 10464, 14111, 5081, 14067, 3220, 5072, 3504, 5076, 4830, 14126, 9704, 18204, 12337, 5758, 2222, 7993, 9016, 3622, 2306, 19179, 15978, 9148, 12852, 10352, 9697, 9467, 12920, 15743, 9466, 3043, 18316, 12917, 19152, 3701, 2181, 3828, 12702, 13031, 3445, 19680, 19162, 4193, 10142, 10431, 14097, 10434, 4968, 5077, 14179, 6575, 6580, 5075, 14103, 4831, 14088, 10360, 18653, 2143, 1823, 3227, 6564, 11755, 14286, 14815, 11915, 10145, 4565, 10339, 9687, 4953, 3337, 3316, 12783, 4206, 4311, 14085, 4310, 9700, 18478, 12888, 13224, 12876, 5561, 2417, 10218, 8103, 9488, 2078, 12856, 9906, 10295, 13435, 3052, 3023, 16995, 9464, 13580, 12696, 12933, 13021, 19579, 15061, 10440, 4249, 10157, 10461, 14204, 9688, 9966, 5078, 14193, 14272, 14071, 14066, 5074, 3720, 14089, 10356, 18650, 12338, 2144, 1105, 2737, 5526, 5183, 9542, 9573, 8221, 5217, 14868, 8910, 9550, 2493, 13493, 2530, 8224, 7699, 19197, 14576, 1577, 14368, 10038, 1680, 18855, 7642, 8298, 11956, 18328, 15333, 5712, 7404, 8039, 8299, 19423, 8601, 19621, 18702, 9329, 11890, 2571, 19428, 8612, 9328, 18582, 8231, 8973, 8893, 5184, 8202, 2535, 9159, 10445, 14373, 10591, 2026, 10278, 10044, 1678, 3355, 10386, 10393, 14524, 8248, 8618, 8619, 8620, 19803, 12134, 16890, 15439, 15643, 15627, 4667, 10233, 4341, 18512, 17676, 19385, 3419, 7194, 12078, 12084, 7923, 10236, 18036, 9091, 12467, 18339, 13615, 18689, 7563, 5186, 4537, 1172, 11726, 7054, 10141, 2289, 11160, 2091, 18867, 13503, 2288, 2100, 1991, 13505, 9304, 10878, 19196, 18859, 19314, 18875, 7545, 13290, 7082, 5177, 10939, 4600, 16897, 9352, 9764, 13056, 13814, 6140, 13838, 14640, 11538, 11563, 11536, 11891, 11537, 8782, 18099, 8989, 18043, 14529, 12848, 13291, 4720, 1236, 15699, 992, 18878, 13256, 4803, 18879, 18755, 5202, 1028, 18757, 1004, 12381, 8954, 5777, 19858, 18290, 13684, 6789, 2740, 10907, 17725, 1444, 7071, 12261, 9959, 12849, 19213, 1748, 8907, 2154, 16040, 1372, 15741, 15976, 15754, 4095, 3570, 14853, 3789, 3793, 5332, 4466, 19482, 5193, 12067, 16309, 2556, 5575, 3339, 7922, 15548, 3517, 4726, 6927, 8798, 18877, 4652, 7570, 10963, 12969, 16043, 16651, 2028, 3613, 8787, 8207, 8807, 9058, 2177, 14284, 18704, 8744, 12862, 13806, 9000, 7672, 9596, 18501, 15006, 13774, 7841, 18109, 14369, 16101, 4656, 5223, 18890, 2036, 18097, 1553, 8464, 1737, 5241, 5534, 12367, 5632, 4867, 8883, 1561, 5787, 6759, 12402, 5026, 14440, 6173, 6625, 14780, 2708, 4443, 14501, 15036, 19569, 10746, 19426, 6867, 16215, 11914, 6252, 8890, 1558, 2312, 4735, 10800, 4038, 5694, 12318, 17808, 10730, 3884, 13011, 6256, 13039, 10415, 1317, 10438, 4305, 2360, 12882, 14041, 12892, 9118, 18821, 14351, 6570, 12883, 12580, 13119, 5572, 14542, 12680, 12701, 6581, 12490, 13118, 8088, 9905, 10556, 3321, 19135, 1547, 4236, 6529, 9941, 12918, 12878, 9093, 9460, 1100, 10518, 13061, 19658, 2155, 14190, 12699, 18013, 9946, 12683, 2932, 12171, 4865, 15029, 11410, 5626, 11974, 4654, 13145, 19679, 1349, 18673, 9084, 3349, 19112, 15147, 15174, 4538, 18473, 9341, 9033, 8986, 9014, 18107, 9570, 10039, 4749, 1496, 12658, 10124, 16726, 5837, 17757, 13948, 8159, 4392, 1564, 8408, 10866, 5525, 3358, 10543, 11524, 10644, 4687, 16899, 19794, 8656, 4033, 9871, 8628, 17019, 11288, 11990, 8575, 10075, 10263, 5963, 18424, 10720, 9679, 10610, 7557, 7396, 10392, 12826, 9305, 4979, 5207, 4560, 18230, 9256, 8857, 13983, 13965, 12810, 14403, 15196, 5543, 12411, 4812, 17910, 18411, 9026, 7331, 3442, 9076, 9875, 15347, 8564, 14992, 19646, 7108, 12158, 12035, 4739, 15409, 3507, 14070, 11320, 12797, 10251, 9046, 1687, 5542, 4768, 9168, 12869, 1651, 14912, 1676, 8009, 7698, 32, 8815, 1294, 1776, 13495, 9202, 6429, 16912, 14043, 15455, 14477, 9605, 5434, 9155, 16768, 13747, 15183, 15804, 15272, 3325, 1335, 18752, 4197, 18938, 12625, 14201, 1101, 2733, 10322, 13065, 6165, 11411, 14833, 5752, 19295, 9160, 2673, 16990, 19313, 7828, 7959, 3966, 19355, 2352, 10626, 14176, 3226, 4798, 11830, 15437, 8379, 8874, 1495, 9022, 4727, 16436, 18074, 17981, 18102, 6949, 9214, 6983, 9035, 6141, 14001, 11535, 13893, 4529, 6825, 12579, 1967, 11150, 5713, 18993, 2882, 15689, 14252, 5064, 18748, 17914, 16612, 6984, 4525, 18390, 1521, 7329, 9671, 9158, 12450, 9848, 1268, 8218, 16179, 10210, 9666, 8850, 14457, 5753, 4528, 18736, 5500, 12741, 4241, 467, 555, 424, 18258, 8905, 822, 18348, 9388, 12953, 966, 875, 5484, 513, 780, 14181, 616, 18746, 18742, 8291, 949, 730, 811, 750, 594, 212, 5899, 183, 7124, 304, 189, 942, 128, 204, 147, 37, 925, 910, 99, 435, 700, 648, 560, 913, 952, 80, 662, 538, 7575, 9836, 16404, 1476, 8000, 14689, 14709, 19254, 19692, 17816, 15270, 8225, 19719, 19262, 8535, 18658, 12096, 12183, 12530, 8106, 19228, 18686, 7321, 4363, 9592, 7289, 15591, 3487, 15840, 17349, 3287, 7447, 19640, 11729, 11999, 17598, 19559, 15766, 11049, 4493, 5980, 4710, 11092, 11607, 16289, 16294, 14901, 15871, 15878, 3958, 2448, 19327, 11047, 4158, 4517, 7528, 6065, 12995, 2996, 17926, 7579, 7529, 14693, 11180, 16414, 9362, 16570, 12924, 12843, 8528, 15144, 5068, 2224, 18764, 6090, 9146, 11973, 15307, 11057, 8749, 7808, 15367, 2962, 15403, 18459, 4375, 7477, 7172, 9591, 16023, 14696, 16029, 17695, 19258, 19701, 10344, 8026, 19222, 11828, 17919, 16766, 12345, 5988, 15585, 7597, 14217, 14156, 19234, 7318, 19218, 9969, 8023, 8212, 16097, 19044, 16082, 3400, 11393, 15482, 10549, 8519, 2050, 2073, 10058, 11717, 9418, 9765, 9587, 11464, 1734, 19454, 19453, 15901, 4722, 5830, 16735, 17682, 19530, 17917, 17654, 7709, 9866, 18530, 8383, 8382, 8381, 8346, 17316, 17563, 6654, 4028, 6785, 6787, 8338, 4806, 18014, 1211, 11152, 14649, 14354, 14650, 15431, 18798, 3489, 3611, 9123, 10255, 15048, 15046, 2890, 3086, 19224, 7994, 7192, 11784, 7176, 15040, 15041, 19703, 7349, 11446, 7198, 7991, 7516, 19217, 19661, 18710, 12491, 13525, 6444, 17485, 10977, 4884, 10924, 18801, 18791, 11371, 17719, 6834, 6788, 9417, 5463, 10807, 1375, 19697, 16435, 7326, 19245, 12903, 17997, 14474, 14652, 14411, 19731, 5822, 5815, 5634, 14654, 3091, 17494, 17293, 7294, 4354, 4271, 11083, 11845, 11843, 19659, 4358, 11854, 11402, 11751, 4838, 4352, 17500, 12413, 19664, 19567, 17729, 17726, 13228, 6510, 5857, 1917, 13401, 17792, 1415, 1406, 16390, 16032, 9248, 10271, 10042, 1972, 12175, 15503, 9029, 1840, 1851, 17335, 12255, 19091, 12022, 8701, 11633, 11860, 2816, 11492, 3433, 16205, 3999, 3407, 3435, 10621, 19506, 18528, 7774, 7177, 9238, 18401, 7181, 8351, 3593, 7343, 6998, 7481, 19058, 3895, 4000, 3434, 19715, 7786, 8324, 18125, 4664, 7809, 7394, 9282, 18809, 6497, 16722, 7912, 18679, 6661, 8121, 8108, 18953, 15854, 17512, 11518, 7594, 18315, 4007, 3893, 18811, 10620, 7785, 2445, 7345, 18064, 999, 18596, 18498, 2743, 8733, 14300, 16958, 3554, 7704, 6021, 13901, 7471, 7598, 7683, 14875, 17112, 14121, 5736, 7680, 7768, 7769, 12120, 5729, 17870, 6012, 6039, 5585, 1425, 5858, 9745, 12494, 993, 2285, 17948, 8380, 13032, 18357, 5125, 7004, 4017, 11736, 18540, 9358, 16465, 18835, 3034, 10918, 5859, 11780, 15023, 17711, 14973, 3135, 11156, 15170, 3139, 3296, 5020, 12091, 3922, 5809, 3133, 17526, 17146, 4451, 11766, 11174, 4829, 11945, 2871, 8485, 15054, 17086, 11255, 14293, 3540, 3905, 9312, 4380, 13301, 7517, 12093, 9601, 7473, 7767, 7701, 5846, 14038, 15446, 11550, 7472, 3592, 14877, 17661, 6848, 1480, 1419, 11707, 16389, 1410, 1589, 15411, 16554, 2888, 3172, 3381, 15584, 15449, 5678, 6776, 6481, 5840, 6177, 5563, 9770, 13972, 12191, 17430, 16739, 11418, 16066, 10404, 10563, 12210, 4297, 2501, 7006, 17356, 10113, 18831, 18462, 3143, 11885, 17389, 3959, 11142, 11629, 15594, 15241, 15328, 6995, 8256, 19647, 13510, 12208, 16644, 17925, 11210, 7066, 10697, 17937, 18645, 6930, 16951, 3233, 7047, 8002, 7174, 5315, 11878, 17017, 19479, 18817, 3396, 3902, 3204, 1901, 15709, 11863, 1272, 11229, 11984, 3170, 10911, 9162, 9675, 6628, 8755, 2635, 1284, 18303, 15058, 17516, 17016, 8721, 19193, 1288, 18468, 18868, 12799, 18602, 12846, 18085, 6977, 8199, 16089, 15860, 16091, 9340, 16628, 15222, 15997, 11485, 19199, 7492, 7002, 7312, 18919, 7590, 17647, 14680, 14279, 4429, 1252, 13479, 15067, 15788, 14666, 18304, 14508, 17008, 17376, 18525, 11428, 18526, 17844, 8549, 8356, 19438, 3937, 1886, 1950, 18442, 16438, 2841, 18506, 18850, 4189, 17403, 17400, 2117, 16394, 1379, 12422, 12231, 7170, 3000, 12041, 8223, 4061, 17564, 19149, 6185, 12039, 7389, 11643, 3779, 9241, 13877, 6498, 16994, 11091, 18001, 16829, 7260, 1550, 7457, 5797, 9576, 17788, 5831, 7784, 14708, 7749, 17268, 6901, 6085, 4855, 4430, 14299, 6545, 6645, 14387, 5231, 2162, 2975, 17990, 11471, 14112, 8133, 3580, 3906, 14244, 4686, 4826, 18320, 3423, 18517, 18129, 9233, 10899, 19783, 13933, 9316, 17088, 12426, 9740, 15880, 15445, 4433, 4609, 11317, 8965, 16378, 16058, 17270, 8027, 1527, 1705, 1758, 3928, 10830, 3571, 14454, 7409, 1002, 12463, 1017, 17935, 5230, 12222, 16228, 11159, 3483, 10382, 6803, 18657, 7285, 11965, 17446, 15300, 7091, 15237, 12393, 10968, 16631, 14295, 18336, 9837, 7487, 16686, 17310, 3862, 16744, 18378, 11621, 7102, 6905, 4328, 18160, 12636, 6975, 19843, 10491, 19079, 807, 19088, 11369, 3211, 11612, 17672, 17671, 12605, 7610, 11859, 16283, 17709, 6640, 17109, 12221, 18785, 10076, 9711, 3151, 12206, 16307, 17612, 7965, 12151, 19243, 11697, 5979, 10028, 3417, 7571, 9975, 7573, 19027, 19075, 15989, 5747, 19216, 3306, 11798, 16765, 7266, 12223, 17599, 3177, 5717, 3393, 15071, 6849, 17796, 16758, 11088, 15169, 14215, 9276, 4369, 5104, 11212, 7311, 7048, 4494, 14037, 14461, 15850, 12435, 17998, 17519, 16797, 7152, 4324, 10983, 16881, 7077, 606, 14811, 18121, 15429, 6190, 9245, 3235, 7187, 18028, 19072, 6160, 5627, 16923, 903, 13577, 5801, 1235, 17342, 12019, 360, 7973, 17983, 14168, 479, 11333, 664, 6576, 5816, 2074, 3770, 18608, 15533, 1713, 3196, 5844, 1588, 12877, 19124, 837, 342, 980, 19315, 65, 5699, 11019, 523, 19100, 11434, 11693, 16242, 76, 17590, 11331, 16745, 16869, 922, 562, 305, 43, 56, 945, 769, 15, 122, 806, 294, 488, 692, 71, 17585, 610, 16076, 27, 157, 7387, 365, 118, 12630, 344, 280, 791, 168, 5685, 785, 704, 179, 591, 576, 677, 31, 293, 407, 191]\n",
            "19302\n"
          ],
          "name": "stdout"
        },
        {
          "output_type": "display_data",
          "data": {
            "image/png": "[encoded data removed]",
            "text/plain": [
              "<Figure size 432x288 with 1 Axes>"
            ]
          },
          "metadata": {
            "tags": [],
            "image/png": {
              "height": 248,
              "width": 391
            }
          }
        }
      ]
    },
    {
      "cell_type": "code",
      "metadata": {
        "id": "xkujCJyFBAQw"
      },
      "source": [
        "#Because I don't want to mess up my inputs and outputs, I test their lengths before and after the outlier filtering.\n",
        "assert(len(input) == len(output))\n",
        "\n",
        "newinput=[]\n",
        "newoutput=[]\n",
        "\n",
        "for i in range(len(output)):\n",
        "    if(output[i] not in outliers):\n",
        "        newinput.append(input[i])\n",
        "        newoutput.append(output[i])\n",
        "\n",
        "input = newinput\n",
        "output = newoutput\n",
        "\n",
        "assert(len(input) == len(output))"
      ],
      "execution_count": null,
      "outputs": []
    },
    {
      "cell_type": "code",
      "metadata": {
        "id": "nx64ocEIIVzY"
      },
      "source": [
        "#However, this outlier filtering made things complicated. Now I have to make a new mapper, so that i won't end up with output classes containing 0 elements.\n",
        "\n",
        "mapper_list = [] #Idx of the mapper list is the new value, the element is the old value.\n",
        "new_output_elements = set(output)\n",
        "\n",
        "for i in new_output_elements:\n",
        "    mapper_list.append(i)\n",
        "\n",
        "newoutput = []\n",
        "\n",
        "for i in output:\n",
        "    newoutput.append(mapper_list.index(i))\n",
        "\n",
        "output = newoutput"
      ],
      "execution_count": null,
      "outputs": []
    },
    {
      "cell_type": "code",
      "metadata": {
        "id": "JastNnOpLOxB"
      },
      "source": [
        "#Reshaping the input data to be compatible with LSTMs and normalizing it in the hope of better learning.\n",
        "\n",
        "input = np.reshape(np.asarray(input), (len(input), SLICE_LEN, 1))\n",
        "output = to_categorical(output)\n",
        "\n",
        "input=np.asarray(input) / float(len(mapper))\n",
        "output=np.asarray(output)"
      ],
      "execution_count": null,
      "outputs": []
    },
    {
      "cell_type": "code",
      "metadata": {
        "id": "gUZengRvmqmL"
      },
      "source": [
        "SEED = 54\n",
        "#np.random.seed(SEED)\n",
        "\n",
        "from sklearn.model_selection import train_test_split\n",
        "\n",
        "X_train, X_test, Y_train, Y_test = train_test_split(input, output, test_size=0.01, random_state=SEED)\n",
        "X_train, X_val, Y_train, Y_val = train_test_split(X_train, Y_train, test_size=0.2, random_state=SEED)\n",
        "\n",
        "startidx = np.random.randint(0, len(X_test)-1)\n",
        "starting_slice = X_test[startidx]\n",
        "\n",
        "print(X_train.shape, X_val.shape, X_test.shape, Y_train.shape, Y_val.shape, Y_test.shape)\n",
        "print(startidx)\n",
        "print(starting_slice)"
      ],
      "execution_count": null,
      "outputs": []
    },
    {
      "cell_type": "markdown",
      "metadata": {
        "id": "sGhhDcBu7w49"
      },
      "source": [
        "# MODEL TRAINING SECTION"
      ]
    },
    {
      "cell_type": "code",
      "metadata": {
        "id": "9RGwd0Y58k3R"
      },
      "source": [
        "MODEL_NAME = \"guitarmodel1\"\n",
        "\n",
        "MODEL_SAVE_PATH = \"/content/drive/MyDrive/MLFolder/Onlab/modelsaves\"\n",
        "\n",
        "TBPATH = \"/content/tblogs/\"+MODEL_NAME"
      ],
      "execution_count": null,
      "outputs": []
    },
    {
      "cell_type": "code",
      "metadata": {
        "id": "eLW2ZTUFpWrc"
      },
      "source": [
        "#Before creating the neural network, I define some important callbacks\n",
        "\n",
        "tb = TensorBoard(log_dir = TBPATH, write_images=True, histogram_freq=1)\n",
        "\n",
        "plateau = ReduceLROnPlateau(monitor='val_loss', factor=0.2, patience=3, min_lr=0.00005, verbose=1)\n",
        "\n",
        "es = EarlyStopping(monitor='val_loss', patience = 10, restore_best_weights = True, verbose=1)\n",
        "\n",
        "callbacks = [plateau, es, tb]"
      ],
      "execution_count": null,
      "outputs": []
    },
    {
      "cell_type": "code",
      "metadata": {
        "id": "T7Ic7fmOtiSi"
      },
      "source": [
        "from keras.regularizers import l1_l2\n",
        "from keras.layers import Dropout"
      ],
      "execution_count": null,
      "outputs": []
    },
    {
      "cell_type": "code",
      "metadata": {
        "colab": {
          "background_save": true
        },
        "id": "zqfKjzEX2OSL"
      },
      "source": [
        "#I create the neural network model here.\n",
        "\n",
        "model = Sequential()\n",
        "model.add(LSTM(512, input_shape=(X_train.shape[1], X_train.shape[2]), return_sequences=True))\n",
        "model.add(LSTM(256))\n",
        "model.add(Dense(Y_train.shape[1], activation='softmax'))\n",
        "\n",
        "model.compile(optimizer='Adam', loss='categorical_crossentropy', metrics=['accuracy'])\n",
        "\n",
        "model.fit(X_train, Y_train, epochs=10000, batch_size=16, validation_data=(X_val, Y_val), callbacks=callbacks)\n",
        "\n",
        "model.evaluate(X_test, Y_test)\n",
        "\n",
        "model.save(MODEL_SAVE_PATH + MODEL_NAME + \".h5\")"
      ],
      "execution_count": null,
      "outputs": []
    },
    {
      "cell_type": "code",
      "metadata": {
        "id": "tEDmsNdvr1CP"
      },
      "source": [
        "#I use the TensorBoard here\n",
        "\n",
        "%tensorboard --logdir=\"/content/tblogs/guitarmodel1\" "
      ],
      "execution_count": null,
      "outputs": []
    },
    {
      "cell_type": "markdown",
      "metadata": {
        "id": "I5udvodq8Bw8"
      },
      "source": [
        "# INFERENCE AND POSTPROCESSING SECTION"
      ]
    },
    {
      "cell_type": "code",
      "metadata": {
        "id": "lqA3epxQEX0C"
      },
      "source": [
        "def sample(preds, temperature=1.0):\n",
        "    # helper function to sample an index from a probability array\n",
        "    preds = np.asarray(preds).astype(\"float64\")\n",
        "    preds = np.log(preds) / temperature\n",
        "    exp_preds = np.exp(preds)\n",
        "    preds = exp_preds / np.sum(exp_preds)\n",
        "    preds = np.squeeze(preds)\n",
        "    probas = np.random.multinomial(1, preds, 1)\n",
        "    return np.argmax(probas)"
      ],
      "execution_count": null,
      "outputs": []
    },
    {
      "cell_type": "code",
      "metadata": {
        "id": "oWpOHOeMLzMk"
      },
      "source": [
        "def generate_notes(model, network_input, mapper, mapperlist = None, temp=1.0):\n",
        "    \"\"\" Generate notes from the neural network based on a sequence of notes \"\"\"\n",
        "    # pick a random sequence from the input as a starting point for the prediction\n",
        "    start = np.random.randint(0, len(network_input)-1)\n",
        "\n",
        "    pattern = network_input[start]\n",
        "    prediction_output = []\n",
        "\n",
        "    # generate 500 notes\n",
        "    for note_index in range(500):\n",
        "        prediction_input = np.reshape(pattern, (1, len(pattern), 1))\n",
        "\n",
        "        prediction = model.predict(prediction_input, verbose=0)\n",
        "\n",
        "        #prediction = sample(prediction, temp)\n",
        "        index = sample(prediction, temp)\n",
        "\n",
        "        #index = np.argmax(prediction)\n",
        "        if mapperlist is not None: #Idx of the mapper list is the new value, the element is the old value. This is used when I filter for outliers.\n",
        "            index=mapperlist[index]\n",
        "\n",
        "        result = get_key_from_value(index, mapper)\n",
        "        prediction_output.append(result)\n",
        "\n",
        "        pattern = np.append(pattern, index/float(len(mapper)))\n",
        "\n",
        "        pattern = pattern[1:len(pattern)]\n",
        "\n",
        "    return prediction_output"
      ],
      "execution_count": null,
      "outputs": []
    },
    {
      "cell_type": "code",
      "metadata": {
        "colab": {
          "base_uri": "https://localhost:8080/"
        },
        "id": "PJYdVGHiQeR-",
        "outputId": "ed45639e-e23e-42c8-cc9d-762fe10446a6"
      },
      "source": [
        "generated_outputs=[]\n",
        "\n",
        "temperatures = [0.5, 0.7, 0.8, 0.9, 1.0, 1.2]\n",
        "\n",
        "# IMPORTANT: When using outlier filtering, DO NOT FORGET to use the mapperlist parameter!!\n",
        "\n",
        "for temp in tqdm(temperatures):\n",
        "    generated_outputs.append(generate_notes(model, input, mapper, mapper_list, temp = temp))"
      ],
      "execution_count": null,
      "outputs": [
        {
          "output_type": "stream",
          "text": [
            "100%|██████████| 6/6 [01:39<00:00, 16.59s/it]\n"
          ],
          "name": "stderr"
        }
      ]
    },
    {
      "cell_type": "code",
      "metadata": {
        "id": "_rLzYrWgJxJ-"
      },
      "source": [
        "for out in generated_outputs:\n",
        "    print(out)"
      ],
      "execution_count": null,
      "outputs": []
    },
    {
      "cell_type": "code",
      "metadata": {
        "id": "9Lo0vDc_SqNv"
      },
      "source": [
        "STARTING_OFFSET = 0\n",
        "\n",
        "OUTPUT_PATH = \"/content/drive/MyDrive/MLFolder/Onlab/Outputs/\"\n",
        "\n",
        "for i, out in enumerate(generated_outputs):\n",
        "    create_midi_with_embedded_durations(out, target_instrument = instrument.ElectricGuitar(), filename = OUTPUT_PATH + MODEL_NAME + f'{i+STARTING_OFFSET}.mid')"
      ],
      "execution_count": null,
      "outputs": []
    },
    {
      "cell_type": "code",
      "metadata": {
        "id": "oTTbDS9Q1Bbf"
      },
      "source": [
        "STARTING_OFFSET = 0\n",
        "\n",
        "OUTPUT_PATH = \"/content/drive/MyDrive/MLFolder/Onlab/Outputs/\"\n",
        "\n",
        "for i, out in enumerate(generated_outputs):\n",
        "    create_midi_without_durations(out, target_instrument = instrument.ElectricGuitar(), filename = OUTPUT_PATH + MODEL_NAME + f'{i+STARTING_OFFSET}.mid')"
      ],
      "execution_count": null,
      "outputs": []
    },
    {
      "cell_type": "markdown",
      "metadata": {
        "id": "xNKr2yri8M6v"
      },
      "source": [
        "# DEBUG SECTION"
      ]
    },
    {
      "cell_type": "code",
      "metadata": {
        "colab": {
          "base_uri": "https://localhost:8080/"
        },
        "id": "G58iw9ULn4AA",
        "outputId": "c42404f9-0fe2-4fd0-ea20-ddbcacec6636"
      },
      "source": [
        "#This is a debug cell, with a lot of prints:\n",
        "\n",
        "print(mapper)\n",
        "print(len(mapper))\n",
        "\n",
        "print(input[0])\n",
        "\n",
        "print(input.shape)\n",
        "print(output.shape)\n"
      ],
      "execution_count": null,
      "outputs": [
        {
          "output_type": "stream",
          "text": [
            "{'<music21.chord.Chord A2 A3 E3>': 0, '<music21.chord.Chord A2 A3>': 1, '<music21.chord.Chord A2 D2>': 2, '<music21.chord.Chord A2 D3 A3 D4>': 3, '<music21.chord.Chord A2 D3 G3>': 4, '<music21.chord.Chord A2 D3>': 5, '<music21.chord.Chord A2 E2>': 6, '<music21.chord.Chord A2 E3 A3 B3>': 7, '<music21.chord.Chord A2 E3 A3 C4 E4 A4>': 8, '<music21.chord.Chord A2 E3 A3 C4 E4>': 9, '<music21.chord.Chord A2 E3 A3 C4>': 10, '<music21.chord.Chord A2 E3 A3 E2>': 11, '<music21.chord.Chord A2 E3 A3>': 12, '<music21.chord.Chord A2 E3 B3>': 13, '<music21.chord.Chord A2 E3>': 14, '<music21.chord.Chord A2 G3>': 15, '<music21.chord.Chord A2>': 16, '<music21.chord.Chord A3 A2>': 17, '<music21.chord.Chord A3 A3 A4>': 18, '<music21.chord.Chord A3 A4 E3 E4 D4 D5>': 19, '<music21.chord.Chord A3 A4>': 20, '<music21.chord.Chord A3 B3 E4>': 21, '<music21.chord.Chord A3 B3>': 22, '<music21.chord.Chord A3 C#3>': 23, '<music21.chord.Chord A3 C3>': 24, '<music21.chord.Chord A3 C4>': 25, '<music21.chord.Chord A3 D3 A2>': 26, '<music21.chord.Chord A3 D3 D2>': 27, '<music21.chord.Chord A3 D3 E2>': 28, '<music21.chord.Chord A3 D3 G2>': 29, '<music21.chord.Chord A3 D3>': 30, '<music21.chord.Chord A3 D4 D3 F#4>': 31, '<music21.chord.Chord A3 D4 D3>': 32, '<music21.chord.Chord A3 D4 E4>': 33, '<music21.chord.Chord A3 D4 F#4>': 34, '<music21.chord.Chord A3 D4 F4>': 35, '<music21.chord.Chord A3 D4>': 36, '<music21.chord.Chord A3 E3 A2>': 37, '<music21.chord.Chord A3 E3 B2 E2>': 38, '<music21.chord.Chord A3 E3 C3>': 39, '<music21.chord.Chord A3 E3>': 40, '<music21.chord.Chord A3 F#3 A2>': 41, '<music21.chord.Chord A3 F#3>': 42, '<music21.chord.Chord A3 F3 C3 F2>': 43, '<music21.chord.Chord A3 F3>': 44, '<music21.chord.Chord A3>': 45, '<music21.chord.Chord A4 A3>': 46, '<music21.chord.Chord A4 A4 A5>': 47, '<music21.chord.Chord A4 A4>': 48, '<music21.chord.Chord A4 A5>': 49, '<music21.chord.Chord A4 C#5>': 50, '<music21.chord.Chord A4 D3>': 51, '<music21.chord.Chord A4 D4 A3 D3>': 52, '<music21.chord.Chord A4 D4>': 53, '<music21.chord.Chord A4 D5>': 54, '<music21.chord.Chord A4 E4 A3 A2>': 55, '<music21.chord.Chord A4 E4 A3 E3 A2>': 56, '<music21.chord.Chord A4 E4 A3>': 57, '<music21.chord.Chord A4 E4 B3>': 58, '<music21.chord.Chord A4 E4 C4 A3 E3 A2>': 59, '<music21.chord.Chord A4 E4 C4 G3>': 60, '<music21.chord.Chord A4 E4 C4>': 61, '<music21.chord.Chord A4 E4 D4 A3 D3>': 62, '<music21.chord.Chord A4 E4>': 63, '<music21.chord.Chord A4 F#3>': 64, '<music21.chord.Chord A4 F#4 D4 A3 D3>': 65, '<music21.chord.Chord A4 F#4>': 66, '<music21.chord.Chord A4 F4 D4 A3 D3>': 67, '<music21.chord.Chord A4 F4 D4 D3>': 68, '<music21.chord.Chord A4 F4>': 69, '<music21.chord.Chord A4 G#4>': 70, '<music21.chord.Chord A4 G4 D4 B3>': 71, '<music21.chord.Chord A4 G4 D4 D3>': 72, '<music21.chord.Chord A4 G4>': 73, '<music21.chord.Chord A4>': 74, '<music21.chord.Chord A5 A4>': 75, '<music21.chord.Chord A5 A5 A6>': 76, '<music21.chord.Chord A5 A6>': 77, '<music21.chord.Chord A5 F5 D5>': 78, '<music21.chord.Chord A5 G5>': 79, '<music21.chord.Chord A5>': 80, '<music21.chord.Chord B-2 F2>': 81, '<music21.chord.Chord B-2 F3 B-3>': 82, '<music21.chord.Chord B-2 F3>': 83, '<music21.chord.Chord B-2>': 84, '<music21.chord.Chord B-3 B-2>': 85, '<music21.chord.Chord B-3 C4>': 86, '<music21.chord.Chord B-3 D3>': 87, '<music21.chord.Chord B-3 E-3 B-2>': 88, '<music21.chord.Chord B-3 E-3>': 89, '<music21.chord.Chord B-3 E3>': 90, '<music21.chord.Chord B-3 F#3>': 91, '<music21.chord.Chord B-3 F3 B-2>': 92, '<music21.chord.Chord B-3 F3>': 93, '<music21.chord.Chord B-3>': 94, '<music21.chord.Chord B-4 A4>': 95, '<music21.chord.Chord B-4 B-3>': 96, '<music21.chord.Chord B-4 F#4 C#4 F#3>': 97, '<music21.chord.Chord B-4 F#4>': 98, '<music21.chord.Chord B-4 F4 D4>': 99, '<music21.chord.Chord B-4 F4>': 100, '<music21.chord.Chord B-4 G#4>': 101, '<music21.chord.Chord B-4>': 102, '<music21.chord.Chord B-5>': 103, '<music21.chord.Chord B2 B3 F#3>': 104, '<music21.chord.Chord B2 B3>': 105, '<music21.chord.Chord B2 D3 G3 B3>': 106, '<music21.chord.Chord B2 E2>': 107, '<music21.chord.Chord B2 E3 G3>': 108, '<music21.chord.Chord B2 F#3 B3>': 109, '<music21.chord.Chord B2 F#3>': 110, '<music21.chord.Chord B2 G2>': 111, '<music21.chord.Chord B2>': 112, '<music21.chord.Chord B3 A3>': 113, '<music21.chord.Chord B3 A4 D3>': 114, '<music21.chord.Chord B3 B2>': 115, '<music21.chord.Chord B3 B3 B4>': 116, '<music21.chord.Chord B3 B3>': 117, '<music21.chord.Chord B3 B4>': 118, '<music21.chord.Chord B3 C#4>': 119, '<music21.chord.Chord B3 D3 A2>': 120, '<music21.chord.Chord B3 D3>': 121, '<music21.chord.Chord B3 D4 G4>': 122, '<music21.chord.Chord B3 E-3>': 123, '<music21.chord.Chord B3 E3 B2 E2>': 124, '<music21.chord.Chord B3 E3 E2>': 125, '<music21.chord.Chord B3 E3 E4>': 126, '<music21.chord.Chord B3 E3>': 127, '<music21.chord.Chord B3 E4 A3 F3>': 128, '<music21.chord.Chord B3 E4 A3>': 129, '<music21.chord.Chord B3 E4 B3 E3>': 130, '<music21.chord.Chord B3 E4 E3>': 131, '<music21.chord.Chord B3 E4 G3>': 132, '<music21.chord.Chord B3 E4 G4>': 133, '<music21.chord.Chord B3 E4>': 134, '<music21.chord.Chord B3 F#3 B2>': 135, '<music21.chord.Chord B3 F#3>': 136, '<music21.chord.Chord B3 F#4>': 137, '<music21.chord.Chord B3 F3>': 138, '<music21.chord.Chord B3 G#3 A2>': 139, '<music21.chord.Chord B3 G#3 E3>': 140, '<music21.chord.Chord B3 G#3>': 141, '<music21.chord.Chord B3 G3 D3 E2>': 142, '<music21.chord.Chord B3 G3 D3 G2>': 143, '<music21.chord.Chord B3 G3 D3>': 144, '<music21.chord.Chord B3 G3 E3>': 145, '<music21.chord.Chord B3 G3 G3 B2>': 146, '<music21.chord.Chord B3 G3>': 147, '<music21.chord.Chord B3>': 148, '<music21.chord.Chord B4 A4>': 149, '<music21.chord.Chord B4 B3>': 150, '<music21.chord.Chord B4 B4>': 151, '<music21.chord.Chord B4 B5 G4 G5 D4 D5>': 152, '<music21.chord.Chord B4 B5>': 153, '<music21.chord.Chord B4 E4 B3 E3>': 154, '<music21.chord.Chord B4 E4>': 155, '<music21.chord.Chord B4 E5>': 156, '<music21.chord.Chord B4 F#4 B3>': 157, '<music21.chord.Chord B4 F#4 E4>': 158, '<music21.chord.Chord B4 F#4>': 159, '<music21.chord.Chord B4 F4 C4 F3>': 160, '<music21.chord.Chord B4 G#4>': 161, '<music21.chord.Chord B4 G3>': 162, '<music21.chord.Chord B4 G4 D4>': 163, '<music21.chord.Chord B4 G4 E4 B3 E3>': 164, '<music21.chord.Chord B4 G4>': 165, '<music21.chord.Chord B4>': 166, '<music21.chord.Chord B5 A5>': 167, '<music21.chord.Chord B5 B6>': 168, '<music21.chord.Chord B5>': 169, '<music21.chord.Chord C#3 F#2>': 170, '<music21.chord.Chord C#3 G#3>': 171, '<music21.chord.Chord C#3 G2>': 172, '<music21.chord.Chord C#3>': 173, '<music21.chord.Chord C#4 A3 C#3>': 174, '<music21.chord.Chord C#4 A3 E3 A2>': 175, '<music21.chord.Chord C#4 A3 E3>': 176, '<music21.chord.Chord C#4 A3 F#3 C#3 F#2>': 177, '<music21.chord.Chord C#4 A3>': 178, '<music21.chord.Chord C#4 B3>': 179, '<music21.chord.Chord C#4 C#5>': 180, '<music21.chord.Chord C#4 E3>': 181, '<music21.chord.Chord C#4 F#3>': 182, '<music21.chord.Chord C#4 G#3 C#3 A2>': 183, '<music21.chord.Chord C#4 G#3 C#3>': 184, '<music21.chord.Chord C#4 G#3>': 185, '<music21.chord.Chord C#4 G3>': 186, '<music21.chord.Chord C#4>': 187, '<music21.chord.Chord C#5 A4>': 188, '<music21.chord.Chord C#5 C#6>': 189, '<music21.chord.Chord C#5>': 190, '<music21.chord.Chord C#6>': 191, '<music21.chord.Chord C3 C4 B3>': 192, '<music21.chord.Chord C3 C4>': 193, '<music21.chord.Chord C3 E2>': 194, '<music21.chord.Chord C3 E3 A3>': 195, '<music21.chord.Chord C3 E3 G3>': 196, '<music21.chord.Chord C3 E3>': 197, '<music21.chord.Chord C3 E4>': 198, '<music21.chord.Chord C3 F2>': 199, '<music21.chord.Chord C3 F3 C4>': 200, '<music21.chord.Chord C3 F3 G3>': 201, '<music21.chord.Chord C3 G2>': 202, '<music21.chord.Chord C3 G3 C4 D4 G4>': 203, '<music21.chord.Chord C3 G3 C4 D4>': 204, '<music21.chord.Chord C3 G3 C4 E4>': 205, '<music21.chord.Chord C3 G3 C4>': 206, '<music21.chord.Chord C3 G3>': 207, '<music21.chord.Chord C3>': 208, '<music21.chord.Chord C4 A3 E3 A2>': 209, '<music21.chord.Chord C4 A3 E3>': 210, '<music21.chord.Chord C4 A3 F3 C3 F2>': 211, '<music21.chord.Chord C4 A3 F3 C3>': 212, '<music21.chord.Chord C4 A3 F3>': 213, '<music21.chord.Chord C4 A3>': 214, '<music21.chord.Chord C4 B-3 F3>': 215, '<music21.chord.Chord C4 B-3>': 216, '<music21.chord.Chord C4 B3>': 217, '<music21.chord.Chord C4 C3>': 218, '<music21.chord.Chord C4 C5>': 219, '<music21.chord.Chord C4 D3>': 220, '<music21.chord.Chord C4 D4>': 221, '<music21.chord.Chord C4 E3 C3>': 222, '<music21.chord.Chord C4 E3>': 223, '<music21.chord.Chord C4 E4 A4>': 224, '<music21.chord.Chord C4 E4 G3>': 225, '<music21.chord.Chord C4 E4>': 226, '<music21.chord.Chord C4 F3 C3>': 227, '<music21.chord.Chord C4 F3>': 228, '<music21.chord.Chord C4 F4 G4>': 229, '<music21.chord.Chord C4 F4>': 230, '<music21.chord.Chord C4 G3 C3 G2>': 231, '<music21.chord.Chord C4 G3 C3>': 232, '<music21.chord.Chord C4 G3 D3>': 233, '<music21.chord.Chord C4 G3 E3 C3>': 234, '<music21.chord.Chord C4 G3>': 235, '<music21.chord.Chord C4>': 236, '<music21.chord.Chord C5 A4>': 237, '<music21.chord.Chord C5 B-4>': 238, '<music21.chord.Chord C5 C4>': 239, '<music21.chord.Chord C5 C5>': 240, '<music21.chord.Chord C5 C6>': 241, '<music21.chord.Chord C5 E5>': 242, '<music21.chord.Chord C5 F4 C4 F3>': 243, '<music21.chord.Chord C5 F5>': 244, '<music21.chord.Chord C5 G4 E4 C4 G3 C3>': 245, '<music21.chord.Chord C5 G4 E4>': 246, '<music21.chord.Chord C5 G4>': 247, '<music21.chord.Chord C5>': 248, '<music21.chord.Chord C6>': 249, '<music21.chord.Chord D2>': 250, '<music21.chord.Chord D3 A2 D2>': 251, '<music21.chord.Chord D3 A2 E2>': 252, '<music21.chord.Chord D3 A2 F#2>': 253, '<music21.chord.Chord D3 A2>': 254, '<music21.chord.Chord D3 A3 A2>': 255, '<music21.chord.Chord D3 A3 D4 E4 A4>': 256, '<music21.chord.Chord D3 A3 D4 E4>': 257, '<music21.chord.Chord D3 A3 D4 F#4>': 258, '<music21.chord.Chord D3 A3 D4>': 259, '<music21.chord.Chord D3 A3>': 260, '<music21.chord.Chord D3 B-3>': 261, '<music21.chord.Chord D3 B2>': 262, '<music21.chord.Chord D3 C#3>': 263, '<music21.chord.Chord D3 C4>': 264, '<music21.chord.Chord D3 D3>': 265, '<music21.chord.Chord D3 D4>': 266, '<music21.chord.Chord D3 E-4>': 267, '<music21.chord.Chord D3 E2>': 268, '<music21.chord.Chord D3 E3 A2>': 269, '<music21.chord.Chord D3 F#2>': 270, '<music21.chord.Chord D3 F#3 G3>': 271, '<music21.chord.Chord D3 F#4>': 272, '<music21.chord.Chord D3 G2>': 273, '<music21.chord.Chord D3 G3 B3>': 274, '<music21.chord.Chord D3 G3>': 275, '<music21.chord.Chord D3>': 276, '<music21.chord.Chord D4 A3 A2>': 277, '<music21.chord.Chord D4 A3 D3 A2 D2>': 278, '<music21.chord.Chord D4 A3 D3 A2>': 279, '<music21.chord.Chord D4 A3 D3 D2>': 280, '<music21.chord.Chord D4 A3 D3 F#2>': 281, '<music21.chord.Chord D4 A3 D3>': 282, '<music21.chord.Chord D4 A3 E3>': 283, '<music21.chord.Chord D4 A3>': 284, '<music21.chord.Chord D4 A4>': 285, '<music21.chord.Chord D4 B-3 D3 A2 D2>': 286, '<music21.chord.Chord D4 B-3 D3>': 287, '<music21.chord.Chord D4 B-3 F3>': 288, '<music21.chord.Chord D4 B-3>': 289, '<music21.chord.Chord D4 B3 E3>': 290, '<music21.chord.Chord D4 B3 G3 D3>': 291, '<music21.chord.Chord D4 B3 G3>': 292, '<music21.chord.Chord D4 B3>': 293, '<music21.chord.Chord D4 C4 G3 C3>': 294, '<music21.chord.Chord D4 C4 G3 D3>': 295, '<music21.chord.Chord D4 C4 G3>': 296, '<music21.chord.Chord D4 C4>': 297, '<music21.chord.Chord D4 D3>': 298, '<music21.chord.Chord D4 D4 D5>': 299, '<music21.chord.Chord D4 D5>': 300, '<music21.chord.Chord D4 E3>': 301, '<music21.chord.Chord D4 E4>': 302, '<music21.chord.Chord D4 F#3>': 303, '<music21.chord.Chord D4 F#4>': 304, '<music21.chord.Chord D4 F3>': 305, '<music21.chord.Chord D4 F4>': 306, '<music21.chord.Chord D4 G#3 D3>': 307, '<music21.chord.Chord D4 G3 C3>': 308, '<music21.chord.Chord D4 G3 D3 A2 G2>': 309, '<music21.chord.Chord D4 G3 D3 B2>': 310, '<music21.chord.Chord D4 G3 D3 G2>': 311, '<music21.chord.Chord D4 G3 D3>': 312, '<music21.chord.Chord D4 G3 E3>': 313, '<music21.chord.Chord D4 G3>': 314, '<music21.chord.Chord D4 G4 G3 D3>': 315, '<music21.chord.Chord D4 G4>': 316, '<music21.chord.Chord D4>': 317, '<music21.chord.Chord D5 A4 D3>': 318, '<music21.chord.Chord D5 A4 D4>': 319, '<music21.chord.Chord D5 A4>': 320, '<music21.chord.Chord D5 B-4>': 321, '<music21.chord.Chord D5 B3>': 322, '<music21.chord.Chord D5 B4>': 323, '<music21.chord.Chord D5 C5>': 324, '<music21.chord.Chord D5 D4>': 325, '<music21.chord.Chord D5 D5 D6>': 326, '<music21.chord.Chord D5 D6>': 327, '<music21.chord.Chord D5 F5>': 328, '<music21.chord.Chord D5 G3 G4>': 329, '<music21.chord.Chord D5 G4 D4 G3>': 330, '<music21.chord.Chord D5 G5>': 331, '<music21.chord.Chord D5>': 332, '<music21.chord.Chord D6 D5>': 333, '<music21.chord.Chord D6>': 334, '<music21.chord.Chord E-3 G#2>': 335, '<music21.chord.Chord E-3>': 336, '<music21.chord.Chord E-4 B-3 E-3>': 337, '<music21.chord.Chord E-4 B-3>': 338, '<music21.chord.Chord E-4 B2>': 339, '<music21.chord.Chord E-4 B3 F#3 B2>': 340, '<music21.chord.Chord E-4 B3 F#3>': 341, '<music21.chord.Chord E-4 D4>': 342, '<music21.chord.Chord E-4 G#3>': 343, '<music21.chord.Chord E-4>': 344, '<music21.chord.Chord E-5 B4>': 345, '<music21.chord.Chord E-5 C5>': 346, '<music21.chord.Chord E-5>': 347, '<music21.chord.Chord E2 A2 E3 A3>': 348, '<music21.chord.Chord E2 A2>': 349, '<music21.chord.Chord E2 B2 E3 B3>': 350, '<music21.chord.Chord E2 B2 E3 G3 B3 E4>': 351, '<music21.chord.Chord E2 B2 E3 G3 B3>': 352, '<music21.chord.Chord E2 B2 E3>': 353, '<music21.chord.Chord E2 B2>': 354, '<music21.chord.Chord E2 E3 B3 E4 B3 E4>': 355, '<music21.chord.Chord E2 E3 B3 E4 B3>': 356, '<music21.chord.Chord E2 E3 B3 E4>': 357, '<music21.chord.Chord E2 E3 B3>': 358, '<music21.chord.Chord E2 E3>': 359, '<music21.chord.Chord E2>': 360, '<music21.chord.Chord E3 A2>': 361, '<music21.chord.Chord E3 A3 B3>': 362, '<music21.chord.Chord E3 A3 C#4 E4>': 363, '<music21.chord.Chord E3 A3 C#4>': 364, '<music21.chord.Chord E3 A3 C4>': 365, '<music21.chord.Chord E3 A3 D4>': 366, '<music21.chord.Chord E3 A3>': 367, '<music21.chord.Chord E3 B2 E2>': 368, '<music21.chord.Chord E3 B2>': 369, '<music21.chord.Chord E3 B3 E4 G4 B4>': 370, '<music21.chord.Chord E3 B3 E4 G4>': 371, '<music21.chord.Chord E3 B3 E4>': 372, '<music21.chord.Chord E3 B3>': 373, '<music21.chord.Chord E3 C3 G2>': 374, '<music21.chord.Chord E3 C3>': 375, '<music21.chord.Chord E3 C4>': 376, '<music21.chord.Chord E3 E2 B3 E4>': 377, '<music21.chord.Chord E3 E2>': 378, '<music21.chord.Chord E3 E4 B3>': 379, '<music21.chord.Chord E3 E4>': 380, '<music21.chord.Chord E3 G#2>': 381, '<music21.chord.Chord E3 G4>': 382, '<music21.chord.Chord E3>': 383, '<music21.chord.Chord E4 A3 E3 A2>': 384, '<music21.chord.Chord E4 A3 E3>': 385, '<music21.chord.Chord E4 A3>': 386, '<music21.chord.Chord E4 A4 E4 D3>': 387, '<music21.chord.Chord E4 A4>': 388, '<music21.chord.Chord E4 B-4 F4 D3>': 389, '<music21.chord.Chord E4 B3 A3 F#3 F#2>': 390, '<music21.chord.Chord E4 B3 A3 F#3>': 391, '<music21.chord.Chord E4 B3 A3 F3 C3 F2>': 392, '<music21.chord.Chord E4 B3 A3>': 393, '<music21.chord.Chord E4 B3 B3 E3 B2 E2>': 394, '<music21.chord.Chord E4 B3 C4 G3 C3>': 395, '<music21.chord.Chord E4 B3 E3 B2 E2>': 396, '<music21.chord.Chord E4 B3 E3 B2>': 397, '<music21.chord.Chord E4 B3 E3 E2>': 398, '<music21.chord.Chord E4 B3 E3>': 399, '<music21.chord.Chord E4 B3 E4 B3 E3 E2>': 400, '<music21.chord.Chord E4 B3 E4 B3 E3>': 401, '<music21.chord.Chord E4 B3 E4 E3>': 402, '<music21.chord.Chord E4 B3 E4>': 403, '<music21.chord.Chord E4 B3 F#3 C#3>': 404, '<music21.chord.Chord E4 B3 F#3>': 405, '<music21.chord.Chord E4 B3 G#3 E3 B2 E2>': 406, '<music21.chord.Chord E4 B3 G#3 E3 B2>': 407, '<music21.chord.Chord E4 B3 G#3 E3 G#2>': 408, '<music21.chord.Chord E4 B3 G#3 E3>': 409, '<music21.chord.Chord E4 B3 G#3>': 410, '<music21.chord.Chord E4 B3 G3 D3>': 411, '<music21.chord.Chord E4 B3 G3 E3 B2 E2>': 412, '<music21.chord.Chord E4 B3 G3>': 413, '<music21.chord.Chord E4 B3 G4>': 414, '<music21.chord.Chord E4 B3>': 415, '<music21.chord.Chord E4 B4>': 416, '<music21.chord.Chord E4 C#4 A3 E3 A2>': 417, '<music21.chord.Chord E4 C#4>': 418, '<music21.chord.Chord E4 C3>': 419, '<music21.chord.Chord E4 C4 A3 E3 A2>': 420, '<music21.chord.Chord E4 C4 D3 A2 D2>': 421, '<music21.chord.Chord E4 C4 D3>': 422, '<music21.chord.Chord E4 C4 G3 C3>': 423, '<music21.chord.Chord E4 C4 G3 E3 A2>': 424, '<music21.chord.Chord E4 C4 G3 E3 C3>': 425, '<music21.chord.Chord E4 C4 G3>': 426, '<music21.chord.Chord E4 C4>': 427, '<music21.chord.Chord E4 C5 G4 D3>': 428, '<music21.chord.Chord E4 C5>': 429, '<music21.chord.Chord E4 D3>': 430, '<music21.chord.Chord E4 D4 A3 A2>': 431, '<music21.chord.Chord E4 D4 A3 D3>': 432, '<music21.chord.Chord E4 D4 A3 E3>': 433, '<music21.chord.Chord E4 D4 A3>': 434, '<music21.chord.Chord E4 D4>': 435, '<music21.chord.Chord E4 D5 A4 D3>': 436, '<music21.chord.Chord E4 E2>': 437, '<music21.chord.Chord E4 E3 B2 E2>': 438, '<music21.chord.Chord E4 E3>': 439, '<music21.chord.Chord E4 E4 B3>': 440, '<music21.chord.Chord E4 E4 D4 D3>': 441, '<music21.chord.Chord E4 E4 E5>': 442, '<music21.chord.Chord E4 E4>': 443, '<music21.chord.Chord E4 E5>': 444, '<music21.chord.Chord E4 F#4>': 445, '<music21.chord.Chord E4 F4 D4 D3>': 446, '<music21.chord.Chord E4 G2 D3 G3 C4>': 447, '<music21.chord.Chord E4 G3>': 448, '<music21.chord.Chord E4 G4 D4 D3>': 449, '<music21.chord.Chord E4 G4>': 450, '<music21.chord.Chord E4>': 451, '<music21.chord.Chord E5 B4 G4>': 452, '<music21.chord.Chord E5 B4>': 453, '<music21.chord.Chord E5 C#5>': 454, '<music21.chord.Chord E5 C5>': 455, '<music21.chord.Chord E5 D5>': 456, '<music21.chord.Chord E5 E5 E6>': 457, '<music21.chord.Chord E5 E6 B4 B5 G4 G5>': 458, '<music21.chord.Chord E5 E6>': 459, '<music21.chord.Chord E5 G5>': 460, '<music21.chord.Chord E5>': 461, '<music21.chord.Chord E6 E7>': 462, '<music21.chord.Chord E6>': 463, '<music21.chord.Chord F#2>': 464, '<music21.chord.Chord F#3 A2>': 465, '<music21.chord.Chord F#3 B2>': 466, '<music21.chord.Chord F#3 C#3 F#2>': 467, '<music21.chord.Chord F#3 D3 F#2>': 468, '<music21.chord.Chord F#3 D3>': 469, '<music21.chord.Chord F#3 D4 F#4>': 470, '<music21.chord.Chord F#3 G3>': 471, '<music21.chord.Chord F#3>': 472, '<music21.chord.Chord F#4 A3>': 473, '<music21.chord.Chord F#4 B3 F#3 B2>': 474, '<music21.chord.Chord F#4 B3>': 475, '<music21.chord.Chord F#4 B4>': 476, '<music21.chord.Chord F#4 C#4 B-3>': 477, '<music21.chord.Chord F#4 C#4 F#3>': 478, '<music21.chord.Chord F#4 C#4>': 479, '<music21.chord.Chord F#4 C4>': 480, '<music21.chord.Chord F#4 D3>': 481, '<music21.chord.Chord F#4 D4 A3 D3>': 482, '<music21.chord.Chord F#4 D4 A3>': 483, '<music21.chord.Chord F#4 D4 B3>': 484, '<music21.chord.Chord F#4 D4 F#3>': 485, '<music21.chord.Chord F#4 D4>': 486, '<music21.chord.Chord F#4 E3>': 487, '<music21.chord.Chord F#4 E4 B3 E3>': 488, '<music21.chord.Chord F#4 E4>': 489, '<music21.chord.Chord F#4 F#3>': 490, '<music21.chord.Chord F#4 F#5>': 491, '<music21.chord.Chord F#4>': 492, '<music21.chord.Chord F#5 B2>': 493, '<music21.chord.Chord F#5 D5>': 494, '<music21.chord.Chord F#5 E5>': 495, '<music21.chord.Chord F#5 F#4>': 496, '<music21.chord.Chord F#5 F#6 D5 D6 A4 A5 E4 E5>': 497, '<music21.chord.Chord F#5 F#6 D5 D6 A4 A5>': 498, '<music21.chord.Chord F#5 F#6 D5 D6>': 499, '<music21.chord.Chord F#5 F#6>': 500, '<music21.chord.Chord F#5>': 501, '<music21.chord.Chord F2 C3 F3 A3 B3 E4>': 502, '<music21.chord.Chord F2 C3 F3 A3 B3>': 503, '<music21.chord.Chord F2 C3 F3 A3>': 504, '<music21.chord.Chord F2 C3 F3>': 505, '<music21.chord.Chord F2 C3>': 506, '<music21.chord.Chord F2>': 507, '<music21.chord.Chord F3 A2>': 508, '<music21.chord.Chord F3 B-2 F2>': 509, '<music21.chord.Chord F3 B-2>': 510, '<music21.chord.Chord F3 B3 F4>': 511, '<music21.chord.Chord F3 C3 F2>': 512, '<music21.chord.Chord F3 C3>': 513, '<music21.chord.Chord F3 C4 F4>': 514, '<music21.chord.Chord F3 C4>': 515, '<music21.chord.Chord F3 F2>': 516, '<music21.chord.Chord F3 F4>': 517, '<music21.chord.Chord F3>': 518, '<music21.chord.Chord F4 A3>': 519, '<music21.chord.Chord F4 C4 A3 A2>': 520, '<music21.chord.Chord F4 C4 A3>': 521, '<music21.chord.Chord F4 C4 B-3 F3 B-2>': 522, '<music21.chord.Chord F4 C4 F3 A2>': 523, '<music21.chord.Chord F4 C4 F3 C3 F2>': 524, '<music21.chord.Chord F4 C4 F3 C3>': 525, '<music21.chord.Chord F4 C4 F3>': 526, '<music21.chord.Chord F4 C4 G3>': 527, '<music21.chord.Chord F4 C4>': 528, '<music21.chord.Chord F4 D4 A3 D3 D2>': 529, '<music21.chord.Chord F4 D4 A3 D3>': 530, '<music21.chord.Chord F4 D4 A3>': 531, '<music21.chord.Chord F4 D4 B-3>': 532, '<music21.chord.Chord F4 D4 D3>': 533, '<music21.chord.Chord F4 D4 G3>': 534, '<music21.chord.Chord F4 D4>': 535, '<music21.chord.Chord F4 E-4>': 536, '<music21.chord.Chord F4 E4>': 537, '<music21.chord.Chord F4 F3>': 538, '<music21.chord.Chord F4 F5>': 539, '<music21.chord.Chord F4>': 540, '<music21.chord.Chord F5 C5 G4>': 541, '<music21.chord.Chord F5 C5>': 542, '<music21.chord.Chord F5 D5 B-4>': 543, '<music21.chord.Chord F5 D5>': 544, '<music21.chord.Chord F5 E-5>': 545, '<music21.chord.Chord F5 F6>': 546, '<music21.chord.Chord F5>': 547, '<music21.chord.Chord G#2>': 548, '<music21.chord.Chord G#3 A2>': 549, '<music21.chord.Chord G#3 C#3>': 550, '<music21.chord.Chord G#3 C3>': 551, '<music21.chord.Chord G#3 D3>': 552, '<music21.chord.Chord G#3 E-3 G#2>': 553, '<music21.chord.Chord G#3 E-3>': 554, '<music21.chord.Chord G#3 E3 A2>': 555, '<music21.chord.Chord G#3 E3 B2 E2>': 556, '<music21.chord.Chord G#3 E3 B2>': 557, '<music21.chord.Chord G#3 E3>': 558, '<music21.chord.Chord G#3>': 559, '<music21.chord.Chord G#4 C#4>': 560, '<music21.chord.Chord G#4 E-4 B-3>': 561, '<music21.chord.Chord G#4 E-4>': 562, '<music21.chord.Chord G#4 E4>': 563, '<music21.chord.Chord G#4 F#4>': 564, '<music21.chord.Chord G#4 G#3>': 565, '<music21.chord.Chord G#4 G#5>': 566, '<music21.chord.Chord G#4>': 567, '<music21.chord.Chord G#5>': 568, '<music21.chord.Chord G2 B2 D3 G3 B3 G4>': 569, '<music21.chord.Chord G2 B2 D3 G3 D4>': 570, '<music21.chord.Chord G2 B2 D3>': 571, '<music21.chord.Chord G2 C3 G3 C4>': 572, '<music21.chord.Chord G2 D3 G3 D4 G4>': 573, '<music21.chord.Chord G2 D3 G3>': 574, '<music21.chord.Chord G2 D3>': 575, '<music21.chord.Chord G2 G3 D3>': 576, '<music21.chord.Chord G2>': 577, '<music21.chord.Chord G3 A2>': 578, '<music21.chord.Chord G3 B2>': 579, '<music21.chord.Chord G3 B3 E3 B2>': 580, '<music21.chord.Chord G3 B3>': 581, '<music21.chord.Chord G3 C3 G2>': 582, '<music21.chord.Chord G3 C3>': 583, '<music21.chord.Chord G3 C4 E4>': 584, '<music21.chord.Chord G3 C4 F4>': 585, '<music21.chord.Chord G3 C4>': 586, '<music21.chord.Chord G3 D3 A2 E2>': 587, '<music21.chord.Chord G3 D3 A2>': 588, '<music21.chord.Chord G3 D3 E2>': 589, '<music21.chord.Chord G3 D3 G2>': 590, '<music21.chord.Chord G3 D3>': 591, '<music21.chord.Chord G3 D4 G4>': 592, '<music21.chord.Chord G3 D4>': 593, '<music21.chord.Chord G3 E3 C3>': 594, '<music21.chord.Chord G3 E3>': 595, '<music21.chord.Chord G3 E4 C4>': 596, '<music21.chord.Chord G3 F3 C3 F2>': 597, '<music21.chord.Chord G3 G3 B2>': 598, '<music21.chord.Chord G3 G3 G4>': 599, '<music21.chord.Chord G3 G4>': 600, '<music21.chord.Chord G3>': 601, '<music21.chord.Chord G4 B3 G3 D3 B2 G2>': 602, '<music21.chord.Chord G4 B3>': 603, '<music21.chord.Chord G4 B4>': 604, '<music21.chord.Chord G4 C4 G3 C3>': 605, '<music21.chord.Chord G4 C4 G3 E3 A2>': 606, '<music21.chord.Chord G4 C4>': 607, '<music21.chord.Chord G4 D4 A2>': 608, '<music21.chord.Chord G4 D4 A3 D3>': 609, '<music21.chord.Chord G4 D4 A3>': 610, '<music21.chord.Chord G4 D4 B-3 F3>': 611, '<music21.chord.Chord G4 D4 B-3>': 612, '<music21.chord.Chord G4 D4 B3 G3 D3 G2>': 613, '<music21.chord.Chord G4 D4 B3 G3>': 614, '<music21.chord.Chord G4 D4 B3>': 615, '<music21.chord.Chord G4 D4 C4 G3 C3>': 616, '<music21.chord.Chord G4 D4 C4>': 617, '<music21.chord.Chord G4 D4 D3>': 618, '<music21.chord.Chord G4 D4 F#3>': 619, '<music21.chord.Chord G4 D4 G3 A2>': 620, '<music21.chord.Chord G4 D4 G3 C3>': 621, '<music21.chord.Chord G4 D4 G3 D3 A2>': 622, '<music21.chord.Chord G4 D4 G3 D3 B2 G2>': 623, '<music21.chord.Chord G4 D4 G3 D3 G2>': 624, '<music21.chord.Chord G4 D4 G3 D3>': 625, '<music21.chord.Chord G4 D4 G3 G3 D3>': 626, '<music21.chord.Chord G4 D4 G3>': 627, '<music21.chord.Chord G4 D4>': 628, '<music21.chord.Chord G4 E-4 C4>': 629, '<music21.chord.Chord G4 E-4>': 630, '<music21.chord.Chord G4 E3>': 631, '<music21.chord.Chord G4 E4 B3 E3>': 632, '<music21.chord.Chord G4 E4 B3>': 633, '<music21.chord.Chord G4 E4 C4 G3 C3>': 634, '<music21.chord.Chord G4 E4>': 635, '<music21.chord.Chord G4 F#4>': 636, '<music21.chord.Chord G4 F4>': 637, '<music21.chord.Chord G4 G3>': 638, '<music21.chord.Chord G4 G4>': 639, '<music21.chord.Chord G4 G5 D4 D5>': 640, '<music21.chord.Chord G4 G5>': 641, '<music21.chord.Chord G4>': 642, '<music21.chord.Chord G5 C5>': 643, '<music21.chord.Chord G5 D5>': 644, '<music21.chord.Chord G5 E-5 C5>': 645, '<music21.chord.Chord G5 E5 C5>': 646, '<music21.chord.Chord G5 F5>': 647, '<music21.chord.Chord G5 G4>': 648, '<music21.chord.Chord G5 G5 G6>': 649, '<music21.chord.Chord G5 G6 D5 D6>': 650, '<music21.chord.Chord G5 G6>': 651, '<music21.chord.Chord G5>': 652, '<music21.note.Rest rest>': 653}\n",
            "654\n",
            "[[0.61009174]\n",
            " [0.61009174]\n",
            " [0.61009174]\n",
            " [0.61009174]\n",
            " [0.61009174]\n",
            " [0.61009174]\n",
            " [0.61009174]\n",
            " [0.61009174]\n",
            " [0.61009174]\n",
            " [0.98012232]]\n",
            "(215011, 10, 1)\n",
            "(215011, 86)\n"
          ],
          "name": "stdout"
        }
      ]
    },
    {
      "cell_type": "code",
      "metadata": {
        "colab": {
          "base_uri": "https://localhost:8080/"
        },
        "id": "mdtQ0Cjd8Nlf",
        "outputId": "d1df91fa-a6ac-4049-b77d-15dfc3a357e1"
      },
      "source": [
        "debugarray = []\n",
        "for i in midiparts:\n",
        "    debugarray.append(i.instrument)\n",
        "\n",
        "print(set(debugarray))"
      ],
      "execution_count": null,
      "outputs": [
        {
          "output_type": "stream",
          "text": [
            "{'Electric Organ', 'Xylophone', 'Celesta', 'Viola', 'Electric Bass', 'Sampler', 'Brass', 'Acoustic Guitar', 'Voice', 'Electric Guitar', 'Acoustic Bass', 'Vibraphone', 'Accordion', 'Piano', 'StringInstrument', 'Violoncello'}\n"
          ],
          "name": "stdout"
        }
      ]
    }
  ]
}