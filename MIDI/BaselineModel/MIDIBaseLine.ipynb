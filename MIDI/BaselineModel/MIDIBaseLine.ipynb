{
  "nbformat": 4,
  "nbformat_minor": 0,
  "metadata": {
    "colab": {
      "name": "MIDIBaseLine.ipynb",
      "provenance": [],
      "collapsed_sections": []
    },
    "kernelspec": {
      "display_name": "Python 3",
      "name": "python3"
    }
  },
  "cells": [
    {
      "cell_type": "markdown",
      "metadata": {
        "id": "-YJCHgcz7cxh"
      },
      "source": [
        "# IMPORT SECTION"
      ]
    },
    {
      "cell_type": "code",
      "metadata": {
        "colab": {
          "base_uri": "https://localhost:8080/"
        },
        "id": "PLllP-Xw0KWv",
        "outputId": "7e1bc5ec-d9e6-407b-adc4-96e61aaa3607"
      },
      "source": [
        "!pip install --upgrade music21==6.7.1\n",
        "from music21 import converter, instrument, note, chord, stream\n",
        "import os\n",
        "from tqdm import tqdm\n",
        "import numpy as np\n",
        "from tensorflow.keras.utils import to_categorical\n",
        "from tensorflow.keras.models import Sequential\n",
        "from tensorflow.keras.layers import LSTM, Dense, Flatten, Dropout\n",
        "%load_ext tensorboard \n",
        "from tensorboard import notebook\n",
        "from tensorflow.keras.callbacks import TensorBoard, EarlyStopping, ReduceLROnPlateau"
      ],
      "execution_count": null,
      "outputs": [
        {
          "output_type": "stream",
          "name": "stdout",
          "text": [
            "Collecting music21==6.7.1\n",
            "  Downloading music21-6.7.1.tar.gz (19.2 MB)\n",
            "\u001b[K     |████████████████████████████████| 19.2 MB 1.2 MB/s \n",
            "\u001b[?25hRequirement already satisfied: chardet in /usr/local/lib/python3.7/dist-packages (from music21==6.7.1) (3.0.4)\n",
            "Requirement already satisfied: joblib in /usr/local/lib/python3.7/dist-packages (from music21==6.7.1) (1.0.1)\n",
            "Requirement already satisfied: more-itertools in /usr/local/lib/python3.7/dist-packages (from music21==6.7.1) (8.10.0)\n",
            "Collecting webcolors\n",
            "  Downloading webcolors-1.11.1-py3-none-any.whl (9.9 kB)\n",
            "Building wheels for collected packages: music21\n",
            "  Building wheel for music21 (setup.py) ... \u001b[?25l\u001b[?25hdone\n",
            "  Created wheel for music21: filename=music21-6.7.1-py3-none-any.whl size=21941721 sha256=24744fe6b3867e50bc85b37d356913b0dcd0fa0eacd992a8412be619b16f44e3\n",
            "  Stored in directory: /root/.cache/pip/wheels/72/44/61/90e4e65262ca1b4d9f707527b540729ce3f64e00fc6b38d54c\n",
            "Successfully built music21\n",
            "Installing collected packages: webcolors, music21\n",
            "  Attempting uninstall: music21\n",
            "    Found existing installation: music21 5.5.0\n",
            "    Uninstalling music21-5.5.0:\n",
            "      Successfully uninstalled music21-5.5.0\n",
            "Successfully installed music21-6.7.1 webcolors-1.11.1\n"
          ]
        }
      ]
    },
    {
      "cell_type": "code",
      "metadata": {
        "colab": {
          "base_uri": "https://localhost:8080/"
        },
        "id": "84R9ah2P0Uqc",
        "outputId": "4021d6cc-440b-4f36-ecdb-a6dc08969099"
      },
      "source": [
        "from google.colab import drive\n",
        "\n",
        "drive.mount('/content/drive', force_remount=False)\n",
        "\n",
        "MIDI_PATH=\"/content/drive/My Drive/MLFolder/Onlab/MIDI_Iron_Maiden/\""
      ],
      "execution_count": null,
      "outputs": [
        {
          "output_type": "stream",
          "name": "stdout",
          "text": [
            "Mounted at /content/drive\n"
          ]
        }
      ]
    },
    {
      "cell_type": "code",
      "metadata": {
        "colab": {
          "base_uri": "https://localhost:8080/"
        },
        "id": "FkVn4mWO7rde",
        "outputId": "34a5c19f-a4f0-49bf-eb47-6a1e9beac6e6"
      },
      "source": [
        "!nvidia-smi"
      ],
      "execution_count": null,
      "outputs": [
        {
          "output_type": "stream",
          "name": "stdout",
          "text": [
            "Thu Sep 23 14:55:23 2021       \n",
            "+-----------------------------------------------------------------------------+\n",
            "| NVIDIA-SMI 470.63.01    Driver Version: 460.32.03    CUDA Version: 11.2     |\n",
            "|-------------------------------+----------------------+----------------------+\n",
            "| GPU  Name        Persistence-M| Bus-Id        Disp.A | Volatile Uncorr. ECC |\n",
            "| Fan  Temp  Perf  Pwr:Usage/Cap|         Memory-Usage | GPU-Util  Compute M. |\n",
            "|                               |                      |               MIG M. |\n",
            "|===============================+======================+======================|\n",
            "|   0  Tesla K80           Off  | 00000000:00:04.0 Off |                    0 |\n",
            "| N/A   70C    P8    35W / 149W |      0MiB / 11441MiB |      0%      Default |\n",
            "|                               |                      |                  N/A |\n",
            "+-------------------------------+----------------------+----------------------+\n",
            "                                                                               \n",
            "+-----------------------------------------------------------------------------+\n",
            "| Processes:                                                                  |\n",
            "|  GPU   GI   CI        PID   Type   Process name                  GPU Memory |\n",
            "|        ID   ID                                                   Usage      |\n",
            "|=============================================================================|\n",
            "|  No running processes found                                                 |\n",
            "+-----------------------------------------------------------------------------+\n"
          ]
        }
      ]
    },
    {
      "cell_type": "markdown",
      "metadata": {
        "id": "CM8sPao2nNIk"
      },
      "source": [
        "# UTILITY FUNCTIONS SECTION"
      ]
    },
    {
      "cell_type": "code",
      "metadata": {
        "id": "8diYXI5InMZZ"
      },
      "source": [
        "def most_frequent(paramlist): \n",
        "    #https://www.geeksforgeeks.org/python-find-most-frequent-element-in-a-list/\n",
        "    counter = 0\n",
        "    num = paramlist[0] \n",
        "      \n",
        "    for i in paramlist: \n",
        "        curr_frequency = paramlist.count(i) \n",
        "        if(curr_frequency> counter): \n",
        "            counter = curr_frequency \n",
        "            num = i \n",
        "  \n",
        "    return num \n",
        "\n",
        "def get_notes_from_chord(chord):\n",
        "    if chord.startswith(\"<music21.chord.Chord \"):\n",
        "        chord = chord[len(\"<music21.chord.Chord \"):]\n",
        "    if chord.endswith(\">\"):\n",
        "        chord = chord[:-1]\n",
        "    chord = chord.replace(\" \", \",\")\n",
        "    return chord\n",
        "\n",
        "def get_number_from_duration(duration):\n",
        "    if duration.startswith(\"<music21.duration.Duration \"):\n",
        "        duration = duration[len(\"<music21.duration.Duration \"):]\n",
        "    if duration.endswith(\">\"):\n",
        "        duration = duration[:-1]\n",
        "    duration = duration.replace(\" \", \",\")\n",
        "    return duration\n",
        "\n",
        "def create_mapper(chords):\n",
        "    pitchnames = sorted(set(str(item) for item in chords))\n",
        "    mapper = dict((note, number) for number, note in enumerate(pitchnames))\n",
        "\n",
        "    return mapper\n",
        "\n",
        "def encode_using_mapper(chords, mapper):\n",
        "    encodedsong=[]\n",
        "    for c in chords:\n",
        "        encodedsong.append(mapper[str(c)])\n",
        "\n",
        "    return encodedsong\n",
        "\n",
        "\n",
        "def decode_chords_using_mapper(numbers, mapper):\n",
        "    outputnotes = []\n",
        "    for number in numbers:\n",
        "        outputnotes.append(chord_from_string(get_notes_from_chord(get_key_from_value(number, mapper))))\n",
        "\n",
        "    return outputnotes\n",
        "\n",
        "def combine_chords_with_durations(chords, durations):\n",
        "    combined = []\n",
        "\n",
        "    for i, j in zip(chords, durations):\n",
        "        i = get_notes_from_chord(str(i))\n",
        "        j = get_number_from_duration(str(j))\n",
        "        combined.append(i + ';' + j)\n",
        "\n",
        "    return combined\n",
        "\n",
        "def make_slices(data, slice_length):\n",
        "    for song in tqdm(data):\n",
        "        if len(song) > slice_length:\n",
        "\n",
        "            input = []\n",
        "            output = []\n",
        "            slice = []\n",
        "\n",
        "            for idx, number in enumerate(song):\n",
        "                if idx < slice_length:\n",
        "                    slice.append(number)\n",
        "\n",
        "            input.append(slice.copy())\n",
        "            output.append(song[slice_length])\n",
        "\n",
        "            # Sliding window\n",
        "            for idx, number in enumerate(song):\n",
        "                if idx >= slice_length and (idx + 1) < len(song):\n",
        "                    slice.pop(0)\n",
        "                    slice.append(number)\n",
        "                    input.append(slice.copy())  # Copy is necessary, because of how pointers and lists work in Python\n",
        "                    output.append(song[idx + 1])\n",
        "\n",
        "    return input, output\n",
        "\n",
        "def parse_everything_together(data, slice_length):\n",
        "\n",
        "    notes=[]\n",
        "    input=[]\n",
        "    output=[]\n",
        "    slice = []\n",
        "\n",
        "    for song in tqdm(data):\n",
        "        for number in song:\n",
        "            notes.append(number)\n",
        "    \n",
        "    for idx, note in tqdm(enumerate(notes)):\n",
        "        if idx < slice_length:\n",
        "            slice.append(number)\n",
        "\n",
        "    input.append(slice.copy())\n",
        "    output.append(notes[slice_length])\n",
        "\n",
        "    # Sliding window\n",
        "    for idx, number in tqdm(enumerate(notes)):\n",
        "        if idx >= slice_length and (idx + 1) < len(notes):\n",
        "            slice.pop(0)\n",
        "            slice.append(number)\n",
        "            input.append(slice.copy())  # Copy is necessary, because of how pointers and lists work in Python\n",
        "            output.append(notes[idx + 1])\n",
        "        \n",
        "    return input, output\n",
        "\n",
        "def get_key_from_value(value, dict):\n",
        "    return list(dict.keys())[list(dict.values()).index(value)]\n",
        "\n",
        "def get_notes_from_chord(chord):\n",
        "    if chord.startswith(\"<music21.chord.Chord \"):\n",
        "        chord = chord[len(\"<music21.chord.Chord \"):]\n",
        "    if chord.endswith(\">\"):\n",
        "        chord = chord[:-1]\n",
        "    chord = chord.replace(\" \", \",\")\n",
        "    return chord\n",
        "\n",
        "def get_number_from_duration(duration):\n",
        "    if duration.startswith(\"<music21.duration.Duration \"):\n",
        "        duration = duration[len(\"<music21.duration.Duration \"):]\n",
        "    if duration.endswith(\">\"):\n",
        "        duration = duration[:-1]\n",
        "    duration = duration.replace(\" \", \",\")\n",
        "    return duration\n",
        "\n",
        "def chord_from_string(chordstring):\n",
        "    notes = chordstring.split(\";\")\n",
        "    return chord.Chord(notes)\n",
        "\n",
        "\n",
        "def convert_to_float(frac_str):\n",
        "    #From: https://stackoverflow.com/questions/1806278/convert-fraction-to-float\n",
        "    try:\n",
        "        return float(frac_str)\n",
        "    except ValueError:\n",
        "        num, denom = frac_str.split('/')\n",
        "        try:\n",
        "            leading, num = num.split(' ')\n",
        "            whole = float(leading)\n",
        "        except ValueError:\n",
        "            whole = 0\n",
        "        frac = float(num) / float(denom)\n",
        "        return whole - frac if whole < 0 else whole + frac\n",
        "\n",
        "#Source: https://github.com/alexissa32/DataScienceMusic\n",
        "def create_midi_without_chords(prediction_output, target_instrument = instrument.Piano(), filename = 'test_output.mid'):\n",
        "    '''\n",
        "    First step:\n",
        "    Only notes, no chords\n",
        "    Static 4/4 beat\n",
        "    Rests\n",
        "    '''\n",
        "    offset = 0\n",
        "    output_notes = []\n",
        "\n",
        "    # create note and chord objects based on the values generated by the model\n",
        "    for pattern in prediction_output:\n",
        "        # pattern is a rest\n",
        "        if('rest' in pattern):\n",
        "            new_rest = note.Rest(pattern)\n",
        "            new_rest.offset = offset\n",
        "            new_rest.storedInstrument = target_instrument #???\n",
        "            output_notes.append(new_rest)\n",
        "        # pattern is a note\n",
        "        else:\n",
        "            new_note = note.Note(pattern)\n",
        "            new_note.offset = offset\n",
        "            new_note.storedInstrument = target_instrument\n",
        "            output_notes.append(new_note)\n",
        "        # increase offset each iteration so that notes do not stack\n",
        "        offset += 0.5\n",
        "\n",
        "    midi_stream = stream.Stream(output_notes)\n",
        "\n",
        "    midi_stream.write('midi', fp=filename)\n",
        "\n",
        "def create_midi_without_durations(prediction_output, target_instrument = instrument.Piano(), filename = 'test_output.mid'):\n",
        "    '''\n",
        "    Second step:\n",
        "    Chords and notes\n",
        "    Static 4/4 beat\n",
        "    Rests\n",
        "    '''\n",
        "    offset = 0\n",
        "    output_notes = []\n",
        "\n",
        "    # create note and chord objects based on the values generated by the model\n",
        "    for pattern in prediction_output:\n",
        "        # pattern is a chord\n",
        "        if ('chord' in pattern):\n",
        "            notes = []\n",
        "            pattern = get_notes_from_chord(pattern)\n",
        "            patternpitches = pattern.split(',')\n",
        "            for current_note in patternpitches:\n",
        "                new_note = note.Note(current_note)\n",
        "                new_note.storedInstrument = target_instrument\n",
        "                notes.append(new_note)\n",
        "            new_chord = chord.Chord(notes)\n",
        "            new_chord.offset = offset\n",
        "            output_notes.append(new_chord)\n",
        "        # pattern is a rest\n",
        "        elif('rest' in pattern):\n",
        "            new_rest = note.Rest(pattern)\n",
        "            new_rest.offset = offset\n",
        "            new_rest.storedInstrument = target_instrument #???\n",
        "            output_notes.append(new_rest)\n",
        "        # pattern is a note\n",
        "        else:\n",
        "            new_note = note.Note(pattern)\n",
        "            new_note.offset = offset\n",
        "            new_note.storedInstrument = target_instrument\n",
        "            output_notes.append(new_note)\n",
        "        # increase offset each iteration so that notes do not stack\n",
        "        offset += 0.5\n",
        "\n",
        "    midi_stream = stream.Stream(output_notes)\n",
        "\n",
        "    midi_stream.write('midi', fp=filename)\n",
        "\n",
        "def create_midi_with_durations(prediction_output, output_durations, target_instrument = instrument.Piano(), filename = 'test_output.mid'):\n",
        "    offset = 0\n",
        "    output_notes = []\n",
        "\n",
        "    # create note and chord objects based on the values generated by the model\n",
        "    for i in range(len(prediction_output)):\n",
        "        pattern = prediction_output[i]\n",
        "        duration = get_number_from_duration(output_durations[i])\n",
        "        # pattern is a chord\n",
        "        if ('chord' in pattern):\n",
        "            notes = []\n",
        "            pattern = get_notes_from_chord(pattern)\n",
        "            patternpitches = pattern.split(',')\n",
        "            for current_note in patternpitches:\n",
        "                new_note = note.Note(current_note)\n",
        "                new_note.storedInstrument = target_instrument\n",
        "                notes.append(new_note)\n",
        "            new_chord = chord.Chord(notes)\n",
        "            new_chord.offset = offset\n",
        "            output_notes.append(new_chord)\n",
        "        # pattern is a rest\n",
        "        elif('rest' in pattern):\n",
        "            new_rest = note.Rest(pattern)\n",
        "            new_rest.offset = offset\n",
        "            new_rest.storedInstrument = target_instrument #???\n",
        "            output_notes.append(new_rest)\n",
        "        # pattern is a note\n",
        "        else:\n",
        "            new_note = note.Note(pattern)\n",
        "            new_note.offset = offset\n",
        "            new_note.storedInstrument = target_instrument\n",
        "            output_notes.append(new_note)\n",
        "        # increase offset each iteration so that notes do not stack\n",
        "        offset += convert_to_float(duration)\n",
        "\n",
        "    midi_stream = stream.Stream(output_notes)\n",
        "\n",
        "    midi_stream.write('midi', fp=filename)\n",
        "\n",
        "def create_midi_with_embedded_durations(prediction_output, target_instrument = instrument.Piano(), filename = 'test_output.mid'):\n",
        "    offset = 0\n",
        "    output_notes = []\n",
        "\n",
        "    # create note and chord objects based on the values generated by the model\n",
        "    for i in range(len(prediction_output)):\n",
        "        pattern = prediction_output[i]\n",
        "        splitpattern = pattern.split(\";\")\n",
        "        pattern = splitpattern[0]\n",
        "\n",
        "        duration = get_number_from_duration(splitpattern[1])\n",
        "        # pattern is a rest\n",
        "        if('rest' in pattern):\n",
        "            new_rest = note.Rest(pattern)\n",
        "            new_rest.offset = offset\n",
        "            new_rest.storedInstrument = target_instrument #???\n",
        "            output_notes.append(new_rest)\n",
        "        # pattern is a chord\n",
        "        elif (',' in pattern):\n",
        "            notes = []\n",
        "            pattern = get_notes_from_chord(pattern)\n",
        "            patternpitches = pattern.split(',')\n",
        "            for current_note in patternpitches:\n",
        "                new_note = note.Note(current_note)\n",
        "                new_note.storedInstrument = target_instrument\n",
        "                notes.append(new_note)\n",
        "            new_chord = chord.Chord(notes)\n",
        "            new_chord.offset = offset\n",
        "            output_notes.append(new_chord)\n",
        "        # pattern is a note\n",
        "        else:\n",
        "            new_note = note.Note(pattern)\n",
        "            new_note.offset = offset\n",
        "            new_note.storedInstrument = target_instrument\n",
        "            output_notes.append(new_note)\n",
        "        # increase offset each iteration so that notes do not stack\n",
        "        offset += convert_to_float(duration)\n",
        "\n",
        "    midi_stream = stream.Stream(output_notes)\n",
        "\n",
        "    midi_stream.write('midi', fp=filename)\n",
        "\n",
        "def parse_midi_notes_and_durations():\n",
        "    midiparts = []\n",
        "\n",
        "    for file in tqdm(os.listdir(path)):\n",
        "        midi = converter.parse(os.path.join(path, file))\n",
        "\n",
        "        for part in midi.parts:\n",
        "            chords=[]\n",
        "            durations=[]\n",
        "            for element in part.notesAndRests:\n",
        "                if isinstance(element, note.Note):\n",
        "                    chords.append(chord.Chord([element]))\n",
        "                    durations.append(element.duration)\n",
        "                elif isinstance(element, chord.Chord):\n",
        "                    chords.append(element)\n",
        "                    durations.append(element.duration)\n",
        "                elif isinstance(element, note.Rest):\n",
        "                    chords.append(element)\n",
        "                    durations.append(element.duration)\n",
        "\n",
        "            if len(chords) > 0:\n",
        "                midiparts.append(MidiPart(file, part.partName, chords, durations))\n",
        "            else:\n",
        "                for voice in part.voices:\n",
        "                    chords=[]\n",
        "                    durations=[]\n",
        "                    for element in voice.notesAndRests:\n",
        "                        if isinstance(element, note.Note):\n",
        "                            chords.append(chord.Chord([element]))\n",
        "                            durations.append(element.duration)\n",
        "                        elif isinstance(element, chord.Chord):\n",
        "                            chords.append(element)\n",
        "                            durations.append(element.duration)\n",
        "                        elif isinstance(element, note.Rest):\n",
        "                            chords.append(element)\n",
        "                            durations.append(element.duration)\n",
        "\n",
        "                    midiparts.append(MidiPart(file, part.partName, chords, durations))\n",
        "\n",
        "    return midiparts"
      ],
      "execution_count": null,
      "outputs": []
    },
    {
      "cell_type": "markdown",
      "metadata": {
        "id": "JZmPvxwV7mW6"
      },
      "source": [
        "# PREPROCESSING SECTION"
      ]
    },
    {
      "cell_type": "code",
      "metadata": {
        "id": "zxQJTnIDF76s"
      },
      "source": [
        "class MidiPart:\n",
        "    def __init__(self, song, instrument, chords, durations):\n",
        "        self.song = song\n",
        "        self.instrument = instrument\n",
        "        self.chords = chords\n",
        "        self.durations = durations\n",
        "\n",
        "\n",
        "path = MIDI_PATH\n",
        "\n",
        "IRON_MAIDEN_INSTRUMENTS = ['Acoustic Guitar', 'Viola', 'Electric Bass', 'Brass', 'Sampler', 'Electric Guitar', 'Piano', 'StringInstrument']\n",
        "\n",
        "SLICE_LEN = 10"
      ],
      "execution_count": null,
      "outputs": []
    },
    {
      "cell_type": "code",
      "metadata": {
        "colab": {
          "base_uri": "https://localhost:8080/"
        },
        "id": "gKRjNr5kGLZs",
        "outputId": "5e97d9b6-7a02-4536-c558-44eb9693bd36"
      },
      "source": [
        "midiparts = parse_midi_notes_and_durations()"
      ],
      "execution_count": null,
      "outputs": [
        {
          "output_type": "stream",
          "name": "stderr",
          "text": [
            "100%|██████████| 93/93 [17:23<00:00, 11.22s/it]\n"
          ]
        }
      ]
    },
    {
      "cell_type": "code",
      "metadata": {
        "id": "TCIW-4f0HDiv"
      },
      "source": [
        "allchords = []\n",
        "alldurations = []\n",
        "\n",
        "TARGET_INSTRUMENT = 'Electric Guitar'\n",
        "for i in midiparts:\n",
        "    if i.instrument == TARGET_INSTRUMENT:\n",
        "        if len(i.chords)>0 :\n",
        "            allchords.append(i.chords)\n",
        "            alldurations.append(i.durations)"
      ],
      "execution_count": null,
      "outputs": []
    },
    {
      "cell_type": "code",
      "metadata": {
        "id": "KVe9bq-QlgkL"
      },
      "source": [
        "#RUN THIS CELL IF YOU WANT NOTES TO HAVE DURATIONS\n",
        "\n",
        "assert(len(allchords) == len(alldurations))\n",
        "\n",
        "combined = []\n",
        "for i in range(len(allchords)):\n",
        "    combined.append(combine_chords_with_durations(allchords[i], alldurations[i]))\n",
        "\n",
        "mapperdata = []\n",
        "\n",
        "for i in combined:\n",
        "    for j in i:\n",
        "        mapperdata.append(j)\n",
        "\n",
        "mapper = create_mapper(mapperdata)\n",
        "\n",
        "encoded_data = []\n",
        "\n",
        "for c in combined:\n",
        "    encoded = encode_using_mapper(c, mapper)\n",
        "    encoded_data.append(encoded)\n",
        "\n",
        "restkeysvalues = []\n",
        "for j in mapper.keys():\n",
        "    if ( 'rest' in j):\n",
        "        restkeysvalues.append(mapper[j])\n",
        "\n",
        "cleared_encoded_data=[]\n",
        "\n",
        "for i in range(len(encoded_data)):\n",
        "    if most_frequent(encoded_data[i]) not in restkeysvalues:\n",
        "        cleared_encoded_data.append(encoded_data[i])\n",
        "    else:\n",
        "        pass"
      ],
      "execution_count": null,
      "outputs": []
    },
    {
      "cell_type": "code",
      "metadata": {
        "id": "CSSAGDrKIUqE"
      },
      "source": [
        "#RUN THIS CELL IF YOU WANT A CONSTANT TEMPO\n",
        "\n",
        "mapperdata = []\n",
        "\n",
        "for i in allchords:\n",
        "    for j in i:\n",
        "        mapperdata.append(j)\n",
        "\n",
        "mapper = create_mapper(mapperdata)\n",
        "\n",
        "#I encode the data here using the mapper.\n",
        "\n",
        "encoded_data = []\n",
        "\n",
        "for c in allchords:\n",
        "    encoded = encode_using_mapper(c, mapper)\n",
        "    encoded_data.append(encoded)\n",
        "\n",
        "#I filter out those chord sequences, which are majorly rests. I do this because I don't want the network to make a song, which contains nothing, but rests. Our dataset has about 100 guitar tracks, which contain rests for the majority of the track, and a guitar solo near the end.\n",
        "#An upgrade for this could be that I don't just delete those tracks from the dataset, but only filter out the rests, and leave the guitar solo in.\n",
        "\n",
        "restnumber = mapper['<music21.note.Rest rest>']\n",
        "\n",
        "cleared_encoded_data=[]\n",
        "\n",
        "for i in encoded_data:\n",
        "    if most_frequent(i) != restnumber:\n",
        "        cleared_encoded_data.append(i)\n",
        "    else:\n",
        "        pass"
      ],
      "execution_count": null,
      "outputs": []
    },
    {
      "cell_type": "code",
      "metadata": {
        "colab": {
          "base_uri": "https://localhost:8080/"
        },
        "id": "cIycPa9oNYDe",
        "outputId": "f5d61f97-20f4-4999-f3f1-c9148c80c89b"
      },
      "source": [
        "#Creating the input data\n",
        "\n",
        "input, output = parse_everything_together(cleared_encoded_data, SLICE_LEN)"
      ],
      "execution_count": null,
      "outputs": [
        {
          "output_type": "stream",
          "name": "stderr",
          "text": [
            "100%|██████████| 103/103 [00:00<00:00, 5911.51it/s]\n",
            "159664it [00:00, 2265821.33it/s]\n",
            "159664it [00:00, 662839.51it/s]\n"
          ]
        }
      ]
    },
    {
      "cell_type": "code",
      "metadata": {
        "colab": {
          "base_uri": "https://localhost:8080/",
          "height": 567
        },
        "id": "Kn6rNcUb9uGo",
        "outputId": "2b05bca4-7330-4d5a-927e-ff0addc4807b"
      },
      "source": [
        "import matplotlib.pyplot as plt\n",
        "from collections import Counter\n",
        "\n",
        "outputcnt = Counter(output)\n",
        "#plt.bar(outputcnt.keys(), outputcnt.values())\n",
        "#plt.show()\n",
        "\n",
        "function_like_array=[]\n",
        "for val in outputcnt.values():\n",
        "    function_like_array.append(val)\n",
        "\n",
        "function_like_array.sort()\n",
        "#plt.plot(function_like_array)\n",
        "\n",
        "\n",
        "\n",
        "outliers = []\n",
        "OUTLIER_CONSTANT = 40\n",
        "\n",
        "for i in outputcnt.keys():\n",
        "    if outputcnt[i] < OUTLIER_CONSTANT:\n",
        "        outliers.append(i)\n",
        "\n"
      ],
      "execution_count": null,
      "outputs": [
        {
          "output_type": "display_data",
          "data": {
            "image/png": "[encoded data removed]",
            "text/plain": [
              "<Figure size 432x288 with 1 Axes>"
            ]
          },
          "metadata": {
            "image/png": {
              "width": 397,
              "height": 248
            },
            "needs_background": "light"
          }
        },
        {
          "output_type": "stream",
          "name": "stdout",
          "text": [
            "[36, 10, 44, 25, 58, 37, 49, 19, 103, 76, 70, 18, 47, 91, 124, 86, 45, 2, 59, 26, 50, 48, 28, 7, 120, 63, 60, 39, 41, 107, 99, 69, 85, 115, 4, 106, 104, 122, 105, 21, 20, 123, 42, 97, 16, 8, 111, 127, 129, 13, 5, 110, 128, 62, 125, 6, 24, 117, 71, 130, 88, 108, 82, 1, 15, 113, 132, 55, 32, 53, 29, 0, 79, 78]\n",
            "74\n"
          ]
        },
        {
          "output_type": "display_data",
          "data": {
            "image/png": "[encoded data removed]",
            "text/plain": [
              "<Figure size 432x288 with 1 Axes>"
            ]
          },
          "metadata": {
            "image/png": {
              "width": 388,
              "height": 248
            },
            "needs_background": "light"
          }
        }
      ]
    },
    {
      "cell_type": "code",
      "metadata": {
        "id": "xkujCJyFBAQw"
      },
      "source": [
        "#Because I don't want to mess up my inputs and outputs, I test their lengths before and after the outlier filtering.\n",
        "assert(len(input) == len(output))\n",
        "\n",
        "newinput=[]\n",
        "newoutput=[]\n",
        "\n",
        "for i in range(len(output)):\n",
        "    if(output[i] not in outliers):\n",
        "        newinput.append(input[i])\n",
        "        newoutput.append(output[i])\n",
        "\n",
        "input = newinput\n",
        "output = newoutput\n",
        "\n",
        "assert(len(input) == len(output))"
      ],
      "execution_count": null,
      "outputs": []
    },
    {
      "cell_type": "code",
      "metadata": {
        "id": "nx64ocEIIVzY"
      },
      "source": [
        "#However, this outlier filtering made things complicated. Now I have to make a new mapper, so that i won't end up with output classes containing 0 elements.\n",
        "\n",
        "mapper_list = [] #Idx of the mapper list is the new value, the element is the old value.\n",
        "new_output_elements = set(output)\n",
        "\n",
        "for i in new_output_elements:\n",
        "    mapper_list.append(i)\n",
        "\n",
        "newoutput = []\n",
        "\n",
        "for i in output:\n",
        "    newoutput.append(mapper_list.index(i))\n",
        "\n",
        "output = newoutput"
      ],
      "execution_count": null,
      "outputs": []
    },
    {
      "cell_type": "code",
      "metadata": {
        "id": "JastNnOpLOxB"
      },
      "source": [
        "#Reshaping the input data to be compatible with LSTMs and normalizing it in the hope of better learning.\n",
        "\n",
        "input = np.reshape(np.asarray(input), (len(input), SLICE_LEN, 1))\n",
        "output = to_categorical(output)\n",
        "\n",
        "input=np.asarray(input) / float(len(mapper))\n",
        "output=np.asarray(output)"
      ],
      "execution_count": null,
      "outputs": []
    },
    {
      "cell_type": "code",
      "metadata": {
        "id": "gUZengRvmqmL",
        "colab": {
          "base_uri": "https://localhost:8080/"
        },
        "outputId": "d2741650-2ad8-4f98-ee57-bda77122cf22"
      },
      "source": [
        "SEED = 54\n",
        "#np.random.seed(SEED)\n",
        "\n",
        "from sklearn.model_selection import train_test_split\n",
        "\n",
        "X_train, X_test, Y_train, Y_test = train_test_split(input, output, test_size=0.01, random_state=SEED)\n",
        "X_train, X_val, Y_train, Y_val = train_test_split(X_train, Y_train, test_size=0.2, random_state=SEED)\n",
        "\n",
        "startidx = np.random.randint(0, len(X_test)-1)\n",
        "starting_slice = X_test[startidx]\n",
        "\n",
        "print(X_train.shape, X_val.shape, X_test.shape, Y_train.shape, Y_val.shape, Y_test.shape)\n",
        "print(startidx)\n",
        "print(starting_slice)"
      ],
      "execution_count": null,
      "outputs": [
        {
          "output_type": "stream",
          "name": "stdout",
          "text": [
            "(125812, 10, 1) (31454, 10, 1) (1589, 10, 1) (125812, 60) (31454, 60) (1589, 60)\n",
            "495\n",
            "[[0.49253731]\n",
            " [0.49253731]\n",
            " [0.49253731]\n",
            " [0.49253731]\n",
            " [0.49253731]\n",
            " [0.49253731]\n",
            " [0.49253731]\n",
            " [0.12686567]\n",
            " [0.12686567]\n",
            " [0.12686567]]\n"
          ]
        }
      ]
    },
    {
      "cell_type": "markdown",
      "metadata": {
        "id": "sGhhDcBu7w49"
      },
      "source": [
        "# MODEL TRAINING SECTION"
      ]
    },
    {
      "cell_type": "code",
      "metadata": {
        "id": "9RGwd0Y58k3R"
      },
      "source": [
        "MODEL_NAME = \"LSTM_bass\"\n",
        "\n",
        "MODEL_SAVE_PATH = \"/content/drive/MyDrive/MLFolder/Onlab/modelsaves/\"\n",
        "\n",
        "TBPATH = \"/content/tblogs/\"+MODEL_NAME"
      ],
      "execution_count": null,
      "outputs": []
    },
    {
      "cell_type": "code",
      "metadata": {
        "id": "eLW2ZTUFpWrc"
      },
      "source": [
        "#Before creating the neural network, I define some important callbacks\n",
        "\n",
        "tb = TensorBoard(log_dir = TBPATH, write_images=True, histogram_freq=1)\n",
        "\n",
        "plateau = ReduceLROnPlateau(monitor='val_loss', factor=0.2, patience=3, min_lr=0.00005, verbose=1)\n",
        "\n",
        "es = EarlyStopping(monitor='val_loss', patience = 10, restore_best_weights = True, verbose=1)\n",
        "\n",
        "callbacks = [plateau, es, tb]"
      ],
      "execution_count": null,
      "outputs": []
    },
    {
      "cell_type": "code",
      "metadata": {
        "colab": {
          "base_uri": "https://localhost:8080/"
        },
        "id": "zqfKjzEX2OSL",
        "outputId": "5553f305-6146-4ed3-8366-9a7f357c1ec4"
      },
      "source": [
        "#I create the neural network model here.\n",
        "\n",
        "model = Sequential()\n",
        "model.add(LSTM(512, input_shape=(X_train.shape[1], X_train.shape[2]), return_sequences=True))\n",
        "model.add(LSTM(256))\n",
        "model.add(Dense(Y_train.shape[1], activation='softmax'))\n",
        "\n",
        "model.compile(optimizer='Adam', loss='categorical_crossentropy', metrics=['accuracy'])\n",
        "\n",
        "model.fit(X_train, Y_train, epochs=10000, batch_size=16, validation_data=(X_val, Y_val), callbacks=callbacks)\n",
        "\n",
        "model.evaluate(X_test, Y_test)\n",
        "\n",
        "model.save(MODEL_SAVE_PATH + MODEL_NAME + \".h5\")"
      ],
      "execution_count": null,
      "outputs": [
        {
          "output_type": "stream",
          "name": "stdout",
          "text": [
            "Epoch 1/10000\n",
            "7864/7864 [==============================] - 145s 17ms/step - loss: 1.8366 - accuracy: 0.5223 - val_loss: 1.4251 - val_accuracy: 0.6347\n",
            "Epoch 2/10000\n",
            "7864/7864 [==============================] - 128s 16ms/step - loss: 1.2652 - accuracy: 0.6725 - val_loss: 1.1869 - val_accuracy: 0.6849\n",
            "Epoch 3/10000\n",
            "7864/7864 [==============================] - 124s 16ms/step - loss: 1.0244 - accuracy: 0.7357 - val_loss: 0.9878 - val_accuracy: 0.7481\n",
            "Epoch 4/10000\n",
            "7864/7864 [==============================] - 133s 17ms/step - loss: 0.8613 - accuracy: 0.7789 - val_loss: 0.8956 - val_accuracy: 0.7739\n",
            "Epoch 5/10000\n",
            "7864/7864 [==============================] - 135s 17ms/step - loss: 0.7472 - accuracy: 0.8083 - val_loss: 0.8271 - val_accuracy: 0.7967\n",
            "Epoch 6/10000\n",
            "7864/7864 [==============================] - 135s 17ms/step - loss: 0.6707 - accuracy: 0.8277 - val_loss: 0.7778 - val_accuracy: 0.8079\n",
            "Epoch 7/10000\n",
            "7864/7864 [==============================] - 125s 16ms/step - loss: 0.6143 - accuracy: 0.8411 - val_loss: 0.7586 - val_accuracy: 0.8151\n",
            "Epoch 8/10000\n",
            "7864/7864 [==============================] - 123s 16ms/step - loss: 0.5723 - accuracy: 0.8522 - val_loss: 0.7162 - val_accuracy: 0.8291\n",
            "Epoch 9/10000\n",
            "7864/7864 [==============================] - 123s 16ms/step - loss: 0.5400 - accuracy: 0.8591 - val_loss: 0.7143 - val_accuracy: 0.8281\n",
            "Epoch 10/10000\n",
            "7864/7864 [==============================] - 132s 17ms/step - loss: 0.5139 - accuracy: 0.8658 - val_loss: 0.7350 - val_accuracy: 0.8232\n",
            "Epoch 11/10000\n",
            "7864/7864 [==============================] - 126s 16ms/step - loss: 0.4918 - accuracy: 0.8714 - val_loss: 0.7118 - val_accuracy: 0.8338\n",
            "Epoch 12/10000\n",
            "7864/7864 [==============================] - 132s 17ms/step - loss: 0.4766 - accuracy: 0.8754 - val_loss: 0.7173 - val_accuracy: 0.8300\n",
            "Epoch 13/10000\n",
            "7864/7864 [==============================] - 126s 16ms/step - loss: 0.4657 - accuracy: 0.8775 - val_loss: 0.6951 - val_accuracy: 0.8390\n",
            "Epoch 14/10000\n",
            "7864/7864 [==============================] - 123s 16ms/step - loss: 0.4538 - accuracy: 0.8808 - val_loss: 0.6889 - val_accuracy: 0.8439\n",
            "Epoch 15/10000\n",
            "7864/7864 [==============================] - 132s 17ms/step - loss: 0.4407 - accuracy: 0.8840 - val_loss: 0.6955 - val_accuracy: 0.8414\n",
            "Epoch 16/10000\n",
            "7864/7864 [==============================] - 135s 17ms/step - loss: 0.4357 - accuracy: 0.8851 - val_loss: 0.6816 - val_accuracy: 0.8452\n",
            "Epoch 17/10000\n",
            "7864/7864 [==============================] - 135s 17ms/step - loss: 0.4283 - accuracy: 0.8865 - val_loss: 0.6783 - val_accuracy: 0.8483\n",
            "Epoch 18/10000\n",
            "7864/7864 [==============================] - 134s 17ms/step - loss: 0.4222 - accuracy: 0.8886 - val_loss: 0.6804 - val_accuracy: 0.8492\n",
            "Epoch 19/10000\n",
            "7864/7864 [==============================] - 127s 16ms/step - loss: 0.4184 - accuracy: 0.8885 - val_loss: 0.6759 - val_accuracy: 0.8495\n",
            "Epoch 20/10000\n",
            "7864/7864 [==============================] - 125s 16ms/step - loss: 0.4116 - accuracy: 0.8911 - val_loss: 0.6748 - val_accuracy: 0.8495\n",
            "Epoch 21/10000\n",
            "7864/7864 [==============================] - 133s 17ms/step - loss: 0.4056 - accuracy: 0.8919 - val_loss: 0.6882 - val_accuracy: 0.8491\n",
            "Epoch 22/10000\n",
            "7864/7864 [==============================] - 132s 17ms/step - loss: 0.4019 - accuracy: 0.8923 - val_loss: 0.6788 - val_accuracy: 0.8516\n",
            "Epoch 23/10000\n",
            "7864/7864 [==============================] - 133s 17ms/step - loss: 0.4034 - accuracy: 0.8929 - val_loss: 0.6724 - val_accuracy: 0.8519\n",
            "Epoch 24/10000\n",
            "7864/7864 [==============================] - 124s 16ms/step - loss: 0.3985 - accuracy: 0.8934 - val_loss: 0.7038 - val_accuracy: 0.8448\n",
            "Epoch 25/10000\n",
            "7864/7864 [==============================] - 128s 16ms/step - loss: 0.3924 - accuracy: 0.8948 - val_loss: 0.7021 - val_accuracy: 0.8475\n",
            "Epoch 26/10000\n",
            "7864/7864 [==============================] - 142s 18ms/step - loss: 0.3911 - accuracy: 0.8950 - val_loss: 0.6981 - val_accuracy: 0.8512\n",
            "\n",
            "Epoch 00026: ReduceLROnPlateau reducing learning rate to 0.00020000000949949026.\n",
            "Epoch 27/10000\n",
            "7864/7864 [==============================] - 141s 18ms/step - loss: 0.3080 - accuracy: 0.9174 - val_loss: 0.6149 - val_accuracy: 0.8706\n",
            "Epoch 28/10000\n",
            "7864/7864 [==============================] - 142s 18ms/step - loss: 0.2855 - accuracy: 0.9216 - val_loss: 0.6119 - val_accuracy: 0.8710\n",
            "Epoch 29/10000\n",
            "7864/7864 [==============================] - 141s 18ms/step - loss: 0.2799 - accuracy: 0.9224 - val_loss: 0.6161 - val_accuracy: 0.8710\n",
            "Epoch 30/10000\n",
            "7864/7864 [==============================] - 132s 17ms/step - loss: 0.2761 - accuracy: 0.9230 - val_loss: 0.6154 - val_accuracy: 0.8730\n",
            "Epoch 31/10000\n",
            "7864/7864 [==============================] - 136s 17ms/step - loss: 0.2736 - accuracy: 0.9235 - val_loss: 0.6153 - val_accuracy: 0.8726\n",
            "\n",
            "Epoch 00031: ReduceLROnPlateau reducing learning rate to 5e-05.\n",
            "Epoch 32/10000\n",
            "7864/7864 [==============================] - 141s 18ms/step - loss: 0.2580 - accuracy: 0.9283 - val_loss: 0.6051 - val_accuracy: 0.8741\n",
            "Epoch 33/10000\n",
            "7864/7864 [==============================] - 137s 17ms/step - loss: 0.2545 - accuracy: 0.9288 - val_loss: 0.6063 - val_accuracy: 0.8745\n",
            "Epoch 34/10000\n",
            "7864/7864 [==============================] - 139s 18ms/step - loss: 0.2535 - accuracy: 0.9284 - val_loss: 0.6073 - val_accuracy: 0.8748\n",
            "Epoch 35/10000\n",
            "7864/7864 [==============================] - 130s 17ms/step - loss: 0.2527 - accuracy: 0.9288 - val_loss: 0.6079 - val_accuracy: 0.8749\n",
            "Epoch 36/10000\n",
            "7864/7864 [==============================] - 124s 16ms/step - loss: 0.2521 - accuracy: 0.9286 - val_loss: 0.6075 - val_accuracy: 0.8751\n",
            "Epoch 37/10000\n",
            "7864/7864 [==============================] - 134s 17ms/step - loss: 0.2515 - accuracy: 0.9291 - val_loss: 0.6078 - val_accuracy: 0.8757\n",
            "Epoch 38/10000\n",
            "7864/7864 [==============================] - 127s 16ms/step - loss: 0.2511 - accuracy: 0.9288 - val_loss: 0.6085 - val_accuracy: 0.8751\n",
            "Epoch 39/10000\n",
            "7864/7864 [==============================] - 124s 16ms/step - loss: 0.2507 - accuracy: 0.9291 - val_loss: 0.6097 - val_accuracy: 0.8747\n",
            "Epoch 40/10000\n",
            "7864/7864 [==============================] - 132s 17ms/step - loss: 0.2503 - accuracy: 0.9293 - val_loss: 0.6101 - val_accuracy: 0.8755\n",
            "Epoch 41/10000\n",
            "7864/7864 [==============================] - 136s 17ms/step - loss: 0.2499 - accuracy: 0.9289 - val_loss: 0.6100 - val_accuracy: 0.8751\n",
            "Epoch 42/10000\n",
            "7864/7864 [==============================] - 136s 17ms/step - loss: 0.2495 - accuracy: 0.9292 - val_loss: 0.6101 - val_accuracy: 0.8748\n",
            "Restoring model weights from the end of the best epoch.\n",
            "Epoch 00042: early stopping\n",
            "50/50 [==============================] - 0s 8ms/step - loss: 0.6446 - accuracy: 0.8741\n"
          ]
        }
      ]
    },
    {
      "cell_type": "code",
      "metadata": {
        "id": "tEDmsNdvr1CP"
      },
      "source": [
        "#I use the TensorBoard here\n",
        "\n",
        "%tensorboard --logdir=\"/content/tblogs/guitarmodel1\" "
      ],
      "execution_count": null,
      "outputs": []
    },
    {
      "cell_type": "markdown",
      "metadata": {
        "id": "I5udvodq8Bw8"
      },
      "source": [
        "# INFERENCE AND POSTPROCESSING SECTION"
      ]
    },
    {
      "cell_type": "code",
      "metadata": {
        "id": "lqA3epxQEX0C"
      },
      "source": [
        "def sample(preds, temperature=1.0):\n",
        "    # helper function to sample an index from a probability array\n",
        "    preds = np.asarray(preds).astype(\"float64\")\n",
        "    preds = np.log(preds) / temperature\n",
        "    exp_preds = np.exp(preds)\n",
        "    preds = exp_preds / np.sum(exp_preds)\n",
        "    preds = np.squeeze(preds)\n",
        "    probas = np.random.multinomial(1, preds, 1)\n",
        "    return np.argmax(probas)"
      ],
      "execution_count": null,
      "outputs": []
    },
    {
      "cell_type": "code",
      "metadata": {
        "id": "oWpOHOeMLzMk"
      },
      "source": [
        "def generate_notes(model, network_input, mapper, mapperlist = None, temp=1.0):\n",
        "    \"\"\" Generate notes from the neural network based on a sequence of notes \"\"\"\n",
        "    # pick a random sequence from the input as a starting point for the prediction\n",
        "    start = np.random.randint(0, len(network_input)-1)\n",
        "\n",
        "    pattern = network_input[start]\n",
        "    prediction_output = []\n",
        "\n",
        "    # generate 500 notes\n",
        "    for note_index in range(500):\n",
        "        prediction_input = np.reshape(pattern, (1, len(pattern), 1))\n",
        "\n",
        "        prediction = model.predict(prediction_input, verbose=0)\n",
        "\n",
        "        #prediction = sample(prediction, temp)\n",
        "        index = sample(prediction, temp)\n",
        "\n",
        "        #index = np.argmax(prediction)\n",
        "        if mapperlist is not None: #Idx of the mapper list is the new value, the element is the old value. This is used when I filter for outliers.\n",
        "            index=mapperlist[index]\n",
        "\n",
        "        result = get_key_from_value(index, mapper)\n",
        "        prediction_output.append(result)\n",
        "\n",
        "        pattern = np.append(pattern, index/float(len(mapper)))\n",
        "\n",
        "        pattern = pattern[1:len(pattern)]\n",
        "\n",
        "    return prediction_output"
      ],
      "execution_count": null,
      "outputs": []
    },
    {
      "cell_type": "code",
      "metadata": {
        "colab": {
          "base_uri": "https://localhost:8080/"
        },
        "id": "PJYdVGHiQeR-",
        "outputId": "ed45639e-e23e-42c8-cc9d-762fe10446a6"
      },
      "source": [
        "generated_outputs=[]\n",
        "\n",
        "temperatures = [0.5, 0.7, 0.8, 0.9, 1.0, 1.2]\n",
        "\n",
        "# IMPORTANT: When using outlier filtering, DO NOT FORGET to use the mapperlist parameter!!\n",
        "\n",
        "for temp in tqdm(temperatures):\n",
        "    generated_outputs.append(generate_notes(model, input, mapper, mapper_list, temp = temp))"
      ],
      "execution_count": null,
      "outputs": [
        {
          "output_type": "stream",
          "text": [
            "100%|██████████| 6/6 [01:39<00:00, 16.59s/it]\n"
          ],
          "name": "stderr"
        }
      ]
    },
    {
      "cell_type": "code",
      "metadata": {
        "id": "_rLzYrWgJxJ-"
      },
      "source": [
        "for out in generated_outputs:\n",
        "    print(out)"
      ],
      "execution_count": null,
      "outputs": []
    },
    {
      "cell_type": "code",
      "metadata": {
        "id": "9Lo0vDc_SqNv"
      },
      "source": [
        "STARTING_OFFSET = 0\n",
        "\n",
        "OUTPUT_PATH = \"/content/drive/MyDrive/MLFolder/Onlab/Outputs/\"\n",
        "\n",
        "for i, out in enumerate(generated_outputs):\n",
        "    create_midi_with_embedded_durations(out, target_instrument = instrument.ElectricGuitar(), filename = OUTPUT_PATH + MODEL_NAME + f'{i+STARTING_OFFSET}.mid')"
      ],
      "execution_count": null,
      "outputs": []
    },
    {
      "cell_type": "code",
      "metadata": {
        "id": "oTTbDS9Q1Bbf"
      },
      "source": [
        "STARTING_OFFSET = 0\n",
        "\n",
        "OUTPUT_PATH = \"/content/drive/MyDrive/MLFolder/Onlab/Outputs/\"\n",
        "\n",
        "for i, out in enumerate(generated_outputs):\n",
        "    create_midi_without_durations(out, target_instrument = instrument.ElectricGuitar(), filename = OUTPUT_PATH + MODEL_NAME + f'{i+STARTING_OFFSET}.mid')"
      ],
      "execution_count": null,
      "outputs": []
    },
    {
      "cell_type": "markdown",
      "metadata": {
        "id": "xNKr2yri8M6v"
      },
      "source": [
        "# DEBUG SECTION"
      ]
    },
    {
      "cell_type": "code",
      "metadata": {
        "colab": {
          "base_uri": "https://localhost:8080/"
        },
        "id": "G58iw9ULn4AA",
        "outputId": "c42404f9-0fe2-4fd0-ea20-ddbcacec6636"
      },
      "source": [
        "#This is a debug cell, with a lot of prints:\n",
        "\n",
        "print(mapper)\n",
        "print(len(mapper))\n",
        "\n",
        "print(input[0])\n",
        "\n",
        "print(input.shape)\n",
        "print(output.shape)\n"
      ],
      "execution_count": null,
      "outputs": [
        {
          "output_type": "stream",
          "text": [
            "{'<music21.chord.Chord A2 A3 E3>': 0, '<music21.chord.Chord A2 A3>': 1, '<music21.chord.Chord A2 D2>': 2, '<music21.chord.Chord A2 D3 A3 D4>': 3, '<music21.chord.Chord A2 D3 G3>': 4, '<music21.chord.Chord A2 D3>': 5, '<music21.chord.Chord A2 E2>': 6, '<music21.chord.Chord A2 E3 A3 B3>': 7, '<music21.chord.Chord A2 E3 A3 C4 E4 A4>': 8, '<music21.chord.Chord A2 E3 A3 C4 E4>': 9, '<music21.chord.Chord A2 E3 A3 C4>': 10, '<music21.chord.Chord A2 E3 A3 E2>': 11, '<music21.chord.Chord A2 E3 A3>': 12, '<music21.chord.Chord A2 E3 B3>': 13, '<music21.chord.Chord A2 E3>': 14, '<music21.chord.Chord A2 G3>': 15, '<music21.chord.Chord A2>': 16, '<music21.chord.Chord A3 A2>': 17, '<music21.chord.Chord A3 A3 A4>': 18, '<music21.chord.Chord A3 A4 E3 E4 D4 D5>': 19, '<music21.chord.Chord A3 A4>': 20, '<music21.chord.Chord A3 B3 E4>': 21, '<music21.chord.Chord A3 B3>': 22, '<music21.chord.Chord A3 C#3>': 23, '<music21.chord.Chord A3 C3>': 24, '<music21.chord.Chord A3 C4>': 25, '<music21.chord.Chord A3 D3 A2>': 26, '<music21.chord.Chord A3 D3 D2>': 27, '<music21.chord.Chord A3 D3 E2>': 28, '<music21.chord.Chord A3 D3 G2>': 29, '<music21.chord.Chord A3 D3>': 30, '<music21.chord.Chord A3 D4 D3 F#4>': 31, '<music21.chord.Chord A3 D4 D3>': 32, '<music21.chord.Chord A3 D4 E4>': 33, '<music21.chord.Chord A3 D4 F#4>': 34, '<music21.chord.Chord A3 D4 F4>': 35, '<music21.chord.Chord A3 D4>': 36, '<music21.chord.Chord A3 E3 A2>': 37, '<music21.chord.Chord A3 E3 B2 E2>': 38, '<music21.chord.Chord A3 E3 C3>': 39, '<music21.chord.Chord A3 E3>': 40, '<music21.chord.Chord A3 F#3 A2>': 41, '<music21.chord.Chord A3 F#3>': 42, '<music21.chord.Chord A3 F3 C3 F2>': 43, '<music21.chord.Chord A3 F3>': 44, '<music21.chord.Chord A3>': 45, '<music21.chord.Chord A4 A3>': 46, '<music21.chord.Chord A4 A4 A5>': 47, '<music21.chord.Chord A4 A4>': 48, '<music21.chord.Chord A4 A5>': 49, '<music21.chord.Chord A4 C#5>': 50, '<music21.chord.Chord A4 D3>': 51, '<music21.chord.Chord A4 D4 A3 D3>': 52, '<music21.chord.Chord A4 D4>': 53, '<music21.chord.Chord A4 D5>': 54, '<music21.chord.Chord A4 E4 A3 A2>': 55, '<music21.chord.Chord A4 E4 A3 E3 A2>': 56, '<music21.chord.Chord A4 E4 A3>': 57, '<music21.chord.Chord A4 E4 B3>': 58, '<music21.chord.Chord A4 E4 C4 A3 E3 A2>': 59, '<music21.chord.Chord A4 E4 C4 G3>': 60, '<music21.chord.Chord A4 E4 C4>': 61, '<music21.chord.Chord A4 E4 D4 A3 D3>': 62, '<music21.chord.Chord A4 E4>': 63, '<music21.chord.Chord A4 F#3>': 64, '<music21.chord.Chord A4 F#4 D4 A3 D3>': 65, '<music21.chord.Chord A4 F#4>': 66, '<music21.chord.Chord A4 F4 D4 A3 D3>': 67, '<music21.chord.Chord A4 F4 D4 D3>': 68, '<music21.chord.Chord A4 F4>': 69, '<music21.chord.Chord A4 G#4>': 70, '<music21.chord.Chord A4 G4 D4 B3>': 71, '<music21.chord.Chord A4 G4 D4 D3>': 72, '<music21.chord.Chord A4 G4>': 73, '<music21.chord.Chord A4>': 74, '<music21.chord.Chord A5 A4>': 75, '<music21.chord.Chord A5 A5 A6>': 76, '<music21.chord.Chord A5 A6>': 77, '<music21.chord.Chord A5 F5 D5>': 78, '<music21.chord.Chord A5 G5>': 79, '<music21.chord.Chord A5>': 80, '<music21.chord.Chord B-2 F2>': 81, '<music21.chord.Chord B-2 F3 B-3>': 82, '<music21.chord.Chord B-2 F3>': 83, '<music21.chord.Chord B-2>': 84, '<music21.chord.Chord B-3 B-2>': 85, '<music21.chord.Chord B-3 C4>': 86, '<music21.chord.Chord B-3 D3>': 87, '<music21.chord.Chord B-3 E-3 B-2>': 88, '<music21.chord.Chord B-3 E-3>': 89, '<music21.chord.Chord B-3 E3>': 90, '<music21.chord.Chord B-3 F#3>': 91, '<music21.chord.Chord B-3 F3 B-2>': 92, '<music21.chord.Chord B-3 F3>': 93, '<music21.chord.Chord B-3>': 94, '<music21.chord.Chord B-4 A4>': 95, '<music21.chord.Chord B-4 B-3>': 96, '<music21.chord.Chord B-4 F#4 C#4 F#3>': 97, '<music21.chord.Chord B-4 F#4>': 98, '<music21.chord.Chord B-4 F4 D4>': 99, '<music21.chord.Chord B-4 F4>': 100, '<music21.chord.Chord B-4 G#4>': 101, '<music21.chord.Chord B-4>': 102, '<music21.chord.Chord B-5>': 103, '<music21.chord.Chord B2 B3 F#3>': 104, '<music21.chord.Chord B2 B3>': 105, '<music21.chord.Chord B2 D3 G3 B3>': 106, '<music21.chord.Chord B2 E2>': 107, '<music21.chord.Chord B2 E3 G3>': 108, '<music21.chord.Chord B2 F#3 B3>': 109, '<music21.chord.Chord B2 F#3>': 110, '<music21.chord.Chord B2 G2>': 111, '<music21.chord.Chord B2>': 112, '<music21.chord.Chord B3 A3>': 113, '<music21.chord.Chord B3 A4 D3>': 114, '<music21.chord.Chord B3 B2>': 115, '<music21.chord.Chord B3 B3 B4>': 116, '<music21.chord.Chord B3 B3>': 117, '<music21.chord.Chord B3 B4>': 118, '<music21.chord.Chord B3 C#4>': 119, '<music21.chord.Chord B3 D3 A2>': 120, '<music21.chord.Chord B3 D3>': 121, '<music21.chord.Chord B3 D4 G4>': 122, '<music21.chord.Chord B3 E-3>': 123, '<music21.chord.Chord B3 E3 B2 E2>': 124, '<music21.chord.Chord B3 E3 E2>': 125, '<music21.chord.Chord B3 E3 E4>': 126, '<music21.chord.Chord B3 E3>': 127, '<music21.chord.Chord B3 E4 A3 F3>': 128, '<music21.chord.Chord B3 E4 A3>': 129, '<music21.chord.Chord B3 E4 B3 E3>': 130, '<music21.chord.Chord B3 E4 E3>': 131, '<music21.chord.Chord B3 E4 G3>': 132, '<music21.chord.Chord B3 E4 G4>': 133, '<music21.chord.Chord B3 E4>': 134, '<music21.chord.Chord B3 F#3 B2>': 135, '<music21.chord.Chord B3 F#3>': 136, '<music21.chord.Chord B3 F#4>': 137, '<music21.chord.Chord B3 F3>': 138, '<music21.chord.Chord B3 G#3 A2>': 139, '<music21.chord.Chord B3 G#3 E3>': 140, '<music21.chord.Chord B3 G#3>': 141, '<music21.chord.Chord B3 G3 D3 E2>': 142, '<music21.chord.Chord B3 G3 D3 G2>': 143, '<music21.chord.Chord B3 G3 D3>': 144, '<music21.chord.Chord B3 G3 E3>': 145, '<music21.chord.Chord B3 G3 G3 B2>': 146, '<music21.chord.Chord B3 G3>': 147, '<music21.chord.Chord B3>': 148, '<music21.chord.Chord B4 A4>': 149, '<music21.chord.Chord B4 B3>': 150, '<music21.chord.Chord B4 B4>': 151, '<music21.chord.Chord B4 B5 G4 G5 D4 D5>': 152, '<music21.chord.Chord B4 B5>': 153, '<music21.chord.Chord B4 E4 B3 E3>': 154, '<music21.chord.Chord B4 E4>': 155, '<music21.chord.Chord B4 E5>': 156, '<music21.chord.Chord B4 F#4 B3>': 157, '<music21.chord.Chord B4 F#4 E4>': 158, '<music21.chord.Chord B4 F#4>': 159, '<music21.chord.Chord B4 F4 C4 F3>': 160, '<music21.chord.Chord B4 G#4>': 161, '<music21.chord.Chord B4 G3>': 162, '<music21.chord.Chord B4 G4 D4>': 163, '<music21.chord.Chord B4 G4 E4 B3 E3>': 164, '<music21.chord.Chord B4 G4>': 165, '<music21.chord.Chord B4>': 166, '<music21.chord.Chord B5 A5>': 167, '<music21.chord.Chord B5 B6>': 168, '<music21.chord.Chord B5>': 169, '<music21.chord.Chord C#3 F#2>': 170, '<music21.chord.Chord C#3 G#3>': 171, '<music21.chord.Chord C#3 G2>': 172, '<music21.chord.Chord C#3>': 173, '<music21.chord.Chord C#4 A3 C#3>': 174, '<music21.chord.Chord C#4 A3 E3 A2>': 175, '<music21.chord.Chord C#4 A3 E3>': 176, '<music21.chord.Chord C#4 A3 F#3 C#3 F#2>': 177, '<music21.chord.Chord C#4 A3>': 178, '<music21.chord.Chord C#4 B3>': 179, '<music21.chord.Chord C#4 C#5>': 180, '<music21.chord.Chord C#4 E3>': 181, '<music21.chord.Chord C#4 F#3>': 182, '<music21.chord.Chord C#4 G#3 C#3 A2>': 183, '<music21.chord.Chord C#4 G#3 C#3>': 184, '<music21.chord.Chord C#4 G#3>': 185, '<music21.chord.Chord C#4 G3>': 186, '<music21.chord.Chord C#4>': 187, '<music21.chord.Chord C#5 A4>': 188, '<music21.chord.Chord C#5 C#6>': 189, '<music21.chord.Chord C#5>': 190, '<music21.chord.Chord C#6>': 191, '<music21.chord.Chord C3 C4 B3>': 192, '<music21.chord.Chord C3 C4>': 193, '<music21.chord.Chord C3 E2>': 194, '<music21.chord.Chord C3 E3 A3>': 195, '<music21.chord.Chord C3 E3 G3>': 196, '<music21.chord.Chord C3 E3>': 197, '<music21.chord.Chord C3 E4>': 198, '<music21.chord.Chord C3 F2>': 199, '<music21.chord.Chord C3 F3 C4>': 200, '<music21.chord.Chord C3 F3 G3>': 201, '<music21.chord.Chord C3 G2>': 202, '<music21.chord.Chord C3 G3 C4 D4 G4>': 203, '<music21.chord.Chord C3 G3 C4 D4>': 204, '<music21.chord.Chord C3 G3 C4 E4>': 205, '<music21.chord.Chord C3 G3 C4>': 206, '<music21.chord.Chord C3 G3>': 207, '<music21.chord.Chord C3>': 208, '<music21.chord.Chord C4 A3 E3 A2>': 209, '<music21.chord.Chord C4 A3 E3>': 210, '<music21.chord.Chord C4 A3 F3 C3 F2>': 211, '<music21.chord.Chord C4 A3 F3 C3>': 212, '<music21.chord.Chord C4 A3 F3>': 213, '<music21.chord.Chord C4 A3>': 214, '<music21.chord.Chord C4 B-3 F3>': 215, '<music21.chord.Chord C4 B-3>': 216, '<music21.chord.Chord C4 B3>': 217, '<music21.chord.Chord C4 C3>': 218, '<music21.chord.Chord C4 C5>': 219, '<music21.chord.Chord C4 D3>': 220, '<music21.chord.Chord C4 D4>': 221, '<music21.chord.Chord C4 E3 C3>': 222, '<music21.chord.Chord C4 E3>': 223, '<music21.chord.Chord C4 E4 A4>': 224, '<music21.chord.Chord C4 E4 G3>': 225, '<music21.chord.Chord C4 E4>': 226, '<music21.chord.Chord C4 F3 C3>': 227, '<music21.chord.Chord C4 F3>': 228, '<music21.chord.Chord C4 F4 G4>': 229, '<music21.chord.Chord C4 F4>': 230, '<music21.chord.Chord C4 G3 C3 G2>': 231, '<music21.chord.Chord C4 G3 C3>': 232, '<music21.chord.Chord C4 G3 D3>': 233, '<music21.chord.Chord C4 G3 E3 C3>': 234, '<music21.chord.Chord C4 G3>': 235, '<music21.chord.Chord C4>': 236, '<music21.chord.Chord C5 A4>': 237, '<music21.chord.Chord C5 B-4>': 238, '<music21.chord.Chord C5 C4>': 239, '<music21.chord.Chord C5 C5>': 240, '<music21.chord.Chord C5 C6>': 241, '<music21.chord.Chord C5 E5>': 242, '<music21.chord.Chord C5 F4 C4 F3>': 243, '<music21.chord.Chord C5 F5>': 244, '<music21.chord.Chord C5 G4 E4 C4 G3 C3>': 245, '<music21.chord.Chord C5 G4 E4>': 246, '<music21.chord.Chord C5 G4>': 247, '<music21.chord.Chord C5>': 248, '<music21.chord.Chord C6>': 249, '<music21.chord.Chord D2>': 250, '<music21.chord.Chord D3 A2 D2>': 251, '<music21.chord.Chord D3 A2 E2>': 252, '<music21.chord.Chord D3 A2 F#2>': 253, '<music21.chord.Chord D3 A2>': 254, '<music21.chord.Chord D3 A3 A2>': 255, '<music21.chord.Chord D3 A3 D4 E4 A4>': 256, '<music21.chord.Chord D3 A3 D4 E4>': 257, '<music21.chord.Chord D3 A3 D4 F#4>': 258, '<music21.chord.Chord D3 A3 D4>': 259, '<music21.chord.Chord D3 A3>': 260, '<music21.chord.Chord D3 B-3>': 261, '<music21.chord.Chord D3 B2>': 262, '<music21.chord.Chord D3 C#3>': 263, '<music21.chord.Chord D3 C4>': 264, '<music21.chord.Chord D3 D3>': 265, '<music21.chord.Chord D3 D4>': 266, '<music21.chord.Chord D3 E-4>': 267, '<music21.chord.Chord D3 E2>': 268, '<music21.chord.Chord D3 E3 A2>': 269, '<music21.chord.Chord D3 F#2>': 270, '<music21.chord.Chord D3 F#3 G3>': 271, '<music21.chord.Chord D3 F#4>': 272, '<music21.chord.Chord D3 G2>': 273, '<music21.chord.Chord D3 G3 B3>': 274, '<music21.chord.Chord D3 G3>': 275, '<music21.chord.Chord D3>': 276, '<music21.chord.Chord D4 A3 A2>': 277, '<music21.chord.Chord D4 A3 D3 A2 D2>': 278, '<music21.chord.Chord D4 A3 D3 A2>': 279, '<music21.chord.Chord D4 A3 D3 D2>': 280, '<music21.chord.Chord D4 A3 D3 F#2>': 281, '<music21.chord.Chord D4 A3 D3>': 282, '<music21.chord.Chord D4 A3 E3>': 283, '<music21.chord.Chord D4 A3>': 284, '<music21.chord.Chord D4 A4>': 285, '<music21.chord.Chord D4 B-3 D3 A2 D2>': 286, '<music21.chord.Chord D4 B-3 D3>': 287, '<music21.chord.Chord D4 B-3 F3>': 288, '<music21.chord.Chord D4 B-3>': 289, '<music21.chord.Chord D4 B3 E3>': 290, '<music21.chord.Chord D4 B3 G3 D3>': 291, '<music21.chord.Chord D4 B3 G3>': 292, '<music21.chord.Chord D4 B3>': 293, '<music21.chord.Chord D4 C4 G3 C3>': 294, '<music21.chord.Chord D4 C4 G3 D3>': 295, '<music21.chord.Chord D4 C4 G3>': 296, '<music21.chord.Chord D4 C4>': 297, '<music21.chord.Chord D4 D3>': 298, '<music21.chord.Chord D4 D4 D5>': 299, '<music21.chord.Chord D4 D5>': 300, '<music21.chord.Chord D4 E3>': 301, '<music21.chord.Chord D4 E4>': 302, '<music21.chord.Chord D4 F#3>': 303, '<music21.chord.Chord D4 F#4>': 304, '<music21.chord.Chord D4 F3>': 305, '<music21.chord.Chord D4 F4>': 306, '<music21.chord.Chord D4 G#3 D3>': 307, '<music21.chord.Chord D4 G3 C3>': 308, '<music21.chord.Chord D4 G3 D3 A2 G2>': 309, '<music21.chord.Chord D4 G3 D3 B2>': 310, '<music21.chord.Chord D4 G3 D3 G2>': 311, '<music21.chord.Chord D4 G3 D3>': 312, '<music21.chord.Chord D4 G3 E3>': 313, '<music21.chord.Chord D4 G3>': 314, '<music21.chord.Chord D4 G4 G3 D3>': 315, '<music21.chord.Chord D4 G4>': 316, '<music21.chord.Chord D4>': 317, '<music21.chord.Chord D5 A4 D3>': 318, '<music21.chord.Chord D5 A4 D4>': 319, '<music21.chord.Chord D5 A4>': 320, '<music21.chord.Chord D5 B-4>': 321, '<music21.chord.Chord D5 B3>': 322, '<music21.chord.Chord D5 B4>': 323, '<music21.chord.Chord D5 C5>': 324, '<music21.chord.Chord D5 D4>': 325, '<music21.chord.Chord D5 D5 D6>': 326, '<music21.chord.Chord D5 D6>': 327, '<music21.chord.Chord D5 F5>': 328, '<music21.chord.Chord D5 G3 G4>': 329, '<music21.chord.Chord D5 G4 D4 G3>': 330, '<music21.chord.Chord D5 G5>': 331, '<music21.chord.Chord D5>': 332, '<music21.chord.Chord D6 D5>': 333, '<music21.chord.Chord D6>': 334, '<music21.chord.Chord E-3 G#2>': 335, '<music21.chord.Chord E-3>': 336, '<music21.chord.Chord E-4 B-3 E-3>': 337, '<music21.chord.Chord E-4 B-3>': 338, '<music21.chord.Chord E-4 B2>': 339, '<music21.chord.Chord E-4 B3 F#3 B2>': 340, '<music21.chord.Chord E-4 B3 F#3>': 341, '<music21.chord.Chord E-4 D4>': 342, '<music21.chord.Chord E-4 G#3>': 343, '<music21.chord.Chord E-4>': 344, '<music21.chord.Chord E-5 B4>': 345, '<music21.chord.Chord E-5 C5>': 346, '<music21.chord.Chord E-5>': 347, '<music21.chord.Chord E2 A2 E3 A3>': 348, '<music21.chord.Chord E2 A2>': 349, '<music21.chord.Chord E2 B2 E3 B3>': 350, '<music21.chord.Chord E2 B2 E3 G3 B3 E4>': 351, '<music21.chord.Chord E2 B2 E3 G3 B3>': 352, '<music21.chord.Chord E2 B2 E3>': 353, '<music21.chord.Chord E2 B2>': 354, '<music21.chord.Chord E2 E3 B3 E4 B3 E4>': 355, '<music21.chord.Chord E2 E3 B3 E4 B3>': 356, '<music21.chord.Chord E2 E3 B3 E4>': 357, '<music21.chord.Chord E2 E3 B3>': 358, '<music21.chord.Chord E2 E3>': 359, '<music21.chord.Chord E2>': 360, '<music21.chord.Chord E3 A2>': 361, '<music21.chord.Chord E3 A3 B3>': 362, '<music21.chord.Chord E3 A3 C#4 E4>': 363, '<music21.chord.Chord E3 A3 C#4>': 364, '<music21.chord.Chord E3 A3 C4>': 365, '<music21.chord.Chord E3 A3 D4>': 366, '<music21.chord.Chord E3 A3>': 367, '<music21.chord.Chord E3 B2 E2>': 368, '<music21.chord.Chord E3 B2>': 369, '<music21.chord.Chord E3 B3 E4 G4 B4>': 370, '<music21.chord.Chord E3 B3 E4 G4>': 371, '<music21.chord.Chord E3 B3 E4>': 372, '<music21.chord.Chord E3 B3>': 373, '<music21.chord.Chord E3 C3 G2>': 374, '<music21.chord.Chord E3 C3>': 375, '<music21.chord.Chord E3 C4>': 376, '<music21.chord.Chord E3 E2 B3 E4>': 377, '<music21.chord.Chord E3 E2>': 378, '<music21.chord.Chord E3 E4 B3>': 379, '<music21.chord.Chord E3 E4>': 380, '<music21.chord.Chord E3 G#2>': 381, '<music21.chord.Chord E3 G4>': 382, '<music21.chord.Chord E3>': 383, '<music21.chord.Chord E4 A3 E3 A2>': 384, '<music21.chord.Chord E4 A3 E3>': 385, '<music21.chord.Chord E4 A3>': 386, '<music21.chord.Chord E4 A4 E4 D3>': 387, '<music21.chord.Chord E4 A4>': 388, '<music21.chord.Chord E4 B-4 F4 D3>': 389, '<music21.chord.Chord E4 B3 A3 F#3 F#2>': 390, '<music21.chord.Chord E4 B3 A3 F#3>': 391, '<music21.chord.Chord E4 B3 A3 F3 C3 F2>': 392, '<music21.chord.Chord E4 B3 A3>': 393, '<music21.chord.Chord E4 B3 B3 E3 B2 E2>': 394, '<music21.chord.Chord E4 B3 C4 G3 C3>': 395, '<music21.chord.Chord E4 B3 E3 B2 E2>': 396, '<music21.chord.Chord E4 B3 E3 B2>': 397, '<music21.chord.Chord E4 B3 E3 E2>': 398, '<music21.chord.Chord E4 B3 E3>': 399, '<music21.chord.Chord E4 B3 E4 B3 E3 E2>': 400, '<music21.chord.Chord E4 B3 E4 B3 E3>': 401, '<music21.chord.Chord E4 B3 E4 E3>': 402, '<music21.chord.Chord E4 B3 E4>': 403, '<music21.chord.Chord E4 B3 F#3 C#3>': 404, '<music21.chord.Chord E4 B3 F#3>': 405, '<music21.chord.Chord E4 B3 G#3 E3 B2 E2>': 406, '<music21.chord.Chord E4 B3 G#3 E3 B2>': 407, '<music21.chord.Chord E4 B3 G#3 E3 G#2>': 408, '<music21.chord.Chord E4 B3 G#3 E3>': 409, '<music21.chord.Chord E4 B3 G#3>': 410, '<music21.chord.Chord E4 B3 G3 D3>': 411, '<music21.chord.Chord E4 B3 G3 E3 B2 E2>': 412, '<music21.chord.Chord E4 B3 G3>': 413, '<music21.chord.Chord E4 B3 G4>': 414, '<music21.chord.Chord E4 B3>': 415, '<music21.chord.Chord E4 B4>': 416, '<music21.chord.Chord E4 C#4 A3 E3 A2>': 417, '<music21.chord.Chord E4 C#4>': 418, '<music21.chord.Chord E4 C3>': 419, '<music21.chord.Chord E4 C4 A3 E3 A2>': 420, '<music21.chord.Chord E4 C4 D3 A2 D2>': 421, '<music21.chord.Chord E4 C4 D3>': 422, '<music21.chord.Chord E4 C4 G3 C3>': 423, '<music21.chord.Chord E4 C4 G3 E3 A2>': 424, '<music21.chord.Chord E4 C4 G3 E3 C3>': 425, '<music21.chord.Chord E4 C4 G3>': 426, '<music21.chord.Chord E4 C4>': 427, '<music21.chord.Chord E4 C5 G4 D3>': 428, '<music21.chord.Chord E4 C5>': 429, '<music21.chord.Chord E4 D3>': 430, '<music21.chord.Chord E4 D4 A3 A2>': 431, '<music21.chord.Chord E4 D4 A3 D3>': 432, '<music21.chord.Chord E4 D4 A3 E3>': 433, '<music21.chord.Chord E4 D4 A3>': 434, '<music21.chord.Chord E4 D4>': 435, '<music21.chord.Chord E4 D5 A4 D3>': 436, '<music21.chord.Chord E4 E2>': 437, '<music21.chord.Chord E4 E3 B2 E2>': 438, '<music21.chord.Chord E4 E3>': 439, '<music21.chord.Chord E4 E4 B3>': 440, '<music21.chord.Chord E4 E4 D4 D3>': 441, '<music21.chord.Chord E4 E4 E5>': 442, '<music21.chord.Chord E4 E4>': 443, '<music21.chord.Chord E4 E5>': 444, '<music21.chord.Chord E4 F#4>': 445, '<music21.chord.Chord E4 F4 D4 D3>': 446, '<music21.chord.Chord E4 G2 D3 G3 C4>': 447, '<music21.chord.Chord E4 G3>': 448, '<music21.chord.Chord E4 G4 D4 D3>': 449, '<music21.chord.Chord E4 G4>': 450, '<music21.chord.Chord E4>': 451, '<music21.chord.Chord E5 B4 G4>': 452, '<music21.chord.Chord E5 B4>': 453, '<music21.chord.Chord E5 C#5>': 454, '<music21.chord.Chord E5 C5>': 455, '<music21.chord.Chord E5 D5>': 456, '<music21.chord.Chord E5 E5 E6>': 457, '<music21.chord.Chord E5 E6 B4 B5 G4 G5>': 458, '<music21.chord.Chord E5 E6>': 459, '<music21.chord.Chord E5 G5>': 460, '<music21.chord.Chord E5>': 461, '<music21.chord.Chord E6 E7>': 462, '<music21.chord.Chord E6>': 463, '<music21.chord.Chord F#2>': 464, '<music21.chord.Chord F#3 A2>': 465, '<music21.chord.Chord F#3 B2>': 466, '<music21.chord.Chord F#3 C#3 F#2>': 467, '<music21.chord.Chord F#3 D3 F#2>': 468, '<music21.chord.Chord F#3 D3>': 469, '<music21.chord.Chord F#3 D4 F#4>': 470, '<music21.chord.Chord F#3 G3>': 471, '<music21.chord.Chord F#3>': 472, '<music21.chord.Chord F#4 A3>': 473, '<music21.chord.Chord F#4 B3 F#3 B2>': 474, '<music21.chord.Chord F#4 B3>': 475, '<music21.chord.Chord F#4 B4>': 476, '<music21.chord.Chord F#4 C#4 B-3>': 477, '<music21.chord.Chord F#4 C#4 F#3>': 478, '<music21.chord.Chord F#4 C#4>': 479, '<music21.chord.Chord F#4 C4>': 480, '<music21.chord.Chord F#4 D3>': 481, '<music21.chord.Chord F#4 D4 A3 D3>': 482, '<music21.chord.Chord F#4 D4 A3>': 483, '<music21.chord.Chord F#4 D4 B3>': 484, '<music21.chord.Chord F#4 D4 F#3>': 485, '<music21.chord.Chord F#4 D4>': 486, '<music21.chord.Chord F#4 E3>': 487, '<music21.chord.Chord F#4 E4 B3 E3>': 488, '<music21.chord.Chord F#4 E4>': 489, '<music21.chord.Chord F#4 F#3>': 490, '<music21.chord.Chord F#4 F#5>': 491, '<music21.chord.Chord F#4>': 492, '<music21.chord.Chord F#5 B2>': 493, '<music21.chord.Chord F#5 D5>': 494, '<music21.chord.Chord F#5 E5>': 495, '<music21.chord.Chord F#5 F#4>': 496, '<music21.chord.Chord F#5 F#6 D5 D6 A4 A5 E4 E5>': 497, '<music21.chord.Chord F#5 F#6 D5 D6 A4 A5>': 498, '<music21.chord.Chord F#5 F#6 D5 D6>': 499, '<music21.chord.Chord F#5 F#6>': 500, '<music21.chord.Chord F#5>': 501, '<music21.chord.Chord F2 C3 F3 A3 B3 E4>': 502, '<music21.chord.Chord F2 C3 F3 A3 B3>': 503, '<music21.chord.Chord F2 C3 F3 A3>': 504, '<music21.chord.Chord F2 C3 F3>': 505, '<music21.chord.Chord F2 C3>': 506, '<music21.chord.Chord F2>': 507, '<music21.chord.Chord F3 A2>': 508, '<music21.chord.Chord F3 B-2 F2>': 509, '<music21.chord.Chord F3 B-2>': 510, '<music21.chord.Chord F3 B3 F4>': 511, '<music21.chord.Chord F3 C3 F2>': 512, '<music21.chord.Chord F3 C3>': 513, '<music21.chord.Chord F3 C4 F4>': 514, '<music21.chord.Chord F3 C4>': 515, '<music21.chord.Chord F3 F2>': 516, '<music21.chord.Chord F3 F4>': 517, '<music21.chord.Chord F3>': 518, '<music21.chord.Chord F4 A3>': 519, '<music21.chord.Chord F4 C4 A3 A2>': 520, '<music21.chord.Chord F4 C4 A3>': 521, '<music21.chord.Chord F4 C4 B-3 F3 B-2>': 522, '<music21.chord.Chord F4 C4 F3 A2>': 523, '<music21.chord.Chord F4 C4 F3 C3 F2>': 524, '<music21.chord.Chord F4 C4 F3 C3>': 525, '<music21.chord.Chord F4 C4 F3>': 526, '<music21.chord.Chord F4 C4 G3>': 527, '<music21.chord.Chord F4 C4>': 528, '<music21.chord.Chord F4 D4 A3 D3 D2>': 529, '<music21.chord.Chord F4 D4 A3 D3>': 530, '<music21.chord.Chord F4 D4 A3>': 531, '<music21.chord.Chord F4 D4 B-3>': 532, '<music21.chord.Chord F4 D4 D3>': 533, '<music21.chord.Chord F4 D4 G3>': 534, '<music21.chord.Chord F4 D4>': 535, '<music21.chord.Chord F4 E-4>': 536, '<music21.chord.Chord F4 E4>': 537, '<music21.chord.Chord F4 F3>': 538, '<music21.chord.Chord F4 F5>': 539, '<music21.chord.Chord F4>': 540, '<music21.chord.Chord F5 C5 G4>': 541, '<music21.chord.Chord F5 C5>': 542, '<music21.chord.Chord F5 D5 B-4>': 543, '<music21.chord.Chord F5 D5>': 544, '<music21.chord.Chord F5 E-5>': 545, '<music21.chord.Chord F5 F6>': 546, '<music21.chord.Chord F5>': 547, '<music21.chord.Chord G#2>': 548, '<music21.chord.Chord G#3 A2>': 549, '<music21.chord.Chord G#3 C#3>': 550, '<music21.chord.Chord G#3 C3>': 551, '<music21.chord.Chord G#3 D3>': 552, '<music21.chord.Chord G#3 E-3 G#2>': 553, '<music21.chord.Chord G#3 E-3>': 554, '<music21.chord.Chord G#3 E3 A2>': 555, '<music21.chord.Chord G#3 E3 B2 E2>': 556, '<music21.chord.Chord G#3 E3 B2>': 557, '<music21.chord.Chord G#3 E3>': 558, '<music21.chord.Chord G#3>': 559, '<music21.chord.Chord G#4 C#4>': 560, '<music21.chord.Chord G#4 E-4 B-3>': 561, '<music21.chord.Chord G#4 E-4>': 562, '<music21.chord.Chord G#4 E4>': 563, '<music21.chord.Chord G#4 F#4>': 564, '<music21.chord.Chord G#4 G#3>': 565, '<music21.chord.Chord G#4 G#5>': 566, '<music21.chord.Chord G#4>': 567, '<music21.chord.Chord G#5>': 568, '<music21.chord.Chord G2 B2 D3 G3 B3 G4>': 569, '<music21.chord.Chord G2 B2 D3 G3 D4>': 570, '<music21.chord.Chord G2 B2 D3>': 571, '<music21.chord.Chord G2 C3 G3 C4>': 572, '<music21.chord.Chord G2 D3 G3 D4 G4>': 573, '<music21.chord.Chord G2 D3 G3>': 574, '<music21.chord.Chord G2 D3>': 575, '<music21.chord.Chord G2 G3 D3>': 576, '<music21.chord.Chord G2>': 577, '<music21.chord.Chord G3 A2>': 578, '<music21.chord.Chord G3 B2>': 579, '<music21.chord.Chord G3 B3 E3 B2>': 580, '<music21.chord.Chord G3 B3>': 581, '<music21.chord.Chord G3 C3 G2>': 582, '<music21.chord.Chord G3 C3>': 583, '<music21.chord.Chord G3 C4 E4>': 584, '<music21.chord.Chord G3 C4 F4>': 585, '<music21.chord.Chord G3 C4>': 586, '<music21.chord.Chord G3 D3 A2 E2>': 587, '<music21.chord.Chord G3 D3 A2>': 588, '<music21.chord.Chord G3 D3 E2>': 589, '<music21.chord.Chord G3 D3 G2>': 590, '<music21.chord.Chord G3 D3>': 591, '<music21.chord.Chord G3 D4 G4>': 592, '<music21.chord.Chord G3 D4>': 593, '<music21.chord.Chord G3 E3 C3>': 594, '<music21.chord.Chord G3 E3>': 595, '<music21.chord.Chord G3 E4 C4>': 596, '<music21.chord.Chord G3 F3 C3 F2>': 597, '<music21.chord.Chord G3 G3 B2>': 598, '<music21.chord.Chord G3 G3 G4>': 599, '<music21.chord.Chord G3 G4>': 600, '<music21.chord.Chord G3>': 601, '<music21.chord.Chord G4 B3 G3 D3 B2 G2>': 602, '<music21.chord.Chord G4 B3>': 603, '<music21.chord.Chord G4 B4>': 604, '<music21.chord.Chord G4 C4 G3 C3>': 605, '<music21.chord.Chord G4 C4 G3 E3 A2>': 606, '<music21.chord.Chord G4 C4>': 607, '<music21.chord.Chord G4 D4 A2>': 608, '<music21.chord.Chord G4 D4 A3 D3>': 609, '<music21.chord.Chord G4 D4 A3>': 610, '<music21.chord.Chord G4 D4 B-3 F3>': 611, '<music21.chord.Chord G4 D4 B-3>': 612, '<music21.chord.Chord G4 D4 B3 G3 D3 G2>': 613, '<music21.chord.Chord G4 D4 B3 G3>': 614, '<music21.chord.Chord G4 D4 B3>': 615, '<music21.chord.Chord G4 D4 C4 G3 C3>': 616, '<music21.chord.Chord G4 D4 C4>': 617, '<music21.chord.Chord G4 D4 D3>': 618, '<music21.chord.Chord G4 D4 F#3>': 619, '<music21.chord.Chord G4 D4 G3 A2>': 620, '<music21.chord.Chord G4 D4 G3 C3>': 621, '<music21.chord.Chord G4 D4 G3 D3 A2>': 622, '<music21.chord.Chord G4 D4 G3 D3 B2 G2>': 623, '<music21.chord.Chord G4 D4 G3 D3 G2>': 624, '<music21.chord.Chord G4 D4 G3 D3>': 625, '<music21.chord.Chord G4 D4 G3 G3 D3>': 626, '<music21.chord.Chord G4 D4 G3>': 627, '<music21.chord.Chord G4 D4>': 628, '<music21.chord.Chord G4 E-4 C4>': 629, '<music21.chord.Chord G4 E-4>': 630, '<music21.chord.Chord G4 E3>': 631, '<music21.chord.Chord G4 E4 B3 E3>': 632, '<music21.chord.Chord G4 E4 B3>': 633, '<music21.chord.Chord G4 E4 C4 G3 C3>': 634, '<music21.chord.Chord G4 E4>': 635, '<music21.chord.Chord G4 F#4>': 636, '<music21.chord.Chord G4 F4>': 637, '<music21.chord.Chord G4 G3>': 638, '<music21.chord.Chord G4 G4>': 639, '<music21.chord.Chord G4 G5 D4 D5>': 640, '<music21.chord.Chord G4 G5>': 641, '<music21.chord.Chord G4>': 642, '<music21.chord.Chord G5 C5>': 643, '<music21.chord.Chord G5 D5>': 644, '<music21.chord.Chord G5 E-5 C5>': 645, '<music21.chord.Chord G5 E5 C5>': 646, '<music21.chord.Chord G5 F5>': 647, '<music21.chord.Chord G5 G4>': 648, '<music21.chord.Chord G5 G5 G6>': 649, '<music21.chord.Chord G5 G6 D5 D6>': 650, '<music21.chord.Chord G5 G6>': 651, '<music21.chord.Chord G5>': 652, '<music21.note.Rest rest>': 653}\n",
            "654\n",
            "[[0.61009174]\n",
            " [0.61009174]\n",
            " [0.61009174]\n",
            " [0.61009174]\n",
            " [0.61009174]\n",
            " [0.61009174]\n",
            " [0.61009174]\n",
            " [0.61009174]\n",
            " [0.61009174]\n",
            " [0.98012232]]\n",
            "(215011, 10, 1)\n",
            "(215011, 86)\n"
          ],
          "name": "stdout"
        }
      ]
    },
    {
      "cell_type": "code",
      "metadata": {
        "colab": {
          "base_uri": "https://localhost:8080/"
        },
        "id": "mdtQ0Cjd8Nlf",
        "outputId": "d1df91fa-a6ac-4049-b77d-15dfc3a357e1"
      },
      "source": [
        "debugarray = []\n",
        "for i in midiparts:\n",
        "    debugarray.append(i.instrument)\n",
        "\n",
        "print(set(debugarray))"
      ],
      "execution_count": null,
      "outputs": [
        {
          "output_type": "stream",
          "text": [
            "{'Electric Organ', 'Xylophone', 'Celesta', 'Viola', 'Electric Bass', 'Sampler', 'Brass', 'Acoustic Guitar', 'Voice', 'Electric Guitar', 'Acoustic Bass', 'Vibraphone', 'Accordion', 'Piano', 'StringInstrument', 'Violoncello'}\n"
          ],
          "name": "stdout"
        }
      ]
    }
  ]
}