{
  "nbformat": 4,
  "nbformat_minor": 0,
  "metadata": {
    "accelerator": "GPU",
    "colab": {
      "name": "MIDIBaseLine.ipynb",
      "provenance": []
    },
    "kernelspec": {
      "display_name": "Python 3",
      "name": "python3"
    }
  },
  "cells": [
    {
      "cell_type": "markdown",
      "metadata": {
        "id": "-YJCHgcz7cxh"
      },
      "source": [
        "# IMPORT SECTION"
      ]
    },
    {
      "cell_type": "code",
      "metadata": {
        "id": "PLllP-Xw0KWv",
        "colab": {
          "base_uri": "https://localhost:8080/"
        },
        "outputId": "e05c5bb9-e55e-4d41-8e72-f1121a070ff7"
      },
      "source": [
        "!pip install --upgrade music21\r\n",
        "from music21 import converter, instrument, note, chord\r\n",
        "import os\r\n",
        "from tqdm import tqdm\r\n",
        "import numpy as np\r\n",
        "from keras.utils import to_categorical\r\n",
        "from keras.models import Sequential\r\n",
        "from keras.layers import LSTM, Dense, Flatten, Dropout\r\n",
        "%load_ext tensorboard \r\n",
        "from tensorboard import notebook\r\n",
        "from keras.callbacks import TensorBoard\r\n",
        "from keras.callbacks import ReduceLROnPlateau\r\n",
        "from keras.callbacks import EarlyStopping"
      ],
      "execution_count": null,
      "outputs": [
        {
          "output_type": "stream",
          "text": [
            "Collecting music21\n",
            "\u001b[?25l  Downloading https://files.pythonhosted.org/packages/43/f3/da0ab10ffb5e58e2690b8dff310bb53f35af213a8853ec72c08df41ea080/music21-6.7.1.tar.gz (19.2MB)\n",
            "\u001b[K     |████████████████████████████████| 19.3MB 165kB/s \n",
            "\u001b[?25hRequirement already satisfied, skipping upgrade: chardet in /usr/local/lib/python3.7/dist-packages (from music21) (3.0.4)\n",
            "Requirement already satisfied, skipping upgrade: joblib in /usr/local/lib/python3.7/dist-packages (from music21) (1.0.1)\n",
            "Requirement already satisfied, skipping upgrade: more-itertools in /usr/local/lib/python3.7/dist-packages (from music21) (8.7.0)\n",
            "Collecting webcolors\n",
            "  Downloading https://files.pythonhosted.org/packages/12/05/3350559de9714b202e443a9e6312937341bd5f79f4e4f625744295e7dd17/webcolors-1.11.1-py3-none-any.whl\n",
            "Building wheels for collected packages: music21\n",
            "  Building wheel for music21 (setup.py) ... \u001b[?25l\u001b[?25hdone\n",
            "  Created wheel for music21: filename=music21-6.7.1-cp37-none-any.whl size=21941694 sha256=1229d38055d08c84399d18697e0d84fd0c546248913c443a33ac0b89c7f1f255\n",
            "  Stored in directory: /root/.cache/pip/wheels/1a/0f/0e/f78ad56a2738f4ea5082dd4283d7b7cce18a8ba20c3e609b6c\n",
            "Successfully built music21\n",
            "Installing collected packages: webcolors, music21\n",
            "  Found existing installation: music21 5.5.0\n",
            "    Uninstalling music21-5.5.0:\n",
            "      Successfully uninstalled music21-5.5.0\n",
            "Successfully installed music21-6.7.1 webcolors-1.11.1\n"
          ],
          "name": "stdout"
        }
      ]
    },
    {
      "cell_type": "code",
      "metadata": {
        "id": "84R9ah2P0Uqc",
        "colab": {
          "base_uri": "https://localhost:8080/"
        },
        "outputId": "50100226-ec97-4802-a42c-325115274d38"
      },
      "source": [
        "from google.colab import drive\r\n",
        "\r\n",
        "drive.mount('/content/drive', force_remount=False)\r\n",
        "\r\n",
        "MIDI_PATH=\"/content/drive/My Drive/MLFolder/Onlab/MIDI_Iron_Maiden/\""
      ],
      "execution_count": null,
      "outputs": [
        {
          "output_type": "stream",
          "text": [
            "Mounted at /content/drive\n"
          ],
          "name": "stdout"
        }
      ]
    },
    {
      "cell_type": "code",
      "metadata": {
        "id": "FkVn4mWO7rde",
        "colab": {
          "base_uri": "https://localhost:8080/"
        },
        "outputId": "46f8d22e-b5f5-487f-e408-7abfe51dffc6"
      },
      "source": [
        "!nvidia-smi"
      ],
      "execution_count": null,
      "outputs": [
        {
          "output_type": "stream",
          "text": [
            "Sat Feb 27 19:14:30 2021       \n",
            "+-----------------------------------------------------------------------------+\n",
            "| NVIDIA-SMI 460.39       Driver Version: 460.32.03    CUDA Version: 11.2     |\n",
            "|-------------------------------+----------------------+----------------------+\n",
            "| GPU  Name        Persistence-M| Bus-Id        Disp.A | Volatile Uncorr. ECC |\n",
            "| Fan  Temp  Perf  Pwr:Usage/Cap|         Memory-Usage | GPU-Util  Compute M. |\n",
            "|                               |                      |               MIG M. |\n",
            "|===============================+======================+======================|\n",
            "|   0  Tesla T4            Off  | 00000000:00:04.0 Off |                    0 |\n",
            "| N/A   49C    P8    10W /  70W |      0MiB / 15109MiB |      0%      Default |\n",
            "|                               |                      |                  N/A |\n",
            "+-------------------------------+----------------------+----------------------+\n",
            "                                                                               \n",
            "+-----------------------------------------------------------------------------+\n",
            "| Processes:                                                                  |\n",
            "|  GPU   GI   CI        PID   Type   Process name                  GPU Memory |\n",
            "|        ID   ID                                                   Usage      |\n",
            "|=============================================================================|\n",
            "|  No running processes found                                                 |\n",
            "+-----------------------------------------------------------------------------+\n"
          ],
          "name": "stdout"
        }
      ]
    },
    {
      "cell_type": "markdown",
      "metadata": {
        "id": "CM8sPao2nNIk"
      },
      "source": [
        "# UTILITY FUNCTIONS SECTION"
      ]
    },
    {
      "cell_type": "code",
      "metadata": {
        "id": "8diYXI5InMZZ"
      },
      "source": [
        "#https://www.geeksforgeeks.org/python-find-most-frequent-element-in-a-list/\r\n",
        "\r\n",
        "def most_frequent(paramlist): \r\n",
        "    counter = 0\r\n",
        "    num = paramlist[0] \r\n",
        "      \r\n",
        "    for i in paramlist: \r\n",
        "        curr_frequency = paramlist.count(i) \r\n",
        "        if(curr_frequency> counter): \r\n",
        "            counter = curr_frequency \r\n",
        "            num = i \r\n",
        "  \r\n",
        "    return num \r\n",
        "\r\n",
        "#Utility functions\r\n",
        "\r\n",
        "def get_notes_from_chord(chord):\r\n",
        "    if chord.startswith(\"<music21.chord.Chord \"):\r\n",
        "        chord = chord[len(\"<music21.chord.Chord \"):]\r\n",
        "    if chord.endswith(\">\"):\r\n",
        "        chord = chord[:-1]\r\n",
        "    chord = chord.replace(\" \", \",\")\r\n",
        "    return chord\r\n",
        "\r\n",
        "def get_number_from_duration(duration):\r\n",
        "    if duration.startswith(\"<music21.duration.Duration \"):\r\n",
        "        duration = duration[len(\"<music21.duration.Duration \"):]\r\n",
        "    if duration.endswith(\">\"):\r\n",
        "        duration = duration[:-1]\r\n",
        "    duration = duration.replace(\" \", \",\")\r\n",
        "    return duration\r\n",
        "\r\n",
        "def create_mapper(chords):\r\n",
        "    pitchnames = sorted(set(str(item) for item in chords))\r\n",
        "    mapper = dict((note, number) for number, note in enumerate(pitchnames))\r\n",
        "\r\n",
        "    return mapper\r\n",
        "\r\n",
        "def encode_using_mapper(chords, mapper):\r\n",
        "    encodedsong=[]\r\n",
        "    for c in chords:\r\n",
        "        encodedsong.append(mapper[str(c)])\r\n",
        "\r\n",
        "    return encodedsong\r\n",
        "\r\n",
        "\r\n",
        "def decode_chords_using_mapper(numbers, mapper):\r\n",
        "    outputnotes = []\r\n",
        "    for number in numbers:\r\n",
        "        outputnotes.append(chord_from_string(get_notes_from_chord(get_key_from_value(number, mapper))))\r\n",
        "\r\n",
        "    return outputnotes\r\n",
        "\r\n",
        "def combine_chords_with_durations(chords, durations):\r\n",
        "    combined = []\r\n",
        "\r\n",
        "    for i, j in zip(chords, durations):\r\n",
        "        i = get_notes_from_chord(str(i))\r\n",
        "        j = get_number_from_duration(str(j))\r\n",
        "        combined.append(i + ';' + j)\r\n",
        "\r\n",
        "    return combined\r\n",
        "\r\n",
        "def make_slices(data, slice_length):\r\n",
        "    for song in tqdm(data):\r\n",
        "        if len(song) > slice_length:\r\n",
        "\r\n",
        "            input = []\r\n",
        "            output = []\r\n",
        "            slice = []\r\n",
        "\r\n",
        "            for idx, number in enumerate(song):\r\n",
        "                if idx < slice_length:\r\n",
        "                    slice.append(number)\r\n",
        "\r\n",
        "            input.append(slice.copy())\r\n",
        "            output.append(song[slice_length])\r\n",
        "\r\n",
        "            # Sliding window\r\n",
        "            for idx, number in enumerate(song):\r\n",
        "                if idx >= slice_length and (idx + 1) < len(song):\r\n",
        "                    slice.pop(0)\r\n",
        "                    slice.append(number)\r\n",
        "                    input.append(slice.copy())  # Copy is necessary, because of how pointers and lists work in Python\r\n",
        "                    output.append(song[idx + 1])\r\n",
        "\r\n",
        "    return input, output\r\n",
        "\r\n",
        "def parse_everything_together(data, slice_length):\r\n",
        "\r\n",
        "    notes=[]\r\n",
        "    input=[]\r\n",
        "    output=[]\r\n",
        "    slice = []\r\n",
        "\r\n",
        "    for song in tqdm(data):\r\n",
        "        for number in song:\r\n",
        "            notes.append(number)\r\n",
        "    \r\n",
        "    for idx, note in tqdm(enumerate(notes)):\r\n",
        "        if idx < slice_length:\r\n",
        "            slice.append(number)\r\n",
        "\r\n",
        "    input.append(slice.copy())\r\n",
        "    output.append(notes[slice_length])\r\n",
        "\r\n",
        "    # Sliding window\r\n",
        "    for idx, number in tqdm(enumerate(notes)):\r\n",
        "        if idx >= slice_length and (idx + 1) < len(notes):\r\n",
        "            slice.pop(0)\r\n",
        "            slice.append(number)\r\n",
        "            input.append(slice.copy())  # Copy is necessary, because of how pointers and lists work in Python\r\n",
        "            output.append(notes[idx + 1])\r\n",
        "        \r\n",
        "    return input, output\r\n",
        "\r\n",
        "def get_key_from_value(value, dict):\r\n",
        "    return list(dict.keys())[list(dict.values()).index(value)]\r\n",
        "\r\n",
        "def get_notes_from_chord(chord):\r\n",
        "    if chord.startswith(\"<music21.chord.Chord \"):\r\n",
        "        chord = chord[len(\"<music21.chord.Chord \"):]\r\n",
        "    if chord.endswith(\">\"):\r\n",
        "        chord = chord[:-1]\r\n",
        "    chord = chord.replace(\" \", \",\")\r\n",
        "    return chord\r\n",
        "\r\n",
        "def get_number_from_duration(duration):\r\n",
        "    if duration.startswith(\"<music21.duration.Duration \"):\r\n",
        "        duration = duration[len(\"<music21.duration.Duration \"):]\r\n",
        "    if duration.endswith(\">\"):\r\n",
        "        duration = duration[:-1]\r\n",
        "    duration = duration.replace(\" \", \",\")\r\n",
        "    return duration\r\n",
        "\r\n",
        "def chord_from_string(chordstring):\r\n",
        "    notes = chordstring.split(\";\")\r\n",
        "    return chord.Chord(notes)\r\n",
        "\r\n",
        "#From: https://stackoverflow.com/questions/1806278/convert-fraction-to-float\r\n",
        "def convert_to_float(frac_str):\r\n",
        "    try:\r\n",
        "        return float(frac_str)\r\n",
        "    except ValueError:\r\n",
        "        num, denom = frac_str.split('/')\r\n",
        "        try:\r\n",
        "            leading, num = num.split(' ')\r\n",
        "            whole = float(leading)\r\n",
        "        except ValueError:\r\n",
        "            whole = 0\r\n",
        "        frac = float(num) / float(denom)\r\n",
        "        return whole - frac if whole < 0 else whole + frac\r\n",
        "\r\n",
        "#Source: https://github.com/alexissa32/DataScienceMusic\r\n",
        "def create_midi_without_chords(prediction_output, target_instrument = instrument.Piano(), filename = 'test_output.mid'):\r\n",
        "    '''\r\n",
        "    First step:\r\n",
        "    Only notes, no chords\r\n",
        "    Static 4/4 beat\r\n",
        "    Rests\r\n",
        "    '''\r\n",
        "    offset = 0\r\n",
        "    output_notes = []\r\n",
        "\r\n",
        "    # create note and chord objects based on the values generated by the model\r\n",
        "    for pattern in prediction_output:\r\n",
        "        # pattern is a rest\r\n",
        "        if('rest' in pattern):\r\n",
        "            new_rest = note.Rest(pattern)\r\n",
        "            new_rest.offset = offset\r\n",
        "            new_rest.storedInstrument = target_instrument #???\r\n",
        "            output_notes.append(new_rest)\r\n",
        "        # pattern is a note\r\n",
        "        else:\r\n",
        "            new_note = note.Note(pattern)\r\n",
        "            new_note.offset = offset\r\n",
        "            new_note.storedInstrument = target_instrument\r\n",
        "            output_notes.append(new_note)\r\n",
        "        # increase offset each iteration so that notes do not stack\r\n",
        "        offset += 0.5\r\n",
        "\r\n",
        "    midi_stream = stream.Stream(output_notes)\r\n",
        "\r\n",
        "    midi_stream.write('midi', fp=filename)\r\n",
        "\r\n",
        "def create_midi_without_durations(prediction_output, target_instrument = instrument.Piano(), filename = 'test_output.mid'):\r\n",
        "    '''\r\n",
        "    Second step:\r\n",
        "    Chords and notes\r\n",
        "    Static 4/4 beat\r\n",
        "    Rests\r\n",
        "    '''\r\n",
        "    offset = 0\r\n",
        "    output_notes = []\r\n",
        "\r\n",
        "    # create note and chord objects based on the values generated by the model\r\n",
        "    for pattern in prediction_output:\r\n",
        "        # pattern is a chord\r\n",
        "        if ('chord' in pattern):\r\n",
        "            notes = []\r\n",
        "            pattern = get_notes_from_chord(pattern)\r\n",
        "            patternpitches = pattern.split(',')\r\n",
        "            for current_note in patternpitches:\r\n",
        "                new_note = note.Note(current_note)\r\n",
        "                new_note.storedInstrument = target_instrument\r\n",
        "                notes.append(new_note)\r\n",
        "            new_chord = chord.Chord(notes)\r\n",
        "            new_chord.offset = offset\r\n",
        "            output_notes.append(new_chord)\r\n",
        "        # pattern is a rest\r\n",
        "        elif('rest' in pattern):\r\n",
        "            new_rest = note.Rest(pattern)\r\n",
        "            new_rest.offset = offset\r\n",
        "            new_rest.storedInstrument = target_instrument #???\r\n",
        "            output_notes.append(new_rest)\r\n",
        "        # pattern is a note\r\n",
        "        else:\r\n",
        "            new_note = note.Note(pattern)\r\n",
        "            new_note.offset = offset\r\n",
        "            new_note.storedInstrument = target_instrument\r\n",
        "            output_notes.append(new_note)\r\n",
        "        # increase offset each iteration so that notes do not stack\r\n",
        "        offset += 0.5\r\n",
        "\r\n",
        "    midi_stream = stream.Stream(output_notes)\r\n",
        "\r\n",
        "    midi_stream.write('midi', fp=filename)\r\n",
        "\r\n",
        "def create_midi_with_durations(prediction_output, output_durations, target_instrument = instrument.Piano(), filename = 'test_output.mid'):\r\n",
        "    offset = 0\r\n",
        "    output_notes = []\r\n",
        "\r\n",
        "    # create note and chord objects based on the values generated by the model\r\n",
        "    for i in range(len(prediction_output)):\r\n",
        "        pattern = prediction_output[i]\r\n",
        "        duration = get_number_from_duration(output_durations[i])\r\n",
        "        # pattern is a chord\r\n",
        "        if ('chord' in pattern):\r\n",
        "            notes = []\r\n",
        "            pattern = get_notes_from_chord(pattern)\r\n",
        "            patternpitches = pattern.split(',')\r\n",
        "            for current_note in patternpitches:\r\n",
        "                new_note = note.Note(current_note)\r\n",
        "                new_note.storedInstrument = target_instrument\r\n",
        "                notes.append(new_note)\r\n",
        "            new_chord = chord.Chord(notes)\r\n",
        "            new_chord.offset = offset\r\n",
        "            output_notes.append(new_chord)\r\n",
        "        # pattern is a rest\r\n",
        "        elif('rest' in pattern):\r\n",
        "            new_rest = note.Rest(pattern)\r\n",
        "            new_rest.offset = offset\r\n",
        "            new_rest.storedInstrument = target_instrument #???\r\n",
        "            output_notes.append(new_rest)\r\n",
        "        # pattern is a note\r\n",
        "        else:\r\n",
        "            new_note = note.Note(pattern)\r\n",
        "            new_note.offset = offset\r\n",
        "            new_note.storedInstrument = target_instrument\r\n",
        "            output_notes.append(new_note)\r\n",
        "        # increase offset each iteration so that notes do not stack\r\n",
        "        offset += convert_to_float(duration)\r\n",
        "\r\n",
        "    midi_stream = stream.Stream(output_notes)\r\n",
        "\r\n",
        "    midi_stream.write('midi', fp=filename)"
      ],
      "execution_count": null,
      "outputs": []
    },
    {
      "cell_type": "markdown",
      "metadata": {
        "id": "JZmPvxwV7mW6"
      },
      "source": [
        "# PREPROCESSING SECTION"
      ]
    },
    {
      "cell_type": "code",
      "metadata": {
        "id": "zxQJTnIDF76s"
      },
      "source": [
        "class MidiPart:\r\n",
        "    def __init__(self, song, instrument, chords, durations):\r\n",
        "        self.song = song\r\n",
        "        self.instrument = instrument\r\n",
        "        self.chords = chords\r\n",
        "        self.durations = durations\r\n",
        "\r\n",
        "\r\n",
        "path = MIDI_PATH\r\n",
        "\r\n",
        "IRON_MAIDEN_INSTRUMENTS = ['Acoustic Guitar', 'Viola', 'Electric Bass', 'Brass', 'Sampler', 'Electric Guitar', 'Piano', 'StringInstrument']\r\n",
        "\r\n",
        "TARGET_INSTRUMENT = 'Electric Bass'\r\n",
        "\r\n",
        "SLICE_LEN = 10\r\n",
        "\r\n",
        "\r\n"
      ],
      "execution_count": null,
      "outputs": []
    },
    {
      "cell_type": "code",
      "metadata": {
        "colab": {
          "base_uri": "https://localhost:8080/"
        },
        "id": "gKRjNr5kGLZs",
        "outputId": "edc5d247-b30c-4d3f-a1ad-70acbe8ee5e6"
      },
      "source": [
        "midiparts = []\r\n",
        "\r\n",
        "for file in tqdm(os.listdir(path)):\r\n",
        "    midi = converter.parse(os.path.join(path, file))\r\n",
        "\r\n",
        "    for part in midi.parts:\r\n",
        "        chords=[]\r\n",
        "        durations=[]\r\n",
        "        for element in part.notesAndRests:\r\n",
        "            if isinstance(element, note.Note):\r\n",
        "                chords.append(chord.Chord([element]))\r\n",
        "                durations.append(element.duration)\r\n",
        "            elif isinstance(element, chord.Chord):\r\n",
        "                chords.append(element)\r\n",
        "                durations.append(element.duration)\r\n",
        "            elif isinstance(element, note.Rest):\r\n",
        "                chords.append(element)\r\n",
        "                durations.append(element.duration)\r\n",
        "\r\n",
        "        if len(chords) > 0:\r\n",
        "            midiparts.append(MidiPart(file, part.partName, chords, durations))\r\n",
        "        else:\r\n",
        "            for voice in part.voices:\r\n",
        "                chords=[]\r\n",
        "                durations=[]\r\n",
        "                for element in voice.notesAndRests:\r\n",
        "                    if isinstance(element, note.Note):\r\n",
        "                        chords.append(chord.Chord([element]))\r\n",
        "                        durations.append(element.duration)\r\n",
        "                    elif isinstance(element, chord.Chord):\r\n",
        "                        chords.append(element)\r\n",
        "                        durations.append(element.duration)\r\n",
        "                    elif isinstance(element, note.Rest):\r\n",
        "                        chords.append(element)\r\n",
        "                        durations.append(element.duration)\r\n",
        "\r\n",
        "                midiparts.append(MidiPart(file, part.partName, chords, durations))"
      ],
      "execution_count": null,
      "outputs": [
        {
          "output_type": "stream",
          "text": [
            "100%|██████████| 93/93 [13:23<00:00,  8.63s/it]\n"
          ],
          "name": "stderr"
        }
      ]
    },
    {
      "cell_type": "code",
      "metadata": {
        "id": "fjJbHsFa7aLM"
      },
      "source": [
        "#Akkordok nélkül, restekkel\r\n",
        "midiparts = []\r\n",
        "\r\n",
        "for file in tqdm(os.listdir(path)):\r\n",
        "    midi = converter.parse(os.path.join(path, file))\r\n",
        "\r\n",
        "    for part in midi.parts:\r\n",
        "        notes=[]\r\n",
        "        durations=[]\r\n",
        "        for element in part.notesAndRests:\r\n",
        "            if isinstance(element, note.Note):\r\n",
        "                notes.append(element.pitch)\r\n",
        "                durations.append(element.duration)\r\n",
        "            elif isinstance(element, chord.Chord):\r\n",
        "                notes.append(element.root())\r\n",
        "                durations.append(element.duration)\r\n",
        "            elif isinstance(element, note.Rest):\r\n",
        "                notes.append(element)\r\n",
        "                durations.append(element.duration)\r\n",
        "\r\n",
        "        if len(notes) > 0:\r\n",
        "            midiparts.append(MidiPart(file, part.partName, notes, durations))\r\n",
        "        else:\r\n",
        "            for voice in part.voices:\r\n",
        "                notes=[]\r\n",
        "                durations=[]\r\n",
        "                for element in voice.notesAndRests:\r\n",
        "                    if isinstance(element, note.Note):\r\n",
        "                        notes.append(element.pitch)\r\n",
        "                        durations.append(element.duration)\r\n",
        "                    elif isinstance(element, chord.Chord):\r\n",
        "                        notes.append(element.root())\r\n",
        "                        durations.append(element.duration)\r\n",
        "                    elif isinstance(element, note.Rest):\r\n",
        "                        notes.append(element)\r\n",
        "                        durations.append(element.duration)\r\n",
        "\r\n",
        "                midiparts.append(MidiPart(file, part.partName, notes, durations))"
      ],
      "execution_count": null,
      "outputs": []
    },
    {
      "cell_type": "code",
      "metadata": {
        "id": "g9agTDUVQvut"
      },
      "source": [
        "#Restek nélkül, akkordok nélkül\r\n",
        "midiparts = []\r\n",
        "\r\n",
        "for file in tqdm(os.listdir(path), position=0, leave=True):\r\n",
        "    midi = converter.parse(os.path.join(path, file))\r\n",
        "\r\n",
        "    for part in midi.parts:\r\n",
        "        for voice in part.voices:\r\n",
        "            notes=[]\r\n",
        "            durations=[]\r\n",
        "            for element in voice.notes: \r\n",
        "                if isinstance(element, note.Note):\r\n",
        "                    notes.append(element.pitch)\r\n",
        "                    durations.append(element.duration)\r\n",
        "                elif isinstance(element, chord.Chord):\r\n",
        "                    notes.append(element.root())\r\n",
        "                    durations.append(element.duration)\r\n",
        "                elif isinstance(element, note.Rest):\r\n",
        "                    notes.append(element)\r\n",
        "                    durations.append(element.duration)\r\n",
        "\r\n",
        "            midiparts.append(MidiPart(file, part.partName, notes, durations))"
      ],
      "execution_count": null,
      "outputs": []
    },
    {
      "cell_type": "code",
      "metadata": {
        "id": "TCIW-4f0HDiv"
      },
      "source": [
        "allchords = []\r\n",
        "alldurations = []\r\n",
        "\r\n",
        "TARGET_INSTRUMENT = 'Electric Guitar'\r\n",
        "for i in midiparts:\r\n",
        "    if i.instrument == TARGET_INSTRUMENT:\r\n",
        "        if len(i.chords)>0 :\r\n",
        "            allchords.append(i.chords)\r\n",
        "            alldurations.append(i.durations)"
      ],
      "execution_count": null,
      "outputs": []
    },
    {
      "cell_type": "code",
      "metadata": {
        "id": "CSSAGDrKIUqE"
      },
      "source": [
        "#I create the Note/Chord/Rest to Number mapper here.\r\n",
        "\r\n",
        "mapperdata = []\r\n",
        "\r\n",
        "for i in allchords:\r\n",
        "    for j in i:\r\n",
        "        mapperdata.append(j)\r\n",
        "\r\n",
        "mapper = create_mapper(mapperdata)"
      ],
      "execution_count": null,
      "outputs": []
    },
    {
      "cell_type": "code",
      "metadata": {
        "id": "LwYE652rI9En"
      },
      "source": [
        "#I encode the data here using the mapper.\r\n",
        "\r\n",
        "encoded_data = []\r\n",
        "\r\n",
        "for c in allchords:\r\n",
        "    encoded = encode_using_mapper(c, mapper)\r\n",
        "    encoded_data.append(encoded)"
      ],
      "execution_count": null,
      "outputs": []
    },
    {
      "cell_type": "code",
      "metadata": {
        "id": "zZ2qvayyNty5"
      },
      "source": [
        "#I filter out those chord sequences, which are majorly rests. I do this because I don't want the network to make a song, which contains nothing, but rests. Our dataset has about 100 guitar tracks, which contain rests for the majority of the track, and a guitar solo near the end.\r\n",
        "#An upgrade for this could be that I don't just delete those tracks from the dataset, but only filter out the rests, and leave the guitar solo in.\r\n",
        "\r\n",
        "restnumber = mapper['<music21.note.Rest rest>']\r\n",
        "\r\n",
        "cleared_encoded_data=[]\r\n",
        "\r\n",
        "for i in encoded_data:\r\n",
        "    if most_frequent(i) != restnumber:\r\n",
        "        cleared_encoded_data.append(i)\r\n",
        "    else:\r\n",
        "        pass\r\n",
        "\r\n"
      ],
      "execution_count": null,
      "outputs": []
    },
    {
      "cell_type": "code",
      "metadata": {
        "colab": {
          "base_uri": "https://localhost:8080/"
        },
        "id": "cIycPa9oNYDe",
        "outputId": "8df9dda5-ff21-4891-c833-8e901549f9c3"
      },
      "source": [
        "#Creating the input data\r\n",
        "\r\n",
        "input, output = parse_everything_together(cleared_encoded_data, SLICE_LEN)"
      ],
      "execution_count": null,
      "outputs": [
        {
          "output_type": "stream",
          "text": [
            "100%|██████████| 348/348 [00:00<00:00, 18948.45it/s]\n",
            "225249it [00:00, 3086663.19it/s]\n",
            "225249it [00:00, 798728.80it/s]\n"
          ],
          "name": "stderr"
        }
      ]
    },
    {
      "cell_type": "code",
      "metadata": {
        "colab": {
          "base_uri": "https://localhost:8080/",
          "height": 567
        },
        "id": "Kn6rNcUb9uGo",
        "outputId": "f5f1e1ae-aa36-43d9-b73e-68c09ca9370f"
      },
      "source": [
        "import matplotlib.pyplot as plt\r\n",
        "from collections import Counter\r\n",
        "\r\n",
        "outputcnt = Counter(output)\r\n",
        "plt.bar(outputcnt.keys(), outputcnt.values())\r\n",
        "plt.show()\r\n",
        "\r\n",
        "function_like_array=[]\r\n",
        "for val in outputcnt.values():\r\n",
        "    function_like_array.append(val)\r\n",
        "\r\n",
        "function_like_array.sort()\r\n",
        "plt.plot(function_like_array)\r\n",
        "\r\n",
        "\r\n",
        "\r\n",
        "outliers = []\r\n",
        "\r\n",
        "for i in outputcnt.keys():\r\n",
        "    if outputcnt[i] < 160:\r\n",
        "        outliers.append(i)\r\n",
        "\r\n",
        "print(outliers)\r\n",
        "print(len(outliers))\r\n"
      ],
      "execution_count": null,
      "outputs": [
        {
          "output_type": "display_data",
          "data": {
            "image/png": "[encoded data removed]",
            "text/plain": [
              "<Figure size 432x288 with 1 Axes>"
            ]
          },
          "metadata": {
            "tags": [],
            "image/png": {
              "width": 388,
              "height": 248
            },
            "needs_background": "light"
          }
        },
        {
          "output_type": "stream",
          "text": [
            "[641, 373, 136, 342, 537, 636, 70, 398, 249, 450, 156, 633, 483, 290, 58, 370, 256, 9, 205, 258, 219, 153, 241, 539, 57, 73, 103, 548, 598, 23, 41, 186, 300, 28, 338, 600, 87, 347, 513, 335, 207, 14, 260, 121, 465, 163, 453, 456, 637, 324, 47, 259, 196, 570, 609, 482, 571, 234, 623, 557, 316, 592, 93, 478, 327, 240, 528, 49, 568, 53, 607, 475, 479, 625, 6, 185, 638, 251, 197, 271, 353, 426, 12, 350, 584, 586, 34, 226, 581, 298, 439, 490, 150, 239, 46, 369, 438, 632, 614, 59, 634, 320, 535, 516, 305, 214, 289, 303, 355, 400, 402, 487, 301, 354, 118, 470, 363, 485, 423, 175, 270, 279, 435, 443, 445, 378, 562, 630, 536, 184, 362, 366, 262, 210, 7, 561, 629, 343, 269, 252, 15, 217, 275, 514, 515, 134, 36, 133, 414, 285, 596, 225, 371, 31, 616, 412, 502, 380, 266, 193, 192, 203, 20, 635, 10, 310, 352, 580, 504, 32, 204, 60, 574, 611, 411, 503, 137, 519, 304, 486, 576, 572, 0, 104, 11, 377, 231, 357, 348, 3, 505, 506, 19, 48, 413, 5, 511, 602, 351, 8, 447, 444, 458, 525, 589, 142, 268, 247, 541, 200, 26, 88, 582, 509, 463, 334, 177, 587, 408, 381, 417, 340, 188, 345, 375, 261, 264, 618, 99, 246, 287, 422, 110, 109, 174, 67, 522, 530, 278, 286, 421, 18, 116, 27, 529, 308, 218, 538, 306, 221, 83, 86, 644, 75, 35, 531, 527, 585, 230, 54, 331, 328, 544, 242, 455, 244, 542, 643, 469, 144, 615, 71, 588, 191, 265, 647, 649, 79, 312, 295, 385, 433, 288, 491, 566, 253, 223, 579, 493, 149, 101, 333, 617, 484, 100, 51, 159, 82, 313, 594, 394, 425, 155, 283, 494, 575, 565, 25, 374, 165, 66, 452, 68, 72, 532, 612, 533, 227, 222, 215, 216, 81, 202, 427, 459, 640, 498, 499, 497, 152, 293, 650, 245, 420, 1, 359, 171, 309, 138, 44, 595, 139, 263, 141, 179, 123, 554, 119, 549, 341, 55, 180, 555, 454, 161, 323, 496, 624, 158, 384, 280, 524, 358, 367, 91, 558, 97, 157, 113, 61, 213, 209, 297, 551, 508, 78, 646, 346, 321, 645, 543, 277, 291, 212, 488, 294, 480, 401, 281, 390, 140, 406, 460, 76, 606, 605, 424, 131, 397, 130, 237, 534, 431, 96, 325, 560, 648, 114, 468, 639, 151, 457, 462, 168, 77, 146, 396, 407, 405, 442, 489, 229, 224, 388, 201, 195, 553, 545, 238, 233, 552, 85, 626, 307, 178, 393, 391, 563, 409, 410, 418, 299, 42, 111, 430, 154, 243, 330, 160, 52, 474, 220, 578, 495, 167, 395, 573, 621, 429, 416, 302, 62, 29, 349, 437, 145, 520, 521, 292, 38, 556, 608, 39, 120, 523, 620, 329, 322, 651, 500, 189, 599]\n",
            "482\n"
          ],
          "name": "stdout"
        },
        {
          "output_type": "display_data",
          "data": {
            "image/png": "[encoded data removed]",
            "text/plain": [
              "<Figure size 432x288 with 1 Axes>"
            ]
          },
          "metadata": {
            "tags": [],
            "image/png": {
              "width": 388,
              "height": 248
            },
            "needs_background": "light"
          }
        }
      ]
    },
    {
      "cell_type": "code",
      "metadata": {
        "id": "xkujCJyFBAQw"
      },
      "source": [
        "#Because I don't want to mess up my inputs and outputs, I test their lengths before and after the outlier filtering.\r\n",
        "assert(len(input) == len(output))\r\n",
        "\r\n",
        "newinput=[]\r\n",
        "newoutput=[]\r\n",
        "\r\n",
        "for i in range(len(output)):\r\n",
        "    if(output[i] not in outliers):\r\n",
        "        newinput.append(input[i])\r\n",
        "        newoutput.append(output[i])\r\n",
        "\r\n",
        "input = newinput\r\n",
        "output = newoutput\r\n",
        "\r\n",
        "assert(len(input) == len(output))"
      ],
      "execution_count": null,
      "outputs": []
    },
    {
      "cell_type": "code",
      "metadata": {
        "id": "nx64ocEIIVzY"
      },
      "source": [
        "#However, this outlier filtering made things complicated. Now I have to make a new mapper, so that i won't end up with output classes containing 0 elements.\r\n",
        "\r\n",
        "mapper_list = [] #Idx of the mapper list is the new value, the element is the old value.\r\n",
        "new_output_elements = set(output)\r\n",
        "\r\n",
        "for i in new_output_elements:\r\n",
        "    mapper_list.append(i)\r\n",
        "\r\n",
        "newoutput = []\r\n",
        "\r\n",
        "for i in output:\r\n",
        "    newoutput.append(mapper_list.index(i))\r\n",
        "\r\n",
        "output = newoutput"
      ],
      "execution_count": null,
      "outputs": []
    },
    {
      "cell_type": "code",
      "metadata": {
        "id": "JastNnOpLOxB"
      },
      "source": [
        "#Reshaping the input data to be compatible with LSTMs and normalizing it in the hope of better learning.\r\n",
        "\r\n",
        "input = np.reshape(np.asarray(input), (len(input), SLICE_LEN, 1))\r\n",
        "output = to_categorical(output)\r\n",
        "\r\n",
        "input=np.asarray(input) / float(len(mapper))\r\n",
        "output=np.asarray(output)"
      ],
      "execution_count": null,
      "outputs": []
    },
    {
      "cell_type": "markdown",
      "metadata": {
        "id": "sGhhDcBu7w49"
      },
      "source": [
        "# MODEL TRAINING SECTION"
      ]
    },
    {
      "cell_type": "code",
      "metadata": {
        "id": "9RGwd0Y58k3R"
      },
      "source": [
        "MODEL_NAME = \"guitarmodel14\"\r\n",
        "\r\n",
        "MODEL_SAVE_PATH = \"/content/drive/MyDrive/MLFolder/Onlab/modelsaves\"\r\n",
        "\r\n",
        "TBPATH = \"/content/tblogs/\"+MODEL_NAME"
      ],
      "execution_count": null,
      "outputs": []
    },
    {
      "cell_type": "code",
      "metadata": {
        "id": "eLW2ZTUFpWrc"
      },
      "source": [
        "#Before creating the neural network, I define some important callbacks\r\n",
        "\r\n",
        "tb = TensorBoard(log_dir = TBPATH, write_images=True, histogram_freq=1)\r\n",
        "\r\n",
        "plateau = ReduceLROnPlateau(monitor='val_loss', factor=0.2, patience=3, min_lr=0.00005, verbose=1)\r\n",
        "\r\n",
        "es = EarlyStopping(monitor='val_loss', patience = 10, restore_best_weights = True, verbose=1)\r\n",
        "\r\n",
        "callbacks = [plateau, es, tb]\r\n",
        "\r\n"
      ],
      "execution_count": null,
      "outputs": []
    },
    {
      "cell_type": "code",
      "metadata": {
        "id": "T7Ic7fmOtiSi"
      },
      "source": [
        "from keras.regularizers import l1_l2\r\n",
        "from keras.layers import Dropout"
      ],
      "execution_count": null,
      "outputs": []
    },
    {
      "cell_type": "code",
      "metadata": {
        "colab": {
          "base_uri": "https://localhost:8080/"
        },
        "id": "zqfKjzEX2OSL",
        "outputId": "b5184418-53b2-4cd4-fa90-c9a2e7ce68a4"
      },
      "source": [
        "#I create the neural network model here.\r\n",
        "\r\n",
        "model = Sequential()\r\n",
        "model.add(LSTM(32, input_shape=(input.shape[1], input.shape[2])))\r\n",
        "model.add(Dense(output.shape[1], activation='softmax'))\r\n",
        "\r\n",
        "\r\n",
        "model.compile(optimizer='Adam', loss='categorical_crossentropy', metrics=['accuracy'])\r\n",
        "\r\n",
        "model.fit(input, output, epochs=10000, batch_size=16, validation_split=0.2, callbacks=callbacks)\r\n",
        "\r\n",
        "model.save(MODEL_SAVE_PATH + MODEL_NAME + \".h5\")"
      ],
      "execution_count": null,
      "outputs": [
        {
          "output_type": "stream",
          "text": [
            "Epoch 1/10000\n",
            "10598/10598 [==============================] - 45s 4ms/step - loss: 3.6858 - accuracy: 0.1073 - val_loss: 3.4616 - val_accuracy: 0.1272\n",
            "Epoch 2/10000\n",
            "10598/10598 [==============================] - 43s 4ms/step - loss: 3.4490 - accuracy: 0.1512 - val_loss: 3.4459 - val_accuracy: 0.1425\n",
            "Epoch 3/10000\n",
            "10598/10598 [==============================] - 43s 4ms/step - loss: 3.3239 - accuracy: 0.1829 - val_loss: 3.4021 - val_accuracy: 0.1769\n",
            "Epoch 4/10000\n",
            "10598/10598 [==============================] - 43s 4ms/step - loss: 3.1854 - accuracy: 0.2188 - val_loss: 3.2746 - val_accuracy: 0.1988\n",
            "Epoch 5/10000\n",
            "10598/10598 [==============================] - 43s 4ms/step - loss: 3.0449 - accuracy: 0.2513 - val_loss: 3.1931 - val_accuracy: 0.2265\n",
            "Epoch 6/10000\n",
            "10598/10598 [==============================] - 42s 4ms/step - loss: 2.9238 - accuracy: 0.2783 - val_loss: 3.1323 - val_accuracy: 0.2436\n",
            "Epoch 7/10000\n",
            "10598/10598 [==============================] - 42s 4ms/step - loss: 2.8141 - accuracy: 0.2969 - val_loss: 3.1214 - val_accuracy: 0.2361\n",
            "Epoch 8/10000\n",
            "10598/10598 [==============================] - 42s 4ms/step - loss: 2.7317 - accuracy: 0.3143 - val_loss: 3.1041 - val_accuracy: 0.2388\n",
            "Epoch 9/10000\n",
            "10598/10598 [==============================] - 42s 4ms/step - loss: 2.6599 - accuracy: 0.3310 - val_loss: 3.0976 - val_accuracy: 0.2528\n",
            "Epoch 10/10000\n",
            "10598/10598 [==============================] - 43s 4ms/step - loss: 2.6065 - accuracy: 0.3417 - val_loss: 3.0840 - val_accuracy: 0.2649\n",
            "Epoch 11/10000\n",
            "10598/10598 [==============================] - 42s 4ms/step - loss: 2.5644 - accuracy: 0.3518 - val_loss: 3.0677 - val_accuracy: 0.2693\n",
            "Epoch 12/10000\n",
            "10598/10598 [==============================] - 42s 4ms/step - loss: 2.5189 - accuracy: 0.3641 - val_loss: 3.0795 - val_accuracy: 0.2642\n",
            "Epoch 13/10000\n",
            "10598/10598 [==============================] - 42s 4ms/step - loss: 2.4983 - accuracy: 0.3711 - val_loss: 3.0960 - val_accuracy: 0.2589\n",
            "Epoch 14/10000\n",
            "10598/10598 [==============================] - 42s 4ms/step - loss: 2.4712 - accuracy: 0.3769 - val_loss: 3.0985 - val_accuracy: 0.2503\n",
            "\n",
            "Epoch 00014: ReduceLROnPlateau reducing learning rate to 0.00020000000949949026.\n",
            "Epoch 15/10000\n",
            "10598/10598 [==============================] - 42s 4ms/step - loss: 2.4226 - accuracy: 0.3899 - val_loss: 3.0825 - val_accuracy: 0.2610\n",
            "Epoch 16/10000\n",
            "10598/10598 [==============================] - 42s 4ms/step - loss: 2.4110 - accuracy: 0.3909 - val_loss: 3.0833 - val_accuracy: 0.2662\n",
            "Epoch 17/10000\n",
            "10598/10598 [==============================] - 43s 4ms/step - loss: 2.3995 - accuracy: 0.3956 - val_loss: 3.0964 - val_accuracy: 0.2590\n",
            "\n",
            "Epoch 00017: ReduceLROnPlateau reducing learning rate to 5e-05.\n",
            "Epoch 18/10000\n",
            "10598/10598 [==============================] - 42s 4ms/step - loss: 2.3939 - accuracy: 0.3960 - val_loss: 3.1019 - val_accuracy: 0.2611\n",
            "Epoch 19/10000\n",
            "10598/10598 [==============================] - 42s 4ms/step - loss: 2.3921 - accuracy: 0.3962 - val_loss: 3.1022 - val_accuracy: 0.2620\n",
            "Epoch 20/10000\n",
            "10598/10598 [==============================] - 42s 4ms/step - loss: 2.3842 - accuracy: 0.3989 - val_loss: 3.1026 - val_accuracy: 0.2580\n",
            "Epoch 21/10000\n",
            "10598/10598 [==============================] - 42s 4ms/step - loss: 2.3823 - accuracy: 0.3990 - val_loss: 3.1043 - val_accuracy: 0.2627\n",
            "Restoring model weights from the end of the best epoch.\n",
            "Epoch 00021: early stopping\n"
          ],
          "name": "stdout"
        }
      ]
    },
    {
      "cell_type": "code",
      "metadata": {
        "id": "GnLscesSYJWf"
      },
      "source": [
        "model.fit(input, output, epochs=10000, batch_size=16, validation_split=0.2, callbacks=callbacks)"
      ],
      "execution_count": null,
      "outputs": []
    },
    {
      "cell_type": "code",
      "metadata": {
        "id": "tEDmsNdvr1CP"
      },
      "source": [
        "#I use the TensorBoard here\r\n",
        "\r\n",
        "%tensorboard --logdir=\"/content/tblogs/guitarmodel1\" #TODO FIX THIS TO BE A VARIABLE"
      ],
      "execution_count": null,
      "outputs": []
    },
    {
      "cell_type": "markdown",
      "metadata": {
        "id": "I5udvodq8Bw8"
      },
      "source": [
        "# INFERENCE AND POSTPROCESSING SECTION"
      ]
    },
    {
      "cell_type": "code",
      "metadata": {
        "id": "c4HrUDujMg92"
      },
      "source": [
        "def map_outlier_filtered_elements_to_old_value(value, mapperlist):\r\n",
        "    return mapperlist[value]"
      ],
      "execution_count": null,
      "outputs": []
    },
    {
      "cell_type": "code",
      "metadata": {
        "id": "lqA3epxQEX0C"
      },
      "source": [
        "def sample(preds, temperature=1.0):\r\n",
        "    # helper function to sample an index from a probability array\r\n",
        "    preds = np.asarray(preds).astype(\"float64\")\r\n",
        "    preds = np.log(preds) / temperature\r\n",
        "    exp_preds = np.exp(preds)\r\n",
        "    preds = exp_preds / np.sum(exp_preds)\r\n",
        "    preds = np.squeeze(preds)\r\n",
        "    probas = np.random.multinomial(1, preds, 1)\r\n",
        "    return np.argmax(probas)"
      ],
      "execution_count": null,
      "outputs": []
    },
    {
      "cell_type": "code",
      "metadata": {
        "id": "oWpOHOeMLzMk"
      },
      "source": [
        "def generate_notes(model, network_input, mapper, mapperlist = None, temp=1.0):\r\n",
        "    \"\"\" Generate notes from the neural network based on a sequence of notes \"\"\"\r\n",
        "    # pick a random sequence from the input as a starting point for the prediction\r\n",
        "    start = np.random.randint(0, len(network_input)-1)\r\n",
        "\r\n",
        "    pattern = network_input[start]\r\n",
        "    prediction_output = []\r\n",
        "\r\n",
        "    # generate 500 notes\r\n",
        "    for note_index in range(500):\r\n",
        "        prediction_input = np.reshape(pattern, (1, len(pattern), 1))\r\n",
        "\r\n",
        "        prediction = model.predict(prediction_input, verbose=0)\r\n",
        "\r\n",
        "        #prediction = sample(prediction, temp)\r\n",
        "        index = sample(prediction, temp)\r\n",
        "\r\n",
        "        #index = np.argmax(prediction)\r\n",
        "        if mapperlist is not None: #Idx of the mapper list is the new value, the element is the old value. This is used when I filter for outliers.\r\n",
        "            index=mapperlist[index]\r\n",
        "\r\n",
        "        result = get_key_from_value(index, mapper)\r\n",
        "        prediction_output.append(result)\r\n",
        "\r\n",
        "        pattern = np.append(pattern, index/float(len(mapper)))\r\n",
        "\r\n",
        "        pattern = pattern[1:len(pattern)]\r\n",
        "\r\n",
        "    return prediction_output"
      ],
      "execution_count": null,
      "outputs": []
    },
    {
      "cell_type": "code",
      "metadata": {
        "colab": {
          "base_uri": "https://localhost:8080/"
        },
        "id": "PJYdVGHiQeR-",
        "outputId": "0a919b5b-c834-4aca-df2a-fd054cff111f"
      },
      "source": [
        "generated_outputs=[]\r\n",
        "\r\n",
        "temperatures = [0.5, 0.8, 1.0, 1.2, 1.5, 2.0]\r\n",
        "\r\n",
        "# DO NOT FORGET, IMPORTANT: When using outlier filtering, DO NOT FORGET to use the mapperlist parameter!!\r\n",
        "\r\n",
        "for temp in tqdm(temperatures):\r\n",
        "    generated_outputs.append(generate_notes(model, input, mapper, temp = temp))"
      ],
      "execution_count": null,
      "outputs": [
        {
          "output_type": "stream",
          "text": [
            "100%|██████████| 6/6 [01:29<00:00, 14.85s/it]\n"
          ],
          "name": "stderr"
        }
      ]
    },
    {
      "cell_type": "code",
      "metadata": {
        "colab": {
          "base_uri": "https://localhost:8080/"
        },
        "id": "_rLzYrWgJxJ-",
        "outputId": "9d9223db-7f13-4ba1-f7bb-ef6ddb683636"
      },
      "source": [
        "for out in generated_outputs:\r\n",
        "    print(out)"
      ],
      "execution_count": null,
      "outputs": [
        {
          "output_type": "stream",
          "text": [
            "['E3', 'E3', 'E4', 'E4', 'E2', 'E4', 'E4', 'E3', 'E3', 'E4', 'E4', 'B3', 'B3', 'A4', 'A3', 'A2', 'A3', 'A2', 'B3', 'B3', 'B2', 'B2', 'B2', 'B2', 'B2', 'B2', 'B2', 'B2', 'B2', 'C#3', 'B2', 'B2', 'B2', 'B2', 'B2', 'B2', 'B4', 'B2', 'B2', 'B2', 'B2', 'B2', 'B2', 'B2', 'B2', 'B2', 'B2', 'B2', 'B2', 'B2', 'B3', 'B2', 'B2', 'B2', 'B2', 'B2', 'B2', 'B2', 'B2', 'B2', 'B2', 'B2', 'B2', 'B2', 'F#3', 'E3', 'B3', 'B3', 'B2', 'B2', 'B2', 'B2', 'B2', 'B2', 'B2', 'B2', 'B2', 'B2', 'B2', 'B2', 'B2', 'B2', 'B2', 'B2', 'B2', 'B2', 'B2', 'B2', 'B2', 'B2', 'B2', 'B2', 'B2', 'B2', 'B2', 'B2', 'C#3', 'B3', 'B2', 'B2', 'B2', 'B2', 'B3', 'A3', 'B2', 'B2', 'B3', 'B2', 'B2', 'B2', 'B2', 'B2', 'B2', 'B2', 'B2', 'B2', 'B2', 'B2', 'B2', 'B2', 'B2', 'B2', 'B2', 'C3', 'B3', 'B2', 'B2', 'B2', 'B2', 'B2', 'B2', 'B-2', 'B2', 'B2', 'B2', 'B2', 'B2', 'B2', 'B2', 'B2', 'B2', 'B2', 'B3', 'B2', 'B2', 'B2', 'B2', 'B2', 'B2', 'B2', 'B2', 'B2', 'B2', 'B2', 'B2', 'B2', 'B2', 'B2', 'B2', 'B2', 'B2', 'B2', 'B2', 'B2', 'B2', 'B2', 'B2', 'B2', 'B2', 'B2', 'B2', 'B2', 'B2', 'B2', 'B2', 'B2', 'B2', 'B2', 'B2', 'B2', 'B2', 'B2', 'B2', 'B2', 'B2', 'B2', 'B2', 'B2', 'B2', 'B2', 'B2', 'B3', 'B2', 'B2', 'B2', 'B2', 'B2', 'B2', 'B2', 'B2', 'B2', 'B2', 'B2', 'B2', 'B2', 'B2', 'C#3', 'B2', 'B2', 'B2', 'B3', 'B2', 'B3', 'B2', 'B2', 'B2', 'B2', 'B2', 'B2', 'B2', 'B2', 'B2', 'B2', 'B2', 'B2', 'B2', 'B2', 'B2', 'B2', 'B2', 'B2', 'B2', 'B2', 'A3', 'C#4', 'A3', 'B2', 'B2', 'B2', 'B2', 'B2', 'B2', 'B2', 'B2', 'B3', 'B2', 'B2', 'B2', 'B2', 'B2', 'B2', 'B2', 'B2', 'B2', 'B2', 'B2', 'B2', 'B2', 'C#4', 'B3', 'B2', 'B2', 'B2', 'B2', 'B2', 'B2', 'B2', 'C#4', 'B2', 'B2', 'B2', 'B2', 'B2', 'B2', 'B2', 'B2', 'B2', 'B2', 'B2', 'B2', 'B2', 'B2', 'B2', 'B2', 'B2', 'B2', 'B2', 'B2', 'B2', 'B2', 'B2', 'B2', 'B2', 'B2', 'B2', 'B2', 'B2', 'B2', 'B2', 'B2', 'B2', 'B2', 'B2', 'B2', 'B2', 'B3', 'B2', 'B2', 'B2', 'B2', 'B2', 'B2', 'B3', 'B2', 'B2', 'B2', 'B2', 'B2', 'B2', 'B2', 'B2', 'B2', 'B2', 'B2', 'B2', 'B2', 'B2', 'B2', 'B2', 'B2', 'B2', 'B2', 'B2', 'B2', 'B2', 'B2', 'B2', 'B2', 'C#3', 'B2', 'B3', 'B2', 'B2', 'B2', 'B2', 'B3', 'B2', 'B2', 'B2', 'B2', 'B2', 'B2', 'B2', 'B2', 'B2', 'B2', 'B2', 'B2', 'C3', 'C#3', 'B2', 'B2', 'B3', 'B2', 'B2', 'B2', 'B2', 'B2', 'B2', 'B2', 'B2', 'B2', 'B2', 'B2', 'B2', 'B2', 'B2', 'B2', 'B2', 'B2', 'B2', 'B2', 'B2', 'B2', 'B2', 'B2', 'C3', 'C#3', 'B2', 'B2', 'B2', 'B3', 'B2', 'B2', 'B2', 'B2', 'B2', 'B2', 'B2', 'B2', 'B2', 'B2', 'B2', 'B2', 'B2', 'B2', 'B2', 'B2', 'B2', 'B2', 'B2', 'B2', 'B2', 'B2', 'B2', 'B2', 'B2', 'C#3', 'B2', 'B2', 'B3', 'B2', 'B2', 'B2', 'B4', 'B2', 'B2', 'B2', 'B2', 'B2', 'B2', 'B2', 'B2', 'B2', 'B2', 'B2', 'B2', 'B2', 'B2', 'C4', 'B3', 'B2', 'B2', 'B2', 'B2', 'B2', 'B2', 'B2', 'B2', 'B2', 'B3', 'B2', 'B2', 'B2', 'B2', 'B2', 'B2', 'B2', 'B2', 'B2', 'B2', 'B2', 'B2', 'B2', 'B2', 'B2', 'B2', 'B2', 'B2', 'B2', 'B2', 'B2', 'B2', 'C3', 'B2', 'B2', 'B2', 'B3', 'B2', 'B2', 'B2', 'B2', 'B2', 'B2', 'B2', 'B2', 'B2', 'B2', 'B3', 'B2', 'B2', 'B2', 'B3', 'B2', 'C#3', 'B3', 'B2', 'B2', 'B2', 'B2']\n",
            "['E2', 'A3', 'E2', 'G3', 'E2', '<music21.note.Rest rest>', 'C3', 'C3', 'C3', '<music21.note.Rest rest>', 'D3', 'D3', 'D3', '<music21.note.Rest rest>', 'C3', '<music21.note.Rest rest>', 'D3', 'D3', 'C3', 'D4', 'A3', 'D3', 'D3', '<music21.note.Rest rest>', 'C4', '<music21.note.Rest rest>', 'D3', 'D3', 'C3', '<music21.note.Rest rest>', 'D3', '<music21.note.Rest rest>', 'D3', 'D3', 'C3', 'A3', 'B-3', 'B2', '<music21.note.Rest rest>', 'B-2', 'B-2', 'C4', 'B2', 'C3', 'D3', 'D3', 'D4', '<music21.note.Rest rest>', 'A2', 'A2', 'A3', 'A2', 'A2', 'A2', 'A2', 'A2', '<music21.note.Rest rest>', 'A3', 'A2', 'A2', 'A2', 'A2', 'A2', 'A2', 'A2', 'A2', 'A2', 'A2', 'A2', 'A2', 'A2', 'A2', 'A2', 'A2', 'A2', 'A2', 'A2', 'A2', 'A2', 'A2', 'A2', 'A2', 'A2', 'A2', 'A2', 'A2', 'A2', 'A2', 'A2', 'A2', 'A2', 'A2', 'A2', 'A2', 'A2', 'A2', 'A2', 'A2', 'A2', 'A2', 'A2', 'A2', 'A2', 'A2', 'A2', 'A2', 'A2', 'A2', 'A2', 'A2', 'A2', 'A2', 'A2', 'A2', 'B2', 'C3', 'D3', 'C3', 'C3', 'C3', 'C3', 'C3', 'C3', 'C4', 'C3', 'C4', 'C3', 'C3', 'C3', 'C3', 'C3', 'C3', 'C3', 'C3', 'C4', 'C3', 'D3', 'C3', 'A2', 'G3', 'A2', 'A2', 'A3', 'A2', 'A3', 'C4', 'A3', 'F#3', 'A3', 'E3', 'C4', 'E-3', 'E3', 'A2', 'E2', 'A2', 'A2', 'E2', 'A2', 'E2', '<music21.note.Rest rest>', 'E2', 'A2', 'E2', 'B2', 'E2', 'A3', 'F#2', '<music21.note.Rest rest>', 'F#2', 'E2', 'F2', 'E2', 'F3', 'B4', '<music21.note.Rest rest>', 'F#3', 'G#2', 'F#4', 'F2', 'F3', 'F#3', 'F2', 'F#3', 'F2', 'F2', 'G3', 'F3', 'G2', 'F3', 'G2', 'G3', 'G2', 'G2', 'G4', 'G3', 'G2', 'G2', 'G3', 'G2', 'G3', 'G3', 'G2', 'D4', 'G3', 'A4', 'G3', 'A4', 'G4', 'F#4', 'B3', 'C4', 'D4', 'B4', 'D5', 'D4', 'E-3', 'C#5', 'C5', 'C4', 'C#5', 'C3', 'A3', 'B-2', 'B2', 'B-2', 'B-2', 'B2', 'B-2', 'B2', 'B-2', 'F3', 'F#3', 'E-4', 'B3', 'G3', 'C#3', 'G#4', 'C5', 'G3', '<music21.note.Rest rest>', 'F3', '<music21.note.Rest rest>', 'C3', '<music21.note.Rest rest>', 'G3', '<music21.note.Rest rest>', 'E2', 'A2', 'D3', '<music21.note.Rest rest>', 'D3', '<music21.note.Rest rest>', 'D3', 'D3', 'D3', 'D3', 'D3', 'D3', '<music21.note.Rest rest>', 'D3', 'D3', 'D3', 'F3', 'F#3', 'E3', 'D3', 'D3', 'D3', 'D3', 'D3', 'A3', 'E4', 'E3', 'E3', 'E4', 'E3', 'G3', 'E4', 'E3', 'E3', 'D4', 'E3', 'A3', 'D3', 'E3', 'E3', 'E3', 'E3', 'E3', 'E3', 'E3', 'E3', 'E3', 'E3', 'E3', 'B3', 'G3', 'E3', 'D3', 'E3', 'D3', 'D3', 'D3', 'D3', 'D3', 'D3', 'C3', 'D3', 'G3', 'C4', 'C3', 'D3', 'C3', 'C3', 'C4', 'C3', 'D3', 'D3', 'D3', 'C4', 'A3', 'C3', 'E3', 'D3', 'D3', 'D3', 'D3', 'D4', 'C4', 'E3', 'B-3', '<music21.note.Rest rest>', 'E4', 'E3', '<music21.note.Rest rest>', 'E4', '<music21.note.Rest rest>', 'E3', '<music21.note.Rest rest>', 'E4', 'E3', 'E3', '<music21.note.Rest rest>', 'E3', '<music21.note.Rest rest>', 'E3', '<music21.note.Rest rest>', 'E3', '<music21.note.Rest rest>', 'E3', '<music21.note.Rest rest>', 'E3', '<music21.note.Rest rest>', 'E3', 'E3', 'E3', '<music21.note.Rest rest>', 'E3', '<music21.note.Rest rest>', 'E3', '<music21.note.Rest rest>', 'E3', 'E3', 'E3', 'E3', 'E3', '<music21.note.Rest rest>', 'E3', 'E3', 'E3', '<music21.note.Rest rest>', 'E3', 'E3', 'E3', '<music21.note.Rest rest>', 'E3', 'E3', 'E3', '<music21.note.Rest rest>', 'E3', 'E3', 'E3', '<music21.note.Rest rest>', 'E3', 'E3', 'E3', '<music21.note.Rest rest>', 'E3', 'E3', 'E3', '<music21.note.Rest rest>', 'E3', 'E3', 'E3', '<music21.note.Rest rest>', 'E3', 'E3', 'E3', '<music21.note.Rest rest>', 'E3', 'E3', 'E3', '<music21.note.Rest rest>', 'E3', 'C3', 'E3', '<music21.note.Rest rest>', 'G3', 'E3', 'E3', 'E3', 'D3', 'E3', 'E3', 'E3', 'E3', 'E3', 'E3', 'E3', 'E3', 'E3', 'E3', 'E3', 'E3', 'E3', 'E3', 'E3', 'E3', 'E3', 'E3', 'E3', 'E3', 'E3', 'E3', 'E3', 'E3', 'E3', 'E3', 'E3', 'E3', 'E3', '<music21.note.Rest rest>', 'E3', 'E3', 'E3', 'E4', 'E3', 'E3', '<music21.note.Rest rest>', 'E3', 'E3', 'E3', '<music21.note.Rest rest>', 'E3', 'E3', 'E3', 'A3', 'C3', 'E3', 'B3', 'E3', 'B3', 'E3', 'E3', 'E3', '<music21.note.Rest rest>', 'E3', 'G3', 'E3', '<music21.note.Rest rest>', 'E3', '<music21.note.Rest rest>', 'D3', 'E3', 'C3', 'A2', 'E3', 'E3', '<music21.note.Rest rest>', 'E3', 'E3', 'E3', 'E3', 'E3', 'A3', 'E3', 'E3', 'E3', 'E3', 'E3', 'E3', 'E3', 'E3', 'E3', 'E3', 'E3', 'E3', 'E3', 'E3']\n",
            "['F3', 'E3', 'F#3', 'E3', 'E3', 'F#3', '<music21.note.Rest rest>', 'D3', 'E2', 'D3', 'E3', '<music21.note.Rest rest>', 'E3', 'B2', 'C3', 'E3', 'F#3', 'C4', 'C3', 'B3', '<music21.note.Rest rest>', 'A3', 'A3', 'B-4', 'B2', 'B2', 'C3', '<music21.note.Rest rest>', 'C3', '<music21.note.Rest rest>', 'C5', 'D4', 'A2', 'A2', '<music21.note.Rest rest>', 'A2', 'C#3', 'A2', 'A2', 'A2', 'B2', 'E3', 'B2', 'A3', 'F#3', 'E3', 'C3', '<music21.note.Rest rest>', 'E3', 'B3', 'A2', 'B3', 'D3', 'E3', 'D3', 'B3', 'C3', 'A3', 'G3', 'A2', 'G3', 'G3', 'E3', 'E3', 'D3', 'E3', 'D3', 'F3', 'C4', 'F#3', 'G3', 'G3', 'G3', 'G2', 'G2', 'G2', 'E-4', 'E3', 'C#4', 'A3', 'C#3', 'B-2', 'B2', 'G3', 'F#3', 'G3', 'F#4', 'D4', 'A5', 'F#4', 'E5', 'B5', 'C3', 'D5', 'E4', 'A4', 'E5', 'E4', 'E4', 'E4', 'B4', 'E4', '<music21.note.Rest rest>', 'E5', 'E4', 'E4', 'F5', 'F4', 'A3', 'A3', 'F#4', 'D4', 'F#4', 'G4', 'G5', 'G4', 'G3', 'G5', 'G3', 'G4', 'G2', 'G3', 'G3', 'F3', 'G3', 'D4', 'G3', 'C4', 'G3', 'D4', 'D4', 'D3', 'D3', 'E4', 'A3', 'B3', 'G3', 'F#3', 'D4', 'F#4', 'G4', 'G3', 'B3', 'A3', 'B2', '<music21.note.Rest rest>', 'G4', 'F#3', 'G3', 'F4', 'F#4', 'A3', 'G#3', 'F#3', 'G3', 'F#3', 'A4', 'G#4', 'F#4', 'G4', 'F2', 'G3', 'G2', 'F#3', 'G3', 'A2', 'G#3', 'G3', 'G2', '<music21.note.Rest rest>', 'G2', 'F#3', 'C3', 'C4', 'A4', 'C3', 'C3', 'B3', 'C#4', 'A3', 'F3', 'C4', 'B2', 'C3', 'C#4', 'D3', 'D3', 'C3', 'D4', 'C4', 'C4', 'C5', 'D3', 'C3', 'G2', 'C4', 'G4', 'A4', 'G4', 'G3', 'B3', 'G3', 'G4', 'G4', 'F3', '<music21.note.Rest rest>', 'E4', 'B-4', 'G4', 'F#3', 'F3', 'A5', 'B-3', 'B2', 'C5', 'D5', 'C#5', 'D5', 'B4', 'B5', 'C5', 'C5', 'E5', 'C#5', 'G5', 'F5', 'G4', 'C5', 'G5', '<music21.note.Rest rest>', 'B-4', 'A5', 'G4', 'B4', 'C3', 'D4', 'B4', 'D5', 'D5', 'E3', 'A4', 'G5', 'G4', 'G#3', 'D4', 'E4', 'B2', 'D4', 'D4', 'E4', 'D4', 'C5', 'B-3', 'G4', 'A3', 'A4', 'D4', 'E4', 'E4', 'E5', 'D4', 'E3', 'C4', 'E4', 'D4', 'E4', 'D4', 'E4', 'D4', 'B4', 'G4', 'A4', 'C4', 'G4', 'G4', 'E4', 'G3', 'G4', 'G3', 'G4', 'A4', 'D4', 'B-3', 'C4', '<music21.note.Rest rest>', 'G4', '<music21.note.Rest rest>', 'D4', 'E3', 'D4', '<music21.note.Rest rest>', 'D3', '<music21.note.Rest rest>', 'D3', 'D3', 'C3', '<music21.note.Rest rest>', 'D4', 'D3', 'D3', '<music21.note.Rest rest>', 'C3', 'G3', 'C4', 'G4', 'D3', 'C3', 'C3', 'C3', 'G3', 'B3', 'G3', 'F3', 'E3', 'E4', 'C4', 'C3', 'E4', 'D3', 'E2', 'D4', 'E4', 'E3', 'E3', 'E3', 'E4', 'E3', 'E3', 'E3', 'E3', 'E3', 'E3', 'E3', 'E3', 'E3', 'E3', 'E3', 'D3', 'G3', 'E3', 'E2', 'G3', 'G3', 'D3', 'E3', 'D3', 'F3', 'F#3', 'A2', 'F#4', 'D3', '<music21.note.Rest rest>', 'F#3', '<music21.note.Rest rest>', 'E3', 'E2', 'E2', 'E3', '<music21.note.Rest rest>', 'E2', '<music21.note.Rest rest>', 'E2', '<music21.note.Rest rest>', 'E3', 'E2', 'D3', '<music21.note.Rest rest>', 'G2', '<music21.note.Rest rest>', 'D3', '<music21.note.Rest rest>', 'D3', 'D3', 'E3', 'D4', '<music21.note.Rest rest>', 'D3', '<music21.note.Rest rest>', 'D3', 'D3', '<music21.note.Rest rest>', 'D3', '<music21.note.Rest rest>', 'D3', 'D3', '<music21.note.Rest rest>', 'D4', 'D3', '<music21.note.Rest rest>', 'D3', '<music21.note.Rest rest>', 'D3', 'D3', '<music21.note.Rest rest>', 'E3', 'D3', '<music21.note.Rest rest>', 'E3', '<music21.note.Rest rest>', 'E3', '<music21.note.Rest rest>', 'E3', '<music21.note.Rest rest>', 'E3', '<music21.note.Rest rest>', 'E3', '<music21.note.Rest rest>', 'E3', 'E3', 'E3', '<music21.note.Rest rest>', 'E3', '<music21.note.Rest rest>', 'E3', '<music21.note.Rest rest>', 'E3', '<music21.note.Rest rest>', 'E3', 'E3', 'E3', 'F3', '<music21.note.Rest rest>', 'E3', 'F#3', '<music21.note.Rest rest>', 'E3', 'B2', 'C4', 'E3', 'D3', 'A3', 'D3', 'B-2', 'B3', 'D3', 'C3', 'G3', 'D4', 'B2', 'B-3', 'D3', 'C#3', 'B2', 'G3', 'B3', 'A3', 'B-4', 'B-3', 'C#4', 'B2', 'C3', 'E4', 'E4', 'D4', 'E2', 'D4', 'D4', 'C3', 'A2', 'A2', 'A2', 'A2', 'A2', 'A2', 'C4', 'A3', 'A3', 'A2', 'A2', 'G2', 'A2', 'A2', 'B3', 'B2', 'A3', 'A3', 'B2', 'B3', 'A3', 'B3', 'C3', 'B2', 'A3', 'B3', 'B2', 'A2', 'E4', 'C#3', 'B2', 'B2', 'B3', 'C#3', 'B4', 'C5', 'B4', 'B3', 'B3', 'B2', 'B4', 'A4']\n",
            "['A5', 'A4', 'C#5', 'B4', 'A3', 'A4', 'A3', 'C3', 'C4', 'E-4', 'D3', 'F#3', 'G2', 'F3', 'C3', 'C3', 'A5', 'G#3', '<music21.note.Rest rest>', 'G3', 'F#2', '<music21.note.Rest rest>', 'F#4', 'A3', '<music21.note.Rest rest>', 'B4', '<music21.note.Rest rest>', 'G#4', '<music21.note.Rest rest>', 'E2', '<music21.note.Rest rest>', 'E3', '<music21.note.Rest rest>', 'E2', '<music21.note.Rest rest>', 'E3', 'G2', '<music21.note.Rest rest>', 'E3', '<music21.note.Rest rest>', 'E3', '<music21.note.Rest rest>', 'E2', '<music21.note.Rest rest>', 'E3', 'E3', 'E2', '<music21.note.Rest rest>', 'E3', 'G3', '<music21.note.Rest rest>', 'E3', '<music21.note.Rest rest>', 'A2', '<music21.note.Rest rest>', 'B3', 'C5', 'C4', '<music21.note.Rest rest>', 'B3', 'C4', 'B-2', 'C3', 'A4', 'D3', 'D3', 'D3', 'C#3', 'D3', 'D3', 'C3', 'D4', 'D3', 'C4', 'C3', 'C4', 'D3', 'D3', 'B-3', 'D4', 'D3', 'D3', 'C4', 'D3', 'D3', 'C3', '<music21.note.Rest rest>', 'D4', 'A3', 'A3', 'B3', 'G3', 'C4', 'D4', 'D3', 'E4', 'C5', 'A3', '<music21.note.Rest rest>', 'A2', '<music21.note.Rest rest>', 'D3', '<music21.note.Rest rest>', 'A2', 'D4', 'D3', 'E2', 'D3', 'G3', 'G2', 'G2', 'G4', 'G2', 'G2', 'G2', 'G2', 'G2', 'B-2', 'G3', 'G2', 'F3', 'F3', 'G3', 'E4', 'D4', 'B2', 'G4', 'B2', 'F3', 'A2', 'F4', 'A3', 'G5', 'F5', 'E3', 'D4', 'C4', 'B3', 'C3', 'B3', 'D4', 'D3', 'C#3', 'B-3', 'G4', 'C#4', 'B2', 'A3', 'C4', 'A3', 'C4', 'C#4', 'C#3', 'C4', 'C#5', 'D3', 'C3', 'A2', 'D3', 'D3', 'C4', 'D3', 'D3', 'C3', 'C3', 'G3', 'G2', 'G3', 'A2', 'D3', 'F2', 'E3', 'F3', 'E3', 'D3', 'D3', 'C4', 'G3', 'D3', 'G3', 'F#3', '<music21.note.Rest rest>', 'G2', 'G3', 'G2', 'G4', 'D4', 'G3', 'D3', 'E2', 'D3', 'F3', 'F#4', 'G2', 'G2', 'C4', 'G3', 'F#3', 'E2', 'F3', 'G#4', 'E3', 'G2', 'A3', 'G3', 'F#3', '<music21.note.Rest rest>', 'B3', 'C4', '<music21.note.Rest rest>', 'D3', '<music21.note.Rest rest>', 'D3', '<music21.note.Rest rest>', 'D3', '<music21.note.Rest rest>', 'D3', '<music21.note.Rest rest>', 'E2', 'D2', 'G3', 'F4', 'G2', 'G2', 'F3', 'G2', 'F2', 'F3', 'B-2', 'C3', 'A3', 'F3', 'E4', 'F#3', '<music21.note.Rest rest>', 'F#4', 'C4', 'G4', '<music21.note.Rest rest>', 'B3', 'A3', 'G4', 'F#3', 'E3', 'F5', 'F#3', 'B3', 'G3', 'F#3', 'B3', 'B3', 'B-3', 'B3', 'D3', 'C3', 'C#3', 'G3', 'F#3', 'E4', 'F3', 'A4', 'E4', 'D5', 'D4', 'E4', 'C4', 'B3', '<music21.note.Rest rest>', 'A3', 'A4', 'G3', 'F#3', 'G3', 'F#4', 'F#3', 'B3', 'F#4', 'F2', 'A3', 'G#3', 'G#3', 'F3', 'B4', '<music21.note.Rest rest>', 'F#3', 'D5', 'F4', 'G3', '<music21.note.Rest rest>', 'G4', 'D4', 'C3', 'C5', 'C5', 'D3', 'D3', 'E-3', 'D4', 'D3', 'C3', 'B-2', '<music21.note.Rest rest>', 'A2', 'A2', '<music21.note.Rest rest>', 'C3', 'C3', 'D4', 'D3', 'D4', 'D4', 'C5', 'E3', 'E3', 'D4', 'E4', 'C3', 'G3', 'A3', 'B2', 'A3', 'G3', 'B3', 'A3', 'E3', 'E2', 'D4', 'C4', 'E3', 'F3', 'E2', '<music21.note.Rest rest>', 'G3', 'E3', 'A2', 'G2', 'A2', 'D4', 'E3', 'D4', '<music21.note.Rest rest>', 'E3', 'E3', 'E3', '<music21.note.Rest rest>', 'E2', 'E3', 'E3', 'F3', 'E3', 'E3', 'E3', 'E3', 'E3', 'D3', 'E3', 'D3', 'E3', 'B3', 'E3', 'D3', 'E3', 'C3', 'E3', 'A3', 'B3', '<music21.note.Rest rest>', 'G3', 'F#3', 'E3', 'E3', 'D3', 'F#2', 'E3', 'F#3', 'E3', 'E3', 'E3', '<music21.note.Rest rest>', 'E3', 'B3', 'A3', 'B2', 'A3', 'G3', 'D4', 'G3', 'B3', 'A2', 'A2', 'A3', 'B3', 'A3', 'G4', 'A3', 'B2', 'C5', 'F3', 'D4', 'F4', 'C4', 'A3', 'B2', 'A2', 'B3', 'A3', 'F3', 'A2', 'D4', 'D3', 'B2', 'A3', 'F#3', 'C4', '<music21.note.Rest rest>', 'F#3', 'C4', 'G2', 'F3', 'G2', '<music21.note.Rest rest>', 'G2', 'F3', 'A3', 'G3', 'F#3', 'F3', 'E4', 'E4', 'B3', 'C4', 'D4', 'B4', 'G4', 'B3', 'A4', 'B-5', 'B3', 'B3', 'F#3', 'C4', 'F#4', 'B-3', 'F#3', 'B2', 'G3', 'F#4', 'E-4', 'D3', '<music21.note.Rest rest>', 'A2', 'B4', '<music21.note.Rest rest>', 'B-3', 'A3', '<music21.note.Rest rest>', 'E3', 'A2', 'A2', 'E3', '<music21.note.Rest rest>', 'C#3', 'A2', 'E3', 'A2', 'C4', 'C3', 'C#3', 'C3', 'C4', 'C4', 'C3', 'C4', '<music21.note.Rest rest>', 'C3', 'D3', 'G2', 'C4', 'D3', 'D3', 'D4', '<music21.note.Rest rest>', 'A3', 'C4', 'C3', 'A3', 'G2', 'F#5', 'E4', 'F#5', 'E4', 'F4', 'G4', 'F#4', 'G4', 'F#4', 'D5', 'B4', 'D4', '<music21.note.Rest rest>']\n",
            "['B-3', 'F4', 'C#5', 'D4', 'B-4', 'D4', 'D4', 'D5', 'C#4', 'E-4', '<music21.note.Rest rest>', 'B4', 'E-3', 'C4', 'C#4', 'B3', 'E4', 'A4', 'E3', '<music21.note.Rest rest>', 'A2', 'C3', '<music21.note.Rest rest>', 'G3', 'E4', '<music21.note.Rest rest>', 'C#3', '<music21.note.Rest rest>', 'B3', '<music21.note.Rest rest>', 'G3', 'F#4', 'F4', 'A3', 'F#4', 'B-2', 'B3', 'C4', 'D3', 'C3', 'E-3', 'E3', 'C4', 'B2', 'A3', 'B2', 'A3', 'G2', 'B3', 'C5', 'C3', 'E4', 'C3', 'B3', 'B3', 'E5', 'E3', 'B-4', 'G4', 'C5', 'G#3', 'F2', 'G3', 'F#4', 'E2', 'E3', 'E2', 'E3', 'E3', 'E2', 'E3', 'B3', 'C3', '<music21.note.Rest rest>', 'C3', 'D3', 'B3', 'A2', 'C3', 'A3', 'G#3', 'A3', 'C#3', 'G#4', 'F#3', 'F3', 'G#3', 'F#3', 'F#3', 'F3', 'E5', 'C3', 'B2', 'F4', 'E2', 'F4', 'E4', 'G3', '<music21.note.Rest rest>', 'G2', 'E5', '<music21.note.Rest rest>', 'G5', 'B4', 'C#5', 'C4', 'F4', 'B-3', 'D5', 'E5', 'F4', 'C4', 'D5', 'F4', 'D4', 'G5', 'D5', 'F4', 'D4', 'B5', 'E4', 'E5', 'G4', 'E-5', 'B5', 'E-4', 'C5', 'E3', '<music21.note.Rest rest>', 'E3', 'B4', 'E-5', 'E3', 'E3', 'C#3', '<music21.note.Rest rest>', 'D3', 'C4', 'C#3', 'D4', 'B2', '<music21.note.Rest rest>', 'B-3', '<music21.note.Rest rest>', 'B3', '<music21.note.Rest rest>', 'G3', 'E3', 'G4', 'G3', 'A2', 'B4', '<music21.note.Rest rest>', 'G2', 'G3', '<music21.note.Rest rest>', 'F#3', '<music21.note.Rest rest>', 'E4', '<music21.note.Rest rest>', 'E3', '<music21.note.Rest rest>', 'F3', 'B3', '<music21.note.Rest rest>', 'C3', 'B2', 'B-2', 'B-3', 'F#3', 'E3', 'B4', 'E3', 'E2', 'F3', 'F#3', 'G#4', 'A2', 'C3', 'E3', 'G2', 'D4', 'G2', 'G4', 'F#4', 'G3', 'F#3', 'D4', 'C4', 'D4', 'F#4', 'F#5', 'F#4', 'F4', 'F#4', 'F2', 'G2', 'G3', 'G4', 'B-5', 'E-3', 'A2', 'F3', 'A3', 'E-3', 'D4', 'D3', 'G2', 'E4', 'E-5', 'C4', 'E4', '<music21.note.Rest rest>', 'C3', 'G4', '<music21.note.Rest rest>', 'A2', 'C4', 'C#3', 'B4', 'A3', 'F#3', 'E2', 'F#4', '<music21.note.Rest rest>', 'F#2', 'F4', 'G2', 'F3', 'G3', 'F#4', 'G3', 'A3', 'B2', 'A3', 'B2', 'B3', 'B2', 'B4', 'B4', 'B3', 'B3', 'B2', 'B2', 'G#3', 'G2', 'C#4', 'D4', 'G#3', 'G2', 'F#4', '<music21.note.Rest rest>', 'A5', 'A3', 'B-3', 'B3', 'B-3', 'B-2', 'A3', 'B-2', 'F2', 'C4', 'D3', 'E3', 'B3', 'A2', 'G3', 'F#5', 'G3', '<music21.note.Rest rest>', 'E3', 'A2', 'D3', 'E3', 'F4', '<music21.note.Rest rest>', 'G3', 'F#2', 'C4', 'F#3', 'E3', 'A2', 'C4', 'E3', 'C5', 'B3', 'C4', 'D3', 'D4', 'D4', 'E2', 'E3', 'C4', 'F#4', 'G3', 'G3', 'D3', 'D3', 'F4', 'G3', 'E4', 'E3', 'E3', 'A4', 'G3', 'G3', '<music21.note.Rest rest>', 'E3', 'E4', 'D4', '<music21.note.Rest rest>', 'G3', 'A2', 'G4', 'G4', 'C4', 'D4', '<music21.note.Rest rest>', 'B3', '<music21.note.Rest rest>', 'G3', 'A3', 'B3', '<music21.note.Rest rest>', 'G3', 'B3', 'B3', 'B3', 'C6', 'B3', 'B3', 'B5', 'G#3', 'G3', 'G4', 'G5', 'E4', 'C6', '<music21.note.Rest rest>', 'D4', 'F#3', 'D3', '<music21.note.Rest rest>', 'G4', 'C4', 'G4', 'E3', 'A3', 'D3', 'F3', 'D4', 'B3', 'C3', 'G4', 'D4', 'D3', 'C3', 'A2', 'D5', 'A2', 'A2', '<music21.note.Rest rest>', 'D3', 'C4', 'E2', 'D4', 'A3', 'B3', 'F2', '<music21.note.Rest rest>', 'A2', 'A2', 'A3', 'B3', 'G4', 'A2', 'B2', 'G#4', 'F#2', '<music21.note.Rest rest>', 'G3', 'F#4', 'C#4', '<music21.note.Rest rest>', 'C#3', 'B3', 'D4', 'G3', 'F3', 'G#4', 'C5', 'C5', 'C#5', 'C3', 'E4', 'D4', 'A2', 'C3', 'A3', 'C3', 'B-2', 'E4', 'F3', 'G4', 'G3', 'D3', 'F#3', 'E2', 'G3', 'B-3', 'F3', 'G3', 'F#3', 'F4', 'C#5', 'B3', 'B-4', 'G3', 'A3', 'G2', 'G3', 'G3', 'G4', 'F4', 'B-3', 'G4', 'G3', 'G4', 'E4', 'G4', 'D4', 'E4', 'E4', 'D5', 'G4', 'B3', 'F5', 'F4', 'B4', 'G5', 'A4', 'G5', 'G4', 'F4', '<music21.note.Rest rest>', 'E2', 'D5', 'B3', 'F4', 'B-2', 'B3', 'A4', 'B5', 'B5', 'G#4', 'C3', 'B3', 'A4', 'C3', 'E3', 'E4', 'G#5', 'E3', 'E4', 'G3', 'A4', 'D4', 'C5', 'A3', 'D4', 'G2', 'A3', 'E4', '<music21.note.Rest rest>', 'E4', 'C4', 'B3', '<music21.note.Rest rest>', '<music21.note.Rest rest>', 'A3', '<music21.note.Rest rest>', 'A2', '<music21.note.Rest rest>', 'A3', 'D4', 'C3', 'B-3', 'B2', 'G#4', 'G#5', 'G3', 'G3', 'E4', 'D3', 'G4', 'B2', 'B2', 'G3', 'C4', 'A4']\n",
            "['F4', 'E3', 'F4', 'C4', 'A2', 'A2', 'C4', 'D3', 'G3', 'C#4', 'F#3', 'F#3', 'C3', 'F#3', 'F#3', 'A4', 'C#4', 'F#5', 'G#4', 'B2', 'D4', 'F3', 'B3', '<music21.note.Rest rest>', 'B4', '<music21.note.Rest rest>', 'E4', 'C4', 'D3', '<music21.note.Rest rest>', 'C#3', 'A3', 'F#4', 'F4', 'B-3', 'F#4', 'C6', 'D5', 'E5', 'C4', 'C#5', 'F4', 'F#4', 'A5', 'C3', 'G#4', 'D5', 'G3', 'C4', '<music21.note.Rest rest>', 'C#5', 'D4', 'C5', 'C#5', 'B-2', 'D5', 'A3', 'G4', 'C#4', 'A3', 'C#3', 'A3', 'B-4', 'A4', 'B4', 'G3', 'C3', 'B-3', 'B2', 'B2', 'B-4', 'B2', 'E-5', 'E3', 'C3', 'G#3', 'F#3', 'G4', 'G3', 'G4', 'B2', 'F3', 'F#3', 'G4', 'B3', 'B-3', 'C4', 'C5', 'F#5', 'C3', 'F4', '<music21.note.Rest rest>', 'G#3', 'A4', 'C5', 'D4', 'B3', 'E2', 'C#3', 'E4', 'B3', 'D3', 'C#3', 'F3', 'C3', 'D4', 'B2', 'F4', 'G#4', 'A3', 'A2', 'A3', 'B3', 'C4', 'B2', 'A3', 'G3', '<music21.note.Rest rest>', 'G3', 'D5', 'A3', 'G4', '<music21.note.Rest rest>', 'B-4', 'G4', 'F4', 'B4', 'B5', 'F4', 'C6', 'B4', 'G#4', '<music21.note.Rest rest>', 'E2', 'G3', '<music21.note.Rest rest>', 'E3', '<music21.note.Rest rest>', 'C#4', 'B4', 'G#3', '<music21.note.Rest rest>', 'A3', '<music21.note.Rest rest>', 'B4', 'G#3', 'G2', 'E3', 'B3', 'E4', 'B3', 'D4', 'A2', 'E-4', 'E3', 'D5', 'F3', 'A2', 'E5', 'E4', 'C4', 'A4', 'B4', 'D4', 'E4', 'A3', 'G4', 'E5', 'E3', 'D4', 'A4', '<music21.note.Rest rest>', 'A3', 'A2', 'G#3', 'E3', 'C3', 'E3', 'F#3', 'C3', 'B3', 'C3', 'B-4', 'C3', 'C3', 'G2', 'B3', 'G#3', 'E2', 'B-3', 'D3', 'B3', 'F#4', '<music21.note.Rest rest>', 'C#4', 'C5', 'A5', '<music21.note.Rest rest>', 'F3', 'A4', '<music21.note.Rest rest>', 'G#2', '<music21.note.Rest rest>', 'C#4', 'C4', 'B4', 'C3', 'C3', 'C5', 'G2', 'D5', 'D4', 'B2', 'C4', 'G4', 'F#5', 'F#4', 'F#3', 'E2', 'E-4', '<music21.note.Rest rest>', 'E2', 'G#3', 'E2', 'G3', 'E2', 'F4', 'E2', 'E2', 'E4', 'C#5', 'F#4', 'F2', 'A4', 'C3', 'B4', 'D4', 'B3', 'D3', 'E3', 'C4', 'G3', 'G3', 'F2', '<music21.note.Rest rest>', 'F3', 'E4', 'B3', 'G3', 'F3', 'E4', 'C5', 'D4', 'C4', 'D4', 'F5', 'F#4', 'F4', 'B4', 'B4', 'A4', 'B-3', 'E5', 'F3', 'F4', 'E4', 'E5', '<music21.note.Rest rest>', 'E4', 'D5', 'F#2', 'C4', 'A5', 'F#5', 'B5', 'B4', 'B-5', 'D5', 'C#5', 'C5', 'D5', 'A5', 'C#3', 'G#4', 'B4', 'A4', 'B3', 'A3', 'G#4', 'E-5', 'F5', 'E4', 'B3', 'B5', 'F#4', 'B2', 'B5', 'B-4', 'F#5', 'F#4', 'G4', 'B3', 'G#3', 'F#4', 'E4', 'C#4', 'E2', 'E5', 'E2', 'F#5', 'E-3', 'G2', 'B2', 'A5', 'C3', 'C5', 'B3', 'F3', 'G3', 'A3', 'G4', 'F#4', 'G3', 'B3', 'G#4', 'F#3', 'A3', 'A2', 'A2', 'B2', 'B4', 'E-4', 'F3', 'D5', 'B2', 'G2', 'F4', 'G5', 'A5', 'D5', 'F5', 'F3', 'F5', 'D5', 'F5', 'F5', 'G4', 'A5', 'F#5', 'B3', 'C5', 'A4', 'E5', 'D4', 'C3', 'A2', 'G3', 'G#4', 'G3', 'F4', 'F#4', 'A3', 'A2', 'F#3', 'A3', 'A5', 'G4', 'E4', '<music21.note.Rest rest>', 'E5', 'D4', 'A4', 'D4', 'B4', 'C4', 'A4', 'C4', 'D4', 'C4', 'C3', 'A2', 'G2', 'F4', 'F4', 'E4', 'A4', 'C4', 'G4', 'G2', 'C5', 'D4', 'B-2', 'C#5', 'E3', '<music21.note.Rest rest>', 'E3', 'A3', 'C4', '<music21.note.Rest rest>', 'G3', 'C#6', 'A2', 'B2', '<music21.note.Rest rest>', 'B3', '<music21.note.Rest rest>', 'G4', 'D4', 'E5', 'A2', 'F#4', 'G4', 'A4', 'C#5', 'A4', 'C5', 'C5', 'C4', 'G#3', 'D3', 'E4', 'E-3', 'A3', 'D4', 'B4', 'D3', 'C#3', 'A2', 'G3', 'F4', 'B-4', 'F2', 'B3', 'G4', 'A4', 'F#3', 'F3', 'F2', 'B-3', 'E3', 'A4', 'B4', 'B-2', 'F#3', 'F#3', 'E3', 'C3', 'E3', '<music21.note.Rest rest>', 'F3', 'C#3', 'E2', 'B-4', 'G5', 'E2', 'G2', 'E3', '<music21.note.Rest rest>', 'D3', '<music21.note.Rest rest>', 'G4', 'F#3', 'D3', 'C3', '<music21.note.Rest rest>', '<music21.note.Rest rest>', 'G3', 'G3', 'G3', 'C4', 'B-2', 'G2', 'F5', 'F2', 'D4', 'F#3', '<music21.note.Rest rest>', 'F#3', 'A5', 'C4', 'F#3', 'G3', 'E2', 'D4', 'E2', 'B2', 'F3', 'F4', 'F2', 'G2', 'A2', 'A2', 'A3', 'A3', '<music21.note.Rest rest>', 'G2', 'F3', 'G4', 'E4', 'C4']\n"
          ],
          "name": "stdout"
        }
      ]
    },
    {
      "cell_type": "code",
      "metadata": {
        "id": "9Lo0vDc_SqNv"
      },
      "source": [
        "from music21 import stream\r\n",
        "\r\n",
        "STARTING_OFFSET = 0\r\n",
        "\r\n",
        "OUTPUT_PATH = \"/content/drive/MyDrive/MLFolder/Onlab/Outputs/\"\r\n",
        "\r\n",
        "for i, out in enumerate(generated_outputs):\r\n",
        "    create_midi_without_durations(out, target_instrument = instrument.ElectricBass(), filename = OUTPUT_PATH + MODEL_NAME + f'{i+STARTING_OFFSET}.mid')"
      ],
      "execution_count": null,
      "outputs": []
    },
    {
      "cell_type": "markdown",
      "metadata": {
        "id": "xNKr2yri8M6v"
      },
      "source": [
        "# DEBUG SECTION"
      ]
    },
    {
      "cell_type": "code",
      "metadata": {
        "colab": {
          "base_uri": "https://localhost:8080/"
        },
        "id": "G58iw9ULn4AA",
        "outputId": "c42404f9-0fe2-4fd0-ea20-ddbcacec6636"
      },
      "source": [
        "#This is a debug cell, with a lot of prints:\r\n",
        "\r\n",
        "print(mapper)\r\n",
        "print(len(mapper))\r\n",
        "\r\n",
        "print(input[0])\r\n",
        "\r\n",
        "print(input.shape)\r\n",
        "print(output.shape)\r\n"
      ],
      "execution_count": null,
      "outputs": [
        {
          "output_type": "stream",
          "text": [
            "{'<music21.chord.Chord A2 A3 E3>': 0, '<music21.chord.Chord A2 A3>': 1, '<music21.chord.Chord A2 D2>': 2, '<music21.chord.Chord A2 D3 A3 D4>': 3, '<music21.chord.Chord A2 D3 G3>': 4, '<music21.chord.Chord A2 D3>': 5, '<music21.chord.Chord A2 E2>': 6, '<music21.chord.Chord A2 E3 A3 B3>': 7, '<music21.chord.Chord A2 E3 A3 C4 E4 A4>': 8, '<music21.chord.Chord A2 E3 A3 C4 E4>': 9, '<music21.chord.Chord A2 E3 A3 C4>': 10, '<music21.chord.Chord A2 E3 A3 E2>': 11, '<music21.chord.Chord A2 E3 A3>': 12, '<music21.chord.Chord A2 E3 B3>': 13, '<music21.chord.Chord A2 E3>': 14, '<music21.chord.Chord A2 G3>': 15, '<music21.chord.Chord A2>': 16, '<music21.chord.Chord A3 A2>': 17, '<music21.chord.Chord A3 A3 A4>': 18, '<music21.chord.Chord A3 A4 E3 E4 D4 D5>': 19, '<music21.chord.Chord A3 A4>': 20, '<music21.chord.Chord A3 B3 E4>': 21, '<music21.chord.Chord A3 B3>': 22, '<music21.chord.Chord A3 C#3>': 23, '<music21.chord.Chord A3 C3>': 24, '<music21.chord.Chord A3 C4>': 25, '<music21.chord.Chord A3 D3 A2>': 26, '<music21.chord.Chord A3 D3 D2>': 27, '<music21.chord.Chord A3 D3 E2>': 28, '<music21.chord.Chord A3 D3 G2>': 29, '<music21.chord.Chord A3 D3>': 30, '<music21.chord.Chord A3 D4 D3 F#4>': 31, '<music21.chord.Chord A3 D4 D3>': 32, '<music21.chord.Chord A3 D4 E4>': 33, '<music21.chord.Chord A3 D4 F#4>': 34, '<music21.chord.Chord A3 D4 F4>': 35, '<music21.chord.Chord A3 D4>': 36, '<music21.chord.Chord A3 E3 A2>': 37, '<music21.chord.Chord A3 E3 B2 E2>': 38, '<music21.chord.Chord A3 E3 C3>': 39, '<music21.chord.Chord A3 E3>': 40, '<music21.chord.Chord A3 F#3 A2>': 41, '<music21.chord.Chord A3 F#3>': 42, '<music21.chord.Chord A3 F3 C3 F2>': 43, '<music21.chord.Chord A3 F3>': 44, '<music21.chord.Chord A3>': 45, '<music21.chord.Chord A4 A3>': 46, '<music21.chord.Chord A4 A4 A5>': 47, '<music21.chord.Chord A4 A4>': 48, '<music21.chord.Chord A4 A5>': 49, '<music21.chord.Chord A4 C#5>': 50, '<music21.chord.Chord A4 D3>': 51, '<music21.chord.Chord A4 D4 A3 D3>': 52, '<music21.chord.Chord A4 D4>': 53, '<music21.chord.Chord A4 D5>': 54, '<music21.chord.Chord A4 E4 A3 A2>': 55, '<music21.chord.Chord A4 E4 A3 E3 A2>': 56, '<music21.chord.Chord A4 E4 A3>': 57, '<music21.chord.Chord A4 E4 B3>': 58, '<music21.chord.Chord A4 E4 C4 A3 E3 A2>': 59, '<music21.chord.Chord A4 E4 C4 G3>': 60, '<music21.chord.Chord A4 E4 C4>': 61, '<music21.chord.Chord A4 E4 D4 A3 D3>': 62, '<music21.chord.Chord A4 E4>': 63, '<music21.chord.Chord A4 F#3>': 64, '<music21.chord.Chord A4 F#4 D4 A3 D3>': 65, '<music21.chord.Chord A4 F#4>': 66, '<music21.chord.Chord A4 F4 D4 A3 D3>': 67, '<music21.chord.Chord A4 F4 D4 D3>': 68, '<music21.chord.Chord A4 F4>': 69, '<music21.chord.Chord A4 G#4>': 70, '<music21.chord.Chord A4 G4 D4 B3>': 71, '<music21.chord.Chord A4 G4 D4 D3>': 72, '<music21.chord.Chord A4 G4>': 73, '<music21.chord.Chord A4>': 74, '<music21.chord.Chord A5 A4>': 75, '<music21.chord.Chord A5 A5 A6>': 76, '<music21.chord.Chord A5 A6>': 77, '<music21.chord.Chord A5 F5 D5>': 78, '<music21.chord.Chord A5 G5>': 79, '<music21.chord.Chord A5>': 80, '<music21.chord.Chord B-2 F2>': 81, '<music21.chord.Chord B-2 F3 B-3>': 82, '<music21.chord.Chord B-2 F3>': 83, '<music21.chord.Chord B-2>': 84, '<music21.chord.Chord B-3 B-2>': 85, '<music21.chord.Chord B-3 C4>': 86, '<music21.chord.Chord B-3 D3>': 87, '<music21.chord.Chord B-3 E-3 B-2>': 88, '<music21.chord.Chord B-3 E-3>': 89, '<music21.chord.Chord B-3 E3>': 90, '<music21.chord.Chord B-3 F#3>': 91, '<music21.chord.Chord B-3 F3 B-2>': 92, '<music21.chord.Chord B-3 F3>': 93, '<music21.chord.Chord B-3>': 94, '<music21.chord.Chord B-4 A4>': 95, '<music21.chord.Chord B-4 B-3>': 96, '<music21.chord.Chord B-4 F#4 C#4 F#3>': 97, '<music21.chord.Chord B-4 F#4>': 98, '<music21.chord.Chord B-4 F4 D4>': 99, '<music21.chord.Chord B-4 F4>': 100, '<music21.chord.Chord B-4 G#4>': 101, '<music21.chord.Chord B-4>': 102, '<music21.chord.Chord B-5>': 103, '<music21.chord.Chord B2 B3 F#3>': 104, '<music21.chord.Chord B2 B3>': 105, '<music21.chord.Chord B2 D3 G3 B3>': 106, '<music21.chord.Chord B2 E2>': 107, '<music21.chord.Chord B2 E3 G3>': 108, '<music21.chord.Chord B2 F#3 B3>': 109, '<music21.chord.Chord B2 F#3>': 110, '<music21.chord.Chord B2 G2>': 111, '<music21.chord.Chord B2>': 112, '<music21.chord.Chord B3 A3>': 113, '<music21.chord.Chord B3 A4 D3>': 114, '<music21.chord.Chord B3 B2>': 115, '<music21.chord.Chord B3 B3 B4>': 116, '<music21.chord.Chord B3 B3>': 117, '<music21.chord.Chord B3 B4>': 118, '<music21.chord.Chord B3 C#4>': 119, '<music21.chord.Chord B3 D3 A2>': 120, '<music21.chord.Chord B3 D3>': 121, '<music21.chord.Chord B3 D4 G4>': 122, '<music21.chord.Chord B3 E-3>': 123, '<music21.chord.Chord B3 E3 B2 E2>': 124, '<music21.chord.Chord B3 E3 E2>': 125, '<music21.chord.Chord B3 E3 E4>': 126, '<music21.chord.Chord B3 E3>': 127, '<music21.chord.Chord B3 E4 A3 F3>': 128, '<music21.chord.Chord B3 E4 A3>': 129, '<music21.chord.Chord B3 E4 B3 E3>': 130, '<music21.chord.Chord B3 E4 E3>': 131, '<music21.chord.Chord B3 E4 G3>': 132, '<music21.chord.Chord B3 E4 G4>': 133, '<music21.chord.Chord B3 E4>': 134, '<music21.chord.Chord B3 F#3 B2>': 135, '<music21.chord.Chord B3 F#3>': 136, '<music21.chord.Chord B3 F#4>': 137, '<music21.chord.Chord B3 F3>': 138, '<music21.chord.Chord B3 G#3 A2>': 139, '<music21.chord.Chord B3 G#3 E3>': 140, '<music21.chord.Chord B3 G#3>': 141, '<music21.chord.Chord B3 G3 D3 E2>': 142, '<music21.chord.Chord B3 G3 D3 G2>': 143, '<music21.chord.Chord B3 G3 D3>': 144, '<music21.chord.Chord B3 G3 E3>': 145, '<music21.chord.Chord B3 G3 G3 B2>': 146, '<music21.chord.Chord B3 G3>': 147, '<music21.chord.Chord B3>': 148, '<music21.chord.Chord B4 A4>': 149, '<music21.chord.Chord B4 B3>': 150, '<music21.chord.Chord B4 B4>': 151, '<music21.chord.Chord B4 B5 G4 G5 D4 D5>': 152, '<music21.chord.Chord B4 B5>': 153, '<music21.chord.Chord B4 E4 B3 E3>': 154, '<music21.chord.Chord B4 E4>': 155, '<music21.chord.Chord B4 E5>': 156, '<music21.chord.Chord B4 F#4 B3>': 157, '<music21.chord.Chord B4 F#4 E4>': 158, '<music21.chord.Chord B4 F#4>': 159, '<music21.chord.Chord B4 F4 C4 F3>': 160, '<music21.chord.Chord B4 G#4>': 161, '<music21.chord.Chord B4 G3>': 162, '<music21.chord.Chord B4 G4 D4>': 163, '<music21.chord.Chord B4 G4 E4 B3 E3>': 164, '<music21.chord.Chord B4 G4>': 165, '<music21.chord.Chord B4>': 166, '<music21.chord.Chord B5 A5>': 167, '<music21.chord.Chord B5 B6>': 168, '<music21.chord.Chord B5>': 169, '<music21.chord.Chord C#3 F#2>': 170, '<music21.chord.Chord C#3 G#3>': 171, '<music21.chord.Chord C#3 G2>': 172, '<music21.chord.Chord C#3>': 173, '<music21.chord.Chord C#4 A3 C#3>': 174, '<music21.chord.Chord C#4 A3 E3 A2>': 175, '<music21.chord.Chord C#4 A3 E3>': 176, '<music21.chord.Chord C#4 A3 F#3 C#3 F#2>': 177, '<music21.chord.Chord C#4 A3>': 178, '<music21.chord.Chord C#4 B3>': 179, '<music21.chord.Chord C#4 C#5>': 180, '<music21.chord.Chord C#4 E3>': 181, '<music21.chord.Chord C#4 F#3>': 182, '<music21.chord.Chord C#4 G#3 C#3 A2>': 183, '<music21.chord.Chord C#4 G#3 C#3>': 184, '<music21.chord.Chord C#4 G#3>': 185, '<music21.chord.Chord C#4 G3>': 186, '<music21.chord.Chord C#4>': 187, '<music21.chord.Chord C#5 A4>': 188, '<music21.chord.Chord C#5 C#6>': 189, '<music21.chord.Chord C#5>': 190, '<music21.chord.Chord C#6>': 191, '<music21.chord.Chord C3 C4 B3>': 192, '<music21.chord.Chord C3 C4>': 193, '<music21.chord.Chord C3 E2>': 194, '<music21.chord.Chord C3 E3 A3>': 195, '<music21.chord.Chord C3 E3 G3>': 196, '<music21.chord.Chord C3 E3>': 197, '<music21.chord.Chord C3 E4>': 198, '<music21.chord.Chord C3 F2>': 199, '<music21.chord.Chord C3 F3 C4>': 200, '<music21.chord.Chord C3 F3 G3>': 201, '<music21.chord.Chord C3 G2>': 202, '<music21.chord.Chord C3 G3 C4 D4 G4>': 203, '<music21.chord.Chord C3 G3 C4 D4>': 204, '<music21.chord.Chord C3 G3 C4 E4>': 205, '<music21.chord.Chord C3 G3 C4>': 206, '<music21.chord.Chord C3 G3>': 207, '<music21.chord.Chord C3>': 208, '<music21.chord.Chord C4 A3 E3 A2>': 209, '<music21.chord.Chord C4 A3 E3>': 210, '<music21.chord.Chord C4 A3 F3 C3 F2>': 211, '<music21.chord.Chord C4 A3 F3 C3>': 212, '<music21.chord.Chord C4 A3 F3>': 213, '<music21.chord.Chord C4 A3>': 214, '<music21.chord.Chord C4 B-3 F3>': 215, '<music21.chord.Chord C4 B-3>': 216, '<music21.chord.Chord C4 B3>': 217, '<music21.chord.Chord C4 C3>': 218, '<music21.chord.Chord C4 C5>': 219, '<music21.chord.Chord C4 D3>': 220, '<music21.chord.Chord C4 D4>': 221, '<music21.chord.Chord C4 E3 C3>': 222, '<music21.chord.Chord C4 E3>': 223, '<music21.chord.Chord C4 E4 A4>': 224, '<music21.chord.Chord C4 E4 G3>': 225, '<music21.chord.Chord C4 E4>': 226, '<music21.chord.Chord C4 F3 C3>': 227, '<music21.chord.Chord C4 F3>': 228, '<music21.chord.Chord C4 F4 G4>': 229, '<music21.chord.Chord C4 F4>': 230, '<music21.chord.Chord C4 G3 C3 G2>': 231, '<music21.chord.Chord C4 G3 C3>': 232, '<music21.chord.Chord C4 G3 D3>': 233, '<music21.chord.Chord C4 G3 E3 C3>': 234, '<music21.chord.Chord C4 G3>': 235, '<music21.chord.Chord C4>': 236, '<music21.chord.Chord C5 A4>': 237, '<music21.chord.Chord C5 B-4>': 238, '<music21.chord.Chord C5 C4>': 239, '<music21.chord.Chord C5 C5>': 240, '<music21.chord.Chord C5 C6>': 241, '<music21.chord.Chord C5 E5>': 242, '<music21.chord.Chord C5 F4 C4 F3>': 243, '<music21.chord.Chord C5 F5>': 244, '<music21.chord.Chord C5 G4 E4 C4 G3 C3>': 245, '<music21.chord.Chord C5 G4 E4>': 246, '<music21.chord.Chord C5 G4>': 247, '<music21.chord.Chord C5>': 248, '<music21.chord.Chord C6>': 249, '<music21.chord.Chord D2>': 250, '<music21.chord.Chord D3 A2 D2>': 251, '<music21.chord.Chord D3 A2 E2>': 252, '<music21.chord.Chord D3 A2 F#2>': 253, '<music21.chord.Chord D3 A2>': 254, '<music21.chord.Chord D3 A3 A2>': 255, '<music21.chord.Chord D3 A3 D4 E4 A4>': 256, '<music21.chord.Chord D3 A3 D4 E4>': 257, '<music21.chord.Chord D3 A3 D4 F#4>': 258, '<music21.chord.Chord D3 A3 D4>': 259, '<music21.chord.Chord D3 A3>': 260, '<music21.chord.Chord D3 B-3>': 261, '<music21.chord.Chord D3 B2>': 262, '<music21.chord.Chord D3 C#3>': 263, '<music21.chord.Chord D3 C4>': 264, '<music21.chord.Chord D3 D3>': 265, '<music21.chord.Chord D3 D4>': 266, '<music21.chord.Chord D3 E-4>': 267, '<music21.chord.Chord D3 E2>': 268, '<music21.chord.Chord D3 E3 A2>': 269, '<music21.chord.Chord D3 F#2>': 270, '<music21.chord.Chord D3 F#3 G3>': 271, '<music21.chord.Chord D3 F#4>': 272, '<music21.chord.Chord D3 G2>': 273, '<music21.chord.Chord D3 G3 B3>': 274, '<music21.chord.Chord D3 G3>': 275, '<music21.chord.Chord D3>': 276, '<music21.chord.Chord D4 A3 A2>': 277, '<music21.chord.Chord D4 A3 D3 A2 D2>': 278, '<music21.chord.Chord D4 A3 D3 A2>': 279, '<music21.chord.Chord D4 A3 D3 D2>': 280, '<music21.chord.Chord D4 A3 D3 F#2>': 281, '<music21.chord.Chord D4 A3 D3>': 282, '<music21.chord.Chord D4 A3 E3>': 283, '<music21.chord.Chord D4 A3>': 284, '<music21.chord.Chord D4 A4>': 285, '<music21.chord.Chord D4 B-3 D3 A2 D2>': 286, '<music21.chord.Chord D4 B-3 D3>': 287, '<music21.chord.Chord D4 B-3 F3>': 288, '<music21.chord.Chord D4 B-3>': 289, '<music21.chord.Chord D4 B3 E3>': 290, '<music21.chord.Chord D4 B3 G3 D3>': 291, '<music21.chord.Chord D4 B3 G3>': 292, '<music21.chord.Chord D4 B3>': 293, '<music21.chord.Chord D4 C4 G3 C3>': 294, '<music21.chord.Chord D4 C4 G3 D3>': 295, '<music21.chord.Chord D4 C4 G3>': 296, '<music21.chord.Chord D4 C4>': 297, '<music21.chord.Chord D4 D3>': 298, '<music21.chord.Chord D4 D4 D5>': 299, '<music21.chord.Chord D4 D5>': 300, '<music21.chord.Chord D4 E3>': 301, '<music21.chord.Chord D4 E4>': 302, '<music21.chord.Chord D4 F#3>': 303, '<music21.chord.Chord D4 F#4>': 304, '<music21.chord.Chord D4 F3>': 305, '<music21.chord.Chord D4 F4>': 306, '<music21.chord.Chord D4 G#3 D3>': 307, '<music21.chord.Chord D4 G3 C3>': 308, '<music21.chord.Chord D4 G3 D3 A2 G2>': 309, '<music21.chord.Chord D4 G3 D3 B2>': 310, '<music21.chord.Chord D4 G3 D3 G2>': 311, '<music21.chord.Chord D4 G3 D3>': 312, '<music21.chord.Chord D4 G3 E3>': 313, '<music21.chord.Chord D4 G3>': 314, '<music21.chord.Chord D4 G4 G3 D3>': 315, '<music21.chord.Chord D4 G4>': 316, '<music21.chord.Chord D4>': 317, '<music21.chord.Chord D5 A4 D3>': 318, '<music21.chord.Chord D5 A4 D4>': 319, '<music21.chord.Chord D5 A4>': 320, '<music21.chord.Chord D5 B-4>': 321, '<music21.chord.Chord D5 B3>': 322, '<music21.chord.Chord D5 B4>': 323, '<music21.chord.Chord D5 C5>': 324, '<music21.chord.Chord D5 D4>': 325, '<music21.chord.Chord D5 D5 D6>': 326, '<music21.chord.Chord D5 D6>': 327, '<music21.chord.Chord D5 F5>': 328, '<music21.chord.Chord D5 G3 G4>': 329, '<music21.chord.Chord D5 G4 D4 G3>': 330, '<music21.chord.Chord D5 G5>': 331, '<music21.chord.Chord D5>': 332, '<music21.chord.Chord D6 D5>': 333, '<music21.chord.Chord D6>': 334, '<music21.chord.Chord E-3 G#2>': 335, '<music21.chord.Chord E-3>': 336, '<music21.chord.Chord E-4 B-3 E-3>': 337, '<music21.chord.Chord E-4 B-3>': 338, '<music21.chord.Chord E-4 B2>': 339, '<music21.chord.Chord E-4 B3 F#3 B2>': 340, '<music21.chord.Chord E-4 B3 F#3>': 341, '<music21.chord.Chord E-4 D4>': 342, '<music21.chord.Chord E-4 G#3>': 343, '<music21.chord.Chord E-4>': 344, '<music21.chord.Chord E-5 B4>': 345, '<music21.chord.Chord E-5 C5>': 346, '<music21.chord.Chord E-5>': 347, '<music21.chord.Chord E2 A2 E3 A3>': 348, '<music21.chord.Chord E2 A2>': 349, '<music21.chord.Chord E2 B2 E3 B3>': 350, '<music21.chord.Chord E2 B2 E3 G3 B3 E4>': 351, '<music21.chord.Chord E2 B2 E3 G3 B3>': 352, '<music21.chord.Chord E2 B2 E3>': 353, '<music21.chord.Chord E2 B2>': 354, '<music21.chord.Chord E2 E3 B3 E4 B3 E4>': 355, '<music21.chord.Chord E2 E3 B3 E4 B3>': 356, '<music21.chord.Chord E2 E3 B3 E4>': 357, '<music21.chord.Chord E2 E3 B3>': 358, '<music21.chord.Chord E2 E3>': 359, '<music21.chord.Chord E2>': 360, '<music21.chord.Chord E3 A2>': 361, '<music21.chord.Chord E3 A3 B3>': 362, '<music21.chord.Chord E3 A3 C#4 E4>': 363, '<music21.chord.Chord E3 A3 C#4>': 364, '<music21.chord.Chord E3 A3 C4>': 365, '<music21.chord.Chord E3 A3 D4>': 366, '<music21.chord.Chord E3 A3>': 367, '<music21.chord.Chord E3 B2 E2>': 368, '<music21.chord.Chord E3 B2>': 369, '<music21.chord.Chord E3 B3 E4 G4 B4>': 370, '<music21.chord.Chord E3 B3 E4 G4>': 371, '<music21.chord.Chord E3 B3 E4>': 372, '<music21.chord.Chord E3 B3>': 373, '<music21.chord.Chord E3 C3 G2>': 374, '<music21.chord.Chord E3 C3>': 375, '<music21.chord.Chord E3 C4>': 376, '<music21.chord.Chord E3 E2 B3 E4>': 377, '<music21.chord.Chord E3 E2>': 378, '<music21.chord.Chord E3 E4 B3>': 379, '<music21.chord.Chord E3 E4>': 380, '<music21.chord.Chord E3 G#2>': 381, '<music21.chord.Chord E3 G4>': 382, '<music21.chord.Chord E3>': 383, '<music21.chord.Chord E4 A3 E3 A2>': 384, '<music21.chord.Chord E4 A3 E3>': 385, '<music21.chord.Chord E4 A3>': 386, '<music21.chord.Chord E4 A4 E4 D3>': 387, '<music21.chord.Chord E4 A4>': 388, '<music21.chord.Chord E4 B-4 F4 D3>': 389, '<music21.chord.Chord E4 B3 A3 F#3 F#2>': 390, '<music21.chord.Chord E4 B3 A3 F#3>': 391, '<music21.chord.Chord E4 B3 A3 F3 C3 F2>': 392, '<music21.chord.Chord E4 B3 A3>': 393, '<music21.chord.Chord E4 B3 B3 E3 B2 E2>': 394, '<music21.chord.Chord E4 B3 C4 G3 C3>': 395, '<music21.chord.Chord E4 B3 E3 B2 E2>': 396, '<music21.chord.Chord E4 B3 E3 B2>': 397, '<music21.chord.Chord E4 B3 E3 E2>': 398, '<music21.chord.Chord E4 B3 E3>': 399, '<music21.chord.Chord E4 B3 E4 B3 E3 E2>': 400, '<music21.chord.Chord E4 B3 E4 B3 E3>': 401, '<music21.chord.Chord E4 B3 E4 E3>': 402, '<music21.chord.Chord E4 B3 E4>': 403, '<music21.chord.Chord E4 B3 F#3 C#3>': 404, '<music21.chord.Chord E4 B3 F#3>': 405, '<music21.chord.Chord E4 B3 G#3 E3 B2 E2>': 406, '<music21.chord.Chord E4 B3 G#3 E3 B2>': 407, '<music21.chord.Chord E4 B3 G#3 E3 G#2>': 408, '<music21.chord.Chord E4 B3 G#3 E3>': 409, '<music21.chord.Chord E4 B3 G#3>': 410, '<music21.chord.Chord E4 B3 G3 D3>': 411, '<music21.chord.Chord E4 B3 G3 E3 B2 E2>': 412, '<music21.chord.Chord E4 B3 G3>': 413, '<music21.chord.Chord E4 B3 G4>': 414, '<music21.chord.Chord E4 B3>': 415, '<music21.chord.Chord E4 B4>': 416, '<music21.chord.Chord E4 C#4 A3 E3 A2>': 417, '<music21.chord.Chord E4 C#4>': 418, '<music21.chord.Chord E4 C3>': 419, '<music21.chord.Chord E4 C4 A3 E3 A2>': 420, '<music21.chord.Chord E4 C4 D3 A2 D2>': 421, '<music21.chord.Chord E4 C4 D3>': 422, '<music21.chord.Chord E4 C4 G3 C3>': 423, '<music21.chord.Chord E4 C4 G3 E3 A2>': 424, '<music21.chord.Chord E4 C4 G3 E3 C3>': 425, '<music21.chord.Chord E4 C4 G3>': 426, '<music21.chord.Chord E4 C4>': 427, '<music21.chord.Chord E4 C5 G4 D3>': 428, '<music21.chord.Chord E4 C5>': 429, '<music21.chord.Chord E4 D3>': 430, '<music21.chord.Chord E4 D4 A3 A2>': 431, '<music21.chord.Chord E4 D4 A3 D3>': 432, '<music21.chord.Chord E4 D4 A3 E3>': 433, '<music21.chord.Chord E4 D4 A3>': 434, '<music21.chord.Chord E4 D4>': 435, '<music21.chord.Chord E4 D5 A4 D3>': 436, '<music21.chord.Chord E4 E2>': 437, '<music21.chord.Chord E4 E3 B2 E2>': 438, '<music21.chord.Chord E4 E3>': 439, '<music21.chord.Chord E4 E4 B3>': 440, '<music21.chord.Chord E4 E4 D4 D3>': 441, '<music21.chord.Chord E4 E4 E5>': 442, '<music21.chord.Chord E4 E4>': 443, '<music21.chord.Chord E4 E5>': 444, '<music21.chord.Chord E4 F#4>': 445, '<music21.chord.Chord E4 F4 D4 D3>': 446, '<music21.chord.Chord E4 G2 D3 G3 C4>': 447, '<music21.chord.Chord E4 G3>': 448, '<music21.chord.Chord E4 G4 D4 D3>': 449, '<music21.chord.Chord E4 G4>': 450, '<music21.chord.Chord E4>': 451, '<music21.chord.Chord E5 B4 G4>': 452, '<music21.chord.Chord E5 B4>': 453, '<music21.chord.Chord E5 C#5>': 454, '<music21.chord.Chord E5 C5>': 455, '<music21.chord.Chord E5 D5>': 456, '<music21.chord.Chord E5 E5 E6>': 457, '<music21.chord.Chord E5 E6 B4 B5 G4 G5>': 458, '<music21.chord.Chord E5 E6>': 459, '<music21.chord.Chord E5 G5>': 460, '<music21.chord.Chord E5>': 461, '<music21.chord.Chord E6 E7>': 462, '<music21.chord.Chord E6>': 463, '<music21.chord.Chord F#2>': 464, '<music21.chord.Chord F#3 A2>': 465, '<music21.chord.Chord F#3 B2>': 466, '<music21.chord.Chord F#3 C#3 F#2>': 467, '<music21.chord.Chord F#3 D3 F#2>': 468, '<music21.chord.Chord F#3 D3>': 469, '<music21.chord.Chord F#3 D4 F#4>': 470, '<music21.chord.Chord F#3 G3>': 471, '<music21.chord.Chord F#3>': 472, '<music21.chord.Chord F#4 A3>': 473, '<music21.chord.Chord F#4 B3 F#3 B2>': 474, '<music21.chord.Chord F#4 B3>': 475, '<music21.chord.Chord F#4 B4>': 476, '<music21.chord.Chord F#4 C#4 B-3>': 477, '<music21.chord.Chord F#4 C#4 F#3>': 478, '<music21.chord.Chord F#4 C#4>': 479, '<music21.chord.Chord F#4 C4>': 480, '<music21.chord.Chord F#4 D3>': 481, '<music21.chord.Chord F#4 D4 A3 D3>': 482, '<music21.chord.Chord F#4 D4 A3>': 483, '<music21.chord.Chord F#4 D4 B3>': 484, '<music21.chord.Chord F#4 D4 F#3>': 485, '<music21.chord.Chord F#4 D4>': 486, '<music21.chord.Chord F#4 E3>': 487, '<music21.chord.Chord F#4 E4 B3 E3>': 488, '<music21.chord.Chord F#4 E4>': 489, '<music21.chord.Chord F#4 F#3>': 490, '<music21.chord.Chord F#4 F#5>': 491, '<music21.chord.Chord F#4>': 492, '<music21.chord.Chord F#5 B2>': 493, '<music21.chord.Chord F#5 D5>': 494, '<music21.chord.Chord F#5 E5>': 495, '<music21.chord.Chord F#5 F#4>': 496, '<music21.chord.Chord F#5 F#6 D5 D6 A4 A5 E4 E5>': 497, '<music21.chord.Chord F#5 F#6 D5 D6 A4 A5>': 498, '<music21.chord.Chord F#5 F#6 D5 D6>': 499, '<music21.chord.Chord F#5 F#6>': 500, '<music21.chord.Chord F#5>': 501, '<music21.chord.Chord F2 C3 F3 A3 B3 E4>': 502, '<music21.chord.Chord F2 C3 F3 A3 B3>': 503, '<music21.chord.Chord F2 C3 F3 A3>': 504, '<music21.chord.Chord F2 C3 F3>': 505, '<music21.chord.Chord F2 C3>': 506, '<music21.chord.Chord F2>': 507, '<music21.chord.Chord F3 A2>': 508, '<music21.chord.Chord F3 B-2 F2>': 509, '<music21.chord.Chord F3 B-2>': 510, '<music21.chord.Chord F3 B3 F4>': 511, '<music21.chord.Chord F3 C3 F2>': 512, '<music21.chord.Chord F3 C3>': 513, '<music21.chord.Chord F3 C4 F4>': 514, '<music21.chord.Chord F3 C4>': 515, '<music21.chord.Chord F3 F2>': 516, '<music21.chord.Chord F3 F4>': 517, '<music21.chord.Chord F3>': 518, '<music21.chord.Chord F4 A3>': 519, '<music21.chord.Chord F4 C4 A3 A2>': 520, '<music21.chord.Chord F4 C4 A3>': 521, '<music21.chord.Chord F4 C4 B-3 F3 B-2>': 522, '<music21.chord.Chord F4 C4 F3 A2>': 523, '<music21.chord.Chord F4 C4 F3 C3 F2>': 524, '<music21.chord.Chord F4 C4 F3 C3>': 525, '<music21.chord.Chord F4 C4 F3>': 526, '<music21.chord.Chord F4 C4 G3>': 527, '<music21.chord.Chord F4 C4>': 528, '<music21.chord.Chord F4 D4 A3 D3 D2>': 529, '<music21.chord.Chord F4 D4 A3 D3>': 530, '<music21.chord.Chord F4 D4 A3>': 531, '<music21.chord.Chord F4 D4 B-3>': 532, '<music21.chord.Chord F4 D4 D3>': 533, '<music21.chord.Chord F4 D4 G3>': 534, '<music21.chord.Chord F4 D4>': 535, '<music21.chord.Chord F4 E-4>': 536, '<music21.chord.Chord F4 E4>': 537, '<music21.chord.Chord F4 F3>': 538, '<music21.chord.Chord F4 F5>': 539, '<music21.chord.Chord F4>': 540, '<music21.chord.Chord F5 C5 G4>': 541, '<music21.chord.Chord F5 C5>': 542, '<music21.chord.Chord F5 D5 B-4>': 543, '<music21.chord.Chord F5 D5>': 544, '<music21.chord.Chord F5 E-5>': 545, '<music21.chord.Chord F5 F6>': 546, '<music21.chord.Chord F5>': 547, '<music21.chord.Chord G#2>': 548, '<music21.chord.Chord G#3 A2>': 549, '<music21.chord.Chord G#3 C#3>': 550, '<music21.chord.Chord G#3 C3>': 551, '<music21.chord.Chord G#3 D3>': 552, '<music21.chord.Chord G#3 E-3 G#2>': 553, '<music21.chord.Chord G#3 E-3>': 554, '<music21.chord.Chord G#3 E3 A2>': 555, '<music21.chord.Chord G#3 E3 B2 E2>': 556, '<music21.chord.Chord G#3 E3 B2>': 557, '<music21.chord.Chord G#3 E3>': 558, '<music21.chord.Chord G#3>': 559, '<music21.chord.Chord G#4 C#4>': 560, '<music21.chord.Chord G#4 E-4 B-3>': 561, '<music21.chord.Chord G#4 E-4>': 562, '<music21.chord.Chord G#4 E4>': 563, '<music21.chord.Chord G#4 F#4>': 564, '<music21.chord.Chord G#4 G#3>': 565, '<music21.chord.Chord G#4 G#5>': 566, '<music21.chord.Chord G#4>': 567, '<music21.chord.Chord G#5>': 568, '<music21.chord.Chord G2 B2 D3 G3 B3 G4>': 569, '<music21.chord.Chord G2 B2 D3 G3 D4>': 570, '<music21.chord.Chord G2 B2 D3>': 571, '<music21.chord.Chord G2 C3 G3 C4>': 572, '<music21.chord.Chord G2 D3 G3 D4 G4>': 573, '<music21.chord.Chord G2 D3 G3>': 574, '<music21.chord.Chord G2 D3>': 575, '<music21.chord.Chord G2 G3 D3>': 576, '<music21.chord.Chord G2>': 577, '<music21.chord.Chord G3 A2>': 578, '<music21.chord.Chord G3 B2>': 579, '<music21.chord.Chord G3 B3 E3 B2>': 580, '<music21.chord.Chord G3 B3>': 581, '<music21.chord.Chord G3 C3 G2>': 582, '<music21.chord.Chord G3 C3>': 583, '<music21.chord.Chord G3 C4 E4>': 584, '<music21.chord.Chord G3 C4 F4>': 585, '<music21.chord.Chord G3 C4>': 586, '<music21.chord.Chord G3 D3 A2 E2>': 587, '<music21.chord.Chord G3 D3 A2>': 588, '<music21.chord.Chord G3 D3 E2>': 589, '<music21.chord.Chord G3 D3 G2>': 590, '<music21.chord.Chord G3 D3>': 591, '<music21.chord.Chord G3 D4 G4>': 592, '<music21.chord.Chord G3 D4>': 593, '<music21.chord.Chord G3 E3 C3>': 594, '<music21.chord.Chord G3 E3>': 595, '<music21.chord.Chord G3 E4 C4>': 596, '<music21.chord.Chord G3 F3 C3 F2>': 597, '<music21.chord.Chord G3 G3 B2>': 598, '<music21.chord.Chord G3 G3 G4>': 599, '<music21.chord.Chord G3 G4>': 600, '<music21.chord.Chord G3>': 601, '<music21.chord.Chord G4 B3 G3 D3 B2 G2>': 602, '<music21.chord.Chord G4 B3>': 603, '<music21.chord.Chord G4 B4>': 604, '<music21.chord.Chord G4 C4 G3 C3>': 605, '<music21.chord.Chord G4 C4 G3 E3 A2>': 606, '<music21.chord.Chord G4 C4>': 607, '<music21.chord.Chord G4 D4 A2>': 608, '<music21.chord.Chord G4 D4 A3 D3>': 609, '<music21.chord.Chord G4 D4 A3>': 610, '<music21.chord.Chord G4 D4 B-3 F3>': 611, '<music21.chord.Chord G4 D4 B-3>': 612, '<music21.chord.Chord G4 D4 B3 G3 D3 G2>': 613, '<music21.chord.Chord G4 D4 B3 G3>': 614, '<music21.chord.Chord G4 D4 B3>': 615, '<music21.chord.Chord G4 D4 C4 G3 C3>': 616, '<music21.chord.Chord G4 D4 C4>': 617, '<music21.chord.Chord G4 D4 D3>': 618, '<music21.chord.Chord G4 D4 F#3>': 619, '<music21.chord.Chord G4 D4 G3 A2>': 620, '<music21.chord.Chord G4 D4 G3 C3>': 621, '<music21.chord.Chord G4 D4 G3 D3 A2>': 622, '<music21.chord.Chord G4 D4 G3 D3 B2 G2>': 623, '<music21.chord.Chord G4 D4 G3 D3 G2>': 624, '<music21.chord.Chord G4 D4 G3 D3>': 625, '<music21.chord.Chord G4 D4 G3 G3 D3>': 626, '<music21.chord.Chord G4 D4 G3>': 627, '<music21.chord.Chord G4 D4>': 628, '<music21.chord.Chord G4 E-4 C4>': 629, '<music21.chord.Chord G4 E-4>': 630, '<music21.chord.Chord G4 E3>': 631, '<music21.chord.Chord G4 E4 B3 E3>': 632, '<music21.chord.Chord G4 E4 B3>': 633, '<music21.chord.Chord G4 E4 C4 G3 C3>': 634, '<music21.chord.Chord G4 E4>': 635, '<music21.chord.Chord G4 F#4>': 636, '<music21.chord.Chord G4 F4>': 637, '<music21.chord.Chord G4 G3>': 638, '<music21.chord.Chord G4 G4>': 639, '<music21.chord.Chord G4 G5 D4 D5>': 640, '<music21.chord.Chord G4 G5>': 641, '<music21.chord.Chord G4>': 642, '<music21.chord.Chord G5 C5>': 643, '<music21.chord.Chord G5 D5>': 644, '<music21.chord.Chord G5 E-5 C5>': 645, '<music21.chord.Chord G5 E5 C5>': 646, '<music21.chord.Chord G5 F5>': 647, '<music21.chord.Chord G5 G4>': 648, '<music21.chord.Chord G5 G5 G6>': 649, '<music21.chord.Chord G5 G6 D5 D6>': 650, '<music21.chord.Chord G5 G6>': 651, '<music21.chord.Chord G5>': 652, '<music21.note.Rest rest>': 653}\n",
            "654\n",
            "[[0.61009174]\n",
            " [0.61009174]\n",
            " [0.61009174]\n",
            " [0.61009174]\n",
            " [0.61009174]\n",
            " [0.61009174]\n",
            " [0.61009174]\n",
            " [0.61009174]\n",
            " [0.61009174]\n",
            " [0.98012232]]\n",
            "(215011, 10, 1)\n",
            "(215011, 86)\n"
          ],
          "name": "stdout"
        }
      ]
    },
    {
      "cell_type": "code",
      "metadata": {
        "id": "mdtQ0Cjd8Nlf",
        "colab": {
          "base_uri": "https://localhost:8080/"
        },
        "outputId": "d1df91fa-a6ac-4049-b77d-15dfc3a357e1"
      },
      "source": [
        "debugarray = []\r\n",
        "for i in midiparts:\r\n",
        "    debugarray.append(i.instrument)\r\n",
        "\r\n",
        "print(set(debugarray))"
      ],
      "execution_count": null,
      "outputs": [
        {
          "output_type": "stream",
          "text": [
            "{'Electric Organ', 'Xylophone', 'Celesta', 'Viola', 'Electric Bass', 'Sampler', 'Brass', 'Acoustic Guitar', 'Voice', 'Electric Guitar', 'Acoustic Bass', 'Vibraphone', 'Accordion', 'Piano', 'StringInstrument', 'Violoncello'}\n"
          ],
          "name": "stdout"
        }
      ]
    }
  ]
}