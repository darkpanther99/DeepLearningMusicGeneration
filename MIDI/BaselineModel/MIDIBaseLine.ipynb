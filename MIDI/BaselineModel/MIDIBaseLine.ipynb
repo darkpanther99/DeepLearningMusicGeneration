{
  "nbformat": 4,
  "nbformat_minor": 0,
  "metadata": {
    "accelerator": "GPU",
    "colab": {
      "name": "MIDIBaseLine.ipynb",
      "provenance": [],
      "toc_visible": true
    },
    "kernelspec": {
      "display_name": "Python 3",
      "name": "python3"
    }
  },
  "cells": [
    {
      "cell_type": "markdown",
      "metadata": {
        "id": "-YJCHgcz7cxh"
      },
      "source": [
        "# IMPORT SECTION"
      ]
    },
    {
      "cell_type": "code",
      "metadata": {
        "id": "PLllP-Xw0KWv",
        "colab": {
          "base_uri": "https://localhost:8080/"
        },
        "outputId": "a6ad5313-c1ea-4bef-b4bf-4a4b2be8ab55"
      },
      "source": [
        "!pip install --upgrade music21\r\n",
        "from music21 import converter, instrument, note, chord\r\n",
        "import os\r\n",
        "from tqdm import tqdm\r\n",
        "import numpy as np\r\n",
        "from keras.utils import to_categorical\r\n",
        "from keras.models import Sequential\r\n",
        "from keras.layers import LSTM, Dense, Flatten, Dropout\r\n",
        "%load_ext tensorboard \r\n",
        "from tensorboard import notebook\r\n",
        "from keras.callbacks import TensorBoard\r\n",
        "from keras.callbacks import ReduceLROnPlateau\r\n",
        "from keras.callbacks import EarlyStopping"
      ],
      "execution_count": null,
      "outputs": [
        {
          "output_type": "stream",
          "text": [
            "Collecting music21\n",
            "\u001b[?25l  Downloading https://files.pythonhosted.org/packages/43/f3/da0ab10ffb5e58e2690b8dff310bb53f35af213a8853ec72c08df41ea080/music21-6.7.1.tar.gz (19.2MB)\n",
            "\u001b[K     |████████████████████████████████| 19.3MB 1.2MB/s \n",
            "\u001b[?25hRequirement already satisfied, skipping upgrade: chardet in /usr/local/lib/python3.7/dist-packages (from music21) (3.0.4)\n",
            "Requirement already satisfied, skipping upgrade: joblib in /usr/local/lib/python3.7/dist-packages (from music21) (1.0.1)\n",
            "Requirement already satisfied, skipping upgrade: more-itertools in /usr/local/lib/python3.7/dist-packages (from music21) (8.7.0)\n",
            "Collecting webcolors\n",
            "  Downloading https://files.pythonhosted.org/packages/12/05/3350559de9714b202e443a9e6312937341bd5f79f4e4f625744295e7dd17/webcolors-1.11.1-py3-none-any.whl\n",
            "Building wheels for collected packages: music21\n",
            "  Building wheel for music21 (setup.py) ... \u001b[?25l\u001b[?25hdone\n",
            "  Created wheel for music21: filename=music21-6.7.1-cp37-none-any.whl size=21941694 sha256=108775d8e7b7cc09a78abfbc5558bd619035824294e2a270511d4aa3bfaa06f4\n",
            "  Stored in directory: /root/.cache/pip/wheels/1a/0f/0e/f78ad56a2738f4ea5082dd4283d7b7cce18a8ba20c3e609b6c\n",
            "Successfully built music21\n",
            "Installing collected packages: webcolors, music21\n",
            "  Found existing installation: music21 5.5.0\n",
            "    Uninstalling music21-5.5.0:\n",
            "      Successfully uninstalled music21-5.5.0\n",
            "Successfully installed music21-6.7.1 webcolors-1.11.1\n"
          ],
          "name": "stdout"
        }
      ]
    },
    {
      "cell_type": "code",
      "metadata": {
        "id": "84R9ah2P0Uqc",
        "colab": {
          "base_uri": "https://localhost:8080/"
        },
        "outputId": "e8170914-b751-4023-abf0-58595090eb59"
      },
      "source": [
        "\r\n",
        "from google.colab import drive\r\n",
        "\r\n",
        "drive.mount('/content/drive', force_remount=False)\r\n",
        "\r\n",
        "MIDI_PATH=\"/content/drive/My Drive/MLFolder/Onlab/MIDI_Iron_Maiden/\""
      ],
      "execution_count": null,
      "outputs": [
        {
          "output_type": "stream",
          "text": [
            "Mounted at /content/drive\n"
          ],
          "name": "stdout"
        }
      ]
    },
    {
      "cell_type": "code",
      "metadata": {
        "id": "FkVn4mWO7rde",
        "colab": {
          "base_uri": "https://localhost:8080/"
        },
        "outputId": "7e1f678d-8849-4f3c-8e7d-7a9a7ce61980"
      },
      "source": [
        "!nvidia-smi"
      ],
      "execution_count": null,
      "outputs": [
        {
          "output_type": "stream",
          "text": [
            "Sun Mar  7 11:54:44 2021       \n",
            "+-----------------------------------------------------------------------------+\n",
            "| NVIDIA-SMI 460.39       Driver Version: 460.32.03    CUDA Version: 11.2     |\n",
            "|-------------------------------+----------------------+----------------------+\n",
            "| GPU  Name        Persistence-M| Bus-Id        Disp.A | Volatile Uncorr. ECC |\n",
            "| Fan  Temp  Perf  Pwr:Usage/Cap|         Memory-Usage | GPU-Util  Compute M. |\n",
            "|                               |                      |               MIG M. |\n",
            "|===============================+======================+======================|\n",
            "|   0  Tesla P100-PCIE...  Off  | 00000000:00:04.0 Off |                    0 |\n",
            "| N/A   33C    P0    28W / 250W |      0MiB / 16280MiB |      0%      Default |\n",
            "|                               |                      |                  N/A |\n",
            "+-------------------------------+----------------------+----------------------+\n",
            "                                                                               \n",
            "+-----------------------------------------------------------------------------+\n",
            "| Processes:                                                                  |\n",
            "|  GPU   GI   CI        PID   Type   Process name                  GPU Memory |\n",
            "|        ID   ID                                                   Usage      |\n",
            "|=============================================================================|\n",
            "|  No running processes found                                                 |\n",
            "+-----------------------------------------------------------------------------+\n"
          ],
          "name": "stdout"
        }
      ]
    },
    {
      "cell_type": "markdown",
      "metadata": {
        "id": "CM8sPao2nNIk"
      },
      "source": [
        "# UTILITY FUNCTIONS SECTION"
      ]
    },
    {
      "cell_type": "code",
      "metadata": {
        "id": "8diYXI5InMZZ"
      },
      "source": [
        "#https://www.geeksforgeeks.org/python-find-most-frequent-element-in-a-list/\r\n",
        "\r\n",
        "def most_frequent(paramlist): \r\n",
        "    counter = 0\r\n",
        "    num = paramlist[0] \r\n",
        "      \r\n",
        "    for i in paramlist: \r\n",
        "        curr_frequency = paramlist.count(i) \r\n",
        "        if(curr_frequency> counter): \r\n",
        "            counter = curr_frequency \r\n",
        "            num = i \r\n",
        "  \r\n",
        "    return num \r\n",
        "\r\n",
        "#Utility functions\r\n",
        "\r\n",
        "def get_notes_from_chord(chord):\r\n",
        "    if chord.startswith(\"<music21.chord.Chord \"):\r\n",
        "        chord = chord[len(\"<music21.chord.Chord \"):]\r\n",
        "    if chord.endswith(\">\"):\r\n",
        "        chord = chord[:-1]\r\n",
        "    chord = chord.replace(\" \", \",\")\r\n",
        "    return chord\r\n",
        "\r\n",
        "def get_number_from_duration(duration):\r\n",
        "    if duration.startswith(\"<music21.duration.Duration \"):\r\n",
        "        duration = duration[len(\"<music21.duration.Duration \"):]\r\n",
        "    if duration.endswith(\">\"):\r\n",
        "        duration = duration[:-1]\r\n",
        "    duration = duration.replace(\" \", \",\")\r\n",
        "    return duration\r\n",
        "\r\n",
        "def create_mapper(chords):\r\n",
        "    pitchnames = sorted(set(str(item) for item in chords))\r\n",
        "    mapper = dict((note, number) for number, note in enumerate(pitchnames))\r\n",
        "\r\n",
        "    return mapper\r\n",
        "\r\n",
        "def encode_using_mapper(chords, mapper):\r\n",
        "    encodedsong=[]\r\n",
        "    for c in chords:\r\n",
        "        encodedsong.append(mapper[str(c)])\r\n",
        "\r\n",
        "    return encodedsong\r\n",
        "\r\n",
        "\r\n",
        "def decode_chords_using_mapper(numbers, mapper):\r\n",
        "    outputnotes = []\r\n",
        "    for number in numbers:\r\n",
        "        outputnotes.append(chord_from_string(get_notes_from_chord(get_key_from_value(number, mapper))))\r\n",
        "\r\n",
        "    return outputnotes\r\n",
        "\r\n",
        "def combine_chords_with_durations(chords, durations):\r\n",
        "    combined = []\r\n",
        "\r\n",
        "    for i, j in zip(chords, durations):\r\n",
        "        i = get_notes_from_chord(str(i))\r\n",
        "        j = get_number_from_duration(str(j))\r\n",
        "        combined.append(i + ';' + j)\r\n",
        "\r\n",
        "    return combined\r\n",
        "\r\n",
        "def make_slices(data, slice_length):\r\n",
        "    for song in tqdm(data):\r\n",
        "        if len(song) > slice_length:\r\n",
        "\r\n",
        "            input = []\r\n",
        "            output = []\r\n",
        "            slice = []\r\n",
        "\r\n",
        "            for idx, number in enumerate(song):\r\n",
        "                if idx < slice_length:\r\n",
        "                    slice.append(number)\r\n",
        "\r\n",
        "            input.append(slice.copy())\r\n",
        "            output.append(song[slice_length])\r\n",
        "\r\n",
        "            # Sliding window\r\n",
        "            for idx, number in enumerate(song):\r\n",
        "                if idx >= slice_length and (idx + 1) < len(song):\r\n",
        "                    slice.pop(0)\r\n",
        "                    slice.append(number)\r\n",
        "                    input.append(slice.copy())  # Copy is necessary, because of how pointers and lists work in Python\r\n",
        "                    output.append(song[idx + 1])\r\n",
        "\r\n",
        "    return input, output\r\n",
        "\r\n",
        "def parse_everything_together(data, slice_length):\r\n",
        "\r\n",
        "    notes=[]\r\n",
        "    input=[]\r\n",
        "    output=[]\r\n",
        "    slice = []\r\n",
        "\r\n",
        "    for song in tqdm(data):\r\n",
        "        for number in song:\r\n",
        "            notes.append(number)\r\n",
        "    \r\n",
        "    for idx, note in tqdm(enumerate(notes)):\r\n",
        "        if idx < slice_length:\r\n",
        "            slice.append(number)\r\n",
        "\r\n",
        "    input.append(slice.copy())\r\n",
        "    output.append(notes[slice_length])\r\n",
        "\r\n",
        "    # Sliding window\r\n",
        "    for idx, number in tqdm(enumerate(notes)):\r\n",
        "        if idx >= slice_length and (idx + 1) < len(notes):\r\n",
        "            slice.pop(0)\r\n",
        "            slice.append(number)\r\n",
        "            input.append(slice.copy())  # Copy is necessary, because of how pointers and lists work in Python\r\n",
        "            output.append(notes[idx + 1])\r\n",
        "        \r\n",
        "    return input, output\r\n",
        "\r\n",
        "def get_key_from_value(value, dict):\r\n",
        "    return list(dict.keys())[list(dict.values()).index(value)]\r\n",
        "\r\n",
        "def get_notes_from_chord(chord):\r\n",
        "    if chord.startswith(\"<music21.chord.Chord \"):\r\n",
        "        chord = chord[len(\"<music21.chord.Chord \"):]\r\n",
        "    if chord.endswith(\">\"):\r\n",
        "        chord = chord[:-1]\r\n",
        "    chord = chord.replace(\" \", \",\")\r\n",
        "    return chord\r\n",
        "\r\n",
        "def get_number_from_duration(duration):\r\n",
        "    if duration.startswith(\"<music21.duration.Duration \"):\r\n",
        "        duration = duration[len(\"<music21.duration.Duration \"):]\r\n",
        "    if duration.endswith(\">\"):\r\n",
        "        duration = duration[:-1]\r\n",
        "    duration = duration.replace(\" \", \",\")\r\n",
        "    return duration\r\n",
        "\r\n",
        "def chord_from_string(chordstring):\r\n",
        "    notes = chordstring.split(\";\")\r\n",
        "    return chord.Chord(notes)\r\n",
        "\r\n",
        "#From: https://stackoverflow.com/questions/1806278/convert-fraction-to-float\r\n",
        "def convert_to_float(frac_str):\r\n",
        "    try:\r\n",
        "        return float(frac_str)\r\n",
        "    except ValueError:\r\n",
        "        num, denom = frac_str.split('/')\r\n",
        "        try:\r\n",
        "            leading, num = num.split(' ')\r\n",
        "            whole = float(leading)\r\n",
        "        except ValueError:\r\n",
        "            whole = 0\r\n",
        "        frac = float(num) / float(denom)\r\n",
        "        return whole - frac if whole < 0 else whole + frac\r\n",
        "\r\n",
        "#Source: https://github.com/alexissa32/DataScienceMusic\r\n",
        "def create_midi_without_chords(prediction_output, target_instrument = instrument.Piano(), filename = 'test_output.mid'):\r\n",
        "    '''\r\n",
        "    First step:\r\n",
        "    Only notes, no chords\r\n",
        "    Static 4/4 beat\r\n",
        "    Rests\r\n",
        "    '''\r\n",
        "    offset = 0\r\n",
        "    output_notes = []\r\n",
        "\r\n",
        "    # create note and chord objects based on the values generated by the model\r\n",
        "    for pattern in prediction_output:\r\n",
        "        # pattern is a rest\r\n",
        "        if('rest' in pattern):\r\n",
        "            new_rest = note.Rest(pattern)\r\n",
        "            new_rest.offset = offset\r\n",
        "            new_rest.storedInstrument = target_instrument #???\r\n",
        "            output_notes.append(new_rest)\r\n",
        "        # pattern is a note\r\n",
        "        else:\r\n",
        "            new_note = note.Note(pattern)\r\n",
        "            new_note.offset = offset\r\n",
        "            new_note.storedInstrument = target_instrument\r\n",
        "            output_notes.append(new_note)\r\n",
        "        # increase offset each iteration so that notes do not stack\r\n",
        "        offset += 0.5\r\n",
        "\r\n",
        "    midi_stream = stream.Stream(output_notes)\r\n",
        "\r\n",
        "    midi_stream.write('midi', fp=filename)\r\n",
        "\r\n",
        "def create_midi_without_durations(prediction_output, target_instrument = instrument.Piano(), filename = 'test_output.mid'):\r\n",
        "    '''\r\n",
        "    Second step:\r\n",
        "    Chords and notes\r\n",
        "    Static 4/4 beat\r\n",
        "    Rests\r\n",
        "    '''\r\n",
        "    offset = 0\r\n",
        "    output_notes = []\r\n",
        "\r\n",
        "    # create note and chord objects based on the values generated by the model\r\n",
        "    for pattern in prediction_output:\r\n",
        "        # pattern is a chord\r\n",
        "        if ('chord' in pattern):\r\n",
        "            notes = []\r\n",
        "            pattern = get_notes_from_chord(pattern)\r\n",
        "            patternpitches = pattern.split(',')\r\n",
        "            for current_note in patternpitches:\r\n",
        "                new_note = note.Note(current_note)\r\n",
        "                new_note.storedInstrument = target_instrument\r\n",
        "                notes.append(new_note)\r\n",
        "            new_chord = chord.Chord(notes)\r\n",
        "            new_chord.offset = offset\r\n",
        "            output_notes.append(new_chord)\r\n",
        "        # pattern is a rest\r\n",
        "        elif('rest' in pattern):\r\n",
        "            new_rest = note.Rest(pattern)\r\n",
        "            new_rest.offset = offset\r\n",
        "            new_rest.storedInstrument = target_instrument #???\r\n",
        "            output_notes.append(new_rest)\r\n",
        "        # pattern is a note\r\n",
        "        else:\r\n",
        "            new_note = note.Note(pattern)\r\n",
        "            new_note.offset = offset\r\n",
        "            new_note.storedInstrument = target_instrument\r\n",
        "            output_notes.append(new_note)\r\n",
        "        # increase offset each iteration so that notes do not stack\r\n",
        "        offset += 0.5\r\n",
        "\r\n",
        "    midi_stream = stream.Stream(output_notes)\r\n",
        "\r\n",
        "    midi_stream.write('midi', fp=filename)\r\n",
        "\r\n",
        "def create_midi_with_durations(prediction_output, output_durations, target_instrument = instrument.Piano(), filename = 'test_output.mid'):\r\n",
        "    offset = 0\r\n",
        "    output_notes = []\r\n",
        "\r\n",
        "    # create note and chord objects based on the values generated by the model\r\n",
        "    for i in range(len(prediction_output)):\r\n",
        "        pattern = prediction_output[i]\r\n",
        "        duration = get_number_from_duration(output_durations[i])\r\n",
        "        # pattern is a chord\r\n",
        "        if ('chord' in pattern):\r\n",
        "            notes = []\r\n",
        "            pattern = get_notes_from_chord(pattern)\r\n",
        "            patternpitches = pattern.split(',')\r\n",
        "            for current_note in patternpitches:\r\n",
        "                new_note = note.Note(current_note)\r\n",
        "                new_note.storedInstrument = target_instrument\r\n",
        "                notes.append(new_note)\r\n",
        "            new_chord = chord.Chord(notes)\r\n",
        "            new_chord.offset = offset\r\n",
        "            output_notes.append(new_chord)\r\n",
        "        # pattern is a rest\r\n",
        "        elif('rest' in pattern):\r\n",
        "            new_rest = note.Rest(pattern)\r\n",
        "            new_rest.offset = offset\r\n",
        "            new_rest.storedInstrument = target_instrument #???\r\n",
        "            output_notes.append(new_rest)\r\n",
        "        # pattern is a note\r\n",
        "        else:\r\n",
        "            new_note = note.Note(pattern)\r\n",
        "            new_note.offset = offset\r\n",
        "            new_note.storedInstrument = target_instrument\r\n",
        "            output_notes.append(new_note)\r\n",
        "        # increase offset each iteration so that notes do not stack\r\n",
        "        offset += convert_to_float(duration)\r\n",
        "\r\n",
        "    midi_stream = stream.Stream(output_notes)\r\n",
        "\r\n",
        "    midi_stream.write('midi', fp=filename)\r\n",
        "\r\n",
        "def create_midi_with_embedded_durations(prediction_output, target_instrument = instrument.Piano(), filename = 'test_output.mid'):\r\n",
        "    offset = 0\r\n",
        "    output_notes = []\r\n",
        "\r\n",
        "    # create note and chord objects based on the values generated by the model\r\n",
        "    for i in range(len(prediction_output)):\r\n",
        "        pattern = prediction_output[i]\r\n",
        "        splitpattern = pattern.split(\";\")\r\n",
        "        pattern = splitpattern[0]\r\n",
        "\r\n",
        "        duration = get_number_from_duration(splitpattern[1])\r\n",
        "        # pattern is a rest\r\n",
        "        if('rest' in pattern):\r\n",
        "            new_rest = note.Rest(pattern)\r\n",
        "            new_rest.offset = offset\r\n",
        "            new_rest.storedInstrument = target_instrument #???\r\n",
        "            output_notes.append(new_rest)\r\n",
        "        # pattern is a chord\r\n",
        "        elif (',' in pattern):\r\n",
        "            notes = []\r\n",
        "            pattern = get_notes_from_chord(pattern)\r\n",
        "            patternpitches = pattern.split(',')\r\n",
        "            for current_note in patternpitches:\r\n",
        "                new_note = note.Note(current_note)\r\n",
        "                new_note.storedInstrument = target_instrument\r\n",
        "                notes.append(new_note)\r\n",
        "            new_chord = chord.Chord(notes)\r\n",
        "            new_chord.offset = offset\r\n",
        "            output_notes.append(new_chord)\r\n",
        "        # pattern is a note\r\n",
        "        else:\r\n",
        "            new_note = note.Note(pattern)\r\n",
        "            new_note.offset = offset\r\n",
        "            new_note.storedInstrument = target_instrument\r\n",
        "            output_notes.append(new_note)\r\n",
        "        # increase offset each iteration so that notes do not stack\r\n",
        "        offset += convert_to_float(duration)\r\n",
        "\r\n",
        "    midi_stream = stream.Stream(output_notes)\r\n",
        "\r\n",
        "    midi_stream.write('midi', fp=filename)"
      ],
      "execution_count": null,
      "outputs": []
    },
    {
      "cell_type": "markdown",
      "metadata": {
        "id": "JZmPvxwV7mW6"
      },
      "source": [
        "# PREPROCESSING SECTION"
      ]
    },
    {
      "cell_type": "code",
      "metadata": {
        "id": "zxQJTnIDF76s"
      },
      "source": [
        "class MidiPart:\r\n",
        "    def __init__(self, song, instrument, chords, durations):\r\n",
        "        self.song = song\r\n",
        "        self.instrument = instrument\r\n",
        "        self.chords = chords\r\n",
        "        self.durations = durations\r\n",
        "\r\n",
        "\r\n",
        "path = MIDI_PATH\r\n",
        "\r\n",
        "IRON_MAIDEN_INSTRUMENTS = ['Acoustic Guitar', 'Viola', 'Electric Bass', 'Brass', 'Sampler', 'Electric Guitar', 'Piano', 'StringInstrument']\r\n",
        "\r\n",
        "TARGET_INSTRUMENT = 'Electric Bass'\r\n",
        "\r\n",
        "SLICE_LEN = 20\r\n",
        "\r\n",
        "\r\n"
      ],
      "execution_count": null,
      "outputs": []
    },
    {
      "cell_type": "code",
      "metadata": {
        "colab": {
          "base_uri": "https://localhost:8080/"
        },
        "id": "gKRjNr5kGLZs",
        "outputId": "d33a2332-5b13-4f31-b5fa-bb8925c7860f"
      },
      "source": [
        "midiparts = []\r\n",
        "\r\n",
        "for file in tqdm(os.listdir(path)):\r\n",
        "    midi = converter.parse(os.path.join(path, file))\r\n",
        "\r\n",
        "    for part in midi.parts:\r\n",
        "        chords=[]\r\n",
        "        durations=[]\r\n",
        "        for element in part.notesAndRests:\r\n",
        "            if isinstance(element, note.Note):\r\n",
        "                chords.append(chord.Chord([element]))\r\n",
        "                durations.append(element.duration)\r\n",
        "            elif isinstance(element, chord.Chord):\r\n",
        "                chords.append(element)\r\n",
        "                durations.append(element.duration)\r\n",
        "            elif isinstance(element, note.Rest):\r\n",
        "                chords.append(element)\r\n",
        "                durations.append(element.duration)\r\n",
        "\r\n",
        "        if len(chords) > 0:\r\n",
        "            midiparts.append(MidiPart(file, part.partName, chords, durations))\r\n",
        "        else:\r\n",
        "            for voice in part.voices:\r\n",
        "                chords=[]\r\n",
        "                durations=[]\r\n",
        "                for element in voice.notesAndRests:\r\n",
        "                    if isinstance(element, note.Note):\r\n",
        "                        chords.append(chord.Chord([element]))\r\n",
        "                        durations.append(element.duration)\r\n",
        "                    elif isinstance(element, chord.Chord):\r\n",
        "                        chords.append(element)\r\n",
        "                        durations.append(element.duration)\r\n",
        "                    elif isinstance(element, note.Rest):\r\n",
        "                        chords.append(element)\r\n",
        "                        durations.append(element.duration)\r\n",
        "\r\n",
        "                midiparts.append(MidiPart(file, part.partName, chords, durations))"
      ],
      "execution_count": null,
      "outputs": [
        {
          "output_type": "stream",
          "text": [
            "100%|██████████| 93/93 [13:44<00:00,  8.87s/it]\n"
          ],
          "name": "stderr"
        }
      ]
    },
    {
      "cell_type": "code",
      "metadata": {
        "id": "fjJbHsFa7aLM"
      },
      "source": [
        "#Akkordok nélkül, restekkel\r\n",
        "midiparts = []\r\n",
        "\r\n",
        "for file in tqdm(os.listdir(path)):\r\n",
        "    midi = converter.parse(os.path.join(path, file))\r\n",
        "\r\n",
        "    for part in midi.parts:\r\n",
        "        notes=[]\r\n",
        "        durations=[]\r\n",
        "        for element in part.notesAndRests:\r\n",
        "            if isinstance(element, note.Note):\r\n",
        "                notes.append(element.pitch)\r\n",
        "                durations.append(element.duration)\r\n",
        "            elif isinstance(element, chord.Chord):\r\n",
        "                notes.append(element.root())\r\n",
        "                durations.append(element.duration)\r\n",
        "            elif isinstance(element, note.Rest):\r\n",
        "                notes.append(element)\r\n",
        "                durations.append(element.duration)\r\n",
        "\r\n",
        "        if len(notes) > 0:\r\n",
        "            midiparts.append(MidiPart(file, part.partName, notes, durations))\r\n",
        "        else:\r\n",
        "            for voice in part.voices:\r\n",
        "                notes=[]\r\n",
        "                durations=[]\r\n",
        "                for element in voice.notesAndRests:\r\n",
        "                    if isinstance(element, note.Note):\r\n",
        "                        notes.append(element.pitch)\r\n",
        "                        durations.append(element.duration)\r\n",
        "                    elif isinstance(element, chord.Chord):\r\n",
        "                        notes.append(element.root())\r\n",
        "                        durations.append(element.duration)\r\n",
        "                    elif isinstance(element, note.Rest):\r\n",
        "                        notes.append(element)\r\n",
        "                        durations.append(element.duration)\r\n",
        "\r\n",
        "                midiparts.append(MidiPart(file, part.partName, notes, durations))"
      ],
      "execution_count": null,
      "outputs": []
    },
    {
      "cell_type": "code",
      "metadata": {
        "id": "g9agTDUVQvut"
      },
      "source": [
        "#Restek nélkül, akkordok nélkül\r\n",
        "midiparts = []\r\n",
        "\r\n",
        "for file in tqdm(os.listdir(path), position=0, leave=True):\r\n",
        "    midi = converter.parse(os.path.join(path, file))\r\n",
        "\r\n",
        "    for part in midi.parts:\r\n",
        "        for voice in part.voices:\r\n",
        "            notes=[]\r\n",
        "            durations=[]\r\n",
        "            for element in voice.notes: \r\n",
        "                if isinstance(element, note.Note):\r\n",
        "                    notes.append(element.pitch)\r\n",
        "                    durations.append(element.duration)\r\n",
        "                elif isinstance(element, chord.Chord):\r\n",
        "                    notes.append(element.root())\r\n",
        "                    durations.append(element.duration)\r\n",
        "                elif isinstance(element, note.Rest):\r\n",
        "                    notes.append(element)\r\n",
        "                    durations.append(element.duration)\r\n",
        "\r\n",
        "            midiparts.append(MidiPart(file, part.partName, notes, durations))"
      ],
      "execution_count": null,
      "outputs": []
    },
    {
      "cell_type": "code",
      "metadata": {
        "id": "TCIW-4f0HDiv"
      },
      "source": [
        "allchords = []\r\n",
        "alldurations = []\r\n",
        "\r\n",
        "#TARGET_INSTRUMENT = 'Electric Guitar'\r\n",
        "for i in midiparts:\r\n",
        "    if i.instrument == TARGET_INSTRUMENT:\r\n",
        "        if len(i.chords)>0 :\r\n",
        "            allchords.append(i.chords)\r\n",
        "            alldurations.append(i.durations)"
      ],
      "execution_count": null,
      "outputs": []
    },
    {
      "cell_type": "code",
      "metadata": {
        "id": "GwMEF79iVM-N"
      },
      "source": [
        "assert(len(allchords) == len(alldurations))\r\n",
        "\r\n",
        "combined = []\r\n",
        "for i in range(len(allchords)):\r\n",
        "    combined.append(combine_chords_with_durations(allchords[i], alldurations[i]))\r\n",
        "\r\n",
        "mapperdata = []\r\n",
        "\r\n",
        "for i in combined:\r\n",
        "    for j in i:\r\n",
        "        mapperdata.append(j)\r\n",
        "\r\n",
        "mapper = create_mapper(mapperdata)"
      ],
      "execution_count": null,
      "outputs": []
    },
    {
      "cell_type": "code",
      "metadata": {
        "id": "ZHgZBHZvYdTb"
      },
      "source": [
        "encoded_data = []\r\n",
        "\r\n",
        "for c in combined:\r\n",
        "    encoded = encode_using_mapper(c, mapper)\r\n",
        "    encoded_data.append(encoded)\r\n",
        "\r\n",
        "#cleared_encoded_data=encoded_data"
      ],
      "execution_count": null,
      "outputs": []
    },
    {
      "cell_type": "code",
      "metadata": {
        "id": "CSSAGDrKIUqE"
      },
      "source": [
        "#I create the Note/Chord/Rest to Number mapper here.\r\n",
        "\r\n",
        "mapperdata = []\r\n",
        "\r\n",
        "for i in allchords:\r\n",
        "    for j in i:\r\n",
        "        mapperdata.append(j)\r\n",
        "\r\n",
        "mapper = create_mapper(mapperdata)"
      ],
      "execution_count": null,
      "outputs": []
    },
    {
      "cell_type": "code",
      "metadata": {
        "id": "LwYE652rI9En"
      },
      "source": [
        "#I encode the data here using the mapper.\r\n",
        "\r\n",
        "encoded_data = []\r\n",
        "\r\n",
        "for c in allchords:\r\n",
        "    encoded = encode_using_mapper(c, mapper)\r\n",
        "    encoded_data.append(encoded)\r\n"
      ],
      "execution_count": null,
      "outputs": []
    },
    {
      "cell_type": "code",
      "metadata": {
        "id": "i3XGgKdqMucY"
      },
      "source": [
        "restkeysvalues = []\r\n",
        "for j in mapper.keys():\r\n",
        "    if ( 'rest' in j):\r\n",
        "        restkeysvalues.append(mapper[j])\r\n",
        "\r\n",
        "cleared_encoded_data=[]\r\n",
        "\r\n",
        "\r\n",
        "for i in encoded_data:\r\n",
        "    if most_frequent(i) not in restkeysvalues:\r\n",
        "        cleared_encoded_data.append(i)\r\n",
        "    else:\r\n",
        "        pass"
      ],
      "execution_count": null,
      "outputs": []
    },
    {
      "cell_type": "code",
      "metadata": {
        "id": "zZ2qvayyNty5"
      },
      "source": [
        "#I filter out those chord sequences, which are majorly rests. I do this because I don't want the network to make a song, which contains nothing, but rests. Our dataset has about 100 guitar tracks, which contain rests for the majority of the track, and a guitar solo near the end.\r\n",
        "#An upgrade for this could be that I don't just delete those tracks from the dataset, but only filter out the rests, and leave the guitar solo in.\r\n",
        "\r\n",
        "\r\n",
        "restnumber = mapper['<music21.note.Rest rest>']\r\n",
        "\r\n",
        "cleared_encoded_data=[]\r\n",
        "\r\n",
        "for i in encoded_data:\r\n",
        "    if most_frequent(i) != restnumber:\r\n",
        "        cleared_encoded_data.append(i)\r\n",
        "    else:\r\n",
        "        pass\r\n",
        "\r\n"
      ],
      "execution_count": null,
      "outputs": []
    },
    {
      "cell_type": "code",
      "metadata": {
        "colab": {
          "base_uri": "https://localhost:8080/"
        },
        "id": "cIycPa9oNYDe",
        "outputId": "7e076e74-64dd-4aca-9df7-66ff9bb504bc"
      },
      "source": [
        "#Creating the input data\r\n",
        "\r\n",
        "input, output = parse_everything_together(cleared_encoded_data, SLICE_LEN)"
      ],
      "execution_count": null,
      "outputs": [
        {
          "output_type": "stream",
          "text": [
            "100%|██████████| 102/102 [00:00<00:00, 8944.39it/s]\n",
            "158198it [00:00, 3067398.79it/s]\n",
            "158198it [00:00, 700676.15it/s]\n"
          ],
          "name": "stderr"
        }
      ]
    },
    {
      "cell_type": "code",
      "metadata": {
        "colab": {
          "base_uri": "https://localhost:8080/",
          "height": 530
        },
        "id": "Kn6rNcUb9uGo",
        "outputId": "0a048a31-c932-4195-9570-402628320a80"
      },
      "source": [
        "import matplotlib.pyplot as plt\r\n",
        "from collections import Counter\r\n",
        "\r\n",
        "outputcnt = Counter(output)\r\n",
        "plt.bar(outputcnt.keys(), outputcnt.values())\r\n",
        "plt.show()\r\n",
        "\r\n",
        "function_like_array=[]\r\n",
        "for val in outputcnt.values():\r\n",
        "    function_like_array.append(val)\r\n",
        "\r\n",
        "function_like_array.sort()\r\n",
        "plt.plot(function_like_array)"
      ],
      "execution_count": null,
      "outputs": [
        {
          "output_type": "display_data",
          "data": {
            "image/png": "[encoded data removed]",
            "text/plain": [
              "<Figure size 432x288 with 1 Axes>"
            ]
          },
          "metadata": {
            "tags": [],
            "image/png": {
              "width": 388,
              "height": 248
            },
            "needs_background": "light"
          }
        },
        {
          "output_type": "execute_result",
          "data": {
            "text/plain": [
              "[<matplotlib.lines.Line2D at 0x7fb0c91f3a50>]"
            ]
          },
          "metadata": {
            "tags": []
          },
          "execution_count": 12
        },
        {
          "output_type": "display_data",
          "data": {
            "image/png": "[encoded data removed]",
            "text/plain": [
              "<Figure size 432x288 with 1 Axes>"
            ]
          },
          "metadata": {
            "tags": [],
            "image/png": {
              "width": 388,
              "height": 248
            },
            "needs_background": "light"
          }
        }
      ]
    },
    {
      "cell_type": "code",
      "metadata": {
        "colab": {
          "base_uri": "https://localhost:8080/"
        },
        "id": "i4ASW1QR_5Yu",
        "outputId": "ceeba6ac-8e70-4984-ba14-43382a217272"
      },
      "source": [
        "\r\n",
        "outliers = []\r\n",
        "\r\n",
        "for i in outputcnt.keys():\r\n",
        "    if outputcnt[i] < 40:\r\n",
        "        outliers.append(i)\r\n",
        "\r\n",
        "print(outliers)\r\n",
        "print(len(outliers))"
      ],
      "execution_count": null,
      "outputs": [
        {
          "output_type": "stream",
          "text": [
            "[50, 281, 134, 590, 709, 717, 799, 142, 492, 301, 222, 647, 490, 214, 491, 299, 375, 502, 728, 607, 244, 283, 245, 597, 333, 457, 429, 611, 343, 430, 614, 53, 156, 23, 26, 254, 359, 737, 288, 74, 79, 205, 49, 64, 56, 688, 194, 195, 695, 478, 335, 697, 481, 171, 468, 175, 817, 508, 589, 35, 448, 192, 331, 408, 187, 318, 182, 414, 580, 763, 422, 66, 605, 600, 86, 368, 783, 58, 546, 305, 304, 94, 379, 215, 302, 376, 795, 552, 558, 556, 52, 291, 392, 338, 332, 230, 122, 764, 390, 383, 289, 292, 177, 172, 173, 683, 157, 625, 587, 170, 511, 621, 362, 585, 500, 557, 604, 229, 403, 317, 325, 115, 713, 190, 324, 106, 186, 705, 204, 357, 45, 452, 532, 673, 672, 447, 446, 235, 236, 451, 453, 454, 126, 531, 533, 534, 765, 767, 545, 18, 237, 128, 655, 280, 279, 278, 583, 507, 576, 256, 632, 158, 261, 732, 193, 141, 4, 117, 782, 704, 781, 105, 690, 13, 320, 703, 716, 419, 804, 592, 330, 96, 306, 547, 307, 550, 549, 548, 93, 303, 581, 39, 95, 377, 700, 381, 133, 699, 34, 572, 314, 436, 348, 145, 777, 701, 144, 445, 201, 352, 197, 344, 337, 336, 200, 779, 196, 442, 351, 780, 147, 148, 444, 443, 411, 36, 44, 294, 395, 46, 84, 85, 78, 161, 59, 38, 22, 55, 77, 483, 112, 80, 643, 731, 287, 730, 286, 736, 162, 499, 415, 615, 247, 775, 658, 606, 380, 179, 696, 123, 536, 656, 326, 130, 698, 131, 794, 423, 40, 570, 253, 312, 329, 591, 802, 416, 227, 421, 116, 456, 721, 805, 809, 166, 778, 433, 382, 474, 413, 118, 593, 671, 663, 164, 555, 51, 114, 206, 31, 33, 2, 108, 82, 69, 438, 199, 439, 610, 719, 808, 163, 10, 466, 73, 529, 525, 651, 551, 341, 434, 136, 389, 785, 388, 119, 784, 387, 213, 469, 472, 28, 528, 510, 530, 111, 653, 654, 241, 796, 270, 367, 475, 624, 677, 678, 679, 509, 762, 527, 103, 759, 107, 512, 223, 755, 754, 521, 226, 661, 224, 594, 464, 740, 191, 262, 271, 744, 263, 264, 258, 257, 228, 561, 110, 758, 322, 630, 564, 554, 87, 584, 321, 562, 30, 669, 412, 81, 135, 371, 184, 372, 293, 793, 626, 628, 405, 109, 714, 801, 692, 104, 609, 742, 664, 57, 120, 449, 810, 450, 121, 565, 328, 800, 798, 797, 792, 113, 706, 493, 297, 92, 488, 296, 541, 373, 599, 489, 339, 298, 517, 374, 494, 300, 542, 634, 70, 515, 378, 393, 266, 636, 272, 212, 211, 176, 174, 746, 745, 818, 458, 334, 265, 694, 29, 803, 178, 727, 819, 365, 363, 364, 725, 476, 89, 526, 17, 67, 160, 273, 815, 361, 470, 813, 685, 248, 353, 354, 665, 231, 455, 645, 243, 774, 540, 138, 232, 646, 771, 239, 132, 537, 769, 535, 242, 153, 670, 666, 401, 323, 741, 739, 772, 189, 726, 327, 24, 75, 553, 575, 667, 724, 631, 629, 633, 638, 420, 623, 635, 668, 738, 165, 538, 773, 657, 240, 539, 503, 424, 8, 477, 210, 209, 139, 602, 90, 523, 544, 718, 427, 543, 720, 612, 431, 345, 246, 140, 21, 347, 807, 159, 259, 756, 349, 613, 63, 637, 43, 143, 83, 25, 19, 71, 11, 12, 60, 437, 505, 407, 91, 650, 652, 88, 129, 394, 432, 417, 674, 485, 616, 440, 680, 484, 675, 65, 627, 601, 639, 76, 61, 579, 595, 504, 506, 684, 603, 519, 518, 560, 346, 137, 6, 473, 588, 418, 563, 760, 761, 514, 753, 757, 649, 277, 486, 15, 20, 14, 409, 559, 816, 167, 806]\n",
            "621\n"
          ],
          "name": "stdout"
        }
      ]
    },
    {
      "cell_type": "code",
      "metadata": {
        "id": "xkujCJyFBAQw"
      },
      "source": [
        "#Because I don't want to mess up my inputs and outputs, I test their lengths before and after the outlier filtering.\r\n",
        "assert(len(input) == len(output))\r\n",
        "\r\n",
        "newinput=[]\r\n",
        "newoutput=[]\r\n",
        "\r\n",
        "for i in range(len(output)):\r\n",
        "    if(output[i] not in outliers):\r\n",
        "        newinput.append(input[i])\r\n",
        "        newoutput.append(output[i])\r\n",
        "\r\n",
        "input = newinput\r\n",
        "output = newoutput\r\n",
        "\r\n",
        "assert(len(input) == len(output))"
      ],
      "execution_count": null,
      "outputs": []
    },
    {
      "cell_type": "code",
      "metadata": {
        "id": "nx64ocEIIVzY"
      },
      "source": [
        "#However, this outlier filtering made things complicated. Now I have to make a new mapper, so that i won't end up with output classes containing 0 elements.\r\n",
        "\r\n",
        "mapper_list = [] #Idx of the mapper list is the new value, the element is the old value.\r\n",
        "new_output_elements = set(output)\r\n",
        "\r\n",
        "for i in new_output_elements:\r\n",
        "    mapper_list.append(i)\r\n",
        "\r\n",
        "newoutput = []\r\n",
        "\r\n",
        "for i in output:\r\n",
        "    newoutput.append(mapper_list.index(i))\r\n",
        "\r\n",
        "output = newoutput"
      ],
      "execution_count": null,
      "outputs": []
    },
    {
      "cell_type": "code",
      "metadata": {
        "id": "JastNnOpLOxB"
      },
      "source": [
        "#Reshaping the input data to be compatible with LSTMs and normalizing it in the hope of better learning.\r\n",
        "\r\n",
        "input = np.reshape(np.asarray(input), (len(input), SLICE_LEN, 1))\r\n",
        "output = to_categorical(output)\r\n",
        "\r\n",
        "input=np.asarray(input) / float(len(mapper))\r\n",
        "output=np.asarray(output)"
      ],
      "execution_count": null,
      "outputs": []
    },
    {
      "cell_type": "code",
      "metadata": {
        "colab": {
          "base_uri": "https://localhost:8080/"
        },
        "id": "6SUgrSD6V6Bx",
        "outputId": "9356d97b-77ec-463c-9fcb-df9bf8148935"
      },
      "source": [
        "#TRAIN_VAL_TEST_SPLIT\r\n",
        "\r\n",
        "SEED = 54\r\n",
        "#np.random.seed(SEED)\r\n",
        "\r\n",
        "from sklearn.model_selection import train_test_split\r\n",
        "\r\n",
        "X_train, X_test, Y_train, Y_test = train_test_split(input, output, test_size=0.01, random_state=SEED)\r\n",
        "X_train, X_val, Y_train, Y_val = train_test_split(X_train, Y_train, test_size=0.2, random_state=SEED)\r\n",
        "\r\n",
        "startidx = np.random.randint(0, len(X_test)-1)\r\n",
        "starting_slice = X_test[startidx]\r\n",
        "\r\n",
        "print(X_train.shape, X_val.shape, X_test.shape, Y_train.shape, Y_val.shape, Y_test.shape)\r\n",
        "print(startidx)\r\n",
        "print(starting_slice)"
      ],
      "execution_count": null,
      "outputs": [
        {
          "output_type": "stream",
          "text": [
            "(121952, 20, 1) (30489, 20, 1) (1540, 20, 1) (121952, 167) (30489, 167) (1540, 167)\n",
            "198\n",
            "[[0.1195122 ]\n",
            " [0.1195122 ]\n",
            " [0.1195122 ]\n",
            " [0.1195122 ]\n",
            " [0.1195122 ]\n",
            " [0.1195122 ]\n",
            " [0.1195122 ]\n",
            " [0.1195122 ]\n",
            " [0.1195122 ]\n",
            " [0.1195122 ]\n",
            " [0.1195122 ]\n",
            " [0.1195122 ]\n",
            " [0.1195122 ]\n",
            " [0.1195122 ]\n",
            " [0.1195122 ]\n",
            " [0.1195122 ]\n",
            " [0.1195122 ]\n",
            " [0.60487805]\n",
            " [0.91219512]\n",
            " [0.1195122 ]]\n"
          ],
          "name": "stdout"
        }
      ]
    },
    {
      "cell_type": "markdown",
      "metadata": {
        "id": "sGhhDcBu7w49"
      },
      "source": [
        "# MODEL TRAINING SECTION"
      ]
    },
    {
      "cell_type": "code",
      "metadata": {
        "id": "9RGwd0Y58k3R"
      },
      "source": [
        "MODEL_NAME = \"bassmodelwithdurations20\"\r\n",
        "\r\n",
        "MODEL_SAVE_PATH = \"/content/drive/MyDrive/MLFolder/Onlab/modelsaves\"\r\n",
        "\r\n",
        "TBPATH = \"/content/tblogs/\"+MODEL_NAME"
      ],
      "execution_count": null,
      "outputs": []
    },
    {
      "cell_type": "code",
      "metadata": {
        "id": "eLW2ZTUFpWrc"
      },
      "source": [
        "#Before creating the neural network, I define some important callbacks\r\n",
        "\r\n",
        "tb = TensorBoard(log_dir = TBPATH, write_images=True, histogram_freq=1)\r\n",
        "\r\n",
        "plateau = ReduceLROnPlateau(monitor='val_loss', factor=0.2, patience=3, min_lr=0.00005, verbose=1)\r\n",
        "\r\n",
        "es = EarlyStopping(monitor='val_loss', patience = 10, restore_best_weights = True, verbose=1)\r\n",
        "\r\n",
        "callbacks = [plateau, es, tb]\r\n",
        "\r\n"
      ],
      "execution_count": null,
      "outputs": []
    },
    {
      "cell_type": "code",
      "metadata": {
        "colab": {
          "base_uri": "https://localhost:8080/"
        },
        "id": "zqfKjzEX2OSL",
        "outputId": "1d3cc30a-df16-4a3c-ac4b-a0b0ad7f8a09"
      },
      "source": [
        "#I create the neural network model here.\r\n",
        "\r\n",
        "model = Sequential()\r\n",
        "model.add(LSTM(512, input_shape=(X_train.shape[1], X_train.shape[2]), return_sequences=True))\r\n",
        "model.add(LSTM(256))\r\n",
        "model.add(Dense(Y_train.shape[1], activation='softmax'))\r\n",
        "\r\n",
        "\r\n",
        "model.compile(optimizer='Adam', loss='categorical_crossentropy', metrics=['accuracy'])\r\n",
        "\r\n",
        "model.fit(X_train, Y_train, epochs=10000, batch_size=16, validation_data=(X_val, Y_val), callbacks=callbacks)\r\n",
        "\r\n",
        "model.evaluate(X_test, Y_test)\r\n",
        "\r\n",
        "model.save(MODEL_SAVE_PATH + MODEL_NAME + \".h5\")"
      ],
      "execution_count": null,
      "outputs": [
        {
          "output_type": "stream",
          "text": [
            "Epoch 1/10000\n",
            "7622/7622 [==============================] - 91s 8ms/step - loss: 3.6088 - accuracy: 0.1453 - val_loss: 2.4298 - val_accuracy: 0.3638\n",
            "Epoch 2/10000\n",
            "7622/7622 [==============================] - 58s 8ms/step - loss: 2.2617 - accuracy: 0.3967 - val_loss: 1.9307 - val_accuracy: 0.4787\n",
            "Epoch 3/10000\n",
            "7622/7622 [==============================] - 58s 8ms/step - loss: 1.7533 - accuracy: 0.5184 - val_loss: 1.6686 - val_accuracy: 0.5480\n",
            "Epoch 4/10000\n",
            "7622/7622 [==============================] - 58s 8ms/step - loss: 1.4419 - accuracy: 0.6012 - val_loss: 1.4323 - val_accuracy: 0.6118\n",
            "Epoch 5/10000\n",
            "7622/7622 [==============================] - 58s 8ms/step - loss: 1.2140 - accuracy: 0.6599 - val_loss: 1.3159 - val_accuracy: 0.6459\n",
            "Epoch 6/10000\n",
            "7622/7622 [==============================] - 58s 8ms/step - loss: 1.0574 - accuracy: 0.6975 - val_loss: 1.2146 - val_accuracy: 0.6684\n",
            "Epoch 7/10000\n",
            "7622/7622 [==============================] - 58s 8ms/step - loss: 0.9418 - accuracy: 0.7278 - val_loss: 1.1309 - val_accuracy: 0.6980\n",
            "Epoch 8/10000\n",
            "7622/7622 [==============================] - 58s 8ms/step - loss: 0.8446 - accuracy: 0.7535 - val_loss: 1.0968 - val_accuracy: 0.7073\n",
            "Epoch 9/10000\n",
            "7622/7622 [==============================] - 58s 8ms/step - loss: 0.7773 - accuracy: 0.7725 - val_loss: 1.0688 - val_accuracy: 0.7169\n",
            "Epoch 10/10000\n",
            "7622/7622 [==============================] - 58s 8ms/step - loss: 0.7144 - accuracy: 0.7870 - val_loss: 1.0489 - val_accuracy: 0.7246\n",
            "Epoch 11/10000\n",
            "7622/7622 [==============================] - 58s 8ms/step - loss: 0.6567 - accuracy: 0.8034 - val_loss: 0.9982 - val_accuracy: 0.7434\n",
            "Epoch 12/10000\n",
            "7622/7622 [==============================] - 58s 8ms/step - loss: 0.6151 - accuracy: 0.8159 - val_loss: 0.9766 - val_accuracy: 0.7555\n",
            "Epoch 13/10000\n",
            "7622/7622 [==============================] - 58s 8ms/step - loss: 0.5955 - accuracy: 0.8187 - val_loss: 0.9982 - val_accuracy: 0.7488\n",
            "Epoch 14/10000\n",
            "7622/7622 [==============================] - 58s 8ms/step - loss: 0.5747 - accuracy: 0.8259 - val_loss: 0.9706 - val_accuracy: 0.7577\n",
            "Epoch 15/10000\n",
            "7622/7622 [==============================] - 58s 8ms/step - loss: 0.5473 - accuracy: 0.8327 - val_loss: 0.9637 - val_accuracy: 0.7656\n",
            "Epoch 16/10000\n",
            "7622/7622 [==============================] - 58s 8ms/step - loss: 0.5210 - accuracy: 0.8386 - val_loss: 0.9565 - val_accuracy: 0.7685\n",
            "Epoch 17/10000\n",
            "7622/7622 [==============================] - 58s 8ms/step - loss: 0.5026 - accuracy: 0.8429 - val_loss: 0.9930 - val_accuracy: 0.7553\n",
            "Epoch 18/10000\n",
            "7622/7622 [==============================] - 58s 8ms/step - loss: 0.4883 - accuracy: 0.8466 - val_loss: 0.9477 - val_accuracy: 0.7730\n",
            "Epoch 19/10000\n",
            "7622/7622 [==============================] - 58s 8ms/step - loss: 0.4760 - accuracy: 0.8509 - val_loss: 0.9626 - val_accuracy: 0.7701\n",
            "Epoch 20/10000\n",
            "7622/7622 [==============================] - 59s 8ms/step - loss: 0.4631 - accuracy: 0.8536 - val_loss: 0.9520 - val_accuracy: 0.7730\n",
            "Epoch 21/10000\n",
            "7622/7622 [==============================] - 58s 8ms/step - loss: 0.4629 - accuracy: 0.8527 - val_loss: 0.9370 - val_accuracy: 0.7828\n",
            "Epoch 22/10000\n",
            "7622/7622 [==============================] - 58s 8ms/step - loss: 0.4381 - accuracy: 0.8581 - val_loss: 0.9614 - val_accuracy: 0.7708\n",
            "Epoch 23/10000\n",
            "7622/7622 [==============================] - 58s 8ms/step - loss: 0.4435 - accuracy: 0.8580 - val_loss: 0.9704 - val_accuracy: 0.7725\n",
            "Epoch 24/10000\n",
            "7622/7622 [==============================] - 58s 8ms/step - loss: 0.4284 - accuracy: 0.8623 - val_loss: 0.9670 - val_accuracy: 0.7767\n",
            "\n",
            "Epoch 00024: ReduceLROnPlateau reducing learning rate to 0.00020000000949949026.\n",
            "Epoch 25/10000\n",
            "7622/7622 [==============================] - 59s 8ms/step - loss: 0.3229 - accuracy: 0.8956 - val_loss: 0.8221 - val_accuracy: 0.8267\n",
            "Epoch 26/10000\n",
            "7622/7622 [==============================] - 58s 8ms/step - loss: 0.2547 - accuracy: 0.9175 - val_loss: 0.8135 - val_accuracy: 0.8267\n",
            "Epoch 27/10000\n",
            "7622/7622 [==============================] - 58s 8ms/step - loss: 0.2364 - accuracy: 0.9222 - val_loss: 0.8074 - val_accuracy: 0.8309\n",
            "Epoch 28/10000\n",
            "7622/7622 [==============================] - 58s 8ms/step - loss: 0.2281 - accuracy: 0.9229 - val_loss: 0.8034 - val_accuracy: 0.8313\n",
            "Epoch 29/10000\n",
            "7622/7622 [==============================] - 58s 8ms/step - loss: 0.2187 - accuracy: 0.9265 - val_loss: 0.8109 - val_accuracy: 0.8313\n",
            "Epoch 30/10000\n",
            "7622/7622 [==============================] - 58s 8ms/step - loss: 0.2109 - accuracy: 0.9283 - val_loss: 0.8104 - val_accuracy: 0.8315\n",
            "Epoch 31/10000\n",
            "7622/7622 [==============================] - 58s 8ms/step - loss: 0.2103 - accuracy: 0.9277 - val_loss: 0.8047 - val_accuracy: 0.8397\n",
            "\n",
            "Epoch 00031: ReduceLROnPlateau reducing learning rate to 5e-05.\n",
            "Epoch 32/10000\n",
            "7622/7622 [==============================] - 58s 8ms/step - loss: 0.1882 - accuracy: 0.9361 - val_loss: 0.7901 - val_accuracy: 0.8418\n",
            "Epoch 33/10000\n",
            "7622/7622 [==============================] - 58s 8ms/step - loss: 0.1802 - accuracy: 0.9385 - val_loss: 0.7891 - val_accuracy: 0.8453\n",
            "Epoch 34/10000\n",
            "7622/7622 [==============================] - 58s 8ms/step - loss: 0.1746 - accuracy: 0.9408 - val_loss: 0.7866 - val_accuracy: 0.8463\n",
            "Epoch 35/10000\n",
            "7622/7622 [==============================] - 58s 8ms/step - loss: 0.1726 - accuracy: 0.9413 - val_loss: 0.7884 - val_accuracy: 0.8472\n",
            "Epoch 36/10000\n",
            "7622/7622 [==============================] - 58s 8ms/step - loss: 0.1725 - accuracy: 0.9418 - val_loss: 0.7866 - val_accuracy: 0.8474\n",
            "Epoch 37/10000\n",
            "7622/7622 [==============================] - 58s 8ms/step - loss: 0.1682 - accuracy: 0.9432 - val_loss: 0.7855 - val_accuracy: 0.8480\n",
            "Epoch 38/10000\n",
            "7622/7622 [==============================] - 58s 8ms/step - loss: 0.1663 - accuracy: 0.9432 - val_loss: 0.7901 - val_accuracy: 0.8472\n",
            "Epoch 39/10000\n",
            "7622/7622 [==============================] - 58s 8ms/step - loss: 0.1635 - accuracy: 0.9455 - val_loss: 0.7861 - val_accuracy: 0.8491\n",
            "Epoch 40/10000\n",
            "7622/7622 [==============================] - 58s 8ms/step - loss: 0.1611 - accuracy: 0.9454 - val_loss: 0.7947 - val_accuracy: 0.8458\n",
            "Epoch 41/10000\n",
            "7622/7622 [==============================] - 58s 8ms/step - loss: 0.1601 - accuracy: 0.9455 - val_loss: 0.7872 - val_accuracy: 0.8496\n",
            "Epoch 42/10000\n",
            "7622/7622 [==============================] - 58s 8ms/step - loss: 0.1578 - accuracy: 0.9466 - val_loss: 0.7862 - val_accuracy: 0.8499\n",
            "Epoch 43/10000\n",
            "7622/7622 [==============================] - 58s 8ms/step - loss: 0.1592 - accuracy: 0.9456 - val_loss: 0.7874 - val_accuracy: 0.8503\n",
            "Epoch 44/10000\n",
            "7622/7622 [==============================] - 58s 8ms/step - loss: 0.1557 - accuracy: 0.9473 - val_loss: 0.7936 - val_accuracy: 0.8472\n",
            "Epoch 45/10000\n",
            "7622/7622 [==============================] - 58s 8ms/step - loss: 0.1534 - accuracy: 0.9475 - val_loss: 0.7908 - val_accuracy: 0.8496\n",
            "Epoch 46/10000\n",
            "7622/7622 [==============================] - 58s 8ms/step - loss: 0.1505 - accuracy: 0.9492 - val_loss: 0.7908 - val_accuracy: 0.8512\n",
            "Epoch 47/10000\n",
            "7622/7622 [==============================] - 58s 8ms/step - loss: 0.1540 - accuracy: 0.9479 - val_loss: 0.7883 - val_accuracy: 0.8506\n",
            "Restoring model weights from the end of the best epoch.\n",
            "Epoch 00047: early stopping\n",
            "49/49 [==============================] - 0s 4ms/step - loss: 0.8522 - accuracy: 0.8370\n"
          ],
          "name": "stdout"
        }
      ]
    },
    {
      "cell_type": "code",
      "metadata": {
        "id": "GnLscesSYJWf"
      },
      "source": [
        "model.fit(X_train, Y_train, epochs=10000, batch_size=16, validation_data=(X_val, Y_val), callbacks=callbacks)\r\n",
        "\r\n",
        "model.evaluate(X_test, Y_test)\r\n",
        "\r\n",
        "model.save(MODEL_SAVE_PATH + MODEL_NAME + \".h5\")"
      ],
      "execution_count": null,
      "outputs": []
    },
    {
      "cell_type": "code",
      "metadata": {
        "id": "pV-sNW2slnHp",
        "colab": {
          "base_uri": "https://localhost:8080/"
        },
        "outputId": "fcf0f2b1-03ab-485a-8438-c77188169776"
      },
      "source": [
        "model.evaluate(X_test, Y_test)\r\n",
        "\r\n",
        "model.save(MODEL_SAVE_PATH + MODEL_NAME + \".h5\")"
      ],
      "execution_count": null,
      "outputs": [
        {
          "output_type": "stream",
          "text": [
            "68/68 [==============================] - 0s 4ms/step - loss: 1.3353 - accuracy: 0.7874\n"
          ],
          "name": "stdout"
        }
      ]
    },
    {
      "cell_type": "code",
      "metadata": {
        "id": "tEDmsNdvr1CP"
      },
      "source": [
        "#I use the TensorBoard here\r\n",
        "\r\n",
        "%tensorboard --logdir=\"/content/tblogs/guitarmodelwithdurations16\" #TODO FIX THIS TO BE A VARIABLE"
      ],
      "execution_count": null,
      "outputs": []
    },
    {
      "cell_type": "markdown",
      "metadata": {
        "id": "I5udvodq8Bw8"
      },
      "source": [
        "# INFERENCE AND POSTPROCESSING SECTION"
      ]
    },
    {
      "cell_type": "code",
      "metadata": {
        "id": "lqA3epxQEX0C"
      },
      "source": [
        "def sample(preds, temperature=1.0):\r\n",
        "    # helper function to sample an index from a probability array\r\n",
        "    preds = np.asarray(preds).astype(\"float64\")\r\n",
        "    preds = np.log(preds) / temperature\r\n",
        "    exp_preds = np.exp(preds)\r\n",
        "    preds = exp_preds / np.sum(exp_preds)\r\n",
        "    preds = np.squeeze(preds)\r\n",
        "    probas = np.random.multinomial(1, preds, 1)\r\n",
        "    return np.argmax(probas)"
      ],
      "execution_count": null,
      "outputs": []
    },
    {
      "cell_type": "code",
      "metadata": {
        "id": "oWpOHOeMLzMk"
      },
      "source": [
        "def generate_notes(model, network_input, starting_slice, mapper, mapperlist = None, temp=1.0):\r\n",
        "    \"\"\" Generate notes from the neural network based on a sequence of notes \"\"\"\r\n",
        "    pattern = starting_slice\r\n",
        "    prediction_output = []\r\n",
        "\r\n",
        "    # generate 500 notes\r\n",
        "    for note_index in range(500):\r\n",
        "        prediction_input = np.reshape(pattern, (1, len(pattern), 1))\r\n",
        "\r\n",
        "        prediction = model.predict(prediction_input, verbose=0)\r\n",
        "\r\n",
        "        #prediction = sample(prediction, temp)\r\n",
        "        index = sample(prediction, temp)\r\n",
        "\r\n",
        "        #index = np.argmax(prediction)\r\n",
        "        if mapperlist is not None: #Idx of the mapper list is the new value, the element is the old value. This is used when I filter for outliers.\r\n",
        "            index=mapperlist[index]\r\n",
        "\r\n",
        "        result = get_key_from_value(index, mapper)\r\n",
        "        prediction_output.append(result)\r\n",
        "\r\n",
        "        pattern = np.append(pattern, index/float(len(mapper)))\r\n",
        "\r\n",
        "        pattern = pattern[1:len(pattern)]\r\n",
        "\r\n",
        "    return prediction_output"
      ],
      "execution_count": null,
      "outputs": []
    },
    {
      "cell_type": "code",
      "metadata": {
        "colab": {
          "base_uri": "https://localhost:8080/"
        },
        "id": "PJYdVGHiQeR-",
        "outputId": "f7fa55b9-42d5-4bad-ac6e-b0ee71037a73"
      },
      "source": [
        "generated_outputs=[]\r\n",
        "\r\n",
        "temperatures = [0.5, 0.7, 0.8, 0.9, 1.0, 1.2]\r\n",
        "\r\n",
        "# DO NOT FORGET, IMPORTANT: When using outlier filtering, DO NOT FORGET to use the mapperlist parameter!!\r\n",
        "\r\n",
        "for temp in tqdm(temperatures):\r\n",
        "    generated_outputs.append(generate_notes(model, input, starting_slice, mapper, mapper_list, temp = temp))"
      ],
      "execution_count": null,
      "outputs": [
        {
          "output_type": "stream",
          "text": [
            " 83%|████████▎ | 5/6 [01:18<00:15, 15.61s/it]/usr/local/lib/python3.7/dist-packages/ipykernel_launcher.py:4: RuntimeWarning: divide by zero encountered in log\n",
            "  after removing the cwd from sys.path.\n",
            "100%|██████████| 6/6 [01:33<00:00, 15.64s/it]\n"
          ],
          "name": "stderr"
        }
      ]
    },
    {
      "cell_type": "code",
      "metadata": {
        "colab": {
          "base_uri": "https://localhost:8080/"
        },
        "id": "_rLzYrWgJxJ-",
        "outputId": "d5c3fc02-3deb-427d-b237-6239e2f54277"
      },
      "source": [
        "for out in generated_outputs:\r\n",
        "    print(out)"
      ],
      "execution_count": null,
      "outputs": [
        {
          "output_type": "stream",
          "text": [
            "['B1;0.5', 'E1;0.5', 'A1;0.5', 'G1;0.5', 'A1;0.5', 'A1;0.5', 'A1;0.5', 'A1;0.5', 'A1;0.5', 'A1;0.5', 'A1;0.5', 'A1;0.5', 'A1;0.5', 'A1;0.5', 'A1;0.5', 'A1;0.5', 'A1;0.5', 'A1;0.5', 'A1;0.5', 'A1;0.5', 'A1;0.5', 'A1;0.5', 'A1;0.5', 'A1;0.5', 'A1;0.25', 'A1;0.25', 'A1;0.25', 'A1;0.25', 'A1;0.25', 'A1;0.25', 'A1;0.25', 'A1;0.25', 'A1;0.5', 'A1;0.25', 'A1;0.25', 'A1;0.5', 'A1;0.25', 'A1;0.25', 'A1;0.5', 'A1;0.25', 'A1;0.25', 'A1;0.5', 'A1;0.25', 'A1;0.25', 'A1;0.5', 'A1;0.25', 'A1;0.25', 'A1;0.5', 'A1;0.25', 'A1;0.25', 'A1;0.5', 'A1;0.25', 'A1;0.25', 'A1;0.5', 'A1;0.25', 'A1;0.25', 'A1;0.5', 'A1;0.25', 'A1;0.25', 'A1;0.5', 'A1;0.25', 'A1;0.25', 'A1;0.5', 'A1;0.25', 'A1;0.25', 'A1;0.5', 'A1;0.25', 'A1;0.25', 'A1;0.5', 'A1;0.25', 'A1;0.25', 'A1;0.5', 'A1;0.25', 'A1;0.25', 'A1;0.5', 'A1;0.25', 'A1;0.25', 'A1;0.5', 'A1;0.25', 'A1;0.25', 'A1;0.5', 'A1;0.25', 'A1;0.25', 'A1;0.5', 'A1;0.25', 'A1;0.25', 'A1;0.5', 'A1;0.25', 'A1;0.25', 'A1;0.5', 'A1;0.25', 'A1;0.25', 'A1;0.5', 'A1;0.25', 'A1;0.25', 'A1;0.5', 'A1;0.25', 'A1;0.25', 'A1;0.5', 'A1;0.25', 'A1;0.25', 'A1;0.5', 'A1;0.25', 'A1;0.25', 'A1;0.5', 'A1;0.25', 'A1;0.25', 'A1;0.5', 'A1;0.25', 'A1;0.25', 'A1;0.5', 'A1;0.25', 'A1;0.25', 'A1;0.5', 'A1;0.25', 'A1;0.25', 'A1;0.5', 'A1;0.25', 'A1;0.25', 'A1;0.5', 'A1;0.25', 'A1;0.25', 'A1;0.5', 'A1;0.25', 'A1;0.25', 'A1;0.5', 'A1;0.25', 'A1;0.25', 'A1;0.5', 'A1;0.25', 'A1;0.25', 'A1;0.5', 'A1;0.25', 'A1;0.25', 'A1;0.5', 'A1;0.25', 'A1;0.25', 'A1;0.5', 'A1;0.25', 'A1;0.25', 'A1;0.5', 'A1;0.25', 'A1;0.25', 'A1;0.5', 'A1;0.25', 'A1;0.25', 'A1;0.5', 'A1;0.25', 'A1;0.25', 'A1;0.5', 'A1;0.25', 'A1;0.25', 'A1;0.5', 'A1;0.25', 'A1;0.25', 'A1;0.5', 'A1;0.25', 'A1;0.25', 'A1;0.5', 'A1;0.25', 'A1;0.25', 'A1;0.5', 'A1;0.25', 'A1;0.25', 'A1;0.5', 'A1;0.25', 'A1;0.25', 'A1;0.5', 'A1;0.25', 'A1;0.25', 'A1;0.5', 'A1;0.25', 'A1;0.25', 'A1;0.5', 'A1;0.25', 'A1;0.25', 'A1;0.5', 'A1;0.25', 'A1;0.25', 'A1;0.5', 'A1;0.25', 'A1;0.25', 'A1;0.5', 'A1;0.25', 'A1;0.25', 'A1;0.5', 'A1;0.25', 'A1;0.25', 'A1;0.5', 'A1;0.25', 'A1;0.25', 'A1;0.5', 'A1;0.25', 'A1;0.25', 'A1;0.5', 'A1;0.25', 'A1;0.25', 'A1;0.5', 'A1;0.25', 'A1;0.25', 'A1;0.5', 'A1;0.25', 'A1;0.25', 'A1;0.5', 'A1;0.25', 'A1;0.25', 'A1;0.5', 'A1;0.25', 'A1;0.25', 'A1;0.5', 'A1;0.25', 'A1;0.25', 'A1;0.5', 'A1;0.25', 'A1;0.25', 'A1;0.5', 'A1;0.25', 'A1;0.25', 'A1;0.5', 'A1;0.25', 'A1;0.25', 'A1;0.5', 'A1;0.25', 'A1;0.25', 'A1;0.5', 'A1;0.25', 'A1;0.25', 'A1;0.5', 'A1;0.25', 'A1;0.25', 'A1;0.5', 'A1;0.25', 'A1;0.25', 'A1;0.5', 'A1;0.25', 'A1;0.25', 'A1;0.5', 'A1;0.25', 'A1;0.25', 'A1;0.5', 'A1;0.25', 'A1;0.25', 'A1;0.5', 'A1;0.25', 'A1;0.25', 'A1;0.5', 'A1;0.25', 'A1;0.25', 'A1;0.5', 'A1;0.25', 'A1;0.25', 'A1;0.5', 'A1;0.25', 'A1;0.25', 'A1;0.5', 'A1;0.25', 'A1;0.25', 'A1;0.5', 'A1;0.25', 'A1;0.25', 'A1;0.5', 'A1;0.25', 'A1;0.25', 'A1;0.5', 'A1;0.25', 'A1;0.25', 'A1;0.5', 'A1;0.25', 'A1;0.25', 'A1;0.5', 'A1;0.25', 'A1;0.25', 'A1;0.5', 'A1;0.25', 'A1;0.25', 'A1;0.5', 'A1;0.25', 'A1;0.25', 'A1;0.5', 'A1;0.25', 'A1;0.25', 'A1;0.5', 'A1;0.25', 'A1;0.25', 'A1;0.5', 'A1;0.25', 'A1;0.25', 'A1;0.5', 'A1;0.25', 'A1;0.25', 'A1;0.5', 'A1;0.25', 'A1;0.25', 'A1;0.5', 'A1;0.25', 'A1;0.25', 'A1;0.5', 'A1;0.25', 'A1;0.25', 'A1;0.5', 'A1;0.25', 'A1;0.25', 'A1;0.5', 'A1;0.25', 'A1;0.25', 'A1;0.5', 'A1;0.25', 'A1;0.25', 'A1;0.5', 'A1;0.25', 'A1;0.25', 'A1;0.5', 'A1;0.25', 'A1;0.25', 'A1;0.5', 'A1;0.25', 'A1;0.25', 'A1;0.5', 'A1;0.25', 'A1;0.25', 'A1;0.5', 'A1;0.25', 'A1;0.25', 'A1;0.5', 'A1;0.25', 'A1;0.25', 'A1;0.5', 'A1;0.25', 'A1;0.25', 'A1;0.5', 'A1;0.25', 'A1;0.25', 'A1;0.5', 'A1;0.25', 'A1;0.25', 'A1;0.5', 'A1;0.25', 'A1;0.25', 'A1;0.5', 'A1;0.25', 'A1;0.25', 'A1;0.5', 'A1;0.25', 'A1;0.25', 'A1;0.5', 'A1;0.25', 'A1;0.25', 'A1;0.5', 'A1;0.25', 'A1;0.25', 'A1;0.5', 'A1;0.25', 'A1;0.25', 'A1;0.5', 'A1;0.25', 'A1;0.25', 'A1;0.5', 'A1;0.25', 'A1;0.25', 'A1;0.5', 'A1;0.25', 'A1;0.25', 'A1;0.5', 'A1;0.25', 'A1;0.25', 'A1;0.5', 'A1;0.25', 'A1;0.25', 'A1;0.5', 'A1;0.25', 'A1;0.25', 'A1;0.5', 'A1;0.25', 'A1;0.25', 'A1;0.5', 'A1;0.25', 'A1;0.25', 'A1;0.5', 'A1;0.25', 'A1;0.25', 'A1;0.5', 'A1;0.25', 'A1;0.25', 'A1;0.5', 'A1;0.25', 'A1;0.25', 'A1;0.5', 'A1;0.25', 'A1;0.25', 'A1;0.5', 'A1;0.25', 'A1;0.25', 'A1;0.5', 'A1;0.25', 'A1;0.25', 'A1;0.5', 'A1;0.25', 'A1;0.25', 'A1;0.5', 'A1;0.25', 'A1;0.25', 'A1;0.5', 'A1;0.25', 'A1;0.25', 'A1;0.5', 'A1;0.25', 'A1;0.25', 'A1;0.5', 'A1;0.25', 'A1;0.25', 'A1;0.5', 'A1;0.25', 'A1;0.25', 'A1;0.5', 'A1;0.25', 'A1;0.25', 'A1;0.5', 'A1;0.25', 'A1;0.25', 'A1;0.5', 'A1;0.25', 'A1;0.25', 'A1;0.5', 'A1;0.25', 'A1;0.25', 'A1;0.5', 'A1;0.25', 'A1;0.25', 'A1;0.5', 'A1;0.25', 'A1;0.25', 'F1;0.5', 'F1;0.25', 'F1;0.25', 'F1;0.5', 'F1;0.25', 'F1;0.25', 'F1;0.5', 'F1;0.25', 'F1;0.25', 'F1;0.5', 'F1;0.25', 'F1;0.25', 'F1;0.5', 'F1;0.25', 'F1;0.25', 'F1;0.5', 'F1;0.25', 'F1;0.25', 'F1;0.5', 'F1;0.25', 'F1;0.25', 'F1;0.5', 'F1;0.25', 'F1;0.25', 'F1;0.5', 'F1;0.25', 'F1;0.25', 'F1;0.5', 'F1;0.25', 'F1;0.25', 'F1;0.5', 'F1;0.25', 'F1;0.25', 'F1;0.5', 'F1;0.25', 'F1;0.25', 'F1;0.5', 'F1;0.25', 'F1;0.25', 'F1;0.5', 'F1;0.25', 'F1;0.25', 'F1;0.5', 'F1;0.25', 'F1;0.25', 'F1;0.5', 'F1;0.25', 'F1;0.25', 'G1;0.5', 'G1;0.25', 'G1;0.5', 'G1;0.5', 'G1;0.25', 'G1;0.25', 'G1;0.5', 'G1;0.25', 'G1;0.25', 'G1;0.5', 'G1;0.25', 'G1;0.5', 'G1;0.5', 'G1;0.5', 'G1;1.0', 'G1;0.5', 'G1;0.5', 'G1;0.25', 'G1;0.5', 'G1;0.25', 'G1;0.5']\n",
            "['B1;0.5', 'E1;0.5', 'A1;0.5', 'G1;0.5', 'A1;0.5', 'A1;0.5', 'A1;0.5', 'A1;0.5', 'A1;0.5', 'A1;0.5', 'A1;0.5', 'A1;0.5', 'A1;0.5', 'A1;0.5', 'A1;0.5', 'A1;0.5', 'A1;0.5', 'A1;0.5', 'A1;0.5', 'A1;0.5', 'A1;0.5', 'A1;0.5', 'C2;0.25', 'C2;0.25', 'C2;0.25', 'C2;0.25', 'C2;0.5', 'C2;0.5', 'C2;0.25', 'C2;0.5', 'C2;0.25', 'C2;0.25', 'C2;0.25', 'C2;0.25', 'C2;0.25', 'C2;0.25', 'C2;0.25', 'C2;0.25', 'C2;0.25', 'C2;0.25', 'C2;0.25', 'C2;0.5', 'C2;0.25', 'C2;0.25', 'C2;0.25', 'C2;0.25', 'C2;0.25', 'C2;0.5', 'C2;0.25', 'C2;0.25', 'D2;0.5', 'D2;0.25', 'D2;0.25', 'D2;0.25', 'D2;0.5', 'D2;0.25', 'D2;0.5', 'D2;0.25', 'D2;0.5', 'D2;0.5', 'D2;0.25', 'D2;0.25', 'E2;0.5', '<music21.note.Rest,rest;0.25', 'E2;0.25', 'E2;0.25', 'G2;0.25', 'F#2;0.25', 'E2;0.25', 'D2;0.25', 'E2;0.25', '<music21.note.Rest,rest;0.25', 'E2;0.25', 'E2;0.25', 'D2;0.5', 'E2;1.0', 'E2;0.25', 'E2;0.25', 'G2;0.25', 'F#2;0.25', 'E2;0.25', 'D2;0.25', 'E2;0.5', 'E2;0.25', 'E2;0.25', 'D2;0.5', 'D2;0.5', 'E2;0.5', 'E2;0.25', 'E2;0.25', 'E2;0.5', 'E2;0.25', 'E2;0.25', 'E2;0.5', 'E2;0.25', 'E2;0.25', 'E2;0.5', 'E2;0.25', 'E2;0.25', 'E2;0.5', 'E2;0.25', 'E2;0.25', 'E2;0.5', 'E2;0.25', 'E2;0.25', 'E2;0.5', 'E2;0.25', 'E2;0.25', 'E2;0.5', 'E2;0.25', 'E2;0.25', 'E2;0.5', 'E2;0.25', 'E2;0.25', 'E2;0.5', 'E2;0.25', 'E2;0.25', 'E2;0.5', 'A1;0.5', 'D2;0.5', 'G2;0.5', 'F#2;0.5', 'D2;0.5', 'G2;0.5', 'F#2;0.5', 'D2;0.5', 'G2;0.5', 'F#2;0.5', 'D2;0.5', 'G2;0.5', 'F#2;0.5', 'G2;0.5', 'D2;0.5', 'G2;0.5', 'A2;0.5', 'E2;0.5', 'E2;0.25', 'E2;0.25', 'E2;0.5', 'E2;0.25', 'E2;0.25', 'E2;0.5', 'E2;0.25', 'E2;0.25', 'E2;0.5', 'E2;0.25', 'E2;0.25', 'E2;0.5', 'E2;0.25', 'E2;0.25', 'E2;0.5', 'E2;0.25', 'E2;0.25', 'E2;0.5', 'E2;0.25', 'E2;0.25', 'E2;0.5', 'E2;0.25', 'E2;0.25', 'E2;0.5', 'E2;0.25', 'E2;0.25', 'E2;0.5', 'E2;0.25', 'E2;0.25', 'E2;0.5', 'A1;0.5', 'D2;0.5', 'G2;0.5', 'F#2;0.5', 'D2;0.5', 'G2;0.5', 'F#2;0.5', 'D2;0.5', 'G2;0.5', 'F#2;0.5', 'D2;0.5', 'G2;0.5', 'F#2;0.5', 'G2;0.5', 'D2;0.5', 'G2;0.5', 'A2;0.5', 'E2;0.5', 'E2;0.25', 'E2;0.25', 'E2;0.5', 'E2;0.25', 'E2;0.25', 'E2;0.5', 'E2;0.25', 'E2;0.25', 'E2;0.5', 'E2;0.25', 'E2;0.25', 'E2;0.5', 'E2;0.25', 'E2;0.25', 'E2;0.5', 'E2;0.25', 'E2;0.25', 'E2;0.5', 'E2;0.25', 'E2;0.25', 'E2;0.5', 'E2;0.25', 'E2;0.25', 'E2;0.5', 'E2;0.25', 'E2;0.25', 'E2;0.5', 'E2;0.25', 'E2;0.25', 'E2;0.5', 'E2;0.25', 'E2;0.25', 'E2;0.5', 'E2;0.25', 'E2;0.25', 'C2;0.5', 'C2;0.25', 'C2;0.25', 'C2;0.5', 'C2;0.25', 'C2;0.25', 'C2;0.5', 'C2;0.25', 'C2;0.25', 'C2;0.5', 'C2;0.25', 'C2;0.25', 'G1;0.5', 'G1;0.25', 'G1;0.25', 'G1;0.5', 'G1;0.25', 'G1;0.25', 'G1;0.5', 'G1;0.25', 'G1;0.25', 'G1;0.5', 'G1;0.25', 'G1;0.25', 'D2;0.5', 'D2;0.25', 'D2;0.25', 'D2;0.5', 'D2;0.25', 'D2;0.25', 'D2;0.5', 'D2;0.25', 'D2;0.25', 'D2;0.25', 'D2;0.25', 'D2;0.5', 'G2;0.5', 'A2;0.5', 'A2;0.5', 'A2;0.5', 'D3;0.5', 'D3;0.5', 'D3;0.5', 'D3;0.5', 'D3;0.5', 'D3;0.5', 'D3;0.5', 'D3;0.5', 'D3;0.5', 'D3;0.5', 'G2;0.5', 'A2;0.5', 'D2;0.5', 'D2;0.5', 'D2;0.5', 'D2;0.5', 'D2;0.5', 'D2;0.5', 'D2;0.5', 'D2;0.5', 'D2;0.5', 'D2;0.5', 'D2;0.5', 'D2;0.5', 'D2;0.5', 'D2;0.5', 'D2;0.5', 'D2;0.5', 'G2;0.5', 'A2;0.5', 'A2;0.5', 'A2;0.5', 'C2;0.5', 'C2;0.5', 'C2;0.5', 'C2;0.5', 'C2;0.5', 'C2;0.5', 'C2;0.5', 'C2;0.5', 'G1;0.5', 'G1;0.5', 'G1;0.5', 'G1;0.5', 'G1;0.5', 'G1;0.5', 'G1;0.5', 'G1;0.5', 'D2;0.5', 'D2;0.5', 'D2;0.5', 'D2;0.5', 'D2;0.5', 'D2;0.5', 'D2;0.5', 'D2;0.5', 'D2;0.5', 'D2;0.5', 'D2;0.5', 'D2;0.5', 'D2;0.25', 'D2;0.25', 'C2;0.5', 'C2;0.5', 'C2;0.5', 'C2;0.25', 'C2;0.5', 'C2;0.5', 'C2;0.5', 'C2;0.25', 'C2;0.25', 'C2;0.5', 'G1;1.0', 'G1;0.25', 'G1;0.25', 'G1;0.25', 'G1;0.25', 'G1;0.5', 'G1;0.25', 'G1;0.25', 'G1;0.5', 'G1;0.5', 'G1;0.25', 'G1;0.25', 'G1;0.25', 'G1;0.25', 'G1;0.25', 'G1;0.25', 'G1;0.25', 'G1;0.25', 'G1;0.25', 'G1;0.25', 'G1;0.25', 'G1;0.5', 'G1;0.25', 'G1;0.5', 'G1;0.5', 'G1;0.5', 'G1;0.5', 'G1;0.5', 'G1;0.5', 'G1;0.5', 'G1;0.5', 'G1;0.25', 'G1;0.5', 'G1;0.5', 'G1;0.5', 'G1;0.5', 'G1;0.25', 'G1;0.25', 'G1;0.5', 'G1;0.5', 'G1;0.5', 'G1;0.5', 'G1;0.5', 'G1;0.25', 'G1;0.5', 'G1;0.5', 'G1;0.5', 'G1;0.5', 'G1;0.25', 'G1;0.5', 'G1;0.25', 'G1;0.5', 'G1;0.5', 'G1;0.5', 'G1;0.25', 'G1;0.25', 'G1;0.5', 'G1;0.5', 'G1;0.5', 'G1;0.25', 'G1;0.5', 'G1;0.25', 'G1;0.25', 'G1;0.5', 'G1;0.5', 'G1;0.5', 'G1;1.0', 'G1;0.5', 'G1;0.5', 'G1;0.5', 'G1;0.5', 'G1;0.5', 'G1;0.5', 'G1;0.5', 'G1;0.25', 'G1;0.5', 'G1;0.5', 'G1;1.0', 'G1;0.25', 'G1;0.5', 'G1;0.5', 'G1;0.25', 'G1;0.5', 'G1;0.5', 'G1;0.5', 'G1;0.5', 'F2;0.25', 'G1;0.5', 'F1;0.5', 'F1;0.25', 'E1;0.25', 'E1;0.5', 'E1;0.25', 'E1;0.5', 'E1;0.5', 'E1;0.5', 'E1;0.5', 'E1;0.25', 'E1;0.25', 'E1;0.25', 'E1;0.25', 'E1;0.25', 'E1;0.25', 'E1;0.5', 'E1;0.25', 'E-2;0.25', 'E1;0.25', 'E1;0.25', 'E1;0.25', 'E1;0.25', 'E1;0.5', 'E1;0.5', 'E1;1.0', 'E1;0.5', 'E1;0.5', 'E1;0.5', 'E1;0.5', 'E1;0.5', 'E1;1.0', 'E1;0.5', 'E1;0.5', 'E1;0.5', 'E1;0.5', 'E1;0.5', 'E1;1.0', 'E1;0.5', 'E1;0.5', 'E1;0.25', 'E1;0.5', 'E1;0.5', 'E1;0.5', 'E1;0.5', 'E1;0.5', 'E1;0.25', 'E1;0.5', 'E1;0.5', 'G1;0.5', 'G1;0.5', 'G1;0.5', 'G1;0.5', 'G1;0.5', 'G1;0.5', 'G1;0.25', 'G1;0.25', 'G1;0.25', 'G1;0.25', 'G1;0.5', 'G1;0.5', 'C2;0.5', 'C2;0.25', 'C2;0.25', 'C2;0.5', 'C2;0.25', 'C2;0.25', 'C2;0.5', 'C2;0.25', 'C2;0.5', 'C2;0.5', 'C2;0.5', 'C2;0.5', 'C2;0.5', 'C2;0.5', 'C2;0.5', 'C2;0.5', 'D2;0.5', 'D2;0.5', 'D2;0.5', 'D2;0.5', 'D2;0.5']\n",
            "['B1;0.5', 'E1;0.5', 'A1;0.5', 'G1;0.5', 'A1;0.5', 'A1;0.5', 'A1;0.5', 'A1;0.5', 'A1;0.5', 'A1;0.5', 'A1;0.5', 'A1;0.5', 'A1;0.5', 'A1;0.5', 'A1;0.5', 'A1;0.5', 'A1;0.5', 'A1;0.5', 'A1;0.5', 'A1;0.5', 'A1;0.5', 'A1;0.5', 'C2;0.25', 'C2;0.25', 'C2;0.25', 'C2;0.25', 'C2;0.25', 'C2;0.5', 'C2;0.5', 'C2;0.25', 'D2;0.5', 'D2;0.5', 'D2;0.5', 'D2;0.5', 'D2;0.5', 'D2;0.5', 'D2;0.5', 'D2;0.5', 'E1;0.5', 'E1;0.5', 'E1;0.5', 'E1;0.5', 'E1;0.25', 'E1;0.5', 'E1;0.5', 'E1;0.5', 'E1;0.5', 'E1;0.5', 'E1;0.5', 'E1;0.5', 'G1;0.5', 'G1;0.25', 'G1;0.25', 'G1;0.5', 'G1;0.25', 'G1;0.25', 'G1;0.5', 'G1;0.25', 'G1;0.25', 'G1;0.5', 'G1;0.5', 'G1;0.25', 'C2;0.5', 'C2;0.25', 'C2;0.25', 'C2;0.5', 'C2;0.25', 'C2;0.25', 'C2;0.5', 'C2;0.25', 'C2;0.5', 'C2;0.5', 'C2;0.25', 'C2;0.5', 'C2;0.5', 'C2;0.5', 'C2;0.5', 'C2;0.5', 'D2;0.5', 'D2;0.5', 'D2;0.5', 'D2;0.5', 'D2;0.25', 'D2;0.5', 'D2;0.5', 'D2;0.25', 'D2;0.5', 'D2;0.5', 'E2;1.0', 'E2;0.25', 'E2;0.25', 'E2;0.5', 'E2;0.25', 'E2;0.25', 'E2;0.5', 'E2;0.25', 'E2;0.25', 'E2;0.5', 'E2;0.25', 'E2;0.5', 'E2;0.5', 'E2;0.25', 'E2;0.25', 'E2;0.5', 'E2;0.25', 'E2;0.25', 'E2;0.5', 'E2;0.25', 'E2;1.0', 'E2;0.5', 'C2;1.0', 'C2;0.25', 'C2;0.25', 'C2;0.5', 'C2;0.25', 'C2;0.5', 'C2;0.5', 'C2;0.25', 'C2;0.5', 'C2;0.5', 'A1;0.5', 'A1;0.25', 'A1;0.25', 'A1;0.5', 'A1;0.25', 'A1;0.25', 'A1;0.5', 'A1;0.5', 'A1;0.5', 'A1;0.5', 'A1;0.5', 'A1;0.25', 'A1;0.5', 'A1;0.5', 'A1;0.5', 'A1;0.5', 'E2;0.5', 'E2;0.5', 'E2;0.5', 'E2;0.5', 'E2;0.5', 'E2;0.25', 'E2;0.5', 'E2;0.5', 'E2;0.5', 'E2;0.5', 'E2;0.75', 'E2;0.25', 'E2;0.5', 'E2;0.25', 'E2;0.25', 'E2;0.5', 'E2;0.25', 'E2;0.5', 'E2;0.5', 'E2;0.25', 'E2;0.25', 'E2;0.5', 'E2;0.25', 'C2;0.25', 'C2;0.5', 'C2;0.25', 'C2;0.5', 'C2;0.5', 'C2;0.25', 'C2;0.5', 'C2;0.25', 'C2;0.25', 'C2;0.25', 'C2;0.25', 'C2;0.25', 'D2;0.5', 'D2;0.25', 'D2;0.25', 'D2;0.25', 'D2;0.25', 'D2;0.25', 'D2;0.5', 'D2;0.25', 'D2;0.25', 'D2;0.5', 'E2;1.0', 'E2;0.25', 'E2;0.25', 'E2;0.5', 'E2;0.25', 'E2;0.25', 'E2;0.5', 'E2;0.25', 'E2;0.25', 'E2;0.5', 'E2;0.25', 'E2;0.25', 'E2;0.5', 'E2;0.25', 'E2;0.5', 'E2;0.5', 'E2;0.25', 'E2;0.25', 'E2;0.5', 'E2;0.25', 'E2;0.25', 'D2;0.25', 'D2;0.25', 'D2;0.25', 'D2;0.5', 'D2;0.25', 'D2;0.25', 'D2;0.5', 'D2;0.25', 'D2;0.25', 'D2;0.5', 'D2;0.25', 'D2;0.25', 'D2;0.5', 'D2;0.25', 'D2;0.25', 'D2;0.5', 'D2;0.25', 'D2;0.25', 'D2;0.5', 'D2;0.25', 'D2;0.25', 'D2;0.5', 'D2;0.25', 'D2;0.25', 'D2;0.5', 'D2;0.25', 'D2;0.25', 'D2;0.5', 'D2;0.25', 'D2;0.25', 'D2;0.5', 'C2;0.25', 'B-1;0.25', 'B-1;0.5', 'B1;1.0', 'B-1;0.25', 'B1;0.5', 'B-1;1.0', 'B-1;0.5', 'B-1;0.5', 'B-1;0.5', 'B-1;0.5', 'B-1;0.5', 'C2;0.5', 'C2;0.25', 'C2;0.25', 'C2;0.5', 'C2;0.5', 'C2;0.25', 'C2;0.5', 'C2;0.25', 'C2;0.25', 'C2;0.5', 'C2;0.25', 'C2;0.25', 'C2;0.5', 'C2;0.5', 'C2;0.5', 'C2;0.5', 'D2;0.5', 'D2;0.5', 'D2;0.5', 'D2;0.5', 'D2;0.5', 'D2;0.5', 'D2;0.5', 'D2;0.25', 'D2;0.5', 'D2;0.5', 'E2;1.0', 'E2;0.25', 'E2;0.25', 'E2;0.5', 'E2;0.25', 'E2;0.25', 'E2;0.5', 'E2;0.25', 'E2;0.25', 'E2;0.5', 'E2;0.25', 'E2;0.5', 'G2;0.5', 'G2;0.5', 'G2;0.5', 'G2;0.5', 'D2;0.5', 'D2;0.5', 'D2;0.5', 'D2;0.5', 'D2;0.5', 'D2;0.5', 'D2;0.5', 'D2;0.5', 'D2;0.5', 'D2;0.5', 'D2;0.5', 'D2;0.5', 'D2;0.5', 'D2;0.5', 'D2;0.5', 'D2;0.5', 'E2;0.5', 'E2;0.25', 'E2;0.5', 'E2;0.5', 'E2;0.25', 'E2;0.5', 'E2;0.5', 'E2;0.25', 'E2;0.25', 'E2;0.5', 'E2;0.25', 'E2;0.5', 'E2;0.5', 'E2;0.25', 'E2;0.25', 'E2;0.5', 'E2;0.25', 'E2;0.25', 'E2;0.5', 'E2;0.25', 'E2;0.25', 'E2;0.5', 'E2;0.5', 'E2;0.25', 'E2;0.5', 'E2;0.25', 'E2;0.25', 'E2;0.5', 'E2;0.25', 'E2;0.25', 'G2;0.5', 'G2;0.5', 'G#2;0.5', 'F#2;0.25', 'F#2;0.25', 'E2;0.25', 'E2;0.5', 'D3;0.5', 'E2;0.25', 'D2;1.0', 'D2;0.5', 'D2;0.5', 'D2;0.5', 'D2;0.5', 'D2;0.5', 'D2;0.5', 'D2;0.5', 'D2;0.5', 'D2;0.5', 'D2;0.5', 'D2;0.5', 'D2;0.5', 'D2;0.5', 'D2;1.0', 'D2;0.5', 'D2;1.0', 'D2;0.5', 'G2;0.5', 'F2;0.5', 'E2;0.25', 'D2;0.5', 'E2;0.75', 'G2;0.25', 'F#2;0.25', 'E2;0.25', 'D2;0.5', 'E2;0.5', 'G2;0.25', 'F#2;0.25', 'D2;0.25', 'D2;0.25', 'D2;0.25', 'D2;0.25', 'D2;0.25', 'D2;0.25', 'D2;0.25', 'D2;0.25', 'D2;0.25', 'D2;0.25', 'D2;0.25', 'D2;0.25', 'D2;0.25', 'B-1;0.5', 'B-1;0.25', 'B-1;0.25', 'B-1;0.25', 'B-1;0.25', 'B-1;0.25', 'B-1;0.25', 'B-1;0.25', 'B-1;0.25', 'B-1;0.5', 'B-1;0.5', 'B-1;0.25', 'G1;0.5', 'G1;0.25', 'G1;0.25', 'G1;0.5', 'G1;0.25', 'G1;0.25', 'G1;0.5', 'G1;0.25', 'G1;0.25', 'G1;0.5', 'G1;0.25', 'G1;0.25', 'A1;0.5', 'A1;0.25', 'A1;0.25', 'A1;0.5', 'A1;0.25', 'A1;0.25', 'A1;0.5', 'A1;0.25', 'A1;0.25', 'A1;0.5', 'A1;0.25', 'A1;0.25', 'A1;0.5', 'A1;0.25', 'A1;0.25', 'A1;0.5', 'A1;0.25', 'A1;0.25', 'A1;0.5', 'A1;0.25', 'A1;0.25', 'A1;0.5', 'A1;0.25', 'A1;0.25', 'A1;0.5', 'A1;0.25', 'A1;0.25', 'A1;0.5', 'A1;0.25', 'A1;0.25', 'A1;0.5', 'A1;0.25', 'A1;0.25', 'A1;0.5', 'A1;0.25', 'A1;0.25', 'A1;0.5', 'A1;0.25', 'A1;0.25', 'A1;0.5', 'A1;0.25', 'A1;0.25', 'A1;0.5', 'A1;0.25', 'A1;0.25', 'A1;0.5', 'A1;0.25', 'A1;0.25', 'A1;0.5', 'A1;0.25', 'A1;0.25', 'A1;0.5', 'A1;0.25', 'A1;0.25', 'A1;0.5', 'A1;0.25', 'A1;0.25', 'A1;0.5', 'A1;0.25', 'A1;0.25', 'A1;0.5', 'A1;0.25', 'A1;0.25', 'A1;0.5', 'A1;0.25', 'A1;0.25', 'A1;0.5', 'A1;0.25', 'A1;0.25', 'A1;0.5', 'A1;0.25', 'A1;0.25', 'A1;0.5', 'A1;0.25', 'A1;0.25', 'A1;0.5', 'A1;0.25', 'A1;0.25', 'A1;0.5', 'A1;0.25', 'A1;0.25', 'A1;0.5', 'A1;0.25', 'A1;0.25', 'A1;0.5', 'A1;0.25', 'A1;0.25', 'A1;0.5', 'A1;0.25', 'A1;0.25', 'A1;0.5']\n",
            "['B1;0.5', 'E1;0.5', 'E2;0.5', 'E1;0.5', 'E1;0.5', 'E1;0.5', 'E1;0.5', 'E1;0.5', 'E1;0.5', 'E1;0.5', 'G1;0.25', 'F#1;0.25', 'G1;0.25', 'F#1;0.25', 'G1;0.25', 'F#1;0.25', 'E1;0.25', 'E2;0.25', 'G2;0.25', 'E2;0.25', 'E2;0.25', 'E2;0.25', 'F#2;0.25', 'E2;0.25', 'D2;0.25', 'G2;0.25', 'F#2;0.25', 'E2;0.25', 'E2;0.25', 'G2;0.25', 'F#2;0.25', 'E2;0.25', 'D2;0.25', 'G2;0.25', 'F#2;0.25', 'E2;0.25', 'D2;0.25', 'G2;0.25', 'F#2;0.25', 'E2;0.25', 'D2;0.25', 'G2;0.25', 'F#2;0.25', 'E2;0.25', 'D2;0.25', 'G2;0.25', 'F#2;0.25', 'E2;0.25', 'D2;0.25', 'G2;0.25', '<music21.note.Rest,rest;0.25', 'G2;0.25', '<music21.note.Rest,rest;0.25', 'D2;0.25', 'E2;0.25', 'F#2;0.25', 'E2;0.75', 'E2;0.25', 'E2;0.25', 'E2;0.5', 'E2;0.25', 'E2;0.25', 'E2;0.5', 'E2;0.25', 'E2;0.25', 'E2;0.5', 'E2;0.25', 'E2;0.25', 'E2;0.5', 'E2;0.25', 'E2;0.25', 'E2;0.5', 'E2;0.25', 'E2;0.25', 'E2;0.5', 'E2;0.25', 'E2;0.25', 'C2;0.5', 'C2;0.25', 'C2;0.25', 'C2;0.5', 'C2;0.25', 'C2;0.25', 'C2;0.5', 'C2;0.25', 'C2;0.25', 'C2;0.5', 'C2;0.25', 'C2;0.25', 'G1;0.5', 'G1;0.25', 'G1;0.25', 'G1;0.5', 'G1;0.25', 'G1;0.25', 'G1;0.5', 'G1;0.25', 'G1;0.25', 'G1;0.5', 'G1;0.25', 'G1;0.25', 'G1;0.25', 'G1;0.25', 'G1;0.25', 'G1;0.25', 'G1;0.25', 'G1;0.25', 'G1;0.25', 'G1;0.25', 'G1;0.5', 'C2;1.0', 'C2;0.5', 'C2;0.5', 'C2;0.5', 'C2;0.5', 'C2;0.5', 'C2;0.5', 'C2;0.5', 'C2;0.5', 'C2;0.5', 'C2;0.5', 'C2;0.5', 'C2;0.5', 'C2;0.5', 'D2;0.5', 'D2;0.25', 'D2;0.5', 'D2;0.5', 'D2;0.5', 'D2;0.25', 'D2;0.5', 'D2;0.5', 'D2;0.5', 'D2;0.5', 'E2;0.5', 'E2;0.25', 'E2;0.25', 'E2;0.5', 'E2;0.25', 'E2;0.25', 'E2;0.5', 'E2;0.25', 'E2;0.25', 'E2;0.5', 'E2;0.25', 'E2;0.25', 'E2;0.5', 'E2;0.25', 'E2;0.5', 'E2;0.5', 'E2;0.25', 'E2;0.25', 'E2;0.5', 'E2;0.25', 'E2;0.25', 'C2;0.5', 'C2;0.25', 'C2;0.25', 'C2;0.5', 'C2;0.25', 'C2;0.25', 'C2;0.5', 'C2;0.25', 'C2;0.25', 'C2;0.25', 'B1;1.5', 'B1;0.5', 'B1;0.5', 'B1;0.5', 'A1;0.5', 'F#1;0.5', 'B1;1.5', 'B1;0.5', 'B1;0.5', 'B1;0.5', 'A1;0.5', 'B1;0.5', 'C2;1.5', 'C2;0.5', 'C2;0.5', 'C2;0.5', 'B1;0.5', 'C2;0.5', 'D2;0.5', 'G2;0.5', 'A2;0.5', 'B2;0.5', 'A2;0.5', 'F#2;0.5', 'D2;0.5', 'E2;0.5', 'A2;0.25', 'A2;0.25', 'A1;0.5', 'B2;0.25', 'B2;0.5', 'B2;0.5', 'B2;0.25', 'C3;0.25', 'B2;0.25', 'B2;0.5', 'B2;0.25', 'B2;0.25', 'B2;0.25', 'B2;0.25', 'B2;0.25', 'B2;0.25', 'B2;0.25', 'B2;0.25', 'B2;0.25', 'B2;0.25', 'B2;0.5', 'B2;0.25', 'B2;0.25', 'B2;0.25', 'B2;0.5', 'B2;0.25', 'B2;0.5', 'F3;0.5', 'E3;0.5', 'C3;0.5', 'B2;0.5', 'B2;0.25', 'B2;0.25', 'A2;0.5', 'B2;0.25', 'B2;0.25', 'B2;0.5', 'B2;0.5', 'B2;0.25', 'B2;0.5', 'B2;0.25', 'B2;0.25', 'B2;0.25', 'B2;0.25', 'B2;0.25', 'B2;0.5', 'B2;0.25', 'B2;0.25', 'B2;0.5', 'A2;0.25', 'A2;0.25', 'B2;0.25', 'B2;0.25', 'F#2;0.5', 'A2;0.5', 'B2;0.5', 'B2;0.25', 'B2;0.25', 'B2;0.25', 'B2;1.0', 'A2;0.25', 'A2;0.25', 'B2;0.25', 'A2;0.25', 'F#2;0.5', 'G2;0.25', 'A2;0.25', 'A2;0.25', 'A2;0.25', 'A2;0.25', 'A2;1.0', 'G2;0.25', 'G2;0.25', 'A2;0.25', 'G2;0.25', 'E2;0.5', 'A2;0.25', 'B2;0.25', 'B2;0.25', 'B2;0.5', 'B2;0.25', 'B2;0.25', 'A2;0.25', 'A2;0.25', 'B2;0.25', 'A2;0.25', 'F#2;0.5', 'A2;0.25', 'B2;0.25', 'B2;0.25', 'B2;0.5', 'B2;0.25', 'B2;1.0', 'A2;0.25', 'A2;0.25', 'B2;0.25', 'A2;0.25', 'F#2;0.5', 'A2;0.25', 'B2;0.25', 'B2;0.25', 'B2;0.5', 'B2;0.25', 'B2;1.0', 'A2;0.25', 'A2;0.25', 'B2;0.25', 'A2;0.25', 'F#2;0.5', 'G2;0.25', 'A2;0.25', 'A2;0.25', 'A2;0.5', 'A2;0.25', 'A2;1.0', 'G2;0.25', 'G2;0.25', 'A2;0.25', 'G2;0.25', 'E2;0.5', 'A2;0.25', 'B2;0.25', 'B2;0.25', 'B2;0.5', 'B2;0.25', 'B2;0.25', 'B2;0.25', 'B2;0.25', 'B2;0.25', 'B2;0.25', 'B2;0.25', 'B2;0.25', 'B2;0.25', 'B2;0.25', 'B2;0.25', 'B2;0.25', 'B2;0.25', 'B2;0.25', 'B2;0.25', 'B2;0.25', 'F3;0.5', 'E3;0.5', 'C3;0.5', 'B2;0.5', 'B2;0.25', 'B2;0.25', 'B2;0.5', 'B2;0.25', 'B2;0.25', 'B2;0.5', 'B2;0.25', 'B2;0.25', 'B2;0.5', 'B2;0.25', 'B2;0.25', 'B2;0.5', 'B2;0.25', 'B2;0.25', 'B2;0.25', 'B2;0.25', 'B2;0.25', 'C3;0.5', 'A2;0.5', 'B2;1.0', 'B2;0.25', 'B2;0.25', 'B2;0.5', 'B2;0.25', 'B2;0.25', 'B2;0.5', 'B2;0.25', 'B2;0.25', 'B2;0.5', 'B2;0.25', 'B2;0.25', 'B2;0.5', 'B2;0.25', 'B2;0.25', 'B2;0.5', 'B2;0.5', 'B2;0.25', 'B2;0.5', 'F3;0.5', 'E3;0.5', 'C3;0.5', 'B2;0.5', 'B2;0.25', 'B2;0.25', 'A2;0.5', 'B2;0.25', 'B2;0.25', 'B2;0.5', 'B2;0.25', 'B2;0.25', 'B2;0.25', 'A2;0.25', 'G2;0.5', 'A2;0.25', 'A2;0.25', 'B2;0.25', 'D3;1.0', 'B2;0.5', 'F#2;0.5', 'D2;0.5', 'E2;0.5', 'F#2;0.5', 'E2;0.5', 'F#2;0.5', 'D2;0.5', 'E-2;1.0', 'C#2;0.5', 'D2;0.5', 'B-1;0.5', 'A1;0.5', 'A1;0.5', 'A2;0.5', 'A1;0.5', 'A1;0.5', 'A1;0.5', 'A2;0.5', 'A1;0.5', 'F1;0.5', 'F1;0.5', 'F2;0.5', 'F2;0.5', 'F2;0.5', 'F2;0.5', 'F1;0.5', 'G1;0.5', 'F2;0.25', 'E2;0.5', 'E2;0.5', 'E2;1.0', 'E2;0.5', 'E2;0.5', 'E2;0.5', 'E2;0.25', 'E2;0.5', 'E2;0.5', 'E2;0.5', 'E2;0.25', 'E2;0.25', 'E2;0.25', 'E2;0.5', 'E2;0.25', 'E2;0.25', 'E2;0.25', 'E2;0.25', 'E2;0.25', 'E2;0.5', 'E2;0.5', 'E2;0.25', 'E2;0.5', 'E2;0.25', 'E2;0.25', 'C#2;0.25', 'C2;0.25', 'C#2;0.25', 'A2;0.5', 'B2;0.25', 'D2;0.25', 'D2;0.25', 'D2;0.25', 'D2;0.25', 'D2;0.25', 'D2;0.25', 'D2;0.25', 'D2;0.25', 'D2;0.25', 'D2;0.25', 'D2;0.25', 'D2;0.25', 'D2;0.25', 'D2;0.25', 'D2;0.25', 'D2;0.5', 'D2;0.25', 'D2;0.25', 'D2;0.5', 'D2;0.25', 'D2;0.5', 'D2;0.25', 'D2;0.5', 'D2;0.25', 'D2;0.25', 'D2;0.5', 'D2;0.25', 'D2;0.25', 'D2;0.25', 'D2;0.25', 'D2;0.25', 'D2;0.5', 'D2;0.25', 'D2;0.5', 'D2;1.5', 'D2;0.25', 'D2;0.25', 'D2;1.0', 'D2;0.25', 'D2;0.25', 'D2;0.5', 'D2;0.25', 'D2;0.25', 'D2;0.5', 'D2;0.25', 'D2;0.25', 'D2;0.5', 'C2;0.5', 'C2;0.25']\n",
            "['B1;0.5', 'E1;0.5', 'E2;0.5', 'E1;0.5', 'E1;0.5', 'E1;0.5', 'E1;0.5', 'E1;0.5', 'E1;0.5', 'E1;0.5', 'E1;0.5', 'E1;0.25', 'E1;0.25', 'G1;0.25', 'A1;0.5', 'A1;0.5', 'E1;0.25', 'E2;1/3', 'E1;1/3', 'E2;0.25', 'E1;1/3', 'E2;0.25', 'E1;1/3', 'E2;0.5', 'E1;1/3', 'E2;0.5', 'E1;0.5', 'E2;0.5', 'E1;0.5', 'E2;0.5', 'E1;0.5', 'E2;0.5', 'E1;0.5', 'E2;0.5', 'E1;0.5', 'D2;0.5', 'E1;0.5', 'D2;0.5', 'E1;0.5', 'C2;0.5', 'E1;0.5', 'B1;1.0', 'E2;0.5', 'E1;0.5', 'E2;0.5', 'E1;0.5', 'E2;0.5', 'E1;0.5', 'E2;0.5', 'E1;0.5', 'E2;0.5', 'E1;0.5', 'E2;0.5', 'E1;0.5', 'E2;0.5', 'E1;0.5', 'E2;0.5', 'E1;0.5', 'E2;0.5', 'E1;0.5', 'E2;0.5', 'E1;0.5', 'E2;0.5', 'E1;0.5', 'D2;0.5', 'E1;0.5', 'D2;0.5', 'E1;0.5', 'C2;0.5', 'E1;0.5', 'B1;1.0', 'E2;0.5', 'E1;0.5', 'E2;0.5', 'E1;0.5', 'E2;0.5', 'E1;0.5', 'E2;0.5', 'E1;0.5', 'A2;0.5', 'A1;0.5', 'A2;0.5', 'A1;0.5', 'A2;0.5', 'A1;0.5', 'A2;0.5', 'A1;0.5', 'A2;0.5', 'A2;0.5', 'B2;0.25', 'A2;0.5', 'A2;0.5', 'A2;0.5', 'G2;0.5', 'A2;0.5', 'A2;0.5', 'A2;0.5', 'G2;0.5', 'F#2;0.5', 'E2;0.5', 'A2;0.5', 'A2;0.5', 'A2;0.5', 'A2;0.5', 'A2;0.5', 'A2;0.5', 'A2;0.5', 'A2;0.5', 'A2;0.5', 'G2;0.5', 'A2;0.5', 'A2;0.5', 'A2;0.5', 'G2;0.5', 'F#2;0.5', 'E2;0.5', 'A2;0.5', 'A2;0.5', 'A2;0.5', 'A2;0.5', 'A2;0.5', 'A2;0.5', 'A2;0.5', 'A2;0.5', 'D3;0.5', 'D3;0.5', 'D3;0.5', 'D3;0.5', 'D3;0.5', 'C3;0.5', 'B2;0.5', 'A2;0.5', 'A2;0.5', 'A2;0.5', 'A2;0.5', 'A2;0.5', 'A2;0.5', 'A2;0.5', 'A2;0.5', 'A2;0.5', 'A2;0.5', 'G2;0.5', 'A2;0.5', 'A2;0.5', 'A2;0.5', 'G2;0.5', 'F#2;0.5', 'E2;0.5', 'A2;0.5', 'A2;0.5', 'A2;0.5', 'A2;0.5', 'A2;0.5', 'A2;0.5', 'A2;0.5', 'A2;0.5', 'A2;0.5', 'G2;0.5', 'A2;0.5', 'A2;0.5', 'A2;0.5', 'G2;0.5', 'F#2;0.5', 'E2;0.5', 'A2;0.5', 'A2;0.5', 'A2;0.5', 'A2;0.5', 'A2;0.5', 'A2;0.5', 'A2;0.5', 'A2;0.5', 'A2;0.5', 'G2;0.5', 'A2;0.5', 'A2;0.5', 'A2;0.5', 'G2;0.5', 'F#2;0.5', 'E2;0.5', 'A2;0.5', 'A2;0.5', 'A2;0.5', 'A2;0.5', 'A2;0.5', 'A2;0.5', 'A2;0.5', 'A2;0.5', 'D3;0.5', 'D3;0.5', 'D3;0.5', 'D3;0.5', 'D3;0.5', 'C3;0.5', 'B2;0.5', 'A2;0.5', 'A2;0.5', 'A2;0.5', 'A2;0.5', 'A2;0.5', 'A2;0.5', 'A2;0.5', 'A2;0.5', 'A2;0.5', 'A2;0.5', 'G2;0.5', 'A2;0.5', 'A2;0.5', 'A2;0.5', 'G2;0.5', 'F#2;0.5', 'E2;0.5', 'A2;0.5', 'A2;0.5', 'A2;0.5', 'A2;0.5', 'A2;0.5', 'A2;0.5', 'A2;0.5', 'A2;0.5', 'D3;0.5', 'D3;0.5', 'D3;0.5', 'D3;0.5', 'D3;0.5', 'C3;0.5', 'B2;0.5', 'A2;0.5', 'A2;0.5', 'A2;0.5', 'A2;0.5', 'A2;0.5', 'A2;0.5', 'A2;0.5', 'A2;0.5', 'A2;0.5', 'A2;0.5', 'G2;0.5', 'A2;0.5', 'A2;0.5', 'A2;0.5', 'G2;0.5', 'F#2;0.5', 'E2;0.5', 'A2;0.5', 'A2;0.5', 'A2;0.5', 'A2;0.5', 'A2;0.5', 'A2;0.5', 'A2;0.5', 'A2;0.5', 'D3;0.5', 'D3;0.5', 'D3;0.5', 'D3;0.5', 'D3;0.5', 'C3;0.5', 'B2;0.5', 'A2;0.5', 'A2;0.5', 'A2;0.5', 'A2;0.5', 'A2;0.5', 'A2;0.5', 'A2;0.5', 'A2;0.5', 'A2;0.5', 'A2;0.5', 'G2;0.5', 'A2;0.5', 'A2;0.5', 'A2;0.5', 'G2;0.5', 'F#2;0.5', 'E2;0.5', 'A2;0.5', 'A2;0.5', 'A2;0.5', 'A2;0.5', 'A2;0.5', 'A2;0.5', 'A2;0.5', 'A2;0.5', 'A2;0.5', 'G2;0.5', 'A2;0.5', 'A2;0.5', 'A2;0.5', 'G2;0.5', 'F#2;0.5', 'E2;0.5', 'A2;0.5', 'A2;0.5', 'A2;0.5', 'A2;0.5', 'A2;0.5', 'A2;0.5', 'A2;0.5', 'A2;0.5', 'D3;0.5', 'D3;0.5', 'D3;0.5', 'D3;0.5', 'D3;0.5', 'C3;0.5', 'B2;0.5', 'A2;0.5', 'A2;0.5', 'A2;0.5', 'A2;0.5', 'A2;0.5', 'A2;0.5', 'A2;0.5', 'A2;0.5', 'A2;0.5', 'A2;0.5', 'G2;0.5', 'A2;0.5', 'A2;0.5', 'A2;0.5', 'G2;0.5', 'F#2;0.5', 'E2;0.5', 'A2;0.5', 'A2;0.5', 'A2;0.5', 'A2;0.5', 'A2;0.5', 'A2;0.5', 'A2;0.5', 'A2;0.5', 'A2;0.5', 'G2;0.5', 'A2;0.5', 'A2;0.5', 'A2;0.5', 'G2;0.5', 'F#2;0.5', 'E2;0.5', 'A2;0.5', 'A2;0.5', 'A2;0.5', 'A2;0.5', 'A2;0.5', 'A2;0.5', 'A2;0.5', 'A2;0.5', 'A2;0.5', 'G2;0.5', 'A2;0.5', 'A2;0.5', 'A2;0.5', 'G2;0.5', 'F#2;0.5', 'E2;0.5', 'A2;0.5', 'A2;0.5', 'A2;0.5', 'A2;0.5', 'A2;0.5', 'A2;0.5', 'A2;0.5', 'A2;0.5', 'A2;0.5', 'G2;0.5', 'A2;0.5', 'A2;0.5', 'A2;0.5', 'G2;0.5', 'F#2;0.5', 'E2;0.5', 'A2;0.5', 'A2;0.5', 'A2;0.5', 'A2;0.5', 'A2;0.5', 'A2;0.5', 'A2;0.5', 'A2;0.5', 'A2;0.5', 'G2;0.5', 'A2;0.5', 'A2;0.5', 'A2;0.5', 'G2;0.5', 'F#2;0.5', 'E2;0.5', 'A2;0.5', 'A2;0.5', 'A2;0.5', 'A2;0.5', 'A2;0.5', 'A2;0.5', 'A2;0.5', 'A2;0.5', 'D3;0.5', 'D3;0.5', 'A2;0.5', 'A2;0.5', 'A2;0.5', 'A2;0.5', 'A2;0.5', 'A2;0.5', 'G2;0.5', 'G2;0.25', 'G2;0.5', 'G2;0.5', 'G2;0.25', 'G2;0.25', 'G2;0.5', 'G2;0.5', 'G2;0.5', 'G2;0.5', 'A2;0.5', 'B2;0.5', 'A2,D2;1.0', 'B2;0.5', 'B2;0.25', 'A2;0.25', 'B2;0.25', 'B1;0.25', 'B2;0.25', 'B2;0.25', 'B2;0.25', 'B1;0.5', 'A2;0.25', 'A2;0.25', 'A2;0.25', 'G2;0.25', 'A2;0.25', 'A2;0.5', 'A2;0.5', 'A2;0.25', 'A2;1.0', 'G2;0.25', 'A2;0.25', 'A2;0.25', 'A1;1.0', 'A2;0.25', 'G2;0.25', 'F#2;0.5', 'D3;0.25', 'E2;0.5', 'G2;1.0', 'A2;0.25', 'D2;0.5', 'E2;0.25', 'E3;0.25', 'E2;0.25', 'E2;0.25', 'E2;0.25', 'E2;0.25', 'E2;0.25', 'E2;0.25', 'E2;0.25', 'E2;0.25', 'E2;0.25', 'E2;0.25', 'E2;0.25', 'E2;0.25', 'E2;0.5', 'E2;0.25', 'E2;0.25', 'E2;0.5', 'E2;0.25', 'E2;0.25', 'E2;0.25', 'E2;0.25', 'E2;0.25', 'E2;0.5', 'E2;0.25', 'E2;0.25', 'E2;0.5', 'E2;0.5', 'E2;0.25', 'C2;0.5', 'C2;0.25', 'C2;0.25', 'C2;0.5', 'C2;0.25', 'C2;0.25', 'C2;0.5', 'C2;0.25', 'C2;0.25', 'C2;0.5', 'C2;0.25', 'C2;0.25', 'C2;0.5', 'C2;0.25', 'C2;0.25', 'C2;0.5', 'A1;0.5', 'A1;0.5', 'A1;0.5', 'A1;0.5', 'A1;0.25', 'A1;0.5', 'A1;0.25', 'A1;0.5']\n",
            "['B1;0.5', 'D2;0.5', 'E2;0.5', 'E1;0.5', 'A1;0.5', 'A1;0.5', 'A1;0.5', 'A1;0.5', 'A1;0.5', 'A1;0.5', 'A1;0.5', 'A1;0.5', 'A1;0.5', 'A1;0.5', 'A1;0.5', 'A1;0.5', 'A1;0.5', 'A1;0.5', 'A1;0.5', 'A1;0.5', 'D2;0.5', 'D2;0.5', 'D2;0.5', 'D2;0.5', 'D2;0.5', 'D2;0.25', 'D2;0.5', 'C2;0.5', 'C2;0.25', 'C2;0.25', 'C2;0.5', 'C2;0.25', 'C2;0.5', 'C2;0.5', 'C2;0.25', 'G1;0.25', 'G1;0.25', 'G1;0.25', 'G1;0.5', 'G1;0.25', 'G1;0.25', 'G1;0.25', 'G1;0.25', 'G1;0.25', 'G1;0.25', 'G1;0.25', 'G1;0.25', 'G2;0.25', 'G1;0.25', 'B-1;0.25', 'D2;0.25', 'B-1;0.25', 'D2;0.25', 'B2;0.25', 'A2;0.25', 'A2;0.25', 'B-1;0.25', 'A2;0.25', 'A2;0.25', 'A2;0.25', 'A2;0.25', 'A2;0.25', 'A2;0.25', 'A2;0.25', 'A2;0.25', 'A2;0.25', 'C3;0.25', 'B2;0.25', 'C3;0.5', 'C3;0.25', 'C3;0.25', 'C3;0.25', 'C3;0.25', '<music21.note.Rest,rest;0.25', 'C3;0.5', 'C3;0.25', '<music21.note.Rest,rest;1/12', 'D3,A2,D2;0.5', 'D3,A2,D2;0.5', '<music21.note.Rest,rest;1/12', 'D3;0.25', '<music21.note.Rest,rest;1/12', 'B1;1.5', 'C2;1/3', '<music21.note.Rest,rest;0.25', '<music21.note.Rest,rest;0.5', 'C2;0.25', '<music21.note.Rest,rest;0.25', 'G1;0.25', 'E2;0.25', 'D2;0.25', '<music21.note.Rest,rest;1/6', 'D2;0.5', 'A1;0.5', 'D2;0.5', 'A2;0.25', 'B1;0.5', 'D2;0.25', 'A2;0.25', '<music21.note.Rest,rest;0.25', 'A2;0.25', 'G1;0.25', 'B2;0.25', 'C2;0.5', '<music21.note.Rest,rest;0.25', '<music21.note.Rest,rest;0.5', 'G2;0.25', 'A1;0.25', 'C2;0.5', 'A1;0.5', '<music21.note.Rest,rest;0.25', '<music21.note.Rest,rest;0.25', '<music21.note.Rest,rest;0.25', 'A1;0.5', '<music21.note.Rest,rest;0.5', 'D2;0.5', 'A1;0.5', 'D2;0.25', 'G2;0.5', 'A1;0.25', 'G2;0.5', 'D2;0.5', 'A2;0.25', 'B1;0.5', 'A2;0.25', 'E2;0.5', 'E2;0.5', 'E2;0.5', 'E2;0.5', 'E2;0.5', 'E2;0.25', 'E2;0.5', 'E2;0.25', 'E2;0.25', 'E2;0.25', 'E2;0.25', 'E2;0.25', 'E2;0.25', 'E2;0.25', 'E2;0.25', 'E2;0.25', 'E2;0.25', 'E2;0.25', 'E2;0.25', 'E2;0.5', 'F#2;0.5', 'G2;0.5', 'F#2;0.5', 'F2;0.25', 'F#2;0.25', 'D2;0.25', 'D2;0.25', 'D2;0.25', 'D2;0.5', 'D2;0.25', 'D2;0.25', 'D2;0.5', 'E2;0.5', 'E2;0.25', 'E2;0.5', 'E2;0.5', 'E2;0.25', 'E2;0.5', 'E2;0.5', 'A1;0.5', 'A2;0.5', 'A2;0.5', 'A1;0.5', 'A2;0.5', 'A1;0.5', 'A1;0.5', 'A2;0.5', 'A2;0.5', 'C2;0.5', 'C#2;0.5', 'C2;0.5', 'C2;0.5', 'C2;0.5', 'C3;0.25', '<music21.note.Rest,rest;0.5', 'A1;1.5', 'A1;0.5', 'A2;0.5', 'A1;0.5', 'A2;0.5', 'A1;0.5', 'A1;0.5', 'A1;0.5', 'A1;0.5', 'A1;0.5', 'A1;0.5', 'A1;0.5', 'A1;0.5', 'A1;0.5', 'A1;0.25', 'A1;0.5', 'A1;0.25', 'C2;0.75', 'C2;0.25', 'A1;0.5', 'C2;0.5', 'C2;0.5', 'C2;0.5', 'E2;2.0', 'G1;0.25', 'A1;0.5', 'E2;0.25', 'E2;0.25', 'E3;0.25', 'G2;0.25', 'G2;0.25', 'D2;0.5', 'D2;0.5', 'D2;0.25', 'D2;0.5', 'A1;0.5', 'C2;0.5', 'D2;0.5', 'A1;0.5', 'G1;0.5', 'G1;0.5', 'G1;0.5', 'D2;0.5', 'D2;0.5', 'D2;0.5', 'D2;0.5', 'D2;0.5', 'D2;0.5', 'D2;0.5', 'D2;0.25', 'C2;0.5', 'C2;0.25', 'C2;0.25', 'C2;0.25', 'C2;0.25', 'C2;0.5', 'C2;0.5', 'C2;0.25', 'C2;0.25', 'C2;0.5', 'C2;0.5', 'C2;0.25', 'F1;0.5', 'F1;0.25', 'F1;0.5', 'F1;0.25', 'F1;0.5', 'F1;0.25', 'F1;0.25', 'F1;0.25', 'F1;0.25', 'F1;0.25', 'F1;0.25', 'F1;0.5', 'D2;0.5', 'D2;0.25', 'D2;0.25', 'D2;0.5', 'D2;0.25', 'D2;0.25', 'A1;0.5', 'C2;0.5', 'D2;0.5', 'A1;0.5', 'A1;0.5', 'A1;0.25', 'A1;0.25', 'A1;0.5', 'A1;0.25', 'A1;0.25', 'A1;0.5', 'A1;0.25', 'A1;0.25', 'A1;0.25', 'G1;0.5', 'C2;0.5', 'C2;0.25', 'C2;0.25', 'C2;0.5', 'C2;0.25', 'C2;0.25', 'C2;0.5', 'C2;0.25', 'C2;0.25', 'C2;0.5', 'C2;0.25', 'C2;0.25', 'F1;0.5', 'F1;0.25', 'F1;0.25', 'F1;0.5', 'F1;0.25', 'F1;0.25', 'F1;0.5', 'F1;0.25', 'F1;0.25', 'F1;0.25', 'F1;0.5', 'F1;0.5', 'D2;0.5', 'D2;0.25', 'D2;0.25', 'D2;0.5', 'D2;0.25', 'D2;0.25', 'D2;0.25', 'D2;0.25', 'D2;0.5', 'D2;0.25', 'D2;0.25', 'D2;0.5', 'D2;0.5', 'D2;0.5', 'D2;0.25', 'D2;0.25', 'G1;0.25', 'F2;0.25', 'G1;0.25', 'G1;0.25', 'C2;0.5', 'C2;0.5', 'C2;0.5', 'C2;0.5', 'D2;0.5', 'D2;0.25', 'D2;0.5', 'D2;0.5', 'D2;0.25', 'D2;0.5', 'D2;0.25', 'D2;0.25', 'D2;0.25', 'D2;0.25', 'D2;0.5', 'D2;0.25', 'D2;0.25', 'D2;0.5', 'D2;0.5', 'D2;0.5', 'D2;0.25', 'D2;0.25', 'D2;0.5', 'D2;0.25', 'D2;0.25', 'D2;0.5', 'D2;0.5', 'D2;0.5', 'A1;0.5', 'A2;0.25', 'B-1;0.25', 'A2;0.25', 'G1;1.0', 'E2;0.5', 'G2;0.25', 'E2;0.5', 'E2;0.5', 'E2;1.0', 'E2;0.5', 'E2;0.5', 'E2;0.5', 'E2;0.25', 'E2;0.25', 'E2;0.25', 'E2;0.25', 'E2;0.25', 'E2;0.25', 'E2;0.25', 'E2;0.25', 'E2;0.25', 'E2;0.25', 'E2;0.25', 'D2;0.5', 'E2;0.25', 'E2;0.25', 'E2;0.25', 'E2;0.5', 'E2;0.25', 'E2;0.25', 'E2;0.5', 'E2;0.5', 'E2;0.5', 'E2;0.25', 'D2;0.5', 'E2;0.25', 'E2;0.25', 'E2;0.25', 'E2;0.25', 'E2;0.25', 'E2;0.25', 'E2;0.25', 'E2;0.25', 'E2;0.25', 'E2;0.25', 'E2;0.25', 'E2;0.25', 'E2;0.5', 'E2;0.25', 'E2;0.25', 'E2;0.5', 'E2;0.25', 'E2;0.25', 'E2;0.25', 'E2;0.25', 'E2;0.25', 'E2;0.5', 'E1;1.0', 'E2;1.0', 'C2;0.5', 'C2;0.25', 'C2;0.25', 'C2;0.5', 'C2;0.5', 'C2;0.25', 'B1;0.5', 'B1;0.5', 'B1;0.5', 'B1;0.5', 'B1;0.5', 'E2;0.5', 'E2;0.5', 'E2;0.25', 'E2;0.5', 'E2;0.25', 'E2;0.25', 'E2;0.5', 'E2;0.25', 'E2;0.25', 'E2;0.25', 'A1;0.5', 'A1;0.25', 'A1;0.25', 'A1;0.25', 'A1;0.25', 'B1;0.5', 'B1;0.25', 'B1;0.25', 'B1;0.25', 'B1;0.25', 'C2;0.5', 'C2;0.25', 'C2;0.25', 'C2;0.25', 'C2;0.25', 'D2;0.5', 'D2;0.25', 'D2;0.25', 'D2;0.25', 'D2;0.25', 'E2;0.5', 'E2;0.25', 'E2;0.25', 'E2;0.25', 'E2;0.25', 'E2;0.5', 'E2;0.25', 'E2;0.25', 'E2;0.25', 'E2;0.25', 'E2;0.5', 'E2;0.5', 'E2;1/3', 'E2;0.5', 'E2;0.25', 'E2;0.5', 'E2;0.25', 'E2;1.0', 'C2;0.5', 'C2;0.25', 'C2;0.25', 'C2;0.5', 'C2;0.25', 'C2;0.25', 'C2;0.5', 'C2;0.25', 'C2;0.25', 'C2;0.5', 'C2;0.25', 'C2;0.25', 'C2;0.5', 'C2;0.25', 'C2;0.25', 'C2;0.5', 'C2;0.25', 'C2;0.25', 'D2;0.5', 'E2;0.25', 'E2;0.25', 'E2;0.25', 'E2;0.5', 'E2;0.25', 'E2;0.25', 'E2;0.5', 'E2;1.0', 'E2;0.5', 'E2;0.25', 'E2;0.25', 'E2;1.0', 'E2;0.5', 'E2;0.25', 'E2;0.25']\n"
          ],
          "name": "stdout"
        }
      ]
    },
    {
      "cell_type": "code",
      "metadata": {
        "id": "9Lo0vDc_SqNv"
      },
      "source": [
        "from music21 import stream\r\n",
        "\r\n",
        "STARTING_OFFSET = 6\r\n",
        "\r\n",
        "OUTPUT_PATH = \"/content/drive/MyDrive/MLFolder/Onlab/Outputs/\"\r\n",
        "\r\n",
        "for i, out in enumerate(generated_outputs):\r\n",
        "    create_midi_with_embedded_durations(out, target_instrument = instrument.ElectricGuitar(), filename = OUTPUT_PATH + MODEL_NAME + f'{i+STARTING_OFFSET}.mid')"
      ],
      "execution_count": null,
      "outputs": []
    },
    {
      "cell_type": "markdown",
      "metadata": {
        "id": "xNKr2yri8M6v"
      },
      "source": [
        "# DEBUG SECTION"
      ]
    },
    {
      "cell_type": "code",
      "metadata": {
        "colab": {
          "base_uri": "https://localhost:8080/"
        },
        "id": "G58iw9ULn4AA",
        "outputId": "12e24aab-7f31-4931-9652-6dd7b63f4a01"
      },
      "source": [
        "#This is a debug cell, with a lot of prints:\r\n",
        "\r\n",
        "print(mapper)\r\n",
        "print(len(mapper))\r\n",
        "\r\n",
        "print(X_train[0])\r\n",
        "\r\n",
        "print(X_train.shape, X_val.shape, X_test.shape, Y_train.shape, Y_val.shape, Y_test.shape)\r\n"
      ],
      "execution_count": null,
      "outputs": [
        {
          "output_type": "stream",
          "text": [
            "{'<music21.note.Rest,rest;0.25': 0, '<music21.note.Rest,rest;0.5': 1, '<music21.note.Rest,rest;0.75': 2, '<music21.note.Rest,rest;1.0': 3, '<music21.note.Rest,rest;1.25': 4, '<music21.note.Rest,rest;1.5': 5, '<music21.note.Rest,rest;1.75': 6, '<music21.note.Rest,rest;1/12': 7, '<music21.note.Rest,rest;1/3': 8, '<music21.note.Rest,rest;1/6': 9, '<music21.note.Rest,rest;10.0': 10, '<music21.note.Rest,rest;10.25': 11, '<music21.note.Rest,rest;10.5': 12, '<music21.note.Rest,rest;10.75': 13, '<music21.note.Rest,rest;10/3': 14, '<music21.note.Rest,rest;100.25': 15, '<music21.note.Rest,rest;100/3': 16, '<music21.note.Rest,rest;1001/3': 17, '<music21.note.Rest,rest;101/12': 18, '<music21.note.Rest,rest;101/6': 19, '<music21.note.Rest,rest;1033/12': 20, '<music21.note.Rest,rest;104.0': 21, '<music21.note.Rest,rest;104.5': 22, '<music21.note.Rest,rest;1040/3': 23, '<music21.note.Rest,rest;105.75': 24, '<music21.note.Rest,rest;106.0': 25, '<music21.note.Rest,rest;1065.0': 26, '<music21.note.Rest,rest;1069/12': 27, '<music21.note.Rest,rest;107.25': 28, '<music21.note.Rest,rest;107/12': 29, '<music21.note.Rest,rest;108.0': 30, '<music21.note.Rest,rest;108.5': 31, '<music21.note.Rest,rest;109.0': 32, '<music21.note.Rest,rest;109/12': 33, '<music21.note.Rest,rest;109/3': 34, '<music21.note.Rest,rest;109/6': 35, '<music21.note.Rest,rest;11.0': 36, '<music21.note.Rest,rest;11.5': 37, '<music21.note.Rest,rest;11.75': 38, '<music21.note.Rest,rest;11/12': 39, '<music21.note.Rest,rest;11/3': 40, '<music21.note.Rest,rest;11/6': 41, '<music21.note.Rest,rest;110.0': 42, '<music21.note.Rest,rest;110.5': 43, '<music21.note.Rest,rest;110.75': 44, '<music21.note.Rest,rest;1105/12': 45, '<music21.note.Rest,rest;111.25': 46, '<music21.note.Rest,rest;1118/3': 47, '<music21.note.Rest,rest;112.0': 48, '<music21.note.Rest,rest;1129/12': 49, '<music21.note.Rest,rest;113.5': 50, '<music21.note.Rest,rest;113/12': 51, '<music21.note.Rest,rest;114.0': 52, '<music21.note.Rest,rest;114.25': 53, '<music21.note.Rest,rest;114.5': 54, '<music21.note.Rest,rest;1141/6': 55, '<music21.note.Rest,rest;1142/3': 56, '<music21.note.Rest,rest;115.0': 57, '<music21.note.Rest,rest;115.5': 58, '<music21.note.Rest,rest;115/3': 59, '<music21.note.Rest,rest;116.0': 60, '<music21.note.Rest,rest;116.25': 61, '<music21.note.Rest,rest;116.5': 62, '<music21.note.Rest,rest;1165/12': 63, '<music21.note.Rest,rest;1177/12': 64, '<music21.note.Rest,rest;118.25': 65, '<music21.note.Rest,rest;119.5': 66, '<music21.note.Rest,rest;12.0': 67, '<music21.note.Rest,rest;12.25': 68, '<music21.note.Rest,rest;12.5': 69, '<music21.note.Rest,rest;12.75': 70, '<music21.note.Rest,rest;120.0': 71, '<music21.note.Rest,rest;121.0': 72, '<music21.note.Rest,rest;121.5': 73, '<music21.note.Rest,rest;121/12': 74, '<music21.note.Rest,rest;121/3': 75, '<music21.note.Rest,rest;122.0': 76, '<music21.note.Rest,rest;122.25': 77, '<music21.note.Rest,rest;122/3': 78, '<music21.note.Rest,rest;123.75': 79, '<music21.note.Rest,rest;125.5': 80, '<music21.note.Rest,rest;126.0': 81, '<music21.note.Rest,rest;126.25': 82, '<music21.note.Rest,rest;127.75': 83, '<music21.note.Rest,rest;127/12': 84, '<music21.note.Rest,rest;1277/12': 85, '<music21.note.Rest,rest;1277/6': 86, '<music21.note.Rest,rest;128.0': 87, '<music21.note.Rest,rest;128.5': 88, '<music21.note.Rest,rest;128.75': 89, '<music21.note.Rest,rest;129.0': 90, '<music21.note.Rest,rest;13.0': 91, '<music21.note.Rest,rest;13.25': 92, '<music21.note.Rest,rest;13.5': 93, '<music21.note.Rest,rest;13.75': 94, '<music21.note.Rest,rest;13/12': 95, '<music21.note.Rest,rest;13/3': 96, '<music21.note.Rest,rest;13/6': 97, '<music21.note.Rest,rest;130.0': 98, '<music21.note.Rest,rest;1301/6': 99, '<music21.note.Rest,rest;131/12': 100, '<music21.note.Rest,rest;132.0': 101, '<music21.note.Rest,rest;1325/12': 102, '<music21.note.Rest,rest;134/3': 103, '<music21.note.Rest,rest;135.25': 104, '<music21.note.Rest,rest;136.0': 105, '<music21.note.Rest,rest;136/3': 106, '<music21.note.Rest,rest;1369/12': 107, '<music21.note.Rest,rest;138.5': 108, '<music21.note.Rest,rest;139/3': 109, '<music21.note.Rest,rest;14.0': 110, '<music21.note.Rest,rest;14.25': 111, '<music21.note.Rest,rest;14.5': 112, '<music21.note.Rest,rest;14.75': 113, '<music21.note.Rest,rest;14/3': 114, '<music21.note.Rest,rest;140.0': 115, '<music21.note.Rest,rest;141.75': 116, '<music21.note.Rest,rest;143.75': 117, '<music21.note.Rest,rest;144.0': 118, '<music21.note.Rest,rest;145.25': 119, '<music21.note.Rest,rest;145/12': 120, '<music21.note.Rest,rest;1453/12': 121, '<music21.note.Rest,rest;146.5': 122, '<music21.note.Rest,rest;148/3': 123, '<music21.note.Rest,rest;1495/3': 124, '<music21.note.Rest,rest;15.0': 125, '<music21.note.Rest,rest;15.25': 126, '<music21.note.Rest,rest;15.5': 127, '<music21.note.Rest,rest;15.75': 128, '<music21.note.Rest,rest;150.0': 129, '<music21.note.Rest,rest;150.25': 130, '<music21.note.Rest,rest;150.5': 131, '<music21.note.Rest,rest;151.0': 132, '<music21.note.Rest,rest;151/12': 133, '<music21.note.Rest,rest;152.25': 134, '<music21.note.Rest,rest;153.5': 135, '<music21.note.Rest,rest;154.0': 136, '<music21.note.Rest,rest;1553/12': 137, '<music21.note.Rest,rest;156.0': 138, '<music21.note.Rest,rest;157.0': 139, '<music21.note.Rest,rest;157.5': 140, '<music21.note.Rest,rest;157/12': 141, '<music21.note.Rest,rest;1585/6': 142, '<music21.note.Rest,rest;16.0': 143, '<music21.note.Rest,rest;16.25': 144, '<music21.note.Rest,rest;16.5': 145, '<music21.note.Rest,rest;16.75': 146, '<music21.note.Rest,rest;16/3': 147, '<music21.note.Rest,rest;160.0': 148, '<music21.note.Rest,rest;160.5': 149, '<music21.note.Rest,rest;161/12': 150, '<music21.note.Rest,rest;162.0': 151, '<music21.note.Rest,rest;163.5': 152, '<music21.note.Rest,rest;1639/12': 153, '<music21.note.Rest,rest;164.0': 154, '<music21.note.Rest,rest;167.5': 155, '<music21.note.Rest,rest;1673/12': 156, '<music21.note.Rest,rest;1681/12': 157, '<music21.note.Rest,rest;169.0': 158, '<music21.note.Rest,rest;17.0': 159, '<music21.note.Rest,rest;17.25': 160, '<music21.note.Rest,rest;17.75': 161, '<music21.note.Rest,rest;17/12': 162, '<music21.note.Rest,rest;17/3': 163, '<music21.note.Rest,rest;17/6': 164, '<music21.note.Rest,rest;172.0': 165, '<music21.note.Rest,rest;172/3': 166, '<music21.note.Rest,rest;1723/12': 167, '<music21.note.Rest,rest;174.5': 168, '<music21.note.Rest,rest;1751/6': 169, '<music21.note.Rest,rest;1757/12': 170, '<music21.note.Rest,rest;1759/12': 171, '<music21.note.Rest,rest;176.0': 172, '<music21.note.Rest,rest;178.0': 173, '<music21.note.Rest,rest;178.5': 174, '<music21.note.Rest,rest;178.75': 175, '<music21.note.Rest,rest;18.0': 176, '<music21.note.Rest,rest;18.25': 177, '<music21.note.Rest,rest;18.5': 178, '<music21.note.Rest,rest;183.75': 179, '<music21.note.Rest,rest;1831/12': 180, '<music21.note.Rest,rest;184.0': 181, '<music21.note.Rest,rest;187.0': 182, '<music21.note.Rest,rest;187.75': 183, '<music21.note.Rest,rest;187/3': 184, '<music21.note.Rest,rest;188.0': 185, '<music21.note.Rest,rest;19.0': 186, '<music21.note.Rest,rest;19.5': 187, '<music21.note.Rest,rest;19.75': 188, '<music21.note.Rest,rest;19/12': 189, '<music21.note.Rest,rest;19/3': 190, '<music21.note.Rest,rest;19/6': 191, '<music21.note.Rest,rest;190/3': 192, '<music21.note.Rest,rest;1909/12': 193, '<music21.note.Rest,rest;192.0': 194, '<music21.note.Rest,rest;195.0': 195, '<music21.note.Rest,rest;196.25': 196, '<music21.note.Rest,rest;196.5': 197, '<music21.note.Rest,rest;2.0': 198, '<music21.note.Rest,rest;2.25': 199, '<music21.note.Rest,rest;2.5': 200, '<music21.note.Rest,rest;2.75': 201, '<music21.note.Rest,rest;2/3': 202, '<music21.note.Rest,rest;20.0': 203, '<music21.note.Rest,rest;20.5': 204, '<music21.note.Rest,rest;20/3': 205, '<music21.note.Rest,rest;202.25': 206, '<music21.note.Rest,rest;2021/12': 207, '<music21.note.Rest,rest;204.25': 208, '<music21.note.Rest,rest;205/12': 209, '<music21.note.Rest,rest;208.0': 210, '<music21.note.Rest,rest;208.25': 211, '<music21.note.Rest,rest;208.75': 212, '<music21.note.Rest,rest;21.0': 213, '<music21.note.Rest,rest;21.25': 214, '<music21.note.Rest,rest;21.5': 215, '<music21.note.Rest,rest;21.75': 216, '<music21.note.Rest,rest;212.0': 217, '<music21.note.Rest,rest;213.5': 218, '<music21.note.Rest,rest;2135/3': 219, '<music21.note.Rest,rest;215/3': 220, '<music21.note.Rest,rest;219.75': 221, '<music21.note.Rest,rest;22.25': 222, '<music21.note.Rest,rest;22.5': 223, '<music21.note.Rest,rest;22.75': 224, '<music21.note.Rest,rest;22/3': 225, '<music21.note.Rest,rest;220/3': 226, '<music21.note.Rest,rest;2233/12': 227, '<music21.note.Rest,rest;224.0': 228, '<music21.note.Rest,rest;224.25': 229, '<music21.note.Rest,rest;224.75': 230, '<music21.note.Rest,rest;224/3': 231, '<music21.note.Rest,rest;227.0': 232, '<music21.note.Rest,rest;228.0': 233, '<music21.note.Rest,rest;23.0': 234, '<music21.note.Rest,rest;23.75': 235, '<music21.note.Rest,rest;23/12': 236, '<music21.note.Rest,rest;23/3': 237, '<music21.note.Rest,rest;23/6': 238, '<music21.note.Rest,rest;232/3': 239, '<music21.note.Rest,rest;235/3': 240, '<music21.note.Rest,rest;236.0': 241, '<music21.note.Rest,rest;237.5': 242, '<music21.note.Rest,rest;24.0': 243, '<music21.note.Rest,rest;24.25': 244, '<music21.note.Rest,rest;24.5': 245, '<music21.note.Rest,rest;240.0': 246, '<music21.note.Rest,rest;243.0': 247, '<music21.note.Rest,rest;243.5': 248, '<music21.note.Rest,rest;243.75': 249, '<music21.note.Rest,rest;248.0': 250, '<music21.note.Rest,rest;25.5': 251, '<music21.note.Rest,rest;25.75': 252, '<music21.note.Rest,rest;25/12': 253, '<music21.note.Rest,rest;25/3': 254, '<music21.note.Rest,rest;251/12': 255, '<music21.note.Rest,rest;256.25': 256, '<music21.note.Rest,rest;259.5': 257, '<music21.note.Rest,rest;259.75': 258, '<music21.note.Rest,rest;26.0': 259, '<music21.note.Rest,rest;260.0': 260, '<music21.note.Rest,rest;264.0': 261, '<music21.note.Rest,rest;265/12': 262, '<music21.note.Rest,rest;268.0': 263, '<music21.note.Rest,rest;269/12': 264, '<music21.note.Rest,rest;27.75': 265, '<music21.note.Rest,rest;272.0': 266, '<music21.note.Rest,rest;272.5': 267, '<music21.note.Rest,rest;274.0': 268, '<music21.note.Rest,rest;2789/12': 269, '<music21.note.Rest,rest;28.0': 270, '<music21.note.Rest,rest;28.5': 271, '<music21.note.Rest,rest;28.75': 272, '<music21.note.Rest,rest;28/3': 273, '<music21.note.Rest,rest;280.25': 274, '<music21.note.Rest,rest;284.0': 275, '<music21.note.Rest,rest;284.5': 276, '<music21.note.Rest,rest;284.75': 277, '<music21.note.Rest,rest;285.5': 278, '<music21.note.Rest,rest;287/12': 279, '<music21.note.Rest,rest;288.0': 280, '<music21.note.Rest,rest;29.0': 281, '<music21.note.Rest,rest;29.5': 282, '<music21.note.Rest,rest;29/12': 283, '<music21.note.Rest,rest;29/3': 284, '<music21.note.Rest,rest;292.0': 285, '<music21.note.Rest,rest;293.5': 286, '<music21.note.Rest,rest;295/12': 287, '<music21.note.Rest,rest;3.0': 288, '<music21.note.Rest,rest;3.25': 289, '<music21.note.Rest,rest;3.5': 290, '<music21.note.Rest,rest;3.75': 291, '<music21.note.Rest,rest;30.0': 292, '<music21.note.Rest,rest;30.5': 293, '<music21.note.Rest,rest;3017/12': 294, '<music21.note.Rest,rest;306.0': 295, '<music21.note.Rest,rest;308.0': 296, '<music21.note.Rest,rest;31.0': 297, '<music21.note.Rest,rest;31.5': 298, '<music21.note.Rest,rest;31.75': 299, '<music21.note.Rest,rest;31/12': 300, '<music21.note.Rest,rest;31/3': 301, '<music21.note.Rest,rest;31/6': 302, '<music21.note.Rest,rest;3139/12': 303, '<music21.note.Rest,rest;314.25': 304, '<music21.note.Rest,rest;3169/12': 305, '<music21.note.Rest,rest;3179/12': 306, '<music21.note.Rest,rest;32.0': 307, '<music21.note.Rest,rest;32.25': 308, '<music21.note.Rest,rest;32.5': 309, '<music21.note.Rest,rest;32/3': 310, '<music21.note.Rest,rest;323.5': 311, '<music21.note.Rest,rest;3245/12': 312, '<music21.note.Rest,rest;325.75': 313, '<music21.note.Rest,rest;327.5': 314, '<music21.note.Rest,rest;3271/12': 315, '<music21.note.Rest,rest;329/12': 316, '<music21.note.Rest,rest;33.0': 317, '<music21.note.Rest,rest;33.25': 318, '<music21.note.Rest,rest;33.5': 319, '<music21.note.Rest,rest;3305/12': 320, '<music21.note.Rest,rest;333.0': 321, '<music21.note.Rest,rest;3377/12': 322, '<music21.note.Rest,rest;34.0': 323, '<music21.note.Rest,rest;34.5': 324, '<music21.note.Rest,rest;34/3': 325, '<music21.note.Rest,rest;340.0': 326, '<music21.note.Rest,rest;340.75': 327, '<music21.note.Rest,rest;341.0': 328, '<music21.note.Rest,rest;343.0': 329, '<music21.note.Rest,rest;343/12': 330, '<music21.note.Rest,rest;344/3': 331, '<music21.note.Rest,rest;346.5': 332, '<music21.note.Rest,rest;349.5': 333, '<music21.note.Rest,rest;35.0': 334, '<music21.note.Rest,rest;35.25': 335, '<music21.note.Rest,rest;35/12': 336, '<music21.note.Rest,rest;35/6': 337, '<music21.note.Rest,rest;3503/12': 338, '<music21.note.Rest,rest;351.5': 339, '<music21.note.Rest,rest;351.75': 340, '<music21.note.Rest,rest;357.75': 341, '<music21.note.Rest,rest;358.0': 342, '<music21.note.Rest,rest;358.5': 343, '<music21.note.Rest,rest;359.75': 344, '<music21.note.Rest,rest;36.0': 345, '<music21.note.Rest,rest;36.25': 346, '<music21.note.Rest,rest;36.75': 347, '<music21.note.Rest,rest;360.0': 348, '<music21.note.Rest,rest;364/3': 349, '<music21.note.Rest,rest;37/12': 350, '<music21.note.Rest,rest;37/3': 351, '<music21.note.Rest,rest;37/6': 352, '<music21.note.Rest,rest;372.75': 353, '<music21.note.Rest,rest;375.75': 354, '<music21.note.Rest,rest;3757/12': 355, '<music21.note.Rest,rest;38.0': 356, '<music21.note.Rest,rest;384.25': 357, '<music21.note.Rest,rest;385/3': 358, '<music21.note.Rest,rest;39.0': 359, '<music21.note.Rest,rest;3947/12': 360, '<music21.note.Rest,rest;397.5': 361, '<music21.note.Rest,rest;398.5': 362, '<music21.note.Rest,rest;399.5': 363, '<music21.note.Rest,rest;3997/12': 364, '<music21.note.Rest,rest;4.0': 365, '<music21.note.Rest,rest;4.25': 366, '<music21.note.Rest,rest;4.5': 367, '<music21.note.Rest,rest;4.75': 368, '<music21.note.Rest,rest;4/3': 369, '<music21.note.Rest,rest;40.0': 370, '<music21.note.Rest,rest;40.25': 371, '<music21.note.Rest,rest;40.75': 372, '<music21.note.Rest,rest;40/3': 373, '<music21.note.Rest,rest;403.25': 374, '<music21.note.Rest,rest;408.0': 375, '<music21.note.Rest,rest;41.0': 376, '<music21.note.Rest,rest;41.25': 377, '<music21.note.Rest,rest;41.5': 378, '<music21.note.Rest,rest;41/12': 379, '<music21.note.Rest,rest;415.5': 380, '<music21.note.Rest,rest;418.5': 381, '<music21.note.Rest,rest;419/12': 382, '<music21.note.Rest,rest;42.0': 383, '<music21.note.Rest,rest;42.5': 384, '<music21.note.Rest,rest;421/12': 385, '<music21.note.Rest,rest;4211/12': 386, '<music21.note.Rest,rest;4211/6': 387, '<music21.note.Rest,rest;422.5': 388, '<music21.note.Rest,rest;425/12': 389, '<music21.note.Rest,rest;427.0': 390, '<music21.note.Rest,rest;43.25': 391, '<music21.note.Rest,rest;430.5': 392, '<music21.note.Rest,rest;431.5': 393, '<music21.note.Rest,rest;432.0': 394, '<music21.note.Rest,rest;433/12': 395, '<music21.note.Rest,rest;44.0': 396, '<music21.note.Rest,rest;440.25': 397, '<music21.note.Rest,rest;4451/12': 398, '<music21.note.Rest,rest;448.0': 399, '<music21.note.Rest,rest;448.75': 400, '<music21.note.Rest,rest;4493/12': 401, '<music21.note.Rest,rest;45.5': 402, '<music21.note.Rest,rest;4585/6': 403, '<music21.note.Rest,rest;46.25': 404, '<music21.note.Rest,rest;46.5': 405, '<music21.note.Rest,rest;46/3': 406, '<music21.note.Rest,rest;466/3': 407, '<music21.note.Rest,rest;47.0': 408, '<music21.note.Rest,rest;47.5': 409, '<music21.note.Rest,rest;47.75': 410, '<music21.note.Rest,rest;47/12': 411, '<music21.note.Rest,rest;470/3': 412, '<music21.note.Rest,rest;472.25': 413, '<music21.note.Rest,rest;473/3': 414, '<music21.note.Rest,rest;48.0': 415, '<music21.note.Rest,rest;48.25': 416, '<music21.note.Rest,rest;48.75': 417, '<music21.note.Rest,rest;481.5': 418, '<music21.note.Rest,rest;483.5': 419, '<music21.note.Rest,rest;49.0': 420, '<music21.note.Rest,rest;49/12': 421, '<music21.note.Rest,rest;49/3': 422, '<music21.note.Rest,rest;49/6': 423, '<music21.note.Rest,rest;496.5': 424, '<music21.note.Rest,rest;497.75': 425, '<music21.note.Rest,rest;497/12': 426, '<music21.note.Rest,rest;5.0': 427, '<music21.note.Rest,rest;5.25': 428, '<music21.note.Rest,rest;5.5': 429, '<music21.note.Rest,rest;5.75': 430, '<music21.note.Rest,rest;5/12': 431, '<music21.note.Rest,rest;5/3': 432, '<music21.note.Rest,rest;5/6': 433, '<music21.note.Rest,rest;50.0': 434, '<music21.note.Rest,rest;50.5': 435, '<music21.note.Rest,rest;50/3': 436, '<music21.note.Rest,rest;5099/12': 437, '<music21.note.Rest,rest;51.5': 438, '<music21.note.Rest,rest;51.75': 439, '<music21.note.Rest,rest;5129/12': 440, '<music21.note.Rest,rest;5131/12': 441, '<music21.note.Rest,rest;52.0': 442, '<music21.note.Rest,rest;52.5': 443, '<music21.note.Rest,rest;520.5': 444, '<music21.note.Rest,rest;526.0': 445, '<music21.note.Rest,rest;526.25': 446, '<music21.note.Rest,rest;526/3': 447, '<music21.note.Rest,rest;527/6': 448, '<music21.note.Rest,rest;53.0': 449, '<music21.note.Rest,rest;53.75': 450, '<music21.note.Rest,rest;53/12': 451, '<music21.note.Rest,rest;53/3': 452, '<music21.note.Rest,rest;53/6': 453, '<music21.note.Rest,rest;530.0': 454, '<music21.note.Rest,rest;533/12': 455, '<music21.note.Rest,rest;535/12': 456, '<music21.note.Rest,rest;54.0': 457, '<music21.note.Rest,rest;545.0': 458, '<music21.note.Rest,rest;548.25': 459, '<music21.note.Rest,rest;55.25': 460, '<music21.note.Rest,rest;55.5': 461, '<music21.note.Rest,rest;5513/12': 462, '<music21.note.Rest,rest;556.0': 463, '<music21.note.Rest,rest;559/3': 464, '<music21.note.Rest,rest;559/6': 465, '<music21.note.Rest,rest;56.0': 466, '<music21.note.Rest,rest;56.25': 467, '<music21.note.Rest,rest;57.0': 468, '<music21.note.Rest,rest;57.5': 469, '<music21.note.Rest,rest;58.0': 470, '<music21.note.Rest,rest;58.25': 471, '<music21.note.Rest,rest;59.0': 472, '<music21.note.Rest,rest;59.75': 473, '<music21.note.Rest,rest;59/6': 474, '<music21.note.Rest,rest;590.75': 475, '<music21.note.Rest,rest;592.25': 476, '<music21.note.Rest,rest;6.0': 477, '<music21.note.Rest,rest;6.25': 478, '<music21.note.Rest,rest;6.5': 479, '<music21.note.Rest,rest;6.75': 480, '<music21.note.Rest,rest;60.0': 481, '<music21.note.Rest,rest;60.75': 482, '<music21.note.Rest,rest;602.0': 483, '<music21.note.Rest,rest;608.0': 484, '<music21.note.Rest,rest;61.0': 485, '<music21.note.Rest,rest;61/12': 486, '<music21.note.Rest,rest;612.25': 487, '<music21.note.Rest,rest;62.0': 488, '<music21.note.Rest,rest;62.5': 489, '<music21.note.Rest,rest;62.75': 490, '<music21.note.Rest,rest;620/3': 491, '<music21.note.Rest,rest;622.0': 492, '<music21.note.Rest,rest;63.5': 493, '<music21.note.Rest,rest;633.5': 494, '<music21.note.Rest,rest;64.0': 495, '<music21.note.Rest,rest;64.25': 496, '<music21.note.Rest,rest;64.5': 497, '<music21.note.Rest,rest;640.0': 498, '<music21.note.Rest,rest;643.5': 499, '<music21.note.Rest,rest;644.75': 500, '<music21.note.Rest,rest;646/3': 501, '<music21.note.Rest,rest;65.5': 502, '<music21.note.Rest,rest;65/12': 503, '<music21.note.Rest,rest;65/6': 504, '<music21.note.Rest,rest;653.0': 505, '<music21.note.Rest,rest;654.0': 506, '<music21.note.Rest,rest;655.0': 507, '<music21.note.Rest,rest;67/12': 508, '<music21.note.Rest,rest;677/6': 509, '<music21.note.Rest,rest;68.0': 510, '<music21.note.Rest,rest;68.25': 511, '<music21.note.Rest,rest;686.0': 512, '<music21.note.Rest,rest;69.25': 513, '<music21.note.Rest,rest;694/3': 514, '<music21.note.Rest,rest;7.0': 515, '<music21.note.Rest,rest;7.25': 516, '<music21.note.Rest,rest;7.5': 517, '<music21.note.Rest,rest;7.75': 518, '<music21.note.Rest,rest;7/12': 519, '<music21.note.Rest,rest;7/3': 520, '<music21.note.Rest,rest;7/6': 521, '<music21.note.Rest,rest;703.0': 522, '<music21.note.Rest,rest;703.5': 523, '<music21.note.Rest,rest;704.5': 524, '<music21.note.Rest,rest;71.0': 525, '<music21.note.Rest,rest;71.75': 526, '<music21.note.Rest,rest;71/12': 527, '<music21.note.Rest,rest;711.75': 528, '<music21.note.Rest,rest;713/12': 529, '<music21.note.Rest,rest;718.75': 530, '<music21.note.Rest,rest;72.0': 531, '<music21.note.Rest,rest;72.75': 532, '<music21.note.Rest,rest;720.0': 533, '<music21.note.Rest,rest;724.0': 534, '<music21.note.Rest,rest;73.0': 535, '<music21.note.Rest,rest;73/12': 536, '<music21.note.Rest,rest;73/6': 537, '<music21.note.Rest,rest;735.0': 538, '<music21.note.Rest,rest;74.0': 539, '<music21.note.Rest,rest;74.5': 540, '<music21.note.Rest,rest;746/3': 541, '<music21.note.Rest,rest;75.0': 542, '<music21.note.Rest,rest;752.0': 543, '<music21.note.Rest,rest;76.0': 544, '<music21.note.Rest,rest;76/3': 545, '<music21.note.Rest,rest;77.5': 546, '<music21.note.Rest,rest;77.75': 547, '<music21.note.Rest,rest;77/6': 548, '<music21.note.Rest,rest;772.5': 549, '<music21.note.Rest,rest;78.0': 550, '<music21.note.Rest,rest;78.5': 551, '<music21.note.Rest,rest;784.75': 552, '<music21.note.Rest,rest;785/12': 553, '<music21.note.Rest,rest;79.0': 554, '<music21.note.Rest,rest;79.75': 555, '<music21.note.Rest,rest;8.0': 556, '<music21.note.Rest,rest;8.25': 557, '<music21.note.Rest,rest;8.5': 558, '<music21.note.Rest,rest;8.75': 559, '<music21.note.Rest,rest;8/3': 560, '<music21.note.Rest,rest;80.0': 561, '<music21.note.Rest,rest;80.25': 562, '<music21.note.Rest,rest;808.0': 563, '<music21.note.Rest,rest;81.25': 564, '<music21.note.Rest,rest;82.0': 565, '<music21.note.Rest,rest;825.0': 566, '<music21.note.Rest,rest;829/12': 567, '<music21.note.Rest,rest;8317/12': 568, '<music21.note.Rest,rest;833/3': 569, '<music21.note.Rest,rest;84.25': 570, '<music21.note.Rest,rest;845/12': 571, '<music21.note.Rest,rest;848.0': 572, '<music21.note.Rest,rest;85.75': 573, '<music21.note.Rest,rest;85/12': 574, '<music21.note.Rest,rest;852.25': 575, '<music21.note.Rest,rest;86.25': 576, '<music21.note.Rest,rest;87.0': 577, '<music21.note.Rest,rest;88.0': 578, '<music21.note.Rest,rest;88/3': 579, '<music21.note.Rest,rest;89.0': 580, '<music21.note.Rest,rest;89.75': 581, '<music21.note.Rest,rest;89/12': 582, '<music21.note.Rest,rest;9.0': 583, '<music21.note.Rest,rest;9.25': 584, '<music21.note.Rest,rest;9.5': 585, '<music21.note.Rest,rest;9.75': 586, '<music21.note.Rest,rest;901/12': 587, '<music21.note.Rest,rest;902.0': 588, '<music21.note.Rest,rest;91.0': 589, '<music21.note.Rest,rest;91.5': 590, '<music21.note.Rest,rest;91/12': 591, '<music21.note.Rest,rest;91/6': 592, '<music21.note.Rest,rest;911/12': 593, '<music21.note.Rest,rest;9175/12': 594, '<music21.note.Rest,rest;92.0': 595, '<music21.note.Rest,rest;92.25': 596, '<music21.note.Rest,rest;92.5': 597, '<music21.note.Rest,rest;93.0': 598, '<music21.note.Rest,rest;95.0': 599, '<music21.note.Rest,rest;96.0': 600, '<music21.note.Rest,rest;96.25': 601, '<music21.note.Rest,rest;9665/12': 602, '<music21.note.Rest,rest;967/6': 603, '<music21.note.Rest,rest;98/3': 604, '<music21.note.Rest,rest;99.75': 605, '<music21.note.Rest,rest;997/6': 606, 'A2,A3,E3;0.25': 607, 'A2,A3,E3;0.5': 608, 'A2,A3;0.5': 609, 'A2,A3;0.75': 610, 'A2,A3;1.0': 611, 'A2,A3;4.0': 612, 'A2,D2;0.25': 613, 'A2,D2;0.5': 614, 'A2,D2;1.0': 615, 'A2,D2;1.5': 616, 'A2,D3,A3,D4;2.0': 617, 'A2,D3,G3;0.25': 618, 'A2,D3;0.25': 619, 'A2,E2;0.25': 620, 'A2,E3,A3,B3;3.5': 621, 'A2,E3,A3,C4,E4,A4;4.0': 622, 'A2,E3,A3,C4,E4;4.0': 623, 'A2,E3,A3,C4;2.0': 624, 'A2,E3,A3,C4;4.0': 625, 'A2,E3,A3,E2;4.0': 626, 'A2,E3,A3;0.25': 627, 'A2,E3,A3;0.5': 628, 'A2,E3,A3;0.75': 629, 'A2,E3,A3;1.0': 630, 'A2,E3,A3;2.0': 631, 'A2,E3,A3;3.0': 632, 'A2,E3,A3;4.0': 633, 'A2,E3,A3;6.0': 634, 'A2,E3,B3;0.25': 635, 'A2,E3;0.25': 636, 'A2,E3;0.5': 637, 'A2,E3;12.0': 638, 'A2,E3;4.0': 639, 'A2,E3;5.0': 640, 'A2,G3;8.0': 641, 'A2;0.25': 642, 'A2;0.5': 643, 'A2;0.75': 644, 'A2;1.0': 645, 'A2;1.5': 646, 'A2;1/3': 647, 'A2;11.0': 648, 'A2;13.5': 649, 'A2;15.75': 650, 'A2;16.0': 651, 'A2;16.5': 652, 'A2;2.0': 653, 'A2;2.25': 654, 'A2;2.5': 655, 'A2;2/3': 656, 'A2;20.5': 657, 'A2;200.0': 658, 'A2;24.0': 659, 'A2;3.5': 660, 'A2;3.75': 661, 'A2;4.0': 662, 'A2;4.5': 663, 'A2;5.0': 664, 'A2;6.0': 665, 'A2;63.0': 666, 'A2;7.0': 667, 'A2;7.5': 668, 'A2;72.0': 669, 'A2;8.0': 670, 'A2;8.25': 671, 'A2;8.5': 672, 'A2;9.0': 673, 'A3,A2;0.25': 674, 'A3,A2;0.5': 675, 'A3,A2;0.75': 676, 'A3,A2;4.0': 677, 'A3,A2;4.25': 678, 'A3,A3,A4;0.25': 679, 'A3,A3,A4;1.5': 680, 'A3,A4,E3,E4,D4,D5;3.0': 681, 'A3,A4;0.25': 682, 'A3,A4;0.5': 683, 'A3,A4;2.0': 684, 'A3,A4;5.5': 685, 'A3,A4;6.25': 686, 'A3,B3,E4;2.0': 687, 'A3,B3;0.25': 688, 'A3,B3;3.75': 689, 'A3,C#3;0.5': 690, 'A3,C#3;1.0': 691, 'A3,C#3;2.0': 692, 'A3,C#3;4.0': 693, 'A3,C3;0.25': 694, 'A3,C4;0.25': 695, 'A3,C4;0.5': 696, 'A3,D3,A2;8.0': 697, 'A3,D3,D2;0.5': 698, 'A3,D3,D2;1.0': 699, 'A3,D3,E2;1.0': 700, 'A3,D3,G2;0.5': 701, 'A3,D3;0.25': 702, 'A3,D3;0.5': 703, 'A3,D3;0.75': 704, 'A3,D3;1.0': 705, 'A3,D3;1.25': 706, 'A3,D3;1.5': 707, 'A3,D3;1.75': 708, 'A3,D3;1/3': 709, 'A3,D3;10.0': 710, 'A3,D3;2.0': 711, 'A3,D3;2.5': 712, 'A3,D3;2/3': 713, 'A3,D3;3.0': 714, 'A3,D3;3.25': 715, 'A3,D3;3.5': 716, 'A3,D3;3.75': 717, 'A3,D3;4.0': 718, 'A3,D3;4.5': 719, 'A3,D3;4/3': 720, 'A3,D3;5.0': 721, 'A3,D3;5/3': 722, 'A3,D3;6.0': 723, 'A3,D3;6.5': 724, 'A3,D3;7.5': 725, 'A3,D3;7.75': 726, 'A3,D3;8.0': 727, 'A3,D3;8.5': 728, 'A3,D3;9.0': 729, 'A3,D4,D3,F#4;2.0': 730, 'A3,D4,D3;2.0': 731, 'A3,D4,E4;2.0': 732, 'A3,D4,F#4;0.25': 733, 'A3,D4,F#4;0.5': 734, 'A3,D4,F#4;10/3': 735, 'A3,D4,F#4;2.0': 736, 'A3,D4,F#4;6.0': 737, 'A3,D4,F4;0.25': 738, 'A3,D4;0.25': 739, 'A3,D4;0.5': 740, 'A3,D4;2.0': 741, 'A3,E3,A2;0.25': 742, 'A3,E3,A2;0.5': 743, 'A3,E3,A2;0.75': 744, 'A3,E3,A2;1.0': 745, 'A3,E3,A2;1.25': 746, 'A3,E3,A2;1.5': 747, 'A3,E3,A2;1/3': 748, 'A3,E3,A2;10.0': 749, 'A3,E3,A2;12.0': 750, 'A3,E3,A2;2.0': 751, 'A3,E3,A2;2.25': 752, 'A3,E3,A2;2.5': 753, 'A3,E3,A2;2/3': 754, 'A3,E3,A2;22/3': 755, 'A3,E3,A2;26.0': 756, 'A3,E3,A2;3.0': 757, 'A3,E3,A2;3.5': 758, 'A3,E3,A2;3.75': 759, 'A3,E3,A2;4.0': 760, 'A3,E3,A2;4.5': 761, 'A3,E3,A2;5.0': 762, 'A3,E3,A2;5.5': 763, 'A3,E3,A2;6.0': 764, 'A3,E3,A2;6.5': 765, 'A3,E3,A2;7.0': 766, 'A3,E3,A2;8.0': 767, 'A3,E3,A2;8.5': 768, 'A3,E3,B2,E2;3.5': 769, 'A3,E3,C3;0.5': 770, 'A3,E3;0.25': 771, 'A3,E3;0.5': 772, 'A3,E3;0.75': 773, 'A3,E3;1.0': 774, 'A3,E3;1.5': 775, 'A3,E3;11.0': 776, 'A3,E3;2.0': 777, 'A3,E3;2.5': 778, 'A3,F#3,A2;4.0': 779, 'A3,F#3;0.5': 780, 'A3,F#3;1.0': 781, 'A3,F#3;1.5': 782, 'A3,F3,C3,F2;0.5': 783, 'A3,F3,C3,F2;4.0': 784, 'A3,F3;0.5': 785, 'A3,F3;1.0': 786, 'A3,F3;1.5': 787, 'A3;0.25': 788, 'A3;0.5': 789, 'A3;0.75': 790, 'A3;1.0': 791, 'A3;1.25': 792, 'A3;1.5': 793, 'A3;1.75': 794, 'A3;1/3': 795, 'A3;10/3': 796, 'A3;11.75': 797, 'A3;13/3': 798, 'A3;2.0': 799, 'A3;2.25': 800, 'A3;2.5': 801, 'A3;2/3': 802, 'A3;22/3': 803, 'A3;3.0': 804, 'A3;3.25': 805, 'A3;3.5': 806, 'A3;3.75': 807, 'A3;4.0': 808, 'A3;4.25': 809, 'A3;4.5': 810, 'A3;4.75': 811, 'A3;4/3': 812, 'A3;5.0': 813, 'A3;5.5': 814, 'A3;5.75': 815, 'A3;5/3': 816, 'A3;6.0': 817, 'A3;6.5': 818, 'A3;7.0': 819, 'A3;7.25': 820, 'A3;7/3': 821, 'A3;8.0': 822, 'A3;8/3': 823, 'A3;9.0': 824, 'A3;9.5': 825, 'A3;9.75': 826, 'A4,A3;0.25': 827, 'A4,A3;0.5': 828, 'A4,A3;1.0': 829, 'A4,A3;1/3': 830, 'A4,A3;2.5': 831, 'A4,A3;5/3': 832, 'A4,A3;8.0': 833, 'A4,A4,A5;0.5': 834, 'A4,A4,A5;1.0': 835, 'A4,A4,A5;1.5': 836, 'A4,A4;0.25': 837, 'A4,A5;0.25': 838, 'A4,A5;0.5': 839, 'A4,A5;0.75': 840, 'A4,A5;1.0': 841, 'A4,A5;1/3': 842, 'A4,A5;2.0': 843, 'A4,A5;2.5': 844, 'A4,A5;2/3': 845, 'A4,A5;4.0': 846, 'A4,A5;5.0': 847, 'A4,C#5;0.75': 848, 'A4,D3;0.25': 849, 'A4,D4,A3,D3;1.0': 850, 'A4,D4,A3,D3;8.0': 851, 'A4,D4;0.25': 852, 'A4,D4;0.5': 853, 'A4,D4;1.0': 854, 'A4,D4;1.5': 855, 'A4,D4;1/3': 856, 'A4,D4;2/3': 857, 'A4,D5;0.25': 858, 'A4,D5;0.5': 859, 'A4,D5;1.5': 860, 'A4,E4,A3,A2;1.5': 861, 'A4,E4,A3,A2;10.5': 862, 'A4,E4,A3,E3,A2;4.0': 863, 'A4,E4,A3;0.25': 864, 'A4,E4,A3;0.5': 865, 'A4,E4,A3;1.0': 866, 'A4,E4,A3;1.5': 867, 'A4,E4,A3;10/3': 868, 'A4,E4,A3;2.0': 869, 'A4,E4,A3;3.5': 870, 'A4,E4,A3;4.0': 871, 'A4,E4,A3;6.0': 872, 'A4,E4,B3;0.25': 873, 'A4,E4,B3;0.5': 874, 'A4,E4,C4,A3,E3,A2;4.0': 875, 'A4,E4,C4,G3;0.25': 876, 'A4,E4,C4;0.25': 877, 'A4,E4,C4;0.5': 878, 'A4,E4,D4,A3,D3;1.5': 879, 'A4,E4,D4,A3,D3;2.0': 880, 'A4,E4;0.25': 881, 'A4,E4;0.5': 882, 'A4,E4;1.0': 883, 'A4,E4;1.5': 884, 'A4,E4;3.0': 885, 'A4,F#3;0.25': 886, 'A4,F#4,D4,A3,D3;4.0': 887, 'A4,F#4,D4,A3,D3;8.0': 888, 'A4,F#4;0.25': 889, 'A4,F#4;0.5': 890, 'A4,F#4;0.75': 891, 'A4,F#4;1.0': 892, 'A4,F#4;2.0': 893, 'A4,F#4;3.0': 894, 'A4,F4,D4,A3,D3;0.5': 895, 'A4,F4,D4,A3,D3;0.75': 896, 'A4,F4,D4,A3,D3;1.0': 897, 'A4,F4,D4,A3,D3;2.5': 898, 'A4,F4,D4,D3;1.5': 899, 'A4,F4;0.5': 900, 'A4,F4;1.5': 901, 'A4,G#4;0.75': 902, 'A4,G4,D4,B3;1.0': 903, 'A4,G4,D4,D3;1.5': 904, 'A4,G4;0.5': 905, 'A4,G4;1.0': 906, 'A4,G4;1.5': 907, 'A4,G4;4.0': 908, 'A4,G4;7/3': 909, 'A4;0.25': 910, 'A4;0.5': 911, 'A4;0.75': 912, 'A4;1.0': 913, 'A4;1.25': 914, 'A4;1.5': 915, 'A4;1.75': 916, 'A4;1/3': 917, 'A4;10/3': 918, 'A4;11/3': 919, 'A4;13.5': 920, 'A4;2.0': 921, 'A4;2.25': 922, 'A4;2.5': 923, 'A4;2.75': 924, 'A4;2/3': 925, 'A4;24.0': 926, 'A4;3.0': 927, 'A4;3.25': 928, 'A4;3.5': 929, 'A4;3.75': 930, 'A4;31.0': 931, 'A4;4.0': 932, 'A4;4.25': 933, 'A4;4.5': 934, 'A4;4.75': 935, 'A4;4/3': 936, 'A4;5.0': 937, 'A4;5.25': 938, 'A4;5.5': 939, 'A4;5/3': 940, 'A4;6.0': 941, 'A4;7/3': 942, 'A4;8.0': 943, 'A4;9.0': 944, 'A5,A4;0.25': 945, 'A5,A5,A6;2/3': 946, 'A5,A6;0.25': 947, 'A5,F5,D5;3.5': 948, 'A5,G5;1.0': 949, 'A5,G5;1.5': 950, 'A5;0.25': 951, 'A5;0.5': 952, 'A5;0.75': 953, 'A5;1.0': 954, 'A5;1.25': 955, 'A5;1.5': 956, 'A5;1.75': 957, 'A5;1/3': 958, 'A5;11.5': 959, 'A5;12.0': 960, 'A5;2.0': 961, 'A5;2.25': 962, 'A5;2.5': 963, 'A5;2/3': 964, 'A5;3.0': 965, 'A5;3.5': 966, 'A5;4.0': 967, 'A5;4.5': 968, 'A5;4/3': 969, 'A5;5.5': 970, 'A5;5/3': 971, 'A5;8.0': 972, 'A5;8/3': 973, 'A5;9.0': 974, 'A5;9.5': 975, 'B-2,F2;4.0': 976, 'B-2,F3,B-3;4.0': 977, 'B-2,F3;0.25': 978, 'B-2,F3;0.5': 979, 'B-2,F3;3.5': 980, 'B-2,F3;4.0': 981, 'B-2;0.25': 982, 'B-2;0.5': 983, 'B-2;1.0': 984, 'B-2;1.5': 985, 'B-2;10/3': 986, 'B-2;2.0': 987, 'B-2;2.5': 988, 'B-2;2/3': 989, 'B-2;3.5': 990, 'B-3,B-2;4.0': 991, 'B-3,C4;10/3': 992, 'B-3,C4;3.75': 993, 'B-3,D3;0.5': 994, 'B-3,D3;0.75': 995, 'B-3,D3;1.0': 996, 'B-3,D3;1.25': 997, 'B-3,E-3,B-2;4.0': 998, 'B-3,E-3;0.25': 999, 'B-3,E-3;0.5': 1000, 'B-3,E-3;0.75': 1001, 'B-3,E-3;1.0': 1002, 'B-3,E-3;1.25': 1003, 'B-3,E-3;1.5': 1004, 'B-3,E-3;2.0': 1005, 'B-3,E3;0.5': 1006, 'B-3,F#3;0.5': 1007, 'B-3,F#3;16.0': 1008, 'B-3,F#3;3.5': 1009, 'B-3,F3,B-2;0.25': 1010, 'B-3,F3,B-2;0.5': 1011, 'B-3,F3,B-2;0.75': 1012, 'B-3,F3,B-2;1.0': 1013, 'B-3,F3,B-2;1.5': 1014, 'B-3,F3,B-2;2.0': 1015, 'B-3,F3,B-2;2.5': 1016, 'B-3,F3,B-2;2/3': 1017, 'B-3,F3,B-2;3.0': 1018, 'B-3,F3,B-2;4.0': 1019, 'B-3,F3,B-2;4.5': 1020, 'B-3,F3,B-2;6.0': 1021, 'B-3,F3,B-2;7.5': 1022, 'B-3,F3,B-2;8.0': 1023, 'B-3,F3;0.25': 1024, 'B-3,F3;0.5': 1025, 'B-3,F3;1.0': 1026, 'B-3,F3;1.5': 1027, 'B-3,F3;2.0': 1028, 'B-3;0.25': 1029, 'B-3;0.5': 1030, 'B-3;0.75': 1031, 'B-3;1.0': 1032, 'B-3;1.5': 1033, 'B-3;1/3': 1034, 'B-3;14/3': 1035, 'B-3;2.0': 1036, 'B-3;2.5': 1037, 'B-3;2/3': 1038, 'B-3;3.0': 1039, 'B-3;3.25': 1040, 'B-3;3.5': 1041, 'B-3;3.75': 1042, 'B-3;4.0': 1043, 'B-3;6.75': 1044, 'B-3;7.5': 1045, 'B-4,A4;0.5': 1046, 'B-4,B-3;8.0': 1047, 'B-4,F#4,C#4,F#3;3.5': 1048, 'B-4,F#4,C#4,F#3;5.0': 1049, 'B-4,F#4;1.0': 1050, 'B-4,F#4;1.5': 1051, 'B-4,F4,D4;1.0': 1052, 'B-4,F4;0.25': 1053, 'B-4,F4;0.5': 1054, 'B-4,G#4;0.75': 1055, 'B-4,G#4;1.5': 1056, 'B-4,G#4;2.5': 1057, 'B-4,G#4;2/3': 1058, 'B-4,G#4;4/3': 1059, 'B-4;0.25': 1060, 'B-4;0.5': 1061, 'B-4;0.75': 1062, 'B-4;1.0': 1063, 'B-4;1.5': 1064, 'B-4;1/3': 1065, 'B-4;2.0': 1066, 'B-4;3.0': 1067, 'B-4;3.5': 1068, 'B-4;3.75': 1069, 'B-4;4.0': 1070, 'B-4;6.0': 1071, 'B-5;0.25': 1072, 'B-5;0.5': 1073, 'B-5;0.75': 1074, 'B-5;1.0': 1075, 'B-5;1.5': 1076, 'B-5;1.75': 1077, 'B-5;1/3': 1078, 'B-5;2.0': 1079, 'B-5;2.5': 1080, 'B-5;2/3': 1081, 'B-5;3.0': 1082, 'B-5;4.5': 1083, 'B-5;8/3': 1084, 'B2,B3,F#3;0.25': 1085, 'B2,B3,F#3;0.5': 1086, 'B2,B3;0.5': 1087, 'B2,D3,G3,B3;2.0': 1088, 'B2,D3,G3,B3;2.5': 1089, 'B2,E2;0.25': 1090, 'B2,E2;0.5': 1091, 'B2,E2;0.75': 1092, 'B2,E2;1.0': 1093, 'B2,E2;1.5': 1094, 'B2,E2;1/3': 1095, 'B2,E2;11.0': 1096, 'B2,E2;12.0': 1097, 'B2,E2;16.0': 1098, 'B2,E2;2.0': 1099, 'B2,E2;2.25': 1100, 'B2,E2;2.5': 1101, 'B2,E2;3.0': 1102, 'B2,E2;30.5': 1103, 'B2,E2;4.0': 1104, 'B2,E2;4.5': 1105, 'B2,E2;5.75': 1106, 'B2,E2;6.0': 1107, 'B2,E2;6.5': 1108, 'B2,E2;8.5': 1109, 'B2,E3,G3;8/3': 1110, 'B2,F#3,B3;0.25': 1111, 'B2,F#3,B3;1.0': 1112, 'B2,F#3;0.25': 1113, 'B2,F#3;1.0': 1114, 'B2,F#3;4.0': 1115, 'B2,G2;0.5': 1116, 'B2;0.25': 1117, 'B2;0.5': 1118, 'B2;0.75': 1119, 'B2;1.0': 1120, 'B2;1.5': 1121, 'B2;1/3': 1122, 'B2;12.0': 1123, 'B2;13.0': 1124, 'B2;13.75': 1125, 'B2;15.75': 1126, 'B2;16.0': 1127, 'B2;16/3': 1128, 'B2;2.0': 1129, 'B2;2.25': 1130, 'B2;2.5': 1131, 'B2;2/3': 1132, 'B2;3.0': 1133, 'B2;3.5': 1134, 'B2;4.75': 1135, 'B2;5.0': 1136, 'B2;5.5': 1137, 'B2;5.75': 1138, 'B2;7.5': 1139, 'B2;7.75': 1140, 'B2;8.0': 1141, 'B2;9.0': 1142, 'B3,A3;0.25': 1143, 'B3,A3;2.0': 1144, 'B3,A3;2.5': 1145, 'B3,A4,D3;8.0': 1146, 'B3,B2;0.5': 1147, 'B3,B3,B4;1.0': 1148, 'B3,B3,B4;2.0': 1149, 'B3,B3;0.25': 1150, 'B3,B3;0.5': 1151, 'B3,B3;3.75': 1152, 'B3,B4;0.5': 1153, 'B3,B4;1.0': 1154, 'B3,B4;1.75': 1155, 'B3,B4;1/3': 1156, 'B3,B4;2.0': 1157, 'B3,B4;2.25': 1158, 'B3,B4;2.5': 1159, 'B3,B4;3.5': 1160, 'B3,B4;5.25': 1161, 'B3,B4;5.75': 1162, 'B3,B4;9.25': 1163, 'B3,C#4;1.0': 1164, 'B3,D3,A2;0.25': 1165, 'B3,D3;0.25': 1166, 'B3,D3;0.5': 1167, 'B3,D3;1.0': 1168, 'B3,D4,G4;1.0': 1169, 'B3,D4,G4;2.0': 1170, 'B3,E-3;0.75': 1171, 'B3,E3,B2,E2;0.5': 1172, 'B3,E3,E2;0.25': 1173, 'B3,E3,E2;0.5': 1174, 'B3,E3,E2;1.0': 1175, 'B3,E3,E2;1.5': 1176, 'B3,E3,E2;1.75': 1177, 'B3,E3,E2;2.0': 1178, 'B3,E3,E2;3.0': 1179, 'B3,E3,E2;4.0': 1180, 'B3,E3,E2;6.0': 1181, 'B3,E3,E2;8.0': 1182, 'B3,E3,E4;7.75': 1183, 'B3,E3;0.25': 1184, 'B3,E3;0.5': 1185, 'B3,E3;0.75': 1186, 'B3,E3;1.0': 1187, 'B3,E3;1.25': 1188, 'B3,E3;1.5': 1189, 'B3,E3;1.75': 1190, 'B3,E3;1/3': 1191, 'B3,E3;11.0': 1192, 'B3,E3;2.0': 1193, 'B3,E3;2.25': 1194, 'B3,E3;2.5': 1195, 'B3,E3;2/3': 1196, 'B3,E3;25/3': 1197, 'B3,E3;3.0': 1198, 'B3,E3;3.5': 1199, 'B3,E3;3.75': 1200, 'B3,E3;4.0': 1201, 'B3,E3;4.25': 1202, 'B3,E3;5.75': 1203, 'B3,E3;5/3': 1204, 'B3,E3;6.0': 1205, 'B3,E3;6.5': 1206, 'B3,E3;7.5': 1207, 'B3,E3;7.75': 1208, 'B3,E3;8.0': 1209, 'B3,E4,A3,F3;2.0': 1210, 'B3,E4,A3,F3;5.0': 1211, 'B3,E4,A3;1.0': 1212, 'B3,E4,B3,E3;0.5': 1213, 'B3,E4,E3;0.75': 1214, 'B3,E4,E3;1.0': 1215, 'B3,E4,G3;2.0': 1216, 'B3,E4,G4;0.75': 1217, 'B3,E4;0.25': 1218, 'B3,E4;0.5': 1219, 'B3,E4;1.0': 1220, 'B3,E4;1.5': 1221, 'B3,E4;1.75': 1222, 'B3,E4;14/3': 1223, 'B3,E4;2.0': 1224, 'B3,E4;2.5': 1225, 'B3,E4;2.75': 1226, 'B3,E4;20/3': 1227, 'B3,E4;4.0': 1228, 'B3,E4;6.75': 1229, 'B3,E4;8/3': 1230, 'B3,F#3,B2;0.25': 1231, 'B3,F#3,B2;0.5': 1232, 'B3,F#3,B2;1.0': 1233, 'B3,F#3,B2;1.25': 1234, 'B3,F#3,B2;1.5': 1235, 'B3,F#3,B2;1.75': 1236, 'B3,F#3,B2;1/3': 1237, 'B3,F#3,B2;2.0': 1238, 'B3,F#3,B2;3.0': 1239, 'B3,F#3,B2;3.25': 1240, 'B3,F#3,B2;3.5': 1241, 'B3,F#3,B2;4.0': 1242, 'B3,F#3,B2;5.0': 1243, 'B3,F#3,B2;5.5': 1244, 'B3,F#3,B2;6.0': 1245, 'B3,F#3,B2;6.5': 1246, 'B3,F#3,B2;8.0': 1247, 'B3,F#3;0.25': 1248, 'B3,F#3;0.5': 1249, 'B3,F#3;0.75': 1250, 'B3,F#3;1.0': 1251, 'B3,F#4;0.5': 1252, 'B3,F#4;0.75': 1253, 'B3,F3;0.5': 1254, 'B3,G#3,A2;0.5': 1255, 'B3,G#3,E3;0.5': 1256, 'B3,G#3;1.0': 1257, 'B3,G3,D3,E2;0.25': 1258, 'B3,G3,D3,G2;4.0': 1259, 'B3,G3,D3;0.25': 1260, 'B3,G3,D3;0.75': 1261, 'B3,G3,D3;2.5': 1262, 'B3,G3,E3;0.25': 1263, 'B3,G3,G3,B2;2.5': 1264, 'B3,G3,G3,B2;3.5': 1265, 'B3,G3;0.25': 1266, 'B3,G3;0.5': 1267, 'B3,G3;0.75': 1268, 'B3,G3;1.0': 1269, 'B3,G3;1.5': 1270, 'B3,G3;2.5': 1271, 'B3;0.25': 1272, 'B3;0.5': 1273, 'B3;0.75': 1274, 'B3;1.0': 1275, 'B3;1.25': 1276, 'B3;1.5': 1277, 'B3;1.75': 1278, 'B3;1/3': 1279, 'B3;10.0': 1280, 'B3;11.0': 1281, 'B3;13.5': 1282, 'B3;13.75': 1283, 'B3;13/3': 1284, 'B3;14.0': 1285, 'B3;14.5': 1286, 'B3;14/3': 1287, 'B3;15.0': 1288, 'B3;15.75': 1289, 'B3;16/3': 1290, 'B3;2.0': 1291, 'B3;2.5': 1292, 'B3;2/3': 1293, 'B3;22/3': 1294, 'B3;3.0': 1295, 'B3;3.5': 1296, 'B3;3.75': 1297, 'B3;34.5': 1298, 'B3;34/3': 1299, 'B3;4.0': 1300, 'B3;4.5': 1301, 'B3;4.75': 1302, 'B3;4/3': 1303, 'B3;40.0': 1304, 'B3;5.0': 1305, 'B3;5.5': 1306, 'B3;5/3': 1307, 'B3;6.0': 1308, 'B3;6.5': 1309, 'B3;7.25': 1310, 'B3;7.5': 1311, 'B3;7.75': 1312, 'B3;7/3': 1313, 'B3;8.0': 1314, 'B3;8.75': 1315, 'B3;8/3': 1316, 'B3;9.25': 1317, 'B3;9.5': 1318, 'B4,A4;0.75': 1319, 'B4,A4;1.0': 1320, 'B4,A4;1.5': 1321, 'B4,A4;2.0': 1322, 'B4,A4;3.0': 1323, 'B4,B3;0.25': 1324, 'B4,B3;0.5': 1325, 'B4,B3;1.0': 1326, 'B4,B3;1/3': 1327, 'B4,B3;2.5': 1328, 'B4,B3;5/3': 1329, 'B4,B4;0.5': 1330, 'B4,B5,G4,G5,D4,D5;2.0': 1331, 'B4,B5;0.25': 1332, 'B4,B5;0.5': 1333, 'B4,B5;1.0': 1334, 'B4,B5;1.5': 1335, 'B4,B5;1.75': 1336, 'B4,B5;1/3': 1337, 'B4,B5;2.0': 1338, 'B4,B5;2.75': 1339, 'B4,B5;2/3': 1340, 'B4,B5;3.0': 1341, 'B4,B5;3.25': 1342, 'B4,B5;3.5': 1343, 'B4,B5;3.75': 1344, 'B4,B5;4.0': 1345, 'B4,B5;4.5': 1346, 'B4,B5;5.0': 1347, 'B4,E4,B3,E3;7.0': 1348, 'B4,E4;2.0': 1349, 'B4,E4;4.0': 1350, 'B4,E5;0.25': 1351, 'B4,E5;17/3': 1352, 'B4,F#4,B3;0.25': 1353, 'B4,F#4,B3;1.5': 1354, 'B4,F#4,B3;2.0': 1355, 'B4,F#4,E4;6.0': 1356, 'B4,F#4,E4;8.5': 1357, 'B4,F#4;0.25': 1358, 'B4,F#4;0.5': 1359, 'B4,F#4;1.0': 1360, 'B4,F#4;1.5': 1361, 'B4,F#4;4.0': 1362, 'B4,F4,C4,F3;1.0': 1363, 'B4,G#4;0.5': 1364, 'B4,G#4;1.5': 1365, 'B4,G3;0.25': 1366, 'B4,G4,D4;0.25': 1367, 'B4,G4,D4;0.5': 1368, 'B4,G4,E4,B3,E3;4.0': 1369, 'B4,G4;0.25': 1370, 'B4,G4;0.5': 1371, 'B4,G4;0.75': 1372, 'B4,G4;1.0': 1373, 'B4,G4;4.0': 1374, 'B4;0.25': 1375, 'B4;0.5': 1376, 'B4;0.75': 1377, 'B4;1.0': 1378, 'B4;1.25': 1379, 'B4;1.5': 1380, 'B4;1.75': 1381, 'B4;1/3': 1382, 'B4;10.0': 1383, 'B4;10/3': 1384, 'B4;11.5': 1385, 'B4;11/3': 1386, 'B4;12.0': 1387, 'B4;14.5': 1388, 'B4;16/3': 1389, 'B4;19/3': 1390, 'B4;2.0': 1391, 'B4;2.25': 1392, 'B4;2.5': 1393, 'B4;2/3': 1394, 'B4;22/3': 1395, 'B4;3.0': 1396, 'B4;3.25': 1397, 'B4;3.5': 1398, 'B4;3.75': 1399, 'B4;37/3': 1400, 'B4;4.0': 1401, 'B4;4.5': 1402, 'B4;4/3': 1403, 'B4;5.0': 1404, 'B4;5.25': 1405, 'B4;5.5': 1406, 'B4;6.0': 1407, 'B4;6.5': 1408, 'B4;7.0': 1409, 'B4;9.0': 1410, 'B5,A5;0.75': 1411, 'B5,A5;1.5': 1412, 'B5,A5;3.0': 1413, 'B5,B6;0.25': 1414, 'B5,B6;0.5': 1415, 'B5,B6;0.75': 1416, 'B5,B6;3.5': 1417, 'B5;0.25': 1418, 'B5;0.5': 1419, 'B5;0.75': 1420, 'B5;1.0': 1421, 'B5;1.25': 1422, 'B5;1.5': 1423, 'B5;1/3': 1424, 'B5;12.0': 1425, 'B5;2.0': 1426, 'B5;2.25': 1427, 'B5;2.5': 1428, 'B5;2/3': 1429, 'B5;3.0': 1430, 'B5;3.5': 1431, 'B5;3.75': 1432, 'B5;4.0': 1433, 'B5;4/3': 1434, 'B5;5.5': 1435, 'B5;5/3': 1436, 'B5;8.0': 1437, 'C#3,F#2;0.25': 1438, 'C#3,F#2;0.5': 1439, 'C#3,F#2;0.75': 1440, 'C#3,F#2;1.0': 1441, 'C#3,F#2;1.5': 1442, 'C#3,F#2;2.0': 1443, 'C#3,G#3;12.0': 1444, 'C#3,G2;0.5': 1445, 'C#3;0.25': 1446, 'C#3;0.5': 1447, 'C#3;1.0': 1448, 'C#3;1.5': 1449, 'C#3;1/3': 1450, 'C#3;2.0': 1451, 'C#3;2/3': 1452, 'C#3;6.5': 1453, 'C#3;8.0': 1454, 'C#4,A3,C#3;0.5': 1455, 'C#4,A3,C#3;1.5': 1456, 'C#4,A3,C#3;2.0': 1457, 'C#4,A3,E3,A2;0.5': 1458, 'C#4,A3,E3,A2;0.75': 1459, 'C#4,A3,E3,A2;1.0': 1460, 'C#4,A3,E3,A2;4.5': 1461, 'C#4,A3,E3;0.25': 1462, 'C#4,A3,E3;0.75': 1463, 'C#4,A3,E3;1.0': 1464, 'C#4,A3,E3;1/3': 1465, 'C#4,A3,F#3,C#3,F#2;1.0': 1466, 'C#4,A3,F#3,C#3,F#2;14.5': 1467, 'C#4,A3,F#3,C#3,F#2;8.0': 1468, 'C#4,A3;0.5': 1469, 'C#4,B3;0.5': 1470, 'C#4,C#5;0.75': 1471, 'C#4,E3;0.5': 1472, 'C#4,F#3;0.25': 1473, 'C#4,F#3;0.5': 1474, 'C#4,F#3;0.75': 1475, 'C#4,F#3;1.0': 1476, 'C#4,F#3;1.5': 1477, 'C#4,F#3;3.0': 1478, 'C#4,F#3;3.5': 1479, 'C#4,F#3;4.0': 1480, 'C#4,G#3,C#3,A2;1.5': 1481, 'C#4,G#3,C#3;0.25': 1482, 'C#4,G#3,C#3;0.5': 1483, 'C#4,G#3,C#3;1.0': 1484, 'C#4,G#3,C#3;1.5': 1485, 'C#4,G#3,C#3;1.75': 1486, 'C#4,G#3,C#3;3.0': 1487, 'C#4,G#3,C#3;3.75': 1488, 'C#4,G#3,C#3;4.0': 1489, 'C#4,G#3;0.25': 1490, 'C#4,G#3;0.5': 1491, 'C#4,G#3;1.5': 1492, 'C#4,G3;0.5': 1493, 'C#4;0.25': 1494, 'C#4;0.5': 1495, 'C#4;0.75': 1496, 'C#4;1.0': 1497, 'C#4;1.25': 1498, 'C#4;1.5': 1499, 'C#4;1.75': 1500, 'C#4;1/3': 1501, 'C#4;11.75': 1502, 'C#4;2.0': 1503, 'C#4;2.5': 1504, 'C#4;2/3': 1505, 'C#4;20/3': 1506, 'C#4;3.0': 1507, 'C#4;3.5': 1508, 'C#4;3.75': 1509, 'C#4;4.0': 1510, 'C#4;5.0': 1511, 'C#4;6.5': 1512, 'C#4;7.0': 1513, 'C#4;7.75': 1514, 'C#4;8.0': 1515, 'C#5,A4;0.25': 1516, 'C#5,A4;0.5': 1517, 'C#5,A4;0.75': 1518, 'C#5,A4;1.0': 1519, 'C#5,A4;1.5': 1520, 'C#5,C#6;2/3': 1521, 'C#5;0.25': 1522, 'C#5;0.5': 1523, 'C#5;0.75': 1524, 'C#5;1.0': 1525, 'C#5;1.5': 1526, 'C#5;1.75': 1527, 'C#5;1/3': 1528, 'C#5;2.0': 1529, 'C#5;2.25': 1530, 'C#5;2/3': 1531, 'C#5;3.0': 1532, 'C#5;4.0': 1533, 'C#5;7.0': 1534, 'C#6;0.25': 1535, 'C#6;0.5': 1536, 'C#6;1.0': 1537, 'C#6;1/3': 1538, 'C#6;2.0': 1539, 'C#6;3.0': 1540, 'C#6;4/3': 1541, 'C3,C4,B3;1.0': 1542, 'C3,C4;0.5': 1543, 'C3,C4;1.0': 1544, 'C3,E2;1.0': 1545, 'C3,E3,A3;1.5': 1546, 'C3,E3,G3;0.5': 1547, 'C3,E3,G3;1.5': 1548, 'C3,E3,G3;2.0': 1549, 'C3,E3;1.5': 1550, 'C3,E3;2.0': 1551, 'C3,E3;4.0': 1552, 'C3,E4;0.25': 1553, 'C3,E4;1.0': 1554, 'C3,F2;0.25': 1555, 'C3,F2;0.5': 1556, 'C3,F2;0.75': 1557, 'C3,F2;1.0': 1558, 'C3,F2;1.25': 1559, 'C3,F2;1.5': 1560, 'C3,F2;1/3': 1561, 'C3,F2;2.0': 1562, 'C3,F2;2.5': 1563, 'C3,F2;3.5': 1564, 'C3,F2;4.0': 1565, 'C3,F2;4.5': 1566, 'C3,F2;6.0': 1567, 'C3,F3,C4;2.0': 1568, 'C3,F3,G3;1.5': 1569, 'C3,G2;0.5': 1570, 'C3,G2;1.0': 1571, 'C3,G2;4.0': 1572, 'C3,G2;8.0': 1573, 'C3,G3,C4,D4,G4;2.0': 1574, 'C3,G3,C4,D4;3.0': 1575, 'C3,G3,C4,E4;0.25': 1576, 'C3,G3,C4,E4;0.5': 1577, 'C3,G3,C4,E4;1.0': 1578, 'C3,G3,C4,E4;2.0': 1579, 'C3,G3,C4,E4;3.0': 1580, 'C3,G3,C4;0.25': 1581, 'C3,G3,C4;0.5': 1582, 'C3,G3,C4;0.75': 1583, 'C3,G3,C4;1.0': 1584, 'C3,G3,C4;2.0': 1585, 'C3,G3,C4;2.5': 1586, 'C3,G3,C4;3.0': 1587, 'C3,G3,C4;3.5': 1588, 'C3,G3,C4;4.0': 1589, 'C3,G3,C4;6.0': 1590, 'C3,G3,C4;8.0': 1591, 'C3,G3;0.25': 1592, 'C3,G3;0.5': 1593, 'C3,G3;0.75': 1594, 'C3,G3;1.0': 1595, 'C3,G3;1.5': 1596, 'C3,G3;2.0': 1597, 'C3,G3;3.0': 1598, 'C3,G3;4.0': 1599, 'C3,G3;5.0': 1600, 'C3;0.25': 1601, 'C3;0.5': 1602, 'C3;0.75': 1603, 'C3;1.0': 1604, 'C3;1.25': 1605, 'C3;1.5': 1606, 'C3;1.75': 1607, 'C3;1/3': 1608, 'C3;10/3': 1609, 'C3;12.0': 1610, 'C3;16/3': 1611, 'C3;2.0': 1612, 'C3;2.25': 1613, 'C3;2.5': 1614, 'C3;2/3': 1615, 'C3;3.0': 1616, 'C3;3.25': 1617, 'C3;3.5': 1618, 'C3;31.25': 1619, 'C3;4.0': 1620, 'C3;4.5': 1621, 'C3;4/3': 1622, 'C3;5.0': 1623, 'C3;5.5': 1624, 'C3;6.0': 1625, 'C3;7.0': 1626, 'C3;7.25': 1627, 'C3;8.0': 1628, 'C3;9.0': 1629, 'C4,A3,E3,A2;0.25': 1630, 'C4,A3,E3,A2;0.5': 1631, 'C4,A3,E3,A2;1.0': 1632, 'C4,A3,E3,A2;4.0': 1633, 'C4,A3,E3,A2;4.5': 1634, 'C4,A3,E3;0.25': 1635, 'C4,A3,E3;2.0': 1636, 'C4,A3,F3,C3,F2;3.5': 1637, 'C4,A3,F3,C3;4.0': 1638, 'C4,A3,F3;1.0': 1639, 'C4,A3;0.25': 1640, 'C4,A3;0.5': 1641, 'C4,A3;0.75': 1642, 'C4,A3;1.0': 1643, 'C4,A3;1.25': 1644, 'C4,A3;2.0': 1645, 'C4,B-3,F3;1.5': 1646, 'C4,B-3;0.25': 1647, 'C4,B-3;1.0': 1648, 'C4,B3;7.75': 1649, 'C4,C3;1.0': 1650, 'C4,C3;4.0': 1651, 'C4,C3;8.0': 1652, 'C4,C5;0.25': 1653, 'C4,C5;0.5': 1654, 'C4,C5;1/3': 1655, 'C4,C5;2.0': 1656, 'C4,D3;0.25': 1657, 'C4,D4;0.75': 1658, 'C4,D4;1.75': 1659, 'C4,D4;3.75': 1660, 'C4,E3,C3;1.5': 1661, 'C4,E3;0.25': 1662, 'C4,E3;0.5': 1663, 'C4,E3;0.75': 1664, 'C4,E3;1.0': 1665, 'C4,E3;1.5': 1666, 'C4,E3;2.0': 1667, 'C4,E4,A4;1.5': 1668, 'C4,E4,G3;0.25': 1669, 'C4,E4;1.0': 1670, 'C4,E4;1.75': 1671, 'C4,E4;4/3': 1672, 'C4,F3,C3;0.25': 1673, 'C4,F3,C3;1.5': 1674, 'C4,F3,C3;3.5': 1675, 'C4,F3;0.25': 1676, 'C4,F3;0.5': 1677, 'C4,F3;0.75': 1678, 'C4,F3;1.0': 1679, 'C4,F3;1.5': 1680, 'C4,F3;2.0': 1681, 'C4,F3;3.5': 1682, 'C4,F3;3.75': 1683, 'C4,F3;4.0': 1684, 'C4,F4,G4;1.5': 1685, 'C4,F4;2.5': 1686, 'C4,F4;3.75': 1687, 'C4,G3,C3,G2;1.0': 1688, 'C4,G3,C3,G2;3.5': 1689, 'C4,G3,C3,G2;4.0': 1690, 'C4,G3,C3;0.25': 1691, 'C4,G3,C3;0.5': 1692, 'C4,G3,C3;0.75': 1693, 'C4,G3,C3;1.0': 1694, 'C4,G3,C3;1.25': 1695, 'C4,G3,C3;1.5': 1696, 'C4,G3,C3;1.75': 1697, 'C4,G3,C3;1/3': 1698, 'C4,G3,C3;12.0': 1699, 'C4,G3,C3;2.0': 1700, 'C4,G3,C3;2.25': 1701, 'C4,G3,C3;2.5': 1702, 'C4,G3,C3;2/3': 1703, 'C4,G3,C3;3.0': 1704, 'C4,G3,C3;3.5': 1705, 'C4,G3,C3;3.75': 1706, 'C4,G3,C3;4.0': 1707, 'C4,G3,C3;4.25': 1708, 'C4,G3,C3;4.5': 1709, 'C4,G3,C3;4/3': 1710, 'C4,G3,C3;5.0': 1711, 'C4,G3,C3;5.5': 1712, 'C4,G3,C3;6.0': 1713, 'C4,G3,C3;7.0': 1714, 'C4,G3,C3;7.5': 1715, 'C4,G3,C3;8.0': 1716, 'C4,G3,C3;8.5': 1717, 'C4,G3,C3;8/3': 1718, 'C4,G3,D3;0.25': 1719, 'C4,G3,D3;0.5': 1720, 'C4,G3,E3,C3;0.5': 1721, 'C4,G3,E3,C3;1.0': 1722, 'C4,G3,E3,C3;1.5': 1723, 'C4,G3,E3,C3;2.0': 1724, 'C4,G3;0.25': 1725, 'C4,G3;0.5': 1726, 'C4,G3;0.75': 1727, 'C4,G3;1.0': 1728, 'C4,G3;1.5': 1729, 'C4,G3;2.0': 1730, 'C4,G3;2.5': 1731, 'C4,G3;25/3': 1732, 'C4,G3;4.0': 1733, 'C4;0.25': 1734, 'C4;0.5': 1735, 'C4;0.75': 1736, 'C4;1.0': 1737, 'C4;1.25': 1738, 'C4;1.5': 1739, 'C4;1.75': 1740, 'C4;1/3': 1741, 'C4;10/3': 1742, 'C4;11.25': 1743, 'C4;11/3': 1744, 'C4;17/3': 1745, 'C4;2.0': 1746, 'C4;2.25': 1747, 'C4;2.5': 1748, 'C4;2.75': 1749, 'C4;2/3': 1750, 'C4;23.0': 1751, 'C4;3.0': 1752, 'C4;3.25': 1753, 'C4;3.5': 1754, 'C4;3.75': 1755, 'C4;4.0': 1756, 'C4;4.25': 1757, 'C4;4.5': 1758, 'C4;4.75': 1759, 'C4;4/3': 1760, 'C4;45.0': 1761, 'C4;47.0': 1762, 'C4;5.0': 1763, 'C4;5.5': 1764, 'C4;5.75': 1765, 'C4;5/3': 1766, 'C4;6.0': 1767, 'C4;6.5': 1768, 'C4;6.75': 1769, 'C4;7.75': 1770, 'C4;8.0': 1771, 'C4;8/3': 1772, 'C5,A4;0.25': 1773, 'C5,A4;2/3': 1774, 'C5,A4;4.5': 1775, 'C5,B-4;1.5': 1776, 'C5,C4;1.0': 1777, 'C5,C4;1.5': 1778, 'C5,C4;8.0': 1779, 'C5,C5;0.25': 1780, 'C5,C6;1.5': 1781, 'C5,C6;1/3': 1782, 'C5,C6;2/3': 1783, 'C5,C6;4.0': 1784, 'C5,E5;0.25': 1785, 'C5,E5;0.5': 1786, 'C5,F4,C4,F3;1.0': 1787, 'C5,F5;0.25': 1788, 'C5,F5;0.5': 1789, 'C5,F5;1.0': 1790, 'C5,G4,E4,C4,G3,C3;6.5': 1791, 'C5,G4,E4;1.5': 1792, 'C5,G4;0.25': 1793, 'C5,G4;0.5': 1794, 'C5,G4;1.0': 1795, 'C5,G4;2.25': 1796, 'C5,G4;2.5': 1797, 'C5,G4;2.75': 1798, 'C5,G4;3.0': 1799, 'C5,G4;5.0': 1800, 'C5,G4;8.0': 1801, 'C5;0.25': 1802, 'C5;0.5': 1803, 'C5;0.75': 1804, 'C5;1.0': 1805, 'C5;1.25': 1806, 'C5;1.5': 1807, 'C5;1.75': 1808, 'C5;1/3': 1809, 'C5;10.0': 1810, 'C5;10/3': 1811, 'C5;12.0': 1812, 'C5;15.0': 1813, 'C5;19/3': 1814, 'C5;2.0': 1815, 'C5;2.25': 1816, 'C5;2.5': 1817, 'C5;2.75': 1818, 'C5;2/3': 1819, 'C5;3.0': 1820, 'C5;3.5': 1821, 'C5;3.75': 1822, 'C5;4.0': 1823, 'C5;4.25': 1824, 'C5;4.5': 1825, 'C5;5.0': 1826, 'C5;5.5': 1827, 'C5;5/3': 1828, 'C5;6.0': 1829, 'C5;6.5': 1830, 'C5;7/3': 1831, 'C5;8.0': 1832, 'C5;8/3': 1833, 'C6;0.25': 1834, 'C6;0.5': 1835, 'C6;0.75': 1836, 'C6;1.0': 1837, 'C6;1.25': 1838, 'C6;1.5': 1839, 'C6;1/3': 1840, 'C6;2.0': 1841, 'C6;2.5': 1842, 'C6;2/3': 1843, 'C6;3.0': 1844, 'C6;3.5': 1845, 'C6;3.75': 1846, 'C6;4/3': 1847, 'C6;8/3': 1848, 'D2;0.25': 1849, 'D2;0.5': 1850, 'D3,A2,D2;0.25': 1851, 'D3,A2,D2;0.5': 1852, 'D3,A2,D2;1.0': 1853, 'D3,A2,D2;1.5': 1854, 'D3,A2,D2;12.0': 1855, 'D3,A2,D2;2.0': 1856, 'D3,A2,D2;3.0': 1857, 'D3,A2,D2;3.5': 1858, 'D3,A2,D2;8.0': 1859, 'D3,A2,D2;8.5': 1860, 'D3,A2,D2;9.0': 1861, 'D3,A2,E2;0.25': 1862, 'D3,A2,F#2;5.75': 1863, 'D3,A2;0.25': 1864, 'D3,A2;0.5': 1865, 'D3,A2;1.0': 1866, 'D3,A2;1.5': 1867, 'D3,A2;3.0': 1868, 'D3,A2;3.5': 1869, 'D3,A2;4.0': 1870, 'D3,A3,A2;0.25': 1871, 'D3,A3,D4,E4,A4;2.0': 1872, 'D3,A3,D4,E4,A4;4.0': 1873, 'D3,A3,D4,E4;0.25': 1874, 'D3,A3,D4,E4;0.5': 1875, 'D3,A3,D4,E4;1.0': 1876, 'D3,A3,D4,E4;5.0': 1877, 'D3,A3,D4,F#4;2.0': 1878, 'D3,A3,D4;0.25': 1879, 'D3,A3,D4;0.5': 1880, 'D3,A3,D4;0.75': 1881, 'D3,A3,D4;1.0': 1882, 'D3,A3,D4;2.0': 1883, 'D3,A3,D4;3.0': 1884, 'D3,A3,D4;3.5': 1885, 'D3,A3,D4;4.0': 1886, 'D3,A3,D4;6.0': 1887, 'D3,A3;0.25': 1888, 'D3,A3;0.5': 1889, 'D3,A3;0.75': 1890, 'D3,A3;1.0': 1891, 'D3,A3;2.0': 1892, 'D3,A3;22/3': 1893, 'D3,A3;3.0': 1894, 'D3,A3;4.0': 1895, 'D3,B-3;4.0': 1896, 'D3,B2;0.25': 1897, 'D3,B2;0.5': 1898, 'D3,C#3;0.5': 1899, 'D3,C4;4.0': 1900, 'D3,D3;0.25': 1901, 'D3,D4;0.5': 1902, 'D3,D4;0.75': 1903, 'D3,D4;1.0': 1904, 'D3,D4;2.0': 1905, 'D3,D4;2.5': 1906, 'D3,D4;5.5': 1907, 'D3,D4;5.75': 1908, 'D3,D4;6.0': 1909, 'D3,E-4;0.5': 1910, 'D3,E2;0.25': 1911, 'D3,E3,A2;0.25': 1912, 'D3,F#2;1.0': 1913, 'D3,F#2;2.0': 1914, 'D3,F#3,G3;1.5': 1915, 'D3,F#4;0.25': 1916, 'D3,F#4;0.5': 1917, 'D3,G2;0.25': 1918, 'D3,G2;0.5': 1919, 'D3,G2;0.75': 1920, 'D3,G2;1.0': 1921, 'D3,G2;1.25': 1922, 'D3,G2;1.5': 1923, 'D3,G2;1/3': 1924, 'D3,G2;2.0': 1925, 'D3,G2;2.5': 1926, 'D3,G2;2/3': 1927, 'D3,G2;3.0': 1928, 'D3,G2;3.5': 1929, 'D3,G2;4.0': 1930, 'D3,G3,B3;2.0': 1931, 'D3,G3;4.0': 1932, 'D3;0.25': 1933, 'D3;0.5': 1934, 'D3;0.75': 1935, 'D3;1.0': 1936, 'D3;1.25': 1937, 'D3;1.5': 1938, 'D3;1.75': 1939, 'D3;1/3': 1940, 'D3;11/3': 1941, 'D3;12.0': 1942, 'D3;13.0': 1943, 'D3;14/3': 1944, 'D3;16/3': 1945, 'D3;17.0': 1946, 'D3;2.0': 1947, 'D3;2.25': 1948, 'D3;2.5': 1949, 'D3;2/3': 1950, 'D3;21.0': 1951, 'D3;28/3': 1952, 'D3;29.0': 1953, 'D3;3.0': 1954, 'D3;3.25': 1955, 'D3;3.5': 1956, 'D3;4.0': 1957, 'D3;4.5': 1958, 'D3;4/3': 1959, 'D3;40/3': 1960, 'D3;5.0': 1961, 'D3;5.5': 1962, 'D3;6.0': 1963, 'D3;7.0': 1964, 'D3;7.5': 1965, 'D3;8.0': 1966, 'D3;88/3': 1967, 'D3;9.0': 1968, 'D4,A3,A2;0.75': 1969, 'D4,A3,D3,A2,D2;0.5': 1970, 'D4,A3,D3,A2,D2;1.0': 1971, 'D4,A3,D3,A2,D2;2.0': 1972, 'D4,A3,D3,A2;0.5': 1973, 'D4,A3,D3,A2;1.0': 1974, 'D4,A3,D3,A2;2.5': 1975, 'D4,A3,D3,A2;3.0': 1976, 'D4,A3,D3,A2;3.5': 1977, 'D4,A3,D3,A2;4.0': 1978, 'D4,A3,D3,D2;1/3': 1979, 'D4,A3,D3,F#2;1.0': 1980, 'D4,A3,D3;0.25': 1981, 'D4,A3,D3;0.5': 1982, 'D4,A3,D3;0.75': 1983, 'D4,A3,D3;1.0': 1984, 'D4,A3,D3;1.25': 1985, 'D4,A3,D3;1.5': 1986, 'D4,A3,D3;1/3': 1987, 'D4,A3,D3;10.0': 1988, 'D4,A3,D3;12.0': 1989, 'D4,A3,D3;14.0': 1990, 'D4,A3,D3;15.0': 1991, 'D4,A3,D3;2.0': 1992, 'D4,A3,D3;2.25': 1993, 'D4,A3,D3;2.5': 1994, 'D4,A3,D3;2.75': 1995, 'D4,A3,D3;2/3': 1996, 'D4,A3,D3;20.0': 1997, 'D4,A3,D3;3.0': 1998, 'D4,A3,D3;3.25': 1999, 'D4,A3,D3;3.5': 2000, 'D4,A3,D3;4.0': 2001, 'D4,A3,D3;4.25': 2002, 'D4,A3,D3;4/3': 2003, 'D4,A3,D3;5.0': 2004, 'D4,A3,D3;5.5': 2005, 'D4,A3,D3;6.0': 2006, 'D4,A3,D3;6.5': 2007, 'D4,A3,D3;7.0': 2008, 'D4,A3,D3;7.5': 2009, 'D4,A3,D3;8.0': 2010, 'D4,A3,D3;8.5': 2011, 'D4,A3,D3;9.0': 2012, 'D4,A3,E3;0.25': 2013, 'D4,A3,E3;0.5': 2014, 'D4,A3,E3;1.0': 2015, 'D4,A3,E3;1.5': 2016, 'D4,A3,E3;4.0': 2017, 'D4,A3;0.25': 2018, 'D4,A3;0.5': 2019, 'D4,A3;0.75': 2020, 'D4,A3;1.0': 2021, 'D4,A3;1.5': 2022, 'D4,A3;2.0': 2023, 'D4,A3;4.0': 2024, 'D4,A3;5.0': 2025, 'D4,A3;6.5': 2026, 'D4,A4;2.0': 2027, 'D4,B-3,D3,A2,D2;1.0': 2028, 'D4,B-3,D3;0.5': 2029, 'D4,B-3,D3;1.0': 2030, 'D4,B-3,D3;2.0': 2031, 'D4,B-3,F3;0.25': 2032, 'D4,B-3,F3;0.5': 2033, 'D4,B-3,F3;1.0': 2034, 'D4,B-3,F3;2.5': 2035, 'D4,B-3;0.5': 2036, 'D4,B3,E3;0.25': 2037, 'D4,B3,E3;1.0': 2038, 'D4,B3,G3,D3;4.0': 2039, 'D4,B3,G3;1.0': 2040, 'D4,B3;0.5': 2041, 'D4,C4,G3,C3;4.0': 2042, 'D4,C4,G3,D3;0.25': 2043, 'D4,C4,G3;2.0': 2044, 'D4,C4;1.0': 2045, 'D4,D3;0.25': 2046, 'D4,D3;0.5': 2047, 'D4,D3;1.0': 2048, 'D4,D3;1.5': 2049, 'D4,D3;1/3': 2050, 'D4,D3;2.0': 2051, 'D4,D3;3.5': 2052, 'D4,D3;4.0': 2053, 'D4,D3;5.0': 2054, 'D4,D4,D5;0.25': 2055, 'D4,D5;0.5': 2056, 'D4,D5;0.75': 2057, 'D4,D5;1.0': 2058, 'D4,D5;1.75': 2059, 'D4,D5;1/3': 2060, 'D4,D5;10.0': 2061, 'D4,D5;16/3': 2062, 'D4,D5;2.0': 2063, 'D4,D5;3.0': 2064, 'D4,D5;3.5': 2065, 'D4,D5;4.5': 2066, 'D4,D5;5.75': 2067, 'D4,D5;6.0': 2068, 'D4,D5;7.0': 2069, 'D4,D5;8.0': 2070, 'D4,E3;0.25': 2071, 'D4,E3;0.5': 2072, 'D4,E3;1.0': 2073, 'D4,E4;0.25': 2074, 'D4,E4;0.75': 2075, 'D4,E4;4.0': 2076, 'D4,F#3;0.25': 2077, 'D4,F#3;0.5': 2078, 'D4,F#3;1.0': 2079, 'D4,F#3;1.5': 2080, 'D4,F#3;2.0': 2081, 'D4,F#4;0.25': 2082, 'D4,F#4;0.5': 2083, 'D4,F#4;1.0': 2084, 'D4,F#4;10.75': 2085, 'D4,F#4;40/3': 2086, 'D4,F3;0.5': 2087, 'D4,F4;3.75': 2088, 'D4,G#3,D3;2.0': 2089, 'D4,G3,C3;5.0': 2090, 'D4,G3,D3,A2,G2;0.25': 2091, 'D4,G3,D3,B2;1.0': 2092, 'D4,G3,D3,B2;2.0': 2093, 'D4,G3,D3,G2;0.25': 2094, 'D4,G3,D3,G2;0.5': 2095, 'D4,G3,D3,G2;1.0': 2096, 'D4,G3,D3,G2;1.5': 2097, 'D4,G3,D3,G2;2.0': 2098, 'D4,G3,D3,G2;2.75': 2099, 'D4,G3,D3,G2;4.0': 2100, 'D4,G3,D3,G2;5.0': 2101, 'D4,G3,D3,G2;6.0': 2102, 'D4,G3,D3,G2;7.0': 2103, 'D4,G3,D3,G2;7.5': 2104, 'D4,G3,D3,G2;8.0': 2105, 'D4,G3,D3;0.25': 2106, 'D4,G3,D3;0.5': 2107, 'D4,G3,D3;3.5': 2108, 'D4,G3,D3;4.0': 2109, 'D4,G3,E3;4.0': 2110, 'D4,G3;0.25': 2111, 'D4,G3;0.5': 2112, 'D4,G3;0.75': 2113, 'D4,G3;1.0': 2114, 'D4,G3;1.5': 2115, 'D4,G3;1/3': 2116, 'D4,G3;2.0': 2117, 'D4,G3;2.25': 2118, 'D4,G3;2/3': 2119, 'D4,G3;3.0': 2120, 'D4,G3;3.5': 2121, 'D4,G3;4.0': 2122, 'D4,G3;5.0': 2123, 'D4,G4,G3,D3;0.5': 2124, 'D4,G4,G3,D3;1.5': 2125, 'D4,G4,G3,D3;2.0': 2126, 'D4,G4;0.5': 2127, 'D4,G4;1.75': 2128, 'D4,G4;2.0': 2129, 'D4,G4;3.75': 2130, 'D4,G4;5.75': 2131, 'D4,G4;7/3': 2132, 'D4;0.25': 2133, 'D4;0.5': 2134, 'D4;0.75': 2135, 'D4;1.0': 2136, 'D4;1.25': 2137, 'D4;1.5': 2138, 'D4;1.75': 2139, 'D4;1/3': 2140, 'D4;10.0': 2141, 'D4;10/3': 2142, 'D4;11.75': 2143, 'D4;11/3': 2144, 'D4;12.0': 2145, 'D4;13.0': 2146, 'D4;14.5': 2147, 'D4;15.0': 2148, 'D4;18.5': 2149, 'D4;19/3': 2150, 'D4;2.0': 2151, 'D4;2.25': 2152, 'D4;2.5': 2153, 'D4;2.75': 2154, 'D4;2/3': 2155, 'D4;25/3': 2156, 'D4;3.0': 2157, 'D4;3.25': 2158, 'D4;3.5': 2159, 'D4;3.75': 2160, 'D4;4.0': 2161, 'D4;4.25': 2162, 'D4;4.5': 2163, 'D4;4/3': 2164, 'D4;41.0': 2165, 'D4;5.0': 2166, 'D4;5.5': 2167, 'D4;5.75': 2168, 'D4;6.0': 2169, 'D4;6.5': 2170, 'D4;7.0': 2171, 'D4;7.5': 2172, 'D4;7.75': 2173, 'D4;7/3': 2174, 'D4;8.0': 2175, 'D4;8.5': 2176, 'D4;8/3': 2177, 'D4;9.0': 2178, 'D5,A4,D3;1.0': 2179, 'D5,A4,D4;0.25': 2180, 'D5,A4,D4;2.0': 2181, 'D5,A4;0.25': 2182, 'D5,A4;0.5': 2183, 'D5,A4;0.75': 2184, 'D5,A4;1.0': 2185, 'D5,A4;1.25': 2186, 'D5,A4;1.5': 2187, 'D5,A4;1.75': 2188, 'D5,A4;2.0': 2189, 'D5,A4;2.25': 2190, 'D5,A4;2.5': 2191, 'D5,A4;2.75': 2192, 'D5,A4;4.0': 2193, 'D5,A4;8.0': 2194, 'D5,B-4;3.5': 2195, 'D5,B-4;4.0': 2196, 'D5,B3;5.0': 2197, 'D5,B4;0.25': 2198, 'D5,B4;0.5': 2199, 'D5,B4;2/3': 2200, 'D5,C5;1.0': 2201, 'D5,C5;1.5': 2202, 'D5,C5;4.0': 2203, 'D5,D4;8.0': 2204, 'D5,D5,D6;6.0': 2205, 'D5,D6;0.25': 2206, 'D5,D6;1.5': 2207, 'D5,D6;2.0': 2208, 'D5,D6;2/3': 2209, 'D5,F5;0.25': 2210, 'D5,F5;0.5': 2211, 'D5,G3,G4;0.25': 2212, 'D5,G4,D4,G3;7.0': 2213, 'D5,G5;0.25': 2214, 'D5,G5;0.5': 2215, 'D5;0.25': 2216, 'D5;0.5': 2217, 'D5;0.75': 2218, 'D5;1.0': 2219, 'D5;1.25': 2220, 'D5;1.5': 2221, 'D5;1.75': 2222, 'D5;1/3': 2223, 'D5;10.5': 2224, 'D5;10/3': 2225, 'D5;2.0': 2226, 'D5;2.25': 2227, 'D5;2.5': 2228, 'D5;2.75': 2229, 'D5;2/3': 2230, 'D5;3.0': 2231, 'D5;3.25': 2232, 'D5;3.5': 2233, 'D5;3.75': 2234, 'D5;4.0': 2235, 'D5;4.5': 2236, 'D5;4/3': 2237, 'D5;5.0': 2238, 'D5;5.5': 2239, 'D5;6.0': 2240, 'D5;6.5': 2241, 'D5;7.0': 2242, 'D5;7.5': 2243, 'D5;7/3': 2244, 'D5;8.0': 2245, 'D5;8/3': 2246, 'D5;9.0': 2247, 'D6,D5;2.5': 2248, 'D6;0.25': 2249, 'D6;0.5': 2250, 'D6;1.0': 2251, 'D6;1.25': 2252, 'D6;1.5': 2253, 'D6;1/3': 2254, 'D6;10.0': 2255, 'D6;2/3': 2256, 'D6;3.0': 2257, 'D6;3.5': 2258, 'E-3,G#2;0.25': 2259, 'E-3,G#2;1.0': 2260, 'E-3,G#2;4.0': 2261, 'E-3;0.25': 2262, 'E-3;0.5': 2263, 'E-3;1.0': 2264, 'E-3;2/3': 2265, 'E-3;3.0': 2266, 'E-3;4.0': 2267, 'E-4,B-3,E-3;0.25': 2268, 'E-4,B-3,E-3;0.5': 2269, 'E-4,B-3,E-3;0.75': 2270, 'E-4,B-3,E-3;1.5': 2271, 'E-4,B-3,E-3;15.0': 2272, 'E-4,B-3,E-3;2.0': 2273, 'E-4,B-3,E-3;4.0': 2274, 'E-4,B-3,E-3;6.0': 2275, 'E-4,B-3;0.25': 2276, 'E-4,B-3;0.5': 2277, 'E-4,B-3;1.5': 2278, 'E-4,B2;0.5': 2279, 'E-4,B3,F#3,B2;0.5': 2280, 'E-4,B3,F#3,B2;2.0': 2281, 'E-4,B3,F#3;1.0': 2282, 'E-4,B3,F#3;1.5': 2283, 'E-4,B3,F#3;2.25': 2284, 'E-4,D4;0.75': 2285, 'E-4,G#3;0.5': 2286, 'E-4,G#3;1.5': 2287, 'E-4;0.25': 2288, 'E-4;0.5': 2289, 'E-4;0.75': 2290, 'E-4;1.0': 2291, 'E-4;1.25': 2292, 'E-4;1.5': 2293, 'E-4;1/3': 2294, 'E-4;2.75': 2295, 'E-4;2/3': 2296, 'E-4;3.0': 2297, 'E-4;3.75': 2298, 'E-4;4.0': 2299, 'E-4;5.0': 2300, 'E-5,B4;0.5': 2301, 'E-5,B4;1.0': 2302, 'E-5,B4;1.5': 2303, 'E-5,C5;3.5': 2304, 'E-5;0.25': 2305, 'E-5;0.5': 2306, 'E-5;0.75': 2307, 'E-5;1.0': 2308, 'E-5;1.5': 2309, 'E-5;1/3': 2310, 'E-5;2.0': 2311, 'E-5;2.5': 2312, 'E-5;2/3': 2313, 'E-5;3.0': 2314, 'E-5;4.0': 2315, 'E-5;6.0': 2316, 'E2,A2,E3,A3;1.5': 2317, 'E2,A2,E3,A3;2.0': 2318, 'E2,A2,E3,A3;4.5': 2319, 'E2,A2;0.25': 2320, 'E2,B2,E3,B3;0.5': 2321, 'E2,B2,E3,G3,B3,E4;4.0': 2322, 'E2,B2,E3,G3,B3;1.5': 2323, 'E2,B2,E3,G3,B3;2.0': 2324, 'E2,B2,E3,G3,B3;3.0': 2325, 'E2,B2,E3,G3,B3;4.0': 2326, 'E2,B2,E3;0.25': 2327, 'E2,B2,E3;0.5': 2328, 'E2,B2,E3;1.0': 2329, 'E2,B2,E3;12.0': 2330, 'E2,B2,E3;2.0': 2331, 'E2,B2,E3;4.0': 2332, 'E2,B2;0.5': 2333, 'E2,B2;2.0': 2334, 'E2,B2;5.0': 2335, 'E2,E3,B3,E4,B3,E4;0.25': 2336, 'E2,E3,B3,E4,B3,E4;0.5': 2337, 'E2,E3,B3,E4,B3;2.0': 2338, 'E2,E3,B3,E4;1.5': 2339, 'E2,E3,B3,E4;2.0': 2340, 'E2,E3,B3,E4;4.5': 2341, 'E2,E3,B3;0.25': 2342, 'E2,E3,B3;0.5': 2343, 'E2,E3,B3;0.75': 2344, 'E2,E3,B3;1.0': 2345, 'E2,E3,B3;2.0': 2346, 'E2,E3,B3;2.75': 2347, 'E2,E3,B3;6.0': 2348, 'E2,E3;0.25': 2349, 'E2,E3;0.5': 2350, 'E2,E3;2.0': 2351, 'E2,E3;3.0': 2352, 'E2,E3;4.0': 2353, 'E2,E3;7.0': 2354, 'E2;0.25': 2355, 'E2;0.5': 2356, 'E2;0.75': 2357, 'E2;1.0': 2358, 'E2;1.5': 2359, 'E2;1/3': 2360, 'E2;10.0': 2361, 'E2;12.0': 2362, 'E2;125.5': 2363, 'E2;14.0': 2364, 'E2;145.0': 2365, 'E2;16.0': 2366, 'E2;2.0': 2367, 'E2;2.25': 2368, 'E2;2.5': 2369, 'E2;2/3': 2370, 'E2;22/3': 2371, 'E2;3.0': 2372, 'E2;3.25': 2373, 'E2;3.5': 2374, 'E2;34.5': 2375, 'E2;4.0': 2376, 'E2;48.0': 2377, 'E2;5.0': 2378, 'E2;5.5': 2379, 'E2;6.0': 2380, 'E2;64.0': 2381, 'E2;7.25': 2382, 'E2;7.5': 2383, 'E2;8.0': 2384, 'E2;9.75': 2385, 'E3,A2;0.25': 2386, 'E3,A2;0.5': 2387, 'E3,A2;0.75': 2388, 'E3,A2;1.0': 2389, 'E3,A2;1.5': 2390, 'E3,A2;1/3': 2391, 'E3,A2;10.0': 2392, 'E3,A2;11.0': 2393, 'E3,A2;16.0': 2394, 'E3,A2;2.0': 2395, 'E3,A2;2.5': 2396, 'E3,A2;2/3': 2397, 'E3,A2;3.0': 2398, 'E3,A2;3.25': 2399, 'E3,A2;3.5': 2400, 'E3,A2;4.0': 2401, 'E3,A2;4.5': 2402, 'E3,A2;5.75': 2403, 'E3,A2;6.0': 2404, 'E3,A2;8.0': 2405, 'E3,A3,B3;0.25': 2406, 'E3,A3,B3;0.5': 2407, 'E3,A3,C#4,E4;3.0': 2408, 'E3,A3,C#4;1.0': 2409, 'E3,A3,C4;2.0': 2410, 'E3,A3,D4;0.5': 2411, 'E3,A3,D4;2/3': 2412, 'E3,A3;0.5': 2413, 'E3,A3;1.0': 2414, 'E3,A3;11.0': 2415, 'E3,A3;13.5': 2416, 'E3,A3;4.0': 2417, 'E3,B2,E2;0.25': 2418, 'E3,B2,E2;0.5': 2419, 'E3,B2,E2;0.75': 2420, 'E3,B2,E2;1.0': 2421, 'E3,B2,E2;1.5': 2422, 'E3,B2,E2;1/3': 2423, 'E3,B2,E2;10.0': 2424, 'E3,B2,E2;12.0': 2425, 'E3,B2,E2;12.5': 2426, 'E3,B2,E2;15.0': 2427, 'E3,B2,E2;15.5': 2428, 'E3,B2,E2;16.0': 2429, 'E3,B2,E2;16.25': 2430, 'E3,B2,E2;16.5': 2431, 'E3,B2,E2;17.0': 2432, 'E3,B2,E2;2.0': 2433, 'E3,B2,E2;2.5': 2434, 'E3,B2,E2;2/3': 2435, 'E3,B2,E2;20.0': 2436, 'E3,B2,E2;28.0': 2437, 'E3,B2,E2;3.0': 2438, 'E3,B2,E2;3.25': 2439, 'E3,B2,E2;32.5': 2440, 'E3,B2,E2;4.0': 2441, 'E3,B2,E2;4.5': 2442, 'E3,B2,E2;5.0': 2443, 'E3,B2,E2;5.25': 2444, 'E3,B2,E2;5.5': 2445, 'E3,B2,E2;6.0': 2446, 'E3,B2,E2;6.5': 2447, 'E3,B2,E2;7.0': 2448, 'E3,B2,E2;7.75': 2449, 'E3,B2,E2;8.0': 2450, 'E3,B2,E2;8.5': 2451, 'E3,B2;0.25': 2452, 'E3,B2;0.5': 2453, 'E3,B2;1.5': 2454, 'E3,B2;3.0': 2455, 'E3,B2;8.0': 2456, 'E3,B3,E4,G4,B4;1.0': 2457, 'E3,B3,E4,G4,B4;4.0': 2458, 'E3,B3,E4,G4;0.25': 2459, 'E3,B3,E4,G4;0.5': 2460, 'E3,B3,E4,G4;1.0': 2461, 'E3,B3,E4,G4;2.0': 2462, 'E3,B3,E4,G4;2.5': 2463, 'E3,B3,E4,G4;4.0': 2464, 'E3,B3,E4,G4;5.0': 2465, 'E3,B3,E4;0.25': 2466, 'E3,B3,E4;0.5': 2467, 'E3,B3,E4;0.75': 2468, 'E3,B3,E4;1.0': 2469, 'E3,B3,E4;1.5': 2470, 'E3,B3,E4;1.75': 2471, 'E3,B3,E4;2.0': 2472, 'E3,B3,E4;2.5': 2473, 'E3,B3,E4;3.0': 2474, 'E3,B3,E4;3.5': 2475, 'E3,B3,E4;4.0': 2476, 'E3,B3,E4;4.5': 2477, 'E3,B3,E4;6.0': 2478, 'E3,B3,E4;8.5': 2479, 'E3,B3;0.25': 2480, 'E3,B3;0.5': 2481, 'E3,B3;0.75': 2482, 'E3,B3;1.0': 2483, 'E3,B3;1.5': 2484, 'E3,B3;1.75': 2485, 'E3,B3;2.0': 2486, 'E3,B3;3.0': 2487, 'E3,B3;4.0': 2488, 'E3,B3;5.5': 2489, 'E3,B3;6.0': 2490, 'E3,C3,G2;1.5': 2491, 'E3,C3;0.25': 2492, 'E3,C3;0.5': 2493, 'E3,C3;1/3': 2494, 'E3,C3;2.5': 2495, 'E3,C4;0.5': 2496, 'E3,C4;1.0': 2497, 'E3,E2,B3,E4;4.0': 2498, 'E3,E2,B3,E4;8.0': 2499, 'E3,E2;0.25': 2500, 'E3,E2;0.5': 2501, 'E3,E2;1.0': 2502, 'E3,E2;12.0': 2503, 'E3,E2;4.0': 2504, 'E3,E2;8.0': 2505, 'E3,E4,B3;2.0': 2506, 'E3,E4;0.5': 2507, 'E3,E4;1.0': 2508, 'E3,E4;3.0': 2509, 'E3,E4;4.0': 2510, 'E3,G#2;0.25': 2511, 'E3,G#2;0.5': 2512, 'E3,G#2;0.75': 2513, 'E3,G4;0.25': 2514, 'E3;0.25': 2515, 'E3;0.5': 2516, 'E3;0.75': 2517, 'E3;1.0': 2518, 'E3;1.25': 2519, 'E3;1.5': 2520, 'E3;1.75': 2521, 'E3;1/3': 2522, 'E3;10.0': 2523, 'E3;10/3': 2524, 'E3;11.0': 2525, 'E3;13/3': 2526, 'E3;135.5': 2527, 'E3;14.0': 2528, 'E3;14.5': 2529, 'E3;14/3': 2530, 'E3;15.75': 2531, 'E3;16.0': 2532, 'E3;16/3': 2533, 'E3;2.0': 2534, 'E3;2.25': 2535, 'E3;2.5': 2536, 'E3;2.75': 2537, 'E3;2/3': 2538, 'E3;22/3': 2539, 'E3;3.0': 2540, 'E3;3.5': 2541, 'E3;3.75': 2542, 'E3;30.75': 2543, 'E3;4.0': 2544, 'E3;4.5': 2545, 'E3;4.75': 2546, 'E3;4/3': 2547, 'E3;5.0': 2548, 'E3;5.25': 2549, 'E3;5.5': 2550, 'E3;5.75': 2551, 'E3;5/3': 2552, 'E3;6.0': 2553, 'E3;6.25': 2554, 'E3;6.5': 2555, 'E3;7.0': 2556, 'E3;7.5': 2557, 'E3;7.75': 2558, 'E3;7/3': 2559, 'E3;8.0': 2560, 'E3;9.0': 2561, 'E3;9.5': 2562, 'E4,A3,E3,A2;4.0': 2563, 'E4,A3,E3,A2;7.0': 2564, 'E4,A3,E3;0.5': 2565, 'E4,A3;0.25': 2566, 'E4,A3;0.5': 2567, 'E4,A3;0.75': 2568, 'E4,A3;1.0': 2569, 'E4,A3;1.5': 2570, 'E4,A3;1/3': 2571, 'E4,A3;2.0': 2572, 'E4,A3;2.25': 2573, 'E4,A3;2/3': 2574, 'E4,A3;3.0': 2575, 'E4,A3;3.5': 2576, 'E4,A3;4.0': 2577, 'E4,A3;6.5': 2578, 'E4,A4,E4,D3;8.0': 2579, 'E4,A4;0.25': 2580, 'E4,A4;0.5': 2581, 'E4,A4;0.75': 2582, 'E4,A4;1.0': 2583, 'E4,A4;2.0': 2584, 'E4,B-4,F4,D3;8.0': 2585, 'E4,B3,A3,F#3,F#2;6.25': 2586, 'E4,B3,A3,F#3,F#2;7.0': 2587, 'E4,B3,A3,F#3,F#2;8.0': 2588, 'E4,B3,A3,F#3;3.0': 2589, 'E4,B3,A3,F#3;4.0': 2590, 'E4,B3,A3,F3,C3,F2;11.0': 2591, 'E4,B3,A3,F3,C3,F2;4.0': 2592, 'E4,B3,A3;0.5': 2593, 'E4,B3,A3;1.5': 2594, 'E4,B3,A3;2.0': 2595, 'E4,B3,A3;3.0': 2596, 'E4,B3,B3,E3,B2,E2;1.5': 2597, 'E4,B3,C4,G3,C3;0.5': 2598, 'E4,B3,C4,G3,C3;1.0': 2599, 'E4,B3,C4,G3,C3;3.5': 2600, 'E4,B3,C4,G3,C3;5.0': 2601, 'E4,B3,E3,B2,E2;0.5': 2602, 'E4,B3,E3,B2;0.5': 2603, 'E4,B3,E3,E2;0.25': 2604, 'E4,B3,E3,E2;0.5': 2605, 'E4,B3,E3,E2;1.0': 2606, 'E4,B3,E3,E2;1.5': 2607, 'E4,B3,E3,E2;10.0': 2608, 'E4,B3,E3,E2;12.0': 2609, 'E4,B3,E3,E2;2.0': 2610, 'E4,B3,E3,E2;3.0': 2611, 'E4,B3,E3,E2;4.0': 2612, 'E4,B3,E3,E2;6.0': 2613, 'E4,B3,E3,E2;8.0': 2614, 'E4,B3,E3;0.25': 2615, 'E4,B3,E3;0.5': 2616, 'E4,B3,E3;0.75': 2617, 'E4,B3,E3;1.0': 2618, 'E4,B3,E3;1.25': 2619, 'E4,B3,E3;1.5': 2620, 'E4,B3,E3;1/3': 2621, 'E4,B3,E3;10.0': 2622, 'E4,B3,E3;12.0': 2623, 'E4,B3,E3;12.25': 2624, 'E4,B3,E3;13/3': 2625, 'E4,B3,E3;15.0': 2626, 'E4,B3,E3;16.0': 2627, 'E4,B3,E3;2.0': 2628, 'E4,B3,E3;2.25': 2629, 'E4,B3,E3;2.5': 2630, 'E4,B3,E3;2/3': 2631, 'E4,B3,E3;20.0': 2632, 'E4,B3,E3;21.0': 2633, 'E4,B3,E3;22/3': 2634, 'E4,B3,E3;24.0': 2635, 'E4,B3,E3;3.0': 2636, 'E4,B3,E3;3.5': 2637, 'E4,B3,E3;32.5': 2638, 'E4,B3,E3;4.0': 2639, 'E4,B3,E3;4.25': 2640, 'E4,B3,E3;4.5': 2641, 'E4,B3,E3;4/3': 2642, 'E4,B3,E3;5.0': 2643, 'E4,B3,E3;5.5': 2644, 'E4,B3,E3;6.0': 2645, 'E4,B3,E3;6.5': 2646, 'E4,B3,E3;7.0': 2647, 'E4,B3,E3;7.5': 2648, 'E4,B3,E3;8.0': 2649, 'E4,B3,E4,B3,E3,E2;0.25': 2650, 'E4,B3,E4,B3,E3,E2;0.5': 2651, 'E4,B3,E4,B3,E3,E2;1.0': 2652, 'E4,B3,E4,B3,E3,E2;1.75': 2653, 'E4,B3,E4,B3,E3,E2;4.0': 2654, 'E4,B3,E4,B3,E3;0.25': 2655, 'E4,B3,E4,B3,E3;0.5': 2656, 'E4,B3,E4,B3,E3;1.5': 2657, 'E4,B3,E4,B3,E3;2.0': 2658, 'E4,B3,E4,B3,E3;4.0': 2659, 'E4,B3,E4,B3,E3;4.5': 2660, 'E4,B3,E4,E3;0.25': 2661, 'E4,B3,E4;2.0': 2662, 'E4,B3,F#3,C#3;0.25': 2663, 'E4,B3,F#3;2.0': 2664, 'E4,B3,G#3,E3,B2,E2;0.5': 2665, 'E4,B3,G#3,E3,B2,E2;1.0': 2666, 'E4,B3,G#3,E3,B2,E2;3.0': 2667, 'E4,B3,G#3,E3,B2;2.0': 2668, 'E4,B3,G#3,E3,B2;2.25': 2669, 'E4,B3,G#3,E3,G#2;1.0': 2670, 'E4,B3,G#3,E3;3.0': 2671, 'E4,B3,G#3;0.5': 2672, 'E4,B3,G#3;1.0': 2673, 'E4,B3,G#3;1.5': 2674, 'E4,B3,G#3;2.5': 2675, 'E4,B3,G#3;6.5': 2676, 'E4,B3,G#3;8.0': 2677, 'E4,B3,G3,D3;0.25': 2678, 'E4,B3,G3,E3,B2,E2;16.0': 2679, 'E4,B3,G3,E3,B2,E2;4.0': 2680, 'E4,B3,G3;0.25': 2681, 'E4,B3,G3;0.75': 2682, 'E4,B3,G3;1.0': 2683, 'E4,B3,G3;2.0': 2684, 'E4,B3,G4;0.25': 2685, 'E4,B3;0.25': 2686, 'E4,B3;0.5': 2687, 'E4,B3;0.75': 2688, 'E4,B3;1.0': 2689, 'E4,B3;1.25': 2690, 'E4,B3;1.5': 2691, 'E4,B3;11.0': 2692, 'E4,B3;2.0': 2693, 'E4,B3;2.5': 2694, 'E4,B3;3.0': 2695, 'E4,B3;3.75': 2696, 'E4,B3;4.0': 2697, 'E4,B3;8.0': 2698, 'E4,B3;8.5': 2699, 'E4,B4;0.75': 2700, 'E4,C#4,A3,E3,A2;1.0': 2701, 'E4,C#4,A3,E3,A2;8.0': 2702, 'E4,C#4;0.5': 2703, 'E4,C3;0.25': 2704, 'E4,C4,A3,E3,A2;15.5': 2705, 'E4,C4,A3,E3,A2;4.5': 2706, 'E4,C4,D3,A2,D2;1.0': 2707, 'E4,C4,D3;0.5': 2708, 'E4,C4,D3;1.0': 2709, 'E4,C4,G3,C3;0.5': 2710, 'E4,C4,G3,C3;1.5': 2711, 'E4,C4,G3,C3;4.0': 2712, 'E4,C4,G3,E3,A2;0.5': 2713, 'E4,C4,G3,E3,C3;4.0': 2714, 'E4,C4,G3;0.25': 2715, 'E4,C4,G3;0.5': 2716, 'E4,C4,G3;1.0': 2717, 'E4,C4,G3;2.0': 2718, 'E4,C4,G3;2.5': 2719, 'E4,C4,G3;3.5': 2720, 'E4,C4,G3;4.0': 2721, 'E4,C4;0.5': 2722, 'E4,C4;1.0': 2723, 'E4,C4;1.5': 2724, 'E4,C4;4.0': 2725, 'E4,C5,G4,D3;8.0': 2726, 'E4,C5;0.5': 2727, 'E4,D3;0.5': 2728, 'E4,D4,A3,A2;1.0': 2729, 'E4,D4,A3,A2;13.5': 2730, 'E4,D4,A3,A2;3.5': 2731, 'E4,D4,A3,A2;5.5': 2732, 'E4,D4,A3,A2;8.5': 2733, 'E4,D4,A3,D3;2.0': 2734, 'E4,D4,A3,D3;3.5': 2735, 'E4,D4,A3,E3;0.25': 2736, 'E4,D4,A3;1.0': 2737, 'E4,D4;0.25': 2738, 'E4,D4;0.5': 2739, 'E4,D4;0.75': 2740, 'E4,D4;1.0': 2741, 'E4,D4;1.5': 2742, 'E4,D4;4.0': 2743, 'E4,D4;5.0': 2744, 'E4,D4;<music21.duration.GraceDuration,unlinked,type:zero,quarterLength:0.0': 2745, 'E4,D5,A4,D3;8.0': 2746, 'E4,E2;1.0': 2747, 'E4,E3,B2,E2;2.0': 2748, 'E4,E3;0.25': 2749, 'E4,E3;0.5': 2750, 'E4,E3;1.0': 2751, 'E4,E3;2.0': 2752, 'E4,E3;3.0': 2753, 'E4,E3;3.5': 2754, 'E4,E3;4.0': 2755, 'E4,E3;5.0': 2756, 'E4,E3;7.5': 2757, 'E4,E3;8.0': 2758, 'E4,E4,B3;1.5': 2759, 'E4,E4,D4,D3;8.0': 2760, 'E4,E4,E5;0.25': 2761, 'E4,E4,E5;0.5': 2762, 'E4,E4;0.25': 2763, 'E4,E4;0.5': 2764, 'E4,E4;1.0': 2765, 'E4,E4;1.5': 2766, 'E4,E5;0.5': 2767, 'E4,E5;1.0': 2768, 'E4,E5;1/3': 2769, 'E4,E5;2.0': 2770, 'E4,E5;3.0': 2771, 'E4,E5;4.0': 2772, 'E4,E5;9.0': 2773, 'E4,F#4;0.25': 2774, 'E4,F#4;0.5': 2775, 'E4,F#4;0.75': 2776, 'E4,F#4;16/3': 2777, 'E4,F4,D4,D3;8.0': 2778, 'E4,G2,D3,G3,C4;4.0': 2779, 'E4,G3;1.5': 2780, 'E4,G4,D4,D3;8.0': 2781, 'E4,G4;0.25': 2782, 'E4,G4;0.5': 2783, 'E4,G4;1.0': 2784, 'E4,G4;1.25': 2785, 'E4,G4;1.5': 2786, 'E4,G4;5.75': 2787, 'E4;0.25': 2788, 'E4;0.5': 2789, 'E4;0.75': 2790, 'E4;1.0': 2791, 'E4;1.25': 2792, 'E4;1.5': 2793, 'E4;1.75': 2794, 'E4;1/3': 2795, 'E4;10.0': 2796, 'E4;10/3': 2797, 'E4;106.25': 2798, 'E4;11.0': 2799, 'E4;11.5': 2800, 'E4;11/3': 2801, 'E4;12.0': 2802, 'E4;13.5': 2803, 'E4;13.75': 2804, 'E4;13/3': 2805, 'E4;14.5': 2806, 'E4;15.75': 2807, 'E4;16.0': 2808, 'E4;16/3': 2809, 'E4;18.0': 2810, 'E4;2.0': 2811, 'E4;2.25': 2812, 'E4;2.5': 2813, 'E4;2.75': 2814, 'E4;2/3': 2815, 'E4;20/3': 2816, 'E4;21.0': 2817, 'E4;22.5': 2818, 'E4;22/3': 2819, 'E4;23.0': 2820, 'E4;3.0': 2821, 'E4;3.25': 2822, 'E4;3.5': 2823, 'E4;3.75': 2824, 'E4;33.0': 2825, 'E4;36.0': 2826, 'E4;4.0': 2827, 'E4;4.25': 2828, 'E4;4.5': 2829, 'E4;4.75': 2830, 'E4;4/3': 2831, 'E4;40/3': 2832, 'E4;5.0': 2833, 'E4;5.25': 2834, 'E4;5.5': 2835, 'E4;5/3': 2836, 'E4;53.0': 2837, 'E4;54.5': 2838, 'E4;6.0': 2839, 'E4;6.25': 2840, 'E4;6.5': 2841, 'E4;7.0': 2842, 'E4;7.5': 2843, 'E4;7.75': 2844, 'E4;7/3': 2845, 'E4;71.5': 2846, 'E4;8.0': 2847, 'E4;8.5': 2848, 'E4;8.75': 2849, 'E4;8/3': 2850, 'E4;81.5': 2851, 'E4;9.0': 2852, 'E4;9.5': 2853, 'E5,B4,G4;1.5': 2854, 'E5,B4;0.25': 2855, 'E5,B4;0.5': 2856, 'E5,B4;1.0': 2857, 'E5,B4;4.0': 2858, 'E5,B4;4.5': 2859, 'E5,C#5;0.25': 2860, 'E5,C#5;0.5': 2861, 'E5,C#5;0.75': 2862, 'E5,C5;0.25': 2863, 'E5,C5;2/3': 2864, 'E5,C5;3.5': 2865, 'E5,D5;0.5': 2866, 'E5,D5;0.75': 2867, 'E5,D5;1.0': 2868, 'E5,D5;1.25': 2869, 'E5,D5;1.5': 2870, 'E5,D5;2/3': 2871, 'E5,D5;3.5': 2872, 'E5,D5;4.0': 2873, 'E5,D5;4/3': 2874, 'E5,E5,E6;2.0': 2875, 'E5,E5,E6;2.5': 2876, 'E5,E5,E6;2/3': 2877, 'E5,E6,B4,B5,G4,G5;2.75': 2878, 'E5,E6;0.5': 2879, 'E5,E6;1.75': 2880, 'E5,E6;2.0': 2881, 'E5,E6;2/3': 2882, 'E5,E6;3.75': 2883, 'E5,G5;0.25': 2884, 'E5;0.25': 2885, 'E5;0.5': 2886, 'E5;0.75': 2887, 'E5;1.0': 2888, 'E5;1.25': 2889, 'E5;1.5': 2890, 'E5;1.75': 2891, 'E5;1/3': 2892, 'E5;10.0': 2893, 'E5;10/3': 2894, 'E5;11.5': 2895, 'E5;11/3': 2896, 'E5;12.0': 2897, 'E5;14.5': 2898, 'E5;17/3': 2899, 'E5;2.0': 2900, 'E5;2.25': 2901, 'E5;2.5': 2902, 'E5;2.75': 2903, 'E5;2/3': 2904, 'E5;3.0': 2905, 'E5;3.25': 2906, 'E5;3.5': 2907, 'E5;4.0': 2908, 'E5;4.5': 2909, 'E5;4.75': 2910, 'E5;5.0': 2911, 'E5;5/3': 2912, 'E5;6.0': 2913, 'E5;6.25': 2914, 'E5;8.0': 2915, 'E5;8.5': 2916, 'E6,E7;0.25': 2917, 'E6;2/3': 2918, 'F#2;0.25': 2919, 'F#2;0.5': 2920, 'F#2;0.75': 2921, 'F#2;1.0': 2922, 'F#2;1.5': 2923, 'F#2;1/3': 2924, 'F#2;2.0': 2925, 'F#2;2.5': 2926, 'F#2;3.0': 2927, 'F#3,A2;0.25': 2928, 'F#3,A2;0.5': 2929, 'F#3,A2;0.75': 2930, 'F#3,A2;1.0': 2931, 'F#3,B2;0.25': 2932, 'F#3,B2;0.5': 2933, 'F#3,B2;0.75': 2934, 'F#3,B2;1.0': 2935, 'F#3,B2;1.25': 2936, 'F#3,B2;1.5': 2937, 'F#3,B2;1/3': 2938, 'F#3,B2;2.0': 2939, 'F#3,B2;2.5': 2940, 'F#3,B2;2/3': 2941, 'F#3,B2;3.75': 2942, 'F#3,B2;4.0': 2943, 'F#3,B2;4.75': 2944, 'F#3,B2;5.0': 2945, 'F#3,B2;7.5': 2946, 'F#3,C#3,F#2;0.5': 2947, 'F#3,C#3,F#2;1.0': 2948, 'F#3,C#3,F#2;1.5': 2949, 'F#3,C#3,F#2;14.5': 2950, 'F#3,C#3,F#2;15.0': 2951, 'F#3,C#3,F#2;2.0': 2952, 'F#3,C#3,F#2;2.5': 2953, 'F#3,C#3,F#2;2/3': 2954, 'F#3,C#3,F#2;3.5': 2955, 'F#3,C#3,F#2;4.0': 2956, 'F#3,C#3,F#2;5.5': 2957, 'F#3,C#3,F#2;6.0': 2958, 'F#3,C#3,F#2;8.0': 2959, 'F#3,D3,F#2;0.5': 2960, 'F#3,D3;0.5': 2961, 'F#3,D3;1.0': 2962, 'F#3,D3;2.0': 2963, 'F#3,D3;5.0': 2964, 'F#3,D3;8.0': 2965, 'F#3,D4,F#4;1.0': 2966, 'F#3,D4,F#4;3.0': 2967, 'F#3,G3;4.75': 2968, 'F#3;0.25': 2969, 'F#3;0.5': 2970, 'F#3;0.75': 2971, 'F#3;1.0': 2972, 'F#3;1.25': 2973, 'F#3;1.5': 2974, 'F#3;1.75': 2975, 'F#3;1/3': 2976, 'F#3;10/3': 2977, 'F#3;12.0': 2978, 'F#3;12.5': 2979, 'F#3;13.75': 2980, 'F#3;2.0': 2981, 'F#3;2.25': 2982, 'F#3;2.5': 2983, 'F#3;2.75': 2984, 'F#3;2/3': 2985, 'F#3;23/3': 2986, 'F#3;3.0': 2987, 'F#3;3.5': 2988, 'F#3;3.75': 2989, 'F#3;4.0': 2990, 'F#3;4.25': 2991, 'F#3;4.75': 2992, 'F#3;4/3': 2993, 'F#3;6.0': 2994, 'F#3;7.0': 2995, 'F#3;7.5': 2996, 'F#4,A3;0.25': 2997, 'F#4,A3;0.5': 2998, 'F#4,A3;1.5': 2999, 'F#4,B3,F#3,B2;1.0': 3000, 'F#4,B3;0.25': 3001, 'F#4,B3;0.5': 3002, 'F#4,B3;1.0': 3003, 'F#4,B3;1.5': 3004, 'F#4,B3;1/3': 3005, 'F#4,B3;2/3': 3006, 'F#4,B3;4.0': 3007, 'F#4,B4;25/3': 3008, 'F#4,B4;7/3': 3009, 'F#4,C#4,B-3;0.5': 3010, 'F#4,C#4,B-3;5.0': 3011, 'F#4,C#4,B-3;6.0': 3012, 'F#4,C#4,B-3;7.0': 3013, 'F#4,C#4,B-3;8.0': 3014, 'F#4,C#4,F#3;0.25': 3015, 'F#4,C#4,F#3;0.5': 3016, 'F#4,C#4,F#3;1.0': 3017, 'F#4,C#4,F#3;1.5': 3018, 'F#4,C#4,F#3;2.0': 3019, 'F#4,C#4,F#3;3.0': 3020, 'F#4,C#4,F#3;4.0': 3021, 'F#4,C#4,F#3;6.0': 3022, 'F#4,C#4,F#3;8.0': 3023, 'F#4,C#4;0.25': 3024, 'F#4,C#4;0.5': 3025, 'F#4,C#4;1.0': 3026, 'F#4,C#4;3.0': 3027, 'F#4,C4;0.5': 3028, 'F#4,C4;1.0': 3029, 'F#4,D3;0.25': 3030, 'F#4,D3;0.5': 3031, 'F#4,D4,A3,D3;0.25': 3032, 'F#4,D4,A3,D3;0.5': 3033, 'F#4,D4,A3,D3;0.75': 3034, 'F#4,D4,A3,D3;1.0': 3035, 'F#4,D4,A3,D3;3.5': 3036, 'F#4,D4,A3;0.5': 3037, 'F#4,D4,A3;1.0': 3038, 'F#4,D4,A3;1.5': 3039, 'F#4,D4,A3;3.5': 3040, 'F#4,D4,B3;1.0': 3041, 'F#4,D4,F#3;0.25': 3042, 'F#4,D4,F#3;0.5': 3043, 'F#4,D4,F#3;1.0': 3044, 'F#4,D4;0.25': 3045, 'F#4,D4;0.5': 3046, 'F#4,D4;0.75': 3047, 'F#4,D4;1.0': 3048, 'F#4,D4;1.25': 3049, 'F#4,D4;2.0': 3050, 'F#4,D4;5.0': 3051, 'F#4,E3;0.25': 3052, 'F#4,E3;0.5': 3053, 'F#4,E4,B3,E3;3.25': 3054, 'F#4,E4;0.25': 3055, 'F#4,E4;0.5': 3056, 'F#4,E4;1.0': 3057, 'F#4,E4;1.5': 3058, 'F#4,F#3;0.25': 3059, 'F#4,F#3;0.5': 3060, 'F#4,F#3;0.75': 3061, 'F#4,F#3;1.0': 3062, 'F#4,F#3;1/3': 3063, 'F#4,F#3;3.5': 3064, 'F#4,F#3;5/3': 3065, 'F#4,F#3;7.5': 3066, 'F#4,F#5;0.5': 3067, 'F#4,F#5;1.75': 3068, 'F#4,F#5;2.0': 3069, 'F#4,F#5;3.5': 3070, 'F#4,F#5;5.25': 3071, 'F#4;0.25': 3072, 'F#4;0.5': 3073, 'F#4;0.75': 3074, 'F#4;1.0': 3075, 'F#4;1.5': 3076, 'F#4;1.75': 3077, 'F#4;1/3': 3078, 'F#4;10/3': 3079, 'F#4;11/3': 3080, 'F#4;17/3': 3081, 'F#4;2.0': 3082, 'F#4;2.5': 3083, 'F#4;2/3': 3084, 'F#4;25/3': 3085, 'F#4;3.0': 3086, 'F#4;3.5': 3087, 'F#4;3.75': 3088, 'F#4;35/3': 3089, 'F#4;4.0': 3090, 'F#4;4.25': 3091, 'F#4;4/3': 3092, 'F#4;5.0': 3093, 'F#4;5/3': 3094, 'F#4;6.0': 3095, 'F#4;6.5': 3096, 'F#4;7.0': 3097, 'F#4;7.5': 3098, 'F#4;7.75': 3099, 'F#4;8.5': 3100, 'F#4;9.0': 3101, 'F#5,B2;0.75': 3102, 'F#5,D5;0.25': 3103, 'F#5,D5;3.0': 3104, 'F#5,E5;1.5': 3105, 'F#5,E5;2/3': 3106, 'F#5,E5;3.0': 3107, 'F#5,E5;4/3': 3108, 'F#5,F#4;1.0': 3109, 'F#5,F#6,D5,D6,A4,A5,E4,E5;2.0': 3110, 'F#5,F#6,D5,D6,A4,A5;2.0': 3111, 'F#5,F#6,D5,D6,A4,A5;4.0': 3112, 'F#5,F#6,D5,D6;2.5': 3113, 'F#5,F#6;2.75': 3114, 'F#5,F#6;2/3': 3115, 'F#5;0.25': 3116, 'F#5;0.5': 3117, 'F#5;0.75': 3118, 'F#5;1.0': 3119, 'F#5;1.25': 3120, 'F#5;1.5': 3121, 'F#5;1.75': 3122, 'F#5;1/3': 3123, 'F#5;12.0': 3124, 'F#5;2.0': 3125, 'F#5;2.25': 3126, 'F#5;2.5': 3127, 'F#5;2/3': 3128, 'F#5;3.0': 3129, 'F#5;3.5': 3130, 'F#5;4.0': 3131, 'F#5;4.5': 3132, 'F#5;4/3': 3133, 'F#5;5.5': 3134, 'F#5;5/3': 3135, 'F#5;6.0': 3136, 'F#5;6.5': 3137, 'F#5;7/3': 3138, 'F#5;8.0': 3139, 'F#5;8/3': 3140, 'F2,C3,F3,A3,B3,E4;10.0': 3141, 'F2,C3,F3,A3,B3,E4;3.0': 3142, 'F2,C3,F3,A3,B3,E4;4.0': 3143, 'F2,C3,F3,A3,B3,E4;8.0': 3144, 'F2,C3,F3,A3,B3;4.0': 3145, 'F2,C3,F3,A3,B3;7.0': 3146, 'F2,C3,F3,A3,B3;8.0': 3147, 'F2,C3,F3,A3;1.0': 3148, 'F2,C3,F3;0.25': 3149, 'F2,C3,F3;0.5': 3150, 'F2,C3,F3;1.0': 3151, 'F2,C3,F3;2.0': 3152, 'F2,C3,F3;7.0': 3153, 'F2,C3,F3;8.0': 3154, 'F2,C3;0.25': 3155, 'F2,C3;2.0': 3156, 'F2;0.25': 3157, 'F2;0.5': 3158, 'F2;1.0': 3159, 'F2;1.5': 3160, 'F2;12.0': 3161, 'F2;2.0': 3162, 'F2;2/3': 3163, 'F2;4.0': 3164, 'F2;8.0': 3165, 'F3,A2;0.5': 3166, 'F3,B-2,F2;4.0': 3167, 'F3,B-2;0.25': 3168, 'F3,B-2;0.5': 3169, 'F3,B-2;0.75': 3170, 'F3,B-2;1.0': 3171, 'F3,B-2;1/3': 3172, 'F3,B-2;2.0': 3173, 'F3,B-2;2.5': 3174, 'F3,B-2;3.5': 3175, 'F3,B-2;4.0': 3176, 'F3,B-2;5.0': 3177, 'F3,B3,F4;12.0': 3178, 'F3,B3,F4;6.0': 3179, 'F3,C3,F2;0.25': 3180, 'F3,C3,F2;0.5': 3181, 'F3,C3,F2;0.75': 3182, 'F3,C3,F2;1.0': 3183, 'F3,C3,F2;1.5': 3184, 'F3,C3,F2;16.0': 3185, 'F3,C3,F2;2.0': 3186, 'F3,C3,F2;2.5': 3187, 'F3,C3,F2;2/3': 3188, 'F3,C3,F2;3.0': 3189, 'F3,C3,F2;3.5': 3190, 'F3,C3,F2;4.0': 3191, 'F3,C3,F2;4.5': 3192, 'F3,C3,F2;6.0': 3193, 'F3,C3,F2;8.0': 3194, 'F3,C3;0.25': 3195, 'F3,C3;0.5': 3196, 'F3,C3;0.75': 3197, 'F3,C3;1.5': 3198, 'F3,C3;2.0': 3199, 'F3,C4,F4;0.25': 3200, 'F3,C4,F4;0.5': 3201, 'F3,C4,F4;1.0': 3202, 'F3,C4,F4;8.0': 3203, 'F3,C4;0.25': 3204, 'F3,C4;2.0': 3205, 'F3,F2;0.5': 3206, 'F3,F4;0.5': 3207, 'F3;0.25': 3208, 'F3;0.5': 3209, 'F3;0.75': 3210, 'F3;1.0': 3211, 'F3;1.5': 3212, 'F3;1/3': 3213, 'F3;2.0': 3214, 'F3;2.25': 3215, 'F3;2.5': 3216, 'F3;2/3': 3217, 'F3;3.0': 3218, 'F3;4.0': 3219, 'F3;5/3': 3220, 'F4,A3;0.5': 3221, 'F4,C4,A3,A2;3.0': 3222, 'F4,C4,A3;1.0': 3223, 'F4,C4,B-3,F3,B-2;0.5': 3224, 'F4,C4,B-3,F3,B-2;0.75': 3225, 'F4,C4,B-3,F3,B-2;1.0': 3226, 'F4,C4,F3,A2;1.5': 3227, 'F4,C4,F3,C3,F2;0.25': 3228, 'F4,C4,F3,C3,F2;0.5': 3229, 'F4,C4,F3,C3;2.0': 3230, 'F4,C4,F3,C3;3.5': 3231, 'F4,C4,F3,C3;4.0': 3232, 'F4,C4,F3;0.25': 3233, 'F4,C4,F3;0.5': 3234, 'F4,C4,F3;0.75': 3235, 'F4,C4,F3;1.0': 3236, 'F4,C4,F3;1.25': 3237, 'F4,C4,F3;1.5': 3238, 'F4,C4,F3;1.75': 3239, 'F4,C4,F3;16.0': 3240, 'F4,C4,F3;2.0': 3241, 'F4,C4,F3;2.25': 3242, 'F4,C4,F3;3.0': 3243, 'F4,C4,F3;3.5': 3244, 'F4,C4,F3;4.0': 3245, 'F4,C4,F3;8.0': 3246, 'F4,C4,G3;0.25': 3247, 'F4,C4,G3;0.5': 3248, 'F4,C4,G3;0.75': 3249, 'F4,C4,G3;1.0': 3250, 'F4,C4;0.25': 3251, 'F4,C4;0.5': 3252, 'F4,C4;0.75': 3253, 'F4,C4;1.5': 3254, 'F4,C4;2.0': 3255, 'F4,C4;3.5': 3256, 'F4,D4,A3,D3,D2;4.0': 3257, 'F4,D4,A3,D3;1.0': 3258, 'F4,D4,A3;0.25': 3259, 'F4,D4,A3;0.5': 3260, 'F4,D4,A3;1.0': 3261, 'F4,D4,A3;3.5': 3262, 'F4,D4,B-3;1.5': 3263, 'F4,D4,D3;1.5': 3264, 'F4,D4,G3;0.75': 3265, 'F4,D4,G3;1.0': 3266, 'F4,D4;0.25': 3267, 'F4,D4;0.5': 3268, 'F4,D4;1.0': 3269, 'F4,E-4;1.0': 3270, 'F4,E4;0.75': 3271, 'F4,F3;0.25': 3272, 'F4,F3;1.0': 3273, 'F4,F3;1.5': 3274, 'F4,F3;4.0': 3275, 'F4,F3;8.0': 3276, 'F4,F5;0.5': 3277, 'F4;0.25': 3278, 'F4;0.5': 3279, 'F4;0.75': 3280, 'F4;1.0': 3281, 'F4;1.5': 3282, 'F4;1.75': 3283, 'F4;1/3': 3284, 'F4;11/3': 3285, 'F4;2.0': 3286, 'F4;2.25': 3287, 'F4;2.5': 3288, 'F4;2/3': 3289, 'F4;3.0': 3290, 'F4;3.25': 3291, 'F4;3.75': 3292, 'F4;4.0': 3293, 'F4;4.5': 3294, 'F5,C5,G4;1.0': 3295, 'F5,C5;0.25': 3296, 'F5,D5,B-4;3.75': 3297, 'F5,D5;0.25': 3298, 'F5,D5;2/3': 3299, 'F5,D5;3.5': 3300, 'F5,E-5;1.5': 3301, 'F5,F6;2.0': 3302, 'F5;0.25': 3303, 'F5;0.5': 3304, 'F5;0.75': 3305, 'F5;1.0': 3306, 'F5;1.25': 3307, 'F5;1.5': 3308, 'F5;1.75': 3309, 'F5;1/3': 3310, 'F5;2.0': 3311, 'F5;2.5': 3312, 'F5;2.75': 3313, 'F5;2/3': 3314, 'F5;3.25': 3315, 'F5;3.5': 3316, 'F5;4.0': 3317, 'F5;5.0': 3318, 'F5;5.5': 3319, 'F5;8.25': 3320, 'G#2;0.25': 3321, 'G#2;0.5': 3322, 'G#2;1.0': 3323, 'G#2;1/3': 3324, 'G#3,A2;1.0': 3325, 'G#3,A2;1.5': 3326, 'G#3,C#3;0.25': 3327, 'G#3,C#3;0.5': 3328, 'G#3,C#3;0.75': 3329, 'G#3,C#3;1.0': 3330, 'G#3,C#3;1.5': 3331, 'G#3,C#3;2.25': 3332, 'G#3,C#3;3.0': 3333, 'G#3,C3;0.5': 3334, 'G#3,C3;1.0': 3335, 'G#3,D3;2.0': 3336, 'G#3,E-3,G#2;0.5': 3337, 'G#3,E-3,G#2;8.0': 3338, 'G#3,E-3;0.75': 3339, 'G#3,E3,A2;4.0': 3340, 'G#3,E3,B2,E2;2.5': 3341, 'G#3,E3,B2,E2;3.0': 3342, 'G#3,E3,B2,E2;4.0': 3343, 'G#3,E3,B2;1.0': 3344, 'G#3,E3;0.5': 3345, 'G#3,E3;1.5': 3346, 'G#3,E3;14.5': 3347, 'G#3;0.25': 3348, 'G#3;0.5': 3349, 'G#3;0.75': 3350, 'G#3;1.0': 3351, 'G#3;1.5': 3352, 'G#3;1.75': 3353, 'G#3;1/3': 3354, 'G#3;11.75': 3355, 'G#3;14/3': 3356, 'G#3;2.0': 3357, 'G#3;2.25': 3358, 'G#3;2.5': 3359, 'G#3;2/3': 3360, 'G#3;3.0': 3361, 'G#3;5.0': 3362, 'G#3;6.5': 3363, 'G#4,C#4;1.5': 3364, 'G#4,E-4,B-3;0.25': 3365, 'G#4,E-4,B-3;0.5': 3366, 'G#4,E-4;0.25': 3367, 'G#4,E-4;0.5': 3368, 'G#4,E-4;0.75': 3369, 'G#4,E4;0.5': 3370, 'G#4,E4;1.5': 3371, 'G#4,F#4;2/3': 3372, 'G#4,F#4;4/3': 3373, 'G#4,G#3;0.5': 3374, 'G#4,G#3;2.0': 3375, 'G#4,G#5;1.0': 3376, 'G#4,G#5;4.0': 3377, 'G#4;0.25': 3378, 'G#4;0.5': 3379, 'G#4;0.75': 3380, 'G#4;1.0': 3381, 'G#4;1.5': 3382, 'G#4;1.75': 3383, 'G#4;1/3': 3384, 'G#4;2.0': 3385, 'G#4;2.25': 3386, 'G#4;2.5': 3387, 'G#4;2/3': 3388, 'G#4;3.0': 3389, 'G#4;3.5': 3390, 'G#4;4.0': 3391, 'G#4;4/3': 3392, 'G#5;0.25': 3393, 'G#5;0.5': 3394, 'G#5;0.75': 3395, 'G#5;1.0': 3396, 'G#5;1.25': 3397, 'G#5;1.5': 3398, 'G#5;1/3': 3399, 'G#5;2.0': 3400, 'G#5;2/3': 3401, 'G#5;3.0': 3402, 'G#5;4/3': 3403, 'G2,B2,D3,G3,B3,G4;4.0': 3404, 'G2,B2,D3,G3,D4;3.0': 3405, 'G2,B2,D3,G3,D4;4.0': 3406, 'G2,B2,D3;4.0': 3407, 'G2,C3,G3,C4;0.25': 3408, 'G2,C3,G3,C4;0.5': 3409, 'G2,C3,G3,C4;1.5': 3410, 'G2,C3,G3,C4;2.0': 3411, 'G2,C3,G3,C4;3.5': 3412, 'G2,C3,G3,C4;4.5': 3413, 'G2,C3,G3,C4;8.0': 3414, 'G2,D3,G3,D4,G4;0.5': 3415, 'G2,D3,G3,D4,G4;1.0': 3416, 'G2,D3,G3;0.25': 3417, 'G2,D3,G3;0.5': 3418, 'G2,D3,G3;3.0': 3419, 'G2,D3,G3;4.0': 3420, 'G2,D3,G3;8.0': 3421, 'G2,D3;0.25': 3422, 'G2,D3;2.0': 3423, 'G2,D3;4.0': 3424, 'G2,G3,D3;0.25': 3425, 'G2,G3,D3;0.5': 3426, 'G2;0.25': 3427, 'G2;0.5': 3428, 'G2;0.75': 3429, 'G2;1.0': 3430, 'G2;1.5': 3431, 'G2;1/3': 3432, 'G2;12.0': 3433, 'G2;13.5': 3434, 'G2;15.0': 3435, 'G2;16.0': 3436, 'G2;2.0': 3437, 'G2;2.5': 3438, 'G2;2/3': 3439, 'G2;20.0': 3440, 'G2;22.5': 3441, 'G2;28.0': 3442, 'G2;3.0': 3443, 'G2;4.0': 3444, 'G2;4/3': 3445, 'G2;6.5': 3446, 'G2;60.0': 3447, 'G2;8.0': 3448, 'G2;86.5': 3449, 'G2;9.5': 3450, 'G3,A2;0.25': 3451, 'G3,A2;0.5': 3452, 'G3,A2;1.0': 3453, 'G3,B2;0.25': 3454, 'G3,B2;0.5': 3455, 'G3,B2;1.0': 3456, 'G3,B2;2.0': 3457, 'G3,B2;3.5': 3458, 'G3,B3,E3,B2;0.5': 3459, 'G3,B3;0.25': 3460, 'G3,B3;0.5': 3461, 'G3,B3;1.75': 3462, 'G3,C3,G2;4.0': 3463, 'G3,C3;0.25': 3464, 'G3,C3;0.5': 3465, 'G3,C3;0.75': 3466, 'G3,C3;1.0': 3467, 'G3,C3;1.25': 3468, 'G3,C3;1.5': 3469, 'G3,C3;1.75': 3470, 'G3,C3;1/3': 3471, 'G3,C3;2.0': 3472, 'G3,C3;2.25': 3473, 'G3,C3;2.5': 3474, 'G3,C3;2/3': 3475, 'G3,C3;3.0': 3476, 'G3,C3;3.25': 3477, 'G3,C3;3.5': 3478, 'G3,C3;3.75': 3479, 'G3,C3;4.0': 3480, 'G3,C3;4/3': 3481, 'G3,C3;5.75': 3482, 'G3,C3;6.0': 3483, 'G3,C3;6.5': 3484, 'G3,C3;7.5': 3485, 'G3,C3;8.0': 3486, 'G3,C3;8.5': 3487, 'G3,C4,E4;0.25': 3488, 'G3,C4,E4;0.5': 3489, 'G3,C4,E4;1.75': 3490, 'G3,C4,E4;2.0': 3491, 'G3,C4,F4;0.25': 3492, 'G3,C4;0.25': 3493, 'G3,C4;0.5': 3494, 'G3,C4;1.75': 3495, 'G3,C4;2.0': 3496, 'G3,C4;3.75': 3497, 'G3,D3,A2,E2;0.25': 3498, 'G3,D3,A2;0.25': 3499, 'G3,D3,A2;0.5': 3500, 'G3,D3,E2;0.25': 3501, 'G3,D3,G2;0.25': 3502, 'G3,D3,G2;0.5': 3503, 'G3,D3,G2;0.75': 3504, 'G3,D3,G2;1.0': 3505, 'G3,D3,G2;1.25': 3506, 'G3,D3,G2;1.5': 3507, 'G3,D3,G2;1.75': 3508, 'G3,D3,G2;1/3': 3509, 'G3,D3,G2;16.0': 3510, 'G3,D3,G2;2.0': 3511, 'G3,D3,G2;2.25': 3512, 'G3,D3,G2;2.5': 3513, 'G3,D3,G2;2/3': 3514, 'G3,D3,G2;20.0': 3515, 'G3,D3,G2;3.0': 3516, 'G3,D3,G2;3.5': 3517, 'G3,D3,G2;4.0': 3518, 'G3,D3,G2;4.5': 3519, 'G3,D3,G2;6.0': 3520, 'G3,D3,G2;7.0': 3521, 'G3,D3,G2;8.0': 3522, 'G3,D3;0.25': 3523, 'G3,D3;0.5': 3524, 'G3,D3;0.75': 3525, 'G3,D3;1.0': 3526, 'G3,D3;1.5': 3527, 'G3,D3;2.0': 3528, 'G3,D3;5.0': 3529, 'G3,D4,G4;0.25': 3530, 'G3,D4,G4;0.5': 3531, 'G3,D4,G4;3.75': 3532, 'G3,D4;3.75': 3533, 'G3,E3,C3;1.5': 3534, 'G3,E3;0.5': 3535, 'G3,E3;4.75': 3536, 'G3,E3;7/3': 3537, 'G3,E4,C4;0.75': 3538, 'G3,F3,C3,F2;1.0': 3539, 'G3,G3,B2;8.0': 3540, 'G3,G3,G4;0.75': 3541, 'G3,G4;0.5': 3542, 'G3,G4;0.75': 3543, 'G3,G4;1.0': 3544, 'G3,G4;1.5': 3545, 'G3,G4;1.75': 3546, 'G3,G4;16/3': 3547, 'G3,G4;3.0': 3548, 'G3,G4;3.5': 3549, 'G3,G4;4.0': 3550, 'G3,G4;5.0': 3551, 'G3,G4;5.75': 3552, 'G3,G4;7/3': 3553, 'G3,G4;9.5': 3554, 'G3;0.25': 3555, 'G3;0.5': 3556, 'G3;0.75': 3557, 'G3;1.0': 3558, 'G3;1.25': 3559, 'G3;1.5': 3560, 'G3;1.75': 3561, 'G3;1/3': 3562, 'G3;10/3': 3563, 'G3;11.0': 3564, 'G3;12.0': 3565, 'G3;13.5': 3566, 'G3;13/3': 3567, 'G3;14/3': 3568, 'G3;16.0': 3569, 'G3;16.5': 3570, 'G3;17/3': 3571, 'G3;19.5': 3572, 'G3;2.0': 3573, 'G3;2.25': 3574, 'G3;2.5': 3575, 'G3;2/3': 3576, 'G3;23/3': 3577, 'G3;3.0': 3578, 'G3;3.5': 3579, 'G3;3.75': 3580, 'G3;4.0': 3581, 'G3;4.25': 3582, 'G3;4.5': 3583, 'G3;41/3': 3584, 'G3;47/3': 3585, 'G3;5.0': 3586, 'G3;5.5': 3587, 'G3;5.75': 3588, 'G3;5/3': 3589, 'G3;6.0': 3590, 'G3;6.75': 3591, 'G3;62.0': 3592, 'G3;7.0': 3593, 'G3;7.5': 3594, 'G3;7.75': 3595, 'G3;8.0': 3596, 'G3;8.5': 3597, 'G3;8/3': 3598, 'G4,B3,G3,D3,B2,G2;4.0': 3599, 'G4,B3;0.75': 3600, 'G4,B3;1.0': 3601, 'G4,B3;1.75': 3602, 'G4,B4;0.5': 3603, 'G4,C4,G3,C3;0.5': 3604, 'G4,C4,G3,C3;1.0': 3605, 'G4,C4,G3,C3;7.0': 3606, 'G4,C4,G3,E3,A2;0.5': 3607, 'G4,C4,G3,E3,A2;3.5': 3608, 'G4,C4;0.25': 3609, 'G4,C4;0.5': 3610, 'G4,C4;1.0': 3611, 'G4,C4;1.5': 3612, 'G4,C4;3.0': 3613, 'G4,C4;4.0': 3614, 'G4,D4,A2;0.25': 3615, 'G4,D4,A3,D3;0.25': 3616, 'G4,D4,A3,D3;0.5': 3617, 'G4,D4,A3,D3;1.0': 3618, 'G4,D4,A3;0.25': 3619, 'G4,D4,B-3,F3;0.25': 3620, 'G4,D4,B-3;1.5': 3621, 'G4,D4,B3,G3,D3,G2;4.0': 3622, 'G4,D4,B3,G3;4.0': 3623, 'G4,D4,B3;0.25': 3624, 'G4,D4,B3;1.0': 3625, 'G4,D4,B3;1.5': 3626, 'G4,D4,B3;2.5': 3627, 'G4,D4,C4,G3,C3;0.25': 3628, 'G4,D4,C4,G3,C3;0.5': 3629, 'G4,D4,C4,G3,C3;0.75': 3630, 'G4,D4,C4,G3,C3;1.0': 3631, 'G4,D4,C4,G3,C3;1.5': 3632, 'G4,D4,C4,G3,C3;2.0': 3633, 'G4,D4,C4,G3,C3;3.0': 3634, 'G4,D4,C4,G3,C3;3.5': 3635, 'G4,D4,C4,G3,C3;4.0': 3636, 'G4,D4,C4;1.5': 3637, 'G4,D4,C4;6.0': 3638, 'G4,D4,D3;1.5': 3639, 'G4,D4,F#3;1.0': 3640, 'G4,D4,F#3;1.5': 3641, 'G4,D4,G3,A2;2.0': 3642, 'G4,D4,G3,C3;1.0': 3643, 'G4,D4,G3,C3;1.5': 3644, 'G4,D4,G3,C3;8.0': 3645, 'G4,D4,G3,D3,A2;1.5': 3646, 'G4,D4,G3,D3,B2,G2;1.0': 3647, 'G4,D4,G3,D3,G2;0.25': 3648, 'G4,D4,G3,D3,G2;0.5': 3649, 'G4,D4,G3,D3,G2;1.0': 3650, 'G4,D4,G3,D3,G2;1.5': 3651, 'G4,D4,G3,D3,G2;2.0': 3652, 'G4,D4,G3,D3,G2;20.0': 3653, 'G4,D4,G3,D3,G2;3.0': 3654, 'G4,D4,G3,D3,G2;4.0': 3655, 'G4,D4,G3,D3,G2;8.0': 3656, 'G4,D4,G3,D3;1.0': 3657, 'G4,D4,G3,D3;2.0': 3658, 'G4,D4,G3,D3;3.5': 3659, 'G4,D4,G3,D3;4.0': 3660, 'G4,D4,G3,G3,D3;0.5': 3661, 'G4,D4,G3,G3,D3;1.0': 3662, 'G4,D4,G3,G3,D3;1.5': 3663, 'G4,D4,G3,G3,D3;16.0': 3664, 'G4,D4,G3,G3,D3;3.0': 3665, 'G4,D4,G3,G3,D3;4.0': 3666, 'G4,D4,G3;0.25': 3667, 'G4,D4,G3;0.5': 3668, 'G4,D4,G3;0.75': 3669, 'G4,D4,G3;1.0': 3670, 'G4,D4,G3;1.25': 3671, 'G4,D4,G3;1.5': 3672, 'G4,D4,G3;1/3': 3673, 'G4,D4,G3;13/3': 3674, 'G4,D4,G3;2.0': 3675, 'G4,D4,G3;2.5': 3676, 'G4,D4,G3;2/3': 3677, 'G4,D4,G3;22/3': 3678, 'G4,D4,G3;3.0': 3679, 'G4,D4,G3;3.5': 3680, 'G4,D4,G3;4.0': 3681, 'G4,D4,G3;4.75': 3682, 'G4,D4,G3;4/3': 3683, 'G4,D4,G3;5.5': 3684, 'G4,D4,G3;7.0': 3685, 'G4,D4;0.25': 3686, 'G4,D4;0.5': 3687, 'G4,D4;0.75': 3688, 'G4,D4;1.0': 3689, 'G4,D4;1.5': 3690, 'G4,D4;2.5': 3691, 'G4,D4;3.0': 3692, 'G4,D4;4.0': 3693, 'G4,E-4,C4;0.25': 3694, 'G4,E-4;0.25': 3695, 'G4,E-4;0.75': 3696, 'G4,E-4;1.0': 3697, 'G4,E3;0.25': 3698, 'G4,E4,B3,E3;4.0': 3699, 'G4,E4,B3;0.25': 3700, 'G4,E4,B3;0.5': 3701, 'G4,E4,B3;1.0': 3702, 'G4,E4,B3;5.0': 3703, 'G4,E4,C4,G3,C3;4.0': 3704, 'G4,E4;0.25': 3705, 'G4,E4;0.5': 3706, 'G4,E4;0.75': 3707, 'G4,E4;1.0': 3708, 'G4,F#4;0.75': 3709, 'G4,F4;0.25': 3710, 'G4,F4;0.5': 3711, 'G4,F4;0.75': 3712, 'G4,F4;1.0': 3713, 'G4,F4;1.5': 3714, 'G4,F4;2.0': 3715, 'G4,F4;2.5': 3716, 'G4,F4;4.0': 3717, 'G4,G3;0.25': 3718, 'G4,G3;0.5': 3719, 'G4,G3;1.0': 3720, 'G4,G3;1.5': 3721, 'G4,G3;1/3': 3722, 'G4,G3;2.0': 3723, 'G4,G3;3.5': 3724, 'G4,G3;5/3': 3725, 'G4,G3;8.0': 3726, 'G4,G4;0.5': 3727, 'G4,G5,D4,D5;2.5': 3728, 'G4,G5,D4,D5;3.0': 3729, 'G4,G5,D4,D5;5.75': 3730, 'G4,G5;0.25': 3731, 'G4,G5;0.5': 3732, 'G4,G5;1.0': 3733, 'G4,G5;1/3': 3734, 'G4,G5;10/3': 3735, 'G4,G5;2.0': 3736, 'G4,G5;2.5': 3737, 'G4,G5;2.75': 3738, 'G4,G5;3.0': 3739, 'G4,G5;4.0': 3740, 'G4,G5;4.5': 3741, 'G4,G5;4.75': 3742, 'G4,G5;5.0': 3743, 'G4,G5;8.0': 3744, 'G4,G5;9.75': 3745, 'G4;0.25': 3746, 'G4;0.5': 3747, 'G4;0.75': 3748, 'G4;1.0': 3749, 'G4;1.25': 3750, 'G4;1.5': 3751, 'G4;1.75': 3752, 'G4;1/3': 3753, 'G4;10.0': 3754, 'G4;10/3': 3755, 'G4;11/3': 3756, 'G4;12.0': 3757, 'G4;179.5': 3758, 'G4;19/3': 3759, 'G4;2.0': 3760, 'G4;2.25': 3761, 'G4;2.5': 3762, 'G4;2.75': 3763, 'G4;2/3': 3764, 'G4;3.0': 3765, 'G4;3.25': 3766, 'G4;3.5': 3767, 'G4;3.75': 3768, 'G4;4.0': 3769, 'G4;4.5': 3770, 'G4;4/3': 3771, 'G4;40.0': 3772, 'G4;5.0': 3773, 'G4;5.5': 3774, 'G4;5/3': 3775, 'G4;6.0': 3776, 'G4;6.5': 3777, 'G4;7/3': 3778, 'G5,C5;2.0': 3779, 'G5,C5;2.5': 3780, 'G5,D5;0.25': 3781, 'G5,D5;0.5': 3782, 'G5,D5;0.75': 3783, 'G5,D5;2.0': 3784, 'G5,E-5,C5;3.5': 3785, 'G5,E5,C5;3.75': 3786, 'G5,F5;1.0': 3787, 'G5,F5;1.5': 3788, 'G5,G4;8.0': 3789, 'G5,G5,G6;1.0': 3790, 'G5,G6,D5,D6;2.0': 3791, 'G5,G6;2/3': 3792, 'G5;0.25': 3793, 'G5;0.5': 3794, 'G5;0.75': 3795, 'G5;1.0': 3796, 'G5;1.25': 3797, 'G5;1.5': 3798, 'G5;1.75': 3799, 'G5;1/3': 3800, 'G5;16/3': 3801, 'G5;19/3': 3802, 'G5;2.0': 3803, 'G5;2.25': 3804, 'G5;2.5': 3805, 'G5;2.75': 3806, 'G5;2/3': 3807, 'G5;3.0': 3808, 'G5;3.5': 3809, 'G5;3.75': 3810, 'G5;4.0': 3811, 'G5;4.25': 3812, 'G5;4.5': 3813, 'G5;4/3': 3814, 'G5;5.0': 3815, 'G5;7.5': 3816, 'G5;8/3': 3817}\n",
            "3818\n",
            "[[0.31089576]\n",
            " [0.50654793]\n",
            " [0.65872184]\n",
            " [0.50628601]\n",
            " [0.29282347]\n",
            " [0.41959141]\n",
            " [0.93137768]\n",
            " [0.4544264 ]\n",
            " [0.41959141]\n",
            " [0.50628601]]\n",
            "(148035, 10, 1) (37009, 10, 1) (1870, 10, 1) (148035, 126) (37009, 126) (1870, 126)\n"
          ],
          "name": "stdout"
        }
      ]
    },
    {
      "cell_type": "code",
      "metadata": {
        "id": "mdtQ0Cjd8Nlf",
        "colab": {
          "base_uri": "https://localhost:8080/"
        },
        "outputId": "d1df91fa-a6ac-4049-b77d-15dfc3a357e1"
      },
      "source": [
        "debugarray = []\r\n",
        "for i in midiparts:\r\n",
        "    debugarray.append(i.instrument)\r\n",
        "\r\n",
        "print(set(debugarray))"
      ],
      "execution_count": null,
      "outputs": [
        {
          "output_type": "stream",
          "text": [
            "{'Electric Organ', 'Xylophone', 'Celesta', 'Viola', 'Electric Bass', 'Sampler', 'Brass', 'Acoustic Guitar', 'Voice', 'Electric Guitar', 'Acoustic Bass', 'Vibraphone', 'Accordion', 'Piano', 'StringInstrument', 'Violoncello'}\n"
          ],
          "name": "stdout"
        }
      ]
    }
  ]
}