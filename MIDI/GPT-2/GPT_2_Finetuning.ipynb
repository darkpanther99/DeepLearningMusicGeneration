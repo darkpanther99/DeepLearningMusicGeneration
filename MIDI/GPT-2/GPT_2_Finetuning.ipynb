{
  "nbformat": 4,
  "nbformat_minor": 0,
  "metadata": {
    "colab": {
      "name": "GPT-2 Finetuning",
      "provenance": [],
      "collapsed_sections": [
        "pel-uBULXO2L",
        "ClJwpF_ACONp",
        "QQAN3M6RT7Kj"
      ],
      "machine_shape": "hm"
    },
    "kernelspec": {
      "name": "python3",
      "display_name": "Python 3"
    },
    "accelerator": "GPU"
  },
  "cells": [
    {
      "cell_type": "markdown",
      "metadata": {
        "id": "H7LoMj4GA4n_"
      },
      "source": [
        "#  Train a GPT-2 Text-Generating Model w/ GPU For Free \n",
        "\n",
        "## This is only a modified notebook\n",
        "\n",
        "It was originally made by [Max Woolf](http://minimaxir.com)\n",
        "\n",
        "*Last updated: February 14th, 2021*\n",
        "\n",
        "Retrain an advanced text generating neural network on any text dataset **for free on a GPU using Collaboratory** using `gpt-2-simple`!\n",
        "\n",
        "For more about `gpt-2-simple`, you can visit [this GitHub repository](https://github.com/minimaxir/gpt-2-simple). You can also read my [blog post](https://minimaxir.com/2019/09/howto-gpt2/) for more information how to use this notebook!\n",
        "\n",
        "\n",
        "To get started:\n",
        "\n",
        "1. Copy this notebook to your Google Drive to keep it and save your changes. (File -> Save a Copy in Drive)\n",
        "2. Make sure you're running the notebook in Google Chrome.\n",
        "3. Run the cells below:\n"
      ]
    },
    {
      "cell_type": "code",
      "metadata": {
        "id": "KBkpRgBCBS2_",
        "colab": {
          "base_uri": "https://localhost:8080/"
        },
        "outputId": "71640266-a669-4547-f293-698e50472992"
      },
      "source": [
        "%tensorflow_version 1.x\n",
        "!pip install -q gpt-2-simple\n",
        "import gpt_2_simple as gpt2\n",
        "from datetime import datetime\n",
        "from google.colab import files"
      ],
      "execution_count": null,
      "outputs": [
        {
          "output_type": "stream",
          "name": "stdout",
          "text": [
            "TensorFlow 1.x selected.\n"
          ]
        }
      ]
    },
    {
      "cell_type": "markdown",
      "metadata": {
        "id": "Bj2IJLHP3KwE"
      },
      "source": [
        "## GPU\n",
        "\n",
        "Colaboratory uses either a Nvidia T4 GPU or an Nvidia K80 GPU. The T4 is slightly faster than the old K80 for training GPT-2, and has more memory allowing you to train the larger GPT-2 models and generate more text.\n",
        "\n",
        "You can verify which GPU is active by running the cell below."
      ]
    },
    {
      "cell_type": "code",
      "metadata": {
        "id": "sUmTooTW3osf",
        "colab": {
          "base_uri": "https://localhost:8080/"
        },
        "outputId": "09a2218a-b749-472c-9043-b577cb59e21c"
      },
      "source": [
        "!nvidia-smi"
      ],
      "execution_count": null,
      "outputs": [
        {
          "output_type": "stream",
          "name": "stdout",
          "text": [
            "Sat Nov  6 14:45:54 2021       \n",
            "+-----------------------------------------------------------------------------+\n",
            "| NVIDIA-SMI 495.44       Driver Version: 460.32.03    CUDA Version: 11.2     |\n",
            "|-------------------------------+----------------------+----------------------+\n",
            "| GPU  Name        Persistence-M| Bus-Id        Disp.A | Volatile Uncorr. ECC |\n",
            "| Fan  Temp  Perf  Pwr:Usage/Cap|         Memory-Usage | GPU-Util  Compute M. |\n",
            "|                               |                      |               MIG M. |\n",
            "|===============================+======================+======================|\n",
            "|   0  Tesla P100-PCIE...  Off  | 00000000:00:04.0 Off |                    0 |\n",
            "| N/A   40C    P0    26W / 250W |      0MiB / 16280MiB |      0%      Default |\n",
            "|                               |                      |                  N/A |\n",
            "+-------------------------------+----------------------+----------------------+\n",
            "                                                                               \n",
            "+-----------------------------------------------------------------------------+\n",
            "| Processes:                                                                  |\n",
            "|  GPU   GI   CI        PID   Type   Process name                  GPU Memory |\n",
            "|        ID   ID                                                   Usage      |\n",
            "|=============================================================================|\n",
            "|  No running processes found                                                 |\n",
            "+-----------------------------------------------------------------------------+\n"
          ]
        }
      ]
    },
    {
      "cell_type": "markdown",
      "metadata": {
        "id": "0wXB05bPDYxS"
      },
      "source": [
        "## Downloading GPT-2\n",
        "\n",
        "If you're retraining a model on new text, you need to download the GPT-2 model first. \n",
        "\n",
        "There are three released sizes of GPT-2:\n",
        "\n",
        "* `124M` (default): the \"small\" model, 500MB on disk.\n",
        "* `355M`: the \"medium\" model, 1.5GB on disk.\n",
        "* `774M`: the \"large\" model, cannot currently be finetuned with Colaboratory but can be used to generate text from the pretrained model (see later in Notebook)\n",
        "* `1558M`: the \"extra large\", true model. Will not work if a K80/P4 GPU is attached to the notebook. (like `774M`, it cannot be finetuned).\n",
        "\n",
        "Larger models have more knowledge, but take longer to finetune and longer to generate text. You can specify which base model to use by changing `model_name` in the cells below.\n",
        "\n",
        "The next cell downloads it from Google Cloud Storage and saves it in the Colaboratory VM at `/models/<model_name>`.\n",
        "\n",
        "This model isn't permanently saved in the Colaboratory VM; you'll have to redownload it if you want to retrain it at a later time."
      ]
    },
    {
      "cell_type": "code",
      "metadata": {
        "id": "P8wSlgXoDPCR",
        "colab": {
          "base_uri": "https://localhost:8080/"
        },
        "outputId": "ab0953f6-3005-4fa1-fd62-e66238efcb62"
      },
      "source": [
        "gpt2.download_gpt2(model_name=\"124M\")"
      ],
      "execution_count": null,
      "outputs": [
        {
          "output_type": "stream",
          "name": "stderr",
          "text": [
            "Fetching checkpoint: 1.05Mit [00:00, 341Mit/s]                                                      \n",
            "Fetching encoder.json: 1.05Mit [00:00, 2.31Mit/s]\n",
            "Fetching hparams.json: 1.05Mit [00:00, 302Mit/s]                                                    \n",
            "Fetching model.ckpt.data-00000-of-00001: 498Mit [00:27, 18.0Mit/s]\n",
            "Fetching model.ckpt.index: 1.05Mit [00:00, 239Mit/s]                                                \n",
            "Fetching model.ckpt.meta: 1.05Mit [00:00, 3.25Mit/s]\n",
            "Fetching vocab.bpe: 1.05Mit [00:00, 3.15Mit/s]\n"
          ]
        }
      ]
    },
    {
      "cell_type": "markdown",
      "metadata": {
        "id": "N8KXuKWzQSsN"
      },
      "source": [
        "## Mounting Google Drive\n",
        "\n",
        "The best way to get input text to-be-trained into the Colaboratory VM, and to get the trained model *out* of Colaboratory, is to route it through Google Drive *first*.\n",
        "\n",
        "Running this cell (which will only work in Colaboratory) will mount your personal Google Drive in the VM, which later cells can use to get data in/out. (it will ask for an auth code; that auth is not saved anywhere)"
      ]
    },
    {
      "cell_type": "code",
      "metadata": {
        "id": "puq4iC6vUAHc",
        "colab": {
          "base_uri": "https://localhost:8080/"
        },
        "outputId": "e6d55929-e2c2-4dbb-d287-9bc1885b2d05"
      },
      "source": [
        "gpt2.mount_gdrive()"
      ],
      "execution_count": null,
      "outputs": [
        {
          "output_type": "stream",
          "name": "stdout",
          "text": [
            "Drive already mounted at /content/drive; to attempt to forcibly remount, call drive.mount(\"/content/drive\", force_remount=True).\n"
          ]
        }
      ]
    },
    {
      "cell_type": "markdown",
      "metadata": {
        "id": "BT__brhBCvJu"
      },
      "source": [
        "## Uploading a Text File to be Trained to Colaboratory\n",
        "\n",
        "In the Colaboratory Notebook sidebar on the left of the screen, select *Files*. From there you can upload files:\n",
        "\n",
        "![alt text](https://i.imgur.com/TGcZT4h.png)\n",
        "\n",
        "Upload **any smaller text file**  (<10 MB) and update the file name in the cell below, then run the cell."
      ]
    },
    {
      "cell_type": "code",
      "metadata": {
        "id": "6OFnPCLADfll"
      },
      "source": [
        "drive_path = \"/content/drive/MyDrive/MLFolder/Onlab/\"\n",
        "\n",
        "file_name = drive_path + \"GPT_2_input/testfile.txt\"\n",
        "\n"
      ],
      "execution_count": null,
      "outputs": []
    },
    {
      "cell_type": "markdown",
      "metadata": {
        "id": "HeeSKtNWUedE"
      },
      "source": [
        "If your text file is larger than 10MB, it is recommended to upload that file to Google Drive first, then copy that file from Google Drive to the Colaboratory VM."
      ]
    },
    {
      "cell_type": "code",
      "metadata": {
        "id": "-Z6okFD8VKtS"
      },
      "source": [
        "gpt2.copy_file_from_gdrive(file_name)"
      ],
      "execution_count": null,
      "outputs": []
    },
    {
      "cell_type": "markdown",
      "metadata": {
        "id": "LdpZQXknFNY3"
      },
      "source": [
        "## Finetune GPT-2\n",
        "\n",
        "The next cell will start the actual finetuning of GPT-2. It creates a persistent TensorFlow session which stores the training config, then runs the training for the specified number of `steps`. (to have the finetuning run indefinitely, set `steps = -1`)\n",
        "\n",
        "The model checkpoints will be saved in `/checkpoint/run1` by default. The checkpoints are saved every 500 steps (can be changed) and when the cell is stopped.\n",
        "\n",
        "The training might time out after 4ish hours; make sure you end training and save the results so you don't lose them!\n",
        "\n",
        "**IMPORTANT NOTE:** If you want to rerun this cell, **restart the VM first** (Runtime -> Restart Runtime). You will need to rerun imports but not recopy files.\n",
        "\n",
        "Other optional-but-helpful parameters for `gpt2.finetune`:\n",
        "\n",
        "\n",
        "*  **`restore_from`**: Set to `fresh` to start training from the base GPT-2, or set to `latest` to restart training from an existing checkpoint.\n",
        "* **`sample_every`**: Number of steps to print example output\n",
        "* **`print_every`**: Number of steps to print training progress.\n",
        "* **`learning_rate`**:  Learning rate for the training. (default `1e-4`, can lower to `1e-5` if you have <1MB input data)\n",
        "*  **`run_name`**: subfolder within `checkpoint` to save the model. This is useful if you want to work with multiple models (will also need to specify  `run_name` when loading the model)\n",
        "* **`overwrite`**: Set to `True` if you want to continue finetuning an existing model (w/ `restore_from='latest'`) without creating duplicate copies. "
      ]
    },
    {
      "cell_type": "code",
      "metadata": {
        "id": "aeXshJM-Cuaf",
        "colab": {
          "base_uri": "https://localhost:8080/"
        },
        "outputId": "0b5eaffe-c501-4f95-9ee9-c724748a24bd"
      },
      "source": [
        "sess = gpt2.start_tf_sess()\n",
        "\n",
        "gpt2.finetune(sess,\n",
        "              dataset=file_name,\n",
        "              model_name='124M',\n",
        "              steps=2000,\n",
        "              restore_from='fresh',\n",
        "              run_name='run1',\n",
        "              print_every=50,\n",
        "              sample_every=100,\n",
        "              save_every=500\n",
        "              )\n",
        "#use_memory_saving_gradients = True\n",
        "#only_train_transformer_layers = True\n",
        "#accumulate_gradients = 1"
      ],
      "execution_count": null,
      "outputs": [
        {
          "output_type": "stream",
          "name": "stdout",
          "text": [
            "Loading checkpoint models/124M/model.ckpt\n",
            "INFO:tensorflow:Restoring parameters from models/124M/model.ckpt\n",
            "Loading dataset...\n"
          ]
        },
        {
          "output_type": "stream",
          "name": "stderr",
          "text": [
            "100%|██████████| 1/1 [00:12<00:00, 12.60s/it]\n"
          ]
        },
        {
          "output_type": "stream",
          "name": "stdout",
          "text": [
            "dataset has 2634648 tokens\n",
            "Training...\n",
            "[50 | 67.32] loss=0.23 avg=0.23\n",
            "[100 | 130.98] loss=0.19 avg=0.21\n",
            "======== SAMPLE 1 ========\n",
            "3.5 G2;0.5 G2;0.5 G2;0.5 G2;0.5 G2;0.5 G2;0.5 G2;0.5 G2;0.5 G2;0.5 G2;0.5 G3;0.5 G2;0.5 F#3;0.5 G3;1.25 A3;1.25 A3;1.5 G3;1.0 G3;0.5 G3;1.25 A3;1.25 A3;1.5 E3;0.25 E3;1.5 G3;1.0 G3;0.5 G3;1.25 A3;1.25 A3;1.5 B-3;0.25 B-3;1.25 B-3;0.5 G3;0.25 G3;0.5 G3;1.25 B-3;1.25 B-3;1.5 G3;0.25 G3;0.5 G3;1.5 C4,G3;0.5 G3,B-3;0.5 G3,B-3;0.5 G3,B-3;0.5 G3,B-3;0.5 G3,B-3;0.5 G3,B-3;0.5 G3,B-3;0.5 G3,B-3;0.5 G3,B-3;0.5 G3,B-3;0.5 G3,B-3;0.5 <music21.note.Rest,rest;16.0 A3;1.25 G3;1.25 G3;1.5 G3;1.0 <music21.note.Rest,rest;16.0 G3;0.5 G3;1.25 A3;1.25 A3;1.5 G3;1.0 G3;0.5 G3;1.25 A3;1.25 A3;1.5 G3;0.25 G3;0.5 G3;1.5 E3;0.25 E3;1.5 G3;1.0 G3;0.5 G3;1.25 B-3;0.25 B-3;1.25 B-3;0.5 G3;0.25 G3;0.5 G3;1.25 B-3;1.25 B-3;1.5 G3;0.25 G3;0.5 G3;1.5 B-3;1.25 B-3;1.5 G3;0.25 G3;0.5 G3;1.5 C4,G3;0.5 G3,B-3;0.5 G3,B-3;0.5 G3,B-3;0.5 G3,B-3;0.5 G3,B-3;0.5 G3,B-3;0.5 G3,B-3;0.5 G3,B-3;0.5 G3,B-3;0.5 <music21.note.Rest,rest;16.0 A3;1.25 G3;1.25 G3;1.5 G3;1.0 <music21.note.Rest,rest;8.5 G3;0.5 G3;1.25 E4,A3;0.25 G3;0.5 G3;1.25 G3;0.5 A3;0.25 A3;1.25 A3;1.5 G3;0.25 G3;0.5 G3;1.25 B-3;1.25 B-3;1.5 G3;0.25 G3;0.5 G3;1.5 B-3;1.25 B-3;1.5 G3;0.25 G3;0.5 G3;1.5 E3,A2;0.5 G3;1.25 A3;1.25 A3;1.5 G3;1.0 G3;0.5 G3;1.25 A3;1.25 A3;1.5 G3;0.25 G3;0.5 G3;1.5 C4,G3;0.5 G3,B-3;0.5 G3,B-3;0.5 G3,B-3;0.5 G3,B-\n",
            "\n",
            "[150 | 208.05] loss=0.19 avg=0.20\n",
            "[200 | 271.79] loss=0.17 avg=0.19\n",
            "======== SAMPLE 1 ========\n",
            " D3;0.5 D3;1.0 B-4;0.5 D4;1.0 A-5;1/3 B-5;1.0 C5;1.0 F5;1/3 G5;1.0 C5;1.0 F5;1/3 G5;1.0 D5;1.0 C5;1.0 F5;1/3 C5;1/3 B5;1/3 B5;1/3 B5;1/3 B5;1/3 B5;0.25 F5;0.25 D5;0.25 A5;0.25 G5;1.25 B5;1/3 C5,B6;1/3 G5,F5;1.5 A5;1.5 C5;3.5 C5;2/3 E5;1/3 G5;1/3 E-5;1/3 A5;1/3 E-5;1/3 A4;1/3 G5;1/3 G5;1/3 E-5;1/3 D5;1.0 C5;1.0 F5;1/3 C5;1/3 G5;1/3 E-5;1/3 D5;12.0 <music21.note.Rest,rest;0.5 D5;1.0 C5;1.0 F5;1/3 G5,C5;1/3 C5;1/3 F5;1/3 E-5;1/3 D5;12.0 <music21.note.Rest,rest;0.5 D5;1.0 C5;1.0 F5;1/3 G5;4/3 A5;0.5 C5;2/3 C5;2/3 C5;2/3 G5;2/3 <music21.note.Rest,rest;2/3 C5;2.0 G5;2/3 G5;2/3 C5;2/3 C5;2/3 B5;2/3 C5;2/3 B5;2/3 A5;2/3 A5;2/3 A5;2/3 F5;2/3 D5;2/3 D5;2/3 D5;2/3 D5;2/3 D5;2/3 D5;2/3 D5;2/3 A5;7/3 C5;2/3 C5;3/3 A5;2/3 C5;2/3 B5;2/3 C5;2/3 B5;2/3 A5;1/3 B-5;1.5 B-5;2/3 B-5;2/3 B-5;2/3 A-5;2/3 A-5;1/3 B-5;1/3 A-5;1/3 B-5;2/3 B-5;2/3 B-5;2/3 A-5;2/3 A-5;2/3 A-5;4/3 G5;2/3 G5,C5;2/3 G5;2/3 G5,C5;2/3 G5,C5;2/3 A-5;2/3 A5;2/3 A5;2/3 A5;2/3 A5;2/3 A5;2/3 A5;2/3 A5;2/3 A5;2/3 A5;2/3 A5;4/3 G5;1/3 G5;2/3 G5;2/3 G5;2/3 G5;2/3 G5,C5;2/3 G5;2/3 G5;2/3 G5,C5;2/3 A-5;2/3 A-5;2/3 A-5;2/3 A5;2/3 A5;2/3 A5;2/3 A5;2/3 A5;2/3 A5;2/3 A5;2/3 A5;2/3 A5;8/3 E5;2/3 A5;2/3 C5;1/3 B-6;1/3 C5;2/3 B-6;2/3 B-6;2/3 C5;2/3 C5;2/3 C5;2/3 B-5;2/3 C5;2/3 C\n",
            "\n",
            "[250 | 347.21] loss=0.31 avg=0.22\n",
            "[300 | 410.86] loss=0.14 avg=0.20\n",
            "======== SAMPLE 1 ========\n",
            "D3,D2;0.75 F#3;0.25 <music21.note.Rest,rest;0.25 F#3;0.25 <music21.note.Rest,rest;0.25 F#3;0.25 <music21.note.Rest,rest;0.25 F#3;0.75 F#3;0.25 G3;0.25 <music21.note.Rest,rest;0.25 G3;0.25 <music21.note.Rest,rest;0.25 G3;0.25 <music21.note.Rest,rest;0.25 G3;0.25 <music21.note.Rest,rest;0.25 G3;0.25 G3;0.25 <music21.note.Rest,rest;0.25 G3;0.25 G3;0.25 <music21.note.Rest,rest;0.25 G3;0.25 G3;0.25 <music21.note.Rest,rest;0.25 G3;0.25 G3;0.25 <music21.note.Rest,rest;0.25 G3;0.25 G3;0.25 <music21.note.Rest,rest;0.25 G3;0.25 G3;0.25 <music21.note.Rest,rest;0.25 G3;0.25 G3;0.25 <music21.note.Rest,rest;0.25 G3;0.25 G3;0.25 <music21.note.Rest,rest;0.25 G3;0.25 G3;0.25 <music21.note.Rest,rest;0.25 G3;0.25 G3;0.25 <music21.note.Rest,rest;0.25 G3;0.25 G3;0.25 <music21.note.Rest,rest;0.25 G3;0.25 G3;0.25 <music21.note.Rest,rest;0.25 G3;0.25 G3;0.25 <music21.note.Rest,rest;0.25 G3;0.25 G3;0.25 <music21.note.Rest,rest;0.25 G3;0.25 G3;0.25 <music21.note.Rest,rest;0.25 G3;0.25 G3;0.25 <music21.note.Rest,rest;0.25 G3;0.25 G3;0.25 <music21.note.Rest,rest;0.25 G3;0.25 G3;0.25 <music21.note.Rest,rest;0.25 G3;0.25 G3;0.25 <music21.note.Rest,rest;0.25 G3;0.25 G3;0.25 <music21.note.Rest,rest;0.25 G3;0.25 G3;0.25 <music21.note.Rest,rest;0.25 G3;0.25 G3;0.25 <music21.note.Rest,rest;0.25 G3;0.25 G3;0.25 <music21.note.Rest,rest;0.25 G3;0.25 G3;0.25 <music21.note.Rest,rest;0.25 G3;0.25 G3;0.25 <music21.note.Rest,rest;0.25 G3;0.25 G3;0.25 <music21.note.Rest,rest;0.25 G3;0.25 G3;0.25 <music21.note.Rest,rest;0.25 G3;0.25 G3;0.25 <music21.note.Rest,rest;0.25 G3;0.25 G3;0.25 <music21.note.Rest,rest;0.25 G3;0.25 G3;0.25 <music21.note.Rest,rest;0.25 G3;0.25 G3;0.25 <music21.note.Rest,rest;0.25 G3;0.25 G3;0.25 <music21.note.Rest,rest;0.25 G3;0.25 G3;0.25 <music21.note.Rest,rest;0.25 G3;0.25 G3;0.25 <music21.note.Rest,rest;0.25 G3;0.25 G3;0.25 <music21\n",
            "\n",
            "[350 | 486.21] loss=0.24 avg=0.21\n",
            "[400 | 549.92] loss=0.14 avg=0.20\n",
            "======== SAMPLE 1 ========\n",
            "0.25 E2;0.25 E2;0.25 A3,D3;0.5 A3,D3;0.5 A3,D3;0.25 <music21.note.Rest,rest;0.25 A3,D3;0.25 <music21.note.Rest,rest;0.25 A3,D3;0.25 <music21.note.Rest,rest;0.25 A3,D3;0.25 <music21.note.Rest,rest;0.25 A3,D3;0.25 <music21.note.Rest,rest;0.25 A3,D3;0.25 <music21.note.Rest,rest;0.25 A3,D3;0.25 <music21.note.Rest,rest;0.25 A3,D3;0.25 <music21.note.Rest,rest;0.25 A3,D3;0.25 <music21.note.Rest,rest;0.25 A3,D3;0.25 <music21.note.Rest,rest;0.25 A3,D3;0.25 <music21.note.Rest,rest;0.25 A3,D3;0.25 <music21.note.Rest,rest;0.25 A3,D3;0.25 <music21.note.Rest,rest;0.25 A3,D3;0.25 <music21.note.Rest,rest;0.25 G3;0.25 G3;0.25 G3;0.25 F#3;0.25 G3;0.25 <music21.note.Rest,rest;0.25 G3;0.25 G3;0.25 <music21.note.Rest,rest;0.25 G3;0.25 G3;0.25 <music21.note.Rest,rest;0.25 G3;0.25 G3;0.25 <music21.note.Rest,rest;0.25 G3;0.25 G3;0.25 <music21.note.Rest,rest;0.25 G3;0.25 G3;0.25 <music21.note.Rest,rest;0.25 D3;0.25 D3;0.25 D3;0.25 A3,D3;0.5 A3,D3;0.5 A3,D3;0.25 <music21.note.Rest,rest;0.25 A3,D3;0.25 <music21.note.Rest,rest;0.25 A3,D3;0.25 <music21.note.Rest,rest;0.25 A3,D3;0.25 <music21.note.Rest,rest;0.25 A3,D3;0.25 <music21.note.Rest,rest;0.25 A3,D3;0.25 <music21.note.Rest,rest;0.25 A3,D3;0.25 <music21.note.Rest,rest;0.25 A3,D3;0.25 <music21.note.Rest,rest;0.25 A3,D3;0.25 <music21.note.Rest,rest;0.25 A3,D3;0.25 <music21.note.Rest,rest;0.25 A3,D3;0.25 <music21.note.Rest,rest;0.25 A3,D3;0.25 <music21.note.Rest,rest;0.25 A3,D3;0.25 <music21.note.Rest,rest;0.25 A3,D3;0.25 <music21.note.Rest,rest;0.25 D3;0.25 D3;0.25 D3;0.25 A3,D3;0.5 A3,D3;0.5 A3,D3;0.25 <music21.note.Rest,rest;0.25 A3,D3;0.25 <music21.note.Rest,rest;0.25 A3,D3;0.25 <music21.note.Rest,rest;0.25 A3,D3;0.25 <music21.note.Rest,rest;0.25 A3,D3;0.25 <music21.note.Rest,rest;0.25 A3,D3;0.25 <music21.note.Rest,rest;0.25 G3\n",
            "\n",
            "[450 | 625.41] loss=0.14 avg=0.19\n",
            "[500 | 689.10] loss=0.17 avg=0.19\n",
            "Saving checkpoint/run1/model-500\n",
            "======== SAMPLE 1 ========\n",
            ",C3;0.5 D3,G2;0.5 A3,D3;0.5 C4,G3,C3;0.5 C4,G3,C3;0.5 C4,G3,C3;0.5 C4,G3,C3;0.5 D3,G2;0.5 A3,D3;0.5 C4,G3,C3;1.0 D4,A3,D3;1.0 D4,A3,D3;1.5 F4,C4,D3;1.0 E4,C4,D3;1.5 F4,C4,D3;1.0 A3,D3;0.5 E3;0.5 F2;0.5 G2;0.5 F4,C4,D3;0.5 E3;0.5 C4,G3,C3;0.5 E3;0.5 D3,G2;0.5 E3;0.5 D3,G2;0.5 E3;0.5 D4,A3,D3;1.0 D4,A3,D3;1.5 F4,C4,D3;1.0 D4,A3,D3;1.5 F4,C4,D3;1.0 D4,A3,D3;0.5 D4,A3,D3;0.5 D2;0.5 E3;0.5 F2;0.5 G2;0.5 F4,C4,D3;0.5 E3;0.5 C4,G3,C3;0.5 E3;0.5 D3,G2;0.5 E3;0.5 D3,G2;0.5 E3;0.5 D4,A3,D3;1.0 D4,A3,D3;1.25 F4;0.25 E4;0.25 F4;0.5 F4;0.5 C4;0.5 D4;0.5 C4;0.5 A3;0.5 C4;0.5 D4;0.5 C4;0.5 B3;0.5 C4;0.5 B3;0.5 F4;0.5 G4;0.5 F4;0.5 A3;0.5 D4;0.5 D4;0.5 A3;0.5 F4;0.5 G4;0.5 F4;0.5 D4;0.5 D4;0.5 D4;0.5 D4;0.5 F4;0.5 D4;0.5 E-4;0.5 F4;1.0 \n",
            "<music21.note.Rest,rest;36.0 E2;15.0 E2;12.0 E2;15.0 <music21.note.Rest,rest;36.0 E3;14.5 <music21.note.Rest,rest;0.5 F2;15.0 E2;10.5 E2;15.0 <music21.note.Rest,rest;36.0 E3;14.5 <music21.note.Rest,rest;0.5 F2;10.5 E3;14.5 <music21.note.Rest,rest;0.5 G4;5.0 A4;1.5 B-4;1.0 C5;1.0 D5;1.0 D5;3.0 F4;1.0 G4;0.5 A4;1.5 B-4;1.0 C5;1.0 D5;1.0 D5;3.0 F4;1.0 G4;0.5 A4;1.5 B-4;1.0 C5;1.0 D5;1.0 D5;3.0 E2;15.0 <music21.note.Rest,rest;36.0 E2;15.0 E2;10.5 E2;15.0 <music21.note.Rest,rest;36.0 E3;14.5 <music21.note.Rest,rest;0.5 F2;15.0 E2;8.0 <music21.note.Rest,rest;6.0 A2;15.0 E2;10.5 E2;10.25 <music\n",
            "\n",
            "[550 | 767.68] loss=0.12 avg=0.18\n",
            "[600 | 831.28] loss=0.23 avg=0.19\n",
            "======== SAMPLE 1 ========\n",
            " F-4;2.5 F#4,F#4;0.5 A4,E4;0.5 A4,E4;0.5 A4,E4;0.25 A4,E4;0.5 A4,E4;0.5 A4,E4;0.25 A4,E4;0.5 A4,E4;0.5 A4,E4;0.5 A4,E4;0.5 A4,E4;0.5 A4,E4;0.5 D4,A3,D3;4.0 F4,D4,F3;0.5 F4,D4,F3;2.5 A4,E4,A3;1.5 C5;0.5 D5;0.5 C5;1.0 A4,E4,A3;6.0 \n",
            "<music21.note.Rest,rest;64.75 B3;0.25 E3;1.0 B3;0.25 E3;1.0 A3;0.25 B3;0.25 E3;2.0 <music21.note.Rest,rest;0.5 D3;0.25 E3;0.25 F#3;1.0 D3;0.25 E3;0.25 F#3;1.0 G3;0.25 F#3;2.0 <music21.note.Rest,rest;0.5 C4,G3,C3;2.0 D4;0.25 B3;0.25 A3;0.5 F#4;2.0 <music21.note.Rest,rest;0.5 E3;2.0 <music21.note.Rest,rest;0.5 D3;1.0 G3;0.25 F#3;0.25 E3;0.25 F#3;0.5 G3;1.0 <music21.note.Rest,rest;0.5 A4,E4,A3;1.0 B4;0.25 E4;0.25 F#4;0.25 E4;0.5 <music21.note.Rest,rest;0.5 C5;2.0 <music21.note.Rest,rest;0.5 E4;2/3 <music21.note.Rest,rest;1/12 A4;2/3 <music21.note.Rest,rest;0.5 C5;0.25 D5;0.75 G5;0.5 <music21.note.Rest,rest;1/12 A4;1/3 <music21.note.Rest,rest;5/12 B4;0.5 <music21.note.Rest,rest;0.5 C5;5/3 B4;1/3 B4;1.0 D5;1.0 B4;1/3 C5;1/3 B4;1/3 C5;3.0 G4;2.0 <music21.note.Rest,rest;0.5 A4,E4,A3;1.0 B4;0.25 E4;0.25 F#4;0.25 E4;0.5 <music21.note.Rest,rest;1.5 B4;0.25 F#4;1.0 B4;1.0 <music21.note.Rest,rest;2.0 F#4;0.5 G4;0.5 <music21.note.Rest,rest;0.5 B4;0.25 C5;0.25 D5,G4;4.0 <music21.note.Rest,rest;1.0 B4,B5;1.0 <music21.note.Rest,rest;20.0 B4,B5;0.5 B5;0.25 B5;0.25 B5;0.25 G5;1.0 G5;0.5 G5;0.25 G5;0.25 G5;0.25 F#5;0.25 G5;0.25 G5;0.25 C5;1.0 B4;0.25 C5;0.25 D5;0.25 B4;0.25 D5;0.25 B4;0.25 A4;0.25 B4;0.25 A4;0.25 G4;0.25 A4;0.25 G4;0.25 F#4;0\n",
            "\n",
            "[650 | 906.69] loss=0.13 avg=0.18\n",
            "[700 | 970.34] loss=0.26 avg=0.19\n",
            "======== SAMPLE 1 ========\n",
            "-E4,B3;0.25 B3,F#3,B2;4.0 F#4,C#4,F#3;4.0 C#4,F#3;0.25 C#4,F#3;0.25 F#3,C#4,F#3;4.0 F#4,C#4,F#3;0.5 C#4,F#3,C#4,F#3;0.25 C#4,F#3;0.25 C#4,F#3;0.25 C#4,F#3;0.5 F#3,C#4,F#3;0.25 C#4,F#3;0.25 C#4,F#3;0.25 C#4,F#3;0.5 F#3,C#4,F#3;0.5 C#4,F#3;0.25 C#4,F#3;0.25 F#3,C#4,F#3;4.0 E4,B3,E3;0.25 B3,E3;0.25 E4,B3,E3;0.25 B3,E3;0.25 E4,B3,E3;0.25 B3,E3;0.25 E4,B3,E3;0.25 B3,E3;0.25 C4,E3,G3;0.25 F#3,C#3;0.25 C#4,F#3;0.25 F#4,C#4,F#3;0.25 C#4,F#3;0.25 F#4,C#4,F#3;0.25 C#4,F#3;0.25 C#4,F#3;0.25 C#4,F#3;0.5 F#3,C#4,F#3;0.25 C#4,F#3;0.25 C#4,F#3;0.25 C#4,F#3;0.25 C#4,F#3;0.5 F#3,C#4,F#3;0.25 C#4,F#3;0.25 C#4,F#3;0.25 C#4,F#3;0.25 C#4,F#3;0.5 F#3,C#4,F#3;0.25 C#4,F#3;0.25 C#4,F#3;0.25 C#4,F#3;0.5 F#3,C#4,F#3;0.5 C#4,F#3;0.25 C#4,F#3;0.25 F#3,C#4,F#3;4.0 E4,B3,E3;0.25 B3,E3;0.25 E4,B3,E3;0.25 B3,E3;0.25 E4,B3,E3;0.25 B3,E3;0.25 E4,B3,E3;0.25 B3,E3;0.25 F3,B-2;0.25 F3,B-2;0.25 F3,B-2;0.25 F3,B-2;0.5 F#3,C#3;0.25 F3,B-2;0.25 F3,B-2;0.25 F3,B-2;0.25 F3,B-2;0.5 F#3,C#3;0.25 F3,B-2;0.25 F3,B-2;0.25 F3,B-2;0.25 F3,B-2;0.5 F#3,C#3;0.25 F3,B-2;0.25 F3,B-2;0.25 F3,B-2;0.25 F3,B-2;0.5 F#3,C#3;0.25 F3,B-2;0.25 F3,B-2;0.25 F3,B-2;0.25 G3,D3,G2;0.25 A3,E3,A2;1.0 \n",
            "<music21.note.Rest,rest;0.25 B3,E3;0.5 B3,E3;\n",
            "\n",
            "[750 | 1045.73] loss=0.10 avg=0.18\n",
            "[800 | 1109.36] loss=0.22 avg=0.18\n",
            "======== SAMPLE 1 ========\n",
            " B3,F#3,B2;0.5 B3,F#3,B2;0.5 F#3,C#3,F#2;0.25 <music21.note.Rest,rest;0.25 F#3,C#3,F#2;0.25 <music21.note.Rest,rest;0.25 C#3,F#2;0.25 <music21.note.Rest,rest;0.25 F#2,C#3,F#3,C#3,F#2;2/3 <music21.note.Rest,rest;0.25 C#3,F#3,C#3,F#2;2/3 E3,B2;2/3 <music21.note.Rest,rest;1/3 B2,E2;0.25 <music21.note.Rest,rest;0.25 E3,B2,E2;0.25 <music21.note.Rest,rest;0.25 G3,D3;2/3 <music21.note.Rest,rest;1/4 G3,D3;0.25 <music21.note.Rest,rest;0.25 E3,A2;2/3 <music21.note.Rest,rest;1/3 E3,A2;1/3 C#3,F#2;0.25 <music21.note.Rest,rest;0.25 B2,E2;0.25 <music21.note.Rest,rest;0.25 C#3,F#2;0.25 <music21.note.Rest,rest;0.25 B2,E2;0.25 <music21.note.Rest,rest;0.25 B2,E2;0.25 <music21.note.Rest,rest;0.25 B2,E2;0.25 <music21.note.Rest,rest;0.25 C#3,F#2;2/3 <music21.note.Rest,rest;1/6 C#3,F#2;0.25 <music21.note.Rest,rest;0.25 E3,A2;2/3 <music21.note.Rest,rest;1/3 E3,A2;2/3 D3,G2;2/3 <music21.note.Rest,rest;1/6 D3,G2;0.25 <music21.note.Rest,rest;0.25 E3,A2;2/3 <music21.note.Rest,rest;1/3 E3,A2;2/3 E3,A2;1/3 E3,B2,E2;0.25 <music21.note.Rest,rest;0.25 E2,E2;0.25 E2,E2;0.25 E2,E2;0.25 E2,E2;0.25 <music21.note.Rest,rest;0.25 E2,E2;0.25 E2,E2;0.25 E2,E2;0.25 E2,E2;0.25 <music21.note.Rest,rest;0.25 E2,E2;0.25 <music21.note.Rest,rest;0.25 B3,F#3,B2;0.5 B3,F#3,B2;0.5 B2,E2;0.25 E2;0.25 E2;0.25 E2,E2;0.25 E2,E2;0.25 <music21.note.Rest,rest;0.25 E2,E2;0.25 <music21.note.Rest,rest;0.25 B3,F#3,B2;0.5 B2,E2;0.25 E2;0.25 E2;0.25 E2,E2;0.25 E2,E2;0.25 <music21.note.Rest,rest;0.25 E2,E2;0.25 <music21.note.Rest,rest;0.25 B3,F#3,B2;0.5 B3,F#3,B2;0.5 B2,E2;0.25 E2;0.25 E2;0.25 E2,E2;0.25 E2,E2;0.25 <music21.note.Rest,rest;0.25 E2,E2;0.25 <\n",
            "\n",
            "[850 | 1184.71] loss=0.18 avg=0.18\n",
            "[900 | 1248.38] loss=0.16 avg=0.18\n",
            "======== SAMPLE 1 ========\n",
            "5 C3,F2;0.5 C3,F2;0.5 C3,F2;0.5 F3,B-2;0.5 F3,B-2;0.5 F3,B-2;0.5 C3,F2;0.5 C3,F2;0.5 C3,F2;0.5 C3,F2;0.5 F3,B-2;0.5 F3,B-2;0.5 F3,B-2;1.0 C3,F2;0.5 C3,F2;0.5 C3,F2;0.5 C3,F2;0.5 C3,F2;0.5 C3,F2;0.5 C3,F2;0.5 C3,F2;0.5 C3,F2;1.0 A2,E2;0.5 A2,E2;0.5 A2,E2;0.5 A2,E2;0.5 A2,E2;0.5 A2,E2;0.5 A2,E2;1.0 A2,E2;0.5 A2,E2;0.5 A2,E2;0.5 A2,E2;0.5 F2,C3;0.5 A2,E2;0.5 E2,A2;1.0 E2,A2;0.5 B2,E2;1.0 B2,E2;0.5 E2,A2;1.0 G2,C3;1.0 B2,E2;0.5 E2,A2;1.0 E2,A2;0.5 B2,E2;1.5 E2,A2,D3;0.5 E2,A2;0.5 E2,A2;1.0 D4,A3,D3;0.5 E2,A2;1.5 D3,G2;0.5 E2,A2;0.5 E2,A2;1.0 A2,E2;0.5 A2,E2;0.5 A2,E2;0.5 A2,E2;0.5 A2,E2;0.5 D3,G2;0.5 E2,A2;0.5 E2,A2;1.0 A2,E2;0.5 A2,E2;0.5 A2,E2;0.5 A2,E2;0.5 D3,G2;0.5 E2,A2;0.5 E2,A2;1.0 E2,A2;0.5 B2,E2;1.0 E2,A2;1.0 A2,E2;0.5 E2,A2;1.0 B2,E2;0.5 A2,E2;0.5 A2,E2;1.5 A2,E2;0.5 B2,E2;0.5 E2,A2;0.5 E2,A2;1.5 A2,E2;0.5 B2,E2;1.5 A2,E2;0.5 B2,E2;1.0 A2,E2;0.5 A2,E2;0.5 A2,E2;0.5 A2,E2;0.5 A2,E2;0.5 A2,E2;1.0 F#2;0.5 F#2;0.5 G2;0.5 F#2;0.5 E2,A2;1.0 E2,A2;1.0 F#2;0.5 F#2;0.5 G2;0.5 F#2;0.5 E2,A2;1.0 G2;0.5 D3,G2;0.0 D3,G2;1.0 D3,G2;1.0 D3,G2;1.0 B2,E2;1.0 E2,A2;1.0 F#2;0.5 F#2;0.5 G2;0.5 F#2;0.5 E2,A2;1.5 D3,G2;0.5 E2,A2;1.0 D3,G2;\n",
            "\n",
            "[950 | 1323.84] loss=0.20 avg=0.18\n",
            "[1000 | 1387.50] loss=0.16 avg=0.18\n",
            "Saving checkpoint/run1/model-1000\n",
            "WARNING:tensorflow:From /usr/local/lib/python3.7/dist-packages/tensorflow/python/training/saver.py:1058: remove_checkpoint (from tensorflow.python.training.checkpoint_management) is deprecated and will be removed in a future version.\n",
            "Instructions for updating:\n",
            "Use standard file APIs to delete files with this prefix.\n",
            "======== SAMPLE 1 ========\n",
            ".5 <music21.note.Rest,rest;8.0 E3;1.5 B2;1.0 A2;1.0 A3;0.5 E3;1.5 G1;1.5 E3;1.5 B2;1.0 A2;1.0 D3;1.0 E3;1.0 E3;1.0 E3;1.0 <music21.note.Rest,rest;1.0 E3;7.0 E3;0.5 E3;0.5 E3;0.5 E3;0.5 E3;0.5 E3;0.5 E3;0.5 C3;0.5 C3;0.5 C3;0.5 C3;0.5 C3;0.5 C3;0.5 C3;0.5 C3;0.5 C3;0.5 C3;0.5 C3;0.5 C3;0.5 E3;0.25 <music21.note.Rest,rest;25.0 G3;0.25 <music21.note.Rest,rest;12/6 B3;0.5 <music21.note.Rest,rest;12/12 D4,B3,D3;9.75 <music21.note.Rest,rest;20.0 B3;0.25 <music21.note.Rest,rest;23.0 A3;0.25 <music21.note.Rest,rest;16.0 A3;0.25 <music21.note.Rest,rest;23.0 G4;0.25 <music21.note.Rest,rest;23.0 B3;0.25 <music21.note.Rest,rest;11.75 A3;0.25 <music21.note.Rest,rest;15.75 G4;0.25 <music21.note.Rest,rest;23.0 B3;0.25 <music21.note.Rest,rest;11.75 A3;0.25 <music21.note.Rest,rest;15.75 G4;0.25 <music21.note.Rest,rest;23.0 B3;0.25 <music21.note.Rest,rest;11.75 G#4;0.25 A5;0.25 A5;0.25 B5;0.25 A5;0.25 B-5;0.25 B-5;0.25 B-5;0.25 A5;0.25 A5;0.25 G#5;0.5 G#5;0.25 G5;0.25 G5;0.5 F#5;0.25 F#5;0.25 G5;0.5 A5;0.5 G#5;0.5 G5;1.0 B-5;0.25 G#5;0.25 A5;0.75 G#5;0.5 A5;3.5 A5;0.5 G#5;0.25 G#5;0.75 F#5;2.0 <music21.note.Rest,rest;12.0 E3;1.0 B2;1.0 A2;1.0 A3;0.5 E3;1.5 B2;1.0 A2;1.0 A3;0.5 E3;0.5 E3;0.5 E3;0.5 B3;0.75 C3;0.5 A2;1.0 A3;0.5 D4;1.0 A2;0.5 E3;2.0 <music21.note.Rest,rest;17.0 <music21.note.Rest,rest;13.5 B2;1.0 A2;1.0 A3;0.5 E3;1.5 B2;1.0 A2;1.0 A3;0.5 E3;1.5 G1;1.5 E3;1.5 B2;1.0 A2;1.0 D3;1.0 E3;1.0 E3;1.0 E3;1.0 <music21.note.Rest,rest;1.0 E3;7.0 <music21.note.Rest,rest;17.0 D3;0.5 B3;0.5 B3;0.5 B3;0.5 A3;0.5 F3;0.5 C3;0.5 C\n",
            "\n",
            "[1050 | 1465.36] loss=0.18 avg=0.18\n",
            "[1100 | 1529.02] loss=0.16 avg=0.18\n",
            "======== SAMPLE 1 ========\n",
            ",D3;8.5 G3,D3,G2;3.5 D4,A3,D3;4.5 B3,F#3,B2;1.0 B3;1.0 F#4;0.5 G4;0.5 F#4;0.5 E4;0.5 D4;0.5 B3;0.5 E4;0.5 G4;1.0 F#4;0.5 E4;0.5 D4;0.5 E4;0.5 G4;0.5 F#4;0.5 E4;0.5 D4;0.5 B3;0.5 E4;0.5 G4;0.5 F#4;0.5 E4;0.5 D4;0.5 B3;0.5 E4;0.5 G4;1.0 F#4;0.5 E4;0.5 D4;0.5 B3;0.5 E4;0.5 G4;0.5 F#4;0.5 E4;0.5 D4;0.5 E4;0.5 G4;1.0 F#4;0.5 E4;0.5 F#4;0.5 D4;0.5 E4;0.5 G4;0.5 F#4;0.5 E4;0.5 D4;0.5 B3;0.5 E4;0.5 G4;1.0 F#4;0.5 E4;0.5 D4;0.5 E4;0.5 G4;0.5 F#4;0.5 E4;0.5 D4;0.5 E4;0.5 G4;1.0 F#4;0.5 E4;0.5 D4;0.5 B3;0.5 E4;0.5 G4;1.0 F#4;0.5 E4;0.5 D4;0.5 E4;0.5 G4;0.5 F#4;0.5 E4;0.5 D4;0.5 E4;0.5 G4;1.0 F#4;0.5 E4;0.5 D4;0.5 B3;0.5 E4;0.5 G4;1.0 F#4;0.5 E4;0.5 D4;0.5 E4;0.5 G4;0.5 F#4;0.5 E4;0.5 D4;0.5 B3;0.5 E4;0.5 G4;1.0 F#4;0.5 E4;0.5 D4;0.5 B3;0.5 E4;0.5 G4;0.5 F#4;0.5 E4;0.5 D4;0.5 B3;0.5 E4;0.5 G4;0.5 F#4;0.5 E4;0.5 D4;0.5 E4;0.5 G4,D4;0.25 E4,A3;0.25 <music21.note.Rest,rest;5.75 E4,A3;0.25 <music21.note.Rest,rest;1.75 E4,A3;0.25 <music21.note.Rest,rest;2.25 E4;3.5 E4,B3;0.25 <music21.note.Rest,rest;0.75 E4,A3;0.25 \n",
            "<music21.note.Rest,rest;3.0 E3;1.75 E3;0.25 E3;0.25 E3;0.25 E3;0.25 D4;0.25 E4;0.25 <music21.note.Rest,rest;0.25 E3;1.25 E3;0.25 E3;0.25 E3;0.25 E3;0.25 D4;0.25 B3;0.25 <music21.note.Rest,rest;0.25 E3;1.25 E3;0.25 E3;0.25 E3;0.25 E3;0.25 D4;0.25 B3;0.25 <music21.note.Rest,rest;0.25 E3;1.25 E3;0.25 E3;0.25 E\n",
            "\n",
            "[1150 | 1604.32] loss=0.10 avg=0.18\n",
            "[1200 | 1667.97] loss=0.17 avg=0.18\n",
            "======== SAMPLE 1 ========\n",
            "5 F2;0.25 <music21.note.Rest,rest;0.25 F2;0.5 F2;0.25 <music21.note.Rest,rest;0.25 C3;0.25 <music21.note.Rest,rest;0.25 A3,D3;0.5 D3;0.25 <music21.note.Rest,rest;0.25 D3;0.25 <music21.note.Rest,rest;0.25 A3,D3;0.5 D3;0.25 <music21.note.Rest,rest;0.25 D3;0.25 <music21.note.Rest,rest;0.25 D3;0.25 <music21.note.Rest,rest;0.25 E3;0.25 <music21.note.Rest,rest;0.25 B3,E3;0.5 E3;0.25 <music21.note.Rest,rest;0.25 E3;0.25 <music21.note.Rest,rest;0.25 B3,E3;0.5 E3;0.25 <music21.note.Rest,rest;0.25 E3;0.25 <music21.note.Rest,rest;0.25 B3,E3;0.5 E3;0.25 <music21.note.Rest,rest;0.25 E3;0.25 <music21.note.Rest,rest;0.25 B3,E3;0.5 E3;0.25 <music21.note.Rest,rest;0.25 E3;0.25 <music21.note.Rest,rest;0.25 A3,D3;0.5 D3;0.25 <music21.note.Rest,rest;0.25 D3;0.25 <music21.note.Rest,rest;0.25 A3,D3;0.5 D3;0.25 <music21.note.Rest,rest;0.25 D3;0.25 <music21.note.Rest,rest;0.25 A3,D3;0.5 D3;0.25 <music21.note.Rest,rest;0.25 D3;0.25 <music21.note.Rest,rest;0.25 A3,D3;0.5 D3;0.25 <music21.note.Rest,rest;0.25 D3;0.25 <music21.note.Rest,rest;0.25 A3,D3;0.5 D3;0.25 <music21.note.Rest,rest;0.25 D3;0.25 <music21.note.Rest,rest;0.25 F3;0.25 <music21.note.Rest,rest;0.25 B3,E3;0.5 E3;0.25 <music21.note.Rest,rest;0.25 E3;0.25 <music21.note.Rest,rest;0.25 B3,E3;0.5 E3;0.25 <music21.note.Rest,rest;0.25 E3;0.25 <music21.note.Rest,rest;0.25 B3,E3;0.5 E3;0.25 <music21.note.Rest,rest;0.25 E3;0.25 <music21.note.Rest,rest;0.25 B3,E3;0.5 E3;0.25 <music21.note.Rest,rest;0.25 E3;0.25 <music21.note.Rest,rest;0.25 A3,D3;0.5 D3;0.25 <music21.note.Rest,rest;0.25 D3;0.25 <music21.note.Rest,rest;0.25 A3,D3;0.5 D3;0.25 <music21.note.Rest,rest;0.25 D3;0.25 <music21.note.Rest,rest;0.25 A3,D3;0.5 D3;0.25 <music21.note.Rest,rest;0.25 D3;0.25 <music21.note.Rest,rest;0.25 F3;0.25 <music21.note.Rest,rest;0.25 B3,E3;0.5 E3;0.25 <music21.note.Rest,rest;0.25 E3;0.25 <music21.\n",
            "\n",
            "[1250 | 1743.35] loss=0.23 avg=0.18\n",
            "[1300 | 1806.99] loss=0.13 avg=0.18\n",
            "======== SAMPLE 1 ========\n",
            "2,D3;1.0 D3;0.25 <music21.note.Rest,rest;0.25 D4,A3,D3;1.0 D3;0.25 <music21.note.Rest,rest;0.25 D4,A3,D3;1.0 D3;0.25 <music21.note.Rest,rest;0.25 D4,A3,D3;1.0 D3;0.25 <music21.note.Rest,rest;0.25 D4;1.0 D3;0.25 <music21.note.Rest,rest;0.25 D4;1.0 D3;0.25 <music21.note.Rest,rest;0.25 D4;1.0 D3;0.25 <music21.note.Rest,rest;0.25 D4,B3,D3;1.0 D4,B3,D3;1.0 D4,B3,D3;1.0 D4,B3,D3;1.0 A4,F4,D4,D3;1.0 A4,F4,D4,D3;1.0 F4,C4,F3;1.0 F4,C4,F3;1.0 F4,C4,F3;1.0 C4,G3,C3;5.0 D4,A3,D3;1.0 D4,A3,D3;1.0 D4,A3,D3;1.0 E4,B3,E3;1.0 E4,B3,E3;1.0 E4,B3,E3;1.0 G4,D4,G3;1.0 G4,D4,G3;1.0 D4,A3,D3;1.0 D4,A3,D3;1.0 A4,F4,D4,D3;1.0 A4,F4,D4,D3;1.0 F4,C4,F3;1.0 F4,C4,F3;1.0 D4,A3,D3;1.0 D4,A3,D3;1.0 A4,F4,D4,D3;1.0 E4,B3,E3;1.0 E4,B3,E3;1.0 E4,B3,E3;1.0 G4,D4,G3;1.0 G4,D4,G3;1.0 D4,A3,D3;1.0 D4,A3,D3;1.0 A4,F4,D4,D3;1.0 A4,F4,D4,D3;1.0 F4,C4,F3;1.0 F4,C4,F3;1.0 F4,C4,F3;1.0 C4,G3,C3;5.0 D4,A3,D3;1.0 D4,A3,D3;1.0 D4,A3,D3;1.0 G4,D4,G3;1.0 G4,D4,G3;1.0 D4,A3,D3;1.0 D4,A3,D3;1.0 A4,F4,D4,D3;1.0 A4,F4,D4,D3;1.0 F4,C4,F3;1.0 F4,C4,F3;1.0 F4,C4,F3;1.0 C4,G3,C3;5.0 D4,A3,D3;1.0 D4,A3,D3;1.0 D4,A3,D3;1.0 A4,F4,D4,D3;1.0 A4,F4,D4,D3;1.0 F4,C4,F3;1.0 F4,C4,F3;1.0 F4,C4,F3;1.0 C4,G3,C3;5.0 D4,A3,D3;1.0 D4,A3,D3;1.0 D4,A3,D3;1.0 D4,A3,D3;1.0 A4,F\n",
            "\n",
            "[1350 | 1882.41] loss=0.16 avg=0.18\n",
            "[1400 | 1946.09] loss=0.15 avg=0.18\n",
            "======== SAMPLE 1 ========\n",
            "3,D3;0.5 D3;0.5 D3;0.5 D3;0.5 D3;0.5 D3;0.5 D3;0.5 D3;0.5 E3;0.5 E3;0.5 E3;0.5 E3;0.5 E3;0.5 E3;0.5 E3;0.5 E3;0.5 E3;0.5 E3;0.5 E3;0.5 E3;0.5 E3;0.5 E3;0.5 E3;0.5 E3;0.5 E3;0.5 E3;0.5 E3;0.5 E3;0.5 E3;0.5 E3;0.5 E3;0.5 E3;0.5 E3;0.5 E3;0.5 E3;0.5 E3;0.5 E3;0.5 E3;0.5 E3;0.5 E3;0.5 E3;0.5 E3;0.5 E3;0.5 E3;0.5 E3;0.5 E3;0.5 E3;0.5 E3;0.5 E3;0.5 E3;0.5 E3;0.5 E3;0.5 E3;0.5 E3;0.5 E3;0.5 E3;0.5 E3;0.5 E3;0.5 E3;0.5 G3,C3;1.0 B3,E3;1.0 E3;0.5 D3;0.5 E3;0.5 C3;0.5 B2;0.5 G3,C3;1.0 C3;0.5 D3;0.5 C3;0.5 D3;0.5 B2;0.5 D3,G2;1.0 G2;0.5 D3,G2;0.5 C#3,G2;1.0 C3;0.5 D3;0.5 C3;0.5 D3;0.5 B2;0.5 C3,F2;1.0 F2;0.5 F2;0.5 C3,F2;1.0 F2;0.5 C3,F2;0.5 F3,B-2;1.0 B-2;0.5 F3,B-2;1.0 B-2;0.5 F3;0.5 C3;0.5 D3,G2;1.0 G2;0.5 D3,G2;0.5 C#3,G2;1.0 C3;0.5 D3;0.5 C3;0.5 D3;0.5 B2;0.5 C3,F2;1.0 F2;0.5 F2;0.5 C3,F2;1.0 F2;0.5 C3,F2;0.5 F3,B-2;1.0 B-2;0.5 F3,B-2;1.0 B-2;0.5 F3;0.5 C3;0.5 D3,G2;0.5 F3,B-2;0.5 F2;0.5 F2;0.5 C3;0.5 D3,G2;0.5 F3,B-2;0.5 F2;0.5 F2;0.5 E-3,G#2;0.5 F2;0.5 F2;0.5 F2;0.5 F#3,B2;1.0 B-2;0.5 F3,B-2;1.0 B-2;0.5 F3;0.5 C3;0.5 D3,G2;1.0 G2;0.5 D3,G2;0.5 C#3,G2;1.0 C3;0.5 D3;0.5 C3;0.5 D3;0.5 B2;0.5 C3,F2;1.0 F2;0.5 F2;0.5 C3,F2;1.0 F2;0.5 C3,F2;0.5 F3,B-2;1.0 B-2;0.5 F3\n",
            "\n",
            "[1450 | 2021.44] loss=0.18 avg=0.18\n",
            "[1500 | 2085.08] loss=0.16 avg=0.18\n",
            "Saving checkpoint/run1/model-1500\n",
            "======== SAMPLE 1 ========\n",
            "A4;0.25 <music21.note.Rest,rest;0.25 G4,D4,G3,G3,B3,D3;1.0 D4,A3,D3;1.0 A3,E3,A2;1.5 A3,E3,A2;0.25 <music21.note.Rest,rest;0.25 A3,E3,A2;0.25 A3,E3,A2;0.25 <music21.note.Rest,rest;0.25 A2;0.25 E3,A2;0.25 <music21.note.Rest,rest;0.25 E3,A2;0.25 <music21.note.Rest,rest;0.25 E3,A2;0.25 <music21.note.Rest,rest;0.25 E3,A2;0.25 <music21.note.Rest,rest;0.25 E3,A2;0.25 <music21.note.Rest,rest;0.25 E3,A2;0.25 <music21.note.Rest,rest;0.25 E3,A2;0.25 <music21.note.Rest,rest;0.25 E3,A2;0.25 <music21.note.Rest,rest;0.25 A3;0.5 A3;0.5 G3;0.5 G3;0.5 F#3;0.5 G3;0.5 G3;0.5 G3;1.5 B2,E2;0.25 <music21.note.Rest,rest;0.25 G3,G3,C3;0.75 E3,A2;0.75 D3,G2;0.5 E3,A2;0.75 E2;0.25 <music21.note.Rest,rest;0.25 E2;0.25 <music21.note.Rest,rest;0.25 E2;0.25 <music21.note.Rest,rest;0.25 E2;0.25 <music21.note.Rest,rest;0.25 E2;0.25 <music21.note.Rest,rest;0.25 E2;0.25 <music21.note.Rest,rest;0.25 E3,A2;0.25 <music21.note.Rest,rest;0.25 E2;0.25 <music21.note.Rest,rest;0.25 E2;0.25 <music21.note.Rest,rest;0.25 E2;0.25 <music21.note.Rest,rest;0.25 E2;0.25 <music21.note.Rest,rest;0.25 E3,A2;0.25 <music21.note.Rest,rest;0.25 E2;0.25 <music21.note.Rest,rest;0.25 E2;0.25 <music21.note.Rest,rest;0.25 E2;0.25 <music21.note.Rest,rest;0.25 E2;0.25 <music21.note.Rest,rest;0.25 E2;0.25 <music21.note.Rest,rest;0.25 E2;0.25 <music21.note.Rest,rest;0.25 E3,A2;0.25 <music21.note.Rest,rest;0.25 E2;0.25 <music21.note.Rest,rest;0.25 E2;0.25 <music21.note.Rest,rest;0.25 E2;0.25 <music21.note.Rest,rest;0.25 E2;0.25 <music21.note.Rest,rest;0.25 E2;0.25 <music21.note.Rest,rest;0.25 E2;0.25 <music21.note.Rest,rest;0.25 E2;0.25 <music21.note.Rest,rest;0.25 E3,A2;0.25 <music21.note.Rest,rest;0.25 E2;0.25 <music21.note.Rest,rest;0.25 E2;0.25 <music21.note.Rest,rest;0.25 E2;0.25 <music21.note.Rest,rest;0.25 E2;0.25 <music21.note.Rest,rest;0.25 E3,A2\n",
            "\n",
            "[1550 | 2163.01] loss=0.11 avg=0.17\n",
            "[1600 | 2226.67] loss=0.18 avg=0.17\n",
            "======== SAMPLE 1 ========\n",
            "0.25 <music21.note.Rest,rest;0.25 E4,A3,D3;1.0 A2;0.5 F4,C4,F3;2.0 A3,E3,A2;1.0 E4,B3,E3;1.0 A2;0.5 F4,C4,F3;6.0 F4,C4,F3;1.75 F4,C4,F3;2.25 F4,C4,F3;1.25 F4,C4,F3;2.5 C4,G3,C3;1.75 C4,G3,C3;2.25 C4,G3,C3;1.25 C4,G3,C3;2.5 A3,E3,A2;1.75 A3,E3,A2;2.0 D4,A3,D3;1.5 A3,E3,A2;1.75 A3,E3,A2;2.0 C4,G3,C3;1.75 C4,G3,C3;2.25 C4,G3,C3;1.25 C4,G3,C3;2.5 A3,E3,A2;1.75 A3,E3,A2;2.0 D4,A3,D3;1.5 A3,E3,A2;1.75 A3,E3,A2;2.0 C4,G3,C3;1.75 C4,G3,C3;2.25 C4,G3,C3;1.25 C4,G3,C3;2.5 A3,E3,A2;1.75 A3,E3,A2;2.0 D4,A3,D3;1.5 A3,E3,A2;1.75 A3,E3,A2;2.0 C4,G3,C3;1.75 C4,G3,C3;2.25 C4,G3,C3;1.25 C4,G3,C3;2.5 A3,E3,A2;1.75 A3,E3,A2;2.0 D4,A3,D3;1.5 A3,E3,A2;1.75 A3,E3,A2;2.0 C4,G3,C3;1.75 C4,G3,C3;2.25 C4,G3,C3;1.25 C4,G3,C3;2.0 E2;0.25 E2;0.25 E2;0.25 E2;0.25 E2;0.25 E2;0.25 E2;0.25 E2;0.25 B3,G3,E3,E2;1.0 E2;0.25 E2;0.25 E2;0.25 E2;0.25 E2;0.25 E2;0.25 E2;0.25 E2;0.25 E2;0.25 C4,G3,E3,E2;1.0 E2;0.25 E2;0.25 E2;0.25 E2;0.25 E2;0.25 E2;0.25 E2;0.25 E2;0.25 E2;0.25 A3,D3;1.0 D4,A3,D3;0.5 D4,A3,D3;0.5 A3,D3;0.5 F3,B-2;0.75 G3,C3;0.75 A3,D3;1.0 D4,A3,D3;0.25 <music21.note.Rest,rest;0.25 F3,B-2;0.5 B-3,F3,B-2;0.5 B-3,F3,B-2;0.5 F3,B-2;0.5 G3,C3;1.0 E3,A2;1.0 E2;0.25 E2;0.25 E2;0.25 E2;0.25 E2;0.25 E2;0.25 E2;0.25 E2;0.25 C3,E-3;0.75 D3,\n",
            "\n",
            "[1650 | 2301.98] loss=0.11 avg=0.17\n",
            "[1700 | 2365.64] loss=0.19 avg=0.17\n",
            "======== SAMPLE 1 ========\n",
            "A4;1.5 G4;2.0 E4;0.5 E4;0.25 E4;0.25 B4;2.5 F#4;0.5 E4;0.5 E4;0.5 G4;1.75 E4;0.25 G4;3.0 E2;0.25 E2;0.25 C3;0.25 G3;0.25 E2;0.25 G3;0.25 B3;0.25 G3;0.25 E2;0.25 G3;0.25 E4;0.5 E4;0.25 E4;0.25 B4;2.5 F#4;0.5 E4;0.5 E4;1.75 G4;0.25 F#4;0.5 E4;0.5 B4;0.5 B4;2.5 F#4;0.5 E4;0.5 E4;0.25 E4;0.25 B4;2.5 F#4;0.5 E4;0.5 E4;0.25 E4;0.25 B4;2.5 F#4;0.5 E4;0.5 E4;1.75 G4;0.25 F#4;0.5 E4;0.5 B4;0.5 B4;2.5 F#4;0.5 E4;0.5 E4;0.25 E4;0.25 B4;2.5 F#4;0.5 E4;0.5 E4;1.75 G4;0.25 F#4;0.5 E4;0.5 B4;0.5 B4;2.5 F#4;0.5 E4;0.5 E4;0.25 E4;0.25 B4;2.5 F#4;0.5 E4;0.5 E4;1.75 G4;0.25 F#4;0.5 E4;0.5 B4;0.5 B4;2.5 F#4;0.5 E4;0.5 E4;0.25 E4;0.25 B4;2.5 F#4;0.5 E4;0.5 E4;1.75 G4;0.25 F#4;0.5 E4;0.5 B4;0.5 B4;2.5 F#4;0.5 E4;0.5 E4;1.75 G4;0.25 F#4;0.5 E4;0.5 B4;0.5 B4;2.5 F#4;0.5 E4;0.5 E4;0.25 E4;0.25 B4;2.5 F#4;0.5 E4;0.5 E4;1.75 G4;0.25 F#4;0.5 E4;0.5 B4;0.5 B4;2.5 F#4;0.5 E4;0.5 E4;0.25 E4;0.25 B4;2.5 F#4;0.5 E4;0.5 E4;1.75 G4;0.25 F#4;0.5 E4;0.5 B4;0.5 B4;2.5 F#4;0.5 E4;0.5 E4;0.25 E4;0.25 B4;2.5 F#4;0.5 E4;1.75 G4;0.25 F#4;0.5 E4;0.5 B4;0.5 B4;2.5 F#4;0.5 E4;0.5 E4;1.75 G4;0.25 F#4;0.5 E4;0.5 B4;0.5 B4;2.5 F#4;0.5 E4;0.5 E4;1.75 G4;0.25 F#4;0.5 E4;0.5 B4;0.5 B4;2.5 F#4;0.5 E4;0.5 E4;1.75 G4;0.25 F#4;0.5 E4;0.5 B4;0.5 B4;2.5 F#4;0.5 E4;0.5 E4;1.75 G4;0.25\n",
            "\n",
            "[1750 | 2441.00] loss=0.10 avg=0.17\n",
            "[1800 | 2504.57] loss=0.23 avg=0.17\n",
            "======== SAMPLE 1 ========\n",
            "0.25 E2;0.25 E2;0.25 E2;0.25 E2;0.25 <music21.note.Rest,rest;0.25 E2;0.25 E2;0.25 E2;0.25 E2;0.25 E2;0.25 <music21.note.Rest,rest;0.25 E2;0.25 E2;0.25 C4,G3,C3;1.0 D4,A3,D3;1.0 B3,E3;0.25 <music21.note.Rest,rest;0.25 B3,E3;0.25 <music21.note.Rest,rest;0.25 E4,B3,E3;2.0 G3,D3;0.25 <music21.note.Rest,rest;0.25 G3,D3;0.25 <music21.note.Rest,rest;0.25 D4,A3,D3;2.0 C4,G3,C3;1.0 D4,A3,D3;1.0 B3,E3;0.25 <music21.note.Rest,rest;0.25 B3,E3;0.25 <music21.note.Rest,rest;0.25 E4,B3,E3;2.0 G3,D3;0.25 <music21.note.Rest,rest;0.25 G3,D3;0.25 <music21.note.Rest,rest;0.25 D4,A3,D3;2.0 C4,G3,C3;1.0 D4,A3,D3;1.0 B3,E3;0.25 <music21.note.Rest,rest;0.25 B3,E3;0.25 <music21.note.Rest,rest;0.25 E4,B3,E3;2.0 G3,D3;0.25 <music21.note.Rest,rest;0.25 G3,D3;0.25 <music21.note.Rest,rest;0.25 D4,A3,D3;2.0 C4,G3,C3;1.0 D4,A3,D3;1.0 B3,E3;0.25 <music21.note.Rest,rest;0.25 B3,E3;0.25 <music21.note.Rest,rest;0.25 E4,B3,E3;2.0 G3,D3;0.25 <music21.note.Rest,rest;0.25 G3,D3;0.25 <music21.note.Rest,rest;0.25 D4,A3,D3;2.0 C4,G3,C3;1.0 D4,A3,D3;1.0 B3,E3;0.25 <music21.note.Rest,rest;0.25 B3,E3;0.25 <music21.note.Rest,rest;0.25 E4,B3,E3;2.0 G3,D3;0.25 <music21.note.Rest,rest;0.25 G3,D3;0.25 <music21.note.Rest,rest;0.25 D4,A3,D3;2.0 C4,G3,C3;1.0 D4,A3,D3;1.0 B3,E3;0.25 <music21.note.Rest,rest;0.25 B3,E3;0.25 <music21.note.Rest,rest;0.25 E4,B3,E3;2.0 G3,D3;0.25 <music21.note.Rest,rest;0.25 G3,D3;0.25 <music21.note.Rest,rest;0.25 D4,A3,D3;2.0 C4,G3,C3;1.0 D4,A3,D3;1.0 B3,E3;0.25 <music21.note.Rest,rest;0.25 B3,E3;0.25 <music21.note.Rest,rest;0.25 E4,B3,E3;2.0 G3,D3;0.25 <music21.note.Rest,rest;0.25 G3,D3;0.25 <music\n",
            "\n",
            "[1850 | 2579.99] loss=0.12 avg=0.17\n",
            "[1900 | 2643.66] loss=0.10 avg=0.17\n",
            "======== SAMPLE 1 ========\n",
            "3,E3;0.25 <music21.note.Rest,rest;0.25 E3,B3;0.25 <music21.note.Rest,rest;0.25 E3,B3;0.25 <music21.note.Rest,rest;0.25 E3,B3;0.25 <music21.note.Rest,rest;0.25 E3,B3;0.25 <music21.note.Rest,rest;0.25 E3,B3;0.25 <music21.note.Rest,rest;0.25 D3,A3;0.25 <music21.note.Rest,rest;0.25 D4,G3;0.25 <music21.note.Rest,rest;0.25 E3,B3;0.25 <music21.note.Rest,rest;0.25 E3,B3;0.25 <music21.note.Rest,rest;0.25 E3,B3;0.25 <music21.note.Rest,rest;0.25 E3,B3;0.25 <music21.note.Rest,rest;0.25 E3,B3;0.25 <music21.note.Rest,rest;0.25 E3,B3;0.25 <music21.note.Rest,rest;0.25 E3,B3;0.25 <music21.note.Rest,rest;0.25 E3,B3;0.25 <music21.note.Rest,rest;0.25 E3,B3;0.25 <music21.note.Rest,rest;0.25 E3,B3;0.25 <music21.note.Rest,rest;0.25 D3,A3;0.25 <music21.note.Rest,rest;0.25 D4,G3;0.25 <music21.note.Rest,rest;0.25 E3,B3;0.25 <music21.note.Rest,rest;0.25 E3,B3;0.25 <music21.note.Rest,rest;0.25 E3,B3;0.25 <music21.note.Rest,rest;0.25 E3,B3;0.25 <music21.note.Rest,rest;0.25 E3,B3;0.25 <music21.note.Rest,rest;0.25 E3,B3;0.25 <music21.note.Rest,rest;0.25 E3,B3;0.25 <music21.note.Rest,rest;0.25 E3,B3;0.25 <music21.note.Rest,rest;0.25 E3,B3;0.25 <music21.note.Rest,rest;0.25 E3,B3;0.25 <music21.note.Rest,rest;0.25 D3,A3;0.25 <music21.note.Rest,rest;0.25 D4,G3;0.25 <music21.note.Rest,rest;0.25 E3,B3;0.25 <music21.note.Rest,rest;0.25 E3,B3;0.25 <music21.note.Rest,rest;0.25 E3,B3;0.25 <music21.note.Rest,rest;0.25 E3,B3;0.25 <music21.note.Rest,rest;0.25 E3,B3;0.25 <music21.note.Rest,rest;0.25 E3,B3;0.25 <music21.note.Rest,rest;0.25 E3,B3;0.25 <music21.note.Rest,rest;0.25 E3,B3;0.25 <music21.note.Rest,rest;0.25 E3,B3;0.25 <music21.note.Rest,rest;0.25 E3,B3;0.25 <music21.note.Rest,rest;0.25 G3,C3;0.25 <music21.note.Rest,rest;0.25 G3,C3;0.25 <music21.note.Rest,rest;0.25 G3,C3;0.25 <music21.note.Rest,rest;0.25 G3,C3;0.25 <music21.note.Rest,rest;0.25 G3,C3;0.25 <music21.\n",
            "\n",
            "[1950 | 2719.05] loss=0.14 avg=0.17\n",
            "[2000 | 2782.68] loss=0.13 avg=0.17\n",
            "Saving checkpoint/run1/model-2000\n"
          ]
        }
      ]
    },
    {
      "cell_type": "markdown",
      "metadata": {
        "id": "IXSuTNERaw6K"
      },
      "source": [
        "After the model is trained, you can copy the checkpoint folder to your own Google Drive.\n",
        "\n",
        "If you want to download it to your personal computer, it's strongly recommended you copy it there first, then download from Google Drive. The checkpoint folder is copied as a `.rar` compressed file; you can download it and uncompress it locally."
      ]
    },
    {
      "cell_type": "code",
      "metadata": {
        "colab": {
          "base_uri": "https://localhost:8080/"
        },
        "id": "MMYneF419JuI",
        "outputId": "fc345079-28b1-4482-839d-4bb0c5f5b6de"
      },
      "source": [
        "!zip -r /content/samples.zip /content/samples/run1"
      ],
      "execution_count": null,
      "outputs": [
        {
          "output_type": "stream",
          "name": "stdout",
          "text": [
            "  adding: content/samples/run1/ (stored 0%)\n",
            "  adding: content/samples/run1/samples-1501 (deflated 91%)\n",
            "  adding: content/samples/run1/samples-1901 (deflated 95%)\n",
            "  adding: content/samples/run1/samples-501 (deflated 81%)\n",
            "  adding: content/samples/run1/samples-701 (deflated 85%)\n",
            "  adding: content/samples/run1/samples-1001 (deflated 82%)\n",
            "  adding: content/samples/run1/samples-801 (deflated 88%)\n",
            "  adding: content/samples/run1/samples-1201 (deflated 94%)\n",
            "  adding: content/samples/run1/samples-401 (deflated 95%)\n",
            "  adding: content/samples/run1/samples-1601 (deflated 81%)\n",
            "  adding: content/samples/run1/samples-301 (deflated 95%)\n",
            "  adding: content/samples/run1/samples-201 (deflated 78%)\n",
            "  adding: content/samples/run1/samples-1101 (deflated 85%)\n",
            "  adding: content/samples/run1/samples-601 (deflated 77%)\n",
            "  adding: content/samples/run1/samples-1801 (deflated 93%)\n",
            "  adding: content/samples/run1/samples-901 (deflated 85%)\n",
            "  adding: content/samples/run1/samples-1301 (deflated 89%)\n",
            "  adding: content/samples/run1/samples-1401 (deflated 88%)\n",
            "  adding: content/samples/run1/samples-1701 (deflated 91%)\n",
            "  adding: content/samples/run1/samples-101 (deflated 86%)\n"
          ]
        }
      ]
    },
    {
      "cell_type": "markdown",
      "metadata": {
        "id": "87L_wYc09t9w"
      },
      "source": [
        "# Generate N songs"
      ]
    },
    {
      "cell_type": "code",
      "metadata": {
        "id": "uyVort0Y9y5E"
      },
      "source": [
        "def generate_n_songs(n):\n",
        "    generated_music = gpt2.generate(sess, run_name='run1', return_as_list=True, nsamples=n)\n",
        "    for i in range(len(generated_music)):\n",
        "        f = open(drive_path + \"GPT_2_outputs/\" + f\"gen_music_{i}.txt\", \"w\")\n",
        "        f.write(generated_music[i])\n",
        "        f.close()"
      ],
      "execution_count": null,
      "outputs": []
    },
    {
      "cell_type": "code",
      "metadata": {
        "id": "9goLcsOh-9Wh"
      },
      "source": [
        "generate_n_songs(20)"
      ],
      "execution_count": null,
      "outputs": []
    },
    {
      "cell_type": "code",
      "metadata": {
        "id": "VHdTL8NDbAh3"
      },
      "source": [
        "gpt2.copy_checkpoint_to_gdrive(run_name='run1')"
      ],
      "execution_count": null,
      "outputs": []
    },
    {
      "cell_type": "markdown",
      "metadata": {
        "id": "qQJgV_b4bmzd"
      },
      "source": [
        "You're done! Feel free to go to the **Generate Text From The Trained Model** section to generate text based on your retrained model."
      ]
    },
    {
      "cell_type": "markdown",
      "metadata": {
        "id": "pel-uBULXO2L"
      },
      "source": [
        "## Load a Trained Model Checkpoint\n",
        "\n",
        "Running the next cell will copy the `.rar` checkpoint file from your Google Drive into the Colaboratory VM."
      ]
    },
    {
      "cell_type": "code",
      "metadata": {
        "id": "DCcx5u7sbPTD"
      },
      "source": [
        "gpt2.copy_checkpoint_from_gdrive(run_name='run1')"
      ],
      "execution_count": null,
      "outputs": []
    },
    {
      "cell_type": "markdown",
      "metadata": {
        "id": "RTa6zf3e_9gV"
      },
      "source": [
        "The next cell will allow you to load the retrained model checkpoint + metadata necessary to generate text.\n",
        "\n",
        "**IMPORTANT NOTE:** If you want to rerun this cell, **restart the VM first** (Runtime -> Restart Runtime). You will need to rerun imports but not recopy files."
      ]
    },
    {
      "cell_type": "code",
      "metadata": {
        "id": "-fxL77nvAMAX"
      },
      "source": [
        "sess = gpt2.start_tf_sess()\n",
        "gpt2.load_gpt2(sess, run_name='run1')"
      ],
      "execution_count": null,
      "outputs": []
    },
    {
      "cell_type": "markdown",
      "metadata": {
        "id": "ClJwpF_ACONp"
      },
      "source": [
        "## Generate Text From The Trained Model\n",
        "\n",
        "After you've trained the model or loaded a retrained model from checkpoint, you can now generate text. `generate` generates a single text from the loaded model."
      ]
    },
    {
      "cell_type": "code",
      "metadata": {
        "id": "4RNY6RBI9LmL"
      },
      "source": [
        "generated_music = gpt2.generate(sess, run_name='run1', return_as_list=True)[0]"
      ],
      "execution_count": null,
      "outputs": []
    },
    {
      "cell_type": "code",
      "metadata": {
        "id": "Qcmcz5MgoPR5"
      },
      "source": [
        "f = open(\"gen_music1.txt\", \"w\")\n",
        "f.write(generated_music)\n",
        "f.close()"
      ],
      "execution_count": null,
      "outputs": []
    },
    {
      "cell_type": "markdown",
      "metadata": {
        "id": "oF4-PqF0Fl7R"
      },
      "source": [
        "If you're creating an API based on your model and need to pass the generated text elsewhere, you can do `text = gpt2.generate(sess, return_as_list=True)[0]`\n",
        "\n",
        "You can also pass in a `prefix` to the generate function to force the text to start with a given character sequence and generate text from there (good if you add an indicator when the text starts).\n",
        "\n",
        "You can also generate multiple texts at a time by specifing `nsamples`. Unique to GPT-2, you can pass a `batch_size` to generate multiple samples in parallel, giving a massive speedup (in Colaboratory, set a maximum of 20 for `batch_size`).\n",
        "\n",
        "Other optional-but-helpful parameters for `gpt2.generate` and friends:\n",
        "\n",
        "*  **`length`**: Number of tokens to generate (default 1023, the maximum)\n",
        "* **`temperature`**: The higher the temperature, the crazier the text (default 0.7, recommended to keep between 0.7 and 1.0)\n",
        "* **`top_k`**: Limits the generated guesses to the top *k* guesses (default 0 which disables the behavior; if the generated output is super crazy, you may want to set `top_k=40`)\n",
        "* **`top_p`**: Nucleus sampling: limits the generated guesses to a cumulative probability. (gets good results on a dataset with `top_p=0.9`)\n",
        "* **`truncate`**: Truncates the input text until a given sequence, excluding that sequence (e.g. if `truncate='<|endoftext|>'`, the returned text will include everything before the first `<|endoftext|>`). It may be useful to combine this with a smaller `length` if the input texts are short.\n",
        "*  **`include_prefix`**: If using `truncate` and `include_prefix=False`, the specified `prefix` will not be included in the returned text."
      ]
    },
    {
      "cell_type": "code",
      "metadata": {
        "id": "8DKMc0fiej4N",
        "colab": {
          "base_uri": "https://localhost:8080/"
        },
        "outputId": "c294c08d-3659-4aa2-851b-5ba12c397a1e"
      },
      "source": [
        "gpt2.generate(sess,\n",
        "              length=250,\n",
        "              temperature=0.7,\n",
        "              prefix=\"LORD\",\n",
        "              nsamples=5,\n",
        "              batch_size=5\n",
        "              )"
      ],
      "execution_count": null,
      "outputs": [
        {
          "output_type": "stream",
          "text": [
            "LORD WILLOUGHBY:\n",
            "And, Lord Marshal, to the Tower.\n",
            "\n",
            "KING RICHARD III:\n",
            "As near the time when we were born,\n",
            "Let not our graces enter into this story,\n",
            "For God's sake, the whole truth shall stand:\n",
            "The selfsame night God gave the sun,\n",
            "Let angels, and stars enter, and the four cardinal directions,\n",
            "Be satisfied, that the power thereof is determined:\n",
            "For we are ere now the prime of corn,\n",
            "Or of harvest, harvest being done,\n",
            "Caught in the vice of night, and fall asleep.\n",
            "O Clifford, how we lay to bed! Clifford, I am loath\n",
            "To sleep under this false bed of roses:\n",
            "I think, to mellow out this bed, I may by a jest\n",
            "Be naked and naked and naked! If night be pall'd,\n",
            "All self-portents must fall asleep;\n",
            "Unless, God forbid, thou art not in bed.\n",
            "\n",
            "QUEEN ELIZABETH:\n",
            "I am, and therefore, as thou suspect'st, O.K.\n",
            "Where there is no strength in the dark,\n",
            "Never will I rest, till thou bring me\n",
            "====================\n",
            "LORD WILLOUGHBY:\n",
            "The morn to pray is vain;\n",
            "Nor doth it offend the holy church,\n",
            "Nor any holy man. Come, go with me;\n",
            "I will not linger behind.\n",
            "\n",
            "ANGELO:\n",
            "Will you go with us to the prison,\n",
            "Or are you banished i' the town?\n",
            "\n",
            "PROSPERO:\n",
            "What is the matter\n",
            "That inquiring minds learn how there comes\n",
            "To solitary confession and carouse\n",
            "Of its own accord so rarely majestical\n",
            "And seldom of such meritoriousness?\n",
            "\n",
            "ANGELO:\n",
            "What is the matter?\n",
            "\n",
            "PROSPERO:\n",
            "Go you along; thou'rt damnable.\n",
            "\n",
            "ANGELO:\n",
            "I will not go with thee, unless thou go'st\n",
            "To geld a brace of draymen and use them\n",
            "For digging iron. Will you go along?\n",
            "\n",
            "PROSPERO:\n",
            "No, not with thee: I am with thee, stick\n",
            "Your neck out for the best bawd.\n",
            "\n",
            "ANGELO:\n",
            "Thou art the first bawd in the way:\n",
            "Take him to prison, and try him thine own\n",
            "====================\n",
            "LORD STANLEY:\n",
            "You have not forthrunne me.\n",
            "\n",
            "HERMIONE:\n",
            "Go in to him, Marshal.\n",
            "\n",
            "LEONTES:\n",
            "Where is the other Warwick, that we\n",
            "Have named for him?\n",
            "\n",
            "HERMIONE:\n",
            "He is hastily arrived, good sir,\n",
            "From the most hospitable succor: his gracious wife\n",
            "Shall be your goodbye, to make speedy exchange\n",
            "Of late; for Warwick, being gone, is fled,\n",
            "To hold up such favours as you can find\n",
            "Containing him welcome.\n",
            "\n",
            "LEONTES:\n",
            "Where's Warwick? speak with him.\n",
            "\n",
            "HERMIONE:\n",
            "There shall be none that speak so well against him.\n",
            "I have heard it said, and many a wise man\n",
            "Hath she lived, that it is better to be wrongful\n",
            "Than the under-minded men in general: but it is better\n",
            "To be wrongful than wrong yourself to be mew'd,\n",
            "Or in any thing else be mew'd mew'd.\n",
            "I am ashamed, that men of state are never\n",
            "Of what we mean to look for, but we speak\n",
            "To show a\n",
            "====================\n",
            "LORD WILLOUGHBY:\n",
            "Here comes his sword to kill me.\n",
            "\n",
            "CATESBY:\n",
            "I thought your majesty\n",
            "Would have bid the Duke of Norfolk,\n",
            "Who hath not been seen before, present\n",
            "Before she went to the feast.\n",
            "\n",
            "KING RICHARD III:\n",
            "Well, say you, Duke of Norfolk,\n",
            "Join with him and three hundred thousand others;\n",
            "Let her come and join with him;\n",
            "Sound the first-rate sword, and he shall join with her;\n",
            "And, after her, shall she become a king.\n",
            "\n",
            "NORTHUMBERLAND:\n",
            "Well said, my sovereign:\n",
            "Join with her; let her join with him;\n",
            "This shall be such a sword as she to him.\n",
            "\n",
            "KING RICHARD III:\n",
            "So said, my sovereign.\n",
            "\n",
            "NORTHUMBERLAND:\n",
            "And so shall she join with him.\n",
            "\n",
            "KING RICHARD III:\n",
            "So said, her majesty.\n",
            "\n",
            "NORTHUMBERLAND:\n",
            "And so shall she join with him.\n",
            "\n",
            "KING RICHARD III:\n",
            "Brother, your grace is come to Sandyshire from France.\n",
            "\n",
            "DUKE OF YORK:\n",
            "Where did you\n",
            "====================\n",
            "LORD WILLOUGHBY:\n",
            "That beastly wretch,\n",
            "Whose head and horns resemble the horns of a bear,\n",
            "While he himself is obscured in shadows;\n",
            "And thus we chain him up and hang him:\n",
            "The sentence for the ordering the rebels\n",
            "In this foul act of war is, for the time he lived\n",
            "I doubt not but the Lord Protector would\n",
            "Require the head and horns of that beastly wretch\n",
            "To carve a glorious figure in their own territories:\n",
            "And for this same they slandered both their fathers,\n",
            "And all the rest in their sleep. But, O, my soul,\n",
            "I see where thou conterest me and what I mean,\n",
            "By striking him to the ground that tread'st not upon you,\n",
            "And that will not hence: I am for thee, love.\n",
            "Thy deathly scar calls shall be drown'd out\n",
            "In the clean air that bears your name; thy banishment\n",
            "Will be sudden and in the flame of his flames:\n",
            "Where he stands before the fire, poor soul, die:\n",
            "His execution shall be sudden, and in the flame\n",
            "Of his flames his flames: hence shall thy souls rest,\n",
            "And never hear from thee\n",
            "====================\n"
          ],
          "name": "stdout"
        }
      ]
    },
    {
      "cell_type": "markdown",
      "metadata": {
        "id": "zjjEN2Tafhl2"
      },
      "source": [
        "For bulk generation, you can generate a large amount of text to a file and sort out the samples locally on your computer. The next cell will generate a generated text file with a unique timestamp.\n",
        "\n",
        "You can rerun the cells as many times as you want for even more generated texts!"
      ]
    },
    {
      "cell_type": "code",
      "metadata": {
        "id": "Fa6p6arifSL0"
      },
      "source": [
        "gen_file = 'gpt2_gentext_{:%Y%m%d_%H%M%S}.txt'.format(datetime.utcnow())\n",
        "\n",
        "gpt2.generate_to_file(sess,\n",
        "                      destination_path=gen_file,\n",
        "                      length=500,\n",
        "                      temperature=0.7,\n",
        "                      nsamples=100,\n",
        "                      batch_size=20\n",
        "                      )"
      ],
      "execution_count": null,
      "outputs": []
    },
    {
      "cell_type": "code",
      "metadata": {
        "id": "0-LRex8lfv1g"
      },
      "source": [
        "# may have to run twice to get file to download\n",
        "files.download(gen_file)"
      ],
      "execution_count": null,
      "outputs": []
    },
    {
      "cell_type": "markdown",
      "metadata": {
        "id": "QQAN3M6RT7Kj"
      },
      "source": [
        "## Generate Text From The Pretrained Model\n",
        "\n",
        "If you want to generate text from the pretrained model, not a finetuned model, pass `model_name` to `gpt2.load_gpt2()` and `gpt2.generate()`.\n",
        "\n",
        "This is currently the only way to generate text from the 774M or 1558M models with this notebook."
      ]
    },
    {
      "cell_type": "code",
      "metadata": {
        "id": "hsUd_jHgUZnD",
        "colab": {
          "base_uri": "https://localhost:8080/",
          "height": 158
        },
        "outputId": "4e0c8a3f-3527-41c4-e3fe-3357f3f8f6c2"
      },
      "source": [
        "model_name = \"774M\"\n",
        "\n",
        "gpt2.download_gpt2(model_name=model_name)"
      ],
      "execution_count": null,
      "outputs": [
        {
          "output_type": "stream",
          "text": [
            "Fetching checkpoint: 1.05Mit [00:00, 354Mit/s]                                                      \n",
            "Fetching encoder.json: 1.05Mit [00:00, 131Mit/s]                                                    \n",
            "Fetching hparams.json: 1.05Mit [00:00, 279Mit/s]                                                    \n",
            "Fetching model.ckpt.data-00000-of-00001: 3.10Git [00:23, 131Mit/s]                                  \n",
            "Fetching model.ckpt.index: 1.05Mit [00:00, 380Mit/s]                                                \n",
            "Fetching model.ckpt.meta: 2.10Mit [00:00, 226Mit/s]                                                 \n",
            "Fetching vocab.bpe: 1.05Mit [00:00, 199Mit/s]                                                       \n"
          ],
          "name": "stderr"
        }
      ]
    },
    {
      "cell_type": "code",
      "metadata": {
        "id": "BAe4NpKNUj2C",
        "colab": {
          "base_uri": "https://localhost:8080/",
          "height": 124
        },
        "outputId": "b09bfe1d-2ff8-4b8a-fffb-273d28d5d4ae"
      },
      "source": [
        "sess = gpt2.start_tf_sess()\n",
        "\n",
        "gpt2.load_gpt2(sess, model_name=model_name)"
      ],
      "execution_count": null,
      "outputs": [
        {
          "output_type": "stream",
          "text": [
            "WARNING: Logging before flag parsing goes to stderr.\n",
            "W0828 18:37:58.571830 139905369159552 deprecation.py:323] From /usr/local/lib/python3.6/dist-packages/tensorflow/python/training/saver.py:1276: checkpoint_exists (from tensorflow.python.training.checkpoint_management) is deprecated and will be removed in a future version.\n",
            "Instructions for updating:\n",
            "Use standard file APIs to check for files with this prefix.\n"
          ],
          "name": "stderr"
        },
        {
          "output_type": "stream",
          "text": [
            "Loading pretrained model models/774M/model.ckpt\n"
          ],
          "name": "stdout"
        }
      ]
    },
    {
      "cell_type": "code",
      "metadata": {
        "id": "-xInIZKaU104",
        "colab": {
          "base_uri": "https://localhost:8080/",
          "height": 797
        },
        "outputId": "56348e28-7d08-45e3-c859-f26c0efd066d"
      },
      "source": [
        "gpt2.generate(sess,\n",
        "              model_name=model_name,\n",
        "              prefix=\"The secret of life is\",\n",
        "              length=100,\n",
        "              temperature=0.7,\n",
        "              top_p=0.9,\n",
        "              nsamples=5,\n",
        "              batch_size=5\n",
        "              )"
      ],
      "execution_count": null,
      "outputs": [
        {
          "output_type": "stream",
          "text": [
            "The secret of life is that it's really easy to make it complicated,\" said Bill Nye, the host of the popular science show \"Bill Nye the Science Guy.\" \"And this is one of the reasons why we all need to be smarter about science, because we can't keep up with the amazing things that are going on all the time.\"\n",
            "\n",
            "While Nye is correct that \"everything that's going on all the time\" is making the world a better place, he misses the point. This is not\n",
            "====================\n",
            "The secret of life is in the rhythm of the universe. It's not a mystery. It's not a mystery to me. It's the nature of the universe. It's the beauty of the universe. It's the way the universe works. It's the way the universe is. It's the way the universe is going to work. It's the way the universe is. It's the way the universe is. It's the way the universe is. It's the way the universe is. It's the way\n",
            "====================\n",
            "The secret of life is in the universe.\n",
            "\n",
            "\n",
            "-\n",
            "\n",
            "The Red Devil\n",
            "\n",
            "It's the end of the world as we know it, and the only thing that can save us is a band of super-powered individuals known as the Red Devil.\n",
            "\n",
            "\n",
            "The Red Devil is a group of super-powered individuals who are seeking the secret of life and the only way they know how to do it is by taking on the roles of a variety of different super-powered individuals, each of which has their own\n",
            "====================\n",
            "The secret of life is in the mixing of the elements, and it is the mixing of the elements that makes life possible.\"\n",
            "\n",
            "But in the world of food science, the idea of a \"complex\" or \"complexity\" is almost entirely imaginary.\n",
            "\n",
            "As a scientist, I'm fascinated by the question of how life first began.\n",
            "\n",
            "It's the question that drives my work and the work of the scientists who work on it.\n",
            "\n",
            "My current research is exploring how microbes work in the first moments\n",
            "====================\n",
            "The secret of life is the journey of life, the search for the truth.\n",
            "\n",
            "4.4.2. The last thing you know\n",
            "\n",
            "There is nothing more important than the last thing you know.\n",
            "\n",
            "4.4.3. The little things that make all the difference\n",
            "\n",
            "The little things that make all the difference.\n",
            "\n",
            "4.4.4. The truth is the best teacher\n",
            "\n",
            "The truth is the best teacher.\n",
            "\n",
            "4.4.5. The truth is what\n",
            "====================\n"
          ],
          "name": "stdout"
        }
      ]
    },
    {
      "cell_type": "markdown",
      "metadata": {
        "id": "ig-KVgkCDCKD"
      },
      "source": [
        "# Etcetera\n",
        "\n",
        "If the notebook has errors (e.g. GPU Sync Fail), force-kill the Colaboratory virtual machine and restart it with the command below:"
      ]
    },
    {
      "cell_type": "code",
      "metadata": {
        "id": "rIHiVP53FnsX"
      },
      "source": [
        "!kill -9 -1"
      ],
      "execution_count": null,
      "outputs": []
    },
    {
      "cell_type": "markdown",
      "metadata": {
        "id": "wmTXWNUygS5E"
      },
      "source": [
        "# LICENSE\n",
        "\n",
        "MIT License\n",
        "\n",
        "Copyright (c) 2019 Max Woolf\n",
        "\n",
        "Permission is hereby granted, free of charge, to any person obtaining a copy\n",
        "of this software and associated documentation files (the \"Software\"), to deal\n",
        "in the Software without restriction, including without limitation the rights\n",
        "to use, copy, modify, merge, publish, distribute, sublicense, and/or sell\n",
        "copies of the Software, and to permit persons to whom the Software is\n",
        "furnished to do so, subject to the following conditions:\n",
        "\n",
        "The above copyright notice and this permission notice shall be included in all\n",
        "copies or substantial portions of the Software.\n",
        "\n",
        "THE SOFTWARE IS PROVIDED \"AS IS\", WITHOUT WARRANTY OF ANY KIND, EXPRESS OR\n",
        "IMPLIED, INCLUDING BUT NOT LIMITED TO THE WARRANTIES OF MERCHANTABILITY,\n",
        "FITNESS FOR A PARTICULAR PURPOSE AND NONINFRINGEMENT. IN NO EVENT SHALL THE\n",
        "AUTHORS OR COPYRIGHT HOLDERS BE LIABLE FOR ANY CLAIM, DAMAGES OR OTHER\n",
        "LIABILITY, WHETHER IN AN ACTION OF CONTRACT, TORT OR OTHERWISE, ARISING FROM,\n",
        "OUT OF OR IN CONNECTION WITH THE SOFTWARE OR THE USE OR OTHER DEALINGS IN THE\n",
        "SOFTWARE."
      ]
    }
  ]
}