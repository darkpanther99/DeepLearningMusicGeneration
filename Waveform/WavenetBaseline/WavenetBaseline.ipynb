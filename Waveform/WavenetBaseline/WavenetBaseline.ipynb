{
  "nbformat": 4,
  "nbformat_minor": 0,
  "metadata": {
    "colab": {
      "name": "WavenetBaseline.ipynb",
      "provenance": [],
      "collapsed_sections": []
    },
    "kernelspec": {
      "name": "python3",
      "display_name": "Python 3"
    },
    "language_info": {
      "name": "python"
    },
    "accelerator": "GPU"
  },
  "cells": [
    {
      "cell_type": "code",
      "metadata": {
        "colab": {
          "base_uri": "https://localhost:8080/"
        },
        "id": "k4LggPxGJG1f",
        "outputId": "a7986f57-8271-4ede-a93f-09cc6fcab1a8"
      },
      "source": [
        "from google.colab import drive\n",
        "import librosa\n",
        "from tqdm import tqdm\n",
        "import matplotlib.pyplot as plt\n",
        "import numpy as np\n",
        "import os\n",
        "\n",
        "drive.mount('/content/drive', force_remount=False)\n",
        "\n",
        "DATA_PATH=\"/content/drive/My Drive/MLFolder/Onlab/Waveform_classical/\""
      ],
      "execution_count": null,
      "outputs": [
        {
          "output_type": "stream",
          "name": "stdout",
          "text": [
            "Mounted at /content/drive\n"
          ]
        }
      ]
    },
    {
      "cell_type": "code",
      "metadata": {
        "colab": {
          "base_uri": "https://localhost:8080/"
        },
        "id": "QVaV-OQky0z6",
        "outputId": "3772958d-a871-48a0-8af0-576d50500e0a"
      },
      "source": [
        "!nvidia-smi"
      ],
      "execution_count": null,
      "outputs": [
        {
          "output_type": "stream",
          "name": "stdout",
          "text": [
            "Mon Oct  4 12:16:14 2021       \n",
            "+-----------------------------------------------------------------------------+\n",
            "| NVIDIA-SMI 470.74       Driver Version: 460.32.03    CUDA Version: 11.2     |\n",
            "|-------------------------------+----------------------+----------------------+\n",
            "| GPU  Name        Persistence-M| Bus-Id        Disp.A | Volatile Uncorr. ECC |\n",
            "| Fan  Temp  Perf  Pwr:Usage/Cap|         Memory-Usage | GPU-Util  Compute M. |\n",
            "|                               |                      |               MIG M. |\n",
            "|===============================+======================+======================|\n",
            "|   0  Tesla K80           Off  | 00000000:00:04.0 Off |                    0 |\n",
            "| N/A   33C    P8    27W / 149W |      0MiB / 11441MiB |      0%      Default |\n",
            "|                               |                      |                  N/A |\n",
            "+-------------------------------+----------------------+----------------------+\n",
            "                                                                               \n",
            "+-----------------------------------------------------------------------------+\n",
            "| Processes:                                                                  |\n",
            "|  GPU   GI   CI        PID   Type   Process name                  GPU Memory |\n",
            "|        ID   ID                                                   Usage      |\n",
            "|=============================================================================|\n",
            "|  No running processes found                                                 |\n",
            "+-----------------------------------------------------------------------------+\n"
          ]
        }
      ]
    },
    {
      "cell_type": "code",
      "metadata": {
        "colab": {
          "base_uri": "https://localhost:8080/"
        },
        "id": "llpTjewuPtxU",
        "outputId": "f683b997-ef2e-46ad-9a87-854f198d379e"
      },
      "source": [
        "full = []\n",
        "\n",
        "for idx, file in enumerate(tqdm(os.listdir(DATA_PATH), position=0, leave=True)):\n",
        "    song, sr = librosa.load(os.path.join(DATA_PATH, file), sr=16000)\n",
        "    for i in song:\n",
        "        full.append(i)\n",
        "    if idx == 0:\n",
        "        fullnp = np.asarray(full)\n",
        "    else :\n",
        "        fullnp = np.concatenate((fullnp, np.asarray(full)))\n",
        "    full = []"
      ],
      "execution_count": null,
      "outputs": [
        {
          "output_type": "stream",
          "name": "stderr",
          "text": [
            "\r  0%|          | 0/12 [00:00<?, ?it/s]/usr/local/lib/python3.7/dist-packages/librosa/core/audio.py:165: UserWarning: PySoundFile failed. Trying audioread instead.\n",
            "  warnings.warn(\"PySoundFile failed. Trying audioread instead.\")\n",
            "  8%|▊         | 1/12 [01:28<16:17, 88.88s/it]/usr/local/lib/python3.7/dist-packages/librosa/core/audio.py:165: UserWarning: PySoundFile failed. Trying audioread instead.\n",
            "  warnings.warn(\"PySoundFile failed. Trying audioread instead.\")\n",
            " 17%|█▋        | 2/12 [02:52<14:17, 85.79s/it]/usr/local/lib/python3.7/dist-packages/librosa/core/audio.py:165: UserWarning: PySoundFile failed. Trying audioread instead.\n",
            "  warnings.warn(\"PySoundFile failed. Trying audioread instead.\")\n",
            " 25%|██▌       | 3/12 [04:40<14:24, 96.02s/it]/usr/local/lib/python3.7/dist-packages/librosa/core/audio.py:165: UserWarning: PySoundFile failed. Trying audioread instead.\n",
            "  warnings.warn(\"PySoundFile failed. Trying audioread instead.\")\n",
            " 33%|███▎      | 4/12 [06:09<12:25, 93.22s/it]/usr/local/lib/python3.7/dist-packages/librosa/core/audio.py:165: UserWarning: PySoundFile failed. Trying audioread instead.\n",
            "  warnings.warn(\"PySoundFile failed. Trying audioread instead.\")\n",
            " 42%|████▏     | 5/12 [07:43<10:54, 93.46s/it]/usr/local/lib/python3.7/dist-packages/librosa/core/audio.py:165: UserWarning: PySoundFile failed. Trying audioread instead.\n",
            "  warnings.warn(\"PySoundFile failed. Trying audioread instead.\")\n",
            " 50%|█████     | 6/12 [09:32<09:52, 98.74s/it]/usr/local/lib/python3.7/dist-packages/librosa/core/audio.py:165: UserWarning: PySoundFile failed. Trying audioread instead.\n",
            "  warnings.warn(\"PySoundFile failed. Trying audioread instead.\")\n",
            " 58%|█████▊    | 7/12 [11:02<07:59, 95.83s/it]/usr/local/lib/python3.7/dist-packages/librosa/core/audio.py:165: UserWarning: PySoundFile failed. Trying audioread instead.\n",
            "  warnings.warn(\"PySoundFile failed. Trying audioread instead.\")\n",
            " 67%|██████▋   | 8/12 [13:12<07:07, 106.79s/it]/usr/local/lib/python3.7/dist-packages/librosa/core/audio.py:165: UserWarning: PySoundFile failed. Trying audioread instead.\n",
            "  warnings.warn(\"PySoundFile failed. Trying audioread instead.\")\n",
            " 75%|███████▌  | 9/12 [15:04<05:25, 108.54s/it]/usr/local/lib/python3.7/dist-packages/librosa/core/audio.py:165: UserWarning: PySoundFile failed. Trying audioread instead.\n",
            "  warnings.warn(\"PySoundFile failed. Trying audioread instead.\")\n",
            " 83%|████████▎ | 10/12 [16:21<03:17, 98.67s/it]/usr/local/lib/python3.7/dist-packages/librosa/core/audio.py:165: UserWarning: PySoundFile failed. Trying audioread instead.\n",
            "  warnings.warn(\"PySoundFile failed. Trying audioread instead.\")\n",
            " 92%|█████████▏| 11/12 [17:59<01:38, 98.41s/it]/usr/local/lib/python3.7/dist-packages/librosa/core/audio.py:165: UserWarning: PySoundFile failed. Trying audioread instead.\n",
            "  warnings.warn(\"PySoundFile failed. Trying audioread instead.\")\n",
            "100%|██████████| 12/12 [19:22<00:00, 96.84s/it]\n"
          ]
        }
      ]
    },
    {
      "cell_type": "code",
      "metadata": {
        "colab": {
          "base_uri": "https://localhost:8080/"
        },
        "id": "hJm40iJtyCjI",
        "outputId": "af9d6a5b-dcee-45f6-df8d-2877c3713379"
      },
      "source": [
        "print(fullnp.shape)"
      ],
      "execution_count": null,
      "outputs": [
        {
          "output_type": "stream",
          "name": "stdout",
          "text": [
            "(388633088,)\n"
          ]
        }
      ]
    },
    {
      "cell_type": "code",
      "metadata": {
        "id": "0TGiaXcwLHMx"
      },
      "source": [
        "np.save(\"schubert.npy\", fullnp)"
      ],
      "execution_count": null,
      "outputs": []
    },
    {
      "cell_type": "markdown",
      "metadata": {
        "id": "DA6OzOGxLaNu"
      },
      "source": [
        "Parsing the 12 songs with 16 kHz sampling rate takes around 23 minutes. An alternative can be to save it to a binary .npy file, but it takes up 1.48 Gigabytes of space."
      ]
    },
    {
      "cell_type": "code",
      "metadata": {
        "id": "Y7_OgfzF63Md"
      },
      "source": [
        "scaling_factor = np.max(np.abs(fullnp))"
      ],
      "execution_count": null,
      "outputs": []
    },
    {
      "cell_type": "code",
      "metadata": {
        "id": "qLKx50c_cg4B"
      },
      "source": [
        "scaled = fullnp / scaling_factor"
      ],
      "execution_count": null,
      "outputs": []
    },
    {
      "cell_type": "code",
      "metadata": {
        "id": "qAacr8DG62lJ"
      },
      "source": [
        "from tensorflow.keras.utils import to_categorical\n",
        "\n",
        "def mulaw_encode(samples):\n",
        "    # Encode to -128..127. Return 0..255.\n",
        "    return (librosa.mu_compress(samples, quantize=True) + 128).astype('uint8')\n",
        "\n",
        "def mulaw_decode(samples):\n",
        "    # Rescale from 0..255 to -128..127. Decode to -1.0..1.0.\n",
        "    return (librosa.mu_expand(samples.astype('int16') - 128, quantize=True) )"
      ],
      "execution_count": null,
      "outputs": []
    },
    {
      "cell_type": "code",
      "metadata": {
        "id": "YqezTeqV6-bm"
      },
      "source": [
        "encoded = mulaw_encode(scaled)"
      ],
      "execution_count": null,
      "outputs": []
    },
    {
      "cell_type": "code",
      "metadata": {
        "id": "juow3rCNRCQ6"
      },
      "source": [
        "from tensorflow.keras.utils import Sequence\n",
        "\n",
        "SLICE_SIZE = 2000\n",
        "\n",
        "class MyDatagen(Sequence):\n",
        "  def __init__(self, list_IDs, batch_size=16, dim=(SLICE_SIZE), shuffle=True, validation=False):\n",
        "    'Initialization'\n",
        "    self.dim = dim\n",
        "    self.batch_size = batch_size\n",
        "    self.list_IDs = list_IDs\n",
        "    self.shuffle = shuffle\n",
        "    self.validation=validation\n",
        "    self.on_epoch_end()\n",
        "\n",
        "  def __len__(self):\n",
        "    return int(np.floor(len(self.list_IDs) / self.batch_size))\n",
        "\n",
        "  def __getitem__(self, index):\n",
        "    # Generate indexes of the batch\n",
        "    indexes = self.indexes[index*self.batch_size:(index+1)*self.batch_size]\n",
        "\n",
        "    # Find list of IDs\n",
        "    list_IDs_temp = [self.list_IDs[k] for k in indexes]\n",
        "\n",
        "    # Generate data\n",
        "    X, y = self.__data_generation(list_IDs_temp)\n",
        "\n",
        "    return X, y\n",
        "\n",
        "  def on_epoch_end(self):\n",
        "      #Updates indexes after each epoch\n",
        "    self.indexes = np.arange(len(self.list_IDs))\n",
        "    if self.shuffle == True:\n",
        "      np.random.shuffle(self.indexes)\n",
        "\n",
        "  def __data_generation(self, list_IDs_temp):\n",
        "    #Generates data containing batch_size samples\n",
        "    if self.validation:\n",
        "      X = np.empty((self.batch_size, self.dim))\n",
        "      y = np.empty((self.batch_size, 256))\n",
        "\n",
        "      # Generate data\n",
        "      for i, ID in enumerate(list_IDs_temp):\n",
        "        X[i] = encoded[ID:ID+SLICE_SIZE]/255.0\n",
        "\n",
        "        y[i] = to_categorical(encoded[ID+SLICE_SIZE], num_classes=256)\n",
        "\n",
        "      return X, y\n",
        "    else:\n",
        "      X = np.empty((self.batch_size, self.dim))\n",
        "      y = np.empty((self.batch_size, 256))\n",
        "\n",
        "      # Generate data\n",
        "      for i, ID in enumerate(list_IDs_temp):\n",
        "        X[i] = encoded[ID:ID+SLICE_SIZE]/255.0\n",
        "\n",
        "        y[i] = to_categorical(encoded[ID+SLICE_SIZE], num_classes=256)\n",
        "\n",
        "      return X, y"
      ],
      "execution_count": null,
      "outputs": []
    },
    {
      "cell_type": "code",
      "metadata": {
        "id": "Qg4GChlUcona"
      },
      "source": [
        "from tensorflow.keras.layers import Conv1D, Flatten, Dense, Input, Activation, Add, Multiply\n",
        "from tensorflow.keras.models import Model\n",
        "\n",
        "# This code served as inspiration:\n",
        "# https://github.com/usernaamee/keras-wavenet\n",
        "def wavenet_residual_block(filters, kernel_size, dilation_rate):\n",
        "    def f(input_):\n",
        "        conv = Conv1D(filters, kernel_size, \n",
        "                      dilation_rate=dilation_rate,\n",
        "                      padding='same')(input_)\n",
        "        tanh = Activation('tanh')(conv)\n",
        "        sigmoid = Activation('sigmoid')(conv)\n",
        "        merged = Multiply()([tanh, sigmoid])\n",
        "        out = Conv1D(1, 1, padding='same')(merged)\n",
        "        residual_out = Add()([out, input_])\n",
        "        skip_out = Activation('relu')(out)\n",
        "        return residual_out, skip_out\n",
        "    return f\n",
        "\n",
        "def wavenet_convolutional_layers(filters, kernel_size, depth):\n",
        "    def f(input_):\n",
        "        residual_out = input_\n",
        "        skip_connections = []\n",
        "        for i in range(1, depth+1):\n",
        "            dilation_rate = 2**(i % 9)\n",
        "            residual_out, skip_out = wavenet_residual_block(\n",
        "                filters, kernel_size, dilation_rate)(residual_out)\n",
        "            skip_connections.append(skip_out)\n",
        "        sum_ = Add()(skip_connections)\n",
        "        act = Activation('relu')(sum_)\n",
        "        return act\n",
        "    return f\n",
        "\n",
        "def wavenet(input_size):\n",
        "    input_ = Input(shape=(input_size, 1))\n",
        "    net = wavenet_convolutional_layers(128, 3, 30)(input_)\n",
        "    net = Conv1D(2048, 3, padding='same')(net)\n",
        "    net = Conv1D(256, 3, padding='same')(net)\n",
        "    net = Flatten()(net)\n",
        "    net = Dense(256, activation='softmax')(net)\n",
        "    model = Model(input_, net)\n",
        "    model.compile(loss='categorical_crossentropy', optimizer='adam')\n",
        "    return model\n",
        "\n",
        "\n",
        "model = wavenet(SLICE_SIZE)"
      ],
      "execution_count": null,
      "outputs": []
    },
    {
      "cell_type": "code",
      "metadata": {
        "id": "cVf6hISTMmsP",
        "colab": {
          "base_uri": "https://localhost:8080/"
        },
        "outputId": "17b1d2f1-ec97-4971-ba59-c96075503e3c"
      },
      "source": [
        "model.summary()"
      ],
      "execution_count": null,
      "outputs": [
        {
          "output_type": "stream",
          "name": "stdout",
          "text": [
            "Model: \"model\"\n",
            "__________________________________________________________________________________________________\n",
            "Layer (type)                    Output Shape         Param #     Connected to                     \n",
            "==================================================================================================\n",
            "input_1 (InputLayer)            [(None, 2000, 1)]    0                                            \n",
            "__________________________________________________________________________________________________\n",
            "conv1d (Conv1D)                 (None, 2000, 128)    512         input_1[0][0]                    \n",
            "__________________________________________________________________________________________________\n",
            "activation (Activation)         (None, 2000, 128)    0           conv1d[0][0]                     \n",
            "__________________________________________________________________________________________________\n",
            "activation_1 (Activation)       (None, 2000, 128)    0           conv1d[0][0]                     \n",
            "__________________________________________________________________________________________________\n",
            "multiply (Multiply)             (None, 2000, 128)    0           activation[0][0]                 \n",
            "                                                                 activation_1[0][0]               \n",
            "__________________________________________________________________________________________________\n",
            "conv1d_1 (Conv1D)               (None, 2000, 1)      129         multiply[0][0]                   \n",
            "__________________________________________________________________________________________________\n",
            "add (Add)                       (None, 2000, 1)      0           conv1d_1[0][0]                   \n",
            "                                                                 input_1[0][0]                    \n",
            "__________________________________________________________________________________________________\n",
            "conv1d_2 (Conv1D)               (None, 2000, 128)    512         add[0][0]                        \n",
            "__________________________________________________________________________________________________\n",
            "activation_3 (Activation)       (None, 2000, 128)    0           conv1d_2[0][0]                   \n",
            "__________________________________________________________________________________________________\n",
            "activation_4 (Activation)       (None, 2000, 128)    0           conv1d_2[0][0]                   \n",
            "__________________________________________________________________________________________________\n",
            "multiply_1 (Multiply)           (None, 2000, 128)    0           activation_3[0][0]               \n",
            "                                                                 activation_4[0][0]               \n",
            "__________________________________________________________________________________________________\n",
            "conv1d_3 (Conv1D)               (None, 2000, 1)      129         multiply_1[0][0]                 \n",
            "__________________________________________________________________________________________________\n",
            "add_1 (Add)                     (None, 2000, 1)      0           conv1d_3[0][0]                   \n",
            "                                                                 add[0][0]                        \n",
            "__________________________________________________________________________________________________\n",
            "conv1d_4 (Conv1D)               (None, 2000, 128)    512         add_1[0][0]                      \n",
            "__________________________________________________________________________________________________\n",
            "activation_6 (Activation)       (None, 2000, 128)    0           conv1d_4[0][0]                   \n",
            "__________________________________________________________________________________________________\n",
            "activation_7 (Activation)       (None, 2000, 128)    0           conv1d_4[0][0]                   \n",
            "__________________________________________________________________________________________________\n",
            "multiply_2 (Multiply)           (None, 2000, 128)    0           activation_6[0][0]               \n",
            "                                                                 activation_7[0][0]               \n",
            "__________________________________________________________________________________________________\n",
            "conv1d_5 (Conv1D)               (None, 2000, 1)      129         multiply_2[0][0]                 \n",
            "__________________________________________________________________________________________________\n",
            "add_2 (Add)                     (None, 2000, 1)      0           conv1d_5[0][0]                   \n",
            "                                                                 add_1[0][0]                      \n",
            "__________________________________________________________________________________________________\n",
            "conv1d_6 (Conv1D)               (None, 2000, 128)    512         add_2[0][0]                      \n",
            "__________________________________________________________________________________________________\n",
            "activation_9 (Activation)       (None, 2000, 128)    0           conv1d_6[0][0]                   \n",
            "__________________________________________________________________________________________________\n",
            "activation_10 (Activation)      (None, 2000, 128)    0           conv1d_6[0][0]                   \n",
            "__________________________________________________________________________________________________\n",
            "multiply_3 (Multiply)           (None, 2000, 128)    0           activation_9[0][0]               \n",
            "                                                                 activation_10[0][0]              \n",
            "__________________________________________________________________________________________________\n",
            "conv1d_7 (Conv1D)               (None, 2000, 1)      129         multiply_3[0][0]                 \n",
            "__________________________________________________________________________________________________\n",
            "add_3 (Add)                     (None, 2000, 1)      0           conv1d_7[0][0]                   \n",
            "                                                                 add_2[0][0]                      \n",
            "__________________________________________________________________________________________________\n",
            "conv1d_8 (Conv1D)               (None, 2000, 128)    512         add_3[0][0]                      \n",
            "__________________________________________________________________________________________________\n",
            "activation_12 (Activation)      (None, 2000, 128)    0           conv1d_8[0][0]                   \n",
            "__________________________________________________________________________________________________\n",
            "activation_13 (Activation)      (None, 2000, 128)    0           conv1d_8[0][0]                   \n",
            "__________________________________________________________________________________________________\n",
            "multiply_4 (Multiply)           (None, 2000, 128)    0           activation_12[0][0]              \n",
            "                                                                 activation_13[0][0]              \n",
            "__________________________________________________________________________________________________\n",
            "conv1d_9 (Conv1D)               (None, 2000, 1)      129         multiply_4[0][0]                 \n",
            "__________________________________________________________________________________________________\n",
            "add_4 (Add)                     (None, 2000, 1)      0           conv1d_9[0][0]                   \n",
            "                                                                 add_3[0][0]                      \n",
            "__________________________________________________________________________________________________\n",
            "conv1d_10 (Conv1D)              (None, 2000, 128)    512         add_4[0][0]                      \n",
            "__________________________________________________________________________________________________\n",
            "activation_15 (Activation)      (None, 2000, 128)    0           conv1d_10[0][0]                  \n",
            "__________________________________________________________________________________________________\n",
            "activation_16 (Activation)      (None, 2000, 128)    0           conv1d_10[0][0]                  \n",
            "__________________________________________________________________________________________________\n",
            "multiply_5 (Multiply)           (None, 2000, 128)    0           activation_15[0][0]              \n",
            "                                                                 activation_16[0][0]              \n",
            "__________________________________________________________________________________________________\n",
            "conv1d_11 (Conv1D)              (None, 2000, 1)      129         multiply_5[0][0]                 \n",
            "__________________________________________________________________________________________________\n",
            "add_5 (Add)                     (None, 2000, 1)      0           conv1d_11[0][0]                  \n",
            "                                                                 add_4[0][0]                      \n",
            "__________________________________________________________________________________________________\n",
            "conv1d_12 (Conv1D)              (None, 2000, 128)    512         add_5[0][0]                      \n",
            "__________________________________________________________________________________________________\n",
            "activation_18 (Activation)      (None, 2000, 128)    0           conv1d_12[0][0]                  \n",
            "__________________________________________________________________________________________________\n",
            "activation_19 (Activation)      (None, 2000, 128)    0           conv1d_12[0][0]                  \n",
            "__________________________________________________________________________________________________\n",
            "multiply_6 (Multiply)           (None, 2000, 128)    0           activation_18[0][0]              \n",
            "                                                                 activation_19[0][0]              \n",
            "__________________________________________________________________________________________________\n",
            "conv1d_13 (Conv1D)              (None, 2000, 1)      129         multiply_6[0][0]                 \n",
            "__________________________________________________________________________________________________\n",
            "add_6 (Add)                     (None, 2000, 1)      0           conv1d_13[0][0]                  \n",
            "                                                                 add_5[0][0]                      \n",
            "__________________________________________________________________________________________________\n",
            "conv1d_14 (Conv1D)              (None, 2000, 128)    512         add_6[0][0]                      \n",
            "__________________________________________________________________________________________________\n",
            "activation_21 (Activation)      (None, 2000, 128)    0           conv1d_14[0][0]                  \n",
            "__________________________________________________________________________________________________\n",
            "activation_22 (Activation)      (None, 2000, 128)    0           conv1d_14[0][0]                  \n",
            "__________________________________________________________________________________________________\n",
            "multiply_7 (Multiply)           (None, 2000, 128)    0           activation_21[0][0]              \n",
            "                                                                 activation_22[0][0]              \n",
            "__________________________________________________________________________________________________\n",
            "conv1d_15 (Conv1D)              (None, 2000, 1)      129         multiply_7[0][0]                 \n",
            "__________________________________________________________________________________________________\n",
            "add_7 (Add)                     (None, 2000, 1)      0           conv1d_15[0][0]                  \n",
            "                                                                 add_6[0][0]                      \n",
            "__________________________________________________________________________________________________\n",
            "conv1d_16 (Conv1D)              (None, 2000, 128)    512         add_7[0][0]                      \n",
            "__________________________________________________________________________________________________\n",
            "activation_24 (Activation)      (None, 2000, 128)    0           conv1d_16[0][0]                  \n",
            "__________________________________________________________________________________________________\n",
            "activation_25 (Activation)      (None, 2000, 128)    0           conv1d_16[0][0]                  \n",
            "__________________________________________________________________________________________________\n",
            "multiply_8 (Multiply)           (None, 2000, 128)    0           activation_24[0][0]              \n",
            "                                                                 activation_25[0][0]              \n",
            "__________________________________________________________________________________________________\n",
            "conv1d_17 (Conv1D)              (None, 2000, 1)      129         multiply_8[0][0]                 \n",
            "__________________________________________________________________________________________________\n",
            "add_8 (Add)                     (None, 2000, 1)      0           conv1d_17[0][0]                  \n",
            "                                                                 add_7[0][0]                      \n",
            "__________________________________________________________________________________________________\n",
            "conv1d_18 (Conv1D)              (None, 2000, 128)    512         add_8[0][0]                      \n",
            "__________________________________________________________________________________________________\n",
            "activation_27 (Activation)      (None, 2000, 128)    0           conv1d_18[0][0]                  \n",
            "__________________________________________________________________________________________________\n",
            "activation_28 (Activation)      (None, 2000, 128)    0           conv1d_18[0][0]                  \n",
            "__________________________________________________________________________________________________\n",
            "multiply_9 (Multiply)           (None, 2000, 128)    0           activation_27[0][0]              \n",
            "                                                                 activation_28[0][0]              \n",
            "__________________________________________________________________________________________________\n",
            "conv1d_19 (Conv1D)              (None, 2000, 1)      129         multiply_9[0][0]                 \n",
            "__________________________________________________________________________________________________\n",
            "add_9 (Add)                     (None, 2000, 1)      0           conv1d_19[0][0]                  \n",
            "                                                                 add_8[0][0]                      \n",
            "__________________________________________________________________________________________________\n",
            "conv1d_20 (Conv1D)              (None, 2000, 128)    512         add_9[0][0]                      \n",
            "__________________________________________________________________________________________________\n",
            "activation_30 (Activation)      (None, 2000, 128)    0           conv1d_20[0][0]                  \n",
            "__________________________________________________________________________________________________\n",
            "activation_31 (Activation)      (None, 2000, 128)    0           conv1d_20[0][0]                  \n",
            "__________________________________________________________________________________________________\n",
            "multiply_10 (Multiply)          (None, 2000, 128)    0           activation_30[0][0]              \n",
            "                                                                 activation_31[0][0]              \n",
            "__________________________________________________________________________________________________\n",
            "conv1d_21 (Conv1D)              (None, 2000, 1)      129         multiply_10[0][0]                \n",
            "__________________________________________________________________________________________________\n",
            "add_10 (Add)                    (None, 2000, 1)      0           conv1d_21[0][0]                  \n",
            "                                                                 add_9[0][0]                      \n",
            "__________________________________________________________________________________________________\n",
            "conv1d_22 (Conv1D)              (None, 2000, 128)    512         add_10[0][0]                     \n",
            "__________________________________________________________________________________________________\n",
            "activation_33 (Activation)      (None, 2000, 128)    0           conv1d_22[0][0]                  \n",
            "__________________________________________________________________________________________________\n",
            "activation_34 (Activation)      (None, 2000, 128)    0           conv1d_22[0][0]                  \n",
            "__________________________________________________________________________________________________\n",
            "multiply_11 (Multiply)          (None, 2000, 128)    0           activation_33[0][0]              \n",
            "                                                                 activation_34[0][0]              \n",
            "__________________________________________________________________________________________________\n",
            "conv1d_23 (Conv1D)              (None, 2000, 1)      129         multiply_11[0][0]                \n",
            "__________________________________________________________________________________________________\n",
            "add_11 (Add)                    (None, 2000, 1)      0           conv1d_23[0][0]                  \n",
            "                                                                 add_10[0][0]                     \n",
            "__________________________________________________________________________________________________\n",
            "conv1d_24 (Conv1D)              (None, 2000, 128)    512         add_11[0][0]                     \n",
            "__________________________________________________________________________________________________\n",
            "activation_36 (Activation)      (None, 2000, 128)    0           conv1d_24[0][0]                  \n",
            "__________________________________________________________________________________________________\n",
            "activation_37 (Activation)      (None, 2000, 128)    0           conv1d_24[0][0]                  \n",
            "__________________________________________________________________________________________________\n",
            "multiply_12 (Multiply)          (None, 2000, 128)    0           activation_36[0][0]              \n",
            "                                                                 activation_37[0][0]              \n",
            "__________________________________________________________________________________________________\n",
            "conv1d_25 (Conv1D)              (None, 2000, 1)      129         multiply_12[0][0]                \n",
            "__________________________________________________________________________________________________\n",
            "add_12 (Add)                    (None, 2000, 1)      0           conv1d_25[0][0]                  \n",
            "                                                                 add_11[0][0]                     \n",
            "__________________________________________________________________________________________________\n",
            "conv1d_26 (Conv1D)              (None, 2000, 128)    512         add_12[0][0]                     \n",
            "__________________________________________________________________________________________________\n",
            "activation_39 (Activation)      (None, 2000, 128)    0           conv1d_26[0][0]                  \n",
            "__________________________________________________________________________________________________\n",
            "activation_40 (Activation)      (None, 2000, 128)    0           conv1d_26[0][0]                  \n",
            "__________________________________________________________________________________________________\n",
            "multiply_13 (Multiply)          (None, 2000, 128)    0           activation_39[0][0]              \n",
            "                                                                 activation_40[0][0]              \n",
            "__________________________________________________________________________________________________\n",
            "conv1d_27 (Conv1D)              (None, 2000, 1)      129         multiply_13[0][0]                \n",
            "__________________________________________________________________________________________________\n",
            "add_13 (Add)                    (None, 2000, 1)      0           conv1d_27[0][0]                  \n",
            "                                                                 add_12[0][0]                     \n",
            "__________________________________________________________________________________________________\n",
            "conv1d_28 (Conv1D)              (None, 2000, 128)    512         add_13[0][0]                     \n",
            "__________________________________________________________________________________________________\n",
            "activation_42 (Activation)      (None, 2000, 128)    0           conv1d_28[0][0]                  \n",
            "__________________________________________________________________________________________________\n",
            "activation_43 (Activation)      (None, 2000, 128)    0           conv1d_28[0][0]                  \n",
            "__________________________________________________________________________________________________\n",
            "multiply_14 (Multiply)          (None, 2000, 128)    0           activation_42[0][0]              \n",
            "                                                                 activation_43[0][0]              \n",
            "__________________________________________________________________________________________________\n",
            "conv1d_29 (Conv1D)              (None, 2000, 1)      129         multiply_14[0][0]                \n",
            "__________________________________________________________________________________________________\n",
            "add_14 (Add)                    (None, 2000, 1)      0           conv1d_29[0][0]                  \n",
            "                                                                 add_13[0][0]                     \n",
            "__________________________________________________________________________________________________\n",
            "conv1d_30 (Conv1D)              (None, 2000, 128)    512         add_14[0][0]                     \n",
            "__________________________________________________________________________________________________\n",
            "activation_45 (Activation)      (None, 2000, 128)    0           conv1d_30[0][0]                  \n",
            "__________________________________________________________________________________________________\n",
            "activation_46 (Activation)      (None, 2000, 128)    0           conv1d_30[0][0]                  \n",
            "__________________________________________________________________________________________________\n",
            "multiply_15 (Multiply)          (None, 2000, 128)    0           activation_45[0][0]              \n",
            "                                                                 activation_46[0][0]              \n",
            "__________________________________________________________________________________________________\n",
            "conv1d_31 (Conv1D)              (None, 2000, 1)      129         multiply_15[0][0]                \n",
            "__________________________________________________________________________________________________\n",
            "add_15 (Add)                    (None, 2000, 1)      0           conv1d_31[0][0]                  \n",
            "                                                                 add_14[0][0]                     \n",
            "__________________________________________________________________________________________________\n",
            "conv1d_32 (Conv1D)              (None, 2000, 128)    512         add_15[0][0]                     \n",
            "__________________________________________________________________________________________________\n",
            "activation_48 (Activation)      (None, 2000, 128)    0           conv1d_32[0][0]                  \n",
            "__________________________________________________________________________________________________\n",
            "activation_49 (Activation)      (None, 2000, 128)    0           conv1d_32[0][0]                  \n",
            "__________________________________________________________________________________________________\n",
            "multiply_16 (Multiply)          (None, 2000, 128)    0           activation_48[0][0]              \n",
            "                                                                 activation_49[0][0]              \n",
            "__________________________________________________________________________________________________\n",
            "conv1d_33 (Conv1D)              (None, 2000, 1)      129         multiply_16[0][0]                \n",
            "__________________________________________________________________________________________________\n",
            "add_16 (Add)                    (None, 2000, 1)      0           conv1d_33[0][0]                  \n",
            "                                                                 add_15[0][0]                     \n",
            "__________________________________________________________________________________________________\n",
            "conv1d_34 (Conv1D)              (None, 2000, 128)    512         add_16[0][0]                     \n",
            "__________________________________________________________________________________________________\n",
            "activation_51 (Activation)      (None, 2000, 128)    0           conv1d_34[0][0]                  \n",
            "__________________________________________________________________________________________________\n",
            "activation_52 (Activation)      (None, 2000, 128)    0           conv1d_34[0][0]                  \n",
            "__________________________________________________________________________________________________\n",
            "multiply_17 (Multiply)          (None, 2000, 128)    0           activation_51[0][0]              \n",
            "                                                                 activation_52[0][0]              \n",
            "__________________________________________________________________________________________________\n",
            "conv1d_35 (Conv1D)              (None, 2000, 1)      129         multiply_17[0][0]                \n",
            "__________________________________________________________________________________________________\n",
            "add_17 (Add)                    (None, 2000, 1)      0           conv1d_35[0][0]                  \n",
            "                                                                 add_16[0][0]                     \n",
            "__________________________________________________________________________________________________\n",
            "conv1d_36 (Conv1D)              (None, 2000, 128)    512         add_17[0][0]                     \n",
            "__________________________________________________________________________________________________\n",
            "activation_54 (Activation)      (None, 2000, 128)    0           conv1d_36[0][0]                  \n",
            "__________________________________________________________________________________________________\n",
            "activation_55 (Activation)      (None, 2000, 128)    0           conv1d_36[0][0]                  \n",
            "__________________________________________________________________________________________________\n",
            "multiply_18 (Multiply)          (None, 2000, 128)    0           activation_54[0][0]              \n",
            "                                                                 activation_55[0][0]              \n",
            "__________________________________________________________________________________________________\n",
            "conv1d_37 (Conv1D)              (None, 2000, 1)      129         multiply_18[0][0]                \n",
            "__________________________________________________________________________________________________\n",
            "add_18 (Add)                    (None, 2000, 1)      0           conv1d_37[0][0]                  \n",
            "                                                                 add_17[0][0]                     \n",
            "__________________________________________________________________________________________________\n",
            "conv1d_38 (Conv1D)              (None, 2000, 128)    512         add_18[0][0]                     \n",
            "__________________________________________________________________________________________________\n",
            "activation_57 (Activation)      (None, 2000, 128)    0           conv1d_38[0][0]                  \n",
            "__________________________________________________________________________________________________\n",
            "activation_58 (Activation)      (None, 2000, 128)    0           conv1d_38[0][0]                  \n",
            "__________________________________________________________________________________________________\n",
            "multiply_19 (Multiply)          (None, 2000, 128)    0           activation_57[0][0]              \n",
            "                                                                 activation_58[0][0]              \n",
            "__________________________________________________________________________________________________\n",
            "conv1d_39 (Conv1D)              (None, 2000, 1)      129         multiply_19[0][0]                \n",
            "__________________________________________________________________________________________________\n",
            "add_19 (Add)                    (None, 2000, 1)      0           conv1d_39[0][0]                  \n",
            "                                                                 add_18[0][0]                     \n",
            "__________________________________________________________________________________________________\n",
            "conv1d_40 (Conv1D)              (None, 2000, 128)    512         add_19[0][0]                     \n",
            "__________________________________________________________________________________________________\n",
            "activation_60 (Activation)      (None, 2000, 128)    0           conv1d_40[0][0]                  \n",
            "__________________________________________________________________________________________________\n",
            "activation_61 (Activation)      (None, 2000, 128)    0           conv1d_40[0][0]                  \n",
            "__________________________________________________________________________________________________\n",
            "multiply_20 (Multiply)          (None, 2000, 128)    0           activation_60[0][0]              \n",
            "                                                                 activation_61[0][0]              \n",
            "__________________________________________________________________________________________________\n",
            "conv1d_41 (Conv1D)              (None, 2000, 1)      129         multiply_20[0][0]                \n",
            "__________________________________________________________________________________________________\n",
            "add_20 (Add)                    (None, 2000, 1)      0           conv1d_41[0][0]                  \n",
            "                                                                 add_19[0][0]                     \n",
            "__________________________________________________________________________________________________\n",
            "conv1d_42 (Conv1D)              (None, 2000, 128)    512         add_20[0][0]                     \n",
            "__________________________________________________________________________________________________\n",
            "activation_63 (Activation)      (None, 2000, 128)    0           conv1d_42[0][0]                  \n",
            "__________________________________________________________________________________________________\n",
            "activation_64 (Activation)      (None, 2000, 128)    0           conv1d_42[0][0]                  \n",
            "__________________________________________________________________________________________________\n",
            "multiply_21 (Multiply)          (None, 2000, 128)    0           activation_63[0][0]              \n",
            "                                                                 activation_64[0][0]              \n",
            "__________________________________________________________________________________________________\n",
            "conv1d_43 (Conv1D)              (None, 2000, 1)      129         multiply_21[0][0]                \n",
            "__________________________________________________________________________________________________\n",
            "add_21 (Add)                    (None, 2000, 1)      0           conv1d_43[0][0]                  \n",
            "                                                                 add_20[0][0]                     \n",
            "__________________________________________________________________________________________________\n",
            "conv1d_44 (Conv1D)              (None, 2000, 128)    512         add_21[0][0]                     \n",
            "__________________________________________________________________________________________________\n",
            "activation_66 (Activation)      (None, 2000, 128)    0           conv1d_44[0][0]                  \n",
            "__________________________________________________________________________________________________\n",
            "activation_67 (Activation)      (None, 2000, 128)    0           conv1d_44[0][0]                  \n",
            "__________________________________________________________________________________________________\n",
            "multiply_22 (Multiply)          (None, 2000, 128)    0           activation_66[0][0]              \n",
            "                                                                 activation_67[0][0]              \n",
            "__________________________________________________________________________________________________\n",
            "conv1d_45 (Conv1D)              (None, 2000, 1)      129         multiply_22[0][0]                \n",
            "__________________________________________________________________________________________________\n",
            "add_22 (Add)                    (None, 2000, 1)      0           conv1d_45[0][0]                  \n",
            "                                                                 add_21[0][0]                     \n",
            "__________________________________________________________________________________________________\n",
            "conv1d_46 (Conv1D)              (None, 2000, 128)    512         add_22[0][0]                     \n",
            "__________________________________________________________________________________________________\n",
            "activation_69 (Activation)      (None, 2000, 128)    0           conv1d_46[0][0]                  \n",
            "__________________________________________________________________________________________________\n",
            "activation_70 (Activation)      (None, 2000, 128)    0           conv1d_46[0][0]                  \n",
            "__________________________________________________________________________________________________\n",
            "multiply_23 (Multiply)          (None, 2000, 128)    0           activation_69[0][0]              \n",
            "                                                                 activation_70[0][0]              \n",
            "__________________________________________________________________________________________________\n",
            "conv1d_47 (Conv1D)              (None, 2000, 1)      129         multiply_23[0][0]                \n",
            "__________________________________________________________________________________________________\n",
            "add_23 (Add)                    (None, 2000, 1)      0           conv1d_47[0][0]                  \n",
            "                                                                 add_22[0][0]                     \n",
            "__________________________________________________________________________________________________\n",
            "conv1d_48 (Conv1D)              (None, 2000, 128)    512         add_23[0][0]                     \n",
            "__________________________________________________________________________________________________\n",
            "activation_72 (Activation)      (None, 2000, 128)    0           conv1d_48[0][0]                  \n",
            "__________________________________________________________________________________________________\n",
            "activation_73 (Activation)      (None, 2000, 128)    0           conv1d_48[0][0]                  \n",
            "__________________________________________________________________________________________________\n",
            "multiply_24 (Multiply)          (None, 2000, 128)    0           activation_72[0][0]              \n",
            "                                                                 activation_73[0][0]              \n",
            "__________________________________________________________________________________________________\n",
            "conv1d_49 (Conv1D)              (None, 2000, 1)      129         multiply_24[0][0]                \n",
            "__________________________________________________________________________________________________\n",
            "add_24 (Add)                    (None, 2000, 1)      0           conv1d_49[0][0]                  \n",
            "                                                                 add_23[0][0]                     \n",
            "__________________________________________________________________________________________________\n",
            "conv1d_50 (Conv1D)              (None, 2000, 128)    512         add_24[0][0]                     \n",
            "__________________________________________________________________________________________________\n",
            "activation_75 (Activation)      (None, 2000, 128)    0           conv1d_50[0][0]                  \n",
            "__________________________________________________________________________________________________\n",
            "activation_76 (Activation)      (None, 2000, 128)    0           conv1d_50[0][0]                  \n",
            "__________________________________________________________________________________________________\n",
            "multiply_25 (Multiply)          (None, 2000, 128)    0           activation_75[0][0]              \n",
            "                                                                 activation_76[0][0]              \n",
            "__________________________________________________________________________________________________\n",
            "conv1d_51 (Conv1D)              (None, 2000, 1)      129         multiply_25[0][0]                \n",
            "__________________________________________________________________________________________________\n",
            "add_25 (Add)                    (None, 2000, 1)      0           conv1d_51[0][0]                  \n",
            "                                                                 add_24[0][0]                     \n",
            "__________________________________________________________________________________________________\n",
            "conv1d_52 (Conv1D)              (None, 2000, 128)    512         add_25[0][0]                     \n",
            "__________________________________________________________________________________________________\n",
            "activation_78 (Activation)      (None, 2000, 128)    0           conv1d_52[0][0]                  \n",
            "__________________________________________________________________________________________________\n",
            "activation_79 (Activation)      (None, 2000, 128)    0           conv1d_52[0][0]                  \n",
            "__________________________________________________________________________________________________\n",
            "multiply_26 (Multiply)          (None, 2000, 128)    0           activation_78[0][0]              \n",
            "                                                                 activation_79[0][0]              \n",
            "__________________________________________________________________________________________________\n",
            "conv1d_53 (Conv1D)              (None, 2000, 1)      129         multiply_26[0][0]                \n",
            "__________________________________________________________________________________________________\n",
            "add_26 (Add)                    (None, 2000, 1)      0           conv1d_53[0][0]                  \n",
            "                                                                 add_25[0][0]                     \n",
            "__________________________________________________________________________________________________\n",
            "conv1d_54 (Conv1D)              (None, 2000, 128)    512         add_26[0][0]                     \n",
            "__________________________________________________________________________________________________\n",
            "activation_81 (Activation)      (None, 2000, 128)    0           conv1d_54[0][0]                  \n",
            "__________________________________________________________________________________________________\n",
            "activation_82 (Activation)      (None, 2000, 128)    0           conv1d_54[0][0]                  \n",
            "__________________________________________________________________________________________________\n",
            "multiply_27 (Multiply)          (None, 2000, 128)    0           activation_81[0][0]              \n",
            "                                                                 activation_82[0][0]              \n",
            "__________________________________________________________________________________________________\n",
            "conv1d_55 (Conv1D)              (None, 2000, 1)      129         multiply_27[0][0]                \n",
            "__________________________________________________________________________________________________\n",
            "add_27 (Add)                    (None, 2000, 1)      0           conv1d_55[0][0]                  \n",
            "                                                                 add_26[0][0]                     \n",
            "__________________________________________________________________________________________________\n",
            "conv1d_56 (Conv1D)              (None, 2000, 128)    512         add_27[0][0]                     \n",
            "__________________________________________________________________________________________________\n",
            "activation_84 (Activation)      (None, 2000, 128)    0           conv1d_56[0][0]                  \n",
            "__________________________________________________________________________________________________\n",
            "activation_85 (Activation)      (None, 2000, 128)    0           conv1d_56[0][0]                  \n",
            "__________________________________________________________________________________________________\n",
            "multiply_28 (Multiply)          (None, 2000, 128)    0           activation_84[0][0]              \n",
            "                                                                 activation_85[0][0]              \n",
            "__________________________________________________________________________________________________\n",
            "conv1d_57 (Conv1D)              (None, 2000, 1)      129         multiply_28[0][0]                \n",
            "__________________________________________________________________________________________________\n",
            "add_28 (Add)                    (None, 2000, 1)      0           conv1d_57[0][0]                  \n",
            "                                                                 add_27[0][0]                     \n",
            "__________________________________________________________________________________________________\n",
            "conv1d_58 (Conv1D)              (None, 2000, 128)    512         add_28[0][0]                     \n",
            "__________________________________________________________________________________________________\n",
            "activation_87 (Activation)      (None, 2000, 128)    0           conv1d_58[0][0]                  \n",
            "__________________________________________________________________________________________________\n",
            "activation_88 (Activation)      (None, 2000, 128)    0           conv1d_58[0][0]                  \n",
            "__________________________________________________________________________________________________\n",
            "multiply_29 (Multiply)          (None, 2000, 128)    0           activation_87[0][0]              \n",
            "                                                                 activation_88[0][0]              \n",
            "__________________________________________________________________________________________________\n",
            "conv1d_59 (Conv1D)              (None, 2000, 1)      129         multiply_29[0][0]                \n",
            "__________________________________________________________________________________________________\n",
            "activation_2 (Activation)       (None, 2000, 1)      0           conv1d_1[0][0]                   \n",
            "__________________________________________________________________________________________________\n",
            "activation_5 (Activation)       (None, 2000, 1)      0           conv1d_3[0][0]                   \n",
            "__________________________________________________________________________________________________\n",
            "activation_8 (Activation)       (None, 2000, 1)      0           conv1d_5[0][0]                   \n",
            "__________________________________________________________________________________________________\n",
            "activation_11 (Activation)      (None, 2000, 1)      0           conv1d_7[0][0]                   \n",
            "__________________________________________________________________________________________________\n",
            "activation_14 (Activation)      (None, 2000, 1)      0           conv1d_9[0][0]                   \n",
            "__________________________________________________________________________________________________\n",
            "activation_17 (Activation)      (None, 2000, 1)      0           conv1d_11[0][0]                  \n",
            "__________________________________________________________________________________________________\n",
            "activation_20 (Activation)      (None, 2000, 1)      0           conv1d_13[0][0]                  \n",
            "__________________________________________________________________________________________________\n",
            "activation_23 (Activation)      (None, 2000, 1)      0           conv1d_15[0][0]                  \n",
            "__________________________________________________________________________________________________\n",
            "activation_26 (Activation)      (None, 2000, 1)      0           conv1d_17[0][0]                  \n",
            "__________________________________________________________________________________________________\n",
            "activation_29 (Activation)      (None, 2000, 1)      0           conv1d_19[0][0]                  \n",
            "__________________________________________________________________________________________________\n",
            "activation_32 (Activation)      (None, 2000, 1)      0           conv1d_21[0][0]                  \n",
            "__________________________________________________________________________________________________\n",
            "activation_35 (Activation)      (None, 2000, 1)      0           conv1d_23[0][0]                  \n",
            "__________________________________________________________________________________________________\n",
            "activation_38 (Activation)      (None, 2000, 1)      0           conv1d_25[0][0]                  \n",
            "__________________________________________________________________________________________________\n",
            "activation_41 (Activation)      (None, 2000, 1)      0           conv1d_27[0][0]                  \n",
            "__________________________________________________________________________________________________\n",
            "activation_44 (Activation)      (None, 2000, 1)      0           conv1d_29[0][0]                  \n",
            "__________________________________________________________________________________________________\n",
            "activation_47 (Activation)      (None, 2000, 1)      0           conv1d_31[0][0]                  \n",
            "__________________________________________________________________________________________________\n",
            "activation_50 (Activation)      (None, 2000, 1)      0           conv1d_33[0][0]                  \n",
            "__________________________________________________________________________________________________\n",
            "activation_53 (Activation)      (None, 2000, 1)      0           conv1d_35[0][0]                  \n",
            "__________________________________________________________________________________________________\n",
            "activation_56 (Activation)      (None, 2000, 1)      0           conv1d_37[0][0]                  \n",
            "__________________________________________________________________________________________________\n",
            "activation_59 (Activation)      (None, 2000, 1)      0           conv1d_39[0][0]                  \n",
            "__________________________________________________________________________________________________\n",
            "activation_62 (Activation)      (None, 2000, 1)      0           conv1d_41[0][0]                  \n",
            "__________________________________________________________________________________________________\n",
            "activation_65 (Activation)      (None, 2000, 1)      0           conv1d_43[0][0]                  \n",
            "__________________________________________________________________________________________________\n",
            "activation_68 (Activation)      (None, 2000, 1)      0           conv1d_45[0][0]                  \n",
            "__________________________________________________________________________________________________\n",
            "activation_71 (Activation)      (None, 2000, 1)      0           conv1d_47[0][0]                  \n",
            "__________________________________________________________________________________________________\n",
            "activation_74 (Activation)      (None, 2000, 1)      0           conv1d_49[0][0]                  \n",
            "__________________________________________________________________________________________________\n",
            "activation_77 (Activation)      (None, 2000, 1)      0           conv1d_51[0][0]                  \n",
            "__________________________________________________________________________________________________\n",
            "activation_80 (Activation)      (None, 2000, 1)      0           conv1d_53[0][0]                  \n",
            "__________________________________________________________________________________________________\n",
            "activation_83 (Activation)      (None, 2000, 1)      0           conv1d_55[0][0]                  \n",
            "__________________________________________________________________________________________________\n",
            "activation_86 (Activation)      (None, 2000, 1)      0           conv1d_57[0][0]                  \n",
            "__________________________________________________________________________________________________\n",
            "activation_89 (Activation)      (None, 2000, 1)      0           conv1d_59[0][0]                  \n",
            "__________________________________________________________________________________________________\n",
            "add_30 (Add)                    (None, 2000, 1)      0           activation_2[0][0]               \n",
            "                                                                 activation_5[0][0]               \n",
            "                                                                 activation_8[0][0]               \n",
            "                                                                 activation_11[0][0]              \n",
            "                                                                 activation_14[0][0]              \n",
            "                                                                 activation_17[0][0]              \n",
            "                                                                 activation_20[0][0]              \n",
            "                                                                 activation_23[0][0]              \n",
            "                                                                 activation_26[0][0]              \n",
            "                                                                 activation_29[0][0]              \n",
            "                                                                 activation_32[0][0]              \n",
            "                                                                 activation_35[0][0]              \n",
            "                                                                 activation_38[0][0]              \n",
            "                                                                 activation_41[0][0]              \n",
            "                                                                 activation_44[0][0]              \n",
            "                                                                 activation_47[0][0]              \n",
            "                                                                 activation_50[0][0]              \n",
            "                                                                 activation_53[0][0]              \n",
            "                                                                 activation_56[0][0]              \n",
            "                                                                 activation_59[0][0]              \n",
            "                                                                 activation_62[0][0]              \n",
            "                                                                 activation_65[0][0]              \n",
            "                                                                 activation_68[0][0]              \n",
            "                                                                 activation_71[0][0]              \n",
            "                                                                 activation_74[0][0]              \n",
            "                                                                 activation_77[0][0]              \n",
            "                                                                 activation_80[0][0]              \n",
            "                                                                 activation_83[0][0]              \n",
            "                                                                 activation_86[0][0]              \n",
            "                                                                 activation_89[0][0]              \n",
            "__________________________________________________________________________________________________\n",
            "activation_90 (Activation)      (None, 2000, 1)      0           add_30[0][0]                     \n",
            "__________________________________________________________________________________________________\n",
            "conv1d_60 (Conv1D)              (None, 2000, 2048)   8192        activation_90[0][0]              \n",
            "__________________________________________________________________________________________________\n",
            "conv1d_61 (Conv1D)              (None, 2000, 256)    1573120     conv1d_60[0][0]                  \n",
            "__________________________________________________________________________________________________\n",
            "flatten (Flatten)               (None, 512000)       0           conv1d_61[0][0]                  \n",
            "__________________________________________________________________________________________________\n",
            "dense (Dense)                   (None, 256)          131072256   flatten[0][0]                    \n",
            "==================================================================================================\n",
            "Total params: 132,672,798\n",
            "Trainable params: 132,672,798\n",
            "Non-trainable params: 0\n",
            "__________________________________________________________________________________________________\n"
          ]
        }
      ]
    },
    {
      "cell_type": "code",
      "metadata": {
        "colab": {
          "base_uri": "https://localhost:8080/"
        },
        "id": "z5QIJAIsSnhM",
        "outputId": "5109e77c-d591-4ab9-978d-de6aa98505c8"
      },
      "source": [
        "TRAIN_SAMPLES = 200000\n",
        "VAL_SAMPLES = 40000\n",
        "\n",
        "training_gen=MyDatagen(range(TRAIN_SAMPLES), batch_size=16)\n",
        "val_gen=MyDatagen(range(TRAIN_SAMPLES, TRAIN_SAMPLES+VAL_SAMPLES), validation=True)\n",
        "\n",
        "model.fit(x=training_gen, validation_data=val_gen, epochs=100)"
      ],
      "execution_count": null,
      "outputs": [
        {
          "output_type": "stream",
          "name": "stdout",
          "text": [
            "Epoch 1/100\n",
            "12500/12500 [==============================] - 7025s 559ms/step - loss: 12.2960 - val_loss: 642.7269\n",
            "Epoch 2/100\n",
            " 1382/12500 [==>...........................] - ETA: 1:36:46 - loss: 46.7114"
          ]
        }
      ]
    },
    {
      "cell_type": "code",
      "metadata": {
        "colab": {
          "base_uri": "https://localhost:8080/",
          "height": 357
        },
        "id": "Z4bB4oqAlB5u",
        "outputId": "b4497f38-984a-4185-b22a-c77bbb428778"
      },
      "source": [
        "test_gen = MyDatagen(range(20000000, 24872517), validation=True)\n",
        "\n",
        "model.evaluate(test_gen)"
      ],
      "execution_count": null,
      "outputs": [
        {
          "output_type": "stream",
          "text": [
            "   223/304532 [..............................] - ETA: 7:19:24 - loss: 0.0127"
          ],
          "name": "stdout"
        },
        {
          "output_type": "error",
          "ename": "KeyboardInterrupt",
          "evalue": "ignored",
          "traceback": [
            "\u001b[0;31m---------------------------------------------------------------------------\u001b[0m",
            "\u001b[0;31mKeyboardInterrupt\u001b[0m                         Traceback (most recent call last)",
            "\u001b[0;32m<ipython-input-81-709353143b01>\u001b[0m in \u001b[0;36m<module>\u001b[0;34m()\u001b[0m\n\u001b[1;32m      1\u001b[0m \u001b[0mtest_gen\u001b[0m \u001b[0;34m=\u001b[0m \u001b[0mMyDatagen\u001b[0m\u001b[0;34m(\u001b[0m\u001b[0mrange\u001b[0m\u001b[0;34m(\u001b[0m\u001b[0;36m20000000\u001b[0m\u001b[0;34m,\u001b[0m \u001b[0;36m24872517\u001b[0m\u001b[0;34m)\u001b[0m\u001b[0;34m,\u001b[0m \u001b[0mvalidation\u001b[0m\u001b[0;34m=\u001b[0m\u001b[0;32mTrue\u001b[0m\u001b[0;34m)\u001b[0m\u001b[0;34m\u001b[0m\u001b[0;34m\u001b[0m\u001b[0m\n\u001b[1;32m      2\u001b[0m \u001b[0;34m\u001b[0m\u001b[0m\n\u001b[0;32m----> 3\u001b[0;31m \u001b[0mmodel\u001b[0m\u001b[0;34m.\u001b[0m\u001b[0mevaluate\u001b[0m\u001b[0;34m(\u001b[0m\u001b[0mtest_gen\u001b[0m\u001b[0;34m)\u001b[0m\u001b[0;34m\u001b[0m\u001b[0;34m\u001b[0m\u001b[0m\n\u001b[0m",
            "\u001b[0;32m/usr/local/lib/python3.7/dist-packages/tensorflow/python/keras/engine/training.py\u001b[0m in \u001b[0;36mevaluate\u001b[0;34m(self, x, y, batch_size, verbose, sample_weight, steps, callbacks, max_queue_size, workers, use_multiprocessing, return_dict)\u001b[0m\n\u001b[1;32m   1387\u001b[0m             \u001b[0;32mwith\u001b[0m \u001b[0mtrace\u001b[0m\u001b[0;34m.\u001b[0m\u001b[0mTrace\u001b[0m\u001b[0;34m(\u001b[0m\u001b[0;34m'test'\u001b[0m\u001b[0;34m,\u001b[0m \u001b[0mstep_num\u001b[0m\u001b[0;34m=\u001b[0m\u001b[0mstep\u001b[0m\u001b[0;34m,\u001b[0m \u001b[0m_r\u001b[0m\u001b[0;34m=\u001b[0m\u001b[0;36m1\u001b[0m\u001b[0;34m)\u001b[0m\u001b[0;34m:\u001b[0m\u001b[0;34m\u001b[0m\u001b[0;34m\u001b[0m\u001b[0m\n\u001b[1;32m   1388\u001b[0m               \u001b[0mcallbacks\u001b[0m\u001b[0;34m.\u001b[0m\u001b[0mon_test_batch_begin\u001b[0m\u001b[0;34m(\u001b[0m\u001b[0mstep\u001b[0m\u001b[0;34m)\u001b[0m\u001b[0;34m\u001b[0m\u001b[0;34m\u001b[0m\u001b[0m\n\u001b[0;32m-> 1389\u001b[0;31m               \u001b[0mtmp_logs\u001b[0m \u001b[0;34m=\u001b[0m \u001b[0mself\u001b[0m\u001b[0;34m.\u001b[0m\u001b[0mtest_function\u001b[0m\u001b[0;34m(\u001b[0m\u001b[0miterator\u001b[0m\u001b[0;34m)\u001b[0m\u001b[0;34m\u001b[0m\u001b[0;34m\u001b[0m\u001b[0m\n\u001b[0m\u001b[1;32m   1390\u001b[0m               \u001b[0;32mif\u001b[0m \u001b[0mdata_handler\u001b[0m\u001b[0;34m.\u001b[0m\u001b[0mshould_sync\u001b[0m\u001b[0;34m:\u001b[0m\u001b[0;34m\u001b[0m\u001b[0;34m\u001b[0m\u001b[0m\n\u001b[1;32m   1391\u001b[0m                 \u001b[0mcontext\u001b[0m\u001b[0;34m.\u001b[0m\u001b[0masync_wait\u001b[0m\u001b[0;34m(\u001b[0m\u001b[0;34m)\u001b[0m\u001b[0;34m\u001b[0m\u001b[0;34m\u001b[0m\u001b[0m\n",
            "\u001b[0;32m/usr/local/lib/python3.7/dist-packages/tensorflow/python/eager/def_function.py\u001b[0m in \u001b[0;36m__call__\u001b[0;34m(self, *args, **kwds)\u001b[0m\n\u001b[1;32m    826\u001b[0m     \u001b[0mtracing_count\u001b[0m \u001b[0;34m=\u001b[0m \u001b[0mself\u001b[0m\u001b[0;34m.\u001b[0m\u001b[0mexperimental_get_tracing_count\u001b[0m\u001b[0;34m(\u001b[0m\u001b[0;34m)\u001b[0m\u001b[0;34m\u001b[0m\u001b[0;34m\u001b[0m\u001b[0m\n\u001b[1;32m    827\u001b[0m     \u001b[0;32mwith\u001b[0m \u001b[0mtrace\u001b[0m\u001b[0;34m.\u001b[0m\u001b[0mTrace\u001b[0m\u001b[0;34m(\u001b[0m\u001b[0mself\u001b[0m\u001b[0;34m.\u001b[0m\u001b[0m_name\u001b[0m\u001b[0;34m)\u001b[0m \u001b[0;32mas\u001b[0m \u001b[0mtm\u001b[0m\u001b[0;34m:\u001b[0m\u001b[0;34m\u001b[0m\u001b[0;34m\u001b[0m\u001b[0m\n\u001b[0;32m--> 828\u001b[0;31m       \u001b[0mresult\u001b[0m \u001b[0;34m=\u001b[0m \u001b[0mself\u001b[0m\u001b[0;34m.\u001b[0m\u001b[0m_call\u001b[0m\u001b[0;34m(\u001b[0m\u001b[0;34m*\u001b[0m\u001b[0margs\u001b[0m\u001b[0;34m,\u001b[0m \u001b[0;34m**\u001b[0m\u001b[0mkwds\u001b[0m\u001b[0;34m)\u001b[0m\u001b[0;34m\u001b[0m\u001b[0;34m\u001b[0m\u001b[0m\n\u001b[0m\u001b[1;32m    829\u001b[0m       \u001b[0mcompiler\u001b[0m \u001b[0;34m=\u001b[0m \u001b[0;34m\"xla\"\u001b[0m \u001b[0;32mif\u001b[0m \u001b[0mself\u001b[0m\u001b[0;34m.\u001b[0m\u001b[0m_experimental_compile\u001b[0m \u001b[0;32melse\u001b[0m \u001b[0;34m\"nonXla\"\u001b[0m\u001b[0;34m\u001b[0m\u001b[0;34m\u001b[0m\u001b[0m\n\u001b[1;32m    830\u001b[0m       \u001b[0mnew_tracing_count\u001b[0m \u001b[0;34m=\u001b[0m \u001b[0mself\u001b[0m\u001b[0;34m.\u001b[0m\u001b[0mexperimental_get_tracing_count\u001b[0m\u001b[0;34m(\u001b[0m\u001b[0;34m)\u001b[0m\u001b[0;34m\u001b[0m\u001b[0;34m\u001b[0m\u001b[0m\n",
            "\u001b[0;32m/usr/local/lib/python3.7/dist-packages/tensorflow/python/eager/def_function.py\u001b[0m in \u001b[0;36m_call\u001b[0;34m(self, *args, **kwds)\u001b[0m\n\u001b[1;32m    860\u001b[0m       \u001b[0;31m# In this case we have not created variables on the first call. So we can\u001b[0m\u001b[0;34m\u001b[0m\u001b[0;34m\u001b[0m\u001b[0;34m\u001b[0m\u001b[0m\n\u001b[1;32m    861\u001b[0m       \u001b[0;31m# run the first trace but we should fail if variables are created.\u001b[0m\u001b[0;34m\u001b[0m\u001b[0;34m\u001b[0m\u001b[0;34m\u001b[0m\u001b[0m\n\u001b[0;32m--> 862\u001b[0;31m       \u001b[0mresults\u001b[0m \u001b[0;34m=\u001b[0m \u001b[0mself\u001b[0m\u001b[0;34m.\u001b[0m\u001b[0m_stateful_fn\u001b[0m\u001b[0;34m(\u001b[0m\u001b[0;34m*\u001b[0m\u001b[0margs\u001b[0m\u001b[0;34m,\u001b[0m \u001b[0;34m**\u001b[0m\u001b[0mkwds\u001b[0m\u001b[0;34m)\u001b[0m\u001b[0;34m\u001b[0m\u001b[0;34m\u001b[0m\u001b[0m\n\u001b[0m\u001b[1;32m    863\u001b[0m       \u001b[0;32mif\u001b[0m \u001b[0mself\u001b[0m\u001b[0;34m.\u001b[0m\u001b[0m_created_variables\u001b[0m\u001b[0;34m:\u001b[0m\u001b[0;34m\u001b[0m\u001b[0;34m\u001b[0m\u001b[0m\n\u001b[1;32m    864\u001b[0m         raise ValueError(\"Creating variables on a non-first call to a function\"\n",
            "\u001b[0;32m/usr/local/lib/python3.7/dist-packages/tensorflow/python/eager/function.py\u001b[0m in \u001b[0;36m__call__\u001b[0;34m(self, *args, **kwargs)\u001b[0m\n\u001b[1;32m   2941\u001b[0m        filtered_flat_args) = self._maybe_define_function(args, kwargs)\n\u001b[1;32m   2942\u001b[0m     return graph_function._call_flat(\n\u001b[0;32m-> 2943\u001b[0;31m         filtered_flat_args, captured_inputs=graph_function.captured_inputs)  # pylint: disable=protected-access\n\u001b[0m\u001b[1;32m   2944\u001b[0m \u001b[0;34m\u001b[0m\u001b[0m\n\u001b[1;32m   2945\u001b[0m   \u001b[0;34m@\u001b[0m\u001b[0mproperty\u001b[0m\u001b[0;34m\u001b[0m\u001b[0;34m\u001b[0m\u001b[0m\n",
            "\u001b[0;32m/usr/local/lib/python3.7/dist-packages/tensorflow/python/eager/function.py\u001b[0m in \u001b[0;36m_call_flat\u001b[0;34m(self, args, captured_inputs, cancellation_manager)\u001b[0m\n\u001b[1;32m   1917\u001b[0m       \u001b[0;31m# No tape is watching; skip to running the function.\u001b[0m\u001b[0;34m\u001b[0m\u001b[0;34m\u001b[0m\u001b[0;34m\u001b[0m\u001b[0m\n\u001b[1;32m   1918\u001b[0m       return self._build_call_outputs(self._inference_function.call(\n\u001b[0;32m-> 1919\u001b[0;31m           ctx, args, cancellation_manager=cancellation_manager))\n\u001b[0m\u001b[1;32m   1920\u001b[0m     forward_backward = self._select_forward_and_backward_functions(\n\u001b[1;32m   1921\u001b[0m         \u001b[0margs\u001b[0m\u001b[0;34m,\u001b[0m\u001b[0;34m\u001b[0m\u001b[0;34m\u001b[0m\u001b[0m\n",
            "\u001b[0;32m/usr/local/lib/python3.7/dist-packages/tensorflow/python/eager/function.py\u001b[0m in \u001b[0;36mcall\u001b[0;34m(self, ctx, args, cancellation_manager)\u001b[0m\n\u001b[1;32m    558\u001b[0m               \u001b[0minputs\u001b[0m\u001b[0;34m=\u001b[0m\u001b[0margs\u001b[0m\u001b[0;34m,\u001b[0m\u001b[0;34m\u001b[0m\u001b[0;34m\u001b[0m\u001b[0m\n\u001b[1;32m    559\u001b[0m               \u001b[0mattrs\u001b[0m\u001b[0;34m=\u001b[0m\u001b[0mattrs\u001b[0m\u001b[0;34m,\u001b[0m\u001b[0;34m\u001b[0m\u001b[0;34m\u001b[0m\u001b[0m\n\u001b[0;32m--> 560\u001b[0;31m               ctx=ctx)\n\u001b[0m\u001b[1;32m    561\u001b[0m         \u001b[0;32melse\u001b[0m\u001b[0;34m:\u001b[0m\u001b[0;34m\u001b[0m\u001b[0;34m\u001b[0m\u001b[0m\n\u001b[1;32m    562\u001b[0m           outputs = execute.execute_with_cancellation(\n",
            "\u001b[0;32m/usr/local/lib/python3.7/dist-packages/tensorflow/python/eager/execute.py\u001b[0m in \u001b[0;36mquick_execute\u001b[0;34m(op_name, num_outputs, inputs, attrs, ctx, name)\u001b[0m\n\u001b[1;32m     58\u001b[0m     \u001b[0mctx\u001b[0m\u001b[0;34m.\u001b[0m\u001b[0mensure_initialized\u001b[0m\u001b[0;34m(\u001b[0m\u001b[0;34m)\u001b[0m\u001b[0;34m\u001b[0m\u001b[0;34m\u001b[0m\u001b[0m\n\u001b[1;32m     59\u001b[0m     tensors = pywrap_tfe.TFE_Py_Execute(ctx._handle, device_name, op_name,\n\u001b[0;32m---> 60\u001b[0;31m                                         inputs, attrs, num_outputs)\n\u001b[0m\u001b[1;32m     61\u001b[0m   \u001b[0;32mexcept\u001b[0m \u001b[0mcore\u001b[0m\u001b[0;34m.\u001b[0m\u001b[0m_NotOkStatusException\u001b[0m \u001b[0;32mas\u001b[0m \u001b[0me\u001b[0m\u001b[0;34m:\u001b[0m\u001b[0;34m\u001b[0m\u001b[0;34m\u001b[0m\u001b[0m\n\u001b[1;32m     62\u001b[0m     \u001b[0;32mif\u001b[0m \u001b[0mname\u001b[0m \u001b[0;32mis\u001b[0m \u001b[0;32mnot\u001b[0m \u001b[0;32mNone\u001b[0m\u001b[0;34m:\u001b[0m\u001b[0;34m\u001b[0m\u001b[0;34m\u001b[0m\u001b[0m\n",
            "\u001b[0;31mKeyboardInterrupt\u001b[0m: "
          ]
        }
      ]
    },
    {
      "cell_type": "code",
      "metadata": {
        "id": "Im7MQ4Gwbtar"
      },
      "source": [
        "MODEL_SAVE_PATH = \"/content/drive/MyDrive/MLFolder/Onlab/modelsaves/\"\n",
        "\n",
        "model.save(MODEL_SAVE_PATH + \"Wavenet1.h5\")"
      ],
      "execution_count": null,
      "outputs": []
    },
    {
      "cell_type": "code",
      "metadata": {
        "id": "i58qmtRM_Aej"
      },
      "source": [
        "from keras.models import load_model\n",
        "\n",
        "model = load_model(\"/content/drive/MyDrive/MLFolder/Onlab/modelsaves/Wavenet1.h5\")"
      ],
      "execution_count": null,
      "outputs": []
    },
    {
      "cell_type": "code",
      "metadata": {
        "id": "YNo-A1GicTcK"
      },
      "source": [
        "def sample(preds, temperature=1.0):\n",
        "    # helper function to sample an index from a probability array\n",
        "    preds = np.asarray(preds).astype(\"float64\")\n",
        "    preds = np.log(preds) / temperature\n",
        "    exp_preds = np.exp(preds)\n",
        "    preds = exp_preds / np.sum(exp_preds)\n",
        "    preds = np.squeeze(preds)\n",
        "    probas = np.random.multinomial(1, preds, 1)\n",
        "    return np.argmax(probas)"
      ],
      "execution_count": null,
      "outputs": []
    },
    {
      "cell_type": "code",
      "metadata": {
        "id": "V5bDcRhoVKpl"
      },
      "source": [
        "def make_prediction(model, starting_slice, prediction_length, scaling_factor=1.0):\n",
        "    pattern = np.asarray(starting_slice)\n",
        "    pattern = np.atleast_3d(pattern)\n",
        "\n",
        "    res = []\n",
        "\n",
        "    for i in tqdm(range(prediction_length), position=0, leave=True):\n",
        "        nextvalue = model.predict(pattern, batch_size=1)\n",
        "        nextvalue = sample(nextvalue, 2.0)/255.0\n",
        "        pattern = np.append(pattern, nextvalue)\n",
        "        pattern = pattern[1:len(pattern)]\n",
        "        pattern = np.atleast_3d(pattern)\n",
        "        res.append(nextvalue)\n",
        "\n",
        "    int_res = np.asarray(res) * 255.0\n",
        "    int_res = int_res.astype('int')\n",
        "\n",
        "    return mulaw_decode(int_res) * scaling_factor"
      ],
      "execution_count": null,
      "outputs": []
    },
    {
      "cell_type": "code",
      "metadata": {
        "colab": {
          "base_uri": "https://localhost:8080/"
        },
        "id": "0xvC-BnkWDrw",
        "outputId": "d7d83671-5f9f-4eb1-b3d4-858db104a0ff"
      },
      "source": [
        "SR = 16000\n",
        "SECONDS = 2\n",
        "PRED_LEN = int(SR*SECONDS)\n",
        "\n",
        "predicted = make_prediction(model, encoded[30000000:30000000+SLICE_SIZE]/255.0, PRED_LEN, np.max(fullnp))"
      ],
      "execution_count": null,
      "outputs": [
        {
          "output_type": "stream",
          "name": "stderr",
          "text": [
            "100%|██████████| 32000/32000 [38:36<00:00, 13.81it/s]\n"
          ]
        }
      ]
    },
    {
      "cell_type": "code",
      "metadata": {
        "colab": {
          "base_uri": "https://localhost:8080/"
        },
        "id": "YpmCrkPee2mc",
        "outputId": "5652a88f-49a0-418f-97f0-51fb92826f45"
      },
      "source": [
        "import matplotlib.pyplot as plt\n",
        "\n",
        "plt.plot(predicted)\n",
        "plt.show()"
      ],
      "execution_count": null,
      "outputs": [
        {
          "output_type": "display_data",
          "data": {
            "image/png": "[encoded data removed]",
            "text/plain": [
              "<Figure size 432x288 with 1 Axes>"
            ]
          },
          "metadata": {
            "needs_background": "light"
          }
        }
      ]
    },
    {
      "cell_type": "code",
      "metadata": {
        "colab": {
          "base_uri": "https://localhost:8080/"
        },
        "id": "C5HHYDBHfGpY",
        "outputId": "a33a5e7a-4281-44cd-86c5-fa80dec11bb5"
      },
      "source": [
        "from IPython.lib.display import Audio\n",
        "\n",
        "Audio(np.squeeze(predicted), rate=16000, autoplay=False)"
      ],
      "execution_count": null,
      "outputs": [
        {
          "output_type": "execute_result",
          "data": {
            "text/html": [
              "\n",
              "                <audio controls=\"controls\" >\n",
              "                    <source src=\"data:audio/wav;base64,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\" type=\"audio/wav\" />\n",
              "                    Your browser does not support the audio element.\n",
              "                </audio>\n",
              "              "
            ],
            "text/plain": [
              "<IPython.lib.display.Audio object>"
            ]
          },
          "metadata": {},
          "execution_count": 28
        }
      ]
    },
    {
      "cell_type": "code",
      "metadata": {
        "id": "8Fx2YZSzUSgN"
      },
      "source": [
        "import gc\n",
        "\n",
        "gc.collect()"
      ],
      "execution_count": null,
      "outputs": []
    }
  ]
}