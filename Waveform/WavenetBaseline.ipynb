{
  "nbformat": 4,
  "nbformat_minor": 0,
  "metadata": {
    "colab": {
      "name": "WavenetBaseline.ipynb",
      "provenance": []
    },
    "kernelspec": {
      "name": "python3",
      "display_name": "Python 3"
    },
    "language_info": {
      "name": "python"
    },
    "accelerator": "GPU"
  },
  "cells": [
    {
      "cell_type": "code",
      "metadata": {
        "colab": {
          "base_uri": "https://localhost:8080/"
        },
        "id": "k4LggPxGJG1f",
        "outputId": "ba709776-30f3-4777-c7c9-673e3a91c696"
      },
      "source": [
        "from google.colab import drive\n",
        "import librosa\n",
        "from tqdm import tqdm\n",
        "import matplotlib.pyplot as plt\n",
        "import numpy as np\n",
        "import os\n",
        "\n",
        "drive.mount('/content/drive', force_remount=False)\n",
        "\n",
        "DATA_PATH=\"/content/drive/My Drive/MLFolder/Onlab/Waveform_classical/\""
      ],
      "execution_count": 1,
      "outputs": [
        {
          "output_type": "stream",
          "text": [
            "Mounted at /content/drive\n"
          ],
          "name": "stdout"
        }
      ]
    },
    {
      "cell_type": "code",
      "metadata": {
        "colab": {
          "base_uri": "https://localhost:8080/"
        },
        "id": "llpTjewuPtxU",
        "outputId": "c29dc5ce-3250-4396-dac0-01785967d5ff"
      },
      "source": [
        "full = []\n",
        "\n",
        "for idx, file in enumerate(tqdm(os.listdir(DATA_PATH), position=0, leave=True)):\n",
        "    song, sr = librosa.load(os.path.join(DATA_PATH, file), sr=16000)\n",
        "    for i in song:\n",
        "        full.append(i)\n",
        "    if idx == 0:\n",
        "        fullnp = np.asarray(full)\n",
        "    else :\n",
        "        fullnp = np.concatenate((fullnp, np.asarray(full)))\n",
        "    full = []"
      ],
      "execution_count": null,
      "outputs": [
        {
          "output_type": "stream",
          "text": [
            "\r  0%|          | 0/12 [00:00<?, ?it/s]/usr/local/lib/python3.7/dist-packages/librosa/core/audio.py:162: UserWarning: PySoundFile failed. Trying audioread instead.\n",
            "  warnings.warn(\"PySoundFile failed. Trying audioread instead.\")\n",
            "  8%|▊         | 1/12 [01:28<16:14, 88.58s/it]/usr/local/lib/python3.7/dist-packages/librosa/core/audio.py:162: UserWarning: PySoundFile failed. Trying audioread instead.\n",
            "  warnings.warn(\"PySoundFile failed. Trying audioread instead.\")\n",
            " 17%|█▋        | 2/12 [02:49<14:22, 86.28s/it]/usr/local/lib/python3.7/dist-packages/librosa/core/audio.py:162: UserWarning: PySoundFile failed. Trying audioread instead.\n",
            "  warnings.warn(\"PySoundFile failed. Trying audioread instead.\")\n",
            " 25%|██▌       | 3/12 [04:32<13:42, 91.43s/it]/usr/local/lib/python3.7/dist-packages/librosa/core/audio.py:162: UserWarning: PySoundFile failed. Trying audioread instead.\n",
            "  warnings.warn(\"PySoundFile failed. Trying audioread instead.\")\n",
            " 33%|███▎      | 4/12 [06:01<12:04, 90.54s/it]/usr/local/lib/python3.7/dist-packages/librosa/core/audio.py:162: UserWarning: PySoundFile failed. Trying audioread instead.\n",
            "  warnings.warn(\"PySoundFile failed. Trying audioread instead.\")\n",
            " 42%|████▏     | 5/12 [07:33<10:37, 91.09s/it]/usr/local/lib/python3.7/dist-packages/librosa/core/audio.py:162: UserWarning: PySoundFile failed. Trying audioread instead.\n",
            "  warnings.warn(\"PySoundFile failed. Trying audioread instead.\")\n",
            " 50%|█████     | 6/12 [09:20<09:34, 95.76s/it]/usr/local/lib/python3.7/dist-packages/librosa/core/audio.py:162: UserWarning: PySoundFile failed. Trying audioread instead.\n",
            "  warnings.warn(\"PySoundFile failed. Trying audioread instead.\")\n",
            " 58%|█████▊    | 7/12 [10:42<07:38, 91.79s/it]/usr/local/lib/python3.7/dist-packages/librosa/core/audio.py:162: UserWarning: PySoundFile failed. Trying audioread instead.\n",
            "  warnings.warn(\"PySoundFile failed. Trying audioread instead.\")\n",
            " 67%|██████▋   | 8/12 [12:42<06:40, 100.20s/it]/usr/local/lib/python3.7/dist-packages/librosa/core/audio.py:162: UserWarning: PySoundFile failed. Trying audioread instead.\n",
            "  warnings.warn(\"PySoundFile failed. Trying audioread instead.\")\n",
            " 75%|███████▌  | 9/12 [14:36<05:12, 104.22s/it]/usr/local/lib/python3.7/dist-packages/librosa/core/audio.py:162: UserWarning: PySoundFile failed. Trying audioread instead.\n",
            "  warnings.warn(\"PySoundFile failed. Trying audioread instead.\")\n",
            " 83%|████████▎ | 10/12 [15:54<03:12, 96.40s/it]/usr/local/lib/python3.7/dist-packages/librosa/core/audio.py:162: UserWarning: PySoundFile failed. Trying audioread instead.\n",
            "  warnings.warn(\"PySoundFile failed. Trying audioread instead.\")\n",
            " 92%|█████████▏| 11/12 [17:32<01:36, 96.87s/it]/usr/local/lib/python3.7/dist-packages/librosa/core/audio.py:162: UserWarning: PySoundFile failed. Trying audioread instead.\n",
            "  warnings.warn(\"PySoundFile failed. Trying audioread instead.\")\n"
          ],
          "name": "stderr"
        }
      ]
    },
    {
      "cell_type": "code",
      "metadata": {
        "colab": {
          "base_uri": "https://localhost:8080/"
        },
        "id": "hJm40iJtyCjI",
        "outputId": "89d624b2-8ec6-4c03-ddbe-89f5fc5be260"
      },
      "source": [
        "print(fullnp.shape)"
      ],
      "execution_count": 3,
      "outputs": [
        {
          "output_type": "stream",
          "text": [
            "(397960285,)\n"
          ],
          "name": "stdout"
        }
      ]
    },
    {
      "cell_type": "code",
      "metadata": {
        "id": "0TGiaXcwLHMx"
      },
      "source": [
        "np.save(\"schubert.npy\", fullnp)"
      ],
      "execution_count": null,
      "outputs": []
    },
    {
      "cell_type": "markdown",
      "metadata": {
        "id": "DA6OzOGxLaNu"
      },
      "source": [
        "Parsing the 12 songs with 16 kHz sampling rate takes around 23 minutes. An alternative can be to save it to a binary .npy file, but it takes up 1.48 Gigabytes of space."
      ]
    },
    {
      "cell_type": "code",
      "metadata": {
        "id": "Y7_OgfzF63Md"
      },
      "source": [
        "scaling_factor = np.max(np.abs(fullnp))"
      ],
      "execution_count": null,
      "outputs": []
    },
    {
      "cell_type": "code",
      "metadata": {
        "id": "qLKx50c_cg4B"
      },
      "source": [
        "scaled = fullnp / scaling_factor"
      ],
      "execution_count": 4,
      "outputs": []
    },
    {
      "cell_type": "code",
      "metadata": {
        "id": "qAacr8DG62lJ"
      },
      "source": [
        "from keras.utils import to_categorical\n",
        "\n",
        "def mulaw_encode(samples):\n",
        "    # Encode to -128..127. Return 0..255.\n",
        "    return (librosa.mu_compress(samples, quantize=True) + 128).astype('uint8')\n",
        "\n",
        "def mulaw_decode(samples):\n",
        "    # Rescale from 0..255 to -128..127. Decode to -1.0..1.0.\n",
        "    return (librosa.mu_expand(samples.astype('int16') - 128, quantize=True) )"
      ],
      "execution_count": null,
      "outputs": []
    },
    {
      "cell_type": "code",
      "metadata": {
        "id": "YqezTeqV6-bm"
      },
      "source": [
        "encoded = mulaw_encode(scaled)"
      ],
      "execution_count": null,
      "outputs": []
    },
    {
      "cell_type": "code",
      "metadata": {
        "id": "juow3rCNRCQ6"
      },
      "source": [
        "from keras.utils import Sequence\n",
        "\n",
        "SLICE_SIZE = 2048\n",
        "\n",
        "class MyDatagen(Sequence):\n",
        "  def __init__(self, list_IDs, batch_size=16, dim=(SLICE_SIZE), shuffle=True, validation=False):\n",
        "    'Initialization'\n",
        "    self.dim = dim\n",
        "    self.batch_size = batch_size\n",
        "    self.list_IDs = list_IDs\n",
        "    self.shuffle = shuffle\n",
        "    self.validation=validation\n",
        "    self.on_epoch_end()\n",
        "\n",
        "  def __len__(self):\n",
        "    return int(np.floor(len(self.list_IDs) / self.batch_size))\n",
        "\n",
        "  def __getitem__(self, index):\n",
        "    # Generate indexes of the batch\n",
        "    indexes = self.indexes[index*self.batch_size:(index+1)*self.batch_size]\n",
        "\n",
        "    # Find list of IDs\n",
        "    list_IDs_temp = [self.list_IDs[k] for k in indexes]\n",
        "\n",
        "    # Generate data\n",
        "    X, y = self.__data_generation(list_IDs_temp)\n",
        "\n",
        "    return X, y\n",
        "\n",
        "  def on_epoch_end(self):\n",
        "      #Updates indexes after each epoch\n",
        "    self.indexes = np.arange(len(self.list_IDs))\n",
        "    if self.shuffle == True:\n",
        "      np.random.shuffle(self.indexes)\n",
        "\n",
        "  def __data_generation(self, list_IDs_temp):\n",
        "    #Generates data containing batch_size samples\n",
        "    if self.validation:\n",
        "      X = np.empty((self.batch_size, self.dim))\n",
        "      y = np.empty((self.batch_size, 1))\n",
        "\n",
        "      # Generate data\n",
        "      for i, ID in enumerate(list_IDs_temp):\n",
        "        X[i] = to_categorical(encoded[ID:ID+SLICE_SIZE])\n",
        "\n",
        "        y[i] = to_categorical(encoded[ID+SLICE_SIZE])\n",
        "\n",
        "      return X, y\n",
        "    else:\n",
        "      X = np.empty((self.batch_size, self.dim))\n",
        "      y = np.empty((self.batch_size, 1))\n",
        "\n",
        "      # Generate data\n",
        "      for i, ID in enumerate(list_IDs_temp):\n",
        "        X[i] = scaled[ID:ID+SLICE_SIZE]\n",
        "\n",
        "        y[i] = scaled[ID+SLICE_SIZE]\n",
        "\n",
        "      return X, y"
      ],
      "execution_count": 10,
      "outputs": []
    },
    {
      "cell_type": "code",
      "metadata": {
        "id": "Qg4GChlUcona"
      },
      "source": [
        "from keras.layers import Conv1D, Flatten, Dense, Input, Activation, Add, Multiply\n",
        "from keras.models import Model\n",
        "\n",
        "# This code served as inspiration:\n",
        "# https://github.com/usernaamee/keras-wavenet\n",
        "def wavenet_residual_block(filters, kernel_size, dilation_rate):\n",
        "    def f(input_):\n",
        "        conv = Conv1D(filters, kernel_size, \n",
        "                      dilation_rate=dilation_rate,\n",
        "                      padding='same')(input_)\n",
        "        tanh = Activation('tanh')(conv)\n",
        "        sigmoid = Activation('sigmoid')(conv)\n",
        "        merged = Multiply()([tanh, sigmoid])\n",
        "        out = Conv1D(1, 1, padding='same')(merged)\n",
        "        residual_out = Add()([out, input_])\n",
        "        skip_out = Activation('relu')(out)\n",
        "        return residual_out, skip_out\n",
        "    return f\n",
        "\n",
        "def wavenet_convolutional_layers(filters, kernel_size, depth):\n",
        "    def f(input_):\n",
        "        residual_out = input_\n",
        "        skip_connections = []\n",
        "        for i in range(1, depth+1):\n",
        "            dilation_rate = 2**(i % 9)\n",
        "            residual_out, skip_out = wavenet_residual_block(\n",
        "                filters, kernel_size, dilation_rate)(residual_out)\n",
        "            skip_connections.append(skip_out)\n",
        "        sum_ = Add()(skip_connections)\n",
        "        act = Activation('relu')(sum_)\n",
        "        return act\n",
        "    return f\n",
        "\n",
        "def wavenet(input_size):\n",
        "    input_ = Input(shape=(input_size, 1))\n",
        "    net = wavenet_convolutional_layers(128, 3, 30)(input_)\n",
        "    net = Conv1D(2048, 3, padding='same')(net)\n",
        "    net = Conv1D(256, 3, padding='same')(net)\n",
        "    net = Flatten()(net)\n",
        "    net = Dense(1)(net)\n",
        "    model = Model(input_, net)\n",
        "    model.compile(loss='MAE', optimizer='adam')\n",
        "    return model\n",
        "\n",
        "\n",
        "model = wavenet(SLICE_SIZE)"
      ],
      "execution_count": 23,
      "outputs": []
    },
    {
      "cell_type": "code",
      "metadata": {
        "id": "cVf6hISTMmsP"
      },
      "source": [
        "model.summary()"
      ],
      "execution_count": null,
      "outputs": []
    },
    {
      "cell_type": "code",
      "metadata": {
        "colab": {
          "base_uri": "https://localhost:8080/"
        },
        "id": "9iCiymfNw6W3",
        "outputId": "736d1043-512f-4858-b181-df7bf01eee21"
      },
      "source": [
        "print(scaled.shape[0]/16)"
      ],
      "execution_count": 17,
      "outputs": [
        {
          "output_type": "stream",
          "text": [
            "24872517.8125\n"
          ],
          "name": "stdout"
        }
      ]
    },
    {
      "cell_type": "code",
      "metadata": {
        "colab": {
          "base_uri": "https://localhost:8080/"
        },
        "id": "DoyvHrXqHi6V",
        "outputId": "35faa688-9eab-45fd-cd65-d21569aa687a"
      },
      "source": [
        "print(24872517 - 4872517)"
      ],
      "execution_count": 19,
      "outputs": [
        {
          "output_type": "stream",
          "text": [
            "20000000\n"
          ],
          "name": "stdout"
        }
      ]
    },
    {
      "cell_type": "code",
      "metadata": {
        "colab": {
          "base_uri": "https://localhost:8080/",
          "height": 408
        },
        "id": "z5QIJAIsSnhM",
        "outputId": "448812b0-0cb2-428d-86b7-0c3940cce19d"
      },
      "source": [
        "training_gen=MyDatagen(range(200000))\n",
        "val_gen=MyDatagen(range(200000, 248725), validation=True)\n",
        "\n",
        "model.fit(x=training_gen, validation_data=val_gen, epochs=100)"
      ],
      "execution_count": 24,
      "outputs": [
        {
          "output_type": "stream",
          "text": [
            "Epoch 1/100\n",
            "12500/12500 [==============================] - 3428s 274ms/step - loss: 0.1999 - val_loss: 0.0012\n",
            "Epoch 2/100\n",
            " 1150/12500 [=>............................] - ETA: 47:35 - loss: 0.0015"
          ],
          "name": "stdout"
        },
        {
          "output_type": "error",
          "ename": "KeyboardInterrupt",
          "evalue": "ignored",
          "traceback": [
            "\u001b[0;31m---------------------------------------------------------------------------\u001b[0m",
            "\u001b[0;31mKeyboardInterrupt\u001b[0m                         Traceback (most recent call last)",
            "\u001b[0;32m<ipython-input-24-5374f63b8345>\u001b[0m in \u001b[0;36m<module>\u001b[0;34m()\u001b[0m\n\u001b[1;32m      2\u001b[0m \u001b[0mval_gen\u001b[0m\u001b[0;34m=\u001b[0m\u001b[0mMyDatagen\u001b[0m\u001b[0;34m(\u001b[0m\u001b[0mrange\u001b[0m\u001b[0;34m(\u001b[0m\u001b[0;36m200000\u001b[0m\u001b[0;34m,\u001b[0m \u001b[0;36m248725\u001b[0m\u001b[0;34m)\u001b[0m\u001b[0;34m,\u001b[0m \u001b[0mvalidation\u001b[0m\u001b[0;34m=\u001b[0m\u001b[0;32mTrue\u001b[0m\u001b[0;34m)\u001b[0m\u001b[0;34m\u001b[0m\u001b[0;34m\u001b[0m\u001b[0m\n\u001b[1;32m      3\u001b[0m \u001b[0;34m\u001b[0m\u001b[0m\n\u001b[0;32m----> 4\u001b[0;31m \u001b[0mmodel\u001b[0m\u001b[0;34m.\u001b[0m\u001b[0mfit\u001b[0m\u001b[0;34m(\u001b[0m\u001b[0mx\u001b[0m\u001b[0;34m=\u001b[0m\u001b[0mtraining_gen\u001b[0m\u001b[0;34m,\u001b[0m \u001b[0mvalidation_data\u001b[0m\u001b[0;34m=\u001b[0m\u001b[0mval_gen\u001b[0m\u001b[0;34m,\u001b[0m \u001b[0mepochs\u001b[0m\u001b[0;34m=\u001b[0m\u001b[0;36m100\u001b[0m\u001b[0;34m)\u001b[0m\u001b[0;34m\u001b[0m\u001b[0;34m\u001b[0m\u001b[0m\n\u001b[0m",
            "\u001b[0;32m/usr/local/lib/python3.7/dist-packages/tensorflow/python/keras/engine/training.py\u001b[0m in \u001b[0;36mfit\u001b[0;34m(self, x, y, batch_size, epochs, verbose, callbacks, validation_split, validation_data, shuffle, class_weight, sample_weight, initial_epoch, steps_per_epoch, validation_steps, validation_batch_size, validation_freq, max_queue_size, workers, use_multiprocessing)\u001b[0m\n\u001b[1;32m   1103\u001b[0m               \u001b[0mlogs\u001b[0m \u001b[0;34m=\u001b[0m \u001b[0mtmp_logs\u001b[0m  \u001b[0;31m# No error, now safe to assign to logs.\u001b[0m\u001b[0;34m\u001b[0m\u001b[0;34m\u001b[0m\u001b[0m\n\u001b[1;32m   1104\u001b[0m               \u001b[0mend_step\u001b[0m \u001b[0;34m=\u001b[0m \u001b[0mstep\u001b[0m \u001b[0;34m+\u001b[0m \u001b[0mdata_handler\u001b[0m\u001b[0;34m.\u001b[0m\u001b[0mstep_increment\u001b[0m\u001b[0;34m\u001b[0m\u001b[0;34m\u001b[0m\u001b[0m\n\u001b[0;32m-> 1105\u001b[0;31m               \u001b[0mcallbacks\u001b[0m\u001b[0;34m.\u001b[0m\u001b[0mon_train_batch_end\u001b[0m\u001b[0;34m(\u001b[0m\u001b[0mend_step\u001b[0m\u001b[0;34m,\u001b[0m \u001b[0mlogs\u001b[0m\u001b[0;34m)\u001b[0m\u001b[0;34m\u001b[0m\u001b[0;34m\u001b[0m\u001b[0m\n\u001b[0m\u001b[1;32m   1106\u001b[0m               \u001b[0;32mif\u001b[0m \u001b[0mself\u001b[0m\u001b[0;34m.\u001b[0m\u001b[0mstop_training\u001b[0m\u001b[0;34m:\u001b[0m\u001b[0;34m\u001b[0m\u001b[0;34m\u001b[0m\u001b[0m\n\u001b[1;32m   1107\u001b[0m                 \u001b[0;32mbreak\u001b[0m\u001b[0;34m\u001b[0m\u001b[0;34m\u001b[0m\u001b[0m\n",
            "\u001b[0;32m/usr/local/lib/python3.7/dist-packages/tensorflow/python/keras/callbacks.py\u001b[0m in \u001b[0;36mon_train_batch_end\u001b[0;34m(self, batch, logs)\u001b[0m\n\u001b[1;32m    452\u001b[0m     \"\"\"\n\u001b[1;32m    453\u001b[0m     \u001b[0;32mif\u001b[0m \u001b[0mself\u001b[0m\u001b[0;34m.\u001b[0m\u001b[0m_should_call_train_batch_hooks\u001b[0m\u001b[0;34m:\u001b[0m\u001b[0;34m\u001b[0m\u001b[0;34m\u001b[0m\u001b[0m\n\u001b[0;32m--> 454\u001b[0;31m       \u001b[0mself\u001b[0m\u001b[0;34m.\u001b[0m\u001b[0m_call_batch_hook\u001b[0m\u001b[0;34m(\u001b[0m\u001b[0mModeKeys\u001b[0m\u001b[0;34m.\u001b[0m\u001b[0mTRAIN\u001b[0m\u001b[0;34m,\u001b[0m \u001b[0;34m'end'\u001b[0m\u001b[0;34m,\u001b[0m \u001b[0mbatch\u001b[0m\u001b[0;34m,\u001b[0m \u001b[0mlogs\u001b[0m\u001b[0;34m=\u001b[0m\u001b[0mlogs\u001b[0m\u001b[0;34m)\u001b[0m\u001b[0;34m\u001b[0m\u001b[0;34m\u001b[0m\u001b[0m\n\u001b[0m\u001b[1;32m    455\u001b[0m \u001b[0;34m\u001b[0m\u001b[0m\n\u001b[1;32m    456\u001b[0m   \u001b[0;32mdef\u001b[0m \u001b[0mon_test_batch_begin\u001b[0m\u001b[0;34m(\u001b[0m\u001b[0mself\u001b[0m\u001b[0;34m,\u001b[0m \u001b[0mbatch\u001b[0m\u001b[0;34m,\u001b[0m \u001b[0mlogs\u001b[0m\u001b[0;34m=\u001b[0m\u001b[0;32mNone\u001b[0m\u001b[0;34m)\u001b[0m\u001b[0;34m:\u001b[0m\u001b[0;34m\u001b[0m\u001b[0;34m\u001b[0m\u001b[0m\n",
            "\u001b[0;32m/usr/local/lib/python3.7/dist-packages/tensorflow/python/keras/callbacks.py\u001b[0m in \u001b[0;36m_call_batch_hook\u001b[0;34m(self, mode, hook, batch, logs)\u001b[0m\n\u001b[1;32m    294\u001b[0m       \u001b[0mself\u001b[0m\u001b[0;34m.\u001b[0m\u001b[0m_call_batch_begin_hook\u001b[0m\u001b[0;34m(\u001b[0m\u001b[0mmode\u001b[0m\u001b[0;34m,\u001b[0m \u001b[0mbatch\u001b[0m\u001b[0;34m,\u001b[0m \u001b[0mlogs\u001b[0m\u001b[0;34m)\u001b[0m\u001b[0;34m\u001b[0m\u001b[0;34m\u001b[0m\u001b[0m\n\u001b[1;32m    295\u001b[0m     \u001b[0;32melif\u001b[0m \u001b[0mhook\u001b[0m \u001b[0;34m==\u001b[0m \u001b[0;34m'end'\u001b[0m\u001b[0;34m:\u001b[0m\u001b[0;34m\u001b[0m\u001b[0;34m\u001b[0m\u001b[0m\n\u001b[0;32m--> 296\u001b[0;31m       \u001b[0mself\u001b[0m\u001b[0;34m.\u001b[0m\u001b[0m_call_batch_end_hook\u001b[0m\u001b[0;34m(\u001b[0m\u001b[0mmode\u001b[0m\u001b[0;34m,\u001b[0m \u001b[0mbatch\u001b[0m\u001b[0;34m,\u001b[0m \u001b[0mlogs\u001b[0m\u001b[0;34m)\u001b[0m\u001b[0;34m\u001b[0m\u001b[0;34m\u001b[0m\u001b[0m\n\u001b[0m\u001b[1;32m    297\u001b[0m     \u001b[0;32melse\u001b[0m\u001b[0;34m:\u001b[0m\u001b[0;34m\u001b[0m\u001b[0;34m\u001b[0m\u001b[0m\n\u001b[1;32m    298\u001b[0m       \u001b[0;32mraise\u001b[0m \u001b[0mValueError\u001b[0m\u001b[0;34m(\u001b[0m\u001b[0;34m'Unrecognized hook: {}'\u001b[0m\u001b[0;34m.\u001b[0m\u001b[0mformat\u001b[0m\u001b[0;34m(\u001b[0m\u001b[0mhook\u001b[0m\u001b[0;34m)\u001b[0m\u001b[0;34m)\u001b[0m\u001b[0;34m\u001b[0m\u001b[0;34m\u001b[0m\u001b[0m\n",
            "\u001b[0;32m/usr/local/lib/python3.7/dist-packages/tensorflow/python/keras/callbacks.py\u001b[0m in \u001b[0;36m_call_batch_end_hook\u001b[0;34m(self, mode, batch, logs)\u001b[0m\n\u001b[1;32m    314\u001b[0m       \u001b[0mself\u001b[0m\u001b[0;34m.\u001b[0m\u001b[0m_batch_times\u001b[0m\u001b[0;34m.\u001b[0m\u001b[0mappend\u001b[0m\u001b[0;34m(\u001b[0m\u001b[0mbatch_time\u001b[0m\u001b[0;34m)\u001b[0m\u001b[0;34m\u001b[0m\u001b[0;34m\u001b[0m\u001b[0m\n\u001b[1;32m    315\u001b[0m \u001b[0;34m\u001b[0m\u001b[0m\n\u001b[0;32m--> 316\u001b[0;31m     \u001b[0mself\u001b[0m\u001b[0;34m.\u001b[0m\u001b[0m_call_batch_hook_helper\u001b[0m\u001b[0;34m(\u001b[0m\u001b[0mhook_name\u001b[0m\u001b[0;34m,\u001b[0m \u001b[0mbatch\u001b[0m\u001b[0;34m,\u001b[0m \u001b[0mlogs\u001b[0m\u001b[0;34m)\u001b[0m\u001b[0;34m\u001b[0m\u001b[0;34m\u001b[0m\u001b[0m\n\u001b[0m\u001b[1;32m    317\u001b[0m \u001b[0;34m\u001b[0m\u001b[0m\n\u001b[1;32m    318\u001b[0m     \u001b[0;32mif\u001b[0m \u001b[0mlen\u001b[0m\u001b[0;34m(\u001b[0m\u001b[0mself\u001b[0m\u001b[0;34m.\u001b[0m\u001b[0m_batch_times\u001b[0m\u001b[0;34m)\u001b[0m \u001b[0;34m>=\u001b[0m \u001b[0mself\u001b[0m\u001b[0;34m.\u001b[0m\u001b[0m_num_batches_for_timing_check\u001b[0m\u001b[0;34m:\u001b[0m\u001b[0;34m\u001b[0m\u001b[0;34m\u001b[0m\u001b[0m\n",
            "\u001b[0;32m/usr/local/lib/python3.7/dist-packages/tensorflow/python/keras/callbacks.py\u001b[0m in \u001b[0;36m_call_batch_hook_helper\u001b[0;34m(self, hook_name, batch, logs)\u001b[0m\n\u001b[1;32m    354\u001b[0m       \u001b[0mhook\u001b[0m \u001b[0;34m=\u001b[0m \u001b[0mgetattr\u001b[0m\u001b[0;34m(\u001b[0m\u001b[0mcallback\u001b[0m\u001b[0;34m,\u001b[0m \u001b[0mhook_name\u001b[0m\u001b[0;34m)\u001b[0m\u001b[0;34m\u001b[0m\u001b[0;34m\u001b[0m\u001b[0m\n\u001b[1;32m    355\u001b[0m       \u001b[0;32mif\u001b[0m \u001b[0mgetattr\u001b[0m\u001b[0;34m(\u001b[0m\u001b[0mcallback\u001b[0m\u001b[0;34m,\u001b[0m \u001b[0;34m'_supports_tf_logs'\u001b[0m\u001b[0;34m,\u001b[0m \u001b[0;32mFalse\u001b[0m\u001b[0;34m)\u001b[0m\u001b[0;34m:\u001b[0m\u001b[0;34m\u001b[0m\u001b[0;34m\u001b[0m\u001b[0m\n\u001b[0;32m--> 356\u001b[0;31m         \u001b[0mhook\u001b[0m\u001b[0;34m(\u001b[0m\u001b[0mbatch\u001b[0m\u001b[0;34m,\u001b[0m \u001b[0mlogs\u001b[0m\u001b[0;34m)\u001b[0m\u001b[0;34m\u001b[0m\u001b[0;34m\u001b[0m\u001b[0m\n\u001b[0m\u001b[1;32m    357\u001b[0m       \u001b[0;32melse\u001b[0m\u001b[0;34m:\u001b[0m\u001b[0;34m\u001b[0m\u001b[0;34m\u001b[0m\u001b[0m\n\u001b[1;32m    358\u001b[0m         \u001b[0;32mif\u001b[0m \u001b[0mnumpy_logs\u001b[0m \u001b[0;32mis\u001b[0m \u001b[0;32mNone\u001b[0m\u001b[0;34m:\u001b[0m  \u001b[0;31m# Only convert once.\u001b[0m\u001b[0;34m\u001b[0m\u001b[0;34m\u001b[0m\u001b[0m\n",
            "\u001b[0;32m/usr/local/lib/python3.7/dist-packages/tensorflow/python/keras/callbacks.py\u001b[0m in \u001b[0;36mon_train_batch_end\u001b[0;34m(self, batch, logs)\u001b[0m\n\u001b[1;32m   1018\u001b[0m \u001b[0;34m\u001b[0m\u001b[0m\n\u001b[1;32m   1019\u001b[0m   \u001b[0;32mdef\u001b[0m \u001b[0mon_train_batch_end\u001b[0m\u001b[0;34m(\u001b[0m\u001b[0mself\u001b[0m\u001b[0;34m,\u001b[0m \u001b[0mbatch\u001b[0m\u001b[0;34m,\u001b[0m \u001b[0mlogs\u001b[0m\u001b[0;34m=\u001b[0m\u001b[0;32mNone\u001b[0m\u001b[0;34m)\u001b[0m\u001b[0;34m:\u001b[0m\u001b[0;34m\u001b[0m\u001b[0;34m\u001b[0m\u001b[0m\n\u001b[0;32m-> 1020\u001b[0;31m     \u001b[0mself\u001b[0m\u001b[0;34m.\u001b[0m\u001b[0m_batch_update_progbar\u001b[0m\u001b[0;34m(\u001b[0m\u001b[0mbatch\u001b[0m\u001b[0;34m,\u001b[0m \u001b[0mlogs\u001b[0m\u001b[0;34m)\u001b[0m\u001b[0;34m\u001b[0m\u001b[0;34m\u001b[0m\u001b[0m\n\u001b[0m\u001b[1;32m   1021\u001b[0m \u001b[0;34m\u001b[0m\u001b[0m\n\u001b[1;32m   1022\u001b[0m   \u001b[0;32mdef\u001b[0m \u001b[0mon_test_batch_end\u001b[0m\u001b[0;34m(\u001b[0m\u001b[0mself\u001b[0m\u001b[0;34m,\u001b[0m \u001b[0mbatch\u001b[0m\u001b[0;34m,\u001b[0m \u001b[0mlogs\u001b[0m\u001b[0;34m=\u001b[0m\u001b[0;32mNone\u001b[0m\u001b[0;34m)\u001b[0m\u001b[0;34m:\u001b[0m\u001b[0;34m\u001b[0m\u001b[0;34m\u001b[0m\u001b[0m\n",
            "\u001b[0;32m/usr/local/lib/python3.7/dist-packages/tensorflow/python/keras/callbacks.py\u001b[0m in \u001b[0;36m_batch_update_progbar\u001b[0;34m(self, batch, logs)\u001b[0m\n\u001b[1;32m   1082\u001b[0m     \u001b[0;32mif\u001b[0m \u001b[0mself\u001b[0m\u001b[0;34m.\u001b[0m\u001b[0mverbose\u001b[0m \u001b[0;34m==\u001b[0m \u001b[0;36m1\u001b[0m\u001b[0;34m:\u001b[0m\u001b[0;34m\u001b[0m\u001b[0;34m\u001b[0m\u001b[0m\n\u001b[1;32m   1083\u001b[0m       \u001b[0;31m# Only block async when verbose = 1.\u001b[0m\u001b[0;34m\u001b[0m\u001b[0;34m\u001b[0m\u001b[0;34m\u001b[0m\u001b[0m\n\u001b[0;32m-> 1084\u001b[0;31m       \u001b[0mlogs\u001b[0m \u001b[0;34m=\u001b[0m \u001b[0mtf_utils\u001b[0m\u001b[0;34m.\u001b[0m\u001b[0mto_numpy_or_python_type\u001b[0m\u001b[0;34m(\u001b[0m\u001b[0mlogs\u001b[0m\u001b[0;34m)\u001b[0m\u001b[0;34m\u001b[0m\u001b[0;34m\u001b[0m\u001b[0m\n\u001b[0m\u001b[1;32m   1085\u001b[0m       \u001b[0mself\u001b[0m\u001b[0;34m.\u001b[0m\u001b[0mprogbar\u001b[0m\u001b[0;34m.\u001b[0m\u001b[0mupdate\u001b[0m\u001b[0;34m(\u001b[0m\u001b[0mself\u001b[0m\u001b[0;34m.\u001b[0m\u001b[0mseen\u001b[0m\u001b[0;34m,\u001b[0m \u001b[0mlist\u001b[0m\u001b[0;34m(\u001b[0m\u001b[0mlogs\u001b[0m\u001b[0;34m.\u001b[0m\u001b[0mitems\u001b[0m\u001b[0;34m(\u001b[0m\u001b[0;34m)\u001b[0m\u001b[0;34m)\u001b[0m\u001b[0;34m,\u001b[0m \u001b[0mfinalize\u001b[0m\u001b[0;34m=\u001b[0m\u001b[0;32mFalse\u001b[0m\u001b[0;34m)\u001b[0m\u001b[0;34m\u001b[0m\u001b[0;34m\u001b[0m\u001b[0m\n\u001b[1;32m   1086\u001b[0m \u001b[0;34m\u001b[0m\u001b[0m\n",
            "\u001b[0;32m/usr/local/lib/python3.7/dist-packages/tensorflow/python/keras/utils/tf_utils.py\u001b[0m in \u001b[0;36mto_numpy_or_python_type\u001b[0;34m(tensors)\u001b[0m\n\u001b[1;32m    512\u001b[0m     \u001b[0;32mreturn\u001b[0m \u001b[0mt\u001b[0m  \u001b[0;31m# Don't turn ragged or sparse tensors to NumPy.\u001b[0m\u001b[0;34m\u001b[0m\u001b[0;34m\u001b[0m\u001b[0m\n\u001b[1;32m    513\u001b[0m \u001b[0;34m\u001b[0m\u001b[0m\n\u001b[0;32m--> 514\u001b[0;31m   \u001b[0;32mreturn\u001b[0m \u001b[0mnest\u001b[0m\u001b[0;34m.\u001b[0m\u001b[0mmap_structure\u001b[0m\u001b[0;34m(\u001b[0m\u001b[0m_to_single_numpy_or_python_type\u001b[0m\u001b[0;34m,\u001b[0m \u001b[0mtensors\u001b[0m\u001b[0;34m)\u001b[0m\u001b[0;34m\u001b[0m\u001b[0;34m\u001b[0m\u001b[0m\n\u001b[0m\u001b[1;32m    515\u001b[0m \u001b[0;34m\u001b[0m\u001b[0m\n\u001b[1;32m    516\u001b[0m \u001b[0;34m\u001b[0m\u001b[0m\n",
            "\u001b[0;32m/usr/local/lib/python3.7/dist-packages/tensorflow/python/util/nest.py\u001b[0m in \u001b[0;36mmap_structure\u001b[0;34m(func, *structure, **kwargs)\u001b[0m\n\u001b[1;32m    657\u001b[0m \u001b[0;34m\u001b[0m\u001b[0m\n\u001b[1;32m    658\u001b[0m   return pack_sequence_as(\n\u001b[0;32m--> 659\u001b[0;31m       \u001b[0mstructure\u001b[0m\u001b[0;34m[\u001b[0m\u001b[0;36m0\u001b[0m\u001b[0;34m]\u001b[0m\u001b[0;34m,\u001b[0m \u001b[0;34m[\u001b[0m\u001b[0mfunc\u001b[0m\u001b[0;34m(\u001b[0m\u001b[0;34m*\u001b[0m\u001b[0mx\u001b[0m\u001b[0;34m)\u001b[0m \u001b[0;32mfor\u001b[0m \u001b[0mx\u001b[0m \u001b[0;32min\u001b[0m \u001b[0mentries\u001b[0m\u001b[0;34m]\u001b[0m\u001b[0;34m,\u001b[0m\u001b[0;34m\u001b[0m\u001b[0;34m\u001b[0m\u001b[0m\n\u001b[0m\u001b[1;32m    660\u001b[0m       expand_composites=expand_composites)\n\u001b[1;32m    661\u001b[0m \u001b[0;34m\u001b[0m\u001b[0m\n",
            "\u001b[0;32m/usr/local/lib/python3.7/dist-packages/tensorflow/python/util/nest.py\u001b[0m in \u001b[0;36m<listcomp>\u001b[0;34m(.0)\u001b[0m\n\u001b[1;32m    657\u001b[0m \u001b[0;34m\u001b[0m\u001b[0m\n\u001b[1;32m    658\u001b[0m   return pack_sequence_as(\n\u001b[0;32m--> 659\u001b[0;31m       \u001b[0mstructure\u001b[0m\u001b[0;34m[\u001b[0m\u001b[0;36m0\u001b[0m\u001b[0;34m]\u001b[0m\u001b[0;34m,\u001b[0m \u001b[0;34m[\u001b[0m\u001b[0mfunc\u001b[0m\u001b[0;34m(\u001b[0m\u001b[0;34m*\u001b[0m\u001b[0mx\u001b[0m\u001b[0;34m)\u001b[0m \u001b[0;32mfor\u001b[0m \u001b[0mx\u001b[0m \u001b[0;32min\u001b[0m \u001b[0mentries\u001b[0m\u001b[0;34m]\u001b[0m\u001b[0;34m,\u001b[0m\u001b[0;34m\u001b[0m\u001b[0;34m\u001b[0m\u001b[0m\n\u001b[0m\u001b[1;32m    660\u001b[0m       expand_composites=expand_composites)\n\u001b[1;32m    661\u001b[0m \u001b[0;34m\u001b[0m\u001b[0m\n",
            "\u001b[0;32m/usr/local/lib/python3.7/dist-packages/tensorflow/python/keras/utils/tf_utils.py\u001b[0m in \u001b[0;36m_to_single_numpy_or_python_type\u001b[0;34m(t)\u001b[0m\n\u001b[1;32m    508\u001b[0m   \u001b[0;32mdef\u001b[0m \u001b[0m_to_single_numpy_or_python_type\u001b[0m\u001b[0;34m(\u001b[0m\u001b[0mt\u001b[0m\u001b[0;34m)\u001b[0m\u001b[0;34m:\u001b[0m\u001b[0;34m\u001b[0m\u001b[0;34m\u001b[0m\u001b[0m\n\u001b[1;32m    509\u001b[0m     \u001b[0;32mif\u001b[0m \u001b[0misinstance\u001b[0m\u001b[0;34m(\u001b[0m\u001b[0mt\u001b[0m\u001b[0;34m,\u001b[0m \u001b[0mops\u001b[0m\u001b[0;34m.\u001b[0m\u001b[0mTensor\u001b[0m\u001b[0;34m)\u001b[0m\u001b[0;34m:\u001b[0m\u001b[0;34m\u001b[0m\u001b[0;34m\u001b[0m\u001b[0m\n\u001b[0;32m--> 510\u001b[0;31m       \u001b[0mx\u001b[0m \u001b[0;34m=\u001b[0m \u001b[0mt\u001b[0m\u001b[0;34m.\u001b[0m\u001b[0mnumpy\u001b[0m\u001b[0;34m(\u001b[0m\u001b[0;34m)\u001b[0m\u001b[0;34m\u001b[0m\u001b[0;34m\u001b[0m\u001b[0m\n\u001b[0m\u001b[1;32m    511\u001b[0m       \u001b[0;32mreturn\u001b[0m \u001b[0mx\u001b[0m\u001b[0;34m.\u001b[0m\u001b[0mitem\u001b[0m\u001b[0;34m(\u001b[0m\u001b[0;34m)\u001b[0m \u001b[0;32mif\u001b[0m \u001b[0mnp\u001b[0m\u001b[0;34m.\u001b[0m\u001b[0mndim\u001b[0m\u001b[0;34m(\u001b[0m\u001b[0mx\u001b[0m\u001b[0;34m)\u001b[0m \u001b[0;34m==\u001b[0m \u001b[0;36m0\u001b[0m \u001b[0;32melse\u001b[0m \u001b[0mx\u001b[0m\u001b[0;34m\u001b[0m\u001b[0;34m\u001b[0m\u001b[0m\n\u001b[1;32m    512\u001b[0m     \u001b[0;32mreturn\u001b[0m \u001b[0mt\u001b[0m  \u001b[0;31m# Don't turn ragged or sparse tensors to NumPy.\u001b[0m\u001b[0;34m\u001b[0m\u001b[0;34m\u001b[0m\u001b[0m\n",
            "\u001b[0;32m/usr/local/lib/python3.7/dist-packages/tensorflow/python/framework/ops.py\u001b[0m in \u001b[0;36mnumpy\u001b[0;34m(self)\u001b[0m\n\u001b[1;32m   1069\u001b[0m     \"\"\"\n\u001b[1;32m   1070\u001b[0m     \u001b[0;31m# TODO(slebedev): Consider avoiding a copy for non-CPU or remote tensors.\u001b[0m\u001b[0;34m\u001b[0m\u001b[0;34m\u001b[0m\u001b[0;34m\u001b[0m\u001b[0m\n\u001b[0;32m-> 1071\u001b[0;31m     \u001b[0mmaybe_arr\u001b[0m \u001b[0;34m=\u001b[0m \u001b[0mself\u001b[0m\u001b[0;34m.\u001b[0m\u001b[0m_numpy\u001b[0m\u001b[0;34m(\u001b[0m\u001b[0;34m)\u001b[0m  \u001b[0;31m# pylint: disable=protected-access\u001b[0m\u001b[0;34m\u001b[0m\u001b[0;34m\u001b[0m\u001b[0m\n\u001b[0m\u001b[1;32m   1072\u001b[0m     \u001b[0;32mreturn\u001b[0m \u001b[0mmaybe_arr\u001b[0m\u001b[0;34m.\u001b[0m\u001b[0mcopy\u001b[0m\u001b[0;34m(\u001b[0m\u001b[0;34m)\u001b[0m \u001b[0;32mif\u001b[0m \u001b[0misinstance\u001b[0m\u001b[0;34m(\u001b[0m\u001b[0mmaybe_arr\u001b[0m\u001b[0;34m,\u001b[0m \u001b[0mnp\u001b[0m\u001b[0;34m.\u001b[0m\u001b[0mndarray\u001b[0m\u001b[0;34m)\u001b[0m \u001b[0;32melse\u001b[0m \u001b[0mmaybe_arr\u001b[0m\u001b[0;34m\u001b[0m\u001b[0;34m\u001b[0m\u001b[0m\n\u001b[1;32m   1073\u001b[0m \u001b[0;34m\u001b[0m\u001b[0m\n",
            "\u001b[0;32m/usr/local/lib/python3.7/dist-packages/tensorflow/python/framework/ops.py\u001b[0m in \u001b[0;36m_numpy\u001b[0;34m(self)\u001b[0m\n\u001b[1;32m   1035\u001b[0m   \u001b[0;32mdef\u001b[0m \u001b[0m_numpy\u001b[0m\u001b[0;34m(\u001b[0m\u001b[0mself\u001b[0m\u001b[0;34m)\u001b[0m\u001b[0;34m:\u001b[0m\u001b[0;34m\u001b[0m\u001b[0;34m\u001b[0m\u001b[0m\n\u001b[1;32m   1036\u001b[0m     \u001b[0;32mtry\u001b[0m\u001b[0;34m:\u001b[0m\u001b[0;34m\u001b[0m\u001b[0;34m\u001b[0m\u001b[0m\n\u001b[0;32m-> 1037\u001b[0;31m       \u001b[0;32mreturn\u001b[0m \u001b[0mself\u001b[0m\u001b[0;34m.\u001b[0m\u001b[0m_numpy_internal\u001b[0m\u001b[0;34m(\u001b[0m\u001b[0;34m)\u001b[0m\u001b[0;34m\u001b[0m\u001b[0;34m\u001b[0m\u001b[0m\n\u001b[0m\u001b[1;32m   1038\u001b[0m     \u001b[0;32mexcept\u001b[0m \u001b[0mcore\u001b[0m\u001b[0;34m.\u001b[0m\u001b[0m_NotOkStatusException\u001b[0m \u001b[0;32mas\u001b[0m \u001b[0me\u001b[0m\u001b[0;34m:\u001b[0m  \u001b[0;31m# pylint: disable=protected-access\u001b[0m\u001b[0;34m\u001b[0m\u001b[0;34m\u001b[0m\u001b[0m\n\u001b[1;32m   1039\u001b[0m       \u001b[0msix\u001b[0m\u001b[0;34m.\u001b[0m\u001b[0mraise_from\u001b[0m\u001b[0;34m(\u001b[0m\u001b[0mcore\u001b[0m\u001b[0;34m.\u001b[0m\u001b[0m_status_to_exception\u001b[0m\u001b[0;34m(\u001b[0m\u001b[0me\u001b[0m\u001b[0;34m.\u001b[0m\u001b[0mcode\u001b[0m\u001b[0;34m,\u001b[0m \u001b[0me\u001b[0m\u001b[0;34m.\u001b[0m\u001b[0mmessage\u001b[0m\u001b[0;34m)\u001b[0m\u001b[0;34m,\u001b[0m \u001b[0;32mNone\u001b[0m\u001b[0;34m)\u001b[0m  \u001b[0;31m# pylint: disable=protected-access\u001b[0m\u001b[0;34m\u001b[0m\u001b[0;34m\u001b[0m\u001b[0m\n",
            "\u001b[0;31mKeyboardInterrupt\u001b[0m: "
          ]
        }
      ]
    },
    {
      "cell_type": "code",
      "metadata": {
        "colab": {
          "base_uri": "https://localhost:8080/",
          "height": 357
        },
        "id": "Z4bB4oqAlB5u",
        "outputId": "b4497f38-984a-4185-b22a-c77bbb428778"
      },
      "source": [
        "test_gen = MyDatagen(range(20000000, 24872517), validation=True)\n",
        "\n",
        "model.evaluate(test_gen)"
      ],
      "execution_count": 81,
      "outputs": [
        {
          "output_type": "stream",
          "text": [
            "   223/304532 [..............................] - ETA: 7:19:24 - loss: 0.0127"
          ],
          "name": "stdout"
        },
        {
          "output_type": "error",
          "ename": "KeyboardInterrupt",
          "evalue": "ignored",
          "traceback": [
            "\u001b[0;31m---------------------------------------------------------------------------\u001b[0m",
            "\u001b[0;31mKeyboardInterrupt\u001b[0m                         Traceback (most recent call last)",
            "\u001b[0;32m<ipython-input-81-709353143b01>\u001b[0m in \u001b[0;36m<module>\u001b[0;34m()\u001b[0m\n\u001b[1;32m      1\u001b[0m \u001b[0mtest_gen\u001b[0m \u001b[0;34m=\u001b[0m \u001b[0mMyDatagen\u001b[0m\u001b[0;34m(\u001b[0m\u001b[0mrange\u001b[0m\u001b[0;34m(\u001b[0m\u001b[0;36m20000000\u001b[0m\u001b[0;34m,\u001b[0m \u001b[0;36m24872517\u001b[0m\u001b[0;34m)\u001b[0m\u001b[0;34m,\u001b[0m \u001b[0mvalidation\u001b[0m\u001b[0;34m=\u001b[0m\u001b[0;32mTrue\u001b[0m\u001b[0;34m)\u001b[0m\u001b[0;34m\u001b[0m\u001b[0;34m\u001b[0m\u001b[0m\n\u001b[1;32m      2\u001b[0m \u001b[0;34m\u001b[0m\u001b[0m\n\u001b[0;32m----> 3\u001b[0;31m \u001b[0mmodel\u001b[0m\u001b[0;34m.\u001b[0m\u001b[0mevaluate\u001b[0m\u001b[0;34m(\u001b[0m\u001b[0mtest_gen\u001b[0m\u001b[0;34m)\u001b[0m\u001b[0;34m\u001b[0m\u001b[0;34m\u001b[0m\u001b[0m\n\u001b[0m",
            "\u001b[0;32m/usr/local/lib/python3.7/dist-packages/tensorflow/python/keras/engine/training.py\u001b[0m in \u001b[0;36mevaluate\u001b[0;34m(self, x, y, batch_size, verbose, sample_weight, steps, callbacks, max_queue_size, workers, use_multiprocessing, return_dict)\u001b[0m\n\u001b[1;32m   1387\u001b[0m             \u001b[0;32mwith\u001b[0m \u001b[0mtrace\u001b[0m\u001b[0;34m.\u001b[0m\u001b[0mTrace\u001b[0m\u001b[0;34m(\u001b[0m\u001b[0;34m'test'\u001b[0m\u001b[0;34m,\u001b[0m \u001b[0mstep_num\u001b[0m\u001b[0;34m=\u001b[0m\u001b[0mstep\u001b[0m\u001b[0;34m,\u001b[0m \u001b[0m_r\u001b[0m\u001b[0;34m=\u001b[0m\u001b[0;36m1\u001b[0m\u001b[0;34m)\u001b[0m\u001b[0;34m:\u001b[0m\u001b[0;34m\u001b[0m\u001b[0;34m\u001b[0m\u001b[0m\n\u001b[1;32m   1388\u001b[0m               \u001b[0mcallbacks\u001b[0m\u001b[0;34m.\u001b[0m\u001b[0mon_test_batch_begin\u001b[0m\u001b[0;34m(\u001b[0m\u001b[0mstep\u001b[0m\u001b[0;34m)\u001b[0m\u001b[0;34m\u001b[0m\u001b[0;34m\u001b[0m\u001b[0m\n\u001b[0;32m-> 1389\u001b[0;31m               \u001b[0mtmp_logs\u001b[0m \u001b[0;34m=\u001b[0m \u001b[0mself\u001b[0m\u001b[0;34m.\u001b[0m\u001b[0mtest_function\u001b[0m\u001b[0;34m(\u001b[0m\u001b[0miterator\u001b[0m\u001b[0;34m)\u001b[0m\u001b[0;34m\u001b[0m\u001b[0;34m\u001b[0m\u001b[0m\n\u001b[0m\u001b[1;32m   1390\u001b[0m               \u001b[0;32mif\u001b[0m \u001b[0mdata_handler\u001b[0m\u001b[0;34m.\u001b[0m\u001b[0mshould_sync\u001b[0m\u001b[0;34m:\u001b[0m\u001b[0;34m\u001b[0m\u001b[0;34m\u001b[0m\u001b[0m\n\u001b[1;32m   1391\u001b[0m                 \u001b[0mcontext\u001b[0m\u001b[0;34m.\u001b[0m\u001b[0masync_wait\u001b[0m\u001b[0;34m(\u001b[0m\u001b[0;34m)\u001b[0m\u001b[0;34m\u001b[0m\u001b[0;34m\u001b[0m\u001b[0m\n",
            "\u001b[0;32m/usr/local/lib/python3.7/dist-packages/tensorflow/python/eager/def_function.py\u001b[0m in \u001b[0;36m__call__\u001b[0;34m(self, *args, **kwds)\u001b[0m\n\u001b[1;32m    826\u001b[0m     \u001b[0mtracing_count\u001b[0m \u001b[0;34m=\u001b[0m \u001b[0mself\u001b[0m\u001b[0;34m.\u001b[0m\u001b[0mexperimental_get_tracing_count\u001b[0m\u001b[0;34m(\u001b[0m\u001b[0;34m)\u001b[0m\u001b[0;34m\u001b[0m\u001b[0;34m\u001b[0m\u001b[0m\n\u001b[1;32m    827\u001b[0m     \u001b[0;32mwith\u001b[0m \u001b[0mtrace\u001b[0m\u001b[0;34m.\u001b[0m\u001b[0mTrace\u001b[0m\u001b[0;34m(\u001b[0m\u001b[0mself\u001b[0m\u001b[0;34m.\u001b[0m\u001b[0m_name\u001b[0m\u001b[0;34m)\u001b[0m \u001b[0;32mas\u001b[0m \u001b[0mtm\u001b[0m\u001b[0;34m:\u001b[0m\u001b[0;34m\u001b[0m\u001b[0;34m\u001b[0m\u001b[0m\n\u001b[0;32m--> 828\u001b[0;31m       \u001b[0mresult\u001b[0m \u001b[0;34m=\u001b[0m \u001b[0mself\u001b[0m\u001b[0;34m.\u001b[0m\u001b[0m_call\u001b[0m\u001b[0;34m(\u001b[0m\u001b[0;34m*\u001b[0m\u001b[0margs\u001b[0m\u001b[0;34m,\u001b[0m \u001b[0;34m**\u001b[0m\u001b[0mkwds\u001b[0m\u001b[0;34m)\u001b[0m\u001b[0;34m\u001b[0m\u001b[0;34m\u001b[0m\u001b[0m\n\u001b[0m\u001b[1;32m    829\u001b[0m       \u001b[0mcompiler\u001b[0m \u001b[0;34m=\u001b[0m \u001b[0;34m\"xla\"\u001b[0m \u001b[0;32mif\u001b[0m \u001b[0mself\u001b[0m\u001b[0;34m.\u001b[0m\u001b[0m_experimental_compile\u001b[0m \u001b[0;32melse\u001b[0m \u001b[0;34m\"nonXla\"\u001b[0m\u001b[0;34m\u001b[0m\u001b[0;34m\u001b[0m\u001b[0m\n\u001b[1;32m    830\u001b[0m       \u001b[0mnew_tracing_count\u001b[0m \u001b[0;34m=\u001b[0m \u001b[0mself\u001b[0m\u001b[0;34m.\u001b[0m\u001b[0mexperimental_get_tracing_count\u001b[0m\u001b[0;34m(\u001b[0m\u001b[0;34m)\u001b[0m\u001b[0;34m\u001b[0m\u001b[0;34m\u001b[0m\u001b[0m\n",
            "\u001b[0;32m/usr/local/lib/python3.7/dist-packages/tensorflow/python/eager/def_function.py\u001b[0m in \u001b[0;36m_call\u001b[0;34m(self, *args, **kwds)\u001b[0m\n\u001b[1;32m    860\u001b[0m       \u001b[0;31m# In this case we have not created variables on the first call. So we can\u001b[0m\u001b[0;34m\u001b[0m\u001b[0;34m\u001b[0m\u001b[0;34m\u001b[0m\u001b[0m\n\u001b[1;32m    861\u001b[0m       \u001b[0;31m# run the first trace but we should fail if variables are created.\u001b[0m\u001b[0;34m\u001b[0m\u001b[0;34m\u001b[0m\u001b[0;34m\u001b[0m\u001b[0m\n\u001b[0;32m--> 862\u001b[0;31m       \u001b[0mresults\u001b[0m \u001b[0;34m=\u001b[0m \u001b[0mself\u001b[0m\u001b[0;34m.\u001b[0m\u001b[0m_stateful_fn\u001b[0m\u001b[0;34m(\u001b[0m\u001b[0;34m*\u001b[0m\u001b[0margs\u001b[0m\u001b[0;34m,\u001b[0m \u001b[0;34m**\u001b[0m\u001b[0mkwds\u001b[0m\u001b[0;34m)\u001b[0m\u001b[0;34m\u001b[0m\u001b[0;34m\u001b[0m\u001b[0m\n\u001b[0m\u001b[1;32m    863\u001b[0m       \u001b[0;32mif\u001b[0m \u001b[0mself\u001b[0m\u001b[0;34m.\u001b[0m\u001b[0m_created_variables\u001b[0m\u001b[0;34m:\u001b[0m\u001b[0;34m\u001b[0m\u001b[0;34m\u001b[0m\u001b[0m\n\u001b[1;32m    864\u001b[0m         raise ValueError(\"Creating variables on a non-first call to a function\"\n",
            "\u001b[0;32m/usr/local/lib/python3.7/dist-packages/tensorflow/python/eager/function.py\u001b[0m in \u001b[0;36m__call__\u001b[0;34m(self, *args, **kwargs)\u001b[0m\n\u001b[1;32m   2941\u001b[0m        filtered_flat_args) = self._maybe_define_function(args, kwargs)\n\u001b[1;32m   2942\u001b[0m     return graph_function._call_flat(\n\u001b[0;32m-> 2943\u001b[0;31m         filtered_flat_args, captured_inputs=graph_function.captured_inputs)  # pylint: disable=protected-access\n\u001b[0m\u001b[1;32m   2944\u001b[0m \u001b[0;34m\u001b[0m\u001b[0m\n\u001b[1;32m   2945\u001b[0m   \u001b[0;34m@\u001b[0m\u001b[0mproperty\u001b[0m\u001b[0;34m\u001b[0m\u001b[0;34m\u001b[0m\u001b[0m\n",
            "\u001b[0;32m/usr/local/lib/python3.7/dist-packages/tensorflow/python/eager/function.py\u001b[0m in \u001b[0;36m_call_flat\u001b[0;34m(self, args, captured_inputs, cancellation_manager)\u001b[0m\n\u001b[1;32m   1917\u001b[0m       \u001b[0;31m# No tape is watching; skip to running the function.\u001b[0m\u001b[0;34m\u001b[0m\u001b[0;34m\u001b[0m\u001b[0;34m\u001b[0m\u001b[0m\n\u001b[1;32m   1918\u001b[0m       return self._build_call_outputs(self._inference_function.call(\n\u001b[0;32m-> 1919\u001b[0;31m           ctx, args, cancellation_manager=cancellation_manager))\n\u001b[0m\u001b[1;32m   1920\u001b[0m     forward_backward = self._select_forward_and_backward_functions(\n\u001b[1;32m   1921\u001b[0m         \u001b[0margs\u001b[0m\u001b[0;34m,\u001b[0m\u001b[0;34m\u001b[0m\u001b[0;34m\u001b[0m\u001b[0m\n",
            "\u001b[0;32m/usr/local/lib/python3.7/dist-packages/tensorflow/python/eager/function.py\u001b[0m in \u001b[0;36mcall\u001b[0;34m(self, ctx, args, cancellation_manager)\u001b[0m\n\u001b[1;32m    558\u001b[0m               \u001b[0minputs\u001b[0m\u001b[0;34m=\u001b[0m\u001b[0margs\u001b[0m\u001b[0;34m,\u001b[0m\u001b[0;34m\u001b[0m\u001b[0;34m\u001b[0m\u001b[0m\n\u001b[1;32m    559\u001b[0m               \u001b[0mattrs\u001b[0m\u001b[0;34m=\u001b[0m\u001b[0mattrs\u001b[0m\u001b[0;34m,\u001b[0m\u001b[0;34m\u001b[0m\u001b[0;34m\u001b[0m\u001b[0m\n\u001b[0;32m--> 560\u001b[0;31m               ctx=ctx)\n\u001b[0m\u001b[1;32m    561\u001b[0m         \u001b[0;32melse\u001b[0m\u001b[0;34m:\u001b[0m\u001b[0;34m\u001b[0m\u001b[0;34m\u001b[0m\u001b[0m\n\u001b[1;32m    562\u001b[0m           outputs = execute.execute_with_cancellation(\n",
            "\u001b[0;32m/usr/local/lib/python3.7/dist-packages/tensorflow/python/eager/execute.py\u001b[0m in \u001b[0;36mquick_execute\u001b[0;34m(op_name, num_outputs, inputs, attrs, ctx, name)\u001b[0m\n\u001b[1;32m     58\u001b[0m     \u001b[0mctx\u001b[0m\u001b[0;34m.\u001b[0m\u001b[0mensure_initialized\u001b[0m\u001b[0;34m(\u001b[0m\u001b[0;34m)\u001b[0m\u001b[0;34m\u001b[0m\u001b[0;34m\u001b[0m\u001b[0m\n\u001b[1;32m     59\u001b[0m     tensors = pywrap_tfe.TFE_Py_Execute(ctx._handle, device_name, op_name,\n\u001b[0;32m---> 60\u001b[0;31m                                         inputs, attrs, num_outputs)\n\u001b[0m\u001b[1;32m     61\u001b[0m   \u001b[0;32mexcept\u001b[0m \u001b[0mcore\u001b[0m\u001b[0;34m.\u001b[0m\u001b[0m_NotOkStatusException\u001b[0m \u001b[0;32mas\u001b[0m \u001b[0me\u001b[0m\u001b[0;34m:\u001b[0m\u001b[0;34m\u001b[0m\u001b[0;34m\u001b[0m\u001b[0m\n\u001b[1;32m     62\u001b[0m     \u001b[0;32mif\u001b[0m \u001b[0mname\u001b[0m \u001b[0;32mis\u001b[0m \u001b[0;32mnot\u001b[0m \u001b[0;32mNone\u001b[0m\u001b[0;34m:\u001b[0m\u001b[0;34m\u001b[0m\u001b[0;34m\u001b[0m\u001b[0m\n",
            "\u001b[0;31mKeyboardInterrupt\u001b[0m: "
          ]
        }
      ]
    },
    {
      "cell_type": "code",
      "metadata": {
        "id": "V5bDcRhoVKpl"
      },
      "source": [
        "def make_prediction(model, starting_slice, prediction_length, scaling_factor=1.0):\n",
        "    pattern = np.asarray(starting_slice)\n",
        "    pattern = np.atleast_3d(pattern)\n",
        "\n",
        "    res = []\n",
        "\n",
        "    for i in tqdm(range(prediction_length), position=0, leave=True):\n",
        "        nextvalue = model.predict(pattern, batch_size=1)\n",
        "        pattern = np.append(pattern, nextvalue)\n",
        "        pattern = pattern[1:len(pattern)]\n",
        "        pattern = np.atleast_3d(pattern)\n",
        "        res.append(nextvalue)\n",
        "\n",
        "    return np.asarray(res) * scaling_factor"
      ],
      "execution_count": 72,
      "outputs": []
    },
    {
      "cell_type": "code",
      "metadata": {
        "colab": {
          "base_uri": "https://localhost:8080/"
        },
        "id": "0xvC-BnkWDrw",
        "outputId": "2cb87fac-4a6d-483d-a20f-4d789f5b6c73"
      },
      "source": [
        "SR = 16384\n",
        "SECONDS = 2\n",
        "PRED_LEN = SR*SECONDS\n",
        "\n",
        "predicted = make_prediction(model, scaled[30000000:30000000+SLICE_SIZE], PRED_LEN, np.max(fullnp))"
      ],
      "execution_count": 73,
      "outputs": [
        {
          "output_type": "stream",
          "text": [
            "100%|██████████| 32768/32768 [22:00<00:00, 24.82it/s]\n"
          ],
          "name": "stderr"
        }
      ]
    },
    {
      "cell_type": "code",
      "metadata": {
        "colab": {
          "base_uri": "https://localhost:8080/"
        },
        "id": "UuYZ581yem4Y",
        "outputId": "b455968c-07d7-4cc0-8c92-dcfafdd1f789"
      },
      "source": [
        "print(predicted.shape)"
      ],
      "execution_count": 74,
      "outputs": [
        {
          "output_type": "stream",
          "text": [
            "(32768, 1, 1)\n"
          ],
          "name": "stdout"
        }
      ]
    },
    {
      "cell_type": "code",
      "metadata": {
        "colab": {
          "base_uri": "https://localhost:8080/"
        },
        "id": "zF5NpoSAk5vO",
        "outputId": "ca5b68a1-50fd-4ba9-a64a-dded2957d949"
      },
      "source": [
        "print(np.min(predicted))"
      ],
      "execution_count": 77,
      "outputs": [
        {
          "output_type": "stream",
          "text": [
            "-52.607742\n"
          ],
          "name": "stdout"
        }
      ]
    },
    {
      "cell_type": "code",
      "metadata": {
        "colab": {
          "base_uri": "https://localhost:8080/",
          "height": 75
        },
        "id": "C5HHYDBHfGpY",
        "outputId": "8274124a-eaa1-48ce-9f75-85bfda391890"
      },
      "source": [
        "from IPython.lib.display import Audio\n",
        "\n",
        "Audio(np.squeeze(predicted), rate=2*8192, autoplay=False)"
      ],
      "execution_count": 75,
      "outputs": [
        {
          "output_type": "execute_result",
          "data": {
            "text/html": [
              "\n",
              "                <audio controls=\"controls\" >\n",
              "                    <source src=\"data:audio/wav;base64,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\" type=\"audio/wav\" />\n",
              "                    Your browser does not support the audio element.\n",
              "                </audio>\n",
              "              "
            ],
            "text/plain": [
              "<IPython.lib.display.Audio object>"
            ]
          },
          "metadata": {
            "tags": []
          },
          "execution_count": 75
        }
      ]
    },
    {
      "cell_type": "code",
      "metadata": {
        "id": "5-SNHf_OcZ-8"
      },
      "source": [
        "!pip install simpleaudio"
      ],
      "execution_count": null,
      "outputs": []
    },
    {
      "cell_type": "code",
      "metadata": {
        "id": "-H1fzsswcr3T"
      },
      "source": [
        "import simpleaudio as sa\n",
        "Itt j\n",
        "audio = predicted * (2**15 - 1) / np.max(np.abs(predicted))\n",
        "audio = audio.astype(np.int16)"
      ],
      "execution_count": 49,
      "outputs": []
    },
    {
      "cell_type": "code",
      "metadata": {
        "id": "fzURfUmGdoI9"
      },
      "source": [
        "!pip install wavio"
      ],
      "execution_count": null,
      "outputs": []
    },
    {
      "cell_type": "code",
      "metadata": {
        "id": "ZbP8bVF7dhUO"
      },
      "source": [
        "import wavio\n",
        "\n",
        "wavio.write(\"myfile.wav\", audio, 16000, sampwidth=2)"
      ],
      "execution_count": 57,
      "outputs": []
    },
    {
      "cell_type": "code",
      "metadata": {
        "id": "G4o-vXz3dxUV"
      },
      "source": [
        "wavio.write(\"music1.wav\", predicted, 16000, sampwidth=2)"
      ],
      "execution_count": 58,
      "outputs": []
    },
    {
      "cell_type": "code",
      "metadata": {
        "id": "o3nL7LyIdIev"
      },
      "source": [
        "!pip install --upgrade pip setuptools"
      ],
      "execution_count": null,
      "outputs": []
    },
    {
      "cell_type": "code",
      "metadata": {
        "id": "8MT9rkaUdMM9"
      },
      "source": [
        "!sudo apt-get install -y python3-dev libasound2-dev"
      ],
      "execution_count": null,
      "outputs": []
    },
    {
      "cell_type": "code",
      "metadata": {
        "id": "sNUimx1JcuKe"
      },
      "source": [
        "play_obj = sa.play_buffer(audio, 1, 2, 16000)\n",
        "play_obj.wait_done()"
      ],
      "execution_count": null,
      "outputs": []
    },
    {
      "cell_type": "code",
      "metadata": {
        "colab": {
          "base_uri": "https://localhost:8080/",
          "height": 75
        },
        "id": "GMBwNZBaeZPI",
        "outputId": "723f6da9-abc1-451f-c6e5-470906654e1a"
      },
      "source": [
        ""
      ],
      "execution_count": 65,
      "outputs": [
        {
          "output_type": "execute_result",
          "data": {
            "text/html": [
              "\n",
              "                <audio controls=\"controls\" >\n",
              "                    <source src=\"data:audio/wav;base64,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\" type=\"audio/wav\" />\n",
              "                    Your browser does not support the audio element.\n",
              "                </audio>\n",
              "              "
            ],
            "text/plain": [
              "<IPython.lib.display.Audio object>"
            ]
          },
          "metadata": {
            "tags": []
          },
          "execution_count": 65
        }
      ]
    },
    {
      "cell_type": "code",
      "metadata": {
        "id": "8Fx2YZSzUSgN"
      },
      "source": [
        "import gc\n",
        "\n",
        "gc.collect()"
      ],
      "execution_count": null,
      "outputs": []
    }
  ]
}